{
 "cells": [
  {
   "cell_type": "code",
   "execution_count": 1,
   "id": "75915427",
   "metadata": {},
   "outputs": [
    {
     "data": {
      "text/html": [
       "\n",
       "        <div>\n",
       "            <p><b>SparkContext</b></p>\n",
       "\n",
       "            <p><a href=\"http://10.0.2.15:4040\">Spark UI</a></p>\n",
       "\n",
       "            <dl>\n",
       "              <dt>Version</dt>\n",
       "                <dd><code>v2.4.8</code></dd>\n",
       "              <dt>Master</dt>\n",
       "                <dd><code>local[*]</code></dd>\n",
       "              <dt>AppName</dt>\n",
       "                <dd><code>PySparkShell</code></dd>\n",
       "            </dl>\n",
       "        </div>\n",
       "        "
      ],
      "text/plain": [
       "<SparkContext master=local[*] appName=PySparkShell>"
      ]
     },
     "execution_count": 1,
     "metadata": {},
     "output_type": "execute_result"
    }
   ],
   "source": [
    "sc"
   ]
  },
  {
   "cell_type": "code",
   "execution_count": 2,
   "id": "04046fbc",
   "metadata": {},
   "outputs": [
    {
     "data": {
      "text/html": [
       "\n",
       "            <div>\n",
       "                <p><b>SparkSession - hive</b></p>\n",
       "                \n",
       "        <div>\n",
       "            <p><b>SparkContext</b></p>\n",
       "\n",
       "            <p><a href=\"http://10.0.2.15:4040\">Spark UI</a></p>\n",
       "\n",
       "            <dl>\n",
       "              <dt>Version</dt>\n",
       "                <dd><code>v2.4.8</code></dd>\n",
       "              <dt>Master</dt>\n",
       "                <dd><code>local[*]</code></dd>\n",
       "              <dt>AppName</dt>\n",
       "                <dd><code>PySparkShell</code></dd>\n",
       "            </dl>\n",
       "        </div>\n",
       "        \n",
       "            </div>\n",
       "        "
      ],
      "text/plain": [
       "<pyspark.sql.session.SparkSession at 0x7f7cfa7abb00>"
      ]
     },
     "execution_count": 2,
     "metadata": {},
     "output_type": "execute_result"
    }
   ],
   "source": [
    "spark"
   ]
  },
  {
   "cell_type": "markdown",
   "id": "6c0efb83",
   "metadata": {},
   "source": [
    "### 1. Read the Dataset"
   ]
  },
  {
   "cell_type": "code",
   "execution_count": 3,
   "id": "90656149",
   "metadata": {},
   "outputs": [
    {
     "data": {
      "text/plain": [
       "Row(customerID='7590-VHVEG', gender='Female', SeniorCitizen=0, Partner='Yes', Dependents='No', tenure=1, PhoneService='No', MultipleLines='No phone service', InternetService='DSL', OnlineSecurity='No', OnlineBackup='Yes', DeviceProtection='No', TechSupport='No', StreamingTV='No', StreamingMovies='No', Contract='Month-to-month', PaperlessBilling='Yes', PaymentMethod='Electronic check', MonthlyCharges=29.85, TotalCharges='29.85', Churn='No')"
      ]
     },
     "execution_count": 3,
     "metadata": {},
     "output_type": "execute_result"
    }
   ],
   "source": [
    "churn_data = spark.read.csv(\"file:///home/hadoop/Downloads/Telco_Customer_Churn.csv\",\n",
    "                            header = True, inferSchema= True)\n",
    "\n",
    "churn_data.head()"
   ]
  },
  {
   "cell_type": "code",
   "execution_count": 10,
   "id": "3f441f4a",
   "metadata": {},
   "outputs": [
    {
     "name": "stdout",
     "output_type": "stream",
     "text": [
      "+----------+------+-------------+-------+----------+------+------------+----------------+---------------+-------------------+-------------------+-------------------+-------------------+-------------------+-------------------+--------------+----------------+--------------------+--------------+------------+-----+\n",
      "|customerID|gender|SeniorCitizen|Partner|Dependents|tenure|PhoneService|   MultipleLines|InternetService|     OnlineSecurity|       OnlineBackup|   DeviceProtection|        TechSupport|        StreamingTV|    StreamingMovies|      Contract|PaperlessBilling|       PaymentMethod|MonthlyCharges|TotalCharges|Churn|\n",
      "+----------+------+-------------+-------+----------+------+------------+----------------+---------------+-------------------+-------------------+-------------------+-------------------+-------------------+-------------------+--------------+----------------+--------------------+--------------+------------+-----+\n",
      "|7590-VHVEG|Female|            0|    Yes|        No|     1|          No|No phone service|            DSL|                 No|                Yes|                 No|                 No|                 No|                 No|Month-to-month|             Yes|    Electronic check|         29.85|       29.85|   No|\n",
      "|5575-GNVDE|  Male|            0|     No|        No|    34|         Yes|              No|            DSL|                Yes|                 No|                Yes|                 No|                 No|                 No|      One year|              No|        Mailed check|         56.95|      1889.5|   No|\n",
      "|3668-QPYBK|  Male|            0|     No|        No|     2|         Yes|              No|            DSL|                Yes|                Yes|                 No|                 No|                 No|                 No|Month-to-month|             Yes|        Mailed check|         53.85|      108.15|  Yes|\n",
      "|7795-CFOCW|  Male|            0|     No|        No|    45|          No|No phone service|            DSL|                Yes|                 No|                Yes|                Yes|                 No|                 No|      One year|              No|Bank transfer (au...|          42.3|     1840.75|   No|\n",
      "|9237-HQITU|Female|            0|     No|        No|     2|         Yes|              No|    Fiber optic|                 No|                 No|                 No|                 No|                 No|                 No|Month-to-month|             Yes|    Electronic check|          70.7|      151.65|  Yes|\n",
      "|9305-CDSKC|Female|            0|     No|        No|     8|         Yes|             Yes|    Fiber optic|                 No|                 No|                Yes|                 No|                Yes|                Yes|Month-to-month|             Yes|    Electronic check|         99.65|       820.5|  Yes|\n",
      "|1452-KIOVK|  Male|            0|     No|       Yes|    22|         Yes|             Yes|    Fiber optic|                 No|                Yes|                 No|                 No|                Yes|                 No|Month-to-month|             Yes|Credit card (auto...|          89.1|      1949.4|   No|\n",
      "|6713-OKOMC|Female|            0|     No|        No|    10|          No|No phone service|            DSL|                Yes|                 No|                 No|                 No|                 No|                 No|Month-to-month|              No|        Mailed check|         29.75|       301.9|   No|\n",
      "|7892-POOKP|Female|            0|    Yes|        No|    28|         Yes|             Yes|    Fiber optic|                 No|                 No|                Yes|                Yes|                Yes|                Yes|Month-to-month|             Yes|    Electronic check|         104.8|     3046.05|  Yes|\n",
      "|6388-TABGU|  Male|            0|     No|       Yes|    62|         Yes|              No|            DSL|                Yes|                Yes|                 No|                 No|                 No|                 No|      One year|              No|Bank transfer (au...|         56.15|     3487.95|   No|\n",
      "|9763-GRSKD|  Male|            0|    Yes|       Yes|    13|         Yes|              No|            DSL|                Yes|                 No|                 No|                 No|                 No|                 No|Month-to-month|             Yes|        Mailed check|         49.95|      587.45|   No|\n",
      "|7469-LKBCI|  Male|            0|     No|        No|    16|         Yes|              No|             No|No internet service|No internet service|No internet service|No internet service|No internet service|No internet service|      Two year|              No|Credit card (auto...|         18.95|       326.8|   No|\n",
      "|8091-TTVAX|  Male|            0|    Yes|        No|    58|         Yes|             Yes|    Fiber optic|                 No|                 No|                Yes|                 No|                Yes|                Yes|      One year|              No|Credit card (auto...|        100.35|      5681.1|   No|\n",
      "|0280-XJGEX|  Male|            0|     No|        No|    49|         Yes|             Yes|    Fiber optic|                 No|                Yes|                Yes|                 No|                Yes|                Yes|Month-to-month|             Yes|Bank transfer (au...|         103.7|      5036.3|  Yes|\n",
      "|5129-JLPIS|  Male|            0|     No|        No|    25|         Yes|              No|    Fiber optic|                Yes|                 No|                Yes|                Yes|                Yes|                Yes|Month-to-month|             Yes|    Electronic check|         105.5|     2686.05|   No|\n",
      "|3655-SNQYZ|Female|            0|    Yes|       Yes|    69|         Yes|             Yes|    Fiber optic|                Yes|                Yes|                Yes|                Yes|                Yes|                Yes|      Two year|              No|Credit card (auto...|        113.25|     7895.15|   No|\n",
      "|8191-XWSZG|Female|            0|     No|        No|    52|         Yes|              No|             No|No internet service|No internet service|No internet service|No internet service|No internet service|No internet service|      One year|              No|        Mailed check|         20.65|     1022.95|   No|\n",
      "|9959-WOFKT|  Male|            0|     No|       Yes|    71|         Yes|             Yes|    Fiber optic|                Yes|                 No|                Yes|                 No|                Yes|                Yes|      Two year|              No|Bank transfer (au...|         106.7|     7382.25|   No|\n",
      "|4190-MFLUW|Female|            0|    Yes|       Yes|    10|         Yes|              No|            DSL|                 No|                 No|                Yes|                Yes|                 No|                 No|Month-to-month|              No|Credit card (auto...|          55.2|      528.35|  Yes|\n",
      "|4183-MYFRB|Female|            0|     No|        No|    21|         Yes|              No|    Fiber optic|                 No|                Yes|                Yes|                 No|                 No|                Yes|Month-to-month|             Yes|    Electronic check|         90.05|      1862.9|   No|\n",
      "+----------+------+-------------+-------+----------+------+------------+----------------+---------------+-------------------+-------------------+-------------------+-------------------+-------------------+-------------------+--------------+----------------+--------------------+--------------+------------+-----+\n",
      "only showing top 20 rows\n",
      "\n"
     ]
    }
   ],
   "source": [
    "churn_data.show()"
   ]
  },
  {
   "cell_type": "markdown",
   "id": "4821ee6a",
   "metadata": {},
   "source": [
    "### 2. Data Exploration\n",
    "    a) How many customer records are in the dataset"
   ]
  },
  {
   "cell_type": "code",
   "execution_count": 4,
   "id": "48838a38",
   "metadata": {},
   "outputs": [
    {
     "data": {
      "text/plain": [
       "7043"
      ]
     },
     "execution_count": 4,
     "metadata": {},
     "output_type": "execute_result"
    }
   ],
   "source": [
    "churn_data.count()"
   ]
  },
  {
   "cell_type": "code",
   "execution_count": 5,
   "id": "2d080899",
   "metadata": {},
   "outputs": [
    {
     "data": {
      "text/plain": [
       "21"
      ]
     },
     "execution_count": 5,
     "metadata": {},
     "output_type": "execute_result"
    }
   ],
   "source": [
    "len(churn_data.columns)"
   ]
  },
  {
   "cell_type": "code",
   "execution_count": 6,
   "id": "b683bad1",
   "metadata": {},
   "outputs": [
    {
     "data": {
      "text/plain": [
       "['customerID',\n",
       " 'gender',\n",
       " 'SeniorCitizen',\n",
       " 'Partner',\n",
       " 'Dependents',\n",
       " 'tenure',\n",
       " 'PhoneService',\n",
       " 'MultipleLines',\n",
       " 'InternetService',\n",
       " 'OnlineSecurity',\n",
       " 'OnlineBackup',\n",
       " 'DeviceProtection',\n",
       " 'TechSupport',\n",
       " 'StreamingTV',\n",
       " 'StreamingMovies',\n",
       " 'Contract',\n",
       " 'PaperlessBilling',\n",
       " 'PaymentMethod',\n",
       " 'MonthlyCharges',\n",
       " 'TotalCharges',\n",
       " 'Churn']"
      ]
     },
     "execution_count": 6,
     "metadata": {},
     "output_type": "execute_result"
    }
   ],
   "source": [
    "churn_data.columns"
   ]
  },
  {
   "cell_type": "markdown",
   "id": "d629ad51",
   "metadata": {},
   "source": [
    "### b) What is the distribution of gender among customers?"
   ]
  },
  {
   "cell_type": "code",
   "execution_count": 8,
   "id": "82ec27ec",
   "metadata": {},
   "outputs": [
    {
     "name": "stdout",
     "output_type": "stream",
     "text": [
      "root\n",
      " |-- customerID: string (nullable = true)\n",
      " |-- gender: string (nullable = true)\n",
      " |-- SeniorCitizen: integer (nullable = true)\n",
      " |-- Partner: string (nullable = true)\n",
      " |-- Dependents: string (nullable = true)\n",
      " |-- tenure: integer (nullable = true)\n",
      " |-- PhoneService: string (nullable = true)\n",
      " |-- MultipleLines: string (nullable = true)\n",
      " |-- InternetService: string (nullable = true)\n",
      " |-- OnlineSecurity: string (nullable = true)\n",
      " |-- OnlineBackup: string (nullable = true)\n",
      " |-- DeviceProtection: string (nullable = true)\n",
      " |-- TechSupport: string (nullable = true)\n",
      " |-- StreamingTV: string (nullable = true)\n",
      " |-- StreamingMovies: string (nullable = true)\n",
      " |-- Contract: string (nullable = true)\n",
      " |-- PaperlessBilling: string (nullable = true)\n",
      " |-- PaymentMethod: string (nullable = true)\n",
      " |-- MonthlyCharges: double (nullable = true)\n",
      " |-- TotalCharges: string (nullable = true)\n",
      " |-- Churn: string (nullable = true)\n",
      "\n"
     ]
    }
   ],
   "source": [
    "churn_data.printSchema()"
   ]
  },
  {
   "cell_type": "code",
   "execution_count": 9,
   "id": "b553777b",
   "metadata": {},
   "outputs": [
    {
     "name": "stdout",
     "output_type": "stream",
     "text": [
      "+------+-----+\n",
      "|gender|count|\n",
      "+------+-----+\n",
      "|Female| 3488|\n",
      "|  Male| 3555|\n",
      "+------+-----+\n",
      "\n"
     ]
    }
   ],
   "source": [
    "churn_data.groupBy(['gender']).count().show()"
   ]
  },
  {
   "cell_type": "markdown",
   "id": "83dbbdc3",
   "metadata": {},
   "source": [
    "### c) What is the distribution of contract type"
   ]
  },
  {
   "cell_type": "code",
   "execution_count": 11,
   "id": "87e6ca6e",
   "metadata": {},
   "outputs": [
    {
     "name": "stdout",
     "output_type": "stream",
     "text": [
      "+--------------+-----+\n",
      "|      Contract|count|\n",
      "+--------------+-----+\n",
      "|Month-to-month| 3875|\n",
      "|      One year| 1473|\n",
      "|      Two year| 1695|\n",
      "+--------------+-----+\n",
      "\n"
     ]
    }
   ],
   "source": [
    "churn_data.groupBy(['Contract']).count().show()"
   ]
  },
  {
   "cell_type": "markdown",
   "id": "93cde71d",
   "metadata": {},
   "source": [
    "### d) Percentage of customers who churned?"
   ]
  },
  {
   "cell_type": "code",
   "execution_count": 13,
   "id": "b42c7314",
   "metadata": {},
   "outputs": [
    {
     "data": {
      "text/plain": [
       "1869"
      ]
     },
     "execution_count": 13,
     "metadata": {},
     "output_type": "execute_result"
    }
   ],
   "source": [
    "churn_data.select(['Churn']).where(\"Churn = 'Yes'\").count()"
   ]
  },
  {
   "cell_type": "code",
   "execution_count": 14,
   "id": "7289fe6b",
   "metadata": {},
   "outputs": [
    {
     "data": {
      "text/plain": [
       "26.536987079369588"
      ]
     },
     "execution_count": 14,
     "metadata": {},
     "output_type": "execute_result"
    }
   ],
   "source": [
    "(churn_data.select(['Churn']).where(\"Churn = 'Yes'\").count()/ churn_data.count())*100"
   ]
  },
  {
   "cell_type": "markdown",
   "id": "5e50b5ed",
   "metadata": {},
   "source": [
    "### 3. Data PreprocessIng\n",
    "    * Check for missing values and handle missing data"
   ]
  },
  {
   "cell_type": "code",
   "execution_count": 16,
   "id": "46552ad5",
   "metadata": {},
   "outputs": [],
   "source": [
    "from pyspark.sql.functions import *\n",
    "from pyspark.sql.types import *"
   ]
  },
  {
   "cell_type": "code",
   "execution_count": 18,
   "id": "5c50b722",
   "metadata": {},
   "outputs": [
    {
     "name": "stdout",
     "output_type": "stream",
     "text": [
      "+----------+------+-------------+-------+----------+------+------------+-------------+---------------+--------------+------------+----------------+-----------+-----------+---------------+--------+----------------+-------------+--------------+------------+-----+\n",
      "|customerID|gender|SeniorCitizen|Partner|Dependents|tenure|PhoneService|MultipleLines|InternetService|OnlineSecurity|OnlineBackup|DeviceProtection|TechSupport|StreamingTV|StreamingMovies|Contract|PaperlessBilling|PaymentMethod|MonthlyCharges|TotalCharges|Churn|\n",
      "+----------+------+-------------+-------+----------+------+------------+-------------+---------------+--------------+------------+----------------+-----------+-----------+---------------+--------+----------------+-------------+--------------+------------+-----+\n",
      "|         0|     0|            0|      0|         0|     0|           0|            0|              0|             0|           0|               0|          0|          0|              0|       0|               0|            0|             0|           0|    0|\n",
      "+----------+------+-------------+-------+----------+------+------------+-------------+---------------+--------------+------------+----------------+-----------+-----------+---------------+--------+----------------+-------------+--------------+------------+-----+\n",
      "\n"
     ]
    }
   ],
   "source": [
    "churn_data.select([count(when(isnull(col),col)).alias(col) for col in churn_data.columns]).show()"
   ]
  },
  {
   "cell_type": "code",
   "execution_count": 20,
   "id": "2bc4e515",
   "metadata": {},
   "outputs": [],
   "source": [
    "churn_data = churn_data.withColumn('TotalCharges', when(col('TotalCharges')== \" \",None)\\\n",
    "                     .otherwise(col(\"TotAlCharges\")))"
   ]
  },
  {
   "cell_type": "code",
   "execution_count": 21,
   "id": "e769518a",
   "metadata": {},
   "outputs": [
    {
     "name": "stdout",
     "output_type": "stream",
     "text": [
      "+----------+------+-------------+-------+----------+------+------------+-------------+---------------+--------------+------------+----------------+-----------+-----------+---------------+--------+----------------+-------------+--------------+------------+-----+\n",
      "|customerID|gender|SeniorCitizen|Partner|Dependents|tenure|PhoneService|MultipleLines|InternetService|OnlineSecurity|OnlineBackup|DeviceProtection|TechSupport|StreamingTV|StreamingMovies|Contract|PaperlessBilling|PaymentMethod|MonthlyCharges|TotalCharges|Churn|\n",
      "+----------+------+-------------+-------+----------+------+------------+-------------+---------------+--------------+------------+----------------+-----------+-----------+---------------+--------+----------------+-------------+--------------+------------+-----+\n",
      "|         0|     0|            0|      0|         0|     0|           0|            0|              0|             0|           0|               0|          0|          0|              0|       0|               0|            0|             0|          11|    0|\n",
      "+----------+------+-------------+-------+----------+------+------------+-------------+---------------+--------------+------------+----------------+-----------+-----------+---------------+--------+----------------+-------------+--------------+------------+-----+\n",
      "\n"
     ]
    }
   ],
   "source": [
    "churn_data.select([count(when(isnull(col),col)).alias(col) for col in churn_data.columns]).show()"
   ]
  },
  {
   "cell_type": "code",
   "execution_count": 22,
   "id": "5238487f",
   "metadata": {},
   "outputs": [],
   "source": [
    "churn_data1 = churn_data.na.drop()"
   ]
  },
  {
   "cell_type": "code",
   "execution_count": 23,
   "id": "a537829a",
   "metadata": {},
   "outputs": [],
   "source": [
    "from pyspark.sql.types import FloatType\n",
    "churn_data1 = churn_data1.withColumn('TotalCharges', col('TotalCharges').cast(FloatType()))"
   ]
  },
  {
   "cell_type": "markdown",
   "id": "ef1f5511",
   "metadata": {},
   "source": [
    "### 4. Import MLlib\n",
    "    f) Convert categorical variables into numerical format using one-hot encoding or label encoding "
   ]
  },
  {
   "cell_type": "code",
   "execution_count": 46,
   "id": "b5f8d9b0",
   "metadata": {},
   "outputs": [],
   "source": [
    "churn_data1 = churn_data1.drop(col('CustomerID'))"
   ]
  },
  {
   "cell_type": "code",
   "execution_count": 48,
   "id": "7d0cd94b",
   "metadata": {},
   "outputs": [],
   "source": [
    "from pyspark.ml.feature import StringIndexer, OneHotEncoderEstimator, VectorAssembler\n",
    "from pyspark.ml import Pipeline"
   ]
  },
  {
   "cell_type": "code",
   "execution_count": 49,
   "id": "0e130211",
   "metadata": {},
   "outputs": [
    {
     "data": {
      "text/plain": [
       "['customerID',\n",
       " 'gender',\n",
       " 'SeniorCitizen',\n",
       " 'Partner',\n",
       " 'Dependents',\n",
       " 'tenure',\n",
       " 'PhoneService',\n",
       " 'MultipleLines',\n",
       " 'InternetService',\n",
       " 'OnlineSecurity',\n",
       " 'OnlineBackup',\n",
       " 'DeviceProtection',\n",
       " 'TechSupport',\n",
       " 'StreamingTV',\n",
       " 'StreamingMovies',\n",
       " 'Contract',\n",
       " 'PaperlessBilling',\n",
       " 'PaymentMethod',\n",
       " 'MonthlyCharges',\n",
       " 'TotalCharges',\n",
       " 'Churn']"
      ]
     },
     "execution_count": 49,
     "metadata": {},
     "output_type": "execute_result"
    }
   ],
   "source": [
    "churn_data1.columns"
   ]
  },
  {
   "cell_type": "code",
   "execution_count": 50,
   "id": "3ff0f25b",
   "metadata": {},
   "outputs": [],
   "source": [
    "categorical_cols = [field.name for field in churn_data1.schema.fields if isinstance(field.dataType, StringType)]"
   ]
  },
  {
   "cell_type": "code",
   "execution_count": 51,
   "id": "9abb055c",
   "metadata": {},
   "outputs": [
    {
     "data": {
      "text/plain": [
       "['customerID',\n",
       " 'gender',\n",
       " 'Partner',\n",
       " 'Dependents',\n",
       " 'PhoneService',\n",
       " 'MultipleLines',\n",
       " 'InternetService',\n",
       " 'OnlineSecurity',\n",
       " 'OnlineBackup',\n",
       " 'DeviceProtection',\n",
       " 'TechSupport',\n",
       " 'StreamingTV',\n",
       " 'StreamingMovies',\n",
       " 'Contract',\n",
       " 'PaperlessBilling',\n",
       " 'PaymentMethod',\n",
       " 'Churn']"
      ]
     },
     "execution_count": 51,
     "metadata": {},
     "output_type": "execute_result"
    }
   ],
   "source": [
    "categorical_cols"
   ]
  },
  {
   "cell_type": "code",
   "execution_count": 53,
   "id": "fd9a0fc8",
   "metadata": {},
   "outputs": [],
   "source": [
    "stages = []\n",
    "\n",
    "for catcols in categorical_cols[:-1]:\n",
    "    stringindexer = StringIndexer(inputCol = catcols, outputCol=catcols + \"Index\")\n",
    "    onehotencoder = OneHotEncoderEstimator(inputCols=[stringindexer.getOutputCol()],\n",
    "                                           outputCols = [catcols + \"classVec\"])\n",
    "    stages += [stringindexer, onehotencoder]"
   ]
  },
  {
   "cell_type": "code",
   "execution_count": 54,
   "id": "105235bd",
   "metadata": {},
   "outputs": [],
   "source": [
    "numericalCols = [field.name for field in churn_data1.schema.fields \n",
    "                 if not isinstance(field.dataType, StringType)]"
   ]
  },
  {
   "cell_type": "code",
   "execution_count": 55,
   "id": "57eccbb5",
   "metadata": {},
   "outputs": [],
   "source": [
    "assemblerInputs = [c + \"classVec\" for c in categorical_cols[:-1]] + numericalCols\n",
    "assembler = VectorAssembler(inputCols = assemblerInputs,outputCol=\"features\")\n",
    "stages += [assembler]"
   ]
  },
  {
   "cell_type": "code",
   "execution_count": 56,
   "id": "1bf006d5",
   "metadata": {},
   "outputs": [],
   "source": [
    "label_stringIdx = StringIndexer(inputCol='Churn', outputCol = 'label')"
   ]
  },
  {
   "cell_type": "code",
   "execution_count": 57,
   "id": "03240bf1",
   "metadata": {},
   "outputs": [],
   "source": [
    "stages += [label_stringIdx]"
   ]
  },
  {
   "cell_type": "code",
   "execution_count": 58,
   "id": "11dd7cae",
   "metadata": {},
   "outputs": [],
   "source": [
    "pipeline = Pipeline(stages = stages)"
   ]
  },
  {
   "cell_type": "code",
   "execution_count": 59,
   "id": "32078cd5",
   "metadata": {},
   "outputs": [],
   "source": [
    "preprocessing = pipeline.fit(churn_data1)"
   ]
  },
  {
   "cell_type": "code",
   "execution_count": 60,
   "id": "d003735a",
   "metadata": {},
   "outputs": [],
   "source": [
    "churn_df = preprocessing.transform(churn_data1)"
   ]
  },
  {
   "cell_type": "code",
   "execution_count": 61,
   "id": "cac0db71",
   "metadata": {},
   "outputs": [
    {
     "name": "stdout",
     "output_type": "stream",
     "text": [
      "+------+-----------+--------------+\n",
      "|gender|genderIndex|genderclassVec|\n",
      "+------+-----------+--------------+\n",
      "|Female|        1.0|     (1,[],[])|\n",
      "|  Male|        0.0| (1,[0],[1.0])|\n",
      "|  Male|        0.0| (1,[0],[1.0])|\n",
      "|  Male|        0.0| (1,[0],[1.0])|\n",
      "|Female|        1.0|     (1,[],[])|\n",
      "|Female|        1.0|     (1,[],[])|\n",
      "|  Male|        0.0| (1,[0],[1.0])|\n",
      "|Female|        1.0|     (1,[],[])|\n",
      "|Female|        1.0|     (1,[],[])|\n",
      "|  Male|        0.0| (1,[0],[1.0])|\n",
      "|  Male|        0.0| (1,[0],[1.0])|\n",
      "|  Male|        0.0| (1,[0],[1.0])|\n",
      "|  Male|        0.0| (1,[0],[1.0])|\n",
      "|  Male|        0.0| (1,[0],[1.0])|\n",
      "|  Male|        0.0| (1,[0],[1.0])|\n",
      "|Female|        1.0|     (1,[],[])|\n",
      "|Female|        1.0|     (1,[],[])|\n",
      "|  Male|        0.0| (1,[0],[1.0])|\n",
      "|Female|        1.0|     (1,[],[])|\n",
      "|Female|        1.0|     (1,[],[])|\n",
      "+------+-----------+--------------+\n",
      "only showing top 20 rows\n",
      "\n"
     ]
    }
   ],
   "source": [
    "churn_df.select(['gender','genderIndex','genderclassVec']).show()"
   ]
  },
  {
   "cell_type": "code",
   "execution_count": 62,
   "id": "3ee80b4b",
   "metadata": {},
   "outputs": [
    {
     "name": "stdout",
     "output_type": "stream",
     "text": [
      "+------------------------------------------------------------------------------------------------------------------------------------------------------------------------------------------------------+-----+\n",
      "|features                                                                                                                                                                                              |label|\n",
      "+------------------------------------------------------------------------------------------------------------------------------------------------------------------------------------------------------+-----+\n",
      "|(7061,[1950,7033,7038,7039,7042,7043,7045,7047,7049,7051,7053,7054,7058,7059,7060],[1.0,1.0,1.0,1.0,1.0,1.0,1.0,1.0,1.0,1.0,1.0,1.0,1.0,29.85,29.850000381469727])                                    |0.0  |\n",
      "|(7061,[776,7031,7032,7033,7034,7035,7038,7040,7041,7044,7045,7047,7049,7055,7058,7059,7060],[1.0,1.0,1.0,1.0,1.0,1.0,1.0,1.0,1.0,1.0,1.0,1.0,1.0,1.0,34.0,56.95,1889.5])                              |0.0  |\n",
      "|(7061,[3799,7031,7032,7033,7034,7035,7038,7040,7042,7043,7045,7047,7049,7051,7053,7055,7058,7059,7060],[1.0,1.0,1.0,1.0,1.0,1.0,1.0,1.0,1.0,1.0,1.0,1.0,1.0,1.0,1.0,1.0,2.0,53.85,108.1500015258789]) |1.0  |\n",
      "|(7061,[4732,7031,7032,7033,7038,7040,7041,7044,7046,7047,7049,7056,7058,7059,7060],[1.0,1.0,1.0,1.0,1.0,1.0,1.0,1.0,1.0,1.0,1.0,1.0,45.0,42.3,1840.75])                                               |0.0  |\n",
      "|(7061,[2476,7032,7033,7034,7035,7037,7039,7041,7043,7045,7047,7049,7051,7053,7054,7058,7059,7060],[1.0,1.0,1.0,1.0,1.0,1.0,1.0,1.0,1.0,1.0,1.0,1.0,1.0,1.0,1.0,2.0,70.7,151.64999389648438])          |1.0  |\n",
      "|(7061,[1704,7032,7033,7034,7036,7037,7039,7041,7044,7045,7048,7050,7051,7053,7054,7058,7059,7060],[1.0,1.0,1.0,1.0,1.0,1.0,1.0,1.0,1.0,1.0,1.0,1.0,1.0,1.0,1.0,8.0,99.65,820.5])                      |1.0  |\n",
      "|(7061,[2560,7031,7032,7034,7036,7037,7039,7042,7043,7045,7048,7049,7051,7053,7058,7059,7060],[1.0,1.0,1.0,1.0,1.0,1.0,1.0,1.0,1.0,1.0,1.0,1.0,1.0,1.0,22.0,89.1,1949.4000244140625])                  |0.0  |\n",
      "|(7061,[3462,7032,7033,7038,7040,7041,7043,7045,7047,7049,7051,7055,7058,7059,7060],[1.0,1.0,1.0,1.0,1.0,1.0,1.0,1.0,1.0,1.0,1.0,1.0,10.0,29.75,301.8999938964844])                                    |0.0  |\n",
      "|(7061,[284,7033,7034,7036,7037,7039,7041,7044,7046,7048,7050,7051,7053,7054,7058,7059,7060],[1.0,1.0,1.0,1.0,1.0,1.0,1.0,1.0,1.0,1.0,1.0,1.0,1.0,1.0,28.0,104.8,3046.050048828125])                   |1.0  |\n",
      "|(7061,[6591,7031,7032,7034,7035,7038,7040,7042,7043,7045,7047,7049,7056,7058,7059,7060],[1.0,1.0,1.0,1.0,1.0,1.0,1.0,1.0,1.0,1.0,1.0,1.0,1.0,62.0,56.15,3487.949951171875])                           |0.0  |\n",
      "|(7061,[2176,7031,7034,7035,7038,7040,7041,7043,7045,7047,7049,7051,7053,7055,7058,7059,7060],[1.0,1.0,1.0,1.0,1.0,1.0,1.0,1.0,1.0,1.0,1.0,1.0,1.0,1.0,13.0,49.95,587.4500122070312])                  |0.0  |\n",
      "|(7061,[2167,7031,7032,7033,7034,7035,7052,7058,7059,7060],[1.0,1.0,1.0,1.0,1.0,1.0,1.0,16.0,18.95,326.79998779296875])                                                                                |0.0  |\n",
      "|(7061,[1022,7031,7033,7034,7036,7037,7039,7041,7044,7045,7048,7050,7058,7059,7060],[1.0,1.0,1.0,1.0,1.0,1.0,1.0,1.0,1.0,1.0,1.0,1.0,58.0,100.35,5681.10009765625])                                    |0.0  |\n",
      "|(7061,[3596,7031,7032,7033,7034,7036,7037,7039,7042,7044,7045,7048,7050,7051,7053,7056,7058,7059,7060],[1.0,1.0,1.0,1.0,1.0,1.0,1.0,1.0,1.0,1.0,1.0,1.0,1.0,1.0,1.0,1.0,49.0,103.7,5036.2998046875])  |1.0  |\n",
      "|(7061,[5335,7031,7032,7033,7034,7035,7037,7040,7041,7044,7046,7048,7050,7051,7053,7054,7058,7059,7060],[1.0,1.0,1.0,1.0,1.0,1.0,1.0,1.0,1.0,1.0,1.0,1.0,1.0,1.0,1.0,1.0,25.0,105.5,2686.050048828125])|0.0  |\n",
      "|(7061,[6451,7034,7036,7037,7040,7042,7044,7046,7048,7050,7052,7058,7059,7060],[1.0,1.0,1.0,1.0,1.0,1.0,1.0,1.0,1.0,1.0,1.0,69.0,113.25,7895.14990234375])                                             |0.0  |\n",
      "|(7061,[6265,7032,7033,7034,7035,7055,7058,7059,7060],[1.0,1.0,1.0,1.0,1.0,1.0,52.0,20.65,1022.9500122070312])                                                                                         |0.0  |\n",
      "|(7061,[2645,7031,7032,7034,7036,7037,7040,7041,7044,7045,7048,7050,7052,7056,7058,7059,7060],[1.0,1.0,1.0,1.0,1.0,1.0,1.0,1.0,1.0,1.0,1.0,1.0,1.0,1.0,71.0,106.7,7382.25])                            |0.0  |\n",
      "|(7061,[4159,7034,7035,7038,7039,7041,7044,7046,7047,7049,7051,7058,7059,7060],[1.0,1.0,1.0,1.0,1.0,1.0,1.0,1.0,1.0,1.0,1.0,10.0,55.2,528.3499755859375])                                              |1.0  |\n",
      "|(7061,[1376,7032,7033,7034,7035,7037,7039,7042,7044,7045,7047,7050,7051,7053,7054,7058,7059,7060],[1.0,1.0,1.0,1.0,1.0,1.0,1.0,1.0,1.0,1.0,1.0,1.0,1.0,1.0,1.0,21.0,90.05,1862.9000244140625])        |0.0  |\n",
      "+------------------------------------------------------------------------------------------------------------------------------------------------------------------------------------------------------+-----+\n",
      "only showing top 20 rows\n",
      "\n"
     ]
    }
   ],
   "source": [
    "churn_df1 = churn_df.select([\"features\",\"label\"])\n",
    "churn_df1.show(truncate = False)"
   ]
  },
  {
   "cell_type": "markdown",
   "id": "a90681d9",
   "metadata": {},
   "source": [
    "###  Split Dataset into Train and Test"
   ]
  },
  {
   "cell_type": "code",
   "execution_count": 90,
   "id": "4c29e60d",
   "metadata": {},
   "outputs": [],
   "source": [
    "train, test = churn_df1.randomSplit([0.8,0.2], seed = 42)"
   ]
  },
  {
   "cell_type": "code",
   "execution_count": 91,
   "id": "24f3829c",
   "metadata": {},
   "outputs": [
    {
     "data": {
      "text/plain": [
       "DataFrame[features: vector, label: double]"
      ]
     },
     "execution_count": 91,
     "metadata": {},
     "output_type": "execute_result"
    }
   ],
   "source": [
    "train.select(['features','label'])"
   ]
  },
  {
   "cell_type": "markdown",
   "id": "8abc5e52",
   "metadata": {},
   "source": [
    "### Build Decision Tree ML Model"
   ]
  },
  {
   "cell_type": "code",
   "execution_count": 92,
   "id": "9f6255ff",
   "metadata": {},
   "outputs": [],
   "source": [
    "from pyspark.ml.classification import DecisionTreeClassifier, RandomForestClassifier\n",
    "tree = DecisionTreeClassifier(featuresCol='features',labelCol='label')\n",
    "decision_model = tree.fit(train)"
   ]
  },
  {
   "cell_type": "markdown",
   "id": "439da25b",
   "metadata": {},
   "source": [
    "### Evaluate the model"
   ]
  },
  {
   "cell_type": "code",
   "execution_count": 93,
   "id": "275bb9b4",
   "metadata": {},
   "outputs": [],
   "source": [
    "predictions = decision_model.transform(test)"
   ]
  },
  {
   "cell_type": "code",
   "execution_count": 94,
   "id": "05111259",
   "metadata": {},
   "outputs": [
    {
     "name": "stdout",
     "output_type": "stream",
     "text": [
      "+-----+-----------------------------------------+----------+\n",
      "|label|probability                              |prediction|\n",
      "+-----+-----------------------------------------+----------+\n",
      "|1.0  |[0.800650054171181,0.19934994582881907]  |0.0       |\n",
      "|0.0  |[0.36984126984126986,0.6301587301587301] |1.0       |\n",
      "|0.0  |[0.9163987138263665,0.08360128617363344] |0.0       |\n",
      "|0.0  |[0.6940874035989717,0.3059125964010283]  |0.0       |\n",
      "|0.0  |[0.9163987138263665,0.08360128617363344] |0.0       |\n",
      "|0.0  |[0.8722627737226277,0.12773722627737227] |0.0       |\n",
      "|0.0  |[0.9778672032193159,0.022132796780684104]|0.0       |\n",
      "|0.0  |[0.9778672032193159,0.022132796780684104]|0.0       |\n",
      "|0.0  |[0.800650054171181,0.19934994582881907]  |0.0       |\n",
      "|0.0  |[0.7348993288590604,0.2651006711409396]  |0.0       |\n",
      "|1.0  |[0.9163987138263665,0.08360128617363344] |0.0       |\n",
      "|0.0  |[0.9778672032193159,0.022132796780684104]|0.0       |\n",
      "|0.0  |[0.36984126984126986,0.6301587301587301] |1.0       |\n",
      "|1.0  |[0.6940874035989717,0.3059125964010283]  |0.0       |\n",
      "|1.0  |[0.36984126984126986,0.6301587301587301] |1.0       |\n",
      "|1.0  |[0.12169312169312169,0.8783068783068783] |1.0       |\n",
      "|0.0  |[0.9163987138263665,0.08360128617363344] |0.0       |\n",
      "|1.0  |[0.12169312169312169,0.8783068783068783] |1.0       |\n",
      "|1.0  |[0.4897025171624714,0.5102974828375286]  |1.0       |\n",
      "|1.0  |[0.12169312169312169,0.8783068783068783] |1.0       |\n",
      "+-----+-----------------------------------------+----------+\n",
      "only showing top 20 rows\n",
      "\n"
     ]
    }
   ],
   "source": [
    "predictions.select(['label','probability','prediction']).show(truncate=False)"
   ]
  },
  {
   "cell_type": "code",
   "execution_count": 95,
   "id": "48a857e8",
   "metadata": {},
   "outputs": [
    {
     "data": {
      "text/plain": [
       "0.805575935436537"
      ]
     },
     "execution_count": 95,
     "metadata": {},
     "output_type": "execute_result"
    }
   ],
   "source": [
    "from pyspark.ml.evaluation import MulticlassClassificationEvaluator\n",
    "evaluator = MulticlassClassificationEvaluator(labelCol='label',predictionCol='prediction',\n",
    "                                             metricName='accuracy')\n",
    "\n",
    "accuracy = evaluator.evaluate(predictions)\n",
    "accuracy"
   ]
  },
  {
   "cell_type": "markdown",
   "id": "484dbdca",
   "metadata": {},
   "source": [
    "### Build Random Forest ML Model"
   ]
  },
  {
   "cell_type": "code",
   "execution_count": 96,
   "id": "3d5f2647",
   "metadata": {},
   "outputs": [],
   "source": [
    "from pyspark.ml.classification import RandomForestClassifier\n",
    "randomForest = RandomForestClassifier(featuresCol='features',labelCol='label')\n",
    "rf_model = randomForest.fit(train)"
   ]
  },
  {
   "cell_type": "code",
   "execution_count": 97,
   "id": "5bf56c23",
   "metadata": {},
   "outputs": [],
   "source": [
    "predictions = rf_model.transform(test)"
   ]
  },
  {
   "cell_type": "code",
   "execution_count": 98,
   "id": "a8855cd0",
   "metadata": {},
   "outputs": [
    {
     "data": {
      "text/plain": [
       "0.7248716067498165"
      ]
     },
     "execution_count": 98,
     "metadata": {},
     "output_type": "execute_result"
    }
   ],
   "source": [
    "from pyspark.ml.evaluation import MulticlassClassificationEvaluator\n",
    "evaluator = MulticlassClassificationEvaluator(labelCol='label',predictionCol='prediction',\n",
    "                                             metricName='accuracy')\n",
    "\n",
    "accuracy = evaluator.evaluate(predictions)\n",
    "accuracy"
   ]
  },
  {
   "cell_type": "markdown",
   "id": "be1d8d96",
   "metadata": {},
   "source": [
    "### Logistic Regression ML Model"
   ]
  },
  {
   "cell_type": "markdown",
   "id": "68cc6f48",
   "metadata": {},
   "source": [
    "* perform well with binary classification"
   ]
  },
  {
   "cell_type": "code",
   "execution_count": 103,
   "id": "ac5bf99a",
   "metadata": {},
   "outputs": [],
   "source": [
    "from pyspark.ml.classification import LogisticRegression\n",
    "logistic = LogisticRegression(featuresCol='features',labelCol='label')\n",
    "logistic_model = logistic.fit(train)"
   ]
  },
  {
   "cell_type": "code",
   "execution_count": 104,
   "id": "ce07a572",
   "metadata": {},
   "outputs": [],
   "source": [
    "predictions = logistic_model.transform(test)"
   ]
  },
  {
   "cell_type": "code",
   "execution_count": 105,
   "id": "1b75dd2d",
   "metadata": {},
   "outputs": [
    {
     "data": {
      "text/plain": [
       "0.7989728539985327"
      ]
     },
     "execution_count": 105,
     "metadata": {},
     "output_type": "execute_result"
    }
   ],
   "source": [
    "from pyspark.ml.evaluation import MulticlassClassificationEvaluator\n",
    "evaluator = MulticlassClassificationEvaluator(labelCol='label',predictionCol='prediction',\n",
    "                                             metricName='accuracy')\n",
    "\n",
    "accuracy = evaluator.evaluate(predictions)\n",
    "accuracy"
   ]
  },
  {
   "cell_type": "code",
   "execution_count": null,
   "id": "e70141ac",
   "metadata": {},
   "outputs": [],
   "source": []
  }
 ],
 "metadata": {
  "kernelspec": {
   "display_name": "Python 3",
   "language": "python",
   "name": "python3"
  },
  "language_info": {
   "codemirror_mode": {
    "name": "ipython",
    "version": 3
   },
   "file_extension": ".py",
   "mimetype": "text/x-python",
   "name": "python",
   "nbconvert_exporter": "python",
   "pygments_lexer": "ipython3",
   "version": "3.6.9"
  }
 },
 "nbformat": 4,
 "nbformat_minor": 5
}
