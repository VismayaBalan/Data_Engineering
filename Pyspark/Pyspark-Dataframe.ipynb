{
 "cells": [
  {
   "cell_type": "code",
   "execution_count": 1,
   "id": "9ef15f7a",
   "metadata": {},
   "outputs": [
    {
     "data": {
      "text/html": [
       "\n",
       "        <div>\n",
       "            <p><b>SparkContext</b></p>\n",
       "\n",
       "            <p><a href=\"http://10.0.2.15:4042\">Spark UI</a></p>\n",
       "\n",
       "            <dl>\n",
       "              <dt>Version</dt>\n",
       "                <dd><code>v2.4.8</code></dd>\n",
       "              <dt>Master</dt>\n",
       "                <dd><code>local[*]</code></dd>\n",
       "              <dt>AppName</dt>\n",
       "                <dd><code>PySparkShell</code></dd>\n",
       "            </dl>\n",
       "        </div>\n",
       "        "
      ],
      "text/plain": [
       "<SparkContext master=local[*] appName=PySparkShell>"
      ]
     },
     "execution_count": 1,
     "metadata": {},
     "output_type": "execute_result"
    }
   ],
   "source": [
    "sc"
   ]
  },
  {
   "cell_type": "code",
   "execution_count": 2,
   "id": "68082750",
   "metadata": {
    "scrolled": true
   },
   "outputs": [
    {
     "data": {
      "text/html": [
       "\n",
       "            <div>\n",
       "                <p><b>SparkSession - hive</b></p>\n",
       "                \n",
       "        <div>\n",
       "            <p><b>SparkContext</b></p>\n",
       "\n",
       "            <p><a href=\"http://10.0.2.15:4042\">Spark UI</a></p>\n",
       "\n",
       "            <dl>\n",
       "              <dt>Version</dt>\n",
       "                <dd><code>v2.4.8</code></dd>\n",
       "              <dt>Master</dt>\n",
       "                <dd><code>local[*]</code></dd>\n",
       "              <dt>AppName</dt>\n",
       "                <dd><code>PySparkShell</code></dd>\n",
       "            </dl>\n",
       "        </div>\n",
       "        \n",
       "            </div>\n",
       "        "
      ],
      "text/plain": [
       "<pyspark.sql.session.SparkSession at 0x7fc5d1334b00>"
      ]
     },
     "execution_count": 2,
     "metadata": {},
     "output_type": "execute_result"
    }
   ],
   "source": [
    "spark"
   ]
  },
  {
   "cell_type": "markdown",
   "id": "67d9f2ab",
   "metadata": {},
   "source": [
    "1. Create a New Spark Session Instance"
   ]
  },
  {
   "cell_type": "code",
   "execution_count": 12,
   "id": "2de081ce",
   "metadata": {},
   "outputs": [],
   "source": [
    "sc.stop()"
   ]
  },
  {
   "cell_type": "code",
   "execution_count": 13,
   "id": "8591a42f",
   "metadata": {},
   "outputs": [],
   "source": [
    "from pyspark import SparkConf, SparkContext\n",
    "# setMaster() - set spark context manager which is local[cpu_cores]\n",
    "config = SparkConf().setMaster(\"local[4]\").setAppName(\"PySparkSession\")\n",
    "sc = SparkContext(conf=config)"
   ]
  },
  {
   "cell_type": "code",
   "execution_count": 14,
   "id": "124bf272",
   "metadata": {},
   "outputs": [
    {
     "data": {
      "text/html": [
       "\n",
       "        <div>\n",
       "            <p><b>SparkContext</b></p>\n",
       "\n",
       "            <p><a href=\"http://10.0.2.15:4041\">Spark UI</a></p>\n",
       "\n",
       "            <dl>\n",
       "              <dt>Version</dt>\n",
       "                <dd><code>v2.4.8</code></dd>\n",
       "              <dt>Master</dt>\n",
       "                <dd><code>local[4]</code></dd>\n",
       "              <dt>AppName</dt>\n",
       "                <dd><code>PySparkSession</code></dd>\n",
       "            </dl>\n",
       "        </div>\n",
       "        "
      ],
      "text/plain": [
       "<SparkContext master=local[4] appName=PySparkSession>"
      ]
     },
     "execution_count": 14,
     "metadata": {},
     "output_type": "execute_result"
    }
   ],
   "source": [
    "sc"
   ]
  },
  {
   "cell_type": "code",
   "execution_count": 15,
   "id": "daf0469b",
   "metadata": {},
   "outputs": [],
   "source": [
    "from pyspark.sql import SparkSession\n",
    "spark = SparkSession.builder.appName(\"SQLSession\").getOrCreate()"
   ]
  },
  {
   "cell_type": "code",
   "execution_count": 16,
   "id": "245c985d",
   "metadata": {},
   "outputs": [
    {
     "data": {
      "text/html": [
       "\n",
       "            <div>\n",
       "                <p><b>SparkSession - hive</b></p>\n",
       "                \n",
       "        <div>\n",
       "            <p><b>SparkContext</b></p>\n",
       "\n",
       "            <p><a href=\"http://10.0.2.15:4041\">Spark UI</a></p>\n",
       "\n",
       "            <dl>\n",
       "              <dt>Version</dt>\n",
       "                <dd><code>v2.4.8</code></dd>\n",
       "              <dt>Master</dt>\n",
       "                <dd><code>local[4]</code></dd>\n",
       "              <dt>AppName</dt>\n",
       "                <dd><code>PySparkSession</code></dd>\n",
       "            </dl>\n",
       "        </div>\n",
       "        \n",
       "            </div>\n",
       "        "
      ],
      "text/plain": [
       "<pyspark.sql.session.SparkSession at 0x7fc5d012cb00>"
      ]
     },
     "execution_count": 16,
     "metadata": {},
     "output_type": "execute_result"
    }
   ],
   "source": [
    "spark"
   ]
  },
  {
   "cell_type": "code",
   "execution_count": 17,
   "id": "37eaa510",
   "metadata": {},
   "outputs": [],
   "source": [
    "!hdfs dfs -mkdir /flights"
   ]
  },
  {
   "cell_type": "code",
   "execution_count": 18,
   "id": "ddf790b8",
   "metadata": {},
   "outputs": [],
   "source": [
    "!hdfs dfs -put /home/hadoop/Downloads/raw_flight_data.csv /flights"
   ]
  },
  {
   "cell_type": "code",
   "execution_count": 25,
   "id": "0a8003eb",
   "metadata": {},
   "outputs": [],
   "source": [
    "flights_df = spark.read.csv(\"hdfs://localhost:9000/flights/raw_flight_data.csv\",header=True,inferSchema=True)"
   ]
  },
  {
   "cell_type": "code",
   "execution_count": 26,
   "id": "469911c9",
   "metadata": {},
   "outputs": [
    {
     "data": {
      "text/plain": [
       "[Row(DayofMonth=19, DayOfWeek=5, Carrier='DL', OriginAirportID=11433, DestAirportID=13303, DepDelay=-3, ArrDelay=1),\n",
       " Row(DayofMonth=19, DayOfWeek=5, Carrier='DL', OriginAirportID=14869, DestAirportID=12478, DepDelay=0, ArrDelay=-8),\n",
       " Row(DayofMonth=19, DayOfWeek=5, Carrier='DL', OriginAirportID=14057, DestAirportID=14869, DepDelay=-4, ArrDelay=-15),\n",
       " Row(DayofMonth=19, DayOfWeek=5, Carrier='DL', OriginAirportID=15016, DestAirportID=11433, DepDelay=28, ArrDelay=24),\n",
       " Row(DayofMonth=19, DayOfWeek=5, Carrier='DL', OriginAirportID=11193, DestAirportID=12892, DepDelay=-6, ArrDelay=-11)]"
      ]
     },
     "execution_count": 26,
     "metadata": {},
     "output_type": "execute_result"
    }
   ],
   "source": [
    "flights_df.head(5)"
   ]
  },
  {
   "cell_type": "code",
   "execution_count": 27,
   "id": "46ca247e",
   "metadata": {},
   "outputs": [
    {
     "name": "stdout",
     "output_type": "stream",
     "text": [
      "+----------+---------+-------+---------------+-------------+--------+--------+\n",
      "|DayofMonth|DayOfWeek|Carrier|OriginAirportID|DestAirportID|DepDelay|ArrDelay|\n",
      "+----------+---------+-------+---------------+-------------+--------+--------+\n",
      "|        19|        5|     DL|          11433|        13303|      -3|       1|\n",
      "|        19|        5|     DL|          14869|        12478|       0|      -8|\n",
      "|        19|        5|     DL|          14057|        14869|      -4|     -15|\n",
      "|        19|        5|     DL|          15016|        11433|      28|      24|\n",
      "|        19|        5|     DL|          11193|        12892|      -6|     -11|\n",
      "|        19|        5|     DL|          10397|        15016|      -1|     -19|\n",
      "|        19|        5|     DL|          15016|        10397|       0|      -1|\n",
      "|        19|        5|     DL|          10397|        14869|      15|      24|\n",
      "|        19|        5|     DL|          10397|        10423|      33|      34|\n",
      "|        19|        5|     DL|          11278|        10397|     323|     322|\n",
      "|        19|        5|     DL|          14107|        13487|      -7|     -13|\n",
      "|        19|        5|     DL|          11433|        11298|      22|      41|\n",
      "|        19|        5|     DL|          11298|        11433|      40|      20|\n",
      "|        19|        5|     DL|          11433|        12892|      -2|      -7|\n",
      "|        19|        5|     DL|          10397|        12451|      71|      75|\n",
      "|        19|        5|     DL|          12451|        10397|      75|      57|\n",
      "|        19|        5|     DL|          12953|        10397|      -1|      10|\n",
      "|        19|        5|     DL|          11433|        12953|      -3|     -10|\n",
      "|        19|        5|     DL|          10397|        14771|      31|      38|\n",
      "|        19|        5|     DL|          13204|        10397|       8|      25|\n",
      "+----------+---------+-------+---------------+-------------+--------+--------+\n",
      "only showing top 20 rows\n",
      "\n"
     ]
    }
   ],
   "source": [
    "flights_df.show()   # show data in a tabular format"
   ]
  },
  {
   "cell_type": "markdown",
   "id": "92f5cb07",
   "metadata": {},
   "source": [
    "1. Select \n",
    "    * To select specific column from DataFrame"
   ]
  },
  {
   "cell_type": "code",
   "execution_count": 28,
   "id": "eb0e3e75",
   "metadata": {},
   "outputs": [
    {
     "name": "stdout",
     "output_type": "stream",
     "text": [
      "+----------+-------+---------------+--------+\n",
      "|DayOfMonth|Carrier|OriginAirportID|DepDelay|\n",
      "+----------+-------+---------------+--------+\n",
      "|        19|     DL|          11433|      -3|\n",
      "|        19|     DL|          14869|       0|\n",
      "|        19|     DL|          14057|      -4|\n",
      "|        19|     DL|          15016|      28|\n",
      "|        19|     DL|          11193|      -6|\n",
      "|        19|     DL|          10397|      -1|\n",
      "|        19|     DL|          15016|       0|\n",
      "|        19|     DL|          10397|      15|\n",
      "|        19|     DL|          10397|      33|\n",
      "|        19|     DL|          11278|     323|\n",
      "|        19|     DL|          14107|      -7|\n",
      "|        19|     DL|          11433|      22|\n",
      "|        19|     DL|          11298|      40|\n",
      "|        19|     DL|          11433|      -2|\n",
      "|        19|     DL|          10397|      71|\n",
      "|        19|     DL|          12451|      75|\n",
      "|        19|     DL|          12953|      -1|\n",
      "|        19|     DL|          11433|      -3|\n",
      "|        19|     DL|          10397|      31|\n",
      "|        19|     DL|          13204|       8|\n",
      "+----------+-------+---------------+--------+\n",
      "only showing top 20 rows\n",
      "\n"
     ]
    }
   ],
   "source": [
    "flights_df.select(['DayOfMonth','Carrier','OriginAirportID','DepDelay']).show()"
   ]
  },
  {
   "cell_type": "code",
   "execution_count": 29,
   "id": "c2fbeb7f",
   "metadata": {},
   "outputs": [
    {
     "name": "stdout",
     "output_type": "stream",
     "text": [
      "+-------+\n",
      "|Carrier|\n",
      "+-------+\n",
      "|     UA|\n",
      "|     AA|\n",
      "|     EV|\n",
      "|     B6|\n",
      "|     DL|\n",
      "|     OO|\n",
      "|     F9|\n",
      "|     YV|\n",
      "|     US|\n",
      "|     MQ|\n",
      "|     HA|\n",
      "|     AS|\n",
      "|     FL|\n",
      "|     VX|\n",
      "|     WN|\n",
      "|     9E|\n",
      "+-------+\n",
      "\n"
     ]
    }
   ],
   "source": [
    "flights_df.select(['Carrier']).distinct().show()"
   ]
  },
  {
   "cell_type": "markdown",
   "id": "4461310e",
   "metadata": {},
   "source": [
    "3. Columns \n",
    "\n",
    "        * Show list of all dataframe columns"
   ]
  },
  {
   "cell_type": "code",
   "execution_count": 30,
   "id": "85fe5f18",
   "metadata": {},
   "outputs": [
    {
     "data": {
      "text/plain": [
       "['DayofMonth',\n",
       " 'DayOfWeek',\n",
       " 'Carrier',\n",
       " 'OriginAirportID',\n",
       " 'DestAirportID',\n",
       " 'DepDelay',\n",
       " 'ArrDelay']"
      ]
     },
     "execution_count": 30,
     "metadata": {},
     "output_type": "execute_result"
    }
   ],
   "source": [
    "flights_df.columns"
   ]
  },
  {
   "cell_type": "markdown",
   "id": "148e530a",
   "metadata": {},
   "source": [
    "4. count() - Aggregate method to show count of dataframe/ count of values"
   ]
  },
  {
   "cell_type": "code",
   "execution_count": 34,
   "id": "55d59639",
   "metadata": {},
   "outputs": [
    {
     "data": {
      "text/plain": [
       "2719418"
      ]
     },
     "execution_count": 34,
     "metadata": {},
     "output_type": "execute_result"
    }
   ],
   "source": [
    "# count() - Here it aggregates to show total number of rows\n",
    "flights_df.count()"
   ]
  },
  {
   "cell_type": "code",
   "execution_count": 33,
   "id": "91f7b949",
   "metadata": {},
   "outputs": [
    {
     "data": {
      "text/plain": [
       "16"
      ]
     },
     "execution_count": 33,
     "metadata": {},
     "output_type": "execute_result"
    }
   ],
   "source": [
    "# show total count of distinct carrier\n",
    "flights_df.select(['Carrier']).distinct().count()"
   ]
  },
  {
   "cell_type": "markdown",
   "id": "a149bd9b",
   "metadata": {},
   "source": [
    "5. printSchema()\n",
    "\n",
    "    * Method prints schema name and schema datatypes."
   ]
  },
  {
   "cell_type": "code",
   "execution_count": 35,
   "id": "8cf1ba18",
   "metadata": {},
   "outputs": [
    {
     "name": "stdout",
     "output_type": "stream",
     "text": [
      "root\n",
      " |-- DayofMonth: integer (nullable = true)\n",
      " |-- DayOfWeek: integer (nullable = true)\n",
      " |-- Carrier: string (nullable = true)\n",
      " |-- OriginAirportID: integer (nullable = true)\n",
      " |-- DestAirportID: integer (nullable = true)\n",
      " |-- DepDelay: integer (nullable = true)\n",
      " |-- ArrDelay: integer (nullable = true)\n",
      "\n"
     ]
    }
   ],
   "source": [
    "flights_df.printSchema()"
   ]
  },
  {
   "cell_type": "markdown",
   "id": "58d6b480",
   "metadata": {},
   "source": [
    "6. where()\n",
    "\n",
    "    * it is like filter() method of RDD with boolean conditions and statements."
   ]
  },
  {
   "cell_type": "markdown",
   "id": "1b2e09a6",
   "metadata": {},
   "source": [
    "flights_df.where(flights_df.DepDelay > 0).first()"
   ]
  },
  {
   "cell_type": "code",
   "execution_count": 37,
   "id": "745cfdb4",
   "metadata": {},
   "outputs": [
    {
     "name": "stdout",
     "output_type": "stream",
     "text": [
      "+----------+---------+-------+---------------+-------------+--------+--------+\n",
      "|DayofMonth|DayOfWeek|Carrier|OriginAirportID|DestAirportID|DepDelay|ArrDelay|\n",
      "+----------+---------+-------+---------------+-------------+--------+--------+\n",
      "|        19|        5|     DL|          15016|        11433|      28|      24|\n",
      "|        19|        5|     DL|          10397|        14869|      15|      24|\n",
      "|        19|        5|     DL|          10397|        10423|      33|      34|\n",
      "|        19|        5|     DL|          11278|        10397|     323|     322|\n",
      "|        19|        5|     DL|          11433|        11298|      22|      41|\n",
      "|        19|        5|     DL|          11298|        11433|      40|      20|\n",
      "|        19|        5|     DL|          10397|        12451|      71|      75|\n",
      "|        19|        5|     DL|          12451|        10397|      75|      57|\n",
      "|        19|        5|     DL|          10397|        14771|      31|      38|\n",
      "|        19|        5|     DL|          13204|        10397|       8|      25|\n",
      "|        19|        5|     DL|          12889|        13487|       7|      16|\n",
      "|        19|        5|     DL|          14027|        10397|      13|      25|\n",
      "|        19|        5|     DL|          13244|        10397|       4|      13|\n",
      "|        19|        5|     DL|          12953|        11697|      12|      -8|\n",
      "|        19|        5|     DL|          10397|        12892|      15|       7|\n",
      "|        19|        5|     DL|          14747|        14869|      15|      18|\n",
      "|        19|        5|     DL|          10423|        10397|      56|      49|\n",
      "|        20|        6|     DL|          12892|        15304|      21|      -2|\n",
      "|        20|        6|     DL|          10397|        11193|      16|      -2|\n",
      "|        20|        6|     DL|          10397|        11278|       2|       1|\n",
      "+----------+---------+-------+---------------+-------------+--------+--------+\n",
      "only showing top 20 rows\n",
      "\n"
     ]
    }
   ],
   "source": [
    "flights_df.where(flights_df.DepDelay > 0).show()"
   ]
  },
  {
   "cell_type": "code",
   "execution_count": 38,
   "id": "f8554ff0",
   "metadata": {},
   "outputs": [
    {
     "name": "stdout",
     "output_type": "stream",
     "text": [
      "+----------+---------+-------+---------------+-------------+--------+--------+\n",
      "|DayofMonth|DayOfWeek|Carrier|OriginAirportID|DestAirportID|DepDelay|ArrDelay|\n",
      "+----------+---------+-------+---------------+-------------+--------+--------+\n",
      "|        19|        5|     DL|          15016|        11433|      28|      24|\n",
      "|        19|        5|     DL|          10397|        14869|      15|      24|\n",
      "|        19|        5|     DL|          10397|        10423|      33|      34|\n",
      "|        19|        5|     DL|          11278|        10397|     323|     322|\n",
      "|        19|        5|     DL|          11433|        11298|      22|      41|\n",
      "|        19|        5|     DL|          11298|        11433|      40|      20|\n",
      "|        19|        5|     DL|          10397|        12451|      71|      75|\n",
      "|        19|        5|     DL|          12451|        10397|      75|      57|\n",
      "|        19|        5|     DL|          10397|        14771|      31|      38|\n",
      "|        19|        5|     DL|          13204|        10397|       8|      25|\n",
      "|        19|        5|     DL|          12889|        13487|       7|      16|\n",
      "|        19|        5|     DL|          14027|        10397|      13|      25|\n",
      "|        19|        5|     DL|          13244|        10397|       4|      13|\n",
      "|        19|        5|     DL|          10397|        12892|      15|       7|\n",
      "|        19|        5|     DL|          14747|        14869|      15|      18|\n",
      "|        19|        5|     DL|          10423|        10397|      56|      49|\n",
      "|        20|        6|     DL|          10397|        11278|       2|       1|\n",
      "|        20|        6|     DL|          11278|        10397|      34|      38|\n",
      "|        20|        6|     DL|          11697|        12953|      20|       1|\n",
      "|        20|        6|     DL|          13487|        13198|      35|      26|\n",
      "+----------+---------+-------+---------------+-------------+--------+--------+\n",
      "only showing top 20 rows\n",
      "\n"
     ]
    }
   ],
   "source": [
    "flights_df.where((flights_df.DepDelay > 0) & (flights_df.ArrDelay > 0)).show()"
   ]
  },
  {
   "cell_type": "markdown",
   "id": "2e99768a",
   "metadata": {},
   "source": [
    "5. Filter()"
   ]
  },
  {
   "cell_type": "code",
   "execution_count": 39,
   "id": "29b42b4b",
   "metadata": {},
   "outputs": [
    {
     "name": "stdout",
     "output_type": "stream",
     "text": [
      "+----------+---------+-------+---------------+-------------+--------+--------+\n",
      "|DayofMonth|DayOfWeek|Carrier|OriginAirportID|DestAirportID|DepDelay|ArrDelay|\n",
      "+----------+---------+-------+---------------+-------------+--------+--------+\n",
      "|        19|        5|     DL|          15016|        11433|      28|      24|\n",
      "|        19|        5|     DL|          10397|        14869|      15|      24|\n",
      "|        19|        5|     DL|          10397|        10423|      33|      34|\n",
      "|        19|        5|     DL|          11278|        10397|     323|     322|\n",
      "|        19|        5|     DL|          11433|        11298|      22|      41|\n",
      "|        19|        5|     DL|          11298|        11433|      40|      20|\n",
      "|        19|        5|     DL|          10397|        12451|      71|      75|\n",
      "|        19|        5|     DL|          12451|        10397|      75|      57|\n",
      "|        19|        5|     DL|          10397|        14771|      31|      38|\n",
      "|        19|        5|     DL|          13204|        10397|       8|      25|\n",
      "|        19|        5|     DL|          12889|        13487|       7|      16|\n",
      "|        19|        5|     DL|          14027|        10397|      13|      25|\n",
      "|        19|        5|     DL|          13244|        10397|       4|      13|\n",
      "|        19|        5|     DL|          10397|        12892|      15|       7|\n",
      "|        19|        5|     DL|          14747|        14869|      15|      18|\n",
      "|        19|        5|     DL|          10423|        10397|      56|      49|\n",
      "|        20|        6|     DL|          10397|        11278|       2|       1|\n",
      "|        20|        6|     DL|          11278|        10397|      34|      38|\n",
      "|        20|        6|     DL|          11697|        12953|      20|       1|\n",
      "|        20|        6|     DL|          13487|        13198|      35|      26|\n",
      "+----------+---------+-------+---------------+-------------+--------+--------+\n",
      "only showing top 20 rows\n",
      "\n"
     ]
    }
   ],
   "source": [
    "flights_df.filter((flights_df.DepDelay > 0) & (flights_df.ArrDelay > 0)).show()"
   ]
  },
  {
   "cell_type": "markdown",
   "id": "03b6f8a5",
   "metadata": {},
   "source": [
    "6. isin()\n",
    "    * Filter values from dataframe by matching pattern"
   ]
  },
  {
   "cell_type": "code",
   "execution_count": 41,
   "id": "1835bc9a",
   "metadata": {},
   "outputs": [
    {
     "data": {
      "text/plain": [
       "Column<b'(Carrier IN (DL, F9, UA, 9E))'>"
      ]
     },
     "execution_count": 41,
     "metadata": {},
     "output_type": "execute_result"
    }
   ],
   "source": [
    "flights_df.Carrier.isin('DL','F9','UA','9E')"
   ]
  },
  {
   "cell_type": "code",
   "execution_count": 40,
   "id": "9eefa3da",
   "metadata": {},
   "outputs": [
    {
     "name": "stdout",
     "output_type": "stream",
     "text": [
      "+----------+---------+-------+---------------+-------------+--------+--------+\n",
      "|DayofMonth|DayOfWeek|Carrier|OriginAirportID|DestAirportID|DepDelay|ArrDelay|\n",
      "+----------+---------+-------+---------------+-------------+--------+--------+\n",
      "|        19|        5|     DL|          11433|        13303|      -3|       1|\n",
      "|        19|        5|     DL|          14869|        12478|       0|      -8|\n",
      "|        19|        5|     DL|          14057|        14869|      -4|     -15|\n",
      "|        19|        5|     DL|          15016|        11433|      28|      24|\n",
      "|        19|        5|     DL|          11193|        12892|      -6|     -11|\n",
      "|        19|        5|     DL|          10397|        15016|      -1|     -19|\n",
      "|        19|        5|     DL|          15016|        10397|       0|      -1|\n",
      "|        19|        5|     DL|          10397|        14869|      15|      24|\n",
      "|        19|        5|     DL|          10397|        10423|      33|      34|\n",
      "|        19|        5|     DL|          11278|        10397|     323|     322|\n",
      "|        19|        5|     DL|          14107|        13487|      -7|     -13|\n",
      "|        19|        5|     DL|          11433|        11298|      22|      41|\n",
      "|        19|        5|     DL|          11298|        11433|      40|      20|\n",
      "|        19|        5|     DL|          11433|        12892|      -2|      -7|\n",
      "|        19|        5|     DL|          10397|        12451|      71|      75|\n",
      "|        19|        5|     DL|          12451|        10397|      75|      57|\n",
      "|        19|        5|     DL|          12953|        10397|      -1|      10|\n",
      "|        19|        5|     DL|          11433|        12953|      -3|     -10|\n",
      "|        19|        5|     DL|          10397|        14771|      31|      38|\n",
      "|        19|        5|     DL|          13204|        10397|       8|      25|\n",
      "+----------+---------+-------+---------------+-------------+--------+--------+\n",
      "only showing top 20 rows\n",
      "\n"
     ]
    }
   ],
   "source": [
    "flights_df.where(flights_df.Carrier.isin('DL','F9','UA','9E')).show()"
   ]
  },
  {
   "cell_type": "markdown",
   "id": "318589c3",
   "metadata": {},
   "source": [
    "* Read airports.csv file as Spark DataFrame"
   ]
  },
  {
   "cell_type": "code",
   "execution_count": 46,
   "id": "efbd9666",
   "metadata": {},
   "outputs": [],
   "source": [
    "airports_df = spark.read.csv(\"file:///home/hadoop/Downloads/airports.csv\",header=True,inferSchema=True)"
   ]
  },
  {
   "cell_type": "code",
   "execution_count": 47,
   "id": "8ad3845a",
   "metadata": {},
   "outputs": [
    {
     "name": "stdout",
     "output_type": "stream",
     "text": [
      "+----------+-----------+-----+--------------------+\n",
      "|airport_id|       city|state|                name|\n",
      "+----------+-----------+-----+--------------------+\n",
      "|     10165|Adak Island|   AK|                Adak|\n",
      "|     10299|  Anchorage|   AK|Ted Stevens Ancho...|\n",
      "|     10304|      Aniak|   AK|       Aniak Airport|\n",
      "|     10754|     Barrow|   AK|Wiley Post/Will R...|\n",
      "|     10551|     Bethel|   AK|      Bethel Airport|\n",
      "|     10926|    Cordova|   AK|Merle K Mudhole S...|\n",
      "|     14709|  Deadhorse|   AK|   Deadhorse Airport|\n",
      "|     11336| Dillingham|   AK|  Dillingham Airport|\n",
      "|     11630|  Fairbanks|   AK|Fairbanks Interna...|\n",
      "|     11997|   Gustavus|   AK|    Gustavus Airport|\n",
      "|     12523|     Juneau|   AK|Juneau International|\n",
      "|     12819|  Ketchikan|   AK|Ketchikan Interna...|\n",
      "|     10245|King Salmon|   AK| King Salmon Airport|\n",
      "|     10170|     Kodiak|   AK|      Kodiak Airport|\n",
      "|     13970|   Kotzebue|   AK| Ralph Wien Memorial|\n",
      "|     13873|       Nome|   AK|        Nome Airport|\n",
      "|     14256| Petersburg|   AK|Petersburg James ...|\n",
      "|     14828|      Sitka|   AK|Sitka Rocky Gutie...|\n",
      "|     12807| St. Mary's|   AK|  St. Mary's Airport|\n",
      "|     11445|   Unalaska|   AK|    Unalaska Airport|\n",
      "+----------+-----------+-----+--------------------+\n",
      "only showing top 20 rows\n",
      "\n"
     ]
    }
   ],
   "source": [
    "airports_df.show()\n"
   ]
  },
  {
   "cell_type": "markdown",
   "id": "59966597",
   "metadata": {},
   "source": [
    "7. Join()\n",
    "\n",
    "    * This is is used to join two dataframes using condition"
   ]
  },
  {
   "cell_type": "code",
   "execution_count": 48,
   "id": "fadbde62",
   "metadata": {},
   "outputs": [],
   "source": [
    "flights_airportDF = flights_df.join(airports_df,flights_df.OriginAirportID == airports_df.airport_id)"
   ]
  },
  {
   "cell_type": "code",
   "execution_count": 49,
   "id": "4c67ffc3",
   "metadata": {},
   "outputs": [
    {
     "name": "stdout",
     "output_type": "stream",
     "text": [
      "+----------+---------+-------+---------------+-------------+--------+--------+----------+-----------------+-----+--------------------+\n",
      "|DayofMonth|DayOfWeek|Carrier|OriginAirportID|DestAirportID|DepDelay|ArrDelay|airport_id|             city|state|                name|\n",
      "+----------+---------+-------+---------------+-------------+--------+--------+----------+-----------------+-----+--------------------+\n",
      "|        19|        5|     DL|          11433|        13303|      -3|       1|     11433|          Detroit|   MI|Detroit Metro Way...|\n",
      "|        19|        5|     DL|          14869|        12478|       0|      -8|     14869|   Salt Lake City|   UT|Salt Lake City In...|\n",
      "|        19|        5|     DL|          14057|        14869|      -4|     -15|     14057|         Portland|   OR|Portland Internat...|\n",
      "|        19|        5|     DL|          15016|        11433|      28|      24|     15016|        St. Louis|   MO|Lambert-St. Louis...|\n",
      "|        19|        5|     DL|          11193|        12892|      -6|     -11|     11193|       Cincinnati|   OH|Cincinnati/Northe...|\n",
      "|        19|        5|     DL|          10397|        15016|      -1|     -19|     10397|          Atlanta|   GA|Hartsfield-Jackso...|\n",
      "|        19|        5|     DL|          15016|        10397|       0|      -1|     15016|        St. Louis|   MO|Lambert-St. Louis...|\n",
      "|        19|        5|     DL|          10397|        14869|      15|      24|     10397|          Atlanta|   GA|Hartsfield-Jackso...|\n",
      "|        19|        5|     DL|          10397|        10423|      33|      34|     10397|          Atlanta|   GA|Hartsfield-Jackso...|\n",
      "|        19|        5|     DL|          11278|        10397|     323|     322|     11278|       Washington|   DC|Ronald Reagan Was...|\n",
      "|        19|        5|     DL|          14107|        13487|      -7|     -13|     14107|          Phoenix|   AZ|Phoenix Sky Harbo...|\n",
      "|        19|        5|     DL|          11433|        11298|      22|      41|     11433|          Detroit|   MI|Detroit Metro Way...|\n",
      "|        19|        5|     DL|          11298|        11433|      40|      20|     11298|Dallas/Fort Worth|   TX|Dallas/Fort Worth...|\n",
      "|        19|        5|     DL|          11433|        12892|      -2|      -7|     11433|          Detroit|   MI|Detroit Metro Way...|\n",
      "|        19|        5|     DL|          10397|        12451|      71|      75|     10397|          Atlanta|   GA|Hartsfield-Jackso...|\n",
      "|        19|        5|     DL|          12451|        10397|      75|      57|     12451|     Jacksonville|   FL|Jacksonville Inte...|\n",
      "|        19|        5|     DL|          12953|        10397|      -1|      10|     12953|         New York|   NY|           LaGuardia|\n",
      "|        19|        5|     DL|          11433|        12953|      -3|     -10|     11433|          Detroit|   MI|Detroit Metro Way...|\n",
      "|        19|        5|     DL|          10397|        14771|      31|      38|     10397|          Atlanta|   GA|Hartsfield-Jackso...|\n",
      "|        19|        5|     DL|          13204|        10397|       8|      25|     13204|          Orlando|   FL|Orlando Internati...|\n",
      "+----------+---------+-------+---------------+-------------+--------+--------+----------+-----------------+-----+--------------------+\n",
      "only showing top 20 rows\n",
      "\n"
     ]
    }
   ],
   "source": [
    "flights_airportDF.show()"
   ]
  },
  {
   "cell_type": "code",
   "execution_count": 50,
   "id": "d11f21ab",
   "metadata": {},
   "outputs": [],
   "source": [
    "flights_airportDF = flights_df.join(airports_df.select(['airport_id','name']),\n",
    "                                    flights_df.OriginAirportID == airports_df.airport_id)"
   ]
  },
  {
   "cell_type": "code",
   "execution_count": 51,
   "id": "b732f60b",
   "metadata": {},
   "outputs": [
    {
     "name": "stdout",
     "output_type": "stream",
     "text": [
      "+----------+---------+-------+---------------+-------------+--------+--------+----------+--------------------+\n",
      "|DayofMonth|DayOfWeek|Carrier|OriginAirportID|DestAirportID|DepDelay|ArrDelay|airport_id|                name|\n",
      "+----------+---------+-------+---------------+-------------+--------+--------+----------+--------------------+\n",
      "|        19|        5|     DL|          11433|        13303|      -3|       1|     11433|Detroit Metro Way...|\n",
      "|        19|        5|     DL|          14869|        12478|       0|      -8|     14869|Salt Lake City In...|\n",
      "|        19|        5|     DL|          14057|        14869|      -4|     -15|     14057|Portland Internat...|\n",
      "|        19|        5|     DL|          15016|        11433|      28|      24|     15016|Lambert-St. Louis...|\n",
      "|        19|        5|     DL|          11193|        12892|      -6|     -11|     11193|Cincinnati/Northe...|\n",
      "|        19|        5|     DL|          10397|        15016|      -1|     -19|     10397|Hartsfield-Jackso...|\n",
      "|        19|        5|     DL|          15016|        10397|       0|      -1|     15016|Lambert-St. Louis...|\n",
      "|        19|        5|     DL|          10397|        14869|      15|      24|     10397|Hartsfield-Jackso...|\n",
      "|        19|        5|     DL|          10397|        10423|      33|      34|     10397|Hartsfield-Jackso...|\n",
      "|        19|        5|     DL|          11278|        10397|     323|     322|     11278|Ronald Reagan Was...|\n",
      "|        19|        5|     DL|          14107|        13487|      -7|     -13|     14107|Phoenix Sky Harbo...|\n",
      "|        19|        5|     DL|          11433|        11298|      22|      41|     11433|Detroit Metro Way...|\n",
      "|        19|        5|     DL|          11298|        11433|      40|      20|     11298|Dallas/Fort Worth...|\n",
      "|        19|        5|     DL|          11433|        12892|      -2|      -7|     11433|Detroit Metro Way...|\n",
      "|        19|        5|     DL|          10397|        12451|      71|      75|     10397|Hartsfield-Jackso...|\n",
      "|        19|        5|     DL|          12451|        10397|      75|      57|     12451|Jacksonville Inte...|\n",
      "|        19|        5|     DL|          12953|        10397|      -1|      10|     12953|           LaGuardia|\n",
      "|        19|        5|     DL|          11433|        12953|      -3|     -10|     11433|Detroit Metro Way...|\n",
      "|        19|        5|     DL|          10397|        14771|      31|      38|     10397|Hartsfield-Jackso...|\n",
      "|        19|        5|     DL|          13204|        10397|       8|      25|     13204|Orlando Internati...|\n",
      "+----------+---------+-------+---------------+-------------+--------+--------+----------+--------------------+\n",
      "only showing top 20 rows\n",
      "\n"
     ]
    }
   ],
   "source": [
    "flights_airportDF.show()"
   ]
  },
  {
   "cell_type": "markdown",
   "id": "fe8e8f38",
   "metadata": {},
   "source": [
    "8. Drop Duplicates()\n",
    "    * Drop duplicates from existing dataframe"
   ]
  },
  {
   "cell_type": "code",
   "execution_count": 52,
   "id": "d2c79dde",
   "metadata": {},
   "outputs": [
    {
     "data": {
      "text/plain": [
       "DataFrame[DayofMonth: int, DayOfWeek: int, Carrier: string, OriginAirportID: int, DestAirportID: int, DepDelay: int, ArrDelay: int]"
      ]
     },
     "execution_count": 52,
     "metadata": {},
     "output_type": "execute_result"
    }
   ],
   "source": [
    "flights_df.dropDuplicates()"
   ]
  },
  {
   "cell_type": "code",
   "execution_count": 53,
   "id": "d5f962b5",
   "metadata": {},
   "outputs": [],
   "source": [
    "flights_df1 = flights_df.dropDuplicates()"
   ]
  },
  {
   "cell_type": "markdown",
   "id": "7b911079",
   "metadata": {},
   "source": [
    "#### Calculate percentage data lost after dropping"
   ]
  },
  {
   "cell_type": "code",
   "execution_count": 58,
   "id": "cd9afa13",
   "metadata": {},
   "outputs": [
    {
     "data": {
      "text/plain": [
       "0.8249927006440348"
      ]
     },
     "execution_count": 58,
     "metadata": {},
     "output_type": "execute_result"
    }
   ],
   "source": [
    "((flights_df.count()-flights_df1.count())/flights_df.count())*100"
   ]
  },
  {
   "cell_type": "markdown",
   "id": "11c684a3",
   "metadata": {},
   "source": [
    "#### 11. Describe\n",
    "\n",
    "    * Use describe() method to show summary statistics for numeric dataframe columns\n",
    "    * summary includes :- count, mean, stddev, min, max"
   ]
  },
  {
   "cell_type": "code",
   "execution_count": 60,
   "id": "8eddf080",
   "metadata": {},
   "outputs": [
    {
     "name": "stdout",
     "output_type": "stream",
     "text": [
      "+-------+------------------+------------------+-------+------------------+------------------+------------------+------------------+\n",
      "|summary|        DayofMonth|         DayOfWeek|Carrier|   OriginAirportID|     DestAirportID|          DepDelay|          ArrDelay|\n",
      "+-------+------------------+------------------+-------+------------------+------------------+------------------+------------------+\n",
      "|  count|           2696983|           2696983|2696983|           2696983|           2696983|           2674774|           2673185|\n",
      "|   mean|15.798996508320593| 3.900369412784582|   null|12742.459424846207| 12742.85937657004|10.618575625454712|6.7272897311633875|\n",
      "| stddev| 8.801267199135454|1.9864582421701973|   null|1502.0359941370625|1501.9939589817989|36.198308432512704| 38.75007476808384|\n",
      "|    min|                 1|                 1|     9E|             10140|             10140|               -63|               -94|\n",
      "|    max|                31|                 7|     YV|             15376|             15376|              1863|              1845|\n",
      "+-------+------------------+------------------+-------+------------------+------------------+------------------+------------------+\n",
      "\n"
     ]
    }
   ],
   "source": [
    "flights_df1.describe().show()"
   ]
  },
  {
   "cell_type": "markdown",
   "id": "25463110",
   "metadata": {},
   "source": [
    "#### 12. summary()\n",
    "    * Use summary() method for detailed summary of columns\n",
    "    * summary includes :- count, mean, stddev, min, max, quartiles - Q1, Q2 (median), Q3"
   ]
  },
  {
   "cell_type": "code",
   "execution_count": 61,
   "id": "c652773f",
   "metadata": {},
   "outputs": [
    {
     "name": "stdout",
     "output_type": "stream",
     "text": [
      "+-------+------------------+------------------+-------+------------------+------------------+------------------+------------------+\n",
      "|summary|        DayofMonth|         DayOfWeek|Carrier|   OriginAirportID|     DestAirportID|          DepDelay|          ArrDelay|\n",
      "+-------+------------------+------------------+-------+------------------+------------------+------------------+------------------+\n",
      "|  count|           2696983|           2696983|2696983|           2696983|           2696983|           2674774|           2673185|\n",
      "|   mean|15.798996508320593| 3.900369412784582|   null|12742.459424846207| 12742.85937657004|10.618575625454712|6.7272897311633875|\n",
      "| stddev| 8.801267199135454|1.9864582421701973|   null|1502.0359941370625|1501.9939589817989|36.198308432512704| 38.75007476808384|\n",
      "|    min|                 1|                 1|     9E|             10140|             10140|               -63|               -94|\n",
      "|    25%|                 8|                 2|   null|             11292|             11292|                -4|               -11|\n",
      "|    50%|                16|                 4|   null|             12892|             12892|                -1|                -3|\n",
      "|    75%|                23|                 6|   null|             14057|             14057|                10|                10|\n",
      "|    max|                31|                 7|     YV|             15376|             15376|              1863|              1845|\n",
      "+-------+------------------+------------------+-------+------------------+------------------+------------------+------------------+\n",
      "\n"
     ]
    }
   ],
   "source": [
    "flights_df1.summary().show()"
   ]
  },
  {
   "cell_type": "markdown",
   "id": "86f29e41",
   "metadata": {},
   "source": [
    "#### 13. Select categorical columns"
   ]
  },
  {
   "cell_type": "code",
   "execution_count": 62,
   "id": "6f28b4ca",
   "metadata": {},
   "outputs": [],
   "source": [
    "from pyspark.sql.types import IntegerType, StringType\n",
    "from pyspark.sql.functions import *"
   ]
  },
  {
   "cell_type": "code",
   "execution_count": 66,
   "id": "d3d15e32",
   "metadata": {},
   "outputs": [],
   "source": [
    "categorical_cols = [field.name for field in flights_df1.schema.fields if isinstance(field.dataType, StringType)]"
   ]
  },
  {
   "cell_type": "code",
   "execution_count": 67,
   "id": "67acdf29",
   "metadata": {},
   "outputs": [
    {
     "data": {
      "text/plain": [
       "['Carrier']"
      ]
     },
     "execution_count": 67,
     "metadata": {},
     "output_type": "execute_result"
    }
   ],
   "source": [
    "categorical_cols"
   ]
  },
  {
   "cell_type": "markdown",
   "id": "a44706b4",
   "metadata": {},
   "source": [
    "#### col(), groupBy():\n",
    "    * 'col' function is used to refer to a column in dataframe.\n",
    "    * groupBy() - Method to group rows of dataframe based on values of one or more columns"
   ]
  },
  {
   "cell_type": "code",
   "execution_count": 68,
   "id": "aee000f4",
   "metadata": {},
   "outputs": [],
   "source": [
    "# pyspark 'col' function is used to refer to a column in dataframe\n",
    "# where to use - In column operations\n",
    "from pyspark.sql.functions import col "
   ]
  },
  {
   "cell_type": "code",
   "execution_count": 70,
   "id": "6d728b27",
   "metadata": {},
   "outputs": [
    {
     "data": {
      "text/plain": [
       "664460"
      ]
     },
     "execution_count": 70,
     "metadata": {},
     "output_type": "execute_result"
    }
   ],
   "source": [
    "flights_df1.filter(col('ArrDelay')>10).count()"
   ]
  },
  {
   "cell_type": "code",
   "execution_count": 71,
   "id": "a73f7b5e",
   "metadata": {},
   "outputs": [
    {
     "name": "stdout",
     "output_type": "stream",
     "text": [
      "+-------+------+\n",
      "|Carrier| count|\n",
      "+-------+------+\n",
      "|     UA|286010|\n",
      "|     AA|288910|\n",
      "|     EV|157218|\n",
      "|     B6|121875|\n",
      "|     DL|381601|\n",
      "|     OO|159639|\n",
      "|     F9| 35736|\n",
      "|     YV| 52740|\n",
      "|     US|232955|\n",
      "|     MQ|112113|\n",
      "|     HA| 17424|\n",
      "|     AS| 68544|\n",
      "|     FL| 92674|\n",
      "|     VX| 34726|\n",
      "|     WN|575090|\n",
      "|     9E| 79728|\n",
      "+-------+------+\n",
      "\n"
     ]
    }
   ],
   "source": [
    "# 14. Get frequency values for each categorical column\n",
    "for column in categorical_cols:\n",
    "    flights_df1.groupBy(column).count().show()"
   ]
  },
  {
   "cell_type": "markdown",
   "id": "e3a1d10d",
   "metadata": {},
   "source": [
    "#### 15. isnull()\n",
    "    * Method returns boolean outcome for missing values"
   ]
  },
  {
   "cell_type": "code",
   "execution_count": 74,
   "id": "ccc3b13f",
   "metadata": {},
   "outputs": [
    {
     "name": "stdout",
     "output_type": "stream",
     "text": [
      "+----------+---------+-------+---------------+-------------+--------+--------+\n",
      "|DayofMonth|DayOfWeek|Carrier|OriginAirportID|DestAirportID|DepDelay|ArrDelay|\n",
      "+----------+---------+-------+---------------+-------------+--------+--------+\n",
      "|        17|        3|     DL|          14869|        14771|    null|    null|\n",
      "|        11|        4|     EV|          12266|        13871|    null|    null|\n",
      "|        19|        5|     EV|          11618|        11433|    null|    null|\n",
      "|        10|        3|     EV|          13930|        13851|    null|    null|\n",
      "|         9|        2|     EV|          11292|        14107|    null|    null|\n",
      "|        18|        4|     AA|          13303|        12892|    null|    null|\n",
      "|        11|        4|     AA|          13930|        11292|    null|    null|\n",
      "|        18|        4|     AA|          11298|        14107|    null|    null|\n",
      "|        16|        2|     AA|          11278|        13930|    null|    null|\n",
      "|        17|        3|     AA|          13930|        14107|    null|    null|\n",
      "|        16|        2|     AA|          12478|        12266|    null|    null|\n",
      "|        18|        4|     AA|          11298|        11618|    null|    null|\n",
      "|         3|        3|     AS|          14679|        14747|    null|    null|\n",
      "|        18|        4|     AA|          13930|        15304|    null|    null|\n",
      "|        18|        4|     DL|          10397|        13930|    null|    null|\n",
      "|         8|        1|     WN|          11292|        14893|    null|    null|\n",
      "|        12|        5|     MQ|          13930|        11618|    null|    null|\n",
      "|        11|        4|     MQ|          13930|        10693|    null|    null|\n",
      "|        16|        2|     MQ|          10792|        13930|    null|    null|\n",
      "|        17|        3|     MQ|          13930|        11433|      88|    null|\n",
      "+----------+---------+-------+---------------+-------------+--------+--------+\n",
      "only showing top 20 rows\n",
      "\n"
     ]
    }
   ],
   "source": [
    "# Check for nulls in specific columns \n",
    "flights_df1.filter(col('ArrDelay').isNull()).show()"
   ]
  },
  {
   "cell_type": "code",
   "execution_count": 75,
   "id": "ef702ce6",
   "metadata": {},
   "outputs": [
    {
     "data": {
      "text/plain": [
       "23798"
      ]
     },
     "execution_count": 75,
     "metadata": {},
     "output_type": "execute_result"
    }
   ],
   "source": [
    "# show no of missing values for one column\n",
    "flights_df1.filter(col('ArrDelay').isNull()).count()"
   ]
  },
  {
   "cell_type": "code",
   "execution_count": 78,
   "id": "1100a388",
   "metadata": {},
   "outputs": [
    {
     "data": {
      "text/plain": [
       "DataFrame[(ArrDelay IS NULL): boolean]"
      ]
     },
     "execution_count": 78,
     "metadata": {},
     "output_type": "execute_result"
    }
   ],
   "source": [
    "# isNull() returns booleab value\n",
    "flights_df1.select(col('ArrDelay').isNull())"
   ]
  },
  {
   "cell_type": "code",
   "execution_count": 80,
   "id": "d4e993df",
   "metadata": {},
   "outputs": [
    {
     "name": "stdout",
     "output_type": "stream",
     "text": [
      "+----------+---------+-------+---------------+-------------+--------+--------+\n",
      "|DayofMonth|DayOfWeek|Carrier|OriginAirportID|DestAirportID|DepDelay|ArrDelay|\n",
      "+----------+---------+-------+---------------+-------------+--------+--------+\n",
      "|         0|        0|      0|              0|            0|   22209|   23798|\n",
      "+----------+---------+-------+---------------+-------------+--------+--------+\n",
      "\n"
     ]
    }
   ],
   "source": [
    "from pyspark.sql.functions import when, isnull, count\n",
    "\n",
    "lights_df1.select([count(when(isnull(column), column)).alias(column) for column in flights_df1.columns]).show()"
   ]
  },
  {
   "cell_type": "code",
   "execution_count": 136,
   "id": "084909b2",
   "metadata": {},
   "outputs": [
    {
     "data": {
      "text/plain": [
       "{'DayofMonth': 0,\n",
       " 'DayOfWeek': 0,\n",
       " 'Carrier': 0,\n",
       " 'OriginAirportID': 0,\n",
       " 'DestAirportID': 0,\n",
       " 'DepDelay': 22209,\n",
       " 'ArrDelay': 23798}"
      ]
     },
     "execution_count": 136,
     "metadata": {},
     "output_type": "execute_result"
    }
   ],
   "source": [
    "{column: flights_df1.filter(col(column).isNull()).count() for column in flights_df1.columns}\n"
   ]
  },
  {
   "cell_type": "code",
   "execution_count": 139,
   "id": "5101883a",
   "metadata": {},
   "outputs": [
    {
     "name": "stdout",
     "output_type": "stream",
     "text": [
      "+----------+---------+-------+---------------+-------------+--------+--------+\n",
      "|DayofMonth|DayOfWeek|Carrier|OriginAirportID|DestAirportID|DepDelay|ArrDelay|\n",
      "+----------+---------+-------+---------------+-------------+--------+--------+\n",
      "|         0|        0|      0|              0|            0|   27444|   29033|\n",
      "+----------+---------+-------+---------------+-------------+--------+--------+\n",
      "\n"
     ]
    }
   ],
   "source": [
    "from pyspark.sql.functions import *\n",
    "\n",
    "flights_df.select([sum(col(column).isNull().cast('int')).alias(column) for column in flights_df1.columns]).show()"
   ]
  },
  {
   "cell_type": "markdown",
   "id": "17b72f96",
   "metadata": {},
   "source": [
    "#### 16. fillna()\n",
    "    * To replace or fill missing values of column with central tendancy (mean, median, mode)\n",
    "    * Here it will replace missing values by 0s"
   ]
  },
  {
   "cell_type": "code",
   "execution_count": 140,
   "id": "bb0409b2",
   "metadata": {},
   "outputs": [],
   "source": [
    "flights_df2 = flights_df1.fillna({'Depdelay':0,'ArrDelay':0})"
   ]
  },
  {
   "cell_type": "code",
   "execution_count": 142,
   "id": "da57038c",
   "metadata": {},
   "outputs": [
    {
     "name": "stdout",
     "output_type": "stream",
     "text": [
      "+----------+---------+-------+---------------+-------------+--------+--------+\n",
      "|DayofMonth|DayOfWeek|Carrier|OriginAirportID|DestAirportID|DepDelay|ArrDelay|\n",
      "+----------+---------+-------+---------------+-------------+--------+--------+\n",
      "|         0|        0|      0|              0|            0|       0|       0|\n",
      "+----------+---------+-------+---------------+-------------+--------+--------+\n",
      "\n"
     ]
    }
   ],
   "source": [
    "from pyspark.sql.functions import *\n",
    "\n",
    "flights_df2.select([sum(col(column).isNull().cast('int')).alias(column) for column in flights_df1.columns]).show()"
   ]
  },
  {
   "cell_type": "markdown",
   "id": "b0cc45f6",
   "metadata": {},
   "source": [
    "#### 17. dropna()\n",
    "\n",
    "* Used to remove rows with null values."
   ]
  },
  {
   "cell_type": "code",
   "execution_count": 143,
   "id": "57566100",
   "metadata": {},
   "outputs": [
    {
     "data": {
      "text/plain": [
       "DataFrame[DayofMonth: int, DayOfWeek: int, Carrier: string, OriginAirportID: int, DestAirportID: int, DepDelay: int, ArrDelay: int]"
      ]
     },
     "execution_count": 143,
     "metadata": {},
     "output_type": "execute_result"
    }
   ],
   "source": [
    "flights_df3 = flights_df1.dropna()"
   ]
  },
  {
   "cell_type": "markdown",
   "id": "088d75e8",
   "metadata": {},
   "source": [
    "#### Statistical methods\n",
    "\n",
    "    * mean(), median(), stddev(), quartiles"
   ]
  },
  {
   "cell_type": "code",
   "execution_count": 144,
   "id": "946236e2",
   "metadata": {},
   "outputs": [
    {
     "name": "stdout",
     "output_type": "stream",
     "text": [
      "+----+\n",
      "|mean|\n",
      "+----+\n",
      "|11.0|\n",
      "+----+\n",
      "\n"
     ]
    }
   ],
   "source": [
    "flights_df1.select(round(mean(col('DepDelay'))).alias('mean')).show()"
   ]
  },
  {
   "cell_type": "code",
   "execution_count": 147,
   "id": "39e7fe76",
   "metadata": {},
   "outputs": [
    {
     "name": "stdout",
     "output_type": "stream",
     "text": [
      "+------------------+\n",
      "|stAndard deviation|\n",
      "+------------------+\n",
      "|            36.198|\n",
      "+------------------+\n",
      "\n"
     ]
    }
   ],
   "source": [
    "flights_df1.select(round(stddev(col('DepDelay')),3).alias('stAndard deviation')).show()"
   ]
  },
  {
   "cell_type": "code",
   "execution_count": 152,
   "id": "37e1a331",
   "metadata": {},
   "outputs": [
    {
     "name": "stdout",
     "output_type": "stream",
     "text": [
      "+--------+\n",
      "|variance|\n",
      "+--------+\n",
      "|1310.318|\n",
      "+--------+\n",
      "\n"
     ]
    }
   ],
   "source": [
    "flights_df1.select(round(variance(col('DepDelay')),3).alias('variance')).show()"
   ]
  },
  {
   "cell_type": "markdown",
   "id": "cf742bc9",
   "metadata": {},
   "source": [
    "#### To calculate median() use approxQuantile().expr()"
   ]
  },
  {
   "cell_type": "code",
   "execution_count": 151,
   "id": "3833e7ae",
   "metadata": {},
   "outputs": [
    {
     "data": {
      "text/plain": [
       "-3.0"
      ]
     },
     "execution_count": 151,
     "metadata": {},
     "output_type": "execute_result"
    }
   ],
   "source": [
    "flights_df1.approxQuantile('ArrDelay',[0.5],0.0001)[0]"
   ]
  },
  {
   "cell_type": "code",
   "execution_count": 158,
   "id": "ca363dbe",
   "metadata": {},
   "outputs": [
    {
     "data": {
      "text/plain": [
       "11.0"
      ]
     },
     "execution_count": 158,
     "metadata": {},
     "output_type": "execute_result"
    }
   ],
   "source": [
    "# collect() gives output in dataframe format\n",
    "flights_df1.select(round(mean(col('DepDelay'))).alias('mean')).collect()[0][0]"
   ]
  },
  {
   "cell_type": "markdown",
   "id": "c18c3fc8",
   "metadata": {},
   "source": [
    "#### 19. GroupBy() and Agg()"
   ]
  },
  {
   "cell_type": "code",
   "execution_count": 159,
   "id": "82fd82d6",
   "metadata": {},
   "outputs": [
    {
     "data": {
      "text/plain": [
       "<pyspark.sql.group.GroupedData at 0x7fc5b9609ef0>"
      ]
     },
     "execution_count": 159,
     "metadata": {},
     "output_type": "execute_result"
    }
   ],
   "source": [
    "flights_df1.groupBy('Carrier')"
   ]
  },
  {
   "cell_type": "code",
   "execution_count": 160,
   "id": "c1581698",
   "metadata": {},
   "outputs": [
    {
     "name": "stdout",
     "output_type": "stream",
     "text": [
      "+-------+------------------+\n",
      "|Carrier|     avg(DepDelay)|\n",
      "+-------+------------------+\n",
      "|     UA|12.644186783024843|\n",
      "|     AA|12.154096505870111|\n",
      "|     EV| 14.52813602113455|\n",
      "|     B6|12.675216069471794|\n",
      "|     DL| 7.451940716867138|\n",
      "|     OO| 7.954327121364983|\n",
      "|     F9|12.142480802645592|\n",
      "|     YV| 9.595018289496604|\n",
      "|     US| 5.011879623272143|\n",
      "|     MQ|15.612577198673192|\n",
      "|     HA|1.5358414704192993|\n",
      "|     AS|0.6606730403765751|\n",
      "|     FL|10.227206113831024|\n",
      "|     VX|14.416962353959326|\n",
      "|     WN|12.930658050935614|\n",
      "|     9E| 9.767838809034908|\n",
      "+-------+------------------+\n",
      "\n"
     ]
    }
   ],
   "source": [
    "flights_df1.groupBy('Carrier').agg(mean('DepDelay')).show()"
   ]
  },
  {
   "cell_type": "code",
   "execution_count": 175,
   "id": "caee2d4d",
   "metadata": {},
   "outputs": [
    {
     "name": "stdout",
     "output_type": "stream",
     "text": [
      "+-------+------------------+\n",
      "|Carrier|     avg(DepDelay)|\n",
      "+-------+------------------+\n",
      "|     UA|12.644186783024843|\n",
      "|     AA|12.154096505870111|\n",
      "|     EV| 14.52813602113455|\n",
      "|     B6|12.675216069471794|\n",
      "|     DL| 7.451940716867138|\n",
      "|     OO| 7.954327121364983|\n",
      "|     F9|12.142480802645592|\n",
      "|     YV| 9.595018289496604|\n",
      "|     US| 5.011879623272143|\n",
      "|     MQ|15.612577198673192|\n",
      "|     HA|1.5358414704192993|\n",
      "|     AS|0.6606730403765751|\n",
      "|     FL|10.227206113831024|\n",
      "|     VX|14.416962353959326|\n",
      "|     WN|12.930658050935614|\n",
      "|     9E| 9.767838809034908|\n",
      "+-------+------------------+\n",
      "\n",
      "+-------+--------------------+\n",
      "|Carrier|       avg(ArrDelay)|\n",
      "+-------+--------------------+\n",
      "|     UA|   5.207155029152466|\n",
      "|     AA|    7.22786703097812|\n",
      "|     EV|  10.501436641191532|\n",
      "|     B6|   9.679335778153199|\n",
      "|     DL|  2.8085929091567747|\n",
      "|     OO|   6.447766785619039|\n",
      "|     F9|  12.870312237233028|\n",
      "|     YV|   8.749505833107245|\n",
      "|     US|   3.957719324788726|\n",
      "|     MQ|   14.27679662028746|\n",
      "|     HA|   1.534325271442523|\n",
      "|     AS|-0.27272328542814955|\n",
      "|     FL|   7.277437501357486|\n",
      "|     VX|   9.678802215555043|\n",
      "|     WN|   8.368672739670938|\n",
      "|     9E|   4.931550031523011|\n",
      "+-------+--------------------+\n",
      "\n"
     ]
    },
    {
     "ename": "AttributeError",
     "evalue": "'list' object has no attribute 'collect'",
     "output_type": "error",
     "traceback": [
      "\u001b[0;31m---------------------------------------------------------------------------\u001b[0m",
      "\u001b[0;31mAttributeError\u001b[0m                            Traceback (most recent call last)",
      "\u001b[0;32m<ipython-input-175-633802e4e997>\u001b[0m in \u001b[0;36m<module>\u001b[0;34m\u001b[0m\n\u001b[0;32m----> 1\u001b[0;31m \u001b[0mlist1\u001b[0m \u001b[0;34m=\u001b[0m \u001b[0;34m[\u001b[0m\u001b[0mflights_df1\u001b[0m\u001b[0;34m.\u001b[0m\u001b[0mgroupBy\u001b[0m\u001b[0;34m(\u001b[0m\u001b[0;34m'Carrier'\u001b[0m\u001b[0;34m)\u001b[0m\u001b[0;34m.\u001b[0m\u001b[0magg\u001b[0m\u001b[0;34m(\u001b[0m\u001b[0mmean\u001b[0m\u001b[0;34m(\u001b[0m\u001b[0mcol\u001b[0m\u001b[0;34m(\u001b[0m\u001b[0mcolumn\u001b[0m\u001b[0;34m)\u001b[0m\u001b[0;34m)\u001b[0m\u001b[0;34m)\u001b[0m\u001b[0;34m.\u001b[0m\u001b[0mshow\u001b[0m\u001b[0;34m(\u001b[0m\u001b[0;34m)\u001b[0m \u001b[0;32mfor\u001b[0m \u001b[0mcolumn\u001b[0m \u001b[0;32min\u001b[0m \u001b[0;34m[\u001b[0m\u001b[0;34m'DepDelay'\u001b[0m\u001b[0;34m,\u001b[0m\u001b[0;34m'ArrDelay'\u001b[0m\u001b[0;34m]\u001b[0m\u001b[0;34m]\u001b[0m\u001b[0;34m.\u001b[0m\u001b[0mcollect\u001b[0m\u001b[0;34m(\u001b[0m\u001b[0;34m)\u001b[0m\u001b[0;34m\u001b[0m\u001b[0;34m\u001b[0m\u001b[0m\n\u001b[0m\u001b[1;32m      2\u001b[0m \u001b[0mlist1\u001b[0m\u001b[0;34m[\u001b[0m\u001b[0;36m0\u001b[0m\u001b[0;34m]\u001b[0m\u001b[0;34m.\u001b[0m\u001b[0mcollect\u001b[0m\u001b[0;34m(\u001b[0m\u001b[0;34m)\u001b[0m\u001b[0;34m.\u001b[0m\u001b[0mjoin\u001b[0m\u001b[0;34m(\u001b[0m\u001b[0mlist1\u001b[0m\u001b[0;34m[\u001b[0m\u001b[0;36m1\u001b[0m\u001b[0;34m]\u001b[0m\u001b[0;34m.\u001b[0m\u001b[0mcollect\u001b[0m\u001b[0;34m(\u001b[0m\u001b[0;34m)\u001b[0m\u001b[0;34m,\u001b[0m \u001b[0mby\u001b[0m \u001b[0;34m=\u001b[0m \u001b[0;34m'Carrier'\u001b[0m\u001b[0;34m)\u001b[0m\u001b[0;34m\u001b[0m\u001b[0;34m\u001b[0m\u001b[0m\n",
      "\u001b[0;31mAttributeError\u001b[0m: 'list' object has no attribute 'collect'"
     ]
    }
   ],
   "source": [
    "list1 = [flights_df1.groupBy('Carrier').agg(mean(col(column))).show() for column in ['DepDelay','ArrDelay']].collect()\n",
    "list1[0].collect().join(list1[1].collect(), by = 'Carrier')"
   ]
  },
  {
   "cell_type": "code",
   "execution_count": 171,
   "id": "dee4733b",
   "metadata": {},
   "outputs": [
    {
     "data": {
      "text/plain": [
       "[None, None]"
      ]
     },
     "execution_count": 171,
     "metadata": {},
     "output_type": "execute_result"
    }
   ],
   "source": [
    "list1"
   ]
  },
  {
   "cell_type": "code",
   "execution_count": 167,
   "id": "165c781e",
   "metadata": {},
   "outputs": [
    {
     "name": "stdout",
     "output_type": "stream",
     "text": [
      "+-------+------------------+--------------------+\n",
      "|Carrier|     Mean_DepDelay|       Mean_ArrDelay|\n",
      "+-------+------------------+--------------------+\n",
      "|     UA|12.644186783024843|   5.207155029152466|\n",
      "|     AA|12.154096505870111|    7.22786703097812|\n",
      "|     EV| 14.52813602113455|  10.501436641191532|\n",
      "|     B6|12.675216069471794|   9.679335778153199|\n",
      "|     DL| 7.451940716867138|  2.8085929091567747|\n",
      "|     OO| 7.954327121364983|   6.447766785619039|\n",
      "|     F9|12.142480802645592|  12.870312237233028|\n",
      "|     YV| 9.595018289496604|   8.749505833107245|\n",
      "|     US| 5.011879623272143|   3.957719324788726|\n",
      "|     MQ|15.612577198673192|   14.27679662028746|\n",
      "|     HA|1.5358414704192993|   1.534325271442523|\n",
      "|     AS|0.6606730403765751|-0.27272328542814955|\n",
      "|     FL|10.227206113831024|   7.277437501357486|\n",
      "|     VX|14.416962353959326|   9.678802215555043|\n",
      "|     WN|12.930658050935614|   8.368672739670938|\n",
      "|     9E| 9.767838809034908|   4.931550031523011|\n",
      "+-------+------------------+--------------------+\n",
      "\n"
     ]
    }
   ],
   "source": [
    "flights_df1.groupBy('Carrier').agg(mean('DepDelay').alias('Mean_DepDelay'),mean('ArrDelay').alias('Mean_ArrDelay')).show()"
   ]
  },
  {
   "cell_type": "markdown",
   "id": "1b17c285",
   "metadata": {},
   "source": [
    "#### 20. WithColumn\n",
    "    * All column operations - Used to create new column or modify an existing column in a dataframe\n",
    "    * used for applying tranSformations or calculations\n",
    "    * df.withColumn(colName, col)"
   ]
  },
  {
   "cell_type": "code",
   "execution_count": 172,
   "id": "246c4ec8",
   "metadata": {},
   "outputs": [
    {
     "name": "stdout",
     "output_type": "stream",
     "text": [
      "+----------+---------+-------+---------------+-------------+--------+--------+-----------+\n",
      "|DayofMonth|DayOfWeek|Carrier|OriginAirportID|DestAirportID|DepDelay|ArrDelay|Total Delay|\n",
      "+----------+---------+-------+---------------+-------------+--------+--------+-----------+\n",
      "|         6|        1|     WN|          10821|        10140|       1|     -22|        -21|\n",
      "|         8|        1|     AA|          11298|        10140|       0|       6|          6|\n",
      "|        15|        1|     WN|          14747|        10140|      -6|       3|         -3|\n",
      "|        27|        1|     AA|          11298|        10140|     113|     117|        230|\n",
      "|         7|        2|     OO|          12266|        10140|      -3|     -11|        -14|\n",
      "|        28|        2|     WN|          14107|        10140|      -3|       0|         -3|\n",
      "|        30|        2|     OO|          12266|        10140|      -4|     -11|        -15|\n",
      "|         1|        3|     EV|          12266|        10140|     -11|     -26|        -37|\n",
      "|         3|        3|     OO|          12892|        10140|      -4|      -2|         -6|\n",
      "|        17|        3|     WN|          12892|        10140|      -1|       3|          2|\n",
      "|        22|        3|     WN|          14107|        10140|     109|     106|        215|\n",
      "|        24|        3|     WN|          14747|        10140|       0|      -4|         -4|\n",
      "|         2|        4|     OO|          14869|        10140|      -8|     -25|        -33|\n",
      "|         4|        4|     WN|          11259|        10140|      -5|      -9|        -14|\n",
      "|         4|        4|     OO|          14771|        10140|      22|      31|         53|\n",
      "|        11|        4|     WN|          14057|        10140|      -3|     -19|        -22|\n",
      "|         5|        5|     AA|          11298|        10140|      13|       2|         15|\n",
      "|        12|        5|     OO|          14869|        10140|      -2|     -10|        -12|\n",
      "|         6|        6|     WN|          11259|        10140|      -3|     -10|        -13|\n",
      "|         6|        6|     WN|          12892|        10140|      -3|     -13|        -16|\n",
      "+----------+---------+-------+---------------+-------------+--------+--------+-----------+\n",
      "only showing top 20 rows\n",
      "\n"
     ]
    }
   ],
   "source": [
    "flights_df1.withColumn('Total Delay',col('Arrdelay')+col('DepDelay')).show()"
   ]
  },
  {
   "cell_type": "markdown",
   "id": "f3ac10ff",
   "metadata": {},
   "source": [
    "#### Applying conditional logic"
   ]
  },
  {
   "cell_type": "code",
   "execution_count": 174,
   "id": "91210f9b",
   "metadata": {},
   "outputs": [
    {
     "name": "stdout",
     "output_type": "stream",
     "text": [
      "+----------+---------+-------+---------------+-------------+--------+--------+-------+\n",
      "|DayofMonth|DayOfWeek|Carrier|OriginAirportID|DestAirportID|DepDelay|ArrDelay|IsDelay|\n",
      "+----------+---------+-------+---------------+-------------+--------+--------+-------+\n",
      "|         6|        1|     WN|          10821|        10140|       1|     -22|    Yes|\n",
      "|         8|        1|     AA|          11298|        10140|       0|       6|    Yes|\n",
      "|        15|        1|     WN|          14747|        10140|      -6|       3|     No|\n",
      "|        27|        1|     AA|          11298|        10140|     113|     117|    Yes|\n",
      "|         7|        2|     OO|          12266|        10140|      -3|     -11|     No|\n",
      "|        28|        2|     WN|          14107|        10140|      -3|       0|     No|\n",
      "|        30|        2|     OO|          12266|        10140|      -4|     -11|     No|\n",
      "|         1|        3|     EV|          12266|        10140|     -11|     -26|     No|\n",
      "|         3|        3|     OO|          12892|        10140|      -4|      -2|     No|\n",
      "|        17|        3|     WN|          12892|        10140|      -1|       3|     No|\n",
      "|        22|        3|     WN|          14107|        10140|     109|     106|    Yes|\n",
      "|        24|        3|     WN|          14747|        10140|       0|      -4|    Yes|\n",
      "|         2|        4|     OO|          14869|        10140|      -8|     -25|     No|\n",
      "|         4|        4|     WN|          11259|        10140|      -5|      -9|     No|\n",
      "|         4|        4|     OO|          14771|        10140|      22|      31|    Yes|\n",
      "|        11|        4|     WN|          14057|        10140|      -3|     -19|     No|\n",
      "|         5|        5|     AA|          11298|        10140|      13|       2|    Yes|\n",
      "|        12|        5|     OO|          14869|        10140|      -2|     -10|     No|\n",
      "|         6|        6|     WN|          11259|        10140|      -3|     -10|     No|\n",
      "|         6|        6|     WN|          12892|        10140|      -3|     -13|     No|\n",
      "+----------+---------+-------+---------------+-------------+--------+--------+-------+\n",
      "only showing top 20 rows\n",
      "\n"
     ]
    }
   ],
   "source": [
    "flights_df1.withColumn('IsDelay',when(col('DepDelay')>=0,'Yes').otherwise('No')).show()"
   ]
  },
  {
   "cell_type": "markdown",
   "id": "a7518d55",
   "metadata": {},
   "source": [
    "#### exp()"
   ]
  },
  {
   "cell_type": "code",
   "execution_count": 179,
   "id": "608edfd4",
   "metadata": {},
   "outputs": [
    {
     "data": {
      "text/plain": [
       "-3"
      ]
     },
     "execution_count": 179,
     "metadata": {},
     "output_type": "execute_result"
    }
   ],
   "source": [
    "from pyspark.sql.functions import expr \n",
    "median_expr = expr(f\"percentile_approx({'ArrDelay'},0.5)\")\n",
    "\n",
    "flights_df.agg(median_expr.alias('median')).collect()[0][0]"
   ]
  },
  {
   "cell_type": "code",
   "execution_count": null,
   "id": "6686b22b",
   "metadata": {},
   "outputs": [],
   "source": []
  }
 ],
 "metadata": {
  "kernelspec": {
   "display_name": "Python 3",
   "language": "python",
   "name": "python3"
  },
  "language_info": {
   "codemirror_mode": {
    "name": "ipython",
    "version": 3
   },
   "file_extension": ".py",
   "mimetype": "text/x-python",
   "name": "python",
   "nbconvert_exporter": "python",
   "pygments_lexer": "ipython3",
   "version": "3.6.9"
  }
 },
 "nbformat": 4,
 "nbformat_minor": 5
}
