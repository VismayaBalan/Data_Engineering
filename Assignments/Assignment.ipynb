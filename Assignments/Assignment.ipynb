{
 "cells": [
  {
   "cell_type": "markdown",
   "metadata": {
    "application/vnd.databricks.v1+cell": {
     "cellMetadata": {},
     "inputWidgets": {},
     "nuid": "ac9fc9ce-3e65-4274-8f1c-e77dcb04cbfe",
     "showTitle": false,
     "title": ""
    }
   },
   "source": [
    "### ASSIGNMENT 11"
   ]
  },
  {
   "cell_type": "code",
   "execution_count": 0,
   "metadata": {
    "application/vnd.databricks.v1+cell": {
     "cellMetadata": {
      "byteLimit": 2048000,
      "rowLimit": 10000
     },
     "inputWidgets": {},
     "nuid": "991b2dd9-a4ba-4add-b21d-a3474ace5c68",
     "showTitle": false,
     "title": ""
    }
   },
   "outputs": [
    {
     "output_type": "display_data",
     "data": {
      "text/html": [
       "\n",
       "        <div>\n",
       "            <p><b>SparkContext</b></p>\n",
       "\n",
       "            <p><a href=\"/?o=2460785922056449#setting/sparkui/0925-040012-ca5znrbi/driver-3465185655416862252\">Spark UI</a></p>\n",
       "\n",
       "            <dl>\n",
       "              <dt>Version</dt>\n",
       "                <dd><code>v3.3.2</code></dd>\n",
       "              <dt>Master</dt>\n",
       "                <dd><code>local[8]</code></dd>\n",
       "              <dt>AppName</dt>\n",
       "                <dd><code>Databricks Shell</code></dd>\n",
       "            </dl>\n",
       "        </div>\n",
       "        "
      ]
     },
     "metadata": {
      "application/vnd.databricks.v1+output": {
       "addedWidgets": {},
       "arguments": {},
       "data": "\n        <div>\n            <p><b>SparkContext</b></p>\n\n            <p><a href=\"/?o=2460785922056449#setting/sparkui/0925-040012-ca5znrbi/driver-3465185655416862252\">Spark UI</a></p>\n\n            <dl>\n              <dt>Version</dt>\n                <dd><code>v3.3.2</code></dd>\n              <dt>Master</dt>\n                <dd><code>local[8]</code></dd>\n              <dt>AppName</dt>\n                <dd><code>Databricks Shell</code></dd>\n            </dl>\n        </div>\n        ",
       "datasetInfos": [],
       "metadata": {},
       "removedWidgets": [],
       "textData": null,
       "type": "htmlSandbox"
      }
     },
     "output_type": "display_data"
    }
   ],
   "source": [
    "sc"
   ]
  },
  {
   "cell_type": "code",
   "execution_count": 0,
   "metadata": {
    "application/vnd.databricks.v1+cell": {
     "cellMetadata": {
      "byteLimit": 2048000,
      "rowLimit": 10000
     },
     "inputWidgets": {},
     "nuid": "0a821138-fa35-4ab6-925b-e55e0bae7727",
     "showTitle": false,
     "title": ""
    }
   },
   "outputs": [
    {
     "output_type": "display_data",
     "data": {
      "text/html": [
       "\n",
       "            <div>\n",
       "                <p><b>SparkSession - hive</b></p>\n",
       "                \n",
       "        <div>\n",
       "            <p><b>SparkContext</b></p>\n",
       "\n",
       "            <p><a href=\"/?o=2460785922056449#setting/sparkui/0925-040012-ca5znrbi/driver-3465185655416862252\">Spark UI</a></p>\n",
       "\n",
       "            <dl>\n",
       "              <dt>Version</dt>\n",
       "                <dd><code>v3.3.2</code></dd>\n",
       "              <dt>Master</dt>\n",
       "                <dd><code>local[8]</code></dd>\n",
       "              <dt>AppName</dt>\n",
       "                <dd><code>Databricks Shell</code></dd>\n",
       "            </dl>\n",
       "        </div>\n",
       "        \n",
       "            </div>\n",
       "        "
      ]
     },
     "metadata": {
      "application/vnd.databricks.v1+output": {
       "addedWidgets": {},
       "arguments": {},
       "data": "\n            <div>\n                <p><b>SparkSession - hive</b></p>\n                \n        <div>\n            <p><b>SparkContext</b></p>\n\n            <p><a href=\"/?o=2460785922056449#setting/sparkui/0925-040012-ca5znrbi/driver-3465185655416862252\">Spark UI</a></p>\n\n            <dl>\n              <dt>Version</dt>\n                <dd><code>v3.3.2</code></dd>\n              <dt>Master</dt>\n                <dd><code>local[8]</code></dd>\n              <dt>AppName</dt>\n                <dd><code>Databricks Shell</code></dd>\n            </dl>\n        </div>\n        \n            </div>\n        ",
       "datasetInfos": [],
       "metadata": {},
       "removedWidgets": [],
       "textData": null,
       "type": "htmlSandbox"
      }
     },
     "output_type": "display_data"
    }
   ],
   "source": [
    "spark"
   ]
  },
  {
   "cell_type": "code",
   "execution_count": 0,
   "metadata": {
    "application/vnd.databricks.v1+cell": {
     "cellMetadata": {
      "byteLimit": 2048000,
      "rowLimit": 10000
     },
     "inputWidgets": {},
     "nuid": "5cf0ff79-657b-4301-b77e-5775a6df4e1a",
     "showTitle": false,
     "title": ""
    }
   },
   "outputs": [
    {
     "output_type": "stream",
     "name": "stdout",
     "output_type": "stream",
     "text": [
      "Out[3]: [FileInfo(path='dbfs:/FileStore/shared_uploads/vismayabalan2239@outlook.com/sales_data_sample.csv', name='sales_data_sample.csv', size=527958, modificationTime=1727091350000)]"
     ]
    }
   ],
   "source": [
    "dbutils.fs.ls(\"/FileStore/shared_uploads/vismayabalan2239@outlook.com/\")"
   ]
  },
  {
   "cell_type": "code",
   "execution_count": 0,
   "metadata": {
    "application/vnd.databricks.v1+cell": {
     "cellMetadata": {
      "byteLimit": 2048000,
      "rowLimit": 10000
     },
     "inputWidgets": {},
     "nuid": "b50a6795-5d1b-4c57-8bfe-48c6691cba24",
     "showTitle": false,
     "title": ""
    }
   },
   "outputs": [],
   "source": [
    "df = spark.read.format(\"csv\").option(\"header\",\"true\").option(\"inferschema\",\"true\").load(\"dbfs:/FileStore/shared_uploads/vismayabalan2239@outlook.com/sales_data_sample.csv\")"
   ]
  },
  {
   "cell_type": "code",
   "execution_count": 0,
   "metadata": {
    "application/vnd.databricks.v1+cell": {
     "cellMetadata": {
      "byteLimit": 2048000,
      "rowLimit": 10000
     },
     "inputWidgets": {},
     "nuid": "20e1c570-cffb-4937-8345-59da7f7d7e01",
     "showTitle": false,
     "title": ""
    }
   },
   "outputs": [
    {
     "output_type": "stream",
     "name": "stdout",
     "output_type": "stream",
     "text": [
      "+-----------+---------------+---------+---------------+-------+---------------+-------+------+--------+-------+-----------+----+-----------+--------------------+----------------+--------------------+------------+-------------+--------+----------+---------+---------+---------------+----------------+--------+\n|ORDERNUMBER|QUANTITYORDERED|PRICEEACH|ORDERLINENUMBER|  SALES|      ORDERDATE| STATUS|QTR_ID|MONTH_ID|YEAR_ID|PRODUCTLINE|MSRP|PRODUCTCODE|        CUSTOMERNAME|           PHONE|        ADDRESSLINE1|ADDRESSLINE2|         CITY|   STATE|POSTALCODE|  COUNTRY|TERRITORY|CONTACTLASTNAME|CONTACTFIRSTNAME|DEALSIZE|\n+-----------+---------------+---------+---------------+-------+---------------+-------+------+--------+-------+-----------+----+-----------+--------------------+----------------+--------------------+------------+-------------+--------+----------+---------+---------+---------------+----------------+--------+\n|      10107|             30|     95.7|              2| 2871.0| 2/24/2003 0:00|Shipped|     1|       2|   2003|Motorcycles|  95|   S10_1678|   Land of Toys Inc.|      2125557818|897 Long Airport ...|        null|          NYC|      NY|     10022|      USA|       NA|             Yu|            Kwai|   Small|\n|      10121|             34|    81.35|              5| 2765.9|  5/7/2003 0:00|Shipped|     2|       5|   2003|Motorcycles|  95|   S10_1678|  Reims Collectables|      26.47.1555|  59 rue de l'Abbaye|        null|        Reims|    null|     51100|   France|     EMEA|        Henriot|            Paul|   Small|\n|      10134|             41|    94.74|              2|3884.34|  7/1/2003 0:00|Shipped|     3|       7|   2003|Motorcycles|  95|   S10_1678|     Lyon Souveniers|+33 1 46 62 7555|27 rue du Colonel...|        null|        Paris|    null|     75508|   France|     EMEA|       Da Cunha|          Daniel|  Medium|\n|      10145|             45|    83.26|              6| 3746.7| 8/25/2003 0:00|Shipped|     3|       8|   2003|Motorcycles|  95|   S10_1678|   Toys4GrownUps.com|      6265557265|  78934 Hillside Dr.|        null|     Pasadena|      CA|     90003|      USA|       NA|          Young|           Julie|  Medium|\n|      10159|             49|    100.0|             14|5205.27|10/10/2003 0:00|Shipped|     4|      10|   2003|Motorcycles|  95|   S10_1678|Corporate Gift Id...|      6505551386|     7734 Strong St.|        null|San Francisco|      CA|      null|      USA|       NA|          Brown|           Julie|  Medium|\n|      10168|             36|    96.66|              1|3479.76|10/28/2003 0:00|Shipped|     4|      10|   2003|Motorcycles|  95|   S10_1678|Technics Stores Inc.|      6505556809|   9408 Furth Circle|        null|   Burlingame|      CA|     94217|      USA|       NA|         Hirano|            Juri|  Medium|\n|      10180|             29|    86.13|              9|2497.77|11/11/2003 0:00|Shipped|     4|      11|   2003|Motorcycles|  95|   S10_1678|Daedalus Designs ...|      20.16.1555|184, chausse de T...|        null|        Lille|    null|     59000|   France|     EMEA|          Rance|         Martine|   Small|\n|      10188|             48|    100.0|              1|5512.32|11/18/2003 0:00|Shipped|     4|      11|   2003|Motorcycles|  95|   S10_1678|        Herkku Gifts|   +47 2267 3215|Drammen 121, PR 7...|        null|       Bergen|    null|    N 5804|   Norway|     EMEA|         Oeztan|          Veysel|  Medium|\n|      10201|             22|    98.57|              2|2168.54| 12/1/2003 0:00|Shipped|     4|      12|   2003|Motorcycles|  95|   S10_1678|     Mini Wheels Co.|      6505555787|5557 North Pendal...|        null|San Francisco|      CA|      null|      USA|       NA|         Murphy|           Julie|   Small|\n|      10211|             41|    100.0|             14|4708.44| 1/15/2004 0:00|Shipped|     1|       1|   2004|Motorcycles|  95|   S10_1678|    Auto Canal Petit|  (1) 47.55.6555|   25, rue Lauriston|        null|        Paris|    null|     75016|   France|     EMEA|        Perrier|       Dominique|  Medium|\n|      10223|             37|    100.0|              1|3965.66| 2/20/2004 0:00|Shipped|     1|       2|   2004|Motorcycles|  95|   S10_1678|Australian Collec...|    03 9520 4555|   636 St Kilda Road|     Level 3|    Melbourne|Victoria|      3004|Australia|     APAC|       Ferguson|           Peter|  Medium|\n|      10237|             23|    100.0|              7|2333.12|  4/5/2004 0:00|Shipped|     2|       4|   2004|Motorcycles|  95|   S10_1678|     Vitachrome Inc.|      2125551500|   2678 Kingston Rd.|   Suite 101|          NYC|      NY|     10022|      USA|       NA|          Frick|         Michael|   Small|\n|      10251|             28|    100.0|              2|3188.64| 5/18/2004 0:00|Shipped|     2|       5|   2004|Motorcycles|  95|   S10_1678|Tekni Collectable...|      2015559350|       7476 Moss Rd.|        null|       Newark|      NJ|     94019|      USA|       NA|          Brown|         William|  Medium|\n|      10263|             34|    100.0|              2|3676.76| 6/28/2004 0:00|Shipped|     2|       6|   2004|Motorcycles|  95|   S10_1678|     Gift Depot Inc.|      2035552570| 25593 South Bay Ln.|        null|  Bridgewater|      CT|     97562|      USA|       NA|           King|           Julie|  Medium|\n|      10275|             45|    92.83|              1|4177.35| 7/23/2004 0:00|Shipped|     3|       7|   2004|Motorcycles|  95|   S10_1678|   La Rochelle Gifts|      40.67.8555|67, rue des Cinqu...|        null|       Nantes|    null|     44000|   France|     EMEA|        Labrune|          Janine|  Medium|\n|      10285|             36|    100.0|              6|4099.68| 8/27/2004 0:00|Shipped|     3|       8|   2004|Motorcycles|  95|   S10_1678|Marta's Replicas Co.|      6175558555| 39323 Spinnaker Dr.|        null|    Cambridge|      MA|     51247|      USA|       NA|      Hernandez|           Marta|  Medium|\n|      10299|             23|    100.0|              9|2597.39| 9/30/2004 0:00|Shipped|     3|       9|   2004|Motorcycles|  95|   S10_1678|Toys of Finland, Co.|     90-224 8555|       Keskuskatu 45|        null|     Helsinki|    null|     21240|  Finland|     EMEA|      Karttunen|           Matti|   Small|\n|      10309|             41|    100.0|              5|4394.38|10/15/2004 0:00|Shipped|     4|      10|   2004|Motorcycles|  95|   S10_1678|  Baane Mini Imports|      07-98 9555|Erling Skakkes ga...|        null|      Stavern|    null|      4110|   Norway|     EMEA|     Bergulfsen|           Jonas|  Medium|\n|      10318|             46|    94.74|              1|4358.04| 11/2/2004 0:00|Shipped|     4|      11|   2004|Motorcycles|  95|   S10_1678|Diecast Classics ...|      2155551555|    7586 Pompton St.|        null|    Allentown|      PA|     70267|      USA|       NA|             Yu|           Kyung|  Medium|\n|      10329|             42|    100.0|              1|4396.14|11/15/2004 0:00|Shipped|     4|      11|   2004|Motorcycles|  95|   S10_1678|   Land of Toys Inc.|      2125557818|897 Long Airport ...|        null|          NYC|      NY|     10022|      USA|       NA|             Yu|            Kwai|  Medium|\n+-----------+---------------+---------+---------------+-------+---------------+-------+------+--------+-------+-----------+----+-----------+--------------------+----------------+--------------------+------------+-------------+--------+----------+---------+---------+---------------+----------------+--------+\nonly showing top 20 rows\n\n"
     ]
    }
   ],
   "source": [
    "df.show()"
   ]
  },
  {
   "cell_type": "code",
   "execution_count": 0,
   "metadata": {
    "application/vnd.databricks.v1+cell": {
     "cellMetadata": {
      "byteLimit": 2048000,
      "rowLimit": 10000
     },
     "inputWidgets": {},
     "nuid": "6f0221df-18ee-41bf-ac8e-5d2f2d5c82c7",
     "showTitle": false,
     "title": ""
    }
   },
   "outputs": [
    {
     "output_type": "stream",
     "name": "stdout",
     "output_type": "stream",
     "text": [
      "root\n |-- ORDERNUMBER: integer (nullable = true)\n |-- QUANTITYORDERED: integer (nullable = true)\n |-- PRICEEACH: double (nullable = true)\n |-- ORDERLINENUMBER: integer (nullable = true)\n |-- SALES: double (nullable = true)\n |-- ORDERDATE: string (nullable = true)\n |-- STATUS: string (nullable = true)\n |-- QTR_ID: integer (nullable = true)\n |-- MONTH_ID: integer (nullable = true)\n |-- YEAR_ID: integer (nullable = true)\n |-- PRODUCTLINE: string (nullable = true)\n |-- MSRP: integer (nullable = true)\n |-- PRODUCTCODE: string (nullable = true)\n |-- CUSTOMERNAME: string (nullable = true)\n |-- PHONE: string (nullable = true)\n |-- ADDRESSLINE1: string (nullable = true)\n |-- ADDRESSLINE2: string (nullable = true)\n |-- CITY: string (nullable = true)\n |-- STATE: string (nullable = true)\n |-- POSTALCODE: string (nullable = true)\n |-- COUNTRY: string (nullable = true)\n |-- TERRITORY: string (nullable = true)\n |-- CONTACTLASTNAME: string (nullable = true)\n |-- CONTACTFIRSTNAME: string (nullable = true)\n |-- DEALSIZE: string (nullable = true)\n\n"
     ]
    }
   ],
   "source": [
    "df.printSchema()"
   ]
  },
  {
   "cell_type": "code",
   "execution_count": 0,
   "metadata": {
    "application/vnd.databricks.v1+cell": {
     "cellMetadata": {
      "byteLimit": 2048000,
      "rowLimit": 10000
     },
     "inputWidgets": {},
     "nuid": "f28b97f8-8e96-4bff-b43f-164f3833b1ab",
     "showTitle": false,
     "title": ""
    }
   },
   "outputs": [],
   "source": [
    "df.createOrReplaceTempView(\"productsales\")"
   ]
  },
  {
   "cell_type": "markdown",
   "metadata": {
    "application/vnd.databricks.v1+cell": {
     "cellMetadata": {},
     "inputWidgets": {},
     "nuid": "7c5f9ef1-af53-4d3d-b474-239227dffd72",
     "showTitle": false,
     "title": ""
    }
   },
   "source": [
    "#### 1. Identify Product with outliers sales in each quarter.\n",
    " \n"
   ]
  },
  {
   "cell_type": "code",
   "execution_count": 0,
   "metadata": {
    "application/vnd.databricks.v1+cell": {
     "cellMetadata": {
      "byteLimit": 2048000,
      "implicitDf": true,
      "rowLimit": 10000
     },
     "inputWidgets": {},
     "nuid": "5f27dd60-82ec-42db-89d6-1379c0bccd9f",
     "showTitle": false,
     "title": ""
    }
   },
   "outputs": [
    {
     "output_type": "display_data",
     "data": {
      "text/html": [
       "<style scoped>\n",
       "  .table-result-container {\n",
       "    max-height: 300px;\n",
       "    overflow: auto;\n",
       "  }\n",
       "  table, th, td {\n",
       "    border: 1px solid black;\n",
       "    border-collapse: collapse;\n",
       "  }\n",
       "  th, td {\n",
       "    padding: 5px;\n",
       "  }\n",
       "  th {\n",
       "    text-align: left;\n",
       "  }\n",
       "</style><div class='table-result-container'><table class='table-result'><thead style='background-color: white'><tr><th>PRODUCTLINE</th><th>QTR_ID</th><th>SALES</th></tr></thead><tbody><tr><td>Motorcycles</td><td>1</td><td>2871.0</td></tr><tr><td>Motorcycles</td><td>2</td><td>2765.9</td></tr><tr><td>Motorcycles</td><td>3</td><td>3884.34</td></tr><tr><td>Motorcycles</td><td>3</td><td>3746.7</td></tr><tr><td>Motorcycles</td><td>4</td><td>5205.27</td></tr><tr><td>Motorcycles</td><td>4</td><td>3479.76</td></tr><tr><td>Motorcycles</td><td>4</td><td>2497.77</td></tr><tr><td>Motorcycles</td><td>4</td><td>5512.32</td></tr><tr><td>Motorcycles</td><td>4</td><td>2168.54</td></tr><tr><td>Motorcycles</td><td>1</td><td>4708.44</td></tr><tr><td>Motorcycles</td><td>1</td><td>3965.66</td></tr><tr><td>Motorcycles</td><td>2</td><td>2333.12</td></tr><tr><td>Motorcycles</td><td>2</td><td>3188.64</td></tr><tr><td>Motorcycles</td><td>2</td><td>3676.76</td></tr><tr><td>Motorcycles</td><td>3</td><td>4177.35</td></tr><tr><td>Motorcycles</td><td>3</td><td>4099.68</td></tr><tr><td>Motorcycles</td><td>3</td><td>2597.39</td></tr><tr><td>Motorcycles</td><td>4</td><td>4394.38</td></tr><tr><td>Motorcycles</td><td>4</td><td>4358.04</td></tr><tr><td>Motorcycles</td><td>4</td><td>4396.14</td></tr><tr><td>Motorcycles</td><td>4</td><td>1451.0</td></tr><tr><td>Motorcycles</td><td>1</td><td>733.11</td></tr><tr><td>Motorcycles</td><td>1</td><td>3207.12</td></tr><tr><td>Motorcycles</td><td>2</td><td>2434.56</td></tr><tr><td>Classic Cars</td><td>1</td><td>5404.62</td></tr><tr><td>Classic Cars</td><td>4</td><td>4860.24</td></tr><tr><td>Classic Cars</td><td>4</td><td>5372.57</td></tr><tr><td>Classic Cars</td><td>1</td><td>6075.3</td></tr><tr><td>Classic Cars</td><td>1</td><td>6463.23</td></tr><tr><td>Classic Cars</td><td>2</td><td>6120.34</td></tr><tr><td>Classic Cars</td><td>3</td><td>4905.39</td></tr><tr><td>Classic Cars</td><td>4</td><td>6000.4</td></tr><tr><td>Classic Cars</td><td>4</td><td>3003.0</td></tr><tr><td>Classic Cars</td><td>4</td><td>3944.7</td></tr><tr><td>Classic Cars</td><td>4</td><td>5691.84</td></tr><tr><td>Classic Cars</td><td>1</td><td>4514.92</td></tr><tr><td>Classic Cars</td><td>1</td><td>2416.56</td></tr><tr><td>Classic Cars</td><td>2</td><td>4140.23</td></tr><tr><td>Motorcycles</td><td>1</td><td>3896.49</td></tr><tr><td>Motorcycles</td><td>2</td><td>2793.86</td></tr><tr><td>Motorcycles</td><td>3</td><td>3307.77</td></tr><tr><td>Motorcycles</td><td>3</td><td>5192.95</td></tr><tr><td>Motorcycles</td><td>4</td><td>5016.83</td></tr><tr><td>Motorcycles</td><td>4</td><td>3660.93</td></tr><tr><td>Motorcycles</td><td>4</td><td>4695.6</td></tr><tr><td>Motorcycles</td><td>4</td><td>3660.92</td></tr><tr><td>Motorcycles</td><td>4</td><td>3025.92</td></tr><tr><td>Motorcycles</td><td>1</td><td>3009.09</td></tr><tr><td>Motorcycles</td><td>1</td><td>5422.39</td></tr><tr><td>Motorcycles</td><td>2</td><td>2852.08</td></tr><tr><td>Motorcycles</td><td>2</td><td>5756.52</td></tr><tr><td>Motorcycles</td><td>2</td><td>4472.0</td></tr><tr><td>Motorcycles</td><td>3</td><td>2904.44</td></tr><tr><td>Motorcycles</td><td>3</td><td>6484.59</td></tr><tr><td>Motorcycles</td><td>3</td><td>3757.26</td></tr><tr><td>Motorcycles</td><td>4</td><td>4043.96</td></tr><tr><td>Motorcycles</td><td>4</td><td>5566.5</td></tr><tr><td>Motorcycles</td><td>4</td><td>3176.0</td></tr><tr><td>Motorcycles</td><td>4</td><td>2756.8</td></tr><tr><td>Motorcycles</td><td>4</td><td>1329.9</td></tr><tr><td>Motorcycles</td><td>1</td><td>5288.01</td></tr><tr><td>Motorcycles</td><td>1</td><td>2225.5</td></tr><tr><td>Motorcycles</td><td>2</td><td>5833.8</td></tr><tr><td>Motorcycles</td><td>2</td><td>5887.35</td></tr><tr><td>Motorcycles</td><td>1</td><td>6065.55</td></tr><tr><td>Motorcycles</td><td>3</td><td>5176.38</td></tr><tr><td>Motorcycles</td><td>4</td><td>4132.7</td></tr><tr><td>Motorcycles</td><td>4</td><td>4183.0</td></tr><tr><td>Motorcycles</td><td>1</td><td>6123.4</td></tr><tr><td>Motorcycles</td><td>3</td><td>5438.07</td></tr><tr><td>Motorcycles</td><td>3</td><td>6683.34</td></tr><tr><td>Motorcycles</td><td>4</td><td>4570.4</td></tr><tr><td>Motorcycles</td><td>4</td><td>5868.2</td></tr><tr><td>Motorcycles</td><td>4</td><td>2990.13</td></tr><tr><td>Motorcycles</td><td>1</td><td>3664.1</td></tr><tr><td>Motorcycles</td><td>1</td><td>3834.38</td></tr><tr><td>Motorcycles</td><td>1</td><td>1822.17</td></tr><tr><td>Classic Cars</td><td>2</td><td>5004.8</td></tr><tr><td>Classic Cars</td><td>2</td><td>4398.24</td></tr><tr><td>Classic Cars</td><td>3</td><td>5597.76</td></tr><tr><td>Classic Cars</td><td>4</td><td>4526.08</td></tr><tr><td>Classic Cars</td><td>4</td><td>5924.16</td></tr><tr><td>Classic Cars</td><td>4</td><td>3492.48</td></tr><tr><td>Classic Cars</td><td>4</td><td>3854.24</td></tr><tr><td>Classic Cars</td><td>4</td><td>5324.4</td></tr><tr><td>Classic Cars</td><td>1</td><td>5197.92</td></tr><tr><td>Classic Cars</td><td>1</td><td>5997.6</td></tr><tr><td>Classic Cars</td><td>2</td><td>2910.4</td></tr><tr><td>Classic Cars</td><td>2</td><td>3378.24</td></tr><tr><td>Classic Cars</td><td>3</td><td>3508.8</td></tr><tr><td>Classic Cars</td><td>3</td><td>2992.0</td></tr><tr><td>Classic Cars</td><td>3</td><td>3427.2</td></tr><tr><td>Classic Cars</td><td>4</td><td>2692.8</td></tr><tr><td>Classic Cars</td><td>4</td><td>4128.96</td></tr><tr><td>Classic Cars</td><td>4</td><td>3051.71</td></tr><tr><td>Classic Cars</td><td>4</td><td>1201.25</td></tr><tr><td>Classic Cars</td><td>4</td><td>1962.22</td></tr><tr><td>Classic Cars</td><td>4</td><td>2624.64</td></tr><tr><td>Classic Cars</td><td>1</td><td>4046.25</td></tr><tr><td>Classic Cars</td><td>1</td><td>4846.7</td></tr><tr><td>Classic Cars</td><td>1</td><td>3370.56</td></tr><tr><td>Classic Cars</td><td>2</td><td>2764.88</td></tr><tr><td>Classic Cars</td><td>1</td><td>5398.26</td></tr><tr><td>Classic Cars</td><td>2</td><td>4305.28</td></tr><tr><td>Classic Cars</td><td>2</td><td>3347.74</td></tr><tr><td>Classic Cars</td><td>3</td><td>3188.12</td></tr><tr><td>Classic Cars</td><td>3</td><td>3191.2</td></tr><tr><td>Classic Cars</td><td>4</td><td>3536.82</td></tr><tr><td>Classic Cars</td><td>4</td><td>5362.83</td></tr><tr><td>Classic Cars</td><td>4</td><td>3433.36</td></tr><tr><td>Classic Cars</td><td>4</td><td>4263.74</td></tr><tr><td>Classic Cars</td><td>4</td><td>4076.19</td></tr><tr><td>Classic Cars</td><td>1</td><td>6426.5</td></tr><tr><td>Classic Cars</td><td>2</td><td>4591.72</td></tr><tr><td>Classic Cars</td><td>2</td><td>4033.38</td></tr><tr><td>Classic Cars</td><td>3</td><td>4302.08</td></tr><tr><td>Classic Cars</td><td>3</td><td>3855.9</td></tr><tr><td>Classic Cars</td><td>4</td><td>6680.78</td></tr><tr><td>Classic Cars</td><td>4</td><td>6678.0</td></tr><tr><td>Classic Cars</td><td>4</td><td>2851.54</td></tr><tr><td>Classic Cars</td><td>4</td><td>3188.12</td></tr><tr><td>Classic Cars</td><td>4</td><td>4428.0</td></tr><tr><td>Classic Cars</td><td>4</td><td>5780.92</td></tr><tr><td>Classic Cars</td><td>1</td><td>2297.05</td></tr><tr><td>Classic Cars</td><td>1</td><td>6231.54</td></tr><tr><td>Classic Cars</td><td>1</td><td>1735.3</td></tr><tr><td>Classic Cars</td><td>2</td><td>4427.73</td></tr><tr><td>Classic Cars</td><td>2</td><td>5894.94</td></tr><tr><td>Classic Cars</td><td>1</td><td>5265.15</td></tr><tr><td>Classic Cars</td><td>4</td><td>5019.9</td></tr><tr><td>Classic Cars</td><td>4</td><td>5411.07</td></tr><tr><td>Classic Cars</td><td>4</td><td>3840.9</td></tr><tr><td>Classic Cars</td><td>4</td><td>3930.4</td></tr><tr><td>Classic Cars</td><td>1</td><td>4517.91</td></tr><tr><td>Classic Cars</td><td>2</td><td>5774.72</td></tr><tr><td>Classic Cars</td><td>2</td><td>3922.56</td></tr><tr><td>Classic Cars</td><td>3</td><td>3432.24</td></tr><tr><td>Classic Cars</td><td>4</td><td>5521.89</td></tr><tr><td>Classic Cars</td><td>4</td><td>2930.27</td></tr><tr><td>Classic Cars</td><td>4</td><td>3584.25</td></tr><tr><td>Classic Cars</td><td>1</td><td>2817.87</td></tr><tr><td>Classic Cars</td><td>1</td><td>3420.0</td></tr><tr><td>Classic Cars</td><td>1</td><td>2575.04</td></tr><tr><td>Classic Cars</td><td>2</td><td>1961.28</td></tr><tr><td>Classic Cars</td><td>2</td><td>6034.38</td></tr><tr><td>Classic Cars</td><td>3</td><td>4904.0</td></tr><tr><td>Classic Cars</td><td>4</td><td>3883.74</td></tr><tr><td>Classic Cars</td><td>3</td><td>5818.4</td></tr><tr><td>Classic Cars</td><td>4</td><td>6570.76</td></tr><tr><td>Classic Cars</td><td>4</td><td>2688.0</td></tr><tr><td>Classic Cars</td><td>4</td><td>1888.26</td></tr><tr><td>Classic Cars</td><td>4</td><td>2513.28</td></tr><tr><td>Classic Cars</td><td>4</td><td>4764.48</td></tr><tr><td>Classic Cars</td><td>1</td><td>3560.64</td></tr><tr><td>Classic Cars</td><td>1</td><td>3823.64</td></tr><tr><td>Classic Cars</td><td>1</td><td>2280.96</td></tr><tr><td>Trucks and Buses</td><td>1</td><td>3394.98</td></tr><tr><td>Trucks and Buses</td><td>1</td><td>3415.44</td></tr><tr><td>Trucks and Buses</td><td>2</td><td>2439.57</td></tr><tr><td>Trucks and Buses</td><td>3</td><td>4829.8</td></tr><tr><td>Trucks and Buses</td><td>3</td><td>4100.1</td></tr><tr><td>Trucks and Buses</td><td>4</td><td>6563.06</td></tr><tr><td>Trucks and Buses</td><td>4</td><td>6163.94</td></tr><tr><td>Trucks and Buses</td><td>4</td><td>4933.92</td></tr><tr><td>Trucks and Buses</td><td>4</td><td>4056.36</td></tr><tr><td>Trucks and Buses</td><td>1</td><td>5759.42</td></tr><tr><td>Trucks and Buses</td><td>1</td><td>3451.0</td></tr><tr><td>Trucks and Buses</td><td>2</td><td>5920.4</td></tr><tr><td>Trucks and Buses</td><td>2</td><td>6668.24</td></tr><tr><td>Trucks and Buses</td><td>3</td><td>4094.72</td></tr><tr><td>Trucks and Buses</td><td>3</td><td>2938.5</td></tr><tr><td>Trucks and Buses</td><td>3</td><td>6387.8</td></tr><tr><td>Trucks and Buses</td><td>4</td><td>6396.0</td></tr><tr><td>Trucks and Buses</td><td>4</td><td>2669.1</td></tr><tr><td>Trucks and Buses</td><td>4</td><td>4784.13</td></tr><tr><td>Trucks and Buses</td><td>4</td><td>3273.93</td></tr><tr><td>Trucks and Buses</td><td>4</td><td>3586.43</td></tr><tr><td>Trucks and Buses</td><td>4</td><td>5960.36</td></tr><tr><td>Trucks and Buses</td><td>1</td><td>2952.0</td></tr><tr><td>Trucks and Buses</td><td>1</td><td>2464.8</td></tr><tr><td>Trucks and Buses</td><td>2</td><td>6232.0</td></tr><tr><td>Motorcycles</td><td>1</td><td>3036.6</td></tr><tr><td>Motorcycles</td><td>3</td><td>2711.2</td></tr><tr><td>Motorcycles</td><td>4</td><td>6238.84</td></tr><tr><td>Motorcycles</td><td>4</td><td>4639.25</td></tr><tr><td>Motorcycles</td><td>4</td><td>6747.6</td></tr><tr><td>Motorcycles</td><td>4</td><td>4512.48</td></tr><tr><td>Motorcycles</td><td>4</td><td>4029.0</td></tr><tr><td>Motorcycles</td><td>1</td><td>4771.8</td></tr><tr><td>Motorcycles</td><td>1</td><td>6087.94</td></tr><tr><td>Motorcycles</td><td>2</td><td>4193.28</td></tr><tr><td>Motorcycles</td><td>2</td><td>6434.4</td></tr><tr><td>Motorcycles</td><td>3</td><td>5181.5</td></tr><tr><td>Motorcycles</td><td>3</td><td>4157.04</td></tr><tr><td>Motorcycles</td><td>4</td><td>4660.24</td></tr><tr><td>Motorcycles</td><td>4</td><td>4111.8</td></tr><tr><td>Motorcycles</td><td>4</td><td>3542.64</td></tr><tr><td>Motorcycles</td><td>1</td><td>3877.06</td></tr><tr><td>Motorcycles</td><td>1</td><td>3867.08</td></tr><tr><td>Motorcycles</td><td>1</td><td>5951.44</td></tr><tr><td>Motorcycles</td><td>2</td><td>3447.78</td></tr><tr><td>Classic Cars</td><td>1</td><td>5958.5</td></tr><tr><td>Classic Cars</td><td>2</td><td>5911.64</td></tr><tr><td>Classic Cars</td><td>3</td><td>4985.64</td></tr><tr><td>Classic Cars</td><td>3</td><td>5393.64</td></tr><tr><td>Classic Cars</td><td>4</td><td>4880.02</td></tr><tr><td>Classic Cars</td><td>4</td><td>4038.21</td></tr><tr><td>Classic Cars</td><td>4</td><td>3807.12</td></tr><tr><td>Classic Cars</td><td>1</td><td>3142.36</td></tr><tr><td>Classic Cars</td><td>1</td><td>4713.6</td></tr><tr><td>Classic Cars</td><td>2</td><td>4381.25</td></tr><tr><td>Classic Cars</td><td>3</td><td>4283.01</td></tr><tr><td>Classic Cars</td><td>3</td><td>4364.82</td></tr><tr><td>Classic Cars</td><td>3</td><td>4242.24</td></tr><tr><td>Classic Cars</td><td>4</td><td>4982.7</td></tr><tr><td>Classic Cars</td><td>4</td><td>6393.54</td></tr><tr><td>Classic Cars</td><td>4</td><td>1466.91</td></tr><tr><td>Classic Cars</td><td>4</td><td>4059.33</td></tr><tr><td>Classic Cars</td><td>4</td><td>4801.52</td></tr><tr><td>Classic Cars</td><td>4</td><td>2711.66</td></tr><tr><td>Classic Cars</td><td>1</td><td>5862.0</td></tr><tr><td>Classic Cars</td><td>1</td><td>4071.85</td></tr><tr><td>Classic Cars</td><td>1</td><td>6130.35</td></tr><tr><td>Classic Cars</td><td>2</td><td>3693.34</td></tr><tr><td>Classic Cars</td><td>3</td><td>6031.68</td></tr><tr><td>Classic Cars</td><td>3</td><td>3494.94</td></tr><tr><td>Classic Cars</td><td>4</td><td>5294.14</td></tr><tr><td>Classic Cars</td><td>4</td><td>5464.69</td></tr><tr><td>Classic Cars</td><td>4</td><td>2860.76</td></tr><tr><td>Classic Cars</td><td>4</td><td>5590.0</td></tr><tr><td>Classic Cars</td><td>4</td><td>2254.8</td></tr><tr><td>Classic Cars</td><td>1</td><td>4946.76</td></tr><tr><td>Classic Cars</td><td>1</td><td>2495.5</td></tr><tr><td>Classic Cars</td><td>2</td><td>3167.38</td></tr><tr><td>Classic Cars</td><td>2</td><td>2402.84</td></tr><tr><td>Classic Cars</td><td>3</td><td>2454.54</td></tr><tr><td>Classic Cars</td><td>3</td><td>5464.69</td></tr><tr><td>Classic Cars</td><td>3</td><td>4756.5</td></tr><tr><td>Classic Cars</td><td>4</td><td>3984.6</td></tr><tr><td>Classic Cars</td><td>4</td><td>3100.32</td></tr><tr><td>Classic Cars</td><td>4</td><td>4850.3</td></tr><tr><td>Classic Cars</td><td>4</td><td>3846.98</td></tr><tr><td>Classic Cars</td><td>4</td><td>4220.92</td></tr><tr><td>Classic Cars</td><td>1</td><td>3288.82</td></tr><tr><td>Classic Cars</td><td>1</td><td>3987.2</td></tr><tr><td>Classic Cars</td><td>1</td><td>1809.5</td></tr><tr><td>Classic Cars</td><td>2</td><td>1092.2</td></tr><tr><td>Classic Cars</td><td>1</td><td>4566.05</td></tr><tr><td>Classic Cars</td><td>2</td><td>5938.14</td></tr><tr><td>Classic Cars</td><td>4</td><td>5559.03</td></tr><tr><td>Classic Cars</td><td>1</td><td>3114.4</td></tr><tr><td>Classic Cars</td><td>1</td><td>5045.22</td></tr><tr><td>Classic Cars</td><td>2</td><td>4157.73</td></tr><tr><td>Classic Cars</td><td>3</td><td>3778.8</td></tr><tr><td>Classic Cars</td><td>4</td><td>3633.4</td></tr><tr><td>Classic Cars</td><td>4</td><td>2583.6</td></tr><tr><td>Classic Cars</td><td>4</td><td>3105.62</td></tr><tr><td>Classic Cars</td><td>4</td><td>4408.56</td></tr><tr><td>Classic Cars</td><td>4</td><td>3042.41</td></tr><tr><td>Classic Cars</td><td>1</td><td>5941.5</td></tr><tr><td>Classic Cars</td><td>1</td><td>3241.9</td></tr><tr><td>Classic Cars</td><td>1</td><td>6109.29</td></tr><tr><td>Classic Cars</td><td>2</td><td>3387.78</td></tr><tr><td>Classic Cars</td><td>1</td><td>3485.82</td></tr><tr><td>Classic Cars</td><td>2</td><td>2042.88</td></tr><tr><td>Classic Cars</td><td>3</td><td>1800.24</td></tr><tr><td>Classic Cars</td><td>3</td><td>1340.64</td></tr><tr><td>Classic Cars</td><td>4</td><td>1762.08</td></tr><tr><td>Classic Cars</td><td>4</td><td>2298.24</td></tr><tr><td>Classic Cars</td><td>4</td><td>1628.0</td></tr><tr><td>Classic Cars</td><td>4</td><td>1939.2</td></tr><tr><td>Classic Cars</td><td>4</td><td>3651.56</td></tr><tr><td>Classic Cars</td><td>1</td><td>2591.96</td></tr><tr><td>Classic Cars</td><td>1</td><td>2864.17</td></tr><tr><td>Classic Cars</td><td>2</td><td>1484.2</td></tr><tr><td>Classic Cars</td><td>2</td><td>2254.25</td></tr><tr><td>Classic Cars</td><td>3</td><td>2681.35</td></tr><tr><td>Classic Cars</td><td>3</td><td>3184.02</td></tr><tr><td>Classic Cars</td><td>3</td><td>2846.63</td></tr><tr><td>Classic Cars</td><td>4</td><td>1685.42</td></tr><tr><td>Classic Cars</td><td>4</td><td>3988.6</td></tr><tr><td>Classic Cars</td><td>4</td><td>2789.96</td></tr><tr><td>Classic Cars</td><td>4</td><td>3607.56</td></tr><tr><td>Classic Cars</td><td>4</td><td>3368.16</td></tr><tr><td>Classic Cars</td><td>1</td><td>2775.08</td></tr><tr><td>Classic Cars</td><td>1</td><td>1627.92</td></tr><tr><td>Classic Cars</td><td>1</td><td>2529.36</td></tr><tr><td>Classic Cars</td><td>2</td><td>3065.78</td></tr><tr><td>Trucks and Buses</td><td>1</td><td>4615.78</td></tr><tr><td>Trucks and Buses</td><td>2</td><td>5723.78</td></tr><tr><td>Trucks and Buses</td><td>2</td><td>2559.6</td></tr><tr><td>Trucks and Buses</td><td>3</td><td>2140.11</td></tr><tr><td>Trucks and Buses</td><td>3</td><td>3327.6</td></tr><tr><td>Trucks and Buses</td><td>4</td><td>3543.28</td></tr><tr><td>Trucks and Buses</td><td>4</td><td>4516.22</td></tr><tr><td>Trucks and Buses</td><td>4</td><td>6445.46</td></tr><tr><td>Trucks and Buses</td><td>4</td><td>3384.36</td></tr><tr><td>Trucks and Buses</td><td>1</td><td>4891.68</td></tr><tr><td>Trucks and Buses</td><td>1</td><td>4521.96</td></tr><tr><td>Trucks and Buses</td><td>2</td><td>5069.66</td></tr><tr><td>Trucks and Buses</td><td>2</td><td>6541.2</td></tr><tr><td>Trucks and Buses</td><td>3</td><td>3012.27</td></tr><tr><td>Trucks and Buses</td><td>3</td><td>5247.18</td></tr><tr><td>Trucks and Buses</td><td>3</td><td>2214.87</td></tr><tr><td>Trucks and Buses</td><td>4</td><td>4773.18</td></tr><tr><td>Trucks and Buses</td><td>4</td><td>6185.7</td></tr><tr><td>Trucks and Buses</td><td>4</td><td>1517.88</td></tr><tr><td>Trucks and Buses</td><td>4</td><td>6372.6</td></tr><tr><td>Trucks and Buses</td><td>4</td><td>5232.96</td></tr><tr><td>Trucks and Buses</td><td>4</td><td>2694.72</td></tr><tr><td>Trucks and Buses</td><td>1</td><td>1749.79</td></tr><tr><td>Trucks and Buses</td><td>1</td><td>2130.56</td></tr><tr><td>Trucks and Buses</td><td>2</td><td>5951.34</td></tr><tr><td>Trucks and Buses</td><td>2</td><td>4692.6</td></tr><tr><td>Classic Cars</td><td>1</td><td>3731.04</td></tr><tr><td>Classic Cars</td><td>2</td><td>2142.0</td></tr><tr><td>Classic Cars</td><td>3</td><td>2838.81</td></tr><tr><td>Classic Cars</td><td>3</td><td>3230.37</td></tr><tr><td>Classic Cars</td><td>4</td><td>5182.0</td></tr><tr><td>Classic Cars</td><td>4</td><td>4391.1</td></tr><tr><td>Classic Cars</td><td>4</td><td>4477.32</td></tr><tr><td>Classic Cars</td><td>4</td><td>3544.56</td></tr><tr><td>Classic Cars</td><td>4</td><td>5195.85</td></tr><tr><td>Classic Cars</td><td>1</td><td>4180.44</td></tr><tr><td>Classic Cars</td><td>1</td><td>2684.43</td></tr><tr><td>Classic Cars</td><td>2</td><td>1958.88</td></tr><tr><td>Classic Cars</td><td>2</td><td>4910.57</td></tr><tr><td>Classic Cars</td><td>3</td><td>4468.4</td></tr><tr><td>Classic Cars</td><td>3</td><td>3127.88</td></tr><tr><td>Classic Cars</td><td>3</td><td>2675.13</td></tr><tr><td>Classic Cars</td><td>4</td><td>2807.61</td></tr><tr><td>Classic Cars</td><td>4</td><td>2504.75</td></tr><tr><td>Classic Cars</td><td>4</td><td>2984.88</td></tr><tr><td>Classic Cars</td><td>4</td><td>2524.86</td></tr><tr><td>Classic Cars</td><td>4</td><td>4136.0</td></tr><tr><td>Classic Cars</td><td>1</td><td>4068.7</td></tr><tr><td>Classic Cars</td><td>1</td><td>5182.0</td></tr><tr><td>Classic Cars</td><td>1</td><td>5243.79</td></tr><tr><td>Classic Cars</td><td>2</td><td>3832.64</td></tr><tr><td>Trucks and Buses</td><td>1</td><td>3920.0</td></tr><tr><td>Trucks and Buses</td><td>1</td><td>4916.66</td></tr><tr><td>Trucks and Buses</td><td>2</td><td>3857.0</td></tr><tr><td>Trucks and Buses</td><td>3</td><td>4181.44</td></tr><tr><td>Trucks and Buses</td><td>3</td><td>4641.0</td></tr><tr><td>Trucks and Buses</td><td>4</td><td>3570.12</td></tr><tr><td>Trucks and Buses</td><td>4</td><td>4480.32</td></tr><tr><td>Trucks and Buses</td><td>4</td><td>2033.64</td></tr><tr><td>Trucks and Buses</td><td>4</td><td>1960.14</td></tr><tr><td>Trucks and Buses</td><td>4</td><td>3966.78</td></tr><tr><td>Trucks and Buses</td><td>1</td><td>5152.0</td></tr><tr><td>Trucks and Buses</td><td>1</td><td>3360.0</td></tr><tr><td>Trucks and Buses</td><td>2</td><td>3451.0</td></tr><tr><td>Trucks and Buses</td><td>2</td><td>5453.0</td></tr><tr><td>Trucks and Buses</td><td>3</td><td>4164.12</td></tr><tr><td>Trucks and Buses</td><td>3</td><td>2800.08</td></tr><tr><td>Trucks and Buses</td><td>3</td><td>4687.94</td></tr><tr><td>Trucks and Buses</td><td>4</td><td>4508.0</td></tr><tr><td>Trucks and Buses</td><td>4</td><td>4181.44</td></tr><tr><td>Trucks and Buses</td><td>4</td><td>2251.04</td></tr><tr><td>Trucks and Buses</td><td>4</td><td>1167.25</td></tr><tr><td>Trucks and Buses</td><td>4</td><td>2083.2</td></tr><tr><td>Trucks and Buses</td><td>4</td><td>3822.0</td></tr><tr><td>Trucks and Buses</td><td>1</td><td>3911.49</td></tr><tr><td>Trucks and Buses</td><td>1</td><td>4704.0</td></tr><tr><td>Trucks and Buses</td><td>1</td><td>2467.9</td></tr><tr><td>Trucks and Buses</td><td>2</td><td>3213.0</td></tr><tr><td>Classic Cars</td><td>1</td><td>4379.18</td></tr><tr><td>Classic Cars</td><td>2</td><td>5004.8</td></tr><tr><td>Classic Cars</td><td>3</td><td>3644.75</td></tr><tr><td>Classic Cars</td><td>3</td><td>2702.04</td></tr><tr><td>Classic Cars</td><td>4</td><td>3764.88</td></tr><tr><td>Classic Cars</td><td>4</td><td>4508.0</td></tr><tr><td>Classic Cars</td><td>4</td><td>5418.16</td></tr><tr><td>Classic Cars</td><td>4</td><td>3300.66</td></tr><tr><td>Classic Cars</td><td>4</td><td>6182.4</td></tr><tr><td>Classic Cars</td><td>1</td><td>4186.73</td></tr><tr><td>Classic Cars</td><td>1</td><td>4529.28</td></tr><tr><td>Classic Cars</td><td>2</td><td>5628.89</td></tr><tr><td>Classic Cars</td><td>2</td><td>3054.48</td></tr><tr><td>Classic Cars</td><td>3</td><td>2526.51</td></tr><tr><td>Classic Cars</td><td>3</td><td>4667.86</td></tr><tr><td>Classic Cars</td><td>3</td><td>6499.32</td></tr><tr><td>Classic Cars</td><td>4</td><td>5917.78</td></tr><tr><td>Classic Cars</td><td>4</td><td>6231.91</td></tr><tr><td>Classic Cars</td><td>4</td><td>5803.14</td></tr><tr><td>Classic Cars</td><td>4</td><td>6434.02</td></tr><tr><td>Classic Cars</td><td>4</td><td>6454.4</td></tr><tr><td>Classic Cars</td><td>4</td><td>4196.8</td></tr><tr><td>Classic Cars</td><td>1</td><td>2611.8</td></tr><tr><td>Classic Cars</td><td>1</td><td>5895.05</td></tr><tr><td>Classic Cars</td><td>1</td><td>3375.72</td></tr><tr><td>Classic Cars</td><td>2</td><td>4464.24</td></tr><tr><td>Vintage Cars</td><td>1</td><td>4808.31</td></tr><tr><td>Vintage Cars</td><td>1</td><td>3288.78</td></tr><tr><td>Vintage Cars</td><td>2</td><td>3254.72</td></tr><tr><td>Vintage Cars</td><td>3</td><td>3184.94</td></tr><tr><td>Vintage Cars</td><td>3</td><td>5907.5</td></tr><tr><td>Vintage Cars</td><td>4</td><td>4389.12</td></tr><tr><td>Vintage Cars</td><td>4</td><td>5036.16</td></tr><tr><td>Vintage Cars</td><td>4</td><td>2183.25</td></tr><tr><td>Vintage Cars</td><td>4</td><td>3106.88</td></tr><tr><td>Vintage Cars</td><td>4</td><td>3735.72</td></tr><tr><td>Vintage Cars</td><td>1</td><td>2413.26</td></tr><tr><td>Vintage Cars</td><td>1</td><td>2953.75</td></tr><tr><td>Vintage Cars</td><td>2</td><td>4684.8</td></tr><tr><td>Vintage Cars</td><td>2</td><td>3248.7</td></tr><tr><td>Vintage Cars</td><td>3</td><td>5239.5</td></tr><tr><td>Vintage Cars</td><td>3</td><td>4567.98</td></tr><tr><td>Vintage Cars</td><td>4</td><td>3535.35</td></tr><tr><td>Vintage Cars</td><td>4</td><td>3843.34</td></tr><tr><td>Vintage Cars</td><td>4</td><td>3710.9</td></tr><tr><td>Vintage Cars</td><td>4</td><td>4375.98</td></tr><tr><td>Vintage Cars</td><td>4</td><td>1516.62</td></tr><tr><td>Vintage Cars</td><td>4</td><td>2509.0</td></tr><tr><td>Vintage Cars</td><td>1</td><td>2515.32</td></tr><tr><td>Vintage Cars</td><td>1</td><td>5548.9</td></tr><tr><td>Vintage Cars</td><td>2</td><td>4873.05</td></tr><tr><td>Vintage Cars</td><td>1</td><td>2055.74</td></tr><tr><td>Vintage Cars</td><td>1</td><td>2354.88</td></tr><tr><td>Vintage Cars</td><td>2</td><td>2309.58</td></tr><tr><td>Vintage Cars</td><td>3</td><td>2113.37</td></tr><tr><td>Vintage Cars</td><td>3</td><td>1746.6</td></tr><tr><td>Vintage Cars</td><td>4</td><td>2304.45</td></tr><tr><td>Vintage Cars</td><td>4</td><td>2122.08</td></tr><tr><td>Vintage Cars</td><td>4</td><td>1742.4</td></tr><tr><td>Vintage Cars</td><td>4</td><td>2455.02</td></tr><tr><td>Vintage Cars</td><td>4</td><td>3053.28</td></tr><tr><td>Vintage Cars</td><td>1</td><td>1423.29</td></tr><tr><td>Vintage Cars</td><td>1</td><td>1504.12</td></tr><tr><td>Vintage Cars</td><td>2</td><td>1164.4</td></tr><tr><td>Vintage Cars</td><td>2</td><td>1500.75</td></tr><tr><td>Vintage Cars</td><td>3</td><td>1557.36</td></tr><tr><td>Vintage Cars</td><td>3</td><td>1345.68</td></tr><tr><td>Vintage Cars</td><td>4</td><td>1795.24</td></tr><tr><td>Vintage Cars</td><td>4</td><td>1105.25</td></tr><tr><td>Vintage Cars</td><td>4</td><td>2364.88</td></tr><tr><td>Vintage Cars</td><td>4</td><td>2427.03</td></tr><tr><td>Vintage Cars</td><td>4</td><td>1237.95</td></tr><tr><td>Vintage Cars</td><td>4</td><td>1593.02</td></tr><tr><td>Vintage Cars</td><td>1</td><td>3156.16</td></tr><tr><td>Vintage Cars</td><td>1</td><td>1320.75</td></tr><tr><td>Vintage Cars</td><td>1</td><td>4998.0</td></tr><tr><td>Vintage Cars</td><td>2</td><td>1293.75</td></tr><tr><td>Classic Cars</td><td>1</td><td>5433.08</td></tr><tr><td>Classic Cars</td><td>2</td><td>3073.72</td></tr><tr><td>Classic Cars</td><td>3</td><td>4380.2</td></tr><tr><td>Classic Cars</td><td>3</td><td>5848.68</td></tr><tr><td>Classic Cars</td><td>4</td><td>6153.73</td></tr><tr><td>Classic Cars</td><td>4</td><td>4965.24</td></tr><tr><td>Classic Cars</td><td>4</td><td>5435.64</td></tr><tr><td>Classic Cars</td><td>4</td><td>4258.36</td></tr><tr><td>Classic Cars</td><td>4</td><td>4032.0</td></tr><tr><td>Classic Cars</td><td>1</td><td>4492.36</td></tr><tr><td>Classic Cars</td><td>1</td><td>4161.38</td></tr><tr><td>Classic Cars</td><td>2</td><td>2508.66</td></tr><tr><td>Classic Cars</td><td>2</td><td>3374.88</td></tr><tr><td>Classic Cars</td><td>3</td><td>5196.6</td></tr><tr><td>Classic Cars</td><td>3</td><td>2604.52</td></tr><tr><td>Classic Cars</td><td>3</td><td>2936.8</td></tr><tr><td>Classic Cars</td><td>4</td><td>3424.64</td></tr><tr><td>Classic Cars</td><td>4</td><td>2923.2</td></tr><tr><td>Classic Cars</td><td>4</td><td>4489.76</td></tr><tr><td>Classic Cars</td><td>4</td><td>4849.24</td></tr><tr><td>Classic Cars</td><td>4</td><td>5848.92</td></tr><tr><td>Classic Cars</td><td>1</td><td>2758.7</td></tr><tr><td>Classic Cars</td><td>1</td><td>1449.76</td></tr><tr><td>Classic Cars</td><td>2</td><td>5202.94</td></tr><tr><td>Planes</td><td>1</td><td>5279.4</td></tr><tr><td>Planes</td><td>2</td><td>2781.66</td></tr><tr><td>Planes</td><td>3</td><td>5248.0</td></tr><tr><td>Planes</td><td>4</td><td>6531.44</td></tr><tr><td>Planes</td><td>4</td><td>5763.72</td></tr><tr><td>Planes</td><td>4</td><td>6490.68</td></tr><tr><td>Planes</td><td>4</td><td>6004.8</td></tr><tr><td>Planes</td><td>1</td><td>5719.5</td></tr><tr><td>Planes</td><td>2</td><td>6567.96</td></tr><tr><td>Planes</td><td>3</td><td>6724.0</td></tr><tr><td>Planes</td><td>3</td><td>5747.85</td></tr><tr><td>Planes</td><td>3</td><td>5676.84</td></tr><tr><td>Planes</td><td>4</td><td>3704.13</td></tr><tr><td>Planes</td><td>4</td><td>2804.75</td></tr><tr><td>Planes</td><td>4</td><td>5624.79</td></tr><tr><td>Planes</td><td>4</td><td>3881.28</td></tr><tr><td>Planes</td><td>1</td><td>1611.4</td></tr><tr><td>Planes</td><td>1</td><td>1364.25</td></tr><tr><td>Planes</td><td>1</td><td>4215.09</td></tr><tr><td>Planes</td><td>2</td><td>6433.82</td></tr><tr><td>Planes</td><td>2</td><td>4352.16</td></tr><tr><td>Vintage Cars</td><td>1</td><td>5151.0</td></tr><tr><td>Vintage Cars</td><td>1</td><td>6069.0</td></tr><tr><td>Vintage Cars</td><td>2</td><td>2856.0</td></tr><tr><td>Vintage Cars</td><td>3</td><td>5375.4</td></tr><tr><td>Vintage Cars</td><td>4</td><td>5176.5</td></tr><tr><td>Vintage Cars</td><td>4</td><td>3508.8</td></tr><tr><td>Vintage Cars</td><td>4</td><td>3141.6</td></tr><tr><td>Vintage Cars</td><td>4</td><td>5890.5</td></tr><tr><td>Vintage Cars</td><td>1</td><td>5967.0</td></tr><tr><td>Vintage Cars</td><td>1</td><td>3712.8</td></tr><tr><td>Vintage Cars</td><td>3</td><td>3668.6</td></tr><tr><td>Vintage Cars</td><td>3</td><td>5875.2</td></tr><tr><td>Vintage Cars</td><td>4</td><td>3257.76</td></tr><tr><td>Vintage Cars</td><td>1</td><td>4703.81</td></tr><tr><td>Vintage Cars</td><td>1</td><td>5399.55</td></tr><tr><td>Vintage Cars</td><td>2</td><td>5283.6</td></tr><tr><td>Classic Cars</td><td>1</td><td>3130.82</td></tr><tr><td>Classic Cars</td><td>2</td><td>3112.34</td></tr><tr><td>Classic Cars</td><td>3</td><td>3806.88</td></tr><tr><td>Classic Cars</td><td>3</td><td>2142.14</td></tr><tr><td>Classic Cars</td><td>4</td><td>3364.9</td></tr><tr><td>Classic Cars</td><td>4</td><td>1262.8</td></tr><tr><td>Classic Cars</td><td>4</td><td>1626.24</td></tr><tr><td>Classic Cars</td><td>4</td><td>4088.7</td></tr><tr><td>Classic Cars</td><td>4</td><td>3846.15</td></tr><tr><td>Classic Cars</td><td>1</td><td>1339.8</td></tr><tr><td>Classic Cars</td><td>1</td><td>3039.96</td></tr><tr><td>Classic Cars</td><td>2</td><td>3400.32</td></tr><tr><td>Classic Cars</td><td>2</td><td>1930.39</td></tr><tr><td>Classic Cars</td><td>3</td><td>2464.77</td></tr><tr><td>Classic Cars</td><td>3</td><td>2634.94</td></tr><tr><td>Classic Cars</td><td>3</td><td>3625.16</td></tr><tr><td>Classic Cars</td><td>4</td><td>3788.4</td></tr><tr><td>Classic Cars</td><td>4</td><td>1832.6</td></tr><tr><td>Classic Cars</td><td>4</td><td>2905.98</td></tr><tr><td>Classic Cars</td><td>4</td><td>2954.81</td></tr><tr><td>Classic Cars</td><td>4</td><td>3599.75</td></tr><tr><td>Classic Cars</td><td>1</td><td>3686.54</td></tr><tr><td>Classic Cars</td><td>1</td><td>2100.56</td></tr><tr><td>Classic Cars</td><td>1</td><td>3881.78</td></tr><tr><td>Classic Cars</td><td>2</td><td>4509.12</td></tr><tr><td>Classic Cars</td><td>2</td><td>3273.27</td></tr><tr><td>Classic Cars</td><td>1</td><td>4432.7</td></tr><tr><td>Classic Cars</td><td>2</td><td>4100.99</td></tr><tr><td>Classic Cars</td><td>3</td><td>5274.72</td></tr><tr><td>Classic Cars</td><td>3</td><td>4232.0</td></tr><tr><td>Classic Cars</td><td>4</td><td>6145.44</td></tr><tr><td>Classic Cars</td><td>4</td><td>4680.2</td></tr><tr><td>Classic Cars</td><td>4</td><td>3286.08</td></tr><tr><td>Classic Cars</td><td>4</td><td>6432.64</td></tr><tr><td>Classic Cars</td><td>1</td><td>4840.87</td></tr><tr><td>Classic Cars</td><td>1</td><td>3892.08</td></tr><tr><td>Classic Cars</td><td>2</td><td>5526.32</td></tr><tr><td>Classic Cars</td><td>2</td><td>4459.62</td></tr><tr><td>Classic Cars</td><td>3</td><td>6203.4</td></tr><tr><td>Classic Cars</td><td>3</td><td>3754.05</td></tr><tr><td>Classic Cars</td><td>3</td><td>3516.48</td></tr><tr><td>Classic Cars</td><td>4</td><td>3448.08</td></tr><tr><td>Classic Cars</td><td>4</td><td>3734.0</td></tr><tr><td>Classic Cars</td><td>4</td><td>974.1</td></tr><tr><td>Classic Cars</td><td>4</td><td>3160.74</td></tr><tr><td>Classic Cars</td><td>4</td><td>1746.63</td></tr><tr><td>Classic Cars</td><td>1</td><td>4207.84</td></tr><tr><td>Classic Cars</td><td>1</td><td>4352.76</td></tr><tr><td>Classic Cars</td><td>1</td><td>1463.7</td></tr><tr><td>Classic Cars</td><td>2</td><td>4594.76</td></tr><tr><td>Classic Cars</td><td>1</td><td>3457.92</td></tr><tr><td>Classic Cars</td><td>3</td><td>5938.53</td></tr><tr><td>Classic Cars</td><td>4</td><td>5032.95</td></tr><tr><td>Classic Cars</td><td>4</td><td>3667.6</td></tr><tr><td>Classic Cars</td><td>4</td><td>5128.11</td></tr><tr><td>Classic Cars</td><td>2</td><td>6549.2</td></tr><tr><td>Classic Cars</td><td>2</td><td>5697.9</td></tr><tr><td>Classic Cars</td><td>3</td><td>3238.63</td></tr><tr><td>Classic Cars</td><td>3</td><td>4554.94</td></tr><tr><td>Classic Cars</td><td>4</td><td>3934.44</td></tr><tr><td>Classic Cars</td><td>4</td><td>5776.26</td></tr><tr><td>Classic Cars</td><td>4</td><td>6719.54</td></tr><tr><td>Classic Cars</td><td>4</td><td>2428.0</td></tr><tr><td>Classic Cars</td><td>1</td><td>2602.25</td></tr><tr><td>Classic Cars</td><td>1</td><td>2200.0</td></tr><tr><td>Classic Cars</td><td>2</td><td>6712.93</td></tr><tr><td>Classic Cars</td><td>2</td><td>5318.04</td></tr><tr><td>Vintage Cars</td><td>1</td><td>3390.0</td></tr><tr><td>Vintage Cars</td><td>1</td><td>1608.0</td></tr><tr><td>Vintage Cars</td><td>2</td><td>2262.96</td></tr><tr><td>Vintage Cars</td><td>3</td><td>1496.64</td></tr><tr><td>Vintage Cars</td><td>4</td><td>1879.74</td></tr><tr><td>Vintage Cars</td><td>4</td><td>1495.26</td></tr><tr><td>Vintage Cars</td><td>4</td><td>2323.7</td></tr><tr><td>Vintage Cars</td><td>4</td><td>2491.86</td></tr><tr><td>Vintage Cars</td><td>4</td><td>1643.12</td></tr><tr><td>Vintage Cars</td><td>1</td><td>1322.16</td></tr><tr><td>Vintage Cars</td><td>1</td><td>1423.8</td></tr><tr><td>Vintage Cars</td><td>2</td><td>2397.45</td></tr><tr><td>Vintage Cars</td><td>3</td><td>1574.0</td></tr><tr><td>Vintage Cars</td><td>3</td><td>1729.0</td></tr><tr><td>Vintage Cars</td><td>4</td><td>2255.84</td></tr><tr><td>Vintage Cars</td><td>4</td><td>1834.5</td></tr><tr><td>Vintage Cars</td><td>4</td><td>3201.5</td></tr><tr><td>Vintage Cars</td><td>4</td><td>2276.4</td></tr><tr><td>Vintage Cars</td><td>1</td><td>1331.1</td></tr><tr><td>Vintage Cars</td><td>2</td><td>3051.3</td></tr><tr><td>Vintage Cars</td><td>2</td><td>2288.52</td></tr><tr><td>Trucks and Buses</td><td>1</td><td>3772.61</td></tr><tr><td>Trucks and Buses</td><td>2</td><td>4164.42</td></tr><tr><td>Trucks and Buses</td><td>2</td><td>6295.95</td></tr><tr><td>Trucks and Buses</td><td>3</td><td>6287.66</td></tr><tr><td>Trucks and Buses</td><td>3</td><td>5412.54</td></tr><tr><td>Trucks and Buses</td><td>4</td><td>5984.14</td></tr><tr><td>Trucks and Buses</td><td>4</td><td>5891.04</td></tr><tr><td>Trucks and Buses</td><td>4</td><td>5984.14</td></tr><tr><td>Trucks and Buses</td><td>4</td><td>3608.15</td></tr><tr><td>Trucks and Buses</td><td>4</td><td>5752.54</td></tr><tr><td>Trucks and Buses</td><td>1</td><td>3765.32</td></tr><tr><td>Trucks and Buses</td><td>2</td><td>2159.96</td></tr><tr><td>Trucks and Buses</td><td>2</td><td>3379.94</td></tr><tr><td>Trucks and Buses</td><td>3</td><td>5093.5</td></tr><tr><td>Trucks and Buses</td><td>3</td><td>5773.44</td></tr><tr><td>Trucks and Buses</td><td>3</td><td>4528.86</td></tr><tr><td>Trucks and Buses</td><td>4</td><td>4816.08</td></tr><tr><td>Trucks and Buses</td><td>4</td><td>3416.78</td></tr><tr><td>Trucks and Buses</td><td>4</td><td>1236.84</td></tr><tr><td>Trucks and Buses</td><td>4</td><td>5814.86</td></tr><tr><td>Trucks and Buses</td><td>4</td><td>5223.48</td></tr><tr><td>Trucks and Buses</td><td>4</td><td>728.4</td></tr><tr><td>Trucks and Buses</td><td>1</td><td>3949.0</td></tr><tr><td>Trucks and Buses</td><td>1</td><td>3843.99</td></tr><tr><td>Trucks and Buses</td><td>2</td><td>5498.08</td></tr><tr><td>Trucks and Buses</td><td>2</td><td>3777.58</td></tr><tr><td>Vintage Cars</td><td>1</td><td>3782.0</td></tr><tr><td>Vintage Cars</td><td>1</td><td>3859.68</td></tr><tr><td>Vintage Cars</td><td>2</td><td>4431.84</td></tr><tr><td>Vintage Cars</td><td>3</td><td>4950.33</td></tr><tr><td>Vintage Cars</td><td>4</td><td>4299.7</td></tr><tr><td>Vintage Cars</td><td>4</td><td>4492.83</td></tr><tr><td>Vintage Cars</td><td>4</td><td>2212.0</td></tr><tr><td>Vintage Cars</td><td>4</td><td>4642.88</td></tr><tr><td>Vintage Cars</td><td>4</td><td>3206.32</td></tr><tr><td>Vintage Cars</td><td>1</td><td>3604.23</td></tr><tr><td>Vintage Cars</td><td>2</td><td>6154.18</td></tr><tr><td>Vintage Cars</td><td>3</td><td>4750.8</td></tr><tr><td>Vintage Cars</td><td>3</td><td>3822.92</td></tr><tr><td>Vintage Cars</td><td>4</td><td>2440.8</td></tr><tr><td>Vintage Cars</td><td>4</td><td>4729.36</td></tr><tr><td>Vintage Cars</td><td>4</td><td>2264.15</td></tr><tr><td>Vintage Cars</td><td>4</td><td>3928.2</td></tr><tr><td>Vintage Cars</td><td>4</td><td>3630.22</td></tr><tr><td>Vintage Cars</td><td>1</td><td>4196.07</td></tr><tr><td>Vintage Cars</td><td>1</td><td>4931.6</td></tr><tr><td>Vintage Cars</td><td>1</td><td>3068.69</td></tr><tr><td>Vintage Cars</td><td>2</td><td>785.64</td></tr><tr><td>Vintage Cars</td><td>2</td><td>4977.0</td></tr><tr><td>Trucks and Buses</td><td>1</td><td>1189.98</td></tr><tr><td>Trucks and Buses</td><td>2</td><td>3090.15</td></tr><tr><td>Trucks and Buses</td><td>2</td><td>2795.86</td></tr><tr><td>Trucks and Buses</td><td>3</td><td>2851.54</td></tr><tr><td>Trucks and Buses</td><td>3</td><td>2701.92</td></tr><tr><td>Trucks and Buses</td><td>4</td><td>2204.1</td></tr><tr><td>Trucks and Buses</td><td>4</td><td>2840.48</td></tr><tr><td>Trucks and Buses</td><td>4</td><td>2647.04</td></tr><tr><td>Trucks and Buses</td><td>4</td><td>3172.05</td></tr><tr><td>Trucks and Buses</td><td>4</td><td>2585.93</td></tr><tr><td>Trucks and Buses</td><td>1</td><td>2148.3</td></tr><tr><td>Trucks and Buses</td><td>1</td><td>1667.4</td></tr><tr><td>Trucks and Buses</td><td>2</td><td>1859.7</td></tr><tr><td>Trucks and Buses</td><td>2</td><td>1476.6</td></tr><tr><td>Trucks and Buses</td><td>3</td><td>1732.0</td></tr><tr><td>Trucks and Buses</td><td>3</td><td>1674.17</td></tr><tr><td>Trucks and Buses</td><td>3</td><td>1500.98</td></tr><tr><td>Trucks and Buses</td><td>4</td><td>2192.68</td></tr><tr><td>Trucks and Buses</td><td>4</td><td>1797.58</td></tr><tr><td>Trucks and Buses</td><td>4</td><td>2142.35</td></tr><tr><td>Trucks and Buses</td><td>4</td><td>2086.92</td></tr><tr><td>Trucks and Buses</td><td>4</td><td>2541.59</td></tr><tr><td>Trucks and Buses</td><td>1</td><td>2130.92</td></tr><tr><td>Trucks and Buses</td><td>1</td><td>1701.7</td></tr><tr><td>Trucks and Buses</td><td>1</td><td>1694.0</td></tr><tr><td>Trucks and Buses</td><td>2</td><td>2913.53</td></tr><tr><td>Trucks and Buses</td><td>2</td><td>935.18</td></tr><tr><td>Planes</td><td>1</td><td>3073.26</td></tr><tr><td>Planes</td><td>2</td><td>2082.49</td></tr><tr><td>Planes</td><td>2</td><td>3394.23</td></tr><tr><td>Planes</td><td>3</td><td>2559.6</td></tr><tr><td>Planes</td><td>4</td><td>1490.16</td></tr><tr><td>Planes</td><td>1</td><td>3844.0</td></tr><tr><td>Planes</td><td>1</td><td>4724.91</td></tr><tr><td>Planes</td><td>2</td><td>1824.72</td></tr><tr><td>Planes</td><td>2</td><td>2668.68</td></tr><tr><td>Planes</td><td>2</td><td>2843.61</td></tr><tr><td>Planes</td><td>3</td><td>3163.65</td></tr><tr><td>Planes</td><td>3</td><td>2226.11</td></tr><tr><td>Planes</td><td>3</td><td>2069.75</td></tr><tr><td>Planes</td><td>4</td><td>2235.33</td></tr><tr><td>Planes</td><td>4</td><td>3116.43</td></tr><tr><td>Planes</td><td>4</td><td>4781.7</td></tr><tr><td>Planes</td><td>4</td><td>2810.7</td></tr><tr><td>Planes</td><td>4</td><td>3515.67</td></tr><tr><td>Planes</td><td>1</td><td>2909.34</td></tr><tr><td>Planes</td><td>1</td><td>1570.17</td></tr><tr><td>Planes</td><td>1</td><td>2613.92</td></tr><tr><td>Planes</td><td>2</td><td>3193.26</td></tr><tr><td>Planes</td><td>2</td><td>1482.6</td></tr><tr><td>Motorcycles</td><td>1</td><td>2055.23</td></tr><tr><td>Motorcycles</td><td>2</td><td>2674.9</td></tr><tr><td>Motorcycles</td><td>3</td><td>1853.4</td></tr><tr><td>Motorcycles</td><td>3</td><td>1490.1</td></tr><tr><td>Motorcycles</td><td>4</td><td>2162.16</td></tr><tr><td>Motorcycles</td><td>4</td><td>2814.28</td></tr><tr><td>Motorcycles</td><td>4</td><td>1605.0</td></tr><tr><td>Motorcycles</td><td>4</td><td>2093.44</td></tr><tr><td>Motorcycles</td><td>4</td><td>1944.3</td></tr><tr><td>Motorcycles</td><td>1</td><td>1986.8</td></tr><tr><td>Motorcycles</td><td>1</td><td>1695.96</td></tr><tr><td>Motorcycles</td><td>2</td><td>1281.56</td></tr><tr><td>Motorcycles</td><td>2</td><td>1774.22</td></tr><tr><td>Motorcycles</td><td>2</td><td>1997.5</td></tr><tr><td>Motorcycles</td><td>3</td><td>2353.2</td></tr><tr><td>Motorcycles</td><td>3</td><td>981.2</td></tr><tr><td>Motorcycles</td><td>3</td><td>1550.72</td></tr><tr><td>Motorcycles</td><td>4</td><td>1771.06</td></tr><tr><td>Motorcycles</td><td>4</td><td>2213.4</td></tr><tr><td>Motorcycles</td><td>4</td><td>5266.04</td></tr><tr><td>Motorcycles</td><td>4</td><td>1864.8</td></tr><tr><td>Motorcycles</td><td>1</td><td>1142.41</td></tr><tr><td>Motorcycles</td><td>1</td><td>1172.6</td></tr><tr><td>Motorcycles</td><td>2</td><td>3064.6</td></tr><tr><td>Motorcycles</td><td>2</td><td>2202.48</td></tr><tr><td>Vintage Cars</td><td>1</td><td>3773.38</td></tr><tr><td>Vintage Cars</td><td>1</td><td>5074.39</td></tr><tr><td>Vintage Cars</td><td>2</td><td>6483.46</td></tr><tr><td>Vintage Cars</td><td>3</td><td>4230.62</td></tr><tr><td>Vintage Cars</td><td>4</td><td>3452.68</td></tr><tr><td>Vintage Cars</td><td>4</td><td>3047.73</td></tr><tr><td>Vintage Cars</td><td>4</td><td>3675.32</td></tr><tr><td>Vintage Cars</td><td>1</td><td>5579.02</td></tr><tr><td>Vintage Cars</td><td>2</td><td>5950.34</td></tr><tr><td>Vintage Cars</td><td>2</td><td>3726.0</td></tr><tr><td>Vintage Cars</td><td>3</td><td>4455.0</td></tr><tr><td>Vintage Cars</td><td>4</td><td>3577.6</td></tr><tr><td>Vintage Cars</td><td>4</td><td>3881.25</td></tr><tr><td>Vintage Cars</td><td>4</td><td>5797.44</td></tr><tr><td>Vintage Cars</td><td>4</td><td>1264.08</td></tr><tr><td>Vintage Cars</td><td>4</td><td>4815.3</td></tr><tr><td>Vintage Cars</td><td>4</td><td>4462.2</td></tr><tr><td>Vintage Cars</td><td>1</td><td>3033.28</td></tr><tr><td>Vintage Cars</td><td>1</td><td>990.78</td></tr><tr><td>Vintage Cars</td><td>1</td><td>2030.86</td></tr><tr><td>Vintage Cars</td><td>2</td><td>5433.75</td></tr><tr><td>Classic Cars</td><td>1</td><td>3157.44</td></tr><tr><td>Classic Cars</td><td>2</td><td>5161.2</td></tr><tr><td>Classic Cars</td><td>3</td><td>4346.76</td></tr><tr><td>Classic Cars</td><td>3</td><td>3528.36</td></tr><tr><td>Classic Cars</td><td>4</td><td>3187.8</td></tr><tr><td>Classic Cars</td><td>4</td><td>6023.16</td></tr><tr><td>Classic Cars</td><td>4</td><td>3884.76</td></tr><tr><td>Classic Cars</td><td>4</td><td>4965.84</td></tr><tr><td>Classic Cars</td><td>4</td><td>4169.88</td></tr><tr><td>Classic Cars</td><td>1</td><td>4910.4</td></tr><tr><td>Classic Cars</td><td>1</td><td>3231.36</td></tr><tr><td>Classic Cars</td><td>2</td><td>5177.04</td></tr><tr><td>Classic Cars</td><td>3</td><td>2824.8</td></tr><tr><td>Classic Cars</td><td>3</td><td>4324.32</td></tr><tr><td>Classic Cars</td><td>3</td><td>5052.96</td></tr><tr><td>Classic Cars</td><td>4</td><td>3223.44</td></tr><tr><td>Classic Cars</td><td>4</td><td>5278.68</td></tr><tr><td>Classic Cars</td><td>4</td><td>2851.2</td></tr><tr><td>Classic Cars</td><td>4</td><td>1687.4</td></tr><tr><td>Classic Cars</td><td>4</td><td>1308.0</td></tr><tr><td>Classic Cars</td><td>1</td><td>6144.6</td></tr><tr><td>Classic Cars</td><td>1</td><td>5127.2</td></tr><tr><td>Classic Cars</td><td>2</td><td>6386.16</td></tr><tr><td>Vintage Cars</td><td>1</td><td>2242.89</td></tr><tr><td>Vintage Cars</td><td>1</td><td>2539.89</td></tr><tr><td>Vintage Cars</td><td>2</td><td>2795.27</td></tr><tr><td>Vintage Cars</td><td>3</td><td>5545.76</td></tr><tr><td>Vintage Cars</td><td>3</td><td>4285.46</td></tr><tr><td>Vintage Cars</td><td>4</td><td>3329.09</td></tr><tr><td>Vintage Cars</td><td>4</td><td>5592.22</td></tr><tr><td>Vintage Cars</td><td>4</td><td>3298.55</td></tr><tr><td>Vintage Cars</td><td>4</td><td>2609.88</td></tr><tr><td>Vintage Cars</td><td>4</td><td>3336.29</td></tr><tr><td>Vintage Cars</td><td>1</td><td>5510.05</td></tr><tr><td>Vintage Cars</td><td>1</td><td>2504.4</td></tr><tr><td>Vintage Cars</td><td>2</td><td>3525.6</td></tr><tr><td>Vintage Cars</td><td>2</td><td>4407.0</td></tr><tr><td>Vintage Cars</td><td>3</td><td>2983.44</td></tr><tr><td>Vintage Cars</td><td>3</td><td>5126.24</td></tr><tr><td>Vintage Cars</td><td>3</td><td>5713.79</td></tr><tr><td>Vintage Cars</td><td>4</td><td>4613.8</td></tr><tr><td>Vintage Cars</td><td>4</td><td>3711.1</td></tr><tr><td>Vintage Cars</td><td>4</td><td>3524.73</td></tr><tr><td>Vintage Cars</td><td>4</td><td>2795.27</td></tr><tr><td>Vintage Cars</td><td>4</td><td>4814.4</td></tr><tr><td>Vintage Cars</td><td>4</td><td>3572.33</td></tr><tr><td>Vintage Cars</td><td>1</td><td>4581.36</td></tr><tr><td>Vintage Cars</td><td>1</td><td>4319.76</td></tr><tr><td>Vintage Cars</td><td>1</td><td>1448.0</td></tr><tr><td>Vintage Cars</td><td>2</td><td>881.4</td></tr><tr><td>Vintage Cars</td><td>1</td><td>2011.1</td></tr><tr><td>Vintage Cars</td><td>1</td><td>1801.24</td></tr><tr><td>Vintage Cars</td><td>2</td><td>3390.2</td></tr><tr><td>Vintage Cars</td><td>3</td><td>1424.0</td></tr><tr><td>Vintage Cars</td><td>3</td><td>1499.1</td></tr><tr><td>Vintage Cars</td><td>4</td><td>3358.08</td></tr><tr><td>Vintage Cars</td><td>4</td><td>1504.16</td></tr><tr><td>Vintage Cars</td><td>4</td><td>2655.12</td></tr><tr><td>Vintage Cars</td><td>4</td><td>1244.16</td></tr><tr><td>Vintage Cars</td><td>4</td><td>1888.88</td></tr><tr><td>Vintage Cars</td><td>1</td><td>1820.01</td></tr><tr><td>Vintage Cars</td><td>1</td><td>2866.95</td></tr><tr><td>Vintage Cars</td><td>2</td><td>1394.16</td></tr><tr><td>Vintage Cars</td><td>2</td><td>2632.28</td></tr><tr><td>Vintage Cars</td><td>3</td><td>2018.56</td></tr><tr><td>Vintage Cars</td><td>3</td><td>2954.53</td></tr><tr><td>Vintage Cars</td><td>3</td><td>1871.83</td></tr><tr><td>Vintage Cars</td><td>4</td><td>1559.04</td></tr><tr><td>Vintage Cars</td><td>4</td><td>1880.2</td></tr><tr><td>Vintage Cars</td><td>4</td><td>1224.67</td></tr><tr><td>Vintage Cars</td><td>4</td><td>2979.08</td></tr><tr><td>Vintage Cars</td><td>4</td><td>2208.64</td></tr><tr><td>Vintage Cars</td><td>4</td><td>3458.42</td></tr><tr><td>Vintage Cars</td><td>1</td><td>1237.88</td></tr><tr><td>Vintage Cars</td><td>1</td><td>2723.2</td></tr><tr><td>Vintage Cars</td><td>1</td><td>2218.52</td></tr><tr><td>Vintage Cars</td><td>2</td><td>1665.32</td></tr><tr><td>Ships</td><td>1</td><td>3421.04</td></tr><tr><td>Ships</td><td>2</td><td>1878.66</td></tr><tr><td>Ships</td><td>2</td><td>3853.6</td></tr><tr><td>Ships</td><td>3</td><td>3442.64</td></tr><tr><td>Ships</td><td>4</td><td>3482.16</td></tr><tr><td>Ships</td><td>4</td><td>3363.52</td></tr><tr><td>Ships</td><td>4</td><td>3350.52</td></tr><tr><td>Ships</td><td>4</td><td>2862.72</td></tr><tr><td>Ships</td><td>4</td><td>4036.04</td></tr><tr><td>Ships</td><td>1</td><td>2817.92</td></tr><tr><td>Ships</td><td>1</td><td>4636.38</td></tr><tr><td>Ships</td><td>2</td><td>1553.58</td></tr><tr><td>Ships</td><td>2</td><td>2697.6</td></tr><tr><td>Ships</td><td>3</td><td>3334.04</td></tr><tr><td>Ships</td><td>3</td><td>2059.26</td></tr><tr><td>Ships</td><td>3</td><td>2023.14</td></tr><tr><td>Ships</td><td>4</td><td>2586.64</td></tr><tr><td>Ships</td><td>4</td><td>1987.02</td></tr><tr><td>Ships</td><td>4</td><td>1146.5</td></tr><tr><td>Ships</td><td>4</td><td>2312.24</td></tr><tr><td>Ships</td><td>4</td><td>2793.71</td></tr><tr><td>Ships</td><td>1</td><td>1908.28</td></tr><tr><td>Ships</td><td>1</td><td>3441.37</td></tr><tr><td>Ships</td><td>1</td><td>2023.28</td></tr><tr><td>Ships</td><td>2</td><td>2245.2</td></tr><tr><td>Ships</td><td>2</td><td>3255.12</td></tr><tr><td>Vintage Cars</td><td>1</td><td>2539.5</td></tr><tr><td>Vintage Cars</td><td>1</td><td>4818.15</td></tr><tr><td>Vintage Cars</td><td>2</td><td>2921.7</td></tr><tr><td>Vintage Cars</td><td>3</td><td>1801.2</td></tr><tr><td>Vintage Cars</td><td>3</td><td>2804.36</td></tr><tr><td>Vintage Cars</td><td>4</td><td>4900.8</td></tr><tr><td>Vintage Cars</td><td>4</td><td>2759.31</td></tr><tr><td>Vintage Cars</td><td>4</td><td>2488.2</td></tr><tr><td>Vintage Cars</td><td>4</td><td>2769.89</td></tr><tr><td>Vintage Cars</td><td>4</td><td>3581.4</td></tr><tr><td>Vintage Cars</td><td>1</td><td>5285.14</td></tr><tr><td>Vintage Cars</td><td>1</td><td>3181.53</td></tr><tr><td>Vintage Cars</td><td>2</td><td>3340.51</td></tr><tr><td>Vintage Cars</td><td>2</td><td>3138.34</td></tr><tr><td>Vintage Cars</td><td>3</td><td>4775.08</td></tr><tr><td>Vintage Cars</td><td>3</td><td>3006.43</td></tr><tr><td>Vintage Cars</td><td>3</td><td>2866.26</td></tr><tr><td>Vintage Cars</td><td>4</td><td>2232.62</td></tr><tr><td>Vintage Cars</td><td>4</td><td>4457.02</td></tr><tr><td>Vintage Cars</td><td>4</td><td>2257.92</td></tr><tr><td>Vintage Cars</td><td>4</td><td>1592.0</td></tr><tr><td>Vintage Cars</td><td>4</td><td>4948.2</td></tr><tr><td>Vintage Cars</td><td>4</td><td>5160.76</td></tr><tr><td>Vintage Cars</td><td>1</td><td>1978.62</td></tr><tr><td>Vintage Cars</td><td>1</td><td>4288.2</td></tr><tr><td>Vintage Cars</td><td>1</td><td>2520.68</td></tr><tr><td>Vintage Cars</td><td>2</td><td>1781.22</td></tr><tr><td>Vintage Cars</td><td>1</td><td>3065.04</td></tr><tr><td>Vintage Cars</td><td>2</td><td>3551.34</td></tr><tr><td>Vintage Cars</td><td>2</td><td>5544.02</td></tr><tr><td>Vintage Cars</td><td>3</td><td>6034.33</td></tr><tr><td>Vintage Cars</td><td>3</td><td>3641.57</td></tr><tr><td>Vintage Cars</td><td>4</td><td>3675.63</td></tr><tr><td>Vintage Cars</td><td>4</td><td>3442.04</td></tr><tr><td>Vintage Cars</td><td>1</td><td>2622.48</td></tr><tr><td>Vintage Cars</td><td>1</td><td>4417.38</td></tr><tr><td>Vintage Cars</td><td>1</td><td>3606.02</td></tr><tr><td>Vintage Cars</td><td>2</td><td>3802.56</td></tr><tr><td>Vintage Cars</td><td>3</td><td>5026.4</td></tr><tr><td>Vintage Cars</td><td>3</td><td>6695.53</td></tr><tr><td>Vintage Cars</td><td>3</td><td>2819.28</td></tr><tr><td>Vintage Cars</td><td>4</td><td>3759.04</td></tr><tr><td>Vintage Cars</td><td>4</td><td>2731.8</td></tr><tr><td>Vintage Cars</td><td>4</td><td>1658.88</td></tr><tr><td>Vintage Cars</td><td>4</td><td>5778.24</td></tr><tr><td>Vintage Cars</td><td>4</td><td>5191.12</td></tr><tr><td>Vintage Cars</td><td>1</td><td>3862.88</td></tr><tr><td>Vintage Cars</td><td>1</td><td>1476.48</td></tr><tr><td>Vintage Cars</td><td>1</td><td>5273.73</td></tr><tr><td>Vintage Cars</td><td>2</td><td>4872.03</td></tr><tr><td>Classic Cars</td><td>1</td><td>4556.99</td></tr><tr><td>Classic Cars</td><td>2</td><td>3598.5</td></tr><tr><td>Classic Cars</td><td>2</td><td>3837.24</td></tr><tr><td>Classic Cars</td><td>3</td><td>4836.5</td></tr><tr><td>Classic Cars</td><td>3</td><td>5418.88</td></tr><tr><td>Classic Cars</td><td>3</td><td>3734.01</td></tr><tr><td>Classic Cars</td><td>4</td><td>3996.4</td></tr><tr><td>Classic Cars</td><td>4</td><td>5481.45</td></tr><tr><td>Classic Cars</td><td>4</td><td>4419.89</td></tr><tr><td>Classic Cars</td><td>4</td><td>6324.75</td></tr><tr><td>Classic Cars</td><td>4</td><td>4409.72</td></tr><tr><td>Classic Cars</td><td>4</td><td>3918.46</td></tr><tr><td>Classic Cars</td><td>4</td><td>3937.25</td></tr><tr><td>Classic Cars</td><td>1</td><td>5554.4</td></tr><tr><td>Classic Cars</td><td>1</td><td>6407.86</td></tr><tr><td>Classic Cars</td><td>1</td><td>4172.52</td></tr><tr><td>Classic Cars</td><td>2</td><td>6773.6</td></tr><tr><td>Classic Cars</td><td>2</td><td>3657.69</td></tr><tr><td>Classic Cars</td><td>3</td><td>4812.55</td></tr><tr><td>Classic Cars</td><td>3</td><td>3928.6</td></tr><tr><td>Classic Cars</td><td>3</td><td>6401.22</td></tr><tr><td>Classic Cars</td><td>3</td><td>4191.25</td></tr><tr><td>Classic Cars</td><td>3</td><td>5852.52</td></tr><tr><td>Classic Cars</td><td>3</td><td>2844.87</td></tr><tr><td>Classic Cars</td><td>4</td><td>4011.66</td></tr><tr><td>Classic Cars</td><td>4</td><td>4572.25</td></tr><tr><td>Classic Cars</td><td>4</td><td>5700.09</td></tr><tr><td>Classic Cars</td><td>4</td><td>3155.49</td></tr><tr><td>Classic Cars</td><td>4</td><td>4170.69</td></tr><tr><td>Classic Cars</td><td>4</td><td>2878.8</td></tr><tr><td>Classic Cars</td><td>4</td><td>5029.5</td></tr><tr><td>Classic Cars</td><td>4</td><td>2991.68</td></tr><tr><td>Classic Cars</td><td>1</td><td>6275.72</td></tr><tr><td>Classic Cars</td><td>1</td><td>1534.95</td></tr><tr><td>Classic Cars</td><td>1</td><td>3353.02</td></tr><tr><td>Classic Cars</td><td>2</td><td>5926.9</td></tr><tr><td>Classic Cars</td><td>2</td><td>3793.16</td></tr><tr><td>Trains</td><td>1</td><td>4330.1</td></tr><tr><td>Trains</td><td>2</td><td>2011.8</td></tr><tr><td>Trains</td><td>2</td><td>4837.18</td></tr><tr><td>Trains</td><td>3</td><td>2151.82</td></tr><tr><td>Trains</td><td>3</td><td>2573.46</td></tr><tr><td>Trains</td><td>4</td><td>5344.5</td></tr><tr><td>Trains</td><td>4</td><td>3070.52</td></tr><tr><td>Trains</td><td>4</td><td>3952.83</td></tr><tr><td>Trains</td><td>4</td><td>3564.75</td></tr><tr><td>Trains</td><td>1</td><td>5614.56</td></tr><tr><td>Trains</td><td>1</td><td>1855.41</td></tr><tr><td>Trains</td><td>1</td><td>4598.4</td></tr><tr><td>Trains</td><td>2</td><td>5082.42</td></tr><tr><td>Trains</td><td>3</td><td>5450.59</td></tr><tr><td>Trains</td><td>3</td><td>4174.92</td></tr><tr><td>Trains</td><td>3</td><td>2418.24</td></tr><tr><td>Trains</td><td>4</td><td>3670.4</td></tr><tr><td>Trains</td><td>4</td><td>2481.7</td></tr><tr><td>Trains</td><td>4</td><td>3807.68</td></tr><tr><td>Trains</td><td>4</td><td>2230.41</td></tr><tr><td>Trains</td><td>4</td><td>3814.64</td></tr><tr><td>Trains</td><td>1</td><td>2117.75</td></tr><tr><td>Trains</td><td>1</td><td>3340.48</td></tr><tr><td>Trains</td><td>1</td><td>2154.0</td></tr><tr><td>Trains</td><td>2</td><td>5808.48</td></tr><tr><td>Classic Cars</td><td>1</td><td>1777.1</td></tr><tr><td>Classic Cars</td><td>2</td><td>1536.57</td></tr><tr><td>Classic Cars</td><td>3</td><td>3510.0</td></tr><tr><td>Classic Cars</td><td>3</td><td>3097.44</td></tr><tr><td>Classic Cars</td><td>4</td><td>1705.41</td></tr><tr><td>Classic Cars</td><td>4</td><td>2264.32</td></tr><tr><td>Classic Cars</td><td>4</td><td>2484.6</td></tr><tr><td>Classic Cars</td><td>4</td><td>3415.68</td></tr><tr><td>Classic Cars</td><td>4</td><td>2839.32</td></tr><tr><td>Classic Cars</td><td>1</td><td>2730.0</td></tr><tr><td>Classic Cars</td><td>1</td><td>3540.53</td></tr><tr><td>Classic Cars</td><td>2</td><td>2999.97</td></tr><tr><td>Classic Cars</td><td>2</td><td>1527.8</td></tr><tr><td>Classic Cars</td><td>3</td><td>3907.8</td></tr><tr><td>Classic Cars</td><td>3</td><td>2658.48</td></tr><tr><td>Classic Cars</td><td>3</td><td>3042.68</td></tr><tr><td>Classic Cars</td><td>4</td><td>3861.2</td></tr><tr><td>Classic Cars</td><td>4</td><td>2171.07</td></tr><tr><td>Classic Cars</td><td>4</td><td>3403.08</td></tr><tr><td>Classic Cars</td><td>4</td><td>2245.8</td></tr><tr><td>Classic Cars</td><td>4</td><td>1668.5</td></tr><tr><td>Classic Cars</td><td>1</td><td>2773.8</td></tr><tr><td>Classic Cars</td><td>1</td><td>2464.0</td></tr><tr><td>Classic Cars</td><td>1</td><td>5491.6</td></tr><tr><td>Vintage Cars</td><td>1</td><td>4791.82</td></tr><tr><td>Vintage Cars</td><td>1</td><td>4178.85</td></tr><tr><td>Vintage Cars</td><td>2</td><td>3128.92</td></tr><tr><td>Vintage Cars</td><td>3</td><td>3095.4</td></tr><tr><td>Vintage Cars</td><td>3</td><td>3958.5</td></tr><tr><td>Vintage Cars</td><td>4</td><td>4991.44</td></tr><tr><td>Vintage Cars</td><td>4</td><td>2761.96</td></tr><tr><td>Vintage Cars</td><td>4</td><td>2848.23</td></tr><tr><td>Vintage Cars</td><td>4</td><td>2539.84</td></tr><tr><td>Vintage Cars</td><td>4</td><td>2444.4</td></tr><tr><td>Vintage Cars</td><td>1</td><td>4555.92</td></tr><tr><td>Vintage Cars</td><td>1</td><td>3666.96</td></tr><tr><td>Vintage Cars</td><td>2</td><td>3035.88</td></tr><tr><td>Vintage Cars</td><td>2</td><td>2321.54</td></tr><tr><td>Vintage Cars</td><td>3</td><td>3474.46</td></tr><tr><td>Vintage Cars</td><td>3</td><td>2501.98</td></tr><tr><td>Vintage Cars</td><td>4</td><td>3958.46</td></tr><tr><td>Vintage Cars</td><td>4</td><td>3535.95</td></tr><tr><td>Vintage Cars</td><td>4</td><td>3011.91</td></tr><tr><td>Vintage Cars</td><td>4</td><td>2656.94</td></tr><tr><td>Vintage Cars</td><td>4</td><td>2604.25</td></tr><tr><td>Vintage Cars</td><td>1</td><td>3288.6</td></tr><tr><td>Vintage Cars</td><td>1</td><td>4035.96</td></tr><tr><td>Vintage Cars</td><td>2</td><td>1875.09</td></tr><tr><td>Classic Cars</td><td>1</td><td>4049.56</td></tr><tr><td>Classic Cars</td><td>2</td><td>2469.39</td></tr><tr><td>Classic Cars</td><td>3</td><td>5432.7</td></tr><tr><td>Classic Cars</td><td>3</td><td>4405.22</td></tr><tr><td>Classic Cars</td><td>4</td><td>3638.0</td></tr><tr><td>Classic Cars</td><td>4</td><td>4444.92</td></tr><tr><td>Classic Cars</td><td>4</td><td>3395.48</td></tr><tr><td>Classic Cars</td><td>4</td><td>3414.58</td></tr><tr><td>Classic Cars</td><td>4</td><td>5127.04</td></tr><tr><td>Classic Cars</td><td>1</td><td>3745.28</td></tr><tr><td>Classic Cars</td><td>1</td><td>4564.08</td></tr><tr><td>Classic Cars</td><td>2</td><td>6554.24</td></tr><tr><td>Classic Cars</td><td>2</td><td>6749.83</td></tr><tr><td>Classic Cars</td><td>3</td><td>3924.6</td></tr><tr><td>Classic Cars</td><td>3</td><td>6761.6</td></tr><tr><td>Classic Cars</td><td>4</td><td>3786.49</td></tr><tr><td>Classic Cars</td><td>4</td><td>6266.12</td></tr><tr><td>Classic Cars</td><td>4</td><td>3491.0</td></tr><tr><td>Classic Cars</td><td>4</td><td>4405.22</td></tr><tr><td>Classic Cars</td><td>4</td><td>6548.3</td></tr><tr><td>Classic Cars</td><td>4</td><td>3177.91</td></tr><tr><td>Classic Cars</td><td>1</td><td>4142.64</td></tr><tr><td>Classic Cars</td><td>1</td><td>4149.07</td></tr><tr><td>Classic Cars</td><td>1</td><td>6241.6</td></tr><tr><td>Classic Cars</td><td>2</td><td>5331.88</td></tr><tr><td>Classic Cars</td><td>3</td><td>5124.3</td></tr><tr><td>Classic Cars</td><td>3</td><td>3639.44</td></tr><tr><td>Classic Cars</td><td>4</td><td>5544.0</td></tr><tr><td>Classic Cars</td><td>4</td><td>5493.12</td></tr><tr><td>Classic Cars</td><td>4</td><td>5785.26</td></tr><tr><td>Classic Cars</td><td>4</td><td>5340.6</td></tr><tr><td>Classic Cars</td><td>4</td><td>5735.8</td></tr><tr><td>Classic Cars</td><td>1</td><td>6357.6</td></tr><tr><td>Classic Cars</td><td>2</td><td>5959.22</td></tr><tr><td>Classic Cars</td><td>2</td><td>4029.38</td></tr><tr><td>Classic Cars</td><td>3</td><td>5035.14</td></tr><tr><td>Classic Cars</td><td>3</td><td>4116.8</td></tr><tr><td>Classic Cars</td><td>3</td><td>4310.55</td></tr><tr><td>Classic Cars</td><td>4</td><td>6446.7</td></tr><tr><td>Classic Cars</td><td>4</td><td>3616.64</td></tr><tr><td>Classic Cars</td><td>4</td><td>4232.76</td></tr><tr><td>Classic Cars</td><td>4</td><td>1765.66</td></tr><tr><td>Classic Cars</td><td>4</td><td>3734.72</td></tr><tr><td>Classic Cars</td><td>1</td><td>4808.38</td></tr><tr><td>Classic Cars</td><td>1</td><td>2266.56</td></tr><tr><td>Classic Cars</td><td>2</td><td>5589.14</td></tr><tr><td>Motorcycles</td><td>1</td><td>2914.11</td></tr><tr><td>Motorcycles</td><td>2</td><td>1740.9</td></tr><tr><td>Motorcycles</td><td>3</td><td>2266.2</td></tr><tr><td>Motorcycles</td><td>3</td><td>3155.58</td></tr><tr><td>Motorcycles</td><td>4</td><td>1357.86</td></tr><tr><td>Motorcycles</td><td>4</td><td>2598.82</td></tr><tr><td>Motorcycles</td><td>4</td><td>1057.56</td></tr><tr><td>Motorcycles</td><td>4</td><td>3127.82</td></tr><tr><td>Motorcycles</td><td>1</td><td>2488.14</td></tr><tr><td>Motorcycles</td><td>1</td><td>2220.72</td></tr><tr><td>Motorcycles</td><td>2</td><td>1357.72</td></tr><tr><td>Motorcycles</td><td>2</td><td>1638.04</td></tr><tr><td>Motorcycles</td><td>2</td><td>2626.08</td></tr><tr><td>Motorcycles</td><td>3</td><td>1661.88</td></tr><tr><td>Motorcycles</td><td>3</td><td>2173.6</td></tr><tr><td>Motorcycles</td><td>3</td><td>2182.05</td></tr><tr><td>Motorcycles</td><td>4</td><td>2819.88</td></tr><tr><td>Motorcycles</td><td>4</td><td>2598.64</td></tr><tr><td>Motorcycles</td><td>4</td><td>2019.27</td></tr><tr><td>Motorcycles</td><td>4</td><td>1454.7</td></tr><tr><td>Motorcycles</td><td>4</td><td>1657.57</td></tr><tr><td>Motorcycles</td><td>1</td><td>2851.84</td></tr><tr><td>Motorcycles</td><td>1</td><td>4609.64</td></tr><tr><td>Motorcycles</td><td>1</td><td>5079.96</td></tr><tr><td>Motorcycles</td><td>2</td><td>1879.92</td></tr><tr><td>Vintage Cars</td><td>1</td><td>4774.86</td></tr><tr><td>Vintage Cars</td><td>2</td><td>2687.04</td></tr><tr><td>Vintage Cars</td><td>2</td><td>3423.75</td></tr><tr><td>Vintage Cars</td><td>3</td><td>3455.76</td></tr><tr><td>Vintage Cars</td><td>4</td><td>3622.97</td></tr><tr><td>Vintage Cars</td><td>4</td><td>3599.58</td></tr><tr><td>Vintage Cars</td><td>4</td><td>5386.56</td></tr><tr><td>Vintage Cars</td><td>4</td><td>4918.78</td></tr><tr><td>Vintage Cars</td><td>4</td><td>2538.8</td></tr><tr><td>Vintage Cars</td><td>1</td><td>2498.6</td></tr><tr><td>Vintage Cars</td><td>1</td><td>3858.75</td></tr><tr><td>Vintage Cars</td><td>2</td><td>5600.5</td></tr><tr><td>Vintage Cars</td><td>2</td><td>4103.46</td></tr><tr><td>Vintage Cars</td><td>3</td><td>4287.5</td></tr><tr><td>Vintage Cars</td><td>3</td><td>5795.54</td></tr><tr><td>Vintage Cars</td><td>3</td><td>1863.4</td></tr><tr><td>Vintage Cars</td><td>4</td><td>4166.88</td></tr><tr><td>Vintage Cars</td><td>4</td><td>4080.07</td></tr><tr><td>Vintage Cars</td><td>4</td><td>3815.48</td></tr><tr><td>Vintage Cars</td><td>4</td><td>5526.45</td></tr><tr><td>Vintage Cars</td><td>4</td><td>3374.6</td></tr><tr><td>Vintage Cars</td><td>1</td><td>3024.5</td></tr><tr><td>Vintage Cars</td><td>1</td><td>1266.1</td></tr><tr><td>Vintage Cars</td><td>1</td><td>4811.85</td></tr><tr><td>Vintage Cars</td><td>2</td><td>6209.25</td></tr><tr><td>Classic Cars</td><td>1</td><td>5348.5</td></tr><tr><td>Classic Cars</td><td>2</td><td>2780.58</td></tr><tr><td>Classic Cars</td><td>2</td><td>3447.0</td></tr><tr><td>Classic Cars</td><td>3</td><td>3791.52</td></tr><tr><td>Classic Cars</td><td>3</td><td>4524.1</td></tr><tr><td>Classic Cars</td><td>4</td><td>3337.6</td></tr><tr><td>Classic Cars</td><td>4</td><td>5532.12</td></tr><tr><td>Classic Cars</td><td>4</td><td>5096.91</td></tr><tr><td>Classic Cars</td><td>4</td><td>4537.08</td></tr><tr><td>Classic Cars</td><td>4</td><td>6146.8</td></tr><tr><td>Classic Cars</td><td>2</td><td>6756.0</td></tr><tr><td>Classic Cars</td><td>3</td><td>3734.0</td></tr><tr><td>Classic Cars</td><td>3</td><td>4674.8</td></tr><tr><td>Classic Cars</td><td>4</td><td>3600.65</td></tr><tr><td>Classic Cars</td><td>4</td><td>4206.74</td></tr><tr><td>Classic Cars</td><td>4</td><td>5379.71</td></tr><tr><td>Classic Cars</td><td>4</td><td>5679.36</td></tr><tr><td>Classic Cars</td><td>4</td><td>4394.84</td></tr><tr><td>Classic Cars</td><td>4</td><td>2528.25</td></tr><tr><td>Classic Cars</td><td>1</td><td>5340.9</td></tr><tr><td>Classic Cars</td><td>1</td><td>6376.58</td></tr><tr><td>Vintage Cars</td><td>1</td><td>1903.22</td></tr><tr><td>Vintage Cars</td><td>1</td><td>2499.56</td></tr><tr><td>Vintage Cars</td><td>2</td><td>3081.24</td></tr><tr><td>Vintage Cars</td><td>3</td><td>3598.22</td></tr><tr><td>Vintage Cars</td><td>4</td><td>3912.09</td></tr><tr><td>Vintage Cars</td><td>4</td><td>1584.66</td></tr><tr><td>Vintage Cars</td><td>4</td><td>3942.72</td></tr><tr><td>Vintage Cars</td><td>4</td><td>2341.2</td></tr><tr><td>Vintage Cars</td><td>4</td><td>2482.11</td></tr><tr><td>Vintage Cars</td><td>1</td><td>3602.02</td></tr><tr><td>Vintage Cars</td><td>1</td><td>3566.94</td></tr><tr><td>Vintage Cars</td><td>2</td><td>3787.98</td></tr><tr><td>Vintage Cars</td><td>3</td><td>3704.05</td></tr><tr><td>Vintage Cars</td><td>3</td><td>2834.65</td></tr><tr><td>Vintage Cars</td><td>4</td><td>3392.26</td></tr><tr><td>Vintage Cars</td><td>4</td><td>3358.31</td></tr><tr><td>Vintage Cars</td><td>4</td><td>2203.11</td></tr><tr><td>Vintage Cars</td><td>1</td><td>2696.96</td></tr><tr><td>Vintage Cars</td><td>1</td><td>3376.64</td></tr><tr><td>Vintage Cars</td><td>2</td><td>541.14</td></tr><tr><td>Vintage Cars</td><td>2</td><td>6134.7</td></tr><tr><td>Vintage Cars</td><td>1</td><td>3382.5</td></tr><tr><td>Vintage Cars</td><td>2</td><td>2240.66</td></tr><tr><td>Vintage Cars</td><td>2</td><td>3962.88</td></tr><tr><td>Vintage Cars</td><td>3</td><td>1685.28</td></tr><tr><td>Vintage Cars</td><td>3</td><td>1834.36</td></tr><tr><td>Vintage Cars</td><td>4</td><td>1916.98</td></tr><tr><td>Vintage Cars</td><td>4</td><td>2611.0</td></tr><tr><td>Vintage Cars</td><td>4</td><td>3630.28</td></tr><tr><td>Vintage Cars</td><td>4</td><td>5090.5</td></tr><tr><td>Vintage Cars</td><td>1</td><td>3949.65</td></tr><tr><td>Vintage Cars</td><td>1</td><td>3491.67</td></tr><tr><td>Vintage Cars</td><td>1</td><td>2059.19</td></tr><tr><td>Vintage Cars</td><td>2</td><td>3170.16</td></tr><tr><td>Vintage Cars</td><td>2</td><td>1790.6</td></tr><tr><td>Vintage Cars</td><td>3</td><td>2345.97</td></tr><tr><td>Vintage Cars</td><td>3</td><td>3580.88</td></tr><tr><td>Vintage Cars</td><td>3</td><td>4946.06</td></tr><tr><td>Vintage Cars</td><td>4</td><td>3525.6</td></tr><tr><td>Vintage Cars</td><td>4</td><td>3602.16</td></tr><tr><td>Vintage Cars</td><td>4</td><td>4300.5</td></tr><tr><td>Vintage Cars</td><td>4</td><td>4498.19</td></tr><tr><td>Vintage Cars</td><td>4</td><td>3023.1</td></tr><tr><td>Vintage Cars</td><td>1</td><td>3562.49</td></tr><tr><td>Vintage Cars</td><td>1</td><td>1640.24</td></tr><tr><td>Vintage Cars</td><td>1</td><td>4739.4</td></tr><tr><td>Vintage Cars</td><td>2</td><td>1207.68</td></tr><tr><td>Trucks and Buses</td><td>1</td><td>4228.2</td></tr><tr><td>Trucks and Buses</td><td>2</td><td>4815.45</td></tr><tr><td>Trucks and Buses</td><td>3</td><td>4601.2</td></tr><tr><td>Trucks and Buses</td><td>3</td><td>6467.02</td></tr><tr><td>Trucks and Buses</td><td>4</td><td>5012.55</td></tr><tr><td>Trucks and Buses</td><td>4</td><td>5121.59</td></tr><tr><td>Trucks and Buses</td><td>4</td><td>2441.04</td></tr><tr><td>Trucks and Buses</td><td>4</td><td>4262.08</td></tr><tr><td>Trucks and Buses</td><td>4</td><td>6658.02</td></tr><tr><td>Trucks and Buses</td><td>1</td><td>4509.08</td></tr><tr><td>Trucks and Buses</td><td>1</td><td>4716.23</td></tr><tr><td>Trucks and Buses</td><td>2</td><td>2390.22</td></tr><tr><td>Trucks and Buses</td><td>2</td><td>4666.62</td></tr><tr><td>Trucks and Buses</td><td>3</td><td>5383.08</td></tr><tr><td>Trucks and Buses</td><td>3</td><td>2482.25</td></tr><tr><td>Trucks and Buses</td><td>3</td><td>5288.64</td></tr><tr><td>Trucks and Buses</td><td>4</td><td>2184.38</td></tr><tr><td>Trucks and Buses</td><td>4</td><td>2881.76</td></tr><tr><td>Trucks and Buses</td><td>4</td><td>6203.06</td></tr><tr><td>Trucks and Buses</td><td>4</td><td>6763.47</td></tr><tr><td>Trucks and Buses</td><td>4</td><td>5884.65</td></tr><tr><td>Trucks and Buses</td><td>4</td><td>3559.64</td></tr><tr><td>Trucks and Buses</td><td>1</td><td>1668.37</td></tr><tr><td>Trucks and Buses</td><td>1</td><td>4890.6</td></tr><tr><td>Trucks and Buses</td><td>2</td><td>5235.72</td></tr><tr><td>Trucks and Buses</td><td>2</td><td>4325.16</td></tr><tr><td>Vintage Cars</td><td>1</td><td>1938.89</td></tr><tr><td>Vintage Cars</td><td>1</td><td>2490.5</td></tr><tr><td>Vintage Cars</td><td>2</td><td>2314.69</td></tr><tr><td>Vintage Cars</td><td>3</td><td>1254.83</td></tr><tr><td>Vintage Cars</td><td>3</td><td>1282.8</td></tr><tr><td>Vintage Cars</td><td>4</td><td>1345.75</td></tr><tr><td>Vintage Cars</td><td>4</td><td>2194.22</td></tr><tr><td>Vintage Cars</td><td>4</td><td>1972.0</td></tr><tr><td>Vintage Cars</td><td>4</td><td>1835.98</td></tr><tr><td>Vintage Cars</td><td>4</td><td>1119.93</td></tr><tr><td>Vintage Cars</td><td>1</td><td>2082.88</td></tr><tr><td>Vintage Cars</td><td>1</td><td>1569.75</td></tr><tr><td>Vintage Cars</td><td>2</td><td>2694.15</td></tr><tr><td>Vintage Cars</td><td>2</td><td>1257.27</td></tr><tr><td>Vintage Cars</td><td>3</td><td>2567.84</td></tr><tr><td>Vintage Cars</td><td>3</td><td>2634.28</td></tr><tr><td>Vintage Cars</td><td>3</td><td>1502.78</td></tr><tr><td>Vintage Cars</td><td>4</td><td>1676.2</td></tr><tr><td>Vintage Cars</td><td>4</td><td>2217.15</td></tr><tr><td>Vintage Cars</td><td>4</td><td>1916.64</td></tr><tr><td>Vintage Cars</td><td>4</td><td>5302.8</td></tr><tr><td>Vintage Cars</td><td>1</td><td>2730.0</td></tr><tr><td>Vintage Cars</td><td>2</td><td>2095.45</td></tr><tr><td>Vintage Cars</td><td>2</td><td>1556.62</td></tr><tr><td>Classic Cars</td><td>1</td><td>5565.12</td></tr><tr><td>Classic Cars</td><td>2</td><td>3583.16</td></tr><tr><td>Classic Cars</td><td>3</td><td>4705.18</td></tr><tr><td>Classic Cars</td><td>3</td><td>4444.54</td></tr><tr><td>Classic Cars</td><td>4</td><td>4618.88</td></tr><tr><td>Classic Cars</td><td>4</td><td>4910.4</td></tr><tr><td>Classic Cars</td><td>4</td><td>5565.12</td></tr><tr><td>Classic Cars</td><td>4</td><td>4237.76</td></tr><tr><td>Classic Cars</td><td>1</td><td>5673.58</td></tr><tr><td>Classic Cars</td><td>1</td><td>5260.15</td></tr><tr><td>Classic Cars</td><td>2</td><td>6350.96</td></tr><tr><td>Classic Cars</td><td>2</td><td>3559.4</td></tr><tr><td>Classic Cars</td><td>2</td><td>2410.6</td></tr><tr><td>Classic Cars</td><td>3</td><td>5713.92</td></tr><tr><td>Classic Cars</td><td>3</td><td>4300.32</td></tr><tr><td>Classic Cars</td><td>4</td><td>5356.8</td></tr><tr><td>Classic Cars</td><td>4</td><td>6101.0</td></tr><tr><td>Classic Cars</td><td>4</td><td>6276.46</td></tr><tr><td>Classic Cars</td><td>4</td><td>4203.5</td></tr><tr><td>Classic Cars</td><td>1</td><td>1629.04</td></tr><tr><td>Classic Cars</td><td>1</td><td>3289.86</td></tr><tr><td>Classic Cars</td><td>1</td><td>2574.18</td></tr><tr><td>Classic Cars</td><td>2</td><td>1327.79</td></tr><tr><td>Classic Cars</td><td>3</td><td>2356.25</td></tr><tr><td>Classic Cars</td><td>4</td><td>2013.5</td></tr><tr><td>Classic Cars</td><td>4</td><td>2807.22</td></tr><tr><td>Classic Cars</td><td>4</td><td>3072.96</td></tr><tr><td>Classic Cars</td><td>4</td><td>1906.5</td></tr><tr><td>Classic Cars</td><td>4</td><td>3431.7</td></tr><tr><td>Classic Cars</td><td>1</td><td>2084.75</td></tr><tr><td>Classic Cars</td><td>1</td><td>2136.01</td></tr><tr><td>Classic Cars</td><td>2</td><td>2009.7</td></tr><tr><td>Classic Cars</td><td>3</td><td>2719.8</td></tr><tr><td>Classic Cars</td><td>3</td><td>1575.08</td></tr><tr><td>Classic Cars</td><td>3</td><td>1688.43</td></tr><tr><td>Classic Cars</td><td>4</td><td>1672.1</td></tr><tr><td>Classic Cars</td><td>4</td><td>1674.75</td></tr><tr><td>Classic Cars</td><td>4</td><td>3472.98</td></tr><tr><td>Classic Cars</td><td>4</td><td>1649.18</td></tr><tr><td>Classic Cars</td><td>1</td><td>3751.0</td></tr><tr><td>Classic Cars</td><td>1</td><td>4536.0</td></tr><tr><td>Classic Cars</td><td>2</td><td>4421.34</td></tr><tr><td>Classic Cars</td><td>2</td><td>2078.28</td></tr><tr><td>Classic Cars</td><td>1</td><td>3069.0</td></tr><tr><td>Classic Cars</td><td>2</td><td>1713.8</td></tr><tr><td>Classic Cars</td><td>3</td><td>1506.5</td></tr><tr><td>Classic Cars</td><td>4</td><td>2692.12</td></tr><tr><td>Classic Cars</td><td>4</td><td>2422.08</td></tr><tr><td>Classic Cars</td><td>4</td><td>3488.34</td></tr><tr><td>Classic Cars</td><td>4</td><td>2583.34</td></tr><tr><td>Classic Cars</td><td>4</td><td>1249.4</td></tr><tr><td>Classic Cars</td><td>1</td><td>3374.71</td></tr><tr><td>Classic Cars</td><td>1</td><td>1265.46</td></tr><tr><td>Classic Cars</td><td>2</td><td>1681.46</td></tr><tr><td>Classic Cars</td><td>3</td><td>3204.0</td></tr><tr><td>Classic Cars</td><td>3</td><td>2398.72</td></tr><tr><td>Classic Cars</td><td>3</td><td>2381.04</td></tr><tr><td>Classic Cars</td><td>4</td><td>1944.54</td></tr><tr><td>Classic Cars</td><td>4</td><td>2273.7</td></tr><tr><td>Classic Cars</td><td>4</td><td>2116.5</td></tr><tr><td>Classic Cars</td><td>4</td><td>1307.32</td></tr><tr><td>Classic Cars</td><td>4</td><td>1726.37</td></tr><tr><td>Classic Cars</td><td>1</td><td>1267.77</td></tr><tr><td>Classic Cars</td><td>1</td><td>3441.82</td></tr><tr><td>Classic Cars</td><td>2</td><td>1987.18</td></tr><tr><td>Classic Cars</td><td>2</td><td>3880.2</td></tr><tr><td>Classic Cars</td><td>1</td><td>1942.15</td></tr><tr><td>Classic Cars</td><td>2</td><td>3259.92</td></tr><tr><td>Classic Cars</td><td>2</td><td>1213.8</td></tr><tr><td>Classic Cars</td><td>3</td><td>1086.6</td></tr><tr><td>Classic Cars</td><td>3</td><td>1632.75</td></tr><tr><td>Classic Cars</td><td>4</td><td>1734.0</td></tr><tr><td>Classic Cars</td><td>4</td><td>1857.06</td></tr><tr><td>Classic Cars</td><td>4</td><td>1863.41</td></tr><tr><td>Classic Cars</td><td>4</td><td>2924.68</td></tr><tr><td>Classic Cars</td><td>4</td><td>2294.18</td></tr><tr><td>Classic Cars</td><td>1</td><td>1457.82</td></tr><tr><td>Classic Cars</td><td>1</td><td>1955.88</td></tr><tr><td>Classic Cars</td><td>2</td><td>2314.4</td></tr><tr><td>Classic Cars</td><td>2</td><td>1310.96</td></tr><tr><td>Classic Cars</td><td>3</td><td>2913.3</td></tr><tr><td>Classic Cars</td><td>3</td><td>1357.78</td></tr><tr><td>Classic Cars</td><td>3</td><td>2150.0</td></tr><tr><td>Classic Cars</td><td>4</td><td>2783.25</td></tr><tr><td>Classic Cars</td><td>4</td><td>2339.92</td></tr><tr><td>Classic Cars</td><td>4</td><td>1729.0</td></tr><tr><td>Classic Cars</td><td>4</td><td>5972.4</td></tr><tr><td>Classic Cars</td><td>4</td><td>2275.2</td></tr><tr><td>Classic Cars</td><td>4</td><td>2673.44</td></tr><tr><td>Classic Cars</td><td>1</td><td>2431.75</td></tr><tr><td>Classic Cars</td><td>1</td><td>2018.72</td></tr><tr><td>Classic Cars</td><td>1</td><td>1558.99</td></tr><tr><td>Classic Cars</td><td>2</td><td>1104.6</td></tr><tr><td>Classic Cars</td><td>2</td><td>2575.1</td></tr><tr><td>Motorcycles</td><td>1</td><td>2845.75</td></tr><tr><td>Motorcycles</td><td>2</td><td>3431.75</td></tr><tr><td>Motorcycles</td><td>3</td><td>3273.9</td></tr><tr><td>Motorcycles</td><td>3</td><td>4119.4</td></tr><tr><td>Motorcycles</td><td>4</td><td>5355.68</td></tr><tr><td>Motorcycles</td><td>4</td><td>5747.5</td></tr><tr><td>Motorcycles</td><td>4</td><td>5355.36</td></tr><tr><td>Motorcycles</td><td>4</td><td>2535.75</td></tr><tr><td>Motorcycles</td><td>4</td><td>4351.23</td></tr><tr><td>Motorcycles</td><td>1</td><td>2254.0</td></tr><tr><td>Motorcycles</td><td>1</td><td>2921.28</td></tr><tr><td>Motorcycles</td><td>2</td><td>2299.0</td></tr><tr><td>Motorcycles</td><td>2</td><td>2637.18</td></tr><tr><td>Motorcycles</td><td>2</td><td>4307.52</td></tr><tr><td>Motorcycles</td><td>3</td><td>2153.76</td></tr><tr><td>Motorcycles</td><td>3</td><td>3716.88</td></tr><tr><td>Motorcycles</td><td>3</td><td>5455.76</td></tr><tr><td>Motorcycles</td><td>4</td><td>2650.62</td></tr><tr><td>Motorcycles</td><td>4</td><td>6437.28</td></tr><tr><td>Motorcycles</td><td>4</td><td>2633.4</td></tr><tr><td>Motorcycles</td><td>4</td><td>2278.53</td></tr><tr><td>Motorcycles</td><td>1</td><td>4846.0</td></tr><tr><td>Motorcycles</td><td>1</td><td>4197.1</td></tr><tr><td>Motorcycles</td><td>1</td><td>4597.65</td></tr><tr><td>Motorcycles</td><td>2</td><td>5287.7</td></tr><tr><td>Motorcycles</td><td>2</td><td>3550.05</td></tr><tr><td>Classic Cars</td><td>1</td><td>1721.73</td></tr><tr><td>Classic Cars</td><td>2</td><td>2993.5</td></tr><tr><td>Classic Cars</td><td>3</td><td>1295.06</td></tr><tr><td>Classic Cars</td><td>3</td><td>2671.95</td></tr><tr><td>Classic Cars</td><td>4</td><td>1226.59</td></tr><tr><td>Classic Cars</td><td>4</td><td>1453.84</td></tr><tr><td>Classic Cars</td><td>4</td><td>1830.22</td></tr><tr><td>Classic Cars</td><td>4</td><td>2530.01</td></tr><tr><td>Classic Cars</td><td>4</td><td>2241.45</td></tr><tr><td>Classic Cars</td><td>1</td><td>2399.85</td></tr><tr><td>Classic Cars</td><td>1</td><td>1557.72</td></tr><tr><td>Classic Cars</td><td>2</td><td>845.25</td></tr><tr><td>Classic Cars</td><td>3</td><td>1352.4</td></tr><tr><td>Classic Cars</td><td>3</td><td>1584.8</td></tr><tr><td>Classic Cars</td><td>3</td><td>2616.0</td></tr><tr><td>Classic Cars</td><td>4</td><td>1129.04</td></tr><tr><td>Classic Cars</td><td>4</td><td>2218.5</td></tr><tr><td>Classic Cars</td><td>4</td><td>2028.48</td></tr><tr><td>Classic Cars</td><td>4</td><td>1759.2</td></tr><tr><td>Classic Cars</td><td>4</td><td>977.67</td></tr><tr><td>Classic Cars</td><td>1</td><td>1463.0</td></tr><tr><td>Classic Cars</td><td>1</td><td>3970.56</td></tr><tr><td>Classic Cars</td><td>2</td><td>2576.0</td></tr><tr><td>Classic Cars</td><td>2</td><td>2233.69</td></tr><tr><td>Planes</td><td>1</td><td>2481.64</td></tr><tr><td>Planes</td><td>2</td><td>4651.53</td></tr><tr><td>Planes</td><td>2</td><td>3858.1</td></tr><tr><td>Planes</td><td>3</td><td>3501.6</td></tr><tr><td>Planes</td><td>4</td><td>6433.7</td></tr><tr><td>Planes</td><td>1</td><td>2658.96</td></tr><tr><td>Planes</td><td>1</td><td>3608.76</td></tr><tr><td>Planes</td><td>2</td><td>2214.67</td></tr><tr><td>Planes</td><td>2</td><td>2747.53</td></tr><tr><td>Planes</td><td>2</td><td>3310.92</td></tr><tr><td>Planes</td><td>3</td><td>2380.0</td></tr><tr><td>Planes</td><td>3</td><td>2310.88</td></tr><tr><td>Planes</td><td>3</td><td>4061.76</td></tr><tr><td>Planes</td><td>4</td><td>3493.7</td></tr><tr><td>Planes</td><td>4</td><td>2872.25</td></tr><tr><td>Planes</td><td>4</td><td>4114.38</td></tr><tr><td>Planes</td><td>4</td><td>1063.65</td></tr><tr><td>Planes</td><td>4</td><td>2008.44</td></tr><tr><td>Planes</td><td>1</td><td>4328.6</td></tr><tr><td>Planes</td><td>1</td><td>1376.43</td></tr><tr><td>Planes</td><td>1</td><td>5552.16</td></tr><tr><td>Planes</td><td>2</td><td>3659.02</td></tr><tr><td>Planes</td><td>2</td><td>4165.61</td></tr><tr><td>Vintage Cars</td><td>1</td><td>1404.0</td></tr><tr><td>Vintage Cars</td><td>1</td><td>710.2</td></tr><tr><td>Vintage Cars</td><td>2</td><td>1702.8</td></tr><tr><td>Vintage Cars</td><td>3</td><td>1194.84</td></tr><tr><td>Vintage Cars</td><td>4</td><td>1007.14</td></tr><tr><td>Vintage Cars</td><td>4</td><td>977.43</td></tr><tr><td>Vintage Cars</td><td>4</td><td>1436.76</td></tr><tr><td>Vintage Cars</td><td>4</td><td>759.46</td></tr><tr><td>Vintage Cars</td><td>4</td><td>1189.44</td></tr><tr><td>Vintage Cars</td><td>1</td><td>683.8</td></tr><tr><td>Vintage Cars</td><td>1</td><td>1226.82</td></tr><tr><td>Vintage Cars</td><td>2</td><td>974.82</td></tr><tr><td>Vintage Cars</td><td>3</td><td>577.6</td></tr><tr><td>Vintage Cars</td><td>3</td><td>1106.93</td></tr><tr><td>Vintage Cars</td><td>4</td><td>694.6</td></tr><tr><td>Vintage Cars</td><td>4</td><td>1152.06</td></tr><tr><td>Vintage Cars</td><td>4</td><td>2624.0</td></tr><tr><td>Vintage Cars</td><td>4</td><td>3685.95</td></tr><tr><td>Vintage Cars</td><td>4</td><td>703.6</td></tr><tr><td>Vintage Cars</td><td>1</td><td>834.67</td></tr><tr><td>Vintage Cars</td><td>1</td><td>2257.92</td></tr><tr><td>Vintage Cars</td><td>2</td><td>1801.94</td></tr><tr><td>Vintage Cars</td><td>2</td><td>1209.6</td></tr><tr><td>Motorcycles</td><td>1</td><td>3155.14</td></tr><tr><td>Motorcycles</td><td>2</td><td>2848.86</td></tr><tr><td>Motorcycles</td><td>3</td><td>3570.29</td></tr><tr><td>Motorcycles</td><td>3</td><td>3902.41</td></tr><tr><td>Motorcycles</td><td>4</td><td>1474.66</td></tr><tr><td>Motorcycles</td><td>4</td><td>2186.89</td></tr><tr><td>Motorcycles</td><td>4</td><td>1919.4</td></tr><tr><td>Motorcycles</td><td>4</td><td>3656.0</td></tr><tr><td>Motorcycles</td><td>4</td><td>1847.0</td></tr><tr><td>Motorcycles</td><td>1</td><td>1851.0</td></tr><tr><td>Motorcycles</td><td>1</td><td>2633.78</td></tr><tr><td>Motorcycles</td><td>2</td><td>3153.6</td></tr><tr><td>Motorcycles</td><td>2</td><td>2803.2</td></tr><tr><td>Motorcycles</td><td>2</td><td>2311.02</td></tr><tr><td>Motorcycles</td><td>3</td><td>2399.4</td></tr><tr><td>Motorcycles</td><td>3</td><td>2733.12</td></tr><tr><td>Motorcycles</td><td>3</td><td>2096.32</td></tr><tr><td>Motorcycles</td><td>4</td><td>2971.34</td></tr><tr><td>Motorcycles</td><td>4</td><td>2257.58</td></tr><tr><td>Motorcycles</td><td>4</td><td>3493.91</td></tr><tr><td>Motorcycles</td><td>4</td><td>4398.9</td></tr><tr><td>Motorcycles</td><td>1</td><td>3595.62</td></tr><tr><td>Motorcycles</td><td>1</td><td>2443.29</td></tr><tr><td>Motorcycles</td><td>1</td><td>3988.6</td></tr><tr><td>Motorcycles</td><td>2</td><td>5168.4</td></tr><tr><td>Motorcycles</td><td>2</td><td>2803.2</td></tr><tr><td>Ships</td><td>1</td><td>6341.21</td></tr><tr><td>Ships</td><td>2</td><td>5189.78</td></tr><tr><td>Ships</td><td>2</td><td>6027.75</td></tr><tr><td>Ships</td><td>3</td><td>3366.0</td></tr><tr><td>Ships</td><td>3</td><td>5456.4</td></tr><tr><td>Ships</td><td>4</td><td>3812.16</td></tr><tr><td>Ships</td><td>4</td><td>6083.0</td></tr><tr><td>Ships</td><td>4</td><td>3170.7</td></tr><tr><td>Ships</td><td>4</td><td>4534.6</td></tr><tr><td>Ships</td><td>1</td><td>4301.15</td></tr><tr><td>Ships</td><td>1</td><td>6804.63</td></tr><tr><td>Ships</td><td>1</td><td>5652.94</td></tr><tr><td>Ships</td><td>2</td><td>4512.6</td></tr><tr><td>Ships</td><td>3</td><td>2784.76</td></tr><tr><td>Ships</td><td>3</td><td>5316.36</td></tr><tr><td>Ships</td><td>3</td><td>2941.89</td></tr><tr><td>Ships</td><td>4</td><td>3207.4</td></tr><tr><td>Ships</td><td>4</td><td>4215.05</td></tr><tr><td>Ships</td><td>4</td><td>4333.29</td></tr><tr><td>Ships</td><td>4</td><td>2087.13</td></tr><tr><td>Ships</td><td>4</td><td>1711.22</td></tr><tr><td>Ships</td><td>1</td><td>3910.53</td></tr><tr><td>Ships</td><td>1</td><td>2255.12</td></tr><tr><td>Ships</td><td>1</td><td>5720.75</td></tr><tr><td>Ships</td><td>2</td><td>3335.23</td></tr><tr><td>Vintage Cars</td><td>1</td><td>2472.96</td></tr><tr><td>Vintage Cars</td><td>1</td><td>1729.65</td></tr><tr><td>Vintage Cars</td><td>2</td><td>995.5</td></tr><tr><td>Vintage Cars</td><td>3</td><td>2414.72</td></tr><tr><td>Vintage Cars</td><td>4</td><td>1560.47</td></tr><tr><td>Vintage Cars</td><td>4</td><td>1112.94</td></tr><tr><td>Vintage Cars</td><td>4</td><td>1138.94</td></tr><tr><td>Vintage Cars</td><td>4</td><td>1012.4</td></tr><tr><td>Vintage Cars</td><td>4</td><td>913.92</td></tr><tr><td>Vintage Cars</td><td>1</td><td>2349.06</td></tr><tr><td>Vintage Cars</td><td>1</td><td>1161.12</td></tr><tr><td>Vintage Cars</td><td>2</td><td>1764.75</td></tr><tr><td>Vintage Cars</td><td>2</td><td>1690.9</td></tr><tr><td>Vintage Cars</td><td>3</td><td>2137.05</td></tr><tr><td>Vintage Cars</td><td>3</td><td>2177.1</td></tr><tr><td>Vintage Cars</td><td>4</td><td>1734.48</td></tr><tr><td>Vintage Cars</td><td>4</td><td>865.49</td></tr><tr><td>Vintage Cars</td><td>4</td><td>3500.1</td></tr><tr><td>Vintage Cars</td><td>4</td><td>2223.52</td></tr><tr><td>Vintage Cars</td><td>4</td><td>2311.68</td></tr><tr><td>Vintage Cars</td><td>4</td><td>828.36</td></tr><tr><td>Vintage Cars</td><td>1</td><td>856.52</td></tr><tr><td>Vintage Cars</td><td>1</td><td>1845.45</td></tr><tr><td>Vintage Cars</td><td>1</td><td>4042.08</td></tr><tr><td>Vintage Cars</td><td>2</td><td>1828.0</td></tr><tr><td>Trucks and Buses</td><td>1</td><td>3680.28</td></tr><tr><td>Trucks and Buses</td><td>2</td><td>2925.09</td></tr><tr><td>Trucks and Buses</td><td>2</td><td>3415.77</td></tr><tr><td>Trucks and Buses</td><td>3</td><td>5105.14</td></tr><tr><td>Trucks and Buses</td><td>3</td><td>5098.8</td></tr><tr><td>Trucks and Buses</td><td>4</td><td>4661.76</td></tr><tr><td>Trucks and Buses</td><td>4</td><td>2969.96</td></tr><tr><td>Trucks and Buses</td><td>4</td><td>3496.32</td></tr><tr><td>Trucks and Buses</td><td>4</td><td>5760.93</td></tr><tr><td>Trucks and Buses</td><td>1</td><td>3148.88</td></tr><tr><td>Trucks and Buses</td><td>1</td><td>5704.32</td></tr><tr><td>Trucks and Buses</td><td>2</td><td>3520.6</td></tr><tr><td>Trucks and Buses</td><td>2</td><td>5285.62</td></tr><tr><td>Trucks and Buses</td><td>3</td><td>5605.05</td></tr><tr><td>Trucks and Buses</td><td>3</td><td>2779.5</td></tr><tr><td>Trucks and Buses</td><td>3</td><td>5398.08</td></tr><tr><td>Trucks and Buses</td><td>4</td><td>3189.6</td></tr><tr><td>Trucks and Buses</td><td>4</td><td>5581.8</td></tr><tr><td>Trucks and Buses</td><td>4</td><td>3820.44</td></tr><tr><td>Trucks and Buses</td><td>4</td><td>5528.04</td></tr><tr><td>Trucks and Buses</td><td>4</td><td>5981.42</td></tr><tr><td>Trucks and Buses</td><td>4</td><td>5684.65</td></tr><tr><td>Trucks and Buses</td><td>1</td><td>3449.4</td></tr><tr><td>Trucks and Buses</td><td>1</td><td>2654.4</td></tr><tr><td>Trucks and Buses</td><td>2</td><td>5510.54</td></tr><tr><td>Motorcycles</td><td>1</td><td>2060.45</td></tr><tr><td>Motorcycles</td><td>2</td><td>2460.16</td></tr><tr><td>Motorcycles</td><td>3</td><td>1787.56</td></tr><tr><td>Motorcycles</td><td>3</td><td>1645.65</td></tr><tr><td>Motorcycles</td><td>4</td><td>2169.18</td></tr><tr><td>Motorcycles</td><td>4</td><td>2816.18</td></tr><tr><td>Motorcycles</td><td>4</td><td>2521.05</td></tr><tr><td>Motorcycles</td><td>4</td><td>3199.98</td></tr><tr><td>Motorcycles</td><td>1</td><td>1338.12</td></tr><tr><td>Motorcycles</td><td>1</td><td>2972.58</td></tr><tr><td>Motorcycles</td><td>2</td><td>2070.9</td></tr><tr><td>Motorcycles</td><td>2</td><td>3092.6</td></tr><tr><td>Motorcycles</td><td>2</td><td>2408.7</td></tr><tr><td>Motorcycles</td><td>3</td><td>3472.54</td></tr><tr><td>Motorcycles</td><td>3</td><td>2263.28</td></tr><tr><td>Motorcycles</td><td>3</td><td>2194.17</td></tr><tr><td>Motorcycles</td><td>4</td><td>1346.4</td></tr><tr><td>Motorcycles</td><td>4</td><td>2533.63</td></tr><tr><td>Motorcycles</td><td>4</td><td>3403.26</td></tr><tr><td>Motorcycles</td><td>4</td><td>3307.2</td></tr><tr><td>Motorcycles</td><td>4</td><td>2896.65</td></tr><tr><td>Motorcycles</td><td>1</td><td>2632.89</td></tr><tr><td>Motorcycles</td><td>1</td><td>2046.0</td></tr><tr><td>Motorcycles</td><td>1</td><td>2279.55</td></tr><tr><td>Motorcycles</td><td>2</td><td>2150.55</td></tr><tr><td>Classic Cars</td><td>1</td><td>3360.45</td></tr><tr><td>Classic Cars</td><td>2</td><td>2326.4</td></tr><tr><td>Classic Cars</td><td>3</td><td>1545.6</td></tr><tr><td>Classic Cars</td><td>4</td><td>2144.6</td></tr><tr><td>Classic Cars</td><td>4</td><td>1639.22</td></tr><tr><td>Classic Cars</td><td>4</td><td>2649.6</td></tr><tr><td>Classic Cars</td><td>4</td><td>3845.6</td></tr><tr><td>Classic Cars</td><td>4</td><td>4527.04</td></tr><tr><td>Classic Cars</td><td>1</td><td>3966.3</td></tr><tr><td>Classic Cars</td><td>1</td><td>4142.58</td></tr><tr><td>Classic Cars</td><td>2</td><td>4441.5</td></tr><tr><td>Classic Cars</td><td>3</td><td>3315.12</td></tr><tr><td>Classic Cars</td><td>3</td><td>3918.53</td></tr><tr><td>Classic Cars</td><td>3</td><td>2830.45</td></tr><tr><td>Classic Cars</td><td>4</td><td>5298.86</td></tr><tr><td>Classic Cars</td><td>4</td><td>2620.8</td></tr><tr><td>Classic Cars</td><td>4</td><td>2181.0</td></tr><tr><td>Classic Cars</td><td>4</td><td>3382.08</td></tr><tr><td>Classic Cars</td><td>4</td><td>2876.75</td></tr><tr><td>Classic Cars</td><td>1</td><td>4107.2</td></tr><tr><td>Classic Cars</td><td>1</td><td>1350.0</td></tr><tr><td>Classic Cars</td><td>2</td><td>3933.93</td></tr><tr><td>Classic Cars</td><td>1</td><td>1742.4</td></tr><tr><td>Classic Cars</td><td>2</td><td>721.44</td></tr><tr><td>Classic Cars</td><td>2</td><td>1489.41</td></tr><tr><td>Classic Cars</td><td>3</td><td>891.03</td></tr><tr><td>Classic Cars</td><td>3</td><td>1209.3</td></tr><tr><td>Classic Cars</td><td>4</td><td>859.14</td></tr><tr><td>Classic Cars</td><td>4</td><td>1151.44</td></tr><tr><td>Classic Cars</td><td>4</td><td>1336.44</td></tr><tr><td>Classic Cars</td><td>4</td><td>905.28</td></tr><tr><td>Classic Cars</td><td>4</td><td>1247.4</td></tr><tr><td>Classic Cars</td><td>1</td><td>846.51</td></tr><tr><td>Classic Cars</td><td>1</td><td>1085.04</td></tr><tr><td>Classic Cars</td><td>2</td><td>1767.43</td></tr><tr><td>Classic Cars</td><td>2</td><td>1030.44</td></tr><tr><td>Classic Cars</td><td>3</td><td>1585.36</td></tr><tr><td>Classic Cars</td><td>3</td><td>813.2</td></tr><tr><td>Classic Cars</td><td>3</td><td>1172.34</td></tr><tr><td>Classic Cars</td><td>4</td><td>1510.56</td></tr><tr><td>Classic Cars</td><td>4</td><td>1448.07</td></tr><tr><td>Classic Cars</td><td>4</td><td>3338.1</td></tr><tr><td>Classic Cars</td><td>4</td><td>1225.29</td></tr><tr><td>Classic Cars</td><td>4</td><td>1336.68</td></tr><tr><td>Classic Cars</td><td>4</td><td>2985.84</td></tr><tr><td>Classic Cars</td><td>1</td><td>5545.8</td></tr><tr><td>Classic Cars</td><td>1</td><td>6089.6</td></tr><tr><td>Classic Cars</td><td>1</td><td>1789.4</td></tr><tr><td>Classic Cars</td><td>2</td><td>1082.1</td></tr><tr><td>Classic Cars</td><td>2</td><td>1030.44</td></tr><tr><td>Planes</td><td>1</td><td>3659.32</td></tr><tr><td>Planes</td><td>2</td><td>2443.6</td></tr><tr><td>Planes</td><td>2</td><td>2349.9</td></tr><tr><td>Planes</td><td>3</td><td>1646.19</td></tr><tr><td>Planes</td><td>4</td><td>1670.26</td></tr><tr><td>Planes</td><td>4</td><td>1467.48</td></tr><tr><td>Planes</td><td>4</td><td>2748.56</td></tr><tr><td>Planes</td><td>4</td><td>1522.4</td></tr><tr><td>Planes</td><td>4</td><td>3255.36</td></tr><tr><td>Planes</td><td>1</td><td>3535.03</td></tr><tr><td>Planes</td><td>1</td><td>2608.96</td></tr><tr><td>Planes</td><td>2</td><td>1356.4</td></tr><tr><td>Planes</td><td>2</td><td>1611.36</td></tr><tr><td>Planes</td><td>3</td><td>2603.2</td></tr><tr><td>Planes</td><td>3</td><td>2219.7</td></tr><tr><td>Planes</td><td>3</td><td>1496.25</td></tr><tr><td>Planes</td><td>4</td><td>1884.0</td></tr><tr><td>Planes</td><td>4</td><td>2166.14</td></tr><tr><td>Planes</td><td>4</td><td>2828.16</td></tr><tr><td>Planes</td><td>4</td><td>6214.45</td></tr><tr><td>Planes</td><td>4</td><td>1867.0</td></tr><tr><td>Planes</td><td>1</td><td>2676.72</td></tr><tr><td>Planes</td><td>1</td><td>2182.44</td></tr><tr><td>Planes</td><td>1</td><td>1611.4</td></tr><tr><td>Planes</td><td>2</td><td>1479.84</td></tr><tr><td>Planes</td><td>2</td><td>1424.22</td></tr><tr><td>Classic Cars</td><td>1</td><td>5942.28</td></tr><tr><td>Classic Cars</td><td>2</td><td>2348.75</td></tr><tr><td>Classic Cars</td><td>3</td><td>4392.12</td></tr><tr><td>Classic Cars</td><td>4</td><td>2759.75</td></tr><tr><td>Classic Cars</td><td>4</td><td>2728.03</td></tr><tr><td>Classic Cars</td><td>4</td><td>2395.8</td></tr><tr><td>Classic Cars</td><td>4</td><td>3052.33</td></tr><tr><td>Classic Cars</td><td>4</td><td>4242.0</td></tr><tr><td>Classic Cars</td><td>1</td><td>2790.45</td></tr><tr><td>Classic Cars</td><td>1</td><td>4340.49</td></tr><tr><td>Classic Cars</td><td>2</td><td>2762.2</td></tr><tr><td>Classic Cars</td><td>3</td><td>4645.72</td></tr><tr><td>Classic Cars</td><td>3</td><td>5580.96</td></tr><tr><td>Classic Cars</td><td>3</td><td>6539.04</td></tr><tr><td>Classic Cars</td><td>4</td><td>5548.95</td></tr><tr><td>Classic Cars</td><td>4</td><td>4595.41</td></tr><tr><td>Classic Cars</td><td>4</td><td>1859.44</td></tr><tr><td>Classic Cars</td><td>4</td><td>2093.76</td></tr><tr><td>Classic Cars</td><td>1</td><td>4223.13</td></tr><tr><td>Classic Cars</td><td>1</td><td>1596.76</td></tr><tr><td>Classic Cars</td><td>2</td><td>5820.35</td></tr><tr><td>Classic Cars</td><td>2</td><td>5296.5</td></tr><tr><td>Classic Cars</td><td>1</td><td>930.9</td></tr><tr><td>Classic Cars</td><td>2</td><td>1207.44</td></tr><tr><td>Classic Cars</td><td>3</td><td>717.4</td></tr><tr><td>Classic Cars</td><td>3</td><td>1066.75</td></tr><tr><td>Classic Cars</td><td>4</td><td>1554.0</td></tr><tr><td>Classic Cars</td><td>4</td><td>1277.64</td></tr><tr><td>Classic Cars</td><td>4</td><td>1578.79</td></tr><tr><td>Classic Cars</td><td>4</td><td>917.7</td></tr><tr><td>Classic Cars</td><td>4</td><td>777.0</td></tr><tr><td>Classic Cars</td><td>1</td><td>1476.28</td></tr><tr><td>Classic Cars</td><td>1</td><td>1538.46</td></tr><tr><td>Classic Cars</td><td>2</td><td>891.2</td></tr><tr><td>Classic Cars</td><td>2</td><td>1706.8</td></tr><tr><td>Classic Cars</td><td>3</td><td>1373.6</td></tr><tr><td>Classic Cars</td><td>3</td><td>1205.59</td></tr><tr><td>Classic Cars</td><td>3</td><td>1427.4</td></tr><tr><td>Classic Cars</td><td>4</td><td>1649.28</td></tr><tr><td>Classic Cars</td><td>4</td><td>1383.03</td></tr><tr><td>Classic Cars</td><td>4</td><td>1229.51</td></tr><tr><td>Classic Cars</td><td>4</td><td>1140.48</td></tr><tr><td>Classic Cars</td><td>4</td><td>1575.6</td></tr><tr><td>Classic Cars</td><td>4</td><td>1386.72</td></tr><tr><td>Classic Cars</td><td>1</td><td>5018.4</td></tr><tr><td>Classic Cars</td><td>1</td><td>5856.85</td></tr><tr><td>Classic Cars</td><td>1</td><td>4894.73</td></tr><tr><td>Classic Cars</td><td>2</td><td>2094.32</td></tr><tr><td>Classic Cars</td><td>2</td><td>640.05</td></tr><tr><td>Vintage Cars</td><td>1</td><td>3193.52</td></tr><tr><td>Vintage Cars</td><td>2</td><td>3066.7</td></tr><tr><td>Vintage Cars</td><td>2</td><td>3883.11</td></tr><tr><td>Vintage Cars</td><td>3</td><td>4814.25</td></tr><tr><td>Vintage Cars</td><td>4</td><td>2826.27</td></tr><tr><td>Vintage Cars</td><td>4</td><td>1593.2</td></tr><tr><td>Vintage Cars</td><td>4</td><td>3266.1</td></tr><tr><td>Vintage Cars</td><td>4</td><td>2453.55</td></tr><tr><td>Vintage Cars</td><td>4</td><td>3910.4</td></tr><tr><td>Vintage Cars</td><td>1</td><td>1788.0</td></tr><tr><td>Vintage Cars</td><td>1</td><td>3328.07</td></tr><tr><td>Vintage Cars</td><td>1</td><td>3788.4</td></tr><tr><td>Vintage Cars</td><td>2</td><td>3053.7</td></tr><tr><td>Vintage Cars</td><td>2</td><td>2005.74</td></tr><tr><td>Vintage Cars</td><td>3</td><td>2796.12</td></tr><tr><td>Vintage Cars</td><td>3</td><td>3159.96</td></tr><tr><td>Vintage Cars</td><td>3</td><td>3908.62</td></tr><tr><td>Vintage Cars</td><td>4</td><td>2606.48</td></tr><tr><td>Vintage Cars</td><td>4</td><td>2081.76</td></tr><tr><td>Vintage Cars</td><td>4</td><td>3519.85</td></tr><tr><td>Vintage Cars</td><td>4</td><td>3021.0</td></tr><tr><td>Vintage Cars</td><td>1</td><td>1891.56</td></tr><tr><td>Vintage Cars</td><td>1</td><td>4208.41</td></tr><tr><td>Vintage Cars</td><td>1</td><td>2246.4</td></tr><tr><td>Vintage Cars</td><td>2</td><td>6107.4</td></tr><tr><td>Classic Cars</td><td>1</td><td>1987.74</td></tr><tr><td>Classic Cars</td><td>2</td><td>4068.96</td></tr><tr><td>Classic Cars</td><td>3</td><td>2282.22</td></tr><tr><td>Classic Cars</td><td>4</td><td>1541.0</td></tr><tr><td>Classic Cars</td><td>4</td><td>1951.92</td></tr><tr><td>Classic Cars</td><td>4</td><td>3107.61</td></tr><tr><td>Classic Cars</td><td>4</td><td>2328.64</td></tr><tr><td>Classic Cars</td><td>4</td><td>3184.8</td></tr><tr><td>Classic Cars</td><td>1</td><td>2149.74</td></tr><tr><td>Classic Cars</td><td>1</td><td>3184.8</td></tr><tr><td>Classic Cars</td><td>2</td><td>2114.58</td></tr><tr><td>Classic Cars</td><td>3</td><td>4256.56</td></tr><tr><td>Classic Cars</td><td>3</td><td>2344.98</td></tr><tr><td>Classic Cars</td><td>3</td><td>2328.66</td></tr><tr><td>Classic Cars</td><td>4</td><td>3575.04</td></tr><tr><td>Classic Cars</td><td>4</td><td>2076.0</td></tr><tr><td>Classic Cars</td><td>4</td><td>3305.25</td></tr><tr><td>Classic Cars</td><td>4</td><td>1538.55</td></tr><tr><td>Classic Cars</td><td>4</td><td>3325.92</td></tr><tr><td>Classic Cars</td><td>1</td><td>3662.52</td></tr><tr><td>Classic Cars</td><td>1</td><td>3478.64</td></tr><tr><td>Classic Cars</td><td>2</td><td>1057.29</td></tr><tr><td>Classic Cars</td><td>2</td><td>3385.9</td></tr><tr><td>Classic Cars</td><td>1</td><td>1892.1</td></tr><tr><td>Classic Cars</td><td>2</td><td>1707.14</td></tr><tr><td>Classic Cars</td><td>3</td><td>1785.51</td></tr><tr><td>Classic Cars</td><td>3</td><td>2057.4</td></tr><tr><td>Classic Cars</td><td>4</td><td>3490.0</td></tr><tr><td>Classic Cars</td><td>4</td><td>1707.14</td></tr><tr><td>Classic Cars</td><td>4</td><td>1506.96</td></tr><tr><td>Classic Cars</td><td>4</td><td>2880.48</td></tr><tr><td>Classic Cars</td><td>4</td><td>2206.6</td></tr><tr><td>Classic Cars</td><td>1</td><td>2351.04</td></tr><tr><td>Classic Cars</td><td>1</td><td>1205.04</td></tr><tr><td>Classic Cars</td><td>2</td><td>2935.15</td></tr><tr><td>Classic Cars</td><td>2</td><td>1263.84</td></tr><tr><td>Classic Cars</td><td>3</td><td>2935.15</td></tr><tr><td>Classic Cars</td><td>3</td><td>1224.6</td></tr><tr><td>Classic Cars</td><td>3</td><td>1359.4</td></tr><tr><td>Classic Cars</td><td>4</td><td>1822.18</td></tr><tr><td>Classic Cars</td><td>4</td><td>2163.72</td></tr><tr><td>Classic Cars</td><td>4</td><td>1591.98</td></tr><tr><td>Classic Cars</td><td>4</td><td>3078.5</td></tr><tr><td>Classic Cars</td><td>4</td><td>2997.6</td></tr><tr><td>Classic Cars</td><td>4</td><td>2747.8</td></tr><tr><td>Classic Cars</td><td>1</td><td>2447.76</td></tr><tr><td>Classic Cars</td><td>1</td><td>1910.84</td></tr><tr><td>Classic Cars</td><td>1</td><td>2430.64</td></tr><tr><td>Classic Cars</td><td>2</td><td>2896.3</td></tr><tr><td>Vintage Cars</td><td>1</td><td>1630.6</td></tr><tr><td>Vintage Cars</td><td>2</td><td>1459.6</td></tr><tr><td>Vintage Cars</td><td>2</td><td>1716.22</td></tr><tr><td>Vintage Cars</td><td>3</td><td>2560.47</td></tr><tr><td>Vintage Cars</td><td>4</td><td>1900.26</td></tr><tr><td>Vintage Cars</td><td>4</td><td>2019.84</td></tr><tr><td>Vintage Cars</td><td>4</td><td>1988.28</td></tr><tr><td>Vintage Cars</td><td>4</td><td>1449.84</td></tr><tr><td>Vintage Cars</td><td>4</td><td>1935.09</td></tr><tr><td>Vintage Cars</td><td>1</td><td>2793.24</td></tr><tr><td>Vintage Cars</td><td>1</td><td>3025.05</td></tr><tr><td>Vintage Cars</td><td>2</td><td>1742.5</td></tr><tr><td>Vintage Cars</td><td>2</td><td>3236.1</td></tr><tr><td>Vintage Cars</td><td>3</td><td>1735.92</td></tr><tr><td>Vintage Cars</td><td>3</td><td>2795.13</td></tr><tr><td>Vintage Cars</td><td>3</td><td>1671.52</td></tr><tr><td>Vintage Cars</td><td>4</td><td>1576.74</td></tr><tr><td>Vintage Cars</td><td>4</td><td>3615.71</td></tr><tr><td>Vintage Cars</td><td>4</td><td>1459.6</td></tr><tr><td>Vintage Cars</td><td>4</td><td>2891.01</td></tr><tr><td>Vintage Cars</td><td>4</td><td>2598.44</td></tr><tr><td>Vintage Cars</td><td>4</td><td>3871.92</td></tr><tr><td>Vintage Cars</td><td>1</td><td>3036.0</td></tr><tr><td>Vintage Cars</td><td>1</td><td>2231.6</td></tr><tr><td>Vintage Cars</td><td>1</td><td>2436.78</td></tr><tr><td>Vintage Cars</td><td>2</td><td>2173.6</td></tr><tr><td>Vintage Cars</td><td>2</td><td>1254.6</td></tr><tr><td>Classic Cars</td><td>1</td><td>3724.42</td></tr><tr><td>Classic Cars</td><td>2</td><td>5203.0</td></tr><tr><td>Classic Cars</td><td>3</td><td>3469.5</td></tr><tr><td>Classic Cars</td><td>4</td><td>3148.2</td></tr><tr><td>Classic Cars</td><td>4</td><td>2167.22</td></tr><tr><td>Classic Cars</td><td>4</td><td>6244.07</td></tr><tr><td>Classic Cars</td><td>4</td><td>5566.0</td></tr><tr><td>Classic Cars</td><td>4</td><td>4368.96</td></tr><tr><td>Classic Cars</td><td>1</td><td>4039.26</td></tr><tr><td>Classic Cars</td><td>1</td><td>4420.32</td></tr><tr><td>Classic Cars</td><td>2</td><td>2341.71</td></tr><tr><td>Classic Cars</td><td>3</td><td>5110.98</td></tr><tr><td>Classic Cars</td><td>3</td><td>6168.0</td></tr><tr><td>Classic Cars</td><td>3</td><td>4873.26</td></tr><tr><td>Classic Cars</td><td>4</td><td>2120.14</td></tr><tr><td>Classic Cars</td><td>4</td><td>4236.14</td></tr><tr><td>Classic Cars</td><td>4</td><td>1888.95</td></tr><tr><td>Classic Cars</td><td>4</td><td>1152.58</td></tr><tr><td>Classic Cars</td><td>4</td><td>2492.88</td></tr><tr><td>Classic Cars</td><td>1</td><td>1991.6</td></tr><tr><td>Classic Cars</td><td>1</td><td>3953.18</td></tr><tr><td>Classic Cars</td><td>2</td><td>3729.39</td></tr><tr><td>Classic Cars</td><td>2</td><td>2617.16</td></tr><tr><td>Vintage Cars</td><td>1</td><td>3983.5</td></tr><tr><td>Vintage Cars</td><td>2</td><td>3169.95</td></tr><tr><td>Vintage Cars</td><td>2</td><td>3899.5</td></tr><tr><td>Vintage Cars</td><td>3</td><td>1851.73</td></tr><tr><td>Vintage Cars</td><td>4</td><td>2513.41</td></tr><tr><td>Vintage Cars</td><td>4</td><td>2431.94</td></tr><tr><td>Vintage Cars</td><td>4</td><td>1514.52</td></tr><tr><td>Vintage Cars</td><td>4</td><td>3079.44</td></tr><tr><td>Vintage Cars</td><td>4</td><td>1900.36</td></tr><tr><td>Vintage Cars</td><td>1</td><td>1974.06</td></tr><tr><td>Vintage Cars</td><td>1</td><td>3703.46</td></tr><tr><td>Vintage Cars</td><td>2</td><td>1755.13</td></tr><tr><td>Vintage Cars</td><td>2</td><td>4273.29</td></tr><tr><td>Vintage Cars</td><td>3</td><td>3984.96</td></tr><tr><td>Vintage Cars</td><td>3</td><td>2407.68</td></tr><tr><td>Vintage Cars</td><td>3</td><td>1697.3</td></tr><tr><td>Vintage Cars</td><td>4</td><td>2011.02</td></tr><tr><td>Vintage Cars</td><td>4</td><td>2306.25</td></tr><tr><td>Vintage Cars</td><td>4</td><td>1845.0</td></tr><tr><td>Vintage Cars</td><td>4</td><td>2493.12</td></tr><tr><td>Vintage Cars</td><td>4</td><td>1508.5</td></tr><tr><td>Vintage Cars</td><td>1</td><td>2394.3</td></tr><tr><td>Vintage Cars</td><td>1</td><td>3164.98</td></tr><tr><td>Vintage Cars</td><td>1</td><td>3351.09</td></tr><tr><td>Vintage Cars</td><td>2</td><td>3064.32</td></tr><tr><td>Vintage Cars</td><td>2</td><td>3891.81</td></tr><tr><td>Classic Cars</td><td>1</td><td>5448.8</td></tr><tr><td>Classic Cars</td><td>2</td><td>5494.97</td></tr><tr><td>Classic Cars</td><td>3</td><td>6336.07</td></tr><tr><td>Classic Cars</td><td>3</td><td>2906.97</td></tr><tr><td>Classic Cars</td><td>4</td><td>4767.7</td></tr><tr><td>Classic Cars</td><td>4</td><td>3819.56</td></tr><tr><td>Classic Cars</td><td>4</td><td>3861.75</td></tr><tr><td>Classic Cars</td><td>4</td><td>6319.35</td></tr><tr><td>Classic Cars</td><td>1</td><td>4550.0</td></tr><tr><td>Classic Cars</td><td>2</td><td>4479.63</td></tr><tr><td>Classic Cars</td><td>2</td><td>5148.0</td></tr><tr><td>Classic Cars</td><td>3</td><td>2932.08</td></tr><tr><td>Classic Cars</td><td>3</td><td>3159.75</td></tr><tr><td>Classic Cars</td><td>3</td><td>4297.32</td></tr><tr><td>Classic Cars</td><td>4</td><td>5497.65</td></tr><tr><td>Classic Cars</td><td>4</td><td>4052.88</td></tr><tr><td>Classic Cars</td><td>4</td><td>3135.93</td></tr><tr><td>Classic Cars</td><td>4</td><td>5013.54</td></tr><tr><td>Classic Cars</td><td>4</td><td>5302.72</td></tr><tr><td>Classic Cars</td><td>1</td><td>2931.98</td></tr><tr><td>Classic Cars</td><td>1</td><td>1757.91</td></tr><tr><td>Classic Cars</td><td>1</td><td>6763.05</td></tr><tr><td>Planes</td><td>1</td><td>3241.5</td></tr><tr><td>Planes</td><td>2</td><td>1968.12</td></tr><tr><td>Planes</td><td>2</td><td>4094.5</td></tr><tr><td>Planes</td><td>3</td><td>1853.32</td></tr><tr><td>Planes</td><td>4</td><td>3392.84</td></tr><tr><td>Planes</td><td>4</td><td>1971.54</td></tr><tr><td>Planes</td><td>4</td><td>2169.9</td></tr><tr><td>Planes</td><td>4</td><td>2846.17</td></tr><tr><td>Planes</td><td>1</td><td>2018.4</td></tr><tr><td>Planes</td><td>1</td><td>2718.72</td></tr><tr><td>Planes</td><td>2</td><td>1981.65</td></tr><tr><td>Planes</td><td>2</td><td>3002.4</td></tr><tr><td>Planes</td><td>2</td><td>2948.16</td></tr><tr><td>Planes</td><td>3</td><td>3357.49</td></tr><tr><td>Planes</td><td>3</td><td>1175.16</td></tr><tr><td>Planes</td><td>3</td><td>2292.8</td></tr><tr><td>Planes</td><td>4</td><td>3286.49</td></tr><tr><td>Planes</td><td>4</td><td>2333.7</td></tr><tr><td>Planes</td><td>4</td><td>2675.05</td></tr><tr><td>Planes</td><td>4</td><td>4361.4</td></tr><tr><td>Planes</td><td>4</td><td>2018.58</td></tr><tr><td>Planes</td><td>4</td><td>3710.98</td></tr><tr><td>Planes</td><td>1</td><td>2847.0</td></tr><tr><td>Planes</td><td>1</td><td>3006.12</td></tr><tr><td>Planes</td><td>1</td><td>2797.84</td></tr><tr><td>Planes</td><td>2</td><td>3843.2</td></tr><tr><td>Planes</td><td>2</td><td>1351.08</td></tr><tr><td>Vintage Cars</td><td>1</td><td>1689.03</td></tr><tr><td>Vintage Cars</td><td>1</td><td>1654.56</td></tr><tr><td>Vintage Cars</td><td>2</td><td>1528.58</td></tr><tr><td>Vintage Cars</td><td>3</td><td>1013.48</td></tr><tr><td>Vintage Cars</td><td>4</td><td>1442.26</td></tr><tr><td>Vintage Cars</td><td>4</td><td>1163.05</td></tr><tr><td>Vintage Cars</td><td>4</td><td>971.98</td></tr><tr><td>Vintage Cars</td><td>4</td><td>902.66</td></tr><tr><td>Vintage Cars</td><td>4</td><td>1295.97</td></tr><tr><td>Vintage Cars</td><td>1</td><td>1534.72</td></tr><tr><td>Vintage Cars</td><td>1</td><td>1185.3</td></tr><tr><td>Vintage Cars</td><td>2</td><td>1698.78</td></tr><tr><td>Vintage Cars</td><td>3</td><td>1381.05</td></tr><tr><td>Vintage Cars</td><td>3</td><td>1340.46</td></tr><tr><td>Vintage Cars</td><td>4</td><td>965.04</td></tr><tr><td>Vintage Cars</td><td>4</td><td>1093.99</td></tr><tr><td>Vintage Cars</td><td>4</td><td>3166.84</td></tr><tr><td>Vintage Cars</td><td>4</td><td>2143.68</td></tr><tr><td>Vintage Cars</td><td>1</td><td>1717.64</td></tr><tr><td>Vintage Cars</td><td>1</td><td>4086.29</td></tr><tr><td>Vintage Cars</td><td>2</td><td>553.95</td></tr><tr><td>Vintage Cars</td><td>2</td><td>652.35</td></tr><tr><td>Classic Cars</td><td>1</td><td>2921.62</td></tr><tr><td>Classic Cars</td><td>2</td><td>5568.64</td></tr><tr><td>Classic Cars</td><td>2</td><td>1939.8</td></tr><tr><td>Classic Cars</td><td>3</td><td>3784.8</td></tr><tr><td>Classic Cars</td><td>3</td><td>2802.09</td></tr><tr><td>Classic Cars</td><td>4</td><td>2384.64</td></tr><tr><td>Classic Cars</td><td>4</td><td>2915.66</td></tr><tr><td>Classic Cars</td><td>4</td><td>5795.72</td></tr><tr><td>Classic Cars</td><td>4</td><td>3699.88</td></tr><tr><td>Classic Cars</td><td>4</td><td>2980.6</td></tr><tr><td>Classic Cars</td><td>1</td><td>5032.74</td></tr><tr><td>Classic Cars</td><td>1</td><td>4737.15</td></tr><tr><td>Classic Cars</td><td>2</td><td>6311.2</td></tr><tr><td>Classic Cars</td><td>3</td><td>3070.54</td></tr><tr><td>Classic Cars</td><td>3</td><td>4797.39</td></tr><tr><td>Classic Cars</td><td>3</td><td>3832.38</td></tr><tr><td>Classic Cars</td><td>4</td><td>4641.48</td></tr><tr><td>Classic Cars</td><td>4</td><td>4000.26</td></tr><tr><td>Classic Cars</td><td>4</td><td>5325.76</td></tr><tr><td>Classic Cars</td><td>4</td><td>4618.69</td></tr><tr><td>Classic Cars</td><td>4</td><td>3182.97</td></tr><tr><td>Classic Cars</td><td>4</td><td>2603.04</td></tr><tr><td>Classic Cars</td><td>1</td><td>1408.96</td></tr><tr><td>Classic Cars</td><td>1</td><td>1972.11</td></tr><tr><td>Classic Cars</td><td>1</td><td>5207.75</td></tr><tr><td>Classic Cars</td><td>2</td><td>4253.2</td></tr><tr><td>Vintage Cars</td><td>1</td><td>2873.0</td></tr><tr><td>Vintage Cars</td><td>1</td><td>2253.68</td></tr><tr><td>Vintage Cars</td><td>2</td><td>3576.12</td></tr><tr><td>Vintage Cars</td><td>3</td><td>3276.13</td></tr><tr><td>Vintage Cars</td><td>3</td><td>1811.4</td></tr><tr><td>Vintage Cars</td><td>4</td><td>3845.1</td></tr><tr><td>Vintage Cars</td><td>4</td><td>2571.14</td></tr><tr><td>Vintage Cars</td><td>4</td><td>5035.11</td></tr><tr><td>Vintage Cars</td><td>4</td><td>2279.0</td></tr><tr><td>Vintage Cars</td><td>4</td><td>3213.87</td></tr><tr><td>Vintage Cars</td><td>1</td><td>3532.23</td></tr><tr><td>Vintage Cars</td><td>1</td><td>3406.59</td></tr><tr><td>Vintage Cars</td><td>2</td><td>3467.2</td></tr><tr><td>Vintage Cars</td><td>2</td><td>3628.94</td></tr><tr><td>Vintage Cars</td><td>3</td><td>4674.72</td></tr><tr><td>Vintage Cars</td><td>3</td><td>1656.69</td></tr><tr><td>Vintage Cars</td><td>3</td><td>5171.4</td></tr><tr><td>Vintage Cars</td><td>4</td><td>3342.57</td></tr><tr><td>Vintage Cars</td><td>4</td><td>4884.88</td></tr><tr><td>Vintage Cars</td><td>4</td><td>6267.69</td></tr><tr><td>Vintage Cars</td><td>4</td><td>4424.16</td></tr><tr><td>Vintage Cars</td><td>4</td><td>1962.09</td></tr><tr><td>Vintage Cars</td><td>1</td><td>3476.8</td></tr><tr><td>Vintage Cars</td><td>1</td><td>4592.61</td></tr><tr><td>Vintage Cars</td><td>2</td><td>2208.92</td></tr><tr><td>Planes</td><td>1</td><td>1657.76</td></tr><tr><td>Planes</td><td>2</td><td>2479.21</td></tr><tr><td>Planes</td><td>2</td><td>3565.92</td></tr><tr><td>Planes</td><td>3</td><td>2797.41</td></tr><tr><td>Planes</td><td>4</td><td>3756.0</td></tr><tr><td>Planes</td><td>1</td><td>2840.0</td></tr><tr><td>Planes</td><td>1</td><td>1716.26</td></tr><tr><td>Planes</td><td>2</td><td>3245.6</td></tr><tr><td>Planes</td><td>2</td><td>2760.94</td></tr><tr><td>Planes</td><td>2</td><td>1808.4</td></tr><tr><td>Planes</td><td>3</td><td>1682.37</td></tr><tr><td>Planes</td><td>3</td><td>1491.0</td></tr><tr><td>Planes</td><td>3</td><td>1666.35</td></tr><tr><td>Planes</td><td>4</td><td>3666.08</td></tr><tr><td>Planes</td><td>4</td><td>2916.2</td></tr><tr><td>Planes</td><td>4</td><td>2616.98</td></tr><tr><td>Planes</td><td>4</td><td>3390.8</td></tr><tr><td>Planes</td><td>4</td><td>3146.5</td></tr><tr><td>Planes</td><td>4</td><td>1561.5</td></tr><tr><td>Planes</td><td>1</td><td>3167.0</td></tr><tr><td>Planes</td><td>1</td><td>3521.25</td></tr><tr><td>Planes</td><td>2</td><td>4219.28</td></tr><tr><td>Planes</td><td>2</td><td>3581.76</td></tr><tr><td>Classic Cars</td><td>1</td><td>2130.01</td></tr><tr><td>Classic Cars</td><td>2</td><td>2063.06</td></tr><tr><td>Classic Cars</td><td>3</td><td>2008.13</td></tr><tr><td>Classic Cars</td><td>3</td><td>2004.77</td></tr><tr><td>Classic Cars</td><td>4</td><td>1543.3</td></tr><tr><td>Classic Cars</td><td>4</td><td>2269.92</td></tr><tr><td>Classic Cars</td><td>4</td><td>1991.92</td></tr><tr><td>Classic Cars</td><td>4</td><td>2916.76</td></tr><tr><td>Classic Cars</td><td>1</td><td>2027.52</td></tr><tr><td>Classic Cars</td><td>1</td><td>3235.18</td></tr><tr><td>Classic Cars</td><td>2</td><td>2062.94</td></tr><tr><td>Classic Cars</td><td>2</td><td>3317.78</td></tr><tr><td>Classic Cars</td><td>2</td><td>3913.69</td></tr><tr><td>Classic Cars</td><td>3</td><td>3608.64</td></tr><tr><td>Classic Cars</td><td>3</td><td>3524.8</td></tr><tr><td>Classic Cars</td><td>3</td><td>2586.88</td></tr><tr><td>Classic Cars</td><td>4</td><td>4753.49</td></tr><tr><td>Classic Cars</td><td>4</td><td>3684.67</td></tr><tr><td>Classic Cars</td><td>4</td><td>5715.4</td></tr><tr><td>Classic Cars</td><td>4</td><td>3098.7</td></tr><tr><td>Classic Cars</td><td>4</td><td>2670.92</td></tr><tr><td>Classic Cars</td><td>1</td><td>5154.41</td></tr><tr><td>Classic Cars</td><td>1</td><td>4894.17</td></tr><tr><td>Classic Cars</td><td>1</td><td>2472.6</td></tr><tr><td>Trucks and Buses</td><td>1</td><td>3224.31</td></tr><tr><td>Trucks and Buses</td><td>2</td><td>3667.52</td></tr><tr><td>Trucks and Buses</td><td>2</td><td>4141.33</td></tr><tr><td>Trucks and Buses</td><td>3</td><td>2829.58</td></tr><tr><td>Trucks and Buses</td><td>3</td><td>3068.55</td></tr><tr><td>Trucks and Buses</td><td>4</td><td>2634.96</td></tr><tr><td>Trucks and Buses</td><td>4</td><td>2436.72</td></tr><tr><td>Trucks and Buses</td><td>4</td><td>4607.36</td></tr><tr><td>Trucks and Buses</td><td>4</td><td>3598.99</td></tr><tr><td>Trucks and Buses</td><td>4</td><td>3964.1</td></tr><tr><td>Trucks and Buses</td><td>1</td><td>2244.9</td></tr><tr><td>Trucks and Buses</td><td>1</td><td>2793.0</td></tr><tr><td>Trucks and Buses</td><td>2</td><td>4133.64</td></tr><tr><td>Trucks and Buses</td><td>2</td><td>3900.6</td></tr><tr><td>Trucks and Buses</td><td>3</td><td>2743.04</td></tr><tr><td>Trucks and Buses</td><td>3</td><td>2402.07</td></tr><tr><td>Trucks and Buses</td><td>3</td><td>2178.54</td></tr><tr><td>Trucks and Buses</td><td>4</td><td>3155.04</td></tr><tr><td>Trucks and Buses</td><td>4</td><td>2366.28</td></tr><tr><td>Trucks and Buses</td><td>4</td><td>1963.6</td></tr><tr><td>Trucks and Buses</td><td>4</td><td>4746.28</td></tr><tr><td>Trucks and Buses</td><td>4</td><td>6386.94</td></tr><tr><td>Trucks and Buses</td><td>4</td><td>4428.0</td></tr><tr><td>Trucks and Buses</td><td>1</td><td>4044.04</td></tr><tr><td>Trucks and Buses</td><td>1</td><td>2708.42</td></tr><tr><td>Trucks and Buses</td><td>2</td><td>2904.72</td></tr><tr><td>Trucks and Buses</td><td>2</td><td>3553.88</td></tr><tr><td>Motorcycles</td><td>1</td><td>1858.0</td></tr><tr><td>Motorcycles</td><td>2</td><td>2461.36</td></tr><tr><td>Motorcycles</td><td>2</td><td>2642.01</td></tr><tr><td>Motorcycles</td><td>3</td><td>3098.7</td></tr><tr><td>Motorcycles</td><td>4</td><td>3244.36</td></tr><tr><td>Motorcycles</td><td>4</td><td>4351.16</td></tr><tr><td>Motorcycles</td><td>1</td><td>3675.86</td></tr><tr><td>Motorcycles</td><td>1</td><td>2475.27</td></tr><tr><td>Motorcycles</td><td>2</td><td>4177.49</td></tr><tr><td>Motorcycles</td><td>2</td><td>3282.28</td></tr><tr><td>Motorcycles</td><td>2</td><td>2477.21</td></tr><tr><td>Motorcycles</td><td>3</td><td>1883.93</td></tr><tr><td>Motorcycles</td><td>3</td><td>3658.93</td></tr><tr><td>Motorcycles</td><td>3</td><td>2856.88</td></tr><tr><td>Motorcycles</td><td>4</td><td>1917.84</td></tr><tr><td>Motorcycles</td><td>4</td><td>5305.36</td></tr><tr><td>Motorcycles</td><td>4</td><td>2875.95</td></tr><tr><td>Motorcycles</td><td>4</td><td>6482.85</td></tr><tr><td>Motorcycles</td><td>4</td><td>3733.82</td></tr><tr><td>Motorcycles</td><td>1</td><td>6576.5</td></tr><tr><td>Motorcycles</td><td>1</td><td>6353.27</td></tr><tr><td>Motorcycles</td><td>1</td><td>4175.6</td></tr><tr><td>Motorcycles</td><td>2</td><td>4992.61</td></tr><tr><td>Motorcycles</td><td>2</td><td>4764.6</td></tr><tr><td>Motorcycles</td><td>1</td><td>1173.15</td></tr><tr><td>Motorcycles</td><td>2</td><td>1384.46</td></tr><tr><td>Motorcycles</td><td>3</td><td>1327.59</td></tr><tr><td>Motorcycles</td><td>3</td><td>1109.8</td></tr><tr><td>Motorcycles</td><td>4</td><td>1239.0</td></tr><tr><td>Motorcycles</td><td>4</td><td>1035.58</td></tr><tr><td>Motorcycles</td><td>4</td><td>1545.64</td></tr><tr><td>Motorcycles</td><td>4</td><td>1517.54</td></tr><tr><td>Motorcycles</td><td>1</td><td>1731.84</td></tr><tr><td>Motorcycles</td><td>1</td><td>1695.49</td></tr><tr><td>Motorcycles</td><td>2</td><td>1045.98</td></tr><tr><td>Motorcycles</td><td>2</td><td>1738.08</td></tr><tr><td>Motorcycles</td><td>2</td><td>651.8</td></tr><tr><td>Motorcycles</td><td>3</td><td>988.47</td></tr><tr><td>Motorcycles</td><td>3</td><td>1518.11</td></tr><tr><td>Motorcycles</td><td>3</td><td>1013.76</td></tr><tr><td>Motorcycles</td><td>4</td><td>1549.8</td></tr><tr><td>Motorcycles</td><td>4</td><td>1108.38</td></tr><tr><td>Motorcycles</td><td>4</td><td>4102.56</td></tr><tr><td>Motorcycles</td><td>4</td><td>3713.16</td></tr><tr><td>Motorcycles</td><td>4</td><td>1513.54</td></tr><tr><td>Motorcycles</td><td>1</td><td>2317.44</td></tr><tr><td>Motorcycles</td><td>1</td><td>3298.4</td></tr><tr><td>Motorcycles</td><td>1</td><td>1826.96</td></tr><tr><td>Motorcycles</td><td>2</td><td>1206.9</td></tr><tr><td>Trucks and Buses</td><td>1</td><td>1666.7</td></tr><tr><td>Trucks and Buses</td><td>2</td><td>1560.44</td></tr><tr><td>Trucks and Buses</td><td>2</td><td>2337.75</td></tr><tr><td>Trucks and Buses</td><td>3</td><td>1103.76</td></tr><tr><td>Trucks and Buses</td><td>3</td><td>2617.85</td></tr><tr><td>Trucks and Buses</td><td>4</td><td>2207.52</td></tr><tr><td>Trucks and Buses</td><td>4</td><td>3165.5</td></tr><tr><td>Trucks and Buses</td><td>4</td><td>2071.41</td></tr><tr><td>Trucks and Buses</td><td>4</td><td>1385.28</td></tr><tr><td>Trucks and Buses</td><td>4</td><td>1621.62</td></tr><tr><td>Trucks and Buses</td><td>1</td><td>1931.65</td></tr><tr><td>Trucks and Buses</td><td>1</td><td>1244.53</td></tr><tr><td>Trucks and Buses</td><td>2</td><td>1704.5</td></tr><tr><td>Trucks and Buses</td><td>2</td><td>1753.2</td></tr><tr><td>Trucks and Buses</td><td>3</td><td>1666.7</td></tr><tr><td>Trucks and Buses</td><td>3</td><td>1710.89</td></tr><tr><td>Trucks and Buses</td><td>3</td><td>2326.5</td></tr><tr><td>Trucks and Buses</td><td>4</td><td>2316.0</td></tr><tr><td>Trucks and Buses</td><td>4</td><td>1727.1</td></tr><tr><td>Trucks and Buses</td><td>4</td><td>2424.0</td></tr><tr><td>Trucks and Buses</td><td>4</td><td>1535.49</td></tr><tr><td>Trucks and Buses</td><td>4</td><td>6358.68</td></tr><tr><td>Trucks and Buses</td><td>1</td><td>1329.4</td></tr><tr><td>Trucks and Buses</td><td>1</td><td>1701.76</td></tr><tr><td>Trucks and Buses</td><td>1</td><td>2259.72</td></tr><tr><td>Trucks and Buses</td><td>2</td><td>925.3</td></tr><tr><td>Trucks and Buses</td><td>2</td><td>482.13</td></tr><tr><td>Trains</td><td>1</td><td>3227.63</td></tr><tr><td>Trains</td><td>2</td><td>1711.26</td></tr><tr><td>Trains</td><td>2</td><td>2054.36</td></tr><tr><td>Trains</td><td>3</td><td>3131.94</td></tr><tr><td>Trains</td><td>3</td><td>1681.35</td></tr><tr><td>Trains</td><td>4</td><td>2351.36</td></tr><tr><td>Trains</td><td>4</td><td>1408.0</td></tr><tr><td>Trains</td><td>4</td><td>2445.6</td></tr><tr><td>Trains</td><td>4</td><td>1804.44</td></tr><tr><td>Trains</td><td>4</td><td>2544.75</td></tr><tr><td>Trains</td><td>1</td><td>1056.4</td></tr><tr><td>Trains</td><td>1</td><td>2801.4</td></tr><tr><td>Trains</td><td>2</td><td>1988.4</td></tr><tr><td>Trains</td><td>3</td><td>2908.35</td></tr><tr><td>Trains</td><td>3</td><td>2147.4</td></tr><tr><td>Trains</td><td>3</td><td>2099.63</td></tr><tr><td>Trains</td><td>4</td><td>2315.18</td></tr><tr><td>Trains</td><td>4</td><td>2327.15</td></tr><tr><td>Trains</td><td>4</td><td>5377.4</td></tr><tr><td>Trains</td><td>4</td><td>2626.01</td></tr><tr><td>Trains</td><td>4</td><td>4406.4</td></tr><tr><td>Trains</td><td>4</td><td>4301.22</td></tr><tr><td>Trains</td><td>1</td><td>2986.5</td></tr><tr><td>Trains</td><td>1</td><td>1587.08</td></tr><tr><td>Trains</td><td>1</td><td>1808.4</td></tr><tr><td>Trains</td><td>2</td><td>1193.04</td></tr><tr><td>Trucks and Buses</td><td>1</td><td>3403.35</td></tr><tr><td>Trucks and Buses</td><td>1</td><td>1575.96</td></tr><tr><td>Trucks and Buses</td><td>2</td><td>1630.2</td></tr><tr><td>Trucks and Buses</td><td>3</td><td>1701.28</td></tr><tr><td>Trucks and Buses</td><td>3</td><td>2850.82</td></tr><tr><td>Trucks and Buses</td><td>4</td><td>2692.06</td></tr><tr><td>Trucks and Buses</td><td>4</td><td>2174.42</td></tr><tr><td>Trucks and Buses</td><td>4</td><td>3167.36</td></tr><tr><td>Trucks and Buses</td><td>4</td><td>2142.66</td></tr><tr><td>Trucks and Buses</td><td>4</td><td>2117.52</td></tr><tr><td>Trucks and Buses</td><td>1</td><td>2419.95</td></tr><tr><td>Trucks and Buses</td><td>1</td><td>2191.2</td></tr><tr><td>Trucks and Buses</td><td>2</td><td>3043.04</td></tr><tr><td>Trucks and Buses</td><td>2</td><td>1228.2</td></tr><tr><td>Trucks and Buses</td><td>3</td><td>1330.35</td></tr><tr><td>Trucks and Buses</td><td>3</td><td>2792.52</td></tr><tr><td>Trucks and Buses</td><td>3</td><td>2296.0</td></tr><tr><td>Trucks and Buses</td><td>4</td><td>2629.44</td></tr><tr><td>Trucks and Buses</td><td>4</td><td>1912.16</td></tr><tr><td>Trucks and Buses</td><td>4</td><td>2431.77</td></tr><tr><td>Trucks and Buses</td><td>4</td><td>3139.99</td></tr><tr><td>Trucks and Buses</td><td>4</td><td>5669.64</td></tr><tr><td>Trucks and Buses</td><td>1</td><td>3160.25</td></tr><tr><td>Trucks and Buses</td><td>1</td><td>6799.68</td></tr><tr><td>Trucks and Buses</td><td>2</td><td>1867.32</td></tr><tr><td>Trucks and Buses</td><td>2</td><td>2702.04</td></tr><tr><td>Vintage Cars</td><td>1</td><td>2406.36</td></tr><tr><td>Vintage Cars</td><td>2</td><td>2094.67</td></tr><tr><td>Vintage Cars</td><td>2</td><td>2797.9</td></tr><tr><td>Vintage Cars</td><td>3</td><td>1637.2</td></tr><tr><td>Vintage Cars</td><td>4</td><td>2281.91</td></tr><tr><td>Vintage Cars</td><td>1</td><td>2307.24</td></tr><tr><td>Vintage Cars</td><td>1</td><td>1320.8</td></tr><tr><td>Vintage Cars</td><td>2</td><td>2642.82</td></tr><tr><td>Vintage Cars</td><td>2</td><td>3061.0</td></tr><tr><td>Vintage Cars</td><td>2</td><td>3164.4</td></tr><tr><td>Vintage Cars</td><td>3</td><td>1791.16</td></tr><tr><td>Vintage Cars</td><td>3</td><td>4093.0</td></tr><tr><td>Vintage Cars</td><td>3</td><td>2234.4</td></tr><tr><td>Vintage Cars</td><td>4</td><td>3037.84</td></tr><tr><td>Vintage Cars</td><td>4</td><td>1419.84</td></tr><tr><td>Vintage Cars</td><td>4</td><td>1948.08</td></tr><tr><td>Vintage Cars</td><td>4</td><td>2307.24</td></tr><tr><td>Vintage Cars</td><td>4</td><td>1780.4</td></tr><tr><td>Vintage Cars</td><td>4</td><td>3544.17</td></tr><tr><td>Vintage Cars</td><td>1</td><td>3619.44</td></tr><tr><td>Vintage Cars</td><td>1</td><td>3918.95</td></tr><tr><td>Vintage Cars</td><td>1</td><td>1483.02</td></tr><tr><td>Vintage Cars</td><td>2</td><td>4819.26</td></tr><tr><td>Vintage Cars</td><td>2</td><td>1591.72</td></tr><tr><td>Motorcycles</td><td>1</td><td>3669.78</td></tr><tr><td>Motorcycles</td><td>2</td><td>2168.5</td></tr><tr><td>Motorcycles</td><td>3</td><td>2694.0</td></tr><tr><td>Motorcycles</td><td>3</td><td>3251.34</td></tr><tr><td>Motorcycles</td><td>4</td><td>2347.15</td></tr><tr><td>Motorcycles</td><td>4</td><td>3920.88</td></tr><tr><td>Motorcycles</td><td>4</td><td>2514.6</td></tr><tr><td>Motorcycles</td><td>4</td><td>3600.24</td></tr><tr><td>Motorcycles</td><td>1</td><td>4040.03</td></tr><tr><td>Motorcycles</td><td>1</td><td>3336.9</td></tr><tr><td>Motorcycles</td><td>2</td><td>3113.64</td></tr><tr><td>Motorcycles</td><td>2</td><td>2832.0</td></tr><tr><td>Motorcycles</td><td>2</td><td>3330.98</td></tr><tr><td>Motorcycles</td><td>3</td><td>4304.64</td></tr><tr><td>Motorcycles</td><td>3</td><td>2600.26</td></tr><tr><td>Motorcycles</td><td>3</td><td>4382.16</td></tr><tr><td>Motorcycles</td><td>4</td><td>4235.0</td></tr><tr><td>Motorcycles</td><td>4</td><td>2626.8</td></tr><tr><td>Motorcycles</td><td>4</td><td>5026.56</td></tr><tr><td>Motorcycles</td><td>4</td><td>2201.62</td></tr><tr><td>Motorcycles</td><td>4</td><td>4326.8</td></tr><tr><td>Motorcycles</td><td>1</td><td>3425.18</td></tr><tr><td>Motorcycles</td><td>1</td><td>4701.88</td></tr><tr><td>Motorcycles</td><td>1</td><td>2204.1</td></tr><tr><td>Motorcycles</td><td>2</td><td>5189.4</td></tr><tr><td>Vintage Cars</td><td>1</td><td>1565.85</td></tr><tr><td>Vintage Cars</td><td>2</td><td>2480.38</td></tr><tr><td>Vintage Cars</td><td>2</td><td>1355.13</td></tr><tr><td>Vintage Cars</td><td>3</td><td>1246.44</td></tr><tr><td>Vintage Cars</td><td>4</td><td>820.4</td></tr><tr><td>Vintage Cars</td><td>4</td><td>2492.64</td></tr><tr><td>Vintage Cars</td><td>4</td><td>1113.6</td></tr><tr><td>Vintage Cars</td><td>1</td><td>1763.86</td></tr><tr><td>Vintage Cars</td><td>1</td><td>1896.66</td></tr><tr><td>Vintage Cars</td><td>2</td><td>1449.35</td></tr><tr><td>Vintage Cars</td><td>2</td><td>1869.48</td></tr><tr><td>Vintage Cars</td><td>2</td><td>1860.53</td></tr><tr><td>Vintage Cars</td><td>3</td><td>1724.82</td></tr><tr><td>Vintage Cars</td><td>3</td><td>1713.69</td></tr><tr><td>Vintage Cars</td><td>3</td><td>1259.44</td></tr><tr><td>Vintage Cars</td><td>4</td><td>2051.08</td></tr><tr><td>Vintage Cars</td><td>4</td><td>1617.38</td></tr><tr><td>Vintage Cars</td><td>4</td><td>1765.62</td></tr><tr><td>Vintage Cars</td><td>4</td><td>2024.8</td></tr><tr><td>Vintage Cars</td><td>4</td><td>3288.4</td></tr><tr><td>Vintage Cars</td><td>4</td><td>2725.47</td></tr><tr><td>Vintage Cars</td><td>1</td><td>3224.2</td></tr><tr><td>Vintage Cars</td><td>1</td><td>3211.38</td></tr><tr><td>Vintage Cars</td><td>1</td><td>1796.34</td></tr><tr><td>Vintage Cars</td><td>2</td><td>1979.6</td></tr><tr><td>Vintage Cars</td><td>2</td><td>1921.41</td></tr><tr><td>Trucks and Buses</td><td>1</td><td>3705.24</td></tr><tr><td>Trucks and Buses</td><td>2</td><td>2843.91</td></tr><tr><td>Trucks and Buses</td><td>2</td><td>6176.42</td></tr><tr><td>Trucks and Buses</td><td>3</td><td>5500.44</td></tr><tr><td>Trucks and Buses</td><td>3</td><td>3220.1</td></tr><tr><td>Trucks and Buses</td><td>4</td><td>4556.16</td></tr><tr><td>Trucks and Buses</td><td>4</td><td>3114.89</td></tr><tr><td>Trucks and Buses</td><td>4</td><td>4948.2</td></tr><tr><td>Trucks and Buses</td><td>4</td><td>5161.17</td></tr><tr><td>Trucks and Buses</td><td>4</td><td>2657.76</td></tr><tr><td>Trucks and Buses</td><td>1</td><td>3983.05</td></tr><tr><td>Trucks and Buses</td><td>1</td><td>3974.94</td></tr><tr><td>Trucks and Buses</td><td>2</td><td>2928.42</td></tr><tr><td>Trucks and Buses</td><td>2</td><td>3054.57</td></tr><tr><td>Trucks and Buses</td><td>3</td><td>3345.26</td></tr><tr><td>Trucks and Buses</td><td>3</td><td>4310.72</td></tr><tr><td>Trucks and Buses</td><td>3</td><td>4983.14</td></tr><tr><td>Trucks and Buses</td><td>4</td><td>4618.32</td></tr><tr><td>Trucks and Buses</td><td>4</td><td>3403.12</td></tr><tr><td>Trucks and Buses</td><td>4</td><td>5190.42</td></tr><tr><td>Trucks and Buses</td><td>4</td><td>3141.57</td></tr><tr><td>Trucks and Buses</td><td>4</td><td>2213.4</td></tr><tr><td>Trucks and Buses</td><td>4</td><td>4896.7</td></tr><tr><td>Trucks and Buses</td><td>1</td><td>2714.4</td></tr><tr><td>Trucks and Buses</td><td>1</td><td>3087.05</td></tr><tr><td>Trucks and Buses</td><td>1</td><td>5692.96</td></tr><tr><td>Trucks and Buses</td><td>2</td><td>3460.86</td></tr><tr><td>Trucks and Buses</td><td>2</td><td>1895.94</td></tr><tr><td>Trains</td><td>1</td><td>1705.92</td></tr><tr><td>Trains</td><td>2</td><td>1033.41</td></tr><tr><td>Trains</td><td>2</td><td>3179.52</td></tr><tr><td>Trains</td><td>3</td><td>2091.18</td></tr><tr><td>Trains</td><td>3</td><td>1779.71</td></tr><tr><td>Trains</td><td>4</td><td>2537.64</td></tr><tr><td>Trains</td><td>4</td><td>2448.72</td></tr><tr><td>Trains</td><td>4</td><td>972.4</td></tr><tr><td>Trains</td><td>4</td><td>2856.14</td></tr><tr><td>Trains</td><td>1</td><td>1968.3</td></tr><tr><td>Trains</td><td>1</td><td>2056.2</td></tr><tr><td>Trains</td><td>1</td><td>2242.02</td></tr><tr><td>Trains</td><td>2</td><td>3128.65</td></tr><tr><td>Trains</td><td>3</td><td>2443.26</td></tr><tr><td>Trains</td><td>3</td><td>2470.86</td></tr><tr><td>Trains</td><td>3</td><td>1927.45</td></tr><tr><td>Trains</td><td>4</td><td>2051.56</td></tr><tr><td>Trains</td><td>4</td><td>2337.38</td></tr><tr><td>Trains</td><td>4</td><td>5932.96</td></tr><tr><td>Trains</td><td>4</td><td>2296.77</td></tr><tr><td>Trains</td><td>4</td><td>6490.88</td></tr><tr><td>Trains</td><td>4</td><td>1623.25</td></tr><tr><td>Trains</td><td>1</td><td>1405.92</td></tr><tr><td>Trains</td><td>1</td><td>2282.28</td></tr><tr><td>Trains</td><td>2</td><td>3256.35</td></tr><tr><td>Motorcycles</td><td>1</td><td>2821.66</td></tr><tr><td>Motorcycles</td><td>2</td><td>3293.4</td></tr><tr><td>Motorcycles</td><td>3</td><td>4224.0</td></tr><tr><td>Motorcycles</td><td>3</td><td>3091.68</td></tr><tr><td>Motorcycles</td><td>4</td><td>2219.6</td></tr><tr><td>Motorcycles</td><td>4</td><td>3866.4</td></tr><tr><td>Motorcycles</td><td>4</td><td>1964.76</td></tr><tr><td>Motorcycles</td><td>4</td><td>2668.8</td></tr><tr><td>Motorcycles</td><td>1</td><td>3222.0</td></tr><tr><td>Motorcycles</td><td>1</td><td>3864.5</td></tr><tr><td>Motorcycles</td><td>2</td><td>1366.8</td></tr><tr><td>Motorcycles</td><td>2</td><td>3475.68</td></tr><tr><td>Motorcycles</td><td>2</td><td>4206.5</td></tr><tr><td>Motorcycles</td><td>3</td><td>1486.38</td></tr><tr><td>Motorcycles</td><td>3</td><td>3077.88</td></tr><tr><td>Motorcycles</td><td>3</td><td>3544.2</td></tr><tr><td>Motorcycles</td><td>4</td><td>2483.04</td></tr><tr><td>Motorcycles</td><td>4</td><td>3478.05</td></tr><tr><td>Motorcycles</td><td>4</td><td>3657.8</td></tr><tr><td>Motorcycles</td><td>4</td><td>4682.36</td></tr><tr><td>Motorcycles</td><td>4</td><td>3937.7</td></tr><tr><td>Motorcycles</td><td>1</td><td>4984.32</td></tr><tr><td>Motorcycles</td><td>1</td><td>5406.66</td></tr><tr><td>Motorcycles</td><td>1</td><td>3491.18</td></tr><tr><td>Motorcycles</td><td>2</td><td>2118.54</td></tr><tr><td>Ships</td><td>1</td><td>2897.47</td></tr><tr><td>Ships</td><td>2</td><td>1916.75</td></tr><tr><td>Ships</td><td>2</td><td>1860.0</td></tr><tr><td>Ships</td><td>3</td><td>2624.0</td></tr><tr><td>Ships</td><td>3</td><td>2780.81</td></tr><tr><td>Ships</td><td>4</td><td>3239.62</td></tr><tr><td>Ships</td><td>4</td><td>1824.0</td></tr><tr><td>Ships</td><td>4</td><td>1134.0</td></tr><tr><td>Ships</td><td>4</td><td>1487.41</td></tr><tr><td>Ships</td><td>1</td><td>2837.46</td></tr><tr><td>Ships</td><td>1</td><td>1942.77</td></tr><tr><td>Ships</td><td>1</td><td>2544.12</td></tr><tr><td>Ships</td><td>2</td><td>2568.24</td></tr><tr><td>Ships</td><td>2</td><td>2108.0</td></tr><tr><td>Ships</td><td>3</td><td>1372.14</td></tr><tr><td>Ships</td><td>3</td><td>3540.15</td></tr><tr><td>Ships</td><td>3</td><td>1958.84</td></tr><tr><td>Ships</td><td>4</td><td>2700.0</td></tr><tr><td>Ships</td><td>4</td><td>2542.0</td></tr><tr><td>Ships</td><td>4</td><td>2340.0</td></tr><tr><td>Ships</td><td>4</td><td>2816.44</td></tr><tr><td>Ships</td><td>4</td><td>3526.82</td></tr><tr><td>Ships</td><td>1</td><td>4627.92</td></tr><tr><td>Ships</td><td>1</td><td>1933.5</td></tr><tr><td>Ships</td><td>1</td><td>2600.13</td></tr><tr><td>Ships</td><td>2</td><td>2639.58</td></tr><tr><td>Planes</td><td>1</td><td>3312.97</td></tr><tr><td>Planes</td><td>2</td><td>3863.87</td></tr><tr><td>Planes</td><td>2</td><td>1863.36</td></tr><tr><td>Planes</td><td>3</td><td>3945.96</td></tr><tr><td>Planes</td><td>4</td><td>4954.08</td></tr><tr><td>Planes</td><td>4</td><td>2762.2</td></tr><tr><td>Planes</td><td>4</td><td>3989.76</td></tr><tr><td>Planes</td><td>1</td><td>1649.55</td></tr><tr><td>Planes</td><td>1</td><td>2534.75</td></tr><tr><td>Planes</td><td>2</td><td>2580.25</td></tr><tr><td>Planes</td><td>2</td><td>2831.54</td></tr><tr><td>Planes</td><td>2</td><td>3361.2</td></tr><tr><td>Planes</td><td>3</td><td>2864.32</td></tr><tr><td>Planes</td><td>3</td><td>1994.88</td></tr><tr><td>Planes</td><td>3</td><td>4296.6</td></tr><tr><td>Planes</td><td>4</td><td>2224.95</td></tr><tr><td>Planes</td><td>4</td><td>2795.14</td></tr><tr><td>Planes</td><td>4</td><td>2762.1</td></tr><tr><td>Planes</td><td>4</td><td>2658.0</td></tr><tr><td>Planes</td><td>4</td><td>5043.87</td></tr><tr><td>Planes</td><td>4</td><td>1210.8</td></tr><tr><td>Planes</td><td>1</td><td>3029.19</td></tr><tr><td>Planes</td><td>1</td><td>4121.43</td></tr><tr><td>Planes</td><td>2</td><td>1135.31</td></tr><tr><td>Planes</td><td>2</td><td>2100.82</td></tr><tr><td>Ships</td><td>1</td><td>2034.35</td></tr><tr><td>Ships</td><td>2</td><td>3027.84</td></tr><tr><td>Ships</td><td>2</td><td>3104.0</td></tr><tr><td>Ships</td><td>3</td><td>3612.43</td></tr><tr><td>Ships</td><td>3</td><td>2711.88</td></tr><tr><td>Ships</td><td>4</td><td>3013.97</td></tr><tr><td>Ships</td><td>4</td><td>2738.54</td></tr><tr><td>Ships</td><td>4</td><td>2832.0</td></tr><tr><td>Ships</td><td>4</td><td>4720.0</td></tr><tr><td>Ships</td><td>1</td><td>3222.0</td></tr><tr><td>Ships</td><td>1</td><td>2231.0</td></tr><tr><td>Ships</td><td>1</td><td>2296.84</td></tr><tr><td>Ships</td><td>2</td><td>4157.2</td></tr><tr><td>Ships</td><td>3</td><td>2146.2</td></tr><tr><td>Ships</td><td>3</td><td>3724.23</td></tr><tr><td>Ships</td><td>3</td><td>2084.81</td></tr><tr><td>Ships</td><td>4</td><td>3488.78</td></tr><tr><td>Ships</td><td>4</td><td>1753.06</td></tr><tr><td>Ships</td><td>4</td><td>3469.2</td></tr><tr><td>Ships</td><td>4</td><td>2530.8</td></tr><tr><td>Ships</td><td>4</td><td>2924.32</td></tr><tr><td>Ships</td><td>1</td><td>4496.8</td></tr><tr><td>Ships</td><td>1</td><td>6397.44</td></tr><tr><td>Ships</td><td>1</td><td>2577.6</td></tr><tr><td>Ships</td><td>2</td><td>3533.62</td></tr><tr><td>Ships</td><td>1</td><td>3177.3</td></tr><tr><td>Ships</td><td>2</td><td>2730.06</td></tr><tr><td>Ships</td><td>2</td><td>1891.78</td></tr><tr><td>Ships</td><td>3</td><td>2612.48</td></tr><tr><td>Ships</td><td>4</td><td>2925.76</td></tr><tr><td>Ships</td><td>4</td><td>2940.02</td></tr><tr><td>Ships</td><td>4</td><td>3293.24</td></tr><tr><td>Ships</td><td>4</td><td>2389.68</td></tr><tr><td>Ships</td><td>4</td><td>2172.48</td></tr><tr><td>Ships</td><td>1</td><td>2927.43</td></tr><tr><td>Ships</td><td>1</td><td>2659.54</td></tr><tr><td>Ships</td><td>2</td><td>3838.0</td></tr><tr><td>Ships</td><td>2</td><td>4142.16</td></tr><tr><td>Ships</td><td>3</td><td>2172.48</td></tr><tr><td>Ships</td><td>3</td><td>1882.8</td></tr><tr><td>Ships</td><td>3</td><td>3477.86</td></tr><tr><td>Ships</td><td>4</td><td>3323.84</td></tr><tr><td>Ships</td><td>4</td><td>4195.8</td></tr><tr><td>Ships</td><td>4</td><td>4156.58</td></tr><tr><td>Ships</td><td>4</td><td>3918.75</td></tr><tr><td>Ships</td><td>4</td><td>2352.67</td></tr><tr><td>Ships</td><td>4</td><td>1089.36</td></tr><tr><td>Ships</td><td>1</td><td>2701.12</td></tr><tr><td>Ships</td><td>1</td><td>2487.04</td></tr><tr><td>Ships</td><td>1</td><td>3910.32</td></tr><tr><td>Ships</td><td>2</td><td>4038.8</td></tr><tr><td>Ships</td><td>2</td><td>3070.4</td></tr><tr><td>Planes</td><td>1</td><td>3763.46</td></tr><tr><td>Planes</td><td>2</td><td>2584.8</td></tr><tr><td>Planes</td><td>2</td><td>4427.6</td></tr><tr><td>Planes</td><td>3</td><td>2152.02</td></tr><tr><td>Planes</td><td>4</td><td>2353.4</td></tr><tr><td>Planes</td><td>4</td><td>3431.39</td></tr><tr><td>Planes</td><td>4</td><td>1930.5</td></tr><tr><td>Planes</td><td>4</td><td>4774.56</td></tr><tr><td>Planes</td><td>1</td><td>2592.72</td></tr><tr><td>Planes</td><td>1</td><td>3246.75</td></tr><tr><td>Planes</td><td>2</td><td>3372.5</td></tr><tr><td>Planes</td><td>2</td><td>3909.15</td></tr><tr><td>Planes</td><td>2</td><td>2994.75</td></tr><tr><td>Planes</td><td>3</td><td>4472.52</td></tr><tr><td>Planes</td><td>3</td><td>4576.95</td></tr><tr><td>Planes</td><td>3</td><td>2441.04</td></tr><tr><td>Planes</td><td>4</td><td>3106.25</td></tr><tr><td>Planes</td><td>4</td><td>2706.41</td></tr><tr><td>Planes</td><td>4</td><td>4021.53</td></tr><tr><td>Planes</td><td>4</td><td>4826.25</td></tr><tr><td>Planes</td><td>4</td><td>4935.28</td></tr><tr><td>Planes</td><td>4</td><td>2754.7</td></tr><tr><td>Planes</td><td>1</td><td>3856.71</td></tr><tr><td>Planes</td><td>1</td><td>3102.08</td></tr><tr><td>Planes</td><td>1</td><td>1908.72</td></tr><tr><td>Planes</td><td>2</td><td>2457.18</td></tr><tr><td>Ships</td><td>1</td><td>2038.87</td></tr><tr><td>Ships</td><td>2</td><td>2499.26</td></tr><tr><td>Ships</td><td>2</td><td>3838.05</td></tr><tr><td>Ships</td><td>3</td><td>2643.99</td></tr><tr><td>Ships</td><td>4</td><td>2315.88</td></tr><tr><td>Ships</td><td>4</td><td>3225.06</td></tr><tr><td>Ships</td><td>4</td><td>2451.84</td></tr><tr><td>Ships</td><td>4</td><td>2254.98</td></tr><tr><td>Ships</td><td>4</td><td>3939.5</td></tr><tr><td>Ships</td><td>1</td><td>3424.7</td></tr><tr><td>Ships</td><td>1</td><td>2914.2</td></tr><tr><td>Ships</td><td>1</td><td>2389.6</td></tr><tr><td>Ships</td><td>2</td><td>2428.48</td></tr><tr><td>Ships</td><td>2</td><td>3021.48</td></tr><tr><td>Ships</td><td>3</td><td>2610.72</td></tr><tr><td>Ships</td><td>3</td><td>3091.19</td></tr><tr><td>Ships</td><td>3</td><td>2576.2</td></tr><tr><td>Ships</td><td>4</td><td>3232.31</td></tr><tr><td>Ships</td><td>4</td><td>3573.6</td></tr><tr><td>Ships</td><td>4</td><td>2022.51</td></tr><tr><td>Ships</td><td>4</td><td>3717.5</td></tr><tr><td>Ships</td><td>4</td><td>2185.15</td></tr><tr><td>Ships</td><td>1</td><td>2883.53</td></tr><tr><td>Ships</td><td>1</td><td>5017.57</td></tr><tr><td>Ships</td><td>1</td><td>1463.0</td></tr><tr><td>Ships</td><td>2</td><td>2352.59</td></tr><tr><td>Classic Cars</td><td>1</td><td>4460.82</td></tr><tr><td>Classic Cars</td><td>2</td><td>4758.18</td></tr><tr><td>Classic Cars</td><td>2</td><td>4597.2</td></tr><tr><td>Classic Cars</td><td>3</td><td>4114.8</td></tr><tr><td>Classic Cars</td><td>3</td><td>2104.0</td></tr><tr><td>Classic Cars</td><td>4</td><td>3195.27</td></tr><tr><td>Classic Cars</td><td>4</td><td>3611.16</td></tr><tr><td>Classic Cars</td><td>4</td><td>2000.77</td></tr><tr><td>Classic Cars</td><td>4</td><td>2314.26</td></tr><tr><td>Classic Cars</td><td>4</td><td>3871.89</td></tr><tr><td>Classic Cars</td><td>1</td><td>2728.0</td></tr><tr><td>Classic Cars</td><td>1</td><td>5614.0</td></tr><tr><td>Classic Cars</td><td>2</td><td>4628.8</td></tr><tr><td>Classic Cars</td><td>2</td><td>3641.4</td></tr><tr><td>Classic Cars</td><td>3</td><td>4048.0</td></tr><tr><td>Classic Cars</td><td>3</td><td>2321.46</td></tr><tr><td>Classic Cars</td><td>3</td><td>3256.96</td></tr><tr><td>Classic Cars</td><td>4</td><td>4208.0</td></tr><tr><td>Classic Cars</td><td>4</td><td>2973.9</td></tr><tr><td>Classic Cars</td><td>4</td><td>4248.3</td></tr><tr><td>Classic Cars</td><td>4</td><td>2650.56</td></tr><tr><td>Classic Cars</td><td>4</td><td>3761.37</td></tr><tr><td>Classic Cars</td><td>1</td><td>4301.34</td></tr><tr><td>Classic Cars</td><td>1</td><td>1864.56</td></tr><tr><td>Classic Cars</td><td>2</td><td>3576.8</td></tr><tr><td>Classic Cars</td><td>2</td><td>3722.32</td></tr><tr><td>Planes</td><td>1</td><td>3986.56</td></tr><tr><td>Planes</td><td>2</td><td>3417.12</td></tr><tr><td>Planes</td><td>2</td><td>2691.09</td></tr><tr><td>Planes</td><td>3</td><td>2752.6</td></tr><tr><td>Planes</td><td>4</td><td>4527.72</td></tr><tr><td>Planes</td><td>4</td><td>3957.05</td></tr><tr><td>Planes</td><td>1</td><td>2818.0</td></tr><tr><td>Planes</td><td>1</td><td>3199.86</td></tr><tr><td>Planes</td><td>2</td><td>2402.75</td></tr><tr><td>Planes</td><td>2</td><td>6055.72</td></tr><tr><td>Planes</td><td>2</td><td>5465.16</td></tr><tr><td>Planes</td><td>3</td><td>6378.72</td></tr><tr><td>Planes</td><td>3</td><td>5392.8</td></tr><tr><td>Planes</td><td>3</td><td>3986.5</td></tr><tr><td>Planes</td><td>4</td><td>4009.23</td></tr><tr><td>Planes</td><td>4</td><td>4072.2</td></tr><tr><td>Planes</td><td>4</td><td>4094.51</td></tr><tr><td>Planes</td><td>4</td><td>3302.4</td></tr><tr><td>Planes</td><td>4</td><td>3186.48</td></tr><tr><td>Planes</td><td>1</td><td>1668.25</td></tr><tr><td>Planes</td><td>1</td><td>2810.83</td></tr><tr><td>Planes</td><td>2</td><td>2018.31</td></tr><tr><td>Planes</td><td>2</td><td>5642.83</td></tr><tr><td>Planes</td><td>1</td><td>3273.6</td></tr><tr><td>Planes</td><td>2</td><td>3268.0</td></tr><tr><td>Planes</td><td>3</td><td>2688.0</td></tr><tr><td>Planes</td><td>4</td><td>3715.2</td></tr><tr><td>Planes</td><td>4</td><td>4608.0</td></tr><tr><td>Planes</td><td>4</td><td>3131.2</td></tr><tr><td>Planes</td><td>1</td><td>2678.4</td></tr><tr><td>Planes</td><td>1</td><td>1747.2</td></tr><tr><td>Planes</td><td>2</td><td>2944.0</td></tr><tr><td>Planes</td><td>2</td><td>2956.8</td></tr><tr><td>Planes</td><td>2</td><td>2052.0</td></tr><tr><td>Planes</td><td>3</td><td>3164.8</td></tr><tr><td>Planes</td><td>3</td><td>1740.0</td></tr><tr><td>Planes</td><td>3</td><td>1777.6</td></tr><tr><td>Planes</td><td>4</td><td>1831.2</td></tr><tr><td>Planes</td><td>4</td><td>3609.6</td></tr><tr><td>Planes</td><td>4</td><td>2112.0</td></tr><tr><td>Planes</td><td>4</td><td>3644.12</td></tr><tr><td>Planes</td><td>4</td><td>3523.85</td></tr><tr><td>Planes</td><td>4</td><td>5001.92</td></tr><tr><td>Planes</td><td>1</td><td>5208.72</td></tr><tr><td>Planes</td><td>1</td><td>3018.88</td></tr><tr><td>Planes</td><td>1</td><td>1902.4</td></tr><tr><td>Planes</td><td>2</td><td>2620.8</td></tr><tr><td>Ships</td><td>1</td><td>3164.46</td></tr><tr><td>Ships</td><td>2</td><td>4219.2</td></tr><tr><td>Ships</td><td>2</td><td>3828.3</td></tr><tr><td>Ships</td><td>3</td><td>2334.99</td></tr><tr><td>Ships</td><td>3</td><td>4407.5</td></tr><tr><td>Ships</td><td>4</td><td>2812.8</td></tr><tr><td>Ships</td><td>4</td><td>4055.04</td></tr><tr><td>Ships</td><td>4</td><td>3891.66</td></tr><tr><td>Ships</td><td>4</td><td>2488.32</td></tr><tr><td>Ships</td><td>1</td><td>4447.4</td></tr><tr><td>Ships</td><td>1</td><td>4187.22</td></tr><tr><td>Ships</td><td>1</td><td>4615.68</td></tr><tr><td>Ships</td><td>2</td><td>3245.4</td></tr><tr><td>Ships</td><td>2</td><td>2203.75</td></tr><tr><td>Ships</td><td>3</td><td>3446.0</td></tr><tr><td>Ships</td><td>3</td><td>1939.3</td></tr><tr><td>Ships</td><td>3</td><td>3473.78</td></tr><tr><td>Ships</td><td>4</td><td>2884.8</td></tr><tr><td>Ships</td><td>4</td><td>2670.65</td></tr><tr><td>Ships</td><td>4</td><td>3440.0</td></tr><tr><td>Ships</td><td>4</td><td>2770.78</td></tr><tr><td>Ships</td><td>4</td><td>2397.54</td></tr><tr><td>Ships</td><td>1</td><td>3275.56</td></tr><tr><td>Ships</td><td>1</td><td>4143.6</td></tr><tr><td>Ships</td><td>1</td><td>5192.64</td></tr><tr><td>Ships</td><td>2</td><td>3029.04</td></tr><tr><td>Ships</td><td>1</td><td>2556.18</td></tr><tr><td>Ships</td><td>2</td><td>3753.9</td></tr><tr><td>Ships</td><td>2</td><td>2562.3</td></tr><tr><td>Ships</td><td>3</td><td>3245.58</td></tr><tr><td>Ships</td><td>3</td><td>2204.6</td></tr><tr><td>Ships</td><td>4</td><td>3003.0</td></tr><tr><td>Ships</td><td>4</td><td>2526.48</td></tr><tr><td>Ships</td><td>4</td><td>1747.9</td></tr><tr><td>Ships</td><td>4</td><td>3267.25</td></tr><tr><td>Ships</td><td>1</td><td>2818.53</td></tr><tr><td>Ships</td><td>1</td><td>2955.54</td></tr><tr><td>Ships</td><td>1</td><td>2885.05</td></tr><tr><td>Ships</td><td>2</td><td>3162.95</td></tr><tr><td>Ships</td><td>2</td><td>4071.5</td></tr><tr><td>Ships</td><td>3</td><td>2969.46</td></tr><tr><td>Ships</td><td>3</td><td>3396.44</td></tr><tr><td>Ships</td><td>3</td><td>4692.6</td></tr><tr><td>Ships</td><td>4</td><td>3515.7</td></tr><tr><td>Ships</td><td>4</td><td>3380.69</td></tr><tr><td>Ships</td><td>4</td><td>3204.57</td></tr><tr><td>Ships</td><td>4</td><td>2588.04</td></tr><tr><td>Ships</td><td>4</td><td>2854.75</td></tr><tr><td>Ships</td><td>1</td><td>4025.6</td></tr><tr><td>Ships</td><td>1</td><td>2864.4</td></tr><tr><td>Ships</td><td>1</td><td>3789.72</td></tr><tr><td>Ships</td><td>2</td><td>2439.99</td></tr><tr><td>Planes</td><td>1</td><td>2949.12</td></tr><tr><td>Planes</td><td>2</td><td>1539.72</td></tr><tr><td>Planes</td><td>2</td><td>2213.38</td></tr><tr><td>Planes</td><td>3</td><td>2919.58</td></tr><tr><td>Planes</td><td>4</td><td>3778.28</td></tr><tr><td>Planes</td><td>4</td><td>3233.49</td></tr><tr><td>Planes</td><td>4</td><td>3431.25</td></tr><tr><td>Planes</td><td>4</td><td>2546.8</td></tr><tr><td>Planes</td><td>1</td><td>2953.86</td></tr><tr><td>Planes</td><td>1</td><td>3183.29</td></tr><tr><td>Planes</td><td>2</td><td>2466.7</td></tr><tr><td>Planes</td><td>2</td><td>2363.22</td></tr><tr><td>Planes</td><td>2</td><td>2487.45</td></tr><tr><td>Planes</td><td>3</td><td>2249.05</td></tr><tr><td>Planes</td><td>3</td><td>2061.12</td></tr><tr><td>Planes</td><td>3</td><td>4071.14</td></tr><tr><td>Planes</td><td>4</td><td>2656.29</td></tr><tr><td>Planes</td><td>4</td><td>2736.36</td></tr><tr><td>Planes</td><td>4</td><td>3348.93</td></tr><tr><td>Planes</td><td>4</td><td>2893.0</td></tr><tr><td>Planes</td><td>4</td><td>1661.22</td></tr><tr><td>Planes</td><td>4</td><td>4277.35</td></tr><tr><td>Planes</td><td>1</td><td>2502.9</td></tr><tr><td>Planes</td><td>1</td><td>3801.6</td></tr><tr><td>Planes</td><td>1</td><td>3144.96</td></tr><tr><td>Planes</td><td>2</td><td>2031.4</td></tr><tr><td>Planes</td><td>2</td><td>2674.17</td></tr><tr><td>Planes</td><td>1</td><td>2526.72</td></tr><tr><td>Planes</td><td>2</td><td>1348.76</td></tr><tr><td>Planes</td><td>2</td><td>875.91</td></tr><tr><td>Planes</td><td>3</td><td>1874.05</td></tr><tr><td>Planes</td><td>4</td><td>1671.44</td></tr><tr><td>Planes</td><td>4</td><td>1668.4</td></tr><tr><td>Planes</td><td>4</td><td>2301.75</td></tr><tr><td>Planes</td><td>4</td><td>1459.92</td></tr><tr><td>Planes</td><td>4</td><td>1209.59</td></tr><tr><td>Planes</td><td>1</td><td>2145.12</td></tr><tr><td>Planes</td><td>1</td><td>1416.39</td></tr><tr><td>Planes</td><td>2</td><td>1843.52</td></tr><tr><td>Planes</td><td>2</td><td>1199.31</td></tr><tr><td>Planes</td><td>3</td><td>1875.2</td></tr><tr><td>Planes</td><td>3</td><td>2477.23</td></tr><tr><td>Planes</td><td>3</td><td>948.99</td></tr><tr><td>Planes</td><td>4</td><td>1823.42</td></tr><tr><td>Planes</td><td>4</td><td>1485.8</td></tr><tr><td>Planes</td><td>4</td><td>3789.72</td></tr><tr><td>Planes</td><td>4</td><td>2060.37</td></tr><tr><td>Planes</td><td>4</td><td>2579.36</td></tr><tr><td>Planes</td><td>4</td><td>2189.6</td></tr><tr><td>Planes</td><td>1</td><td>1624.25</td></tr><tr><td>Planes</td><td>1</td><td>4357.5</td></tr><tr><td>Planes</td><td>1</td><td>1367.48</td></tr><tr><td>Planes</td><td>2</td><td>1122.4</td></tr><tr><td>Planes</td><td>2</td><td>2419.62</td></tr><tr><td>Ships</td><td>1</td><td>1419.5</td></tr><tr><td>Ships</td><td>2</td><td>2184.0</td></tr><tr><td>Ships</td><td>2</td><td>2079.04</td></tr><tr><td>Ships</td><td>3</td><td>1724.97</td></tr><tr><td>Ships</td><td>3</td><td>3003.0</td></tr><tr><td>Ships</td><td>4</td><td>1846.42</td></tr><tr><td>Ships</td><td>4</td><td>2009.2</td></tr><tr><td>Ships</td><td>4</td><td>1804.04</td></tr><tr><td>Ships</td><td>4</td><td>2109.66</td></tr><tr><td>Ships</td><td>1</td><td>2682.96</td></tr><tr><td>Ships</td><td>1</td><td>2280.24</td></tr><tr><td>Ships</td><td>1</td><td>1192.56</td></tr><tr><td>Ships</td><td>2</td><td>1506.96</td></tr><tr><td>Ships</td><td>2</td><td>1472.62</td></tr><tr><td>Ships</td><td>3</td><td>1696.82</td></tr><tr><td>Ships</td><td>3</td><td>1693.56</td></tr><tr><td>Ships</td><td>3</td><td>1921.92</td></tr><tr><td>Ships</td><td>4</td><td>2082.85</td></tr><tr><td>Ships</td><td>4</td><td>2227.6</td></tr><tr><td>Ships</td><td>4</td><td>3209.38</td></tr><tr><td>Ships</td><td>4</td><td>4080.72</td></tr><tr><td>Ships</td><td>4</td><td>2244.4</td></tr><tr><td>Ships</td><td>1</td><td>3978.51</td></tr><tr><td>Ships</td><td>1</td><td>5417.57</td></tr><tr><td>Ships</td><td>1</td><td>2116.16</td></tr><tr><td>Ships</td><td>2</td><td>3079.44</td></tr></tbody></table></div>"
      ]
     },
     "metadata": {
      "application/vnd.databricks.v1+output": {
       "addedWidgets": {},
       "aggData": [],
       "aggError": "",
       "aggOverflow": false,
       "aggSchema": [],
       "aggSeriesLimitReached": false,
       "aggType": "",
       "arguments": {},
       "columnCustomDisplayInfos": {},
       "data": [
        [
         "Motorcycles",
         1,
         2871.0
        ],
        [
         "Motorcycles",
         2,
         2765.9
        ],
        [
         "Motorcycles",
         3,
         3884.34
        ],
        [
         "Motorcycles",
         3,
         3746.7
        ],
        [
         "Motorcycles",
         4,
         5205.27
        ],
        [
         "Motorcycles",
         4,
         3479.76
        ],
        [
         "Motorcycles",
         4,
         2497.77
        ],
        [
         "Motorcycles",
         4,
         5512.32
        ],
        [
         "Motorcycles",
         4,
         2168.54
        ],
        [
         "Motorcycles",
         1,
         4708.44
        ],
        [
         "Motorcycles",
         1,
         3965.66
        ],
        [
         "Motorcycles",
         2,
         2333.12
        ],
        [
         "Motorcycles",
         2,
         3188.64
        ],
        [
         "Motorcycles",
         2,
         3676.76
        ],
        [
         "Motorcycles",
         3,
         4177.35
        ],
        [
         "Motorcycles",
         3,
         4099.68
        ],
        [
         "Motorcycles",
         3,
         2597.39
        ],
        [
         "Motorcycles",
         4,
         4394.38
        ],
        [
         "Motorcycles",
         4,
         4358.04
        ],
        [
         "Motorcycles",
         4,
         4396.14
        ],
        [
         "Motorcycles",
         4,
         1451.0
        ],
        [
         "Motorcycles",
         1,
         733.11
        ],
        [
         "Motorcycles",
         1,
         3207.12
        ],
        [
         "Motorcycles",
         2,
         2434.56
        ],
        [
         "Classic Cars",
         1,
         5404.62
        ],
        [
         "Classic Cars",
         4,
         4860.24
        ],
        [
         "Classic Cars",
         4,
         5372.57
        ],
        [
         "Classic Cars",
         1,
         6075.3
        ],
        [
         "Classic Cars",
         1,
         6463.23
        ],
        [
         "Classic Cars",
         2,
         6120.34
        ],
        [
         "Classic Cars",
         3,
         4905.39
        ],
        [
         "Classic Cars",
         4,
         6000.4
        ],
        [
         "Classic Cars",
         4,
         3003.0
        ],
        [
         "Classic Cars",
         4,
         3944.7
        ],
        [
         "Classic Cars",
         4,
         5691.84
        ],
        [
         "Classic Cars",
         1,
         4514.92
        ],
        [
         "Classic Cars",
         1,
         2416.56
        ],
        [
         "Classic Cars",
         2,
         4140.23
        ],
        [
         "Motorcycles",
         1,
         3896.49
        ],
        [
         "Motorcycles",
         2,
         2793.86
        ],
        [
         "Motorcycles",
         3,
         3307.77
        ],
        [
         "Motorcycles",
         3,
         5192.95
        ],
        [
         "Motorcycles",
         4,
         5016.83
        ],
        [
         "Motorcycles",
         4,
         3660.93
        ],
        [
         "Motorcycles",
         4,
         4695.6
        ],
        [
         "Motorcycles",
         4,
         3660.92
        ],
        [
         "Motorcycles",
         4,
         3025.92
        ],
        [
         "Motorcycles",
         1,
         3009.09
        ],
        [
         "Motorcycles",
         1,
         5422.39
        ],
        [
         "Motorcycles",
         2,
         2852.08
        ],
        [
         "Motorcycles",
         2,
         5756.52
        ],
        [
         "Motorcycles",
         2,
         4472.0
        ],
        [
         "Motorcycles",
         3,
         2904.44
        ],
        [
         "Motorcycles",
         3,
         6484.59
        ],
        [
         "Motorcycles",
         3,
         3757.26
        ],
        [
         "Motorcycles",
         4,
         4043.96
        ],
        [
         "Motorcycles",
         4,
         5566.5
        ],
        [
         "Motorcycles",
         4,
         3176.0
        ],
        [
         "Motorcycles",
         4,
         2756.8
        ],
        [
         "Motorcycles",
         4,
         1329.9
        ],
        [
         "Motorcycles",
         1,
         5288.01
        ],
        [
         "Motorcycles",
         1,
         2225.5
        ],
        [
         "Motorcycles",
         2,
         5833.8
        ],
        [
         "Motorcycles",
         2,
         5887.35
        ],
        [
         "Motorcycles",
         1,
         6065.55
        ],
        [
         "Motorcycles",
         3,
         5176.38
        ],
        [
         "Motorcycles",
         4,
         4132.7
        ],
        [
         "Motorcycles",
         4,
         4183.0
        ],
        [
         "Motorcycles",
         1,
         6123.4
        ],
        [
         "Motorcycles",
         3,
         5438.07
        ],
        [
         "Motorcycles",
         3,
         6683.34
        ],
        [
         "Motorcycles",
         4,
         4570.4
        ],
        [
         "Motorcycles",
         4,
         5868.2
        ],
        [
         "Motorcycles",
         4,
         2990.13
        ],
        [
         "Motorcycles",
         1,
         3664.1
        ],
        [
         "Motorcycles",
         1,
         3834.38
        ],
        [
         "Motorcycles",
         1,
         1822.17
        ],
        [
         "Classic Cars",
         2,
         5004.8
        ],
        [
         "Classic Cars",
         2,
         4398.24
        ],
        [
         "Classic Cars",
         3,
         5597.76
        ],
        [
         "Classic Cars",
         4,
         4526.08
        ],
        [
         "Classic Cars",
         4,
         5924.16
        ],
        [
         "Classic Cars",
         4,
         3492.48
        ],
        [
         "Classic Cars",
         4,
         3854.24
        ],
        [
         "Classic Cars",
         4,
         5324.4
        ],
        [
         "Classic Cars",
         1,
         5197.92
        ],
        [
         "Classic Cars",
         1,
         5997.6
        ],
        [
         "Classic Cars",
         2,
         2910.4
        ],
        [
         "Classic Cars",
         2,
         3378.24
        ],
        [
         "Classic Cars",
         3,
         3508.8
        ],
        [
         "Classic Cars",
         3,
         2992.0
        ],
        [
         "Classic Cars",
         3,
         3427.2
        ],
        [
         "Classic Cars",
         4,
         2692.8
        ],
        [
         "Classic Cars",
         4,
         4128.96
        ],
        [
         "Classic Cars",
         4,
         3051.71
        ],
        [
         "Classic Cars",
         4,
         1201.25
        ],
        [
         "Classic Cars",
         4,
         1962.22
        ],
        [
         "Classic Cars",
         4,
         2624.64
        ],
        [
         "Classic Cars",
         1,
         4046.25
        ],
        [
         "Classic Cars",
         1,
         4846.7
        ],
        [
         "Classic Cars",
         1,
         3370.56
        ],
        [
         "Classic Cars",
         2,
         2764.88
        ],
        [
         "Classic Cars",
         1,
         5398.26
        ],
        [
         "Classic Cars",
         2,
         4305.28
        ],
        [
         "Classic Cars",
         2,
         3347.74
        ],
        [
         "Classic Cars",
         3,
         3188.12
        ],
        [
         "Classic Cars",
         3,
         3191.2
        ],
        [
         "Classic Cars",
         4,
         3536.82
        ],
        [
         "Classic Cars",
         4,
         5362.83
        ],
        [
         "Classic Cars",
         4,
         3433.36
        ],
        [
         "Classic Cars",
         4,
         4263.74
        ],
        [
         "Classic Cars",
         4,
         4076.19
        ],
        [
         "Classic Cars",
         1,
         6426.5
        ],
        [
         "Classic Cars",
         2,
         4591.72
        ],
        [
         "Classic Cars",
         2,
         4033.38
        ],
        [
         "Classic Cars",
         3,
         4302.08
        ],
        [
         "Classic Cars",
         3,
         3855.9
        ],
        [
         "Classic Cars",
         4,
         6680.78
        ],
        [
         "Classic Cars",
         4,
         6678.0
        ],
        [
         "Classic Cars",
         4,
         2851.54
        ],
        [
         "Classic Cars",
         4,
         3188.12
        ],
        [
         "Classic Cars",
         4,
         4428.0
        ],
        [
         "Classic Cars",
         4,
         5780.92
        ],
        [
         "Classic Cars",
         1,
         2297.05
        ],
        [
         "Classic Cars",
         1,
         6231.54
        ],
        [
         "Classic Cars",
         1,
         1735.3
        ],
        [
         "Classic Cars",
         2,
         4427.73
        ],
        [
         "Classic Cars",
         2,
         5894.94
        ],
        [
         "Classic Cars",
         1,
         5265.15
        ],
        [
         "Classic Cars",
         4,
         5019.9
        ],
        [
         "Classic Cars",
         4,
         5411.07
        ],
        [
         "Classic Cars",
         4,
         3840.9
        ],
        [
         "Classic Cars",
         4,
         3930.4
        ],
        [
         "Classic Cars",
         1,
         4517.91
        ],
        [
         "Classic Cars",
         2,
         5774.72
        ],
        [
         "Classic Cars",
         2,
         3922.56
        ],
        [
         "Classic Cars",
         3,
         3432.24
        ],
        [
         "Classic Cars",
         4,
         5521.89
        ],
        [
         "Classic Cars",
         4,
         2930.27
        ],
        [
         "Classic Cars",
         4,
         3584.25
        ],
        [
         "Classic Cars",
         1,
         2817.87
        ],
        [
         "Classic Cars",
         1,
         3420.0
        ],
        [
         "Classic Cars",
         1,
         2575.04
        ],
        [
         "Classic Cars",
         2,
         1961.28
        ],
        [
         "Classic Cars",
         2,
         6034.38
        ],
        [
         "Classic Cars",
         3,
         4904.0
        ],
        [
         "Classic Cars",
         4,
         3883.74
        ],
        [
         "Classic Cars",
         3,
         5818.4
        ],
        [
         "Classic Cars",
         4,
         6570.76
        ],
        [
         "Classic Cars",
         4,
         2688.0
        ],
        [
         "Classic Cars",
         4,
         1888.26
        ],
        [
         "Classic Cars",
         4,
         2513.28
        ],
        [
         "Classic Cars",
         4,
         4764.48
        ],
        [
         "Classic Cars",
         1,
         3560.64
        ],
        [
         "Classic Cars",
         1,
         3823.64
        ],
        [
         "Classic Cars",
         1,
         2280.96
        ],
        [
         "Trucks and Buses",
         1,
         3394.98
        ],
        [
         "Trucks and Buses",
         1,
         3415.44
        ],
        [
         "Trucks and Buses",
         2,
         2439.57
        ],
        [
         "Trucks and Buses",
         3,
         4829.8
        ],
        [
         "Trucks and Buses",
         3,
         4100.1
        ],
        [
         "Trucks and Buses",
         4,
         6563.06
        ],
        [
         "Trucks and Buses",
         4,
         6163.94
        ],
        [
         "Trucks and Buses",
         4,
         4933.92
        ],
        [
         "Trucks and Buses",
         4,
         4056.36
        ],
        [
         "Trucks and Buses",
         1,
         5759.42
        ],
        [
         "Trucks and Buses",
         1,
         3451.0
        ],
        [
         "Trucks and Buses",
         2,
         5920.4
        ],
        [
         "Trucks and Buses",
         2,
         6668.24
        ],
        [
         "Trucks and Buses",
         3,
         4094.72
        ],
        [
         "Trucks and Buses",
         3,
         2938.5
        ],
        [
         "Trucks and Buses",
         3,
         6387.8
        ],
        [
         "Trucks and Buses",
         4,
         6396.0
        ],
        [
         "Trucks and Buses",
         4,
         2669.1
        ],
        [
         "Trucks and Buses",
         4,
         4784.13
        ],
        [
         "Trucks and Buses",
         4,
         3273.93
        ],
        [
         "Trucks and Buses",
         4,
         3586.43
        ],
        [
         "Trucks and Buses",
         4,
         5960.36
        ],
        [
         "Trucks and Buses",
         1,
         2952.0
        ],
        [
         "Trucks and Buses",
         1,
         2464.8
        ],
        [
         "Trucks and Buses",
         2,
         6232.0
        ],
        [
         "Motorcycles",
         1,
         3036.6
        ],
        [
         "Motorcycles",
         3,
         2711.2
        ],
        [
         "Motorcycles",
         4,
         6238.84
        ],
        [
         "Motorcycles",
         4,
         4639.25
        ],
        [
         "Motorcycles",
         4,
         6747.6
        ],
        [
         "Motorcycles",
         4,
         4512.48
        ],
        [
         "Motorcycles",
         4,
         4029.0
        ],
        [
         "Motorcycles",
         1,
         4771.8
        ],
        [
         "Motorcycles",
         1,
         6087.94
        ],
        [
         "Motorcycles",
         2,
         4193.28
        ],
        [
         "Motorcycles",
         2,
         6434.4
        ],
        [
         "Motorcycles",
         3,
         5181.5
        ],
        [
         "Motorcycles",
         3,
         4157.04
        ],
        [
         "Motorcycles",
         4,
         4660.24
        ],
        [
         "Motorcycles",
         4,
         4111.8
        ],
        [
         "Motorcycles",
         4,
         3542.64
        ],
        [
         "Motorcycles",
         1,
         3877.06
        ],
        [
         "Motorcycles",
         1,
         3867.08
        ],
        [
         "Motorcycles",
         1,
         5951.44
        ],
        [
         "Motorcycles",
         2,
         3447.78
        ],
        [
         "Classic Cars",
         1,
         5958.5
        ],
        [
         "Classic Cars",
         2,
         5911.64
        ],
        [
         "Classic Cars",
         3,
         4985.64
        ],
        [
         "Classic Cars",
         3,
         5393.64
        ],
        [
         "Classic Cars",
         4,
         4880.02
        ],
        [
         "Classic Cars",
         4,
         4038.21
        ],
        [
         "Classic Cars",
         4,
         3807.12
        ],
        [
         "Classic Cars",
         1,
         3142.36
        ],
        [
         "Classic Cars",
         1,
         4713.6
        ],
        [
         "Classic Cars",
         2,
         4381.25
        ],
        [
         "Classic Cars",
         3,
         4283.01
        ],
        [
         "Classic Cars",
         3,
         4364.82
        ],
        [
         "Classic Cars",
         3,
         4242.24
        ],
        [
         "Classic Cars",
         4,
         4982.7
        ],
        [
         "Classic Cars",
         4,
         6393.54
        ],
        [
         "Classic Cars",
         4,
         1466.91
        ],
        [
         "Classic Cars",
         4,
         4059.33
        ],
        [
         "Classic Cars",
         4,
         4801.52
        ],
        [
         "Classic Cars",
         4,
         2711.66
        ],
        [
         "Classic Cars",
         1,
         5862.0
        ],
        [
         "Classic Cars",
         1,
         4071.85
        ],
        [
         "Classic Cars",
         1,
         6130.35
        ],
        [
         "Classic Cars",
         2,
         3693.34
        ],
        [
         "Classic Cars",
         3,
         6031.68
        ],
        [
         "Classic Cars",
         3,
         3494.94
        ],
        [
         "Classic Cars",
         4,
         5294.14
        ],
        [
         "Classic Cars",
         4,
         5464.69
        ],
        [
         "Classic Cars",
         4,
         2860.76
        ],
        [
         "Classic Cars",
         4,
         5590.0
        ],
        [
         "Classic Cars",
         4,
         2254.8
        ],
        [
         "Classic Cars",
         1,
         4946.76
        ],
        [
         "Classic Cars",
         1,
         2495.5
        ],
        [
         "Classic Cars",
         2,
         3167.38
        ],
        [
         "Classic Cars",
         2,
         2402.84
        ],
        [
         "Classic Cars",
         3,
         2454.54
        ],
        [
         "Classic Cars",
         3,
         5464.69
        ],
        [
         "Classic Cars",
         3,
         4756.5
        ],
        [
         "Classic Cars",
         4,
         3984.6
        ],
        [
         "Classic Cars",
         4,
         3100.32
        ],
        [
         "Classic Cars",
         4,
         4850.3
        ],
        [
         "Classic Cars",
         4,
         3846.98
        ],
        [
         "Classic Cars",
         4,
         4220.92
        ],
        [
         "Classic Cars",
         1,
         3288.82
        ],
        [
         "Classic Cars",
         1,
         3987.2
        ],
        [
         "Classic Cars",
         1,
         1809.5
        ],
        [
         "Classic Cars",
         2,
         1092.2
        ],
        [
         "Classic Cars",
         1,
         4566.05
        ],
        [
         "Classic Cars",
         2,
         5938.14
        ],
        [
         "Classic Cars",
         4,
         5559.03
        ],
        [
         "Classic Cars",
         1,
         3114.4
        ],
        [
         "Classic Cars",
         1,
         5045.22
        ],
        [
         "Classic Cars",
         2,
         4157.73
        ],
        [
         "Classic Cars",
         3,
         3778.8
        ],
        [
         "Classic Cars",
         4,
         3633.4
        ],
        [
         "Classic Cars",
         4,
         2583.6
        ],
        [
         "Classic Cars",
         4,
         3105.62
        ],
        [
         "Classic Cars",
         4,
         4408.56
        ],
        [
         "Classic Cars",
         4,
         3042.41
        ],
        [
         "Classic Cars",
         1,
         5941.5
        ],
        [
         "Classic Cars",
         1,
         3241.9
        ],
        [
         "Classic Cars",
         1,
         6109.29
        ],
        [
         "Classic Cars",
         2,
         3387.78
        ],
        [
         "Classic Cars",
         1,
         3485.82
        ],
        [
         "Classic Cars",
         2,
         2042.88
        ],
        [
         "Classic Cars",
         3,
         1800.24
        ],
        [
         "Classic Cars",
         3,
         1340.64
        ],
        [
         "Classic Cars",
         4,
         1762.08
        ],
        [
         "Classic Cars",
         4,
         2298.24
        ],
        [
         "Classic Cars",
         4,
         1628.0
        ],
        [
         "Classic Cars",
         4,
         1939.2
        ],
        [
         "Classic Cars",
         4,
         3651.56
        ],
        [
         "Classic Cars",
         1,
         2591.96
        ],
        [
         "Classic Cars",
         1,
         2864.17
        ],
        [
         "Classic Cars",
         2,
         1484.2
        ],
        [
         "Classic Cars",
         2,
         2254.25
        ],
        [
         "Classic Cars",
         3,
         2681.35
        ],
        [
         "Classic Cars",
         3,
         3184.02
        ],
        [
         "Classic Cars",
         3,
         2846.63
        ],
        [
         "Classic Cars",
         4,
         1685.42
        ],
        [
         "Classic Cars",
         4,
         3988.6
        ],
        [
         "Classic Cars",
         4,
         2789.96
        ],
        [
         "Classic Cars",
         4,
         3607.56
        ],
        [
         "Classic Cars",
         4,
         3368.16
        ],
        [
         "Classic Cars",
         1,
         2775.08
        ],
        [
         "Classic Cars",
         1,
         1627.92
        ],
        [
         "Classic Cars",
         1,
         2529.36
        ],
        [
         "Classic Cars",
         2,
         3065.78
        ],
        [
         "Trucks and Buses",
         1,
         4615.78
        ],
        [
         "Trucks and Buses",
         2,
         5723.78
        ],
        [
         "Trucks and Buses",
         2,
         2559.6
        ],
        [
         "Trucks and Buses",
         3,
         2140.11
        ],
        [
         "Trucks and Buses",
         3,
         3327.6
        ],
        [
         "Trucks and Buses",
         4,
         3543.28
        ],
        [
         "Trucks and Buses",
         4,
         4516.22
        ],
        [
         "Trucks and Buses",
         4,
         6445.46
        ],
        [
         "Trucks and Buses",
         4,
         3384.36
        ],
        [
         "Trucks and Buses",
         1,
         4891.68
        ],
        [
         "Trucks and Buses",
         1,
         4521.96
        ],
        [
         "Trucks and Buses",
         2,
         5069.66
        ],
        [
         "Trucks and Buses",
         2,
         6541.2
        ],
        [
         "Trucks and Buses",
         3,
         3012.27
        ],
        [
         "Trucks and Buses",
         3,
         5247.18
        ],
        [
         "Trucks and Buses",
         3,
         2214.87
        ],
        [
         "Trucks and Buses",
         4,
         4773.18
        ],
        [
         "Trucks and Buses",
         4,
         6185.7
        ],
        [
         "Trucks and Buses",
         4,
         1517.88
        ],
        [
         "Trucks and Buses",
         4,
         6372.6
        ],
        [
         "Trucks and Buses",
         4,
         5232.96
        ],
        [
         "Trucks and Buses",
         4,
         2694.72
        ],
        [
         "Trucks and Buses",
         1,
         1749.79
        ],
        [
         "Trucks and Buses",
         1,
         2130.56
        ],
        [
         "Trucks and Buses",
         2,
         5951.34
        ],
        [
         "Trucks and Buses",
         2,
         4692.6
        ],
        [
         "Classic Cars",
         1,
         3731.04
        ],
        [
         "Classic Cars",
         2,
         2142.0
        ],
        [
         "Classic Cars",
         3,
         2838.81
        ],
        [
         "Classic Cars",
         3,
         3230.37
        ],
        [
         "Classic Cars",
         4,
         5182.0
        ],
        [
         "Classic Cars",
         4,
         4391.1
        ],
        [
         "Classic Cars",
         4,
         4477.32
        ],
        [
         "Classic Cars",
         4,
         3544.56
        ],
        [
         "Classic Cars",
         4,
         5195.85
        ],
        [
         "Classic Cars",
         1,
         4180.44
        ],
        [
         "Classic Cars",
         1,
         2684.43
        ],
        [
         "Classic Cars",
         2,
         1958.88
        ],
        [
         "Classic Cars",
         2,
         4910.57
        ],
        [
         "Classic Cars",
         3,
         4468.4
        ],
        [
         "Classic Cars",
         3,
         3127.88
        ],
        [
         "Classic Cars",
         3,
         2675.13
        ],
        [
         "Classic Cars",
         4,
         2807.61
        ],
        [
         "Classic Cars",
         4,
         2504.75
        ],
        [
         "Classic Cars",
         4,
         2984.88
        ],
        [
         "Classic Cars",
         4,
         2524.86
        ],
        [
         "Classic Cars",
         4,
         4136.0
        ],
        [
         "Classic Cars",
         1,
         4068.7
        ],
        [
         "Classic Cars",
         1,
         5182.0
        ],
        [
         "Classic Cars",
         1,
         5243.79
        ],
        [
         "Classic Cars",
         2,
         3832.64
        ],
        [
         "Trucks and Buses",
         1,
         3920.0
        ],
        [
         "Trucks and Buses",
         1,
         4916.66
        ],
        [
         "Trucks and Buses",
         2,
         3857.0
        ],
        [
         "Trucks and Buses",
         3,
         4181.44
        ],
        [
         "Trucks and Buses",
         3,
         4641.0
        ],
        [
         "Trucks and Buses",
         4,
         3570.12
        ],
        [
         "Trucks and Buses",
         4,
         4480.32
        ],
        [
         "Trucks and Buses",
         4,
         2033.64
        ],
        [
         "Trucks and Buses",
         4,
         1960.14
        ],
        [
         "Trucks and Buses",
         4,
         3966.78
        ],
        [
         "Trucks and Buses",
         1,
         5152.0
        ],
        [
         "Trucks and Buses",
         1,
         3360.0
        ],
        [
         "Trucks and Buses",
         2,
         3451.0
        ],
        [
         "Trucks and Buses",
         2,
         5453.0
        ],
        [
         "Trucks and Buses",
         3,
         4164.12
        ],
        [
         "Trucks and Buses",
         3,
         2800.08
        ],
        [
         "Trucks and Buses",
         3,
         4687.94
        ],
        [
         "Trucks and Buses",
         4,
         4508.0
        ],
        [
         "Trucks and Buses",
         4,
         4181.44
        ],
        [
         "Trucks and Buses",
         4,
         2251.04
        ],
        [
         "Trucks and Buses",
         4,
         1167.25
        ],
        [
         "Trucks and Buses",
         4,
         2083.2
        ],
        [
         "Trucks and Buses",
         4,
         3822.0
        ],
        [
         "Trucks and Buses",
         1,
         3911.49
        ],
        [
         "Trucks and Buses",
         1,
         4704.0
        ],
        [
         "Trucks and Buses",
         1,
         2467.9
        ],
        [
         "Trucks and Buses",
         2,
         3213.0
        ],
        [
         "Classic Cars",
         1,
         4379.18
        ],
        [
         "Classic Cars",
         2,
         5004.8
        ],
        [
         "Classic Cars",
         3,
         3644.75
        ],
        [
         "Classic Cars",
         3,
         2702.04
        ],
        [
         "Classic Cars",
         4,
         3764.88
        ],
        [
         "Classic Cars",
         4,
         4508.0
        ],
        [
         "Classic Cars",
         4,
         5418.16
        ],
        [
         "Classic Cars",
         4,
         3300.66
        ],
        [
         "Classic Cars",
         4,
         6182.4
        ],
        [
         "Classic Cars",
         1,
         4186.73
        ],
        [
         "Classic Cars",
         1,
         4529.28
        ],
        [
         "Classic Cars",
         2,
         5628.89
        ],
        [
         "Classic Cars",
         2,
         3054.48
        ],
        [
         "Classic Cars",
         3,
         2526.51
        ],
        [
         "Classic Cars",
         3,
         4667.86
        ],
        [
         "Classic Cars",
         3,
         6499.32
        ],
        [
         "Classic Cars",
         4,
         5917.78
        ],
        [
         "Classic Cars",
         4,
         6231.91
        ],
        [
         "Classic Cars",
         4,
         5803.14
        ],
        [
         "Classic Cars",
         4,
         6434.02
        ],
        [
         "Classic Cars",
         4,
         6454.4
        ],
        [
         "Classic Cars",
         4,
         4196.8
        ],
        [
         "Classic Cars",
         1,
         2611.8
        ],
        [
         "Classic Cars",
         1,
         5895.05
        ],
        [
         "Classic Cars",
         1,
         3375.72
        ],
        [
         "Classic Cars",
         2,
         4464.24
        ],
        [
         "Vintage Cars",
         1,
         4808.31
        ],
        [
         "Vintage Cars",
         1,
         3288.78
        ],
        [
         "Vintage Cars",
         2,
         3254.72
        ],
        [
         "Vintage Cars",
         3,
         3184.94
        ],
        [
         "Vintage Cars",
         3,
         5907.5
        ],
        [
         "Vintage Cars",
         4,
         4389.12
        ],
        [
         "Vintage Cars",
         4,
         5036.16
        ],
        [
         "Vintage Cars",
         4,
         2183.25
        ],
        [
         "Vintage Cars",
         4,
         3106.88
        ],
        [
         "Vintage Cars",
         4,
         3735.72
        ],
        [
         "Vintage Cars",
         1,
         2413.26
        ],
        [
         "Vintage Cars",
         1,
         2953.75
        ],
        [
         "Vintage Cars",
         2,
         4684.8
        ],
        [
         "Vintage Cars",
         2,
         3248.7
        ],
        [
         "Vintage Cars",
         3,
         5239.5
        ],
        [
         "Vintage Cars",
         3,
         4567.98
        ],
        [
         "Vintage Cars",
         4,
         3535.35
        ],
        [
         "Vintage Cars",
         4,
         3843.34
        ],
        [
         "Vintage Cars",
         4,
         3710.9
        ],
        [
         "Vintage Cars",
         4,
         4375.98
        ],
        [
         "Vintage Cars",
         4,
         1516.62
        ],
        [
         "Vintage Cars",
         4,
         2509.0
        ],
        [
         "Vintage Cars",
         1,
         2515.32
        ],
        [
         "Vintage Cars",
         1,
         5548.9
        ],
        [
         "Vintage Cars",
         2,
         4873.05
        ],
        [
         "Vintage Cars",
         1,
         2055.74
        ],
        [
         "Vintage Cars",
         1,
         2354.88
        ],
        [
         "Vintage Cars",
         2,
         2309.58
        ],
        [
         "Vintage Cars",
         3,
         2113.37
        ],
        [
         "Vintage Cars",
         3,
         1746.6
        ],
        [
         "Vintage Cars",
         4,
         2304.45
        ],
        [
         "Vintage Cars",
         4,
         2122.08
        ],
        [
         "Vintage Cars",
         4,
         1742.4
        ],
        [
         "Vintage Cars",
         4,
         2455.02
        ],
        [
         "Vintage Cars",
         4,
         3053.28
        ],
        [
         "Vintage Cars",
         1,
         1423.29
        ],
        [
         "Vintage Cars",
         1,
         1504.12
        ],
        [
         "Vintage Cars",
         2,
         1164.4
        ],
        [
         "Vintage Cars",
         2,
         1500.75
        ],
        [
         "Vintage Cars",
         3,
         1557.36
        ],
        [
         "Vintage Cars",
         3,
         1345.68
        ],
        [
         "Vintage Cars",
         4,
         1795.24
        ],
        [
         "Vintage Cars",
         4,
         1105.25
        ],
        [
         "Vintage Cars",
         4,
         2364.88
        ],
        [
         "Vintage Cars",
         4,
         2427.03
        ],
        [
         "Vintage Cars",
         4,
         1237.95
        ],
        [
         "Vintage Cars",
         4,
         1593.02
        ],
        [
         "Vintage Cars",
         1,
         3156.16
        ],
        [
         "Vintage Cars",
         1,
         1320.75
        ],
        [
         "Vintage Cars",
         1,
         4998.0
        ],
        [
         "Vintage Cars",
         2,
         1293.75
        ],
        [
         "Classic Cars",
         1,
         5433.08
        ],
        [
         "Classic Cars",
         2,
         3073.72
        ],
        [
         "Classic Cars",
         3,
         4380.2
        ],
        [
         "Classic Cars",
         3,
         5848.68
        ],
        [
         "Classic Cars",
         4,
         6153.73
        ],
        [
         "Classic Cars",
         4,
         4965.24
        ],
        [
         "Classic Cars",
         4,
         5435.64
        ],
        [
         "Classic Cars",
         4,
         4258.36
        ],
        [
         "Classic Cars",
         4,
         4032.0
        ],
        [
         "Classic Cars",
         1,
         4492.36
        ],
        [
         "Classic Cars",
         1,
         4161.38
        ],
        [
         "Classic Cars",
         2,
         2508.66
        ],
        [
         "Classic Cars",
         2,
         3374.88
        ],
        [
         "Classic Cars",
         3,
         5196.6
        ],
        [
         "Classic Cars",
         3,
         2604.52
        ],
        [
         "Classic Cars",
         3,
         2936.8
        ],
        [
         "Classic Cars",
         4,
         3424.64
        ],
        [
         "Classic Cars",
         4,
         2923.2
        ],
        [
         "Classic Cars",
         4,
         4489.76
        ],
        [
         "Classic Cars",
         4,
         4849.24
        ],
        [
         "Classic Cars",
         4,
         5848.92
        ],
        [
         "Classic Cars",
         1,
         2758.7
        ],
        [
         "Classic Cars",
         1,
         1449.76
        ],
        [
         "Classic Cars",
         2,
         5202.94
        ],
        [
         "Planes",
         1,
         5279.4
        ],
        [
         "Planes",
         2,
         2781.66
        ],
        [
         "Planes",
         3,
         5248.0
        ],
        [
         "Planes",
         4,
         6531.44
        ],
        [
         "Planes",
         4,
         5763.72
        ],
        [
         "Planes",
         4,
         6490.68
        ],
        [
         "Planes",
         4,
         6004.8
        ],
        [
         "Planes",
         1,
         5719.5
        ],
        [
         "Planes",
         2,
         6567.96
        ],
        [
         "Planes",
         3,
         6724.0
        ],
        [
         "Planes",
         3,
         5747.85
        ],
        [
         "Planes",
         3,
         5676.84
        ],
        [
         "Planes",
         4,
         3704.13
        ],
        [
         "Planes",
         4,
         2804.75
        ],
        [
         "Planes",
         4,
         5624.79
        ],
        [
         "Planes",
         4,
         3881.28
        ],
        [
         "Planes",
         1,
         1611.4
        ],
        [
         "Planes",
         1,
         1364.25
        ],
        [
         "Planes",
         1,
         4215.09
        ],
        [
         "Planes",
         2,
         6433.82
        ],
        [
         "Planes",
         2,
         4352.16
        ],
        [
         "Vintage Cars",
         1,
         5151.0
        ],
        [
         "Vintage Cars",
         1,
         6069.0
        ],
        [
         "Vintage Cars",
         2,
         2856.0
        ],
        [
         "Vintage Cars",
         3,
         5375.4
        ],
        [
         "Vintage Cars",
         4,
         5176.5
        ],
        [
         "Vintage Cars",
         4,
         3508.8
        ],
        [
         "Vintage Cars",
         4,
         3141.6
        ],
        [
         "Vintage Cars",
         4,
         5890.5
        ],
        [
         "Vintage Cars",
         1,
         5967.0
        ],
        [
         "Vintage Cars",
         1,
         3712.8
        ],
        [
         "Vintage Cars",
         3,
         3668.6
        ],
        [
         "Vintage Cars",
         3,
         5875.2
        ],
        [
         "Vintage Cars",
         4,
         3257.76
        ],
        [
         "Vintage Cars",
         1,
         4703.81
        ],
        [
         "Vintage Cars",
         1,
         5399.55
        ],
        [
         "Vintage Cars",
         2,
         5283.6
        ],
        [
         "Classic Cars",
         1,
         3130.82
        ],
        [
         "Classic Cars",
         2,
         3112.34
        ],
        [
         "Classic Cars",
         3,
         3806.88
        ],
        [
         "Classic Cars",
         3,
         2142.14
        ],
        [
         "Classic Cars",
         4,
         3364.9
        ],
        [
         "Classic Cars",
         4,
         1262.8
        ],
        [
         "Classic Cars",
         4,
         1626.24
        ],
        [
         "Classic Cars",
         4,
         4088.7
        ],
        [
         "Classic Cars",
         4,
         3846.15
        ],
        [
         "Classic Cars",
         1,
         1339.8
        ],
        [
         "Classic Cars",
         1,
         3039.96
        ],
        [
         "Classic Cars",
         2,
         3400.32
        ],
        [
         "Classic Cars",
         2,
         1930.39
        ],
        [
         "Classic Cars",
         3,
         2464.77
        ],
        [
         "Classic Cars",
         3,
         2634.94
        ],
        [
         "Classic Cars",
         3,
         3625.16
        ],
        [
         "Classic Cars",
         4,
         3788.4
        ],
        [
         "Classic Cars",
         4,
         1832.6
        ],
        [
         "Classic Cars",
         4,
         2905.98
        ],
        [
         "Classic Cars",
         4,
         2954.81
        ],
        [
         "Classic Cars",
         4,
         3599.75
        ],
        [
         "Classic Cars",
         1,
         3686.54
        ],
        [
         "Classic Cars",
         1,
         2100.56
        ],
        [
         "Classic Cars",
         1,
         3881.78
        ],
        [
         "Classic Cars",
         2,
         4509.12
        ],
        [
         "Classic Cars",
         2,
         3273.27
        ],
        [
         "Classic Cars",
         1,
         4432.7
        ],
        [
         "Classic Cars",
         2,
         4100.99
        ],
        [
         "Classic Cars",
         3,
         5274.72
        ],
        [
         "Classic Cars",
         3,
         4232.0
        ],
        [
         "Classic Cars",
         4,
         6145.44
        ],
        [
         "Classic Cars",
         4,
         4680.2
        ],
        [
         "Classic Cars",
         4,
         3286.08
        ],
        [
         "Classic Cars",
         4,
         6432.64
        ],
        [
         "Classic Cars",
         1,
         4840.87
        ],
        [
         "Classic Cars",
         1,
         3892.08
        ],
        [
         "Classic Cars",
         2,
         5526.32
        ],
        [
         "Classic Cars",
         2,
         4459.62
        ],
        [
         "Classic Cars",
         3,
         6203.4
        ],
        [
         "Classic Cars",
         3,
         3754.05
        ],
        [
         "Classic Cars",
         3,
         3516.48
        ],
        [
         "Classic Cars",
         4,
         3448.08
        ],
        [
         "Classic Cars",
         4,
         3734.0
        ],
        [
         "Classic Cars",
         4,
         974.1
        ],
        [
         "Classic Cars",
         4,
         3160.74
        ],
        [
         "Classic Cars",
         4,
         1746.63
        ],
        [
         "Classic Cars",
         1,
         4207.84
        ],
        [
         "Classic Cars",
         1,
         4352.76
        ],
        [
         "Classic Cars",
         1,
         1463.7
        ],
        [
         "Classic Cars",
         2,
         4594.76
        ],
        [
         "Classic Cars",
         1,
         3457.92
        ],
        [
         "Classic Cars",
         3,
         5938.53
        ],
        [
         "Classic Cars",
         4,
         5032.95
        ],
        [
         "Classic Cars",
         4,
         3667.6
        ],
        [
         "Classic Cars",
         4,
         5128.11
        ],
        [
         "Classic Cars",
         2,
         6549.2
        ],
        [
         "Classic Cars",
         2,
         5697.9
        ],
        [
         "Classic Cars",
         3,
         3238.63
        ],
        [
         "Classic Cars",
         3,
         4554.94
        ],
        [
         "Classic Cars",
         4,
         3934.44
        ],
        [
         "Classic Cars",
         4,
         5776.26
        ],
        [
         "Classic Cars",
         4,
         6719.54
        ],
        [
         "Classic Cars",
         4,
         2428.0
        ],
        [
         "Classic Cars",
         1,
         2602.25
        ],
        [
         "Classic Cars",
         1,
         2200.0
        ],
        [
         "Classic Cars",
         2,
         6712.93
        ],
        [
         "Classic Cars",
         2,
         5318.04
        ],
        [
         "Vintage Cars",
         1,
         3390.0
        ],
        [
         "Vintage Cars",
         1,
         1608.0
        ],
        [
         "Vintage Cars",
         2,
         2262.96
        ],
        [
         "Vintage Cars",
         3,
         1496.64
        ],
        [
         "Vintage Cars",
         4,
         1879.74
        ],
        [
         "Vintage Cars",
         4,
         1495.26
        ],
        [
         "Vintage Cars",
         4,
         2323.7
        ],
        [
         "Vintage Cars",
         4,
         2491.86
        ],
        [
         "Vintage Cars",
         4,
         1643.12
        ],
        [
         "Vintage Cars",
         1,
         1322.16
        ],
        [
         "Vintage Cars",
         1,
         1423.8
        ],
        [
         "Vintage Cars",
         2,
         2397.45
        ],
        [
         "Vintage Cars",
         3,
         1574.0
        ],
        [
         "Vintage Cars",
         3,
         1729.0
        ],
        [
         "Vintage Cars",
         4,
         2255.84
        ],
        [
         "Vintage Cars",
         4,
         1834.5
        ],
        [
         "Vintage Cars",
         4,
         3201.5
        ],
        [
         "Vintage Cars",
         4,
         2276.4
        ],
        [
         "Vintage Cars",
         1,
         1331.1
        ],
        [
         "Vintage Cars",
         2,
         3051.3
        ],
        [
         "Vintage Cars",
         2,
         2288.52
        ],
        [
         "Trucks and Buses",
         1,
         3772.61
        ],
        [
         "Trucks and Buses",
         2,
         4164.42
        ],
        [
         "Trucks and Buses",
         2,
         6295.95
        ],
        [
         "Trucks and Buses",
         3,
         6287.66
        ],
        [
         "Trucks and Buses",
         3,
         5412.54
        ],
        [
         "Trucks and Buses",
         4,
         5984.14
        ],
        [
         "Trucks and Buses",
         4,
         5891.04
        ],
        [
         "Trucks and Buses",
         4,
         5984.14
        ],
        [
         "Trucks and Buses",
         4,
         3608.15
        ],
        [
         "Trucks and Buses",
         4,
         5752.54
        ],
        [
         "Trucks and Buses",
         1,
         3765.32
        ],
        [
         "Trucks and Buses",
         2,
         2159.96
        ],
        [
         "Trucks and Buses",
         2,
         3379.94
        ],
        [
         "Trucks and Buses",
         3,
         5093.5
        ],
        [
         "Trucks and Buses",
         3,
         5773.44
        ],
        [
         "Trucks and Buses",
         3,
         4528.86
        ],
        [
         "Trucks and Buses",
         4,
         4816.08
        ],
        [
         "Trucks and Buses",
         4,
         3416.78
        ],
        [
         "Trucks and Buses",
         4,
         1236.84
        ],
        [
         "Trucks and Buses",
         4,
         5814.86
        ],
        [
         "Trucks and Buses",
         4,
         5223.48
        ],
        [
         "Trucks and Buses",
         4,
         728.4
        ],
        [
         "Trucks and Buses",
         1,
         3949.0
        ],
        [
         "Trucks and Buses",
         1,
         3843.99
        ],
        [
         "Trucks and Buses",
         2,
         5498.08
        ],
        [
         "Trucks and Buses",
         2,
         3777.58
        ],
        [
         "Vintage Cars",
         1,
         3782.0
        ],
        [
         "Vintage Cars",
         1,
         3859.68
        ],
        [
         "Vintage Cars",
         2,
         4431.84
        ],
        [
         "Vintage Cars",
         3,
         4950.33
        ],
        [
         "Vintage Cars",
         4,
         4299.7
        ],
        [
         "Vintage Cars",
         4,
         4492.83
        ],
        [
         "Vintage Cars",
         4,
         2212.0
        ],
        [
         "Vintage Cars",
         4,
         4642.88
        ],
        [
         "Vintage Cars",
         4,
         3206.32
        ],
        [
         "Vintage Cars",
         1,
         3604.23
        ],
        [
         "Vintage Cars",
         2,
         6154.18
        ],
        [
         "Vintage Cars",
         3,
         4750.8
        ],
        [
         "Vintage Cars",
         3,
         3822.92
        ],
        [
         "Vintage Cars",
         4,
         2440.8
        ],
        [
         "Vintage Cars",
         4,
         4729.36
        ],
        [
         "Vintage Cars",
         4,
         2264.15
        ],
        [
         "Vintage Cars",
         4,
         3928.2
        ],
        [
         "Vintage Cars",
         4,
         3630.22
        ],
        [
         "Vintage Cars",
         1,
         4196.07
        ],
        [
         "Vintage Cars",
         1,
         4931.6
        ],
        [
         "Vintage Cars",
         1,
         3068.69
        ],
        [
         "Vintage Cars",
         2,
         785.64
        ],
        [
         "Vintage Cars",
         2,
         4977.0
        ],
        [
         "Trucks and Buses",
         1,
         1189.98
        ],
        [
         "Trucks and Buses",
         2,
         3090.15
        ],
        [
         "Trucks and Buses",
         2,
         2795.86
        ],
        [
         "Trucks and Buses",
         3,
         2851.54
        ],
        [
         "Trucks and Buses",
         3,
         2701.92
        ],
        [
         "Trucks and Buses",
         4,
         2204.1
        ],
        [
         "Trucks and Buses",
         4,
         2840.48
        ],
        [
         "Trucks and Buses",
         4,
         2647.04
        ],
        [
         "Trucks and Buses",
         4,
         3172.05
        ],
        [
         "Trucks and Buses",
         4,
         2585.93
        ],
        [
         "Trucks and Buses",
         1,
         2148.3
        ],
        [
         "Trucks and Buses",
         1,
         1667.4
        ],
        [
         "Trucks and Buses",
         2,
         1859.7
        ],
        [
         "Trucks and Buses",
         2,
         1476.6
        ],
        [
         "Trucks and Buses",
         3,
         1732.0
        ],
        [
         "Trucks and Buses",
         3,
         1674.17
        ],
        [
         "Trucks and Buses",
         3,
         1500.98
        ],
        [
         "Trucks and Buses",
         4,
         2192.68
        ],
        [
         "Trucks and Buses",
         4,
         1797.58
        ],
        [
         "Trucks and Buses",
         4,
         2142.35
        ],
        [
         "Trucks and Buses",
         4,
         2086.92
        ],
        [
         "Trucks and Buses",
         4,
         2541.59
        ],
        [
         "Trucks and Buses",
         1,
         2130.92
        ],
        [
         "Trucks and Buses",
         1,
         1701.7
        ],
        [
         "Trucks and Buses",
         1,
         1694.0
        ],
        [
         "Trucks and Buses",
         2,
         2913.53
        ],
        [
         "Trucks and Buses",
         2,
         935.18
        ],
        [
         "Planes",
         1,
         3073.26
        ],
        [
         "Planes",
         2,
         2082.49
        ],
        [
         "Planes",
         2,
         3394.23
        ],
        [
         "Planes",
         3,
         2559.6
        ],
        [
         "Planes",
         4,
         1490.16
        ],
        [
         "Planes",
         1,
         3844.0
        ],
        [
         "Planes",
         1,
         4724.91
        ],
        [
         "Planes",
         2,
         1824.72
        ],
        [
         "Planes",
         2,
         2668.68
        ],
        [
         "Planes",
         2,
         2843.61
        ],
        [
         "Planes",
         3,
         3163.65
        ],
        [
         "Planes",
         3,
         2226.11
        ],
        [
         "Planes",
         3,
         2069.75
        ],
        [
         "Planes",
         4,
         2235.33
        ],
        [
         "Planes",
         4,
         3116.43
        ],
        [
         "Planes",
         4,
         4781.7
        ],
        [
         "Planes",
         4,
         2810.7
        ],
        [
         "Planes",
         4,
         3515.67
        ],
        [
         "Planes",
         1,
         2909.34
        ],
        [
         "Planes",
         1,
         1570.17
        ],
        [
         "Planes",
         1,
         2613.92
        ],
        [
         "Planes",
         2,
         3193.26
        ],
        [
         "Planes",
         2,
         1482.6
        ],
        [
         "Motorcycles",
         1,
         2055.23
        ],
        [
         "Motorcycles",
         2,
         2674.9
        ],
        [
         "Motorcycles",
         3,
         1853.4
        ],
        [
         "Motorcycles",
         3,
         1490.1
        ],
        [
         "Motorcycles",
         4,
         2162.16
        ],
        [
         "Motorcycles",
         4,
         2814.28
        ],
        [
         "Motorcycles",
         4,
         1605.0
        ],
        [
         "Motorcycles",
         4,
         2093.44
        ],
        [
         "Motorcycles",
         4,
         1944.3
        ],
        [
         "Motorcycles",
         1,
         1986.8
        ],
        [
         "Motorcycles",
         1,
         1695.96
        ],
        [
         "Motorcycles",
         2,
         1281.56
        ],
        [
         "Motorcycles",
         2,
         1774.22
        ],
        [
         "Motorcycles",
         2,
         1997.5
        ],
        [
         "Motorcycles",
         3,
         2353.2
        ],
        [
         "Motorcycles",
         3,
         981.2
        ],
        [
         "Motorcycles",
         3,
         1550.72
        ],
        [
         "Motorcycles",
         4,
         1771.06
        ],
        [
         "Motorcycles",
         4,
         2213.4
        ],
        [
         "Motorcycles",
         4,
         5266.04
        ],
        [
         "Motorcycles",
         4,
         1864.8
        ],
        [
         "Motorcycles",
         1,
         1142.41
        ],
        [
         "Motorcycles",
         1,
         1172.6
        ],
        [
         "Motorcycles",
         2,
         3064.6
        ],
        [
         "Motorcycles",
         2,
         2202.48
        ],
        [
         "Vintage Cars",
         1,
         3773.38
        ],
        [
         "Vintage Cars",
         1,
         5074.39
        ],
        [
         "Vintage Cars",
         2,
         6483.46
        ],
        [
         "Vintage Cars",
         3,
         4230.62
        ],
        [
         "Vintage Cars",
         4,
         3452.68
        ],
        [
         "Vintage Cars",
         4,
         3047.73
        ],
        [
         "Vintage Cars",
         4,
         3675.32
        ],
        [
         "Vintage Cars",
         1,
         5579.02
        ],
        [
         "Vintage Cars",
         2,
         5950.34
        ],
        [
         "Vintage Cars",
         2,
         3726.0
        ],
        [
         "Vintage Cars",
         3,
         4455.0
        ],
        [
         "Vintage Cars",
         4,
         3577.6
        ],
        [
         "Vintage Cars",
         4,
         3881.25
        ],
        [
         "Vintage Cars",
         4,
         5797.44
        ],
        [
         "Vintage Cars",
         4,
         1264.08
        ],
        [
         "Vintage Cars",
         4,
         4815.3
        ],
        [
         "Vintage Cars",
         4,
         4462.2
        ],
        [
         "Vintage Cars",
         1,
         3033.28
        ],
        [
         "Vintage Cars",
         1,
         990.78
        ],
        [
         "Vintage Cars",
         1,
         2030.86
        ],
        [
         "Vintage Cars",
         2,
         5433.75
        ],
        [
         "Classic Cars",
         1,
         3157.44
        ],
        [
         "Classic Cars",
         2,
         5161.2
        ],
        [
         "Classic Cars",
         3,
         4346.76
        ],
        [
         "Classic Cars",
         3,
         3528.36
        ],
        [
         "Classic Cars",
         4,
         3187.8
        ],
        [
         "Classic Cars",
         4,
         6023.16
        ],
        [
         "Classic Cars",
         4,
         3884.76
        ],
        [
         "Classic Cars",
         4,
         4965.84
        ],
        [
         "Classic Cars",
         4,
         4169.88
        ],
        [
         "Classic Cars",
         1,
         4910.4
        ],
        [
         "Classic Cars",
         1,
         3231.36
        ],
        [
         "Classic Cars",
         2,
         5177.04
        ],
        [
         "Classic Cars",
         3,
         2824.8
        ],
        [
         "Classic Cars",
         3,
         4324.32
        ],
        [
         "Classic Cars",
         3,
         5052.96
        ],
        [
         "Classic Cars",
         4,
         3223.44
        ],
        [
         "Classic Cars",
         4,
         5278.68
        ],
        [
         "Classic Cars",
         4,
         2851.2
        ],
        [
         "Classic Cars",
         4,
         1687.4
        ],
        [
         "Classic Cars",
         4,
         1308.0
        ],
        [
         "Classic Cars",
         1,
         6144.6
        ],
        [
         "Classic Cars",
         1,
         5127.2
        ],
        [
         "Classic Cars",
         2,
         6386.16
        ],
        [
         "Vintage Cars",
         1,
         2242.89
        ],
        [
         "Vintage Cars",
         1,
         2539.89
        ],
        [
         "Vintage Cars",
         2,
         2795.27
        ],
        [
         "Vintage Cars",
         3,
         5545.76
        ],
        [
         "Vintage Cars",
         3,
         4285.46
        ],
        [
         "Vintage Cars",
         4,
         3329.09
        ],
        [
         "Vintage Cars",
         4,
         5592.22
        ],
        [
         "Vintage Cars",
         4,
         3298.55
        ],
        [
         "Vintage Cars",
         4,
         2609.88
        ],
        [
         "Vintage Cars",
         4,
         3336.29
        ],
        [
         "Vintage Cars",
         1,
         5510.05
        ],
        [
         "Vintage Cars",
         1,
         2504.4
        ],
        [
         "Vintage Cars",
         2,
         3525.6
        ],
        [
         "Vintage Cars",
         2,
         4407.0
        ],
        [
         "Vintage Cars",
         3,
         2983.44
        ],
        [
         "Vintage Cars",
         3,
         5126.24
        ],
        [
         "Vintage Cars",
         3,
         5713.79
        ],
        [
         "Vintage Cars",
         4,
         4613.8
        ],
        [
         "Vintage Cars",
         4,
         3711.1
        ],
        [
         "Vintage Cars",
         4,
         3524.73
        ],
        [
         "Vintage Cars",
         4,
         2795.27
        ],
        [
         "Vintage Cars",
         4,
         4814.4
        ],
        [
         "Vintage Cars",
         4,
         3572.33
        ],
        [
         "Vintage Cars",
         1,
         4581.36
        ],
        [
         "Vintage Cars",
         1,
         4319.76
        ],
        [
         "Vintage Cars",
         1,
         1448.0
        ],
        [
         "Vintage Cars",
         2,
         881.4
        ],
        [
         "Vintage Cars",
         1,
         2011.1
        ],
        [
         "Vintage Cars",
         1,
         1801.24
        ],
        [
         "Vintage Cars",
         2,
         3390.2
        ],
        [
         "Vintage Cars",
         3,
         1424.0
        ],
        [
         "Vintage Cars",
         3,
         1499.1
        ],
        [
         "Vintage Cars",
         4,
         3358.08
        ],
        [
         "Vintage Cars",
         4,
         1504.16
        ],
        [
         "Vintage Cars",
         4,
         2655.12
        ],
        [
         "Vintage Cars",
         4,
         1244.16
        ],
        [
         "Vintage Cars",
         4,
         1888.88
        ],
        [
         "Vintage Cars",
         1,
         1820.01
        ],
        [
         "Vintage Cars",
         1,
         2866.95
        ],
        [
         "Vintage Cars",
         2,
         1394.16
        ],
        [
         "Vintage Cars",
         2,
         2632.28
        ],
        [
         "Vintage Cars",
         3,
         2018.56
        ],
        [
         "Vintage Cars",
         3,
         2954.53
        ],
        [
         "Vintage Cars",
         3,
         1871.83
        ],
        [
         "Vintage Cars",
         4,
         1559.04
        ],
        [
         "Vintage Cars",
         4,
         1880.2
        ],
        [
         "Vintage Cars",
         4,
         1224.67
        ],
        [
         "Vintage Cars",
         4,
         2979.08
        ],
        [
         "Vintage Cars",
         4,
         2208.64
        ],
        [
         "Vintage Cars",
         4,
         3458.42
        ],
        [
         "Vintage Cars",
         1,
         1237.88
        ],
        [
         "Vintage Cars",
         1,
         2723.2
        ],
        [
         "Vintage Cars",
         1,
         2218.52
        ],
        [
         "Vintage Cars",
         2,
         1665.32
        ],
        [
         "Ships",
         1,
         3421.04
        ],
        [
         "Ships",
         2,
         1878.66
        ],
        [
         "Ships",
         2,
         3853.6
        ],
        [
         "Ships",
         3,
         3442.64
        ],
        [
         "Ships",
         4,
         3482.16
        ],
        [
         "Ships",
         4,
         3363.52
        ],
        [
         "Ships",
         4,
         3350.52
        ],
        [
         "Ships",
         4,
         2862.72
        ],
        [
         "Ships",
         4,
         4036.04
        ],
        [
         "Ships",
         1,
         2817.92
        ],
        [
         "Ships",
         1,
         4636.38
        ],
        [
         "Ships",
         2,
         1553.58
        ],
        [
         "Ships",
         2,
         2697.6
        ],
        [
         "Ships",
         3,
         3334.04
        ],
        [
         "Ships",
         3,
         2059.26
        ],
        [
         "Ships",
         3,
         2023.14
        ],
        [
         "Ships",
         4,
         2586.64
        ],
        [
         "Ships",
         4,
         1987.02
        ],
        [
         "Ships",
         4,
         1146.5
        ],
        [
         "Ships",
         4,
         2312.24
        ],
        [
         "Ships",
         4,
         2793.71
        ],
        [
         "Ships",
         1,
         1908.28
        ],
        [
         "Ships",
         1,
         3441.37
        ],
        [
         "Ships",
         1,
         2023.28
        ],
        [
         "Ships",
         2,
         2245.2
        ],
        [
         "Ships",
         2,
         3255.12
        ],
        [
         "Vintage Cars",
         1,
         2539.5
        ],
        [
         "Vintage Cars",
         1,
         4818.15
        ],
        [
         "Vintage Cars",
         2,
         2921.7
        ],
        [
         "Vintage Cars",
         3,
         1801.2
        ],
        [
         "Vintage Cars",
         3,
         2804.36
        ],
        [
         "Vintage Cars",
         4,
         4900.8
        ],
        [
         "Vintage Cars",
         4,
         2759.31
        ],
        [
         "Vintage Cars",
         4,
         2488.2
        ],
        [
         "Vintage Cars",
         4,
         2769.89
        ],
        [
         "Vintage Cars",
         4,
         3581.4
        ],
        [
         "Vintage Cars",
         1,
         5285.14
        ],
        [
         "Vintage Cars",
         1,
         3181.53
        ],
        [
         "Vintage Cars",
         2,
         3340.51
        ],
        [
         "Vintage Cars",
         2,
         3138.34
        ],
        [
         "Vintage Cars",
         3,
         4775.08
        ],
        [
         "Vintage Cars",
         3,
         3006.43
        ],
        [
         "Vintage Cars",
         3,
         2866.26
        ],
        [
         "Vintage Cars",
         4,
         2232.62
        ],
        [
         "Vintage Cars",
         4,
         4457.02
        ],
        [
         "Vintage Cars",
         4,
         2257.92
        ],
        [
         "Vintage Cars",
         4,
         1592.0
        ],
        [
         "Vintage Cars",
         4,
         4948.2
        ],
        [
         "Vintage Cars",
         4,
         5160.76
        ],
        [
         "Vintage Cars",
         1,
         1978.62
        ],
        [
         "Vintage Cars",
         1,
         4288.2
        ],
        [
         "Vintage Cars",
         1,
         2520.68
        ],
        [
         "Vintage Cars",
         2,
         1781.22
        ],
        [
         "Vintage Cars",
         1,
         3065.04
        ],
        [
         "Vintage Cars",
         2,
         3551.34
        ],
        [
         "Vintage Cars",
         2,
         5544.02
        ],
        [
         "Vintage Cars",
         3,
         6034.33
        ],
        [
         "Vintage Cars",
         3,
         3641.57
        ],
        [
         "Vintage Cars",
         4,
         3675.63
        ],
        [
         "Vintage Cars",
         4,
         3442.04
        ],
        [
         "Vintage Cars",
         1,
         2622.48
        ],
        [
         "Vintage Cars",
         1,
         4417.38
        ],
        [
         "Vintage Cars",
         1,
         3606.02
        ],
        [
         "Vintage Cars",
         2,
         3802.56
        ],
        [
         "Vintage Cars",
         3,
         5026.4
        ],
        [
         "Vintage Cars",
         3,
         6695.53
        ],
        [
         "Vintage Cars",
         3,
         2819.28
        ],
        [
         "Vintage Cars",
         4,
         3759.04
        ],
        [
         "Vintage Cars",
         4,
         2731.8
        ],
        [
         "Vintage Cars",
         4,
         1658.88
        ],
        [
         "Vintage Cars",
         4,
         5778.24
        ],
        [
         "Vintage Cars",
         4,
         5191.12
        ],
        [
         "Vintage Cars",
         1,
         3862.88
        ],
        [
         "Vintage Cars",
         1,
         1476.48
        ],
        [
         "Vintage Cars",
         1,
         5273.73
        ],
        [
         "Vintage Cars",
         2,
         4872.03
        ],
        [
         "Classic Cars",
         1,
         4556.99
        ],
        [
         "Classic Cars",
         2,
         3598.5
        ],
        [
         "Classic Cars",
         2,
         3837.24
        ],
        [
         "Classic Cars",
         3,
         4836.5
        ],
        [
         "Classic Cars",
         3,
         5418.88
        ],
        [
         "Classic Cars",
         3,
         3734.01
        ],
        [
         "Classic Cars",
         4,
         3996.4
        ],
        [
         "Classic Cars",
         4,
         5481.45
        ],
        [
         "Classic Cars",
         4,
         4419.89
        ],
        [
         "Classic Cars",
         4,
         6324.75
        ],
        [
         "Classic Cars",
         4,
         4409.72
        ],
        [
         "Classic Cars",
         4,
         3918.46
        ],
        [
         "Classic Cars",
         4,
         3937.25
        ],
        [
         "Classic Cars",
         1,
         5554.4
        ],
        [
         "Classic Cars",
         1,
         6407.86
        ],
        [
         "Classic Cars",
         1,
         4172.52
        ],
        [
         "Classic Cars",
         2,
         6773.6
        ],
        [
         "Classic Cars",
         2,
         3657.69
        ],
        [
         "Classic Cars",
         3,
         4812.55
        ],
        [
         "Classic Cars",
         3,
         3928.6
        ],
        [
         "Classic Cars",
         3,
         6401.22
        ],
        [
         "Classic Cars",
         3,
         4191.25
        ],
        [
         "Classic Cars",
         3,
         5852.52
        ],
        [
         "Classic Cars",
         3,
         2844.87
        ],
        [
         "Classic Cars",
         4,
         4011.66
        ],
        [
         "Classic Cars",
         4,
         4572.25
        ],
        [
         "Classic Cars",
         4,
         5700.09
        ],
        [
         "Classic Cars",
         4,
         3155.49
        ],
        [
         "Classic Cars",
         4,
         4170.69
        ],
        [
         "Classic Cars",
         4,
         2878.8
        ],
        [
         "Classic Cars",
         4,
         5029.5
        ],
        [
         "Classic Cars",
         4,
         2991.68
        ],
        [
         "Classic Cars",
         1,
         6275.72
        ],
        [
         "Classic Cars",
         1,
         1534.95
        ],
        [
         "Classic Cars",
         1,
         3353.02
        ],
        [
         "Classic Cars",
         2,
         5926.9
        ],
        [
         "Classic Cars",
         2,
         3793.16
        ],
        [
         "Trains",
         1,
         4330.1
        ],
        [
         "Trains",
         2,
         2011.8
        ],
        [
         "Trains",
         2,
         4837.18
        ],
        [
         "Trains",
         3,
         2151.82
        ],
        [
         "Trains",
         3,
         2573.46
        ],
        [
         "Trains",
         4,
         5344.5
        ],
        [
         "Trains",
         4,
         3070.52
        ],
        [
         "Trains",
         4,
         3952.83
        ],
        [
         "Trains",
         4,
         3564.75
        ],
        [
         "Trains",
         1,
         5614.56
        ],
        [
         "Trains",
         1,
         1855.41
        ],
        [
         "Trains",
         1,
         4598.4
        ],
        [
         "Trains",
         2,
         5082.42
        ],
        [
         "Trains",
         3,
         5450.59
        ],
        [
         "Trains",
         3,
         4174.92
        ],
        [
         "Trains",
         3,
         2418.24
        ],
        [
         "Trains",
         4,
         3670.4
        ],
        [
         "Trains",
         4,
         2481.7
        ],
        [
         "Trains",
         4,
         3807.68
        ],
        [
         "Trains",
         4,
         2230.41
        ],
        [
         "Trains",
         4,
         3814.64
        ],
        [
         "Trains",
         1,
         2117.75
        ],
        [
         "Trains",
         1,
         3340.48
        ],
        [
         "Trains",
         1,
         2154.0
        ],
        [
         "Trains",
         2,
         5808.48
        ],
        [
         "Classic Cars",
         1,
         1777.1
        ],
        [
         "Classic Cars",
         2,
         1536.57
        ],
        [
         "Classic Cars",
         3,
         3510.0
        ],
        [
         "Classic Cars",
         3,
         3097.44
        ],
        [
         "Classic Cars",
         4,
         1705.41
        ],
        [
         "Classic Cars",
         4,
         2264.32
        ],
        [
         "Classic Cars",
         4,
         2484.6
        ],
        [
         "Classic Cars",
         4,
         3415.68
        ],
        [
         "Classic Cars",
         4,
         2839.32
        ],
        [
         "Classic Cars",
         1,
         2730.0
        ],
        [
         "Classic Cars",
         1,
         3540.53
        ],
        [
         "Classic Cars",
         2,
         2999.97
        ],
        [
         "Classic Cars",
         2,
         1527.8
        ],
        [
         "Classic Cars",
         3,
         3907.8
        ],
        [
         "Classic Cars",
         3,
         2658.48
        ],
        [
         "Classic Cars",
         3,
         3042.68
        ],
        [
         "Classic Cars",
         4,
         3861.2
        ],
        [
         "Classic Cars",
         4,
         2171.07
        ],
        [
         "Classic Cars",
         4,
         3403.08
        ],
        [
         "Classic Cars",
         4,
         2245.8
        ],
        [
         "Classic Cars",
         4,
         1668.5
        ],
        [
         "Classic Cars",
         1,
         2773.8
        ],
        [
         "Classic Cars",
         1,
         2464.0
        ],
        [
         "Classic Cars",
         1,
         5491.6
        ],
        [
         "Vintage Cars",
         1,
         4791.82
        ],
        [
         "Vintage Cars",
         1,
         4178.85
        ],
        [
         "Vintage Cars",
         2,
         3128.92
        ],
        [
         "Vintage Cars",
         3,
         3095.4
        ],
        [
         "Vintage Cars",
         3,
         3958.5
        ],
        [
         "Vintage Cars",
         4,
         4991.44
        ],
        [
         "Vintage Cars",
         4,
         2761.96
        ],
        [
         "Vintage Cars",
         4,
         2848.23
        ],
        [
         "Vintage Cars",
         4,
         2539.84
        ],
        [
         "Vintage Cars",
         4,
         2444.4
        ],
        [
         "Vintage Cars",
         1,
         4555.92
        ],
        [
         "Vintage Cars",
         1,
         3666.96
        ],
        [
         "Vintage Cars",
         2,
         3035.88
        ],
        [
         "Vintage Cars",
         2,
         2321.54
        ],
        [
         "Vintage Cars",
         3,
         3474.46
        ],
        [
         "Vintage Cars",
         3,
         2501.98
        ],
        [
         "Vintage Cars",
         4,
         3958.46
        ],
        [
         "Vintage Cars",
         4,
         3535.95
        ],
        [
         "Vintage Cars",
         4,
         3011.91
        ],
        [
         "Vintage Cars",
         4,
         2656.94
        ],
        [
         "Vintage Cars",
         4,
         2604.25
        ],
        [
         "Vintage Cars",
         1,
         3288.6
        ],
        [
         "Vintage Cars",
         1,
         4035.96
        ],
        [
         "Vintage Cars",
         2,
         1875.09
        ],
        [
         "Classic Cars",
         1,
         4049.56
        ],
        [
         "Classic Cars",
         2,
         2469.39
        ],
        [
         "Classic Cars",
         3,
         5432.7
        ],
        [
         "Classic Cars",
         3,
         4405.22
        ],
        [
         "Classic Cars",
         4,
         3638.0
        ],
        [
         "Classic Cars",
         4,
         4444.92
        ],
        [
         "Classic Cars",
         4,
         3395.48
        ],
        [
         "Classic Cars",
         4,
         3414.58
        ],
        [
         "Classic Cars",
         4,
         5127.04
        ],
        [
         "Classic Cars",
         1,
         3745.28
        ],
        [
         "Classic Cars",
         1,
         4564.08
        ],
        [
         "Classic Cars",
         2,
         6554.24
        ],
        [
         "Classic Cars",
         2,
         6749.83
        ],
        [
         "Classic Cars",
         3,
         3924.6
        ],
        [
         "Classic Cars",
         3,
         6761.6
        ],
        [
         "Classic Cars",
         4,
         3786.49
        ],
        [
         "Classic Cars",
         4,
         6266.12
        ],
        [
         "Classic Cars",
         4,
         3491.0
        ],
        [
         "Classic Cars",
         4,
         4405.22
        ],
        [
         "Classic Cars",
         4,
         6548.3
        ],
        [
         "Classic Cars",
         4,
         3177.91
        ],
        [
         "Classic Cars",
         1,
         4142.64
        ],
        [
         "Classic Cars",
         1,
         4149.07
        ],
        [
         "Classic Cars",
         1,
         6241.6
        ],
        [
         "Classic Cars",
         2,
         5331.88
        ],
        [
         "Classic Cars",
         3,
         5124.3
        ],
        [
         "Classic Cars",
         3,
         3639.44
        ],
        [
         "Classic Cars",
         4,
         5544.0
        ],
        [
         "Classic Cars",
         4,
         5493.12
        ],
        [
         "Classic Cars",
         4,
         5785.26
        ],
        [
         "Classic Cars",
         4,
         5340.6
        ],
        [
         "Classic Cars",
         4,
         5735.8
        ],
        [
         "Classic Cars",
         1,
         6357.6
        ],
        [
         "Classic Cars",
         2,
         5959.22
        ],
        [
         "Classic Cars",
         2,
         4029.38
        ],
        [
         "Classic Cars",
         3,
         5035.14
        ],
        [
         "Classic Cars",
         3,
         4116.8
        ],
        [
         "Classic Cars",
         3,
         4310.55
        ],
        [
         "Classic Cars",
         4,
         6446.7
        ],
        [
         "Classic Cars",
         4,
         3616.64
        ],
        [
         "Classic Cars",
         4,
         4232.76
        ],
        [
         "Classic Cars",
         4,
         1765.66
        ],
        [
         "Classic Cars",
         4,
         3734.72
        ],
        [
         "Classic Cars",
         1,
         4808.38
        ],
        [
         "Classic Cars",
         1,
         2266.56
        ],
        [
         "Classic Cars",
         2,
         5589.14
        ],
        [
         "Motorcycles",
         1,
         2914.11
        ],
        [
         "Motorcycles",
         2,
         1740.9
        ],
        [
         "Motorcycles",
         3,
         2266.2
        ],
        [
         "Motorcycles",
         3,
         3155.58
        ],
        [
         "Motorcycles",
         4,
         1357.86
        ],
        [
         "Motorcycles",
         4,
         2598.82
        ],
        [
         "Motorcycles",
         4,
         1057.56
        ],
        [
         "Motorcycles",
         4,
         3127.82
        ],
        [
         "Motorcycles",
         1,
         2488.14
        ],
        [
         "Motorcycles",
         1,
         2220.72
        ],
        [
         "Motorcycles",
         2,
         1357.72
        ],
        [
         "Motorcycles",
         2,
         1638.04
        ],
        [
         "Motorcycles",
         2,
         2626.08
        ],
        [
         "Motorcycles",
         3,
         1661.88
        ],
        [
         "Motorcycles",
         3,
         2173.6
        ],
        [
         "Motorcycles",
         3,
         2182.05
        ],
        [
         "Motorcycles",
         4,
         2819.88
        ],
        [
         "Motorcycles",
         4,
         2598.64
        ],
        [
         "Motorcycles",
         4,
         2019.27
        ],
        [
         "Motorcycles",
         4,
         1454.7
        ],
        [
         "Motorcycles",
         4,
         1657.57
        ],
        [
         "Motorcycles",
         1,
         2851.84
        ],
        [
         "Motorcycles",
         1,
         4609.64
        ],
        [
         "Motorcycles",
         1,
         5079.96
        ],
        [
         "Motorcycles",
         2,
         1879.92
        ],
        [
         "Vintage Cars",
         1,
         4774.86
        ],
        [
         "Vintage Cars",
         2,
         2687.04
        ],
        [
         "Vintage Cars",
         2,
         3423.75
        ],
        [
         "Vintage Cars",
         3,
         3455.76
        ],
        [
         "Vintage Cars",
         4,
         3622.97
        ],
        [
         "Vintage Cars",
         4,
         3599.58
        ],
        [
         "Vintage Cars",
         4,
         5386.56
        ],
        [
         "Vintage Cars",
         4,
         4918.78
        ],
        [
         "Vintage Cars",
         4,
         2538.8
        ],
        [
         "Vintage Cars",
         1,
         2498.6
        ],
        [
         "Vintage Cars",
         1,
         3858.75
        ],
        [
         "Vintage Cars",
         2,
         5600.5
        ],
        [
         "Vintage Cars",
         2,
         4103.46
        ],
        [
         "Vintage Cars",
         3,
         4287.5
        ],
        [
         "Vintage Cars",
         3,
         5795.54
        ],
        [
         "Vintage Cars",
         3,
         1863.4
        ],
        [
         "Vintage Cars",
         4,
         4166.88
        ],
        [
         "Vintage Cars",
         4,
         4080.07
        ],
        [
         "Vintage Cars",
         4,
         3815.48
        ],
        [
         "Vintage Cars",
         4,
         5526.45
        ],
        [
         "Vintage Cars",
         4,
         3374.6
        ],
        [
         "Vintage Cars",
         1,
         3024.5
        ],
        [
         "Vintage Cars",
         1,
         1266.1
        ],
        [
         "Vintage Cars",
         1,
         4811.85
        ],
        [
         "Vintage Cars",
         2,
         6209.25
        ],
        [
         "Classic Cars",
         1,
         5348.5
        ],
        [
         "Classic Cars",
         2,
         2780.58
        ],
        [
         "Classic Cars",
         2,
         3447.0
        ],
        [
         "Classic Cars",
         3,
         3791.52
        ],
        [
         "Classic Cars",
         3,
         4524.1
        ],
        [
         "Classic Cars",
         4,
         3337.6
        ],
        [
         "Classic Cars",
         4,
         5532.12
        ],
        [
         "Classic Cars",
         4,
         5096.91
        ],
        [
         "Classic Cars",
         4,
         4537.08
        ],
        [
         "Classic Cars",
         4,
         6146.8
        ],
        [
         "Classic Cars",
         2,
         6756.0
        ],
        [
         "Classic Cars",
         3,
         3734.0
        ],
        [
         "Classic Cars",
         3,
         4674.8
        ],
        [
         "Classic Cars",
         4,
         3600.65
        ],
        [
         "Classic Cars",
         4,
         4206.74
        ],
        [
         "Classic Cars",
         4,
         5379.71
        ],
        [
         "Classic Cars",
         4,
         5679.36
        ],
        [
         "Classic Cars",
         4,
         4394.84
        ],
        [
         "Classic Cars",
         4,
         2528.25
        ],
        [
         "Classic Cars",
         1,
         5340.9
        ],
        [
         "Classic Cars",
         1,
         6376.58
        ],
        [
         "Vintage Cars",
         1,
         1903.22
        ],
        [
         "Vintage Cars",
         1,
         2499.56
        ],
        [
         "Vintage Cars",
         2,
         3081.24
        ],
        [
         "Vintage Cars",
         3,
         3598.22
        ],
        [
         "Vintage Cars",
         4,
         3912.09
        ],
        [
         "Vintage Cars",
         4,
         1584.66
        ],
        [
         "Vintage Cars",
         4,
         3942.72
        ],
        [
         "Vintage Cars",
         4,
         2341.2
        ],
        [
         "Vintage Cars",
         4,
         2482.11
        ],
        [
         "Vintage Cars",
         1,
         3602.02
        ],
        [
         "Vintage Cars",
         1,
         3566.94
        ],
        [
         "Vintage Cars",
         2,
         3787.98
        ],
        [
         "Vintage Cars",
         3,
         3704.05
        ],
        [
         "Vintage Cars",
         3,
         2834.65
        ],
        [
         "Vintage Cars",
         4,
         3392.26
        ],
        [
         "Vintage Cars",
         4,
         3358.31
        ],
        [
         "Vintage Cars",
         4,
         2203.11
        ],
        [
         "Vintage Cars",
         1,
         2696.96
        ],
        [
         "Vintage Cars",
         1,
         3376.64
        ],
        [
         "Vintage Cars",
         2,
         541.14
        ],
        [
         "Vintage Cars",
         2,
         6134.7
        ],
        [
         "Vintage Cars",
         1,
         3382.5
        ],
        [
         "Vintage Cars",
         2,
         2240.66
        ],
        [
         "Vintage Cars",
         2,
         3962.88
        ],
        [
         "Vintage Cars",
         3,
         1685.28
        ],
        [
         "Vintage Cars",
         3,
         1834.36
        ],
        [
         "Vintage Cars",
         4,
         1916.98
        ],
        [
         "Vintage Cars",
         4,
         2611.0
        ],
        [
         "Vintage Cars",
         4,
         3630.28
        ],
        [
         "Vintage Cars",
         4,
         5090.5
        ],
        [
         "Vintage Cars",
         1,
         3949.65
        ],
        [
         "Vintage Cars",
         1,
         3491.67
        ],
        [
         "Vintage Cars",
         1,
         2059.19
        ],
        [
         "Vintage Cars",
         2,
         3170.16
        ],
        [
         "Vintage Cars",
         2,
         1790.6
        ],
        [
         "Vintage Cars",
         3,
         2345.97
        ],
        [
         "Vintage Cars",
         3,
         3580.88
        ],
        [
         "Vintage Cars",
         3,
         4946.06
        ],
        [
         "Vintage Cars",
         4,
         3525.6
        ],
        [
         "Vintage Cars",
         4,
         3602.16
        ],
        [
         "Vintage Cars",
         4,
         4300.5
        ],
        [
         "Vintage Cars",
         4,
         4498.19
        ],
        [
         "Vintage Cars",
         4,
         3023.1
        ],
        [
         "Vintage Cars",
         1,
         3562.49
        ],
        [
         "Vintage Cars",
         1,
         1640.24
        ],
        [
         "Vintage Cars",
         1,
         4739.4
        ],
        [
         "Vintage Cars",
         2,
         1207.68
        ],
        [
         "Trucks and Buses",
         1,
         4228.2
        ],
        [
         "Trucks and Buses",
         2,
         4815.45
        ],
        [
         "Trucks and Buses",
         3,
         4601.2
        ],
        [
         "Trucks and Buses",
         3,
         6467.02
        ],
        [
         "Trucks and Buses",
         4,
         5012.55
        ],
        [
         "Trucks and Buses",
         4,
         5121.59
        ],
        [
         "Trucks and Buses",
         4,
         2441.04
        ],
        [
         "Trucks and Buses",
         4,
         4262.08
        ],
        [
         "Trucks and Buses",
         4,
         6658.02
        ],
        [
         "Trucks and Buses",
         1,
         4509.08
        ],
        [
         "Trucks and Buses",
         1,
         4716.23
        ],
        [
         "Trucks and Buses",
         2,
         2390.22
        ],
        [
         "Trucks and Buses",
         2,
         4666.62
        ],
        [
         "Trucks and Buses",
         3,
         5383.08
        ],
        [
         "Trucks and Buses",
         3,
         2482.25
        ],
        [
         "Trucks and Buses",
         3,
         5288.64
        ],
        [
         "Trucks and Buses",
         4,
         2184.38
        ],
        [
         "Trucks and Buses",
         4,
         2881.76
        ],
        [
         "Trucks and Buses",
         4,
         6203.06
        ],
        [
         "Trucks and Buses",
         4,
         6763.47
        ],
        [
         "Trucks and Buses",
         4,
         5884.65
        ],
        [
         "Trucks and Buses",
         4,
         3559.64
        ],
        [
         "Trucks and Buses",
         1,
         1668.37
        ],
        [
         "Trucks and Buses",
         1,
         4890.6
        ],
        [
         "Trucks and Buses",
         2,
         5235.72
        ],
        [
         "Trucks and Buses",
         2,
         4325.16
        ],
        [
         "Vintage Cars",
         1,
         1938.89
        ],
        [
         "Vintage Cars",
         1,
         2490.5
        ],
        [
         "Vintage Cars",
         2,
         2314.69
        ],
        [
         "Vintage Cars",
         3,
         1254.83
        ],
        [
         "Vintage Cars",
         3,
         1282.8
        ],
        [
         "Vintage Cars",
         4,
         1345.75
        ],
        [
         "Vintage Cars",
         4,
         2194.22
        ],
        [
         "Vintage Cars",
         4,
         1972.0
        ],
        [
         "Vintage Cars",
         4,
         1835.98
        ],
        [
         "Vintage Cars",
         4,
         1119.93
        ],
        [
         "Vintage Cars",
         1,
         2082.88
        ],
        [
         "Vintage Cars",
         1,
         1569.75
        ],
        [
         "Vintage Cars",
         2,
         2694.15
        ],
        [
         "Vintage Cars",
         2,
         1257.27
        ],
        [
         "Vintage Cars",
         3,
         2567.84
        ],
        [
         "Vintage Cars",
         3,
         2634.28
        ],
        [
         "Vintage Cars",
         3,
         1502.78
        ],
        [
         "Vintage Cars",
         4,
         1676.2
        ],
        [
         "Vintage Cars",
         4,
         2217.15
        ],
        [
         "Vintage Cars",
         4,
         1916.64
        ],
        [
         "Vintage Cars",
         4,
         5302.8
        ],
        [
         "Vintage Cars",
         1,
         2730.0
        ],
        [
         "Vintage Cars",
         2,
         2095.45
        ],
        [
         "Vintage Cars",
         2,
         1556.62
        ],
        [
         "Classic Cars",
         1,
         5565.12
        ],
        [
         "Classic Cars",
         2,
         3583.16
        ],
        [
         "Classic Cars",
         3,
         4705.18
        ],
        [
         "Classic Cars",
         3,
         4444.54
        ],
        [
         "Classic Cars",
         4,
         4618.88
        ],
        [
         "Classic Cars",
         4,
         4910.4
        ],
        [
         "Classic Cars",
         4,
         5565.12
        ],
        [
         "Classic Cars",
         4,
         4237.76
        ],
        [
         "Classic Cars",
         1,
         5673.58
        ],
        [
         "Classic Cars",
         1,
         5260.15
        ],
        [
         "Classic Cars",
         2,
         6350.96
        ],
        [
         "Classic Cars",
         2,
         3559.4
        ],
        [
         "Classic Cars",
         2,
         2410.6
        ],
        [
         "Classic Cars",
         3,
         5713.92
        ],
        [
         "Classic Cars",
         3,
         4300.32
        ],
        [
         "Classic Cars",
         4,
         5356.8
        ],
        [
         "Classic Cars",
         4,
         6101.0
        ],
        [
         "Classic Cars",
         4,
         6276.46
        ],
        [
         "Classic Cars",
         4,
         4203.5
        ],
        [
         "Classic Cars",
         1,
         1629.04
        ],
        [
         "Classic Cars",
         1,
         3289.86
        ],
        [
         "Classic Cars",
         1,
         2574.18
        ],
        [
         "Classic Cars",
         2,
         1327.79
        ],
        [
         "Classic Cars",
         3,
         2356.25
        ],
        [
         "Classic Cars",
         4,
         2013.5
        ],
        [
         "Classic Cars",
         4,
         2807.22
        ],
        [
         "Classic Cars",
         4,
         3072.96
        ],
        [
         "Classic Cars",
         4,
         1906.5
        ],
        [
         "Classic Cars",
         4,
         3431.7
        ],
        [
         "Classic Cars",
         1,
         2084.75
        ],
        [
         "Classic Cars",
         1,
         2136.01
        ],
        [
         "Classic Cars",
         2,
         2009.7
        ],
        [
         "Classic Cars",
         3,
         2719.8
        ],
        [
         "Classic Cars",
         3,
         1575.08
        ],
        [
         "Classic Cars",
         3,
         1688.43
        ],
        [
         "Classic Cars",
         4,
         1672.1
        ],
        [
         "Classic Cars",
         4,
         1674.75
        ],
        [
         "Classic Cars",
         4,
         3472.98
        ],
        [
         "Classic Cars",
         4,
         1649.18
        ],
        [
         "Classic Cars",
         1,
         3751.0
        ],
        [
         "Classic Cars",
         1,
         4536.0
        ],
        [
         "Classic Cars",
         2,
         4421.34
        ],
        [
         "Classic Cars",
         2,
         2078.28
        ],
        [
         "Classic Cars",
         1,
         3069.0
        ],
        [
         "Classic Cars",
         2,
         1713.8
        ],
        [
         "Classic Cars",
         3,
         1506.5
        ],
        [
         "Classic Cars",
         4,
         2692.12
        ],
        [
         "Classic Cars",
         4,
         2422.08
        ],
        [
         "Classic Cars",
         4,
         3488.34
        ],
        [
         "Classic Cars",
         4,
         2583.34
        ],
        [
         "Classic Cars",
         4,
         1249.4
        ],
        [
         "Classic Cars",
         1,
         3374.71
        ],
        [
         "Classic Cars",
         1,
         1265.46
        ],
        [
         "Classic Cars",
         2,
         1681.46
        ],
        [
         "Classic Cars",
         3,
         3204.0
        ],
        [
         "Classic Cars",
         3,
         2398.72
        ],
        [
         "Classic Cars",
         3,
         2381.04
        ],
        [
         "Classic Cars",
         4,
         1944.54
        ],
        [
         "Classic Cars",
         4,
         2273.7
        ],
        [
         "Classic Cars",
         4,
         2116.5
        ],
        [
         "Classic Cars",
         4,
         1307.32
        ],
        [
         "Classic Cars",
         4,
         1726.37
        ],
        [
         "Classic Cars",
         1,
         1267.77
        ],
        [
         "Classic Cars",
         1,
         3441.82
        ],
        [
         "Classic Cars",
         2,
         1987.18
        ],
        [
         "Classic Cars",
         2,
         3880.2
        ],
        [
         "Classic Cars",
         1,
         1942.15
        ],
        [
         "Classic Cars",
         2,
         3259.92
        ],
        [
         "Classic Cars",
         2,
         1213.8
        ],
        [
         "Classic Cars",
         3,
         1086.6
        ],
        [
         "Classic Cars",
         3,
         1632.75
        ],
        [
         "Classic Cars",
         4,
         1734.0
        ],
        [
         "Classic Cars",
         4,
         1857.06
        ],
        [
         "Classic Cars",
         4,
         1863.41
        ],
        [
         "Classic Cars",
         4,
         2924.68
        ],
        [
         "Classic Cars",
         4,
         2294.18
        ],
        [
         "Classic Cars",
         1,
         1457.82
        ],
        [
         "Classic Cars",
         1,
         1955.88
        ],
        [
         "Classic Cars",
         2,
         2314.4
        ],
        [
         "Classic Cars",
         2,
         1310.96
        ],
        [
         "Classic Cars",
         3,
         2913.3
        ],
        [
         "Classic Cars",
         3,
         1357.78
        ],
        [
         "Classic Cars",
         3,
         2150.0
        ],
        [
         "Classic Cars",
         4,
         2783.25
        ],
        [
         "Classic Cars",
         4,
         2339.92
        ],
        [
         "Classic Cars",
         4,
         1729.0
        ],
        [
         "Classic Cars",
         4,
         5972.4
        ],
        [
         "Classic Cars",
         4,
         2275.2
        ],
        [
         "Classic Cars",
         4,
         2673.44
        ],
        [
         "Classic Cars",
         1,
         2431.75
        ],
        [
         "Classic Cars",
         1,
         2018.72
        ],
        [
         "Classic Cars",
         1,
         1558.99
        ],
        [
         "Classic Cars",
         2,
         1104.6
        ],
        [
         "Classic Cars",
         2,
         2575.1
        ],
        [
         "Motorcycles",
         1,
         2845.75
        ],
        [
         "Motorcycles",
         2,
         3431.75
        ],
        [
         "Motorcycles",
         3,
         3273.9
        ],
        [
         "Motorcycles",
         3,
         4119.4
        ],
        [
         "Motorcycles",
         4,
         5355.68
        ],
        [
         "Motorcycles",
         4,
         5747.5
        ],
        [
         "Motorcycles",
         4,
         5355.36
        ],
        [
         "Motorcycles",
         4,
         2535.75
        ],
        [
         "Motorcycles",
         4,
         4351.23
        ],
        [
         "Motorcycles",
         1,
         2254.0
        ],
        [
         "Motorcycles",
         1,
         2921.28
        ],
        [
         "Motorcycles",
         2,
         2299.0
        ],
        [
         "Motorcycles",
         2,
         2637.18
        ],
        [
         "Motorcycles",
         2,
         4307.52
        ],
        [
         "Motorcycles",
         3,
         2153.76
        ],
        [
         "Motorcycles",
         3,
         3716.88
        ],
        [
         "Motorcycles",
         3,
         5455.76
        ],
        [
         "Motorcycles",
         4,
         2650.62
        ],
        [
         "Motorcycles",
         4,
         6437.28
        ],
        [
         "Motorcycles",
         4,
         2633.4
        ],
        [
         "Motorcycles",
         4,
         2278.53
        ],
        [
         "Motorcycles",
         1,
         4846.0
        ],
        [
         "Motorcycles",
         1,
         4197.1
        ],
        [
         "Motorcycles",
         1,
         4597.65
        ],
        [
         "Motorcycles",
         2,
         5287.7
        ],
        [
         "Motorcycles",
         2,
         3550.05
        ],
        [
         "Classic Cars",
         1,
         1721.73
        ],
        [
         "Classic Cars",
         2,
         2993.5
        ],
        [
         "Classic Cars",
         3,
         1295.06
        ],
        [
         "Classic Cars",
         3,
         2671.95
        ],
        [
         "Classic Cars",
         4,
         1226.59
        ],
        [
         "Classic Cars",
         4,
         1453.84
        ],
        [
         "Classic Cars",
         4,
         1830.22
        ],
        [
         "Classic Cars",
         4,
         2530.01
        ],
        [
         "Classic Cars",
         4,
         2241.45
        ],
        [
         "Classic Cars",
         1,
         2399.85
        ],
        [
         "Classic Cars",
         1,
         1557.72
        ],
        [
         "Classic Cars",
         2,
         845.25
        ],
        [
         "Classic Cars",
         3,
         1352.4
        ],
        [
         "Classic Cars",
         3,
         1584.8
        ],
        [
         "Classic Cars",
         3,
         2616.0
        ],
        [
         "Classic Cars",
         4,
         1129.04
        ],
        [
         "Classic Cars",
         4,
         2218.5
        ],
        [
         "Classic Cars",
         4,
         2028.48
        ],
        [
         "Classic Cars",
         4,
         1759.2
        ],
        [
         "Classic Cars",
         4,
         977.67
        ],
        [
         "Classic Cars",
         1,
         1463.0
        ],
        [
         "Classic Cars",
         1,
         3970.56
        ],
        [
         "Classic Cars",
         2,
         2576.0
        ],
        [
         "Classic Cars",
         2,
         2233.69
        ],
        [
         "Planes",
         1,
         2481.64
        ],
        [
         "Planes",
         2,
         4651.53
        ],
        [
         "Planes",
         2,
         3858.1
        ],
        [
         "Planes",
         3,
         3501.6
        ],
        [
         "Planes",
         4,
         6433.7
        ],
        [
         "Planes",
         1,
         2658.96
        ],
        [
         "Planes",
         1,
         3608.76
        ],
        [
         "Planes",
         2,
         2214.67
        ],
        [
         "Planes",
         2,
         2747.53
        ],
        [
         "Planes",
         2,
         3310.92
        ],
        [
         "Planes",
         3,
         2380.0
        ],
        [
         "Planes",
         3,
         2310.88
        ],
        [
         "Planes",
         3,
         4061.76
        ],
        [
         "Planes",
         4,
         3493.7
        ],
        [
         "Planes",
         4,
         2872.25
        ],
        [
         "Planes",
         4,
         4114.38
        ],
        [
         "Planes",
         4,
         1063.65
        ],
        [
         "Planes",
         4,
         2008.44
        ],
        [
         "Planes",
         1,
         4328.6
        ],
        [
         "Planes",
         1,
         1376.43
        ],
        [
         "Planes",
         1,
         5552.16
        ],
        [
         "Planes",
         2,
         3659.02
        ],
        [
         "Planes",
         2,
         4165.61
        ],
        [
         "Vintage Cars",
         1,
         1404.0
        ],
        [
         "Vintage Cars",
         1,
         710.2
        ],
        [
         "Vintage Cars",
         2,
         1702.8
        ],
        [
         "Vintage Cars",
         3,
         1194.84
        ],
        [
         "Vintage Cars",
         4,
         1007.14
        ],
        [
         "Vintage Cars",
         4,
         977.43
        ],
        [
         "Vintage Cars",
         4,
         1436.76
        ],
        [
         "Vintage Cars",
         4,
         759.46
        ],
        [
         "Vintage Cars",
         4,
         1189.44
        ],
        [
         "Vintage Cars",
         1,
         683.8
        ],
        [
         "Vintage Cars",
         1,
         1226.82
        ],
        [
         "Vintage Cars",
         2,
         974.82
        ],
        [
         "Vintage Cars",
         3,
         577.6
        ],
        [
         "Vintage Cars",
         3,
         1106.93
        ],
        [
         "Vintage Cars",
         4,
         694.6
        ],
        [
         "Vintage Cars",
         4,
         1152.06
        ],
        [
         "Vintage Cars",
         4,
         2624.0
        ],
        [
         "Vintage Cars",
         4,
         3685.95
        ],
        [
         "Vintage Cars",
         4,
         703.6
        ],
        [
         "Vintage Cars",
         1,
         834.67
        ],
        [
         "Vintage Cars",
         1,
         2257.92
        ],
        [
         "Vintage Cars",
         2,
         1801.94
        ],
        [
         "Vintage Cars",
         2,
         1209.6
        ],
        [
         "Motorcycles",
         1,
         3155.14
        ],
        [
         "Motorcycles",
         2,
         2848.86
        ],
        [
         "Motorcycles",
         3,
         3570.29
        ],
        [
         "Motorcycles",
         3,
         3902.41
        ],
        [
         "Motorcycles",
         4,
         1474.66
        ],
        [
         "Motorcycles",
         4,
         2186.89
        ],
        [
         "Motorcycles",
         4,
         1919.4
        ],
        [
         "Motorcycles",
         4,
         3656.0
        ],
        [
         "Motorcycles",
         4,
         1847.0
        ],
        [
         "Motorcycles",
         1,
         1851.0
        ],
        [
         "Motorcycles",
         1,
         2633.78
        ],
        [
         "Motorcycles",
         2,
         3153.6
        ],
        [
         "Motorcycles",
         2,
         2803.2
        ],
        [
         "Motorcycles",
         2,
         2311.02
        ],
        [
         "Motorcycles",
         3,
         2399.4
        ],
        [
         "Motorcycles",
         3,
         2733.12
        ],
        [
         "Motorcycles",
         3,
         2096.32
        ],
        [
         "Motorcycles",
         4,
         2971.34
        ],
        [
         "Motorcycles",
         4,
         2257.58
        ],
        [
         "Motorcycles",
         4,
         3493.91
        ],
        [
         "Motorcycles",
         4,
         4398.9
        ],
        [
         "Motorcycles",
         1,
         3595.62
        ],
        [
         "Motorcycles",
         1,
         2443.29
        ],
        [
         "Motorcycles",
         1,
         3988.6
        ],
        [
         "Motorcycles",
         2,
         5168.4
        ],
        [
         "Motorcycles",
         2,
         2803.2
        ],
        [
         "Ships",
         1,
         6341.21
        ],
        [
         "Ships",
         2,
         5189.78
        ],
        [
         "Ships",
         2,
         6027.75
        ],
        [
         "Ships",
         3,
         3366.0
        ],
        [
         "Ships",
         3,
         5456.4
        ],
        [
         "Ships",
         4,
         3812.16
        ],
        [
         "Ships",
         4,
         6083.0
        ],
        [
         "Ships",
         4,
         3170.7
        ],
        [
         "Ships",
         4,
         4534.6
        ],
        [
         "Ships",
         1,
         4301.15
        ],
        [
         "Ships",
         1,
         6804.63
        ],
        [
         "Ships",
         1,
         5652.94
        ],
        [
         "Ships",
         2,
         4512.6
        ],
        [
         "Ships",
         3,
         2784.76
        ],
        [
         "Ships",
         3,
         5316.36
        ],
        [
         "Ships",
         3,
         2941.89
        ],
        [
         "Ships",
         4,
         3207.4
        ],
        [
         "Ships",
         4,
         4215.05
        ],
        [
         "Ships",
         4,
         4333.29
        ],
        [
         "Ships",
         4,
         2087.13
        ],
        [
         "Ships",
         4,
         1711.22
        ],
        [
         "Ships",
         1,
         3910.53
        ],
        [
         "Ships",
         1,
         2255.12
        ],
        [
         "Ships",
         1,
         5720.75
        ],
        [
         "Ships",
         2,
         3335.23
        ],
        [
         "Vintage Cars",
         1,
         2472.96
        ],
        [
         "Vintage Cars",
         1,
         1729.65
        ],
        [
         "Vintage Cars",
         2,
         995.5
        ],
        [
         "Vintage Cars",
         3,
         2414.72
        ],
        [
         "Vintage Cars",
         4,
         1560.47
        ],
        [
         "Vintage Cars",
         4,
         1112.94
        ],
        [
         "Vintage Cars",
         4,
         1138.94
        ],
        [
         "Vintage Cars",
         4,
         1012.4
        ],
        [
         "Vintage Cars",
         4,
         913.92
        ],
        [
         "Vintage Cars",
         1,
         2349.06
        ],
        [
         "Vintage Cars",
         1,
         1161.12
        ],
        [
         "Vintage Cars",
         2,
         1764.75
        ],
        [
         "Vintage Cars",
         2,
         1690.9
        ],
        [
         "Vintage Cars",
         3,
         2137.05
        ],
        [
         "Vintage Cars",
         3,
         2177.1
        ],
        [
         "Vintage Cars",
         4,
         1734.48
        ],
        [
         "Vintage Cars",
         4,
         865.49
        ],
        [
         "Vintage Cars",
         4,
         3500.1
        ],
        [
         "Vintage Cars",
         4,
         2223.52
        ],
        [
         "Vintage Cars",
         4,
         2311.68
        ],
        [
         "Vintage Cars",
         4,
         828.36
        ],
        [
         "Vintage Cars",
         1,
         856.52
        ],
        [
         "Vintage Cars",
         1,
         1845.45
        ],
        [
         "Vintage Cars",
         1,
         4042.08
        ],
        [
         "Vintage Cars",
         2,
         1828.0
        ],
        [
         "Trucks and Buses",
         1,
         3680.28
        ],
        [
         "Trucks and Buses",
         2,
         2925.09
        ],
        [
         "Trucks and Buses",
         2,
         3415.77
        ],
        [
         "Trucks and Buses",
         3,
         5105.14
        ],
        [
         "Trucks and Buses",
         3,
         5098.8
        ],
        [
         "Trucks and Buses",
         4,
         4661.76
        ],
        [
         "Trucks and Buses",
         4,
         2969.96
        ],
        [
         "Trucks and Buses",
         4,
         3496.32
        ],
        [
         "Trucks and Buses",
         4,
         5760.93
        ],
        [
         "Trucks and Buses",
         1,
         3148.88
        ],
        [
         "Trucks and Buses",
         1,
         5704.32
        ],
        [
         "Trucks and Buses",
         2,
         3520.6
        ],
        [
         "Trucks and Buses",
         2,
         5285.62
        ],
        [
         "Trucks and Buses",
         3,
         5605.05
        ],
        [
         "Trucks and Buses",
         3,
         2779.5
        ],
        [
         "Trucks and Buses",
         3,
         5398.08
        ],
        [
         "Trucks and Buses",
         4,
         3189.6
        ],
        [
         "Trucks and Buses",
         4,
         5581.8
        ],
        [
         "Trucks and Buses",
         4,
         3820.44
        ],
        [
         "Trucks and Buses",
         4,
         5528.04
        ],
        [
         "Trucks and Buses",
         4,
         5981.42
        ],
        [
         "Trucks and Buses",
         4,
         5684.65
        ],
        [
         "Trucks and Buses",
         1,
         3449.4
        ],
        [
         "Trucks and Buses",
         1,
         2654.4
        ],
        [
         "Trucks and Buses",
         2,
         5510.54
        ],
        [
         "Motorcycles",
         1,
         2060.45
        ],
        [
         "Motorcycles",
         2,
         2460.16
        ],
        [
         "Motorcycles",
         3,
         1787.56
        ],
        [
         "Motorcycles",
         3,
         1645.65
        ],
        [
         "Motorcycles",
         4,
         2169.18
        ],
        [
         "Motorcycles",
         4,
         2816.18
        ],
        [
         "Motorcycles",
         4,
         2521.05
        ],
        [
         "Motorcycles",
         4,
         3199.98
        ],
        [
         "Motorcycles",
         1,
         1338.12
        ],
        [
         "Motorcycles",
         1,
         2972.58
        ],
        [
         "Motorcycles",
         2,
         2070.9
        ],
        [
         "Motorcycles",
         2,
         3092.6
        ],
        [
         "Motorcycles",
         2,
         2408.7
        ],
        [
         "Motorcycles",
         3,
         3472.54
        ],
        [
         "Motorcycles",
         3,
         2263.28
        ],
        [
         "Motorcycles",
         3,
         2194.17
        ],
        [
         "Motorcycles",
         4,
         1346.4
        ],
        [
         "Motorcycles",
         4,
         2533.63
        ],
        [
         "Motorcycles",
         4,
         3403.26
        ],
        [
         "Motorcycles",
         4,
         3307.2
        ],
        [
         "Motorcycles",
         4,
         2896.65
        ],
        [
         "Motorcycles",
         1,
         2632.89
        ],
        [
         "Motorcycles",
         1,
         2046.0
        ],
        [
         "Motorcycles",
         1,
         2279.55
        ],
        [
         "Motorcycles",
         2,
         2150.55
        ],
        [
         "Classic Cars",
         1,
         3360.45
        ],
        [
         "Classic Cars",
         2,
         2326.4
        ],
        [
         "Classic Cars",
         3,
         1545.6
        ],
        [
         "Classic Cars",
         4,
         2144.6
        ],
        [
         "Classic Cars",
         4,
         1639.22
        ],
        [
         "Classic Cars",
         4,
         2649.6
        ],
        [
         "Classic Cars",
         4,
         3845.6
        ],
        [
         "Classic Cars",
         4,
         4527.04
        ],
        [
         "Classic Cars",
         1,
         3966.3
        ],
        [
         "Classic Cars",
         1,
         4142.58
        ],
        [
         "Classic Cars",
         2,
         4441.5
        ],
        [
         "Classic Cars",
         3,
         3315.12
        ],
        [
         "Classic Cars",
         3,
         3918.53
        ],
        [
         "Classic Cars",
         3,
         2830.45
        ],
        [
         "Classic Cars",
         4,
         5298.86
        ],
        [
         "Classic Cars",
         4,
         2620.8
        ],
        [
         "Classic Cars",
         4,
         2181.0
        ],
        [
         "Classic Cars",
         4,
         3382.08
        ],
        [
         "Classic Cars",
         4,
         2876.75
        ],
        [
         "Classic Cars",
         1,
         4107.2
        ],
        [
         "Classic Cars",
         1,
         1350.0
        ],
        [
         "Classic Cars",
         2,
         3933.93
        ],
        [
         "Classic Cars",
         1,
         1742.4
        ],
        [
         "Classic Cars",
         2,
         721.44
        ],
        [
         "Classic Cars",
         2,
         1489.41
        ],
        [
         "Classic Cars",
         3,
         891.03
        ],
        [
         "Classic Cars",
         3,
         1209.3
        ],
        [
         "Classic Cars",
         4,
         859.14
        ],
        [
         "Classic Cars",
         4,
         1151.44
        ],
        [
         "Classic Cars",
         4,
         1336.44
        ],
        [
         "Classic Cars",
         4,
         905.28
        ],
        [
         "Classic Cars",
         4,
         1247.4
        ],
        [
         "Classic Cars",
         1,
         846.51
        ],
        [
         "Classic Cars",
         1,
         1085.04
        ],
        [
         "Classic Cars",
         2,
         1767.43
        ],
        [
         "Classic Cars",
         2,
         1030.44
        ],
        [
         "Classic Cars",
         3,
         1585.36
        ],
        [
         "Classic Cars",
         3,
         813.2
        ],
        [
         "Classic Cars",
         3,
         1172.34
        ],
        [
         "Classic Cars",
         4,
         1510.56
        ],
        [
         "Classic Cars",
         4,
         1448.07
        ],
        [
         "Classic Cars",
         4,
         3338.1
        ],
        [
         "Classic Cars",
         4,
         1225.29
        ],
        [
         "Classic Cars",
         4,
         1336.68
        ],
        [
         "Classic Cars",
         4,
         2985.84
        ],
        [
         "Classic Cars",
         1,
         5545.8
        ],
        [
         "Classic Cars",
         1,
         6089.6
        ],
        [
         "Classic Cars",
         1,
         1789.4
        ],
        [
         "Classic Cars",
         2,
         1082.1
        ],
        [
         "Classic Cars",
         2,
         1030.44
        ],
        [
         "Planes",
         1,
         3659.32
        ],
        [
         "Planes",
         2,
         2443.6
        ],
        [
         "Planes",
         2,
         2349.9
        ],
        [
         "Planes",
         3,
         1646.19
        ],
        [
         "Planes",
         4,
         1670.26
        ],
        [
         "Planes",
         4,
         1467.48
        ],
        [
         "Planes",
         4,
         2748.56
        ],
        [
         "Planes",
         4,
         1522.4
        ],
        [
         "Planes",
         4,
         3255.36
        ],
        [
         "Planes",
         1,
         3535.03
        ],
        [
         "Planes",
         1,
         2608.96
        ],
        [
         "Planes",
         2,
         1356.4
        ],
        [
         "Planes",
         2,
         1611.36
        ],
        [
         "Planes",
         3,
         2603.2
        ],
        [
         "Planes",
         3,
         2219.7
        ],
        [
         "Planes",
         3,
         1496.25
        ],
        [
         "Planes",
         4,
         1884.0
        ],
        [
         "Planes",
         4,
         2166.14
        ],
        [
         "Planes",
         4,
         2828.16
        ],
        [
         "Planes",
         4,
         6214.45
        ],
        [
         "Planes",
         4,
         1867.0
        ],
        [
         "Planes",
         1,
         2676.72
        ],
        [
         "Planes",
         1,
         2182.44
        ],
        [
         "Planes",
         1,
         1611.4
        ],
        [
         "Planes",
         2,
         1479.84
        ],
        [
         "Planes",
         2,
         1424.22
        ],
        [
         "Classic Cars",
         1,
         5942.28
        ],
        [
         "Classic Cars",
         2,
         2348.75
        ],
        [
         "Classic Cars",
         3,
         4392.12
        ],
        [
         "Classic Cars",
         4,
         2759.75
        ],
        [
         "Classic Cars",
         4,
         2728.03
        ],
        [
         "Classic Cars",
         4,
         2395.8
        ],
        [
         "Classic Cars",
         4,
         3052.33
        ],
        [
         "Classic Cars",
         4,
         4242.0
        ],
        [
         "Classic Cars",
         1,
         2790.45
        ],
        [
         "Classic Cars",
         1,
         4340.49
        ],
        [
         "Classic Cars",
         2,
         2762.2
        ],
        [
         "Classic Cars",
         3,
         4645.72
        ],
        [
         "Classic Cars",
         3,
         5580.96
        ],
        [
         "Classic Cars",
         3,
         6539.04
        ],
        [
         "Classic Cars",
         4,
         5548.95
        ],
        [
         "Classic Cars",
         4,
         4595.41
        ],
        [
         "Classic Cars",
         4,
         1859.44
        ],
        [
         "Classic Cars",
         4,
         2093.76
        ],
        [
         "Classic Cars",
         1,
         4223.13
        ],
        [
         "Classic Cars",
         1,
         1596.76
        ],
        [
         "Classic Cars",
         2,
         5820.35
        ],
        [
         "Classic Cars",
         2,
         5296.5
        ],
        [
         "Classic Cars",
         1,
         930.9
        ],
        [
         "Classic Cars",
         2,
         1207.44
        ],
        [
         "Classic Cars",
         3,
         717.4
        ],
        [
         "Classic Cars",
         3,
         1066.75
        ],
        [
         "Classic Cars",
         4,
         1554.0
        ],
        [
         "Classic Cars",
         4,
         1277.64
        ],
        [
         "Classic Cars",
         4,
         1578.79
        ],
        [
         "Classic Cars",
         4,
         917.7
        ],
        [
         "Classic Cars",
         4,
         777.0
        ],
        [
         "Classic Cars",
         1,
         1476.28
        ],
        [
         "Classic Cars",
         1,
         1538.46
        ],
        [
         "Classic Cars",
         2,
         891.2
        ],
        [
         "Classic Cars",
         2,
         1706.8
        ],
        [
         "Classic Cars",
         3,
         1373.6
        ],
        [
         "Classic Cars",
         3,
         1205.59
        ],
        [
         "Classic Cars",
         3,
         1427.4
        ],
        [
         "Classic Cars",
         4,
         1649.28
        ],
        [
         "Classic Cars",
         4,
         1383.03
        ],
        [
         "Classic Cars",
         4,
         1229.51
        ],
        [
         "Classic Cars",
         4,
         1140.48
        ],
        [
         "Classic Cars",
         4,
         1575.6
        ],
        [
         "Classic Cars",
         4,
         1386.72
        ],
        [
         "Classic Cars",
         1,
         5018.4
        ],
        [
         "Classic Cars",
         1,
         5856.85
        ],
        [
         "Classic Cars",
         1,
         4894.73
        ],
        [
         "Classic Cars",
         2,
         2094.32
        ],
        [
         "Classic Cars",
         2,
         640.05
        ],
        [
         "Vintage Cars",
         1,
         3193.52
        ],
        [
         "Vintage Cars",
         2,
         3066.7
        ],
        [
         "Vintage Cars",
         2,
         3883.11
        ],
        [
         "Vintage Cars",
         3,
         4814.25
        ],
        [
         "Vintage Cars",
         4,
         2826.27
        ],
        [
         "Vintage Cars",
         4,
         1593.2
        ],
        [
         "Vintage Cars",
         4,
         3266.1
        ],
        [
         "Vintage Cars",
         4,
         2453.55
        ],
        [
         "Vintage Cars",
         4,
         3910.4
        ],
        [
         "Vintage Cars",
         1,
         1788.0
        ],
        [
         "Vintage Cars",
         1,
         3328.07
        ],
        [
         "Vintage Cars",
         1,
         3788.4
        ],
        [
         "Vintage Cars",
         2,
         3053.7
        ],
        [
         "Vintage Cars",
         2,
         2005.74
        ],
        [
         "Vintage Cars",
         3,
         2796.12
        ],
        [
         "Vintage Cars",
         3,
         3159.96
        ],
        [
         "Vintage Cars",
         3,
         3908.62
        ],
        [
         "Vintage Cars",
         4,
         2606.48
        ],
        [
         "Vintage Cars",
         4,
         2081.76
        ],
        [
         "Vintage Cars",
         4,
         3519.85
        ],
        [
         "Vintage Cars",
         4,
         3021.0
        ],
        [
         "Vintage Cars",
         1,
         1891.56
        ],
        [
         "Vintage Cars",
         1,
         4208.41
        ],
        [
         "Vintage Cars",
         1,
         2246.4
        ],
        [
         "Vintage Cars",
         2,
         6107.4
        ],
        [
         "Classic Cars",
         1,
         1987.74
        ],
        [
         "Classic Cars",
         2,
         4068.96
        ],
        [
         "Classic Cars",
         3,
         2282.22
        ],
        [
         "Classic Cars",
         4,
         1541.0
        ],
        [
         "Classic Cars",
         4,
         1951.92
        ],
        [
         "Classic Cars",
         4,
         3107.61
        ],
        [
         "Classic Cars",
         4,
         2328.64
        ],
        [
         "Classic Cars",
         4,
         3184.8
        ],
        [
         "Classic Cars",
         1,
         2149.74
        ],
        [
         "Classic Cars",
         1,
         3184.8
        ],
        [
         "Classic Cars",
         2,
         2114.58
        ],
        [
         "Classic Cars",
         3,
         4256.56
        ],
        [
         "Classic Cars",
         3,
         2344.98
        ],
        [
         "Classic Cars",
         3,
         2328.66
        ],
        [
         "Classic Cars",
         4,
         3575.04
        ],
        [
         "Classic Cars",
         4,
         2076.0
        ],
        [
         "Classic Cars",
         4,
         3305.25
        ],
        [
         "Classic Cars",
         4,
         1538.55
        ],
        [
         "Classic Cars",
         4,
         3325.92
        ],
        [
         "Classic Cars",
         1,
         3662.52
        ],
        [
         "Classic Cars",
         1,
         3478.64
        ],
        [
         "Classic Cars",
         2,
         1057.29
        ],
        [
         "Classic Cars",
         2,
         3385.9
        ],
        [
         "Classic Cars",
         1,
         1892.1
        ],
        [
         "Classic Cars",
         2,
         1707.14
        ],
        [
         "Classic Cars",
         3,
         1785.51
        ],
        [
         "Classic Cars",
         3,
         2057.4
        ],
        [
         "Classic Cars",
         4,
         3490.0
        ],
        [
         "Classic Cars",
         4,
         1707.14
        ],
        [
         "Classic Cars",
         4,
         1506.96
        ],
        [
         "Classic Cars",
         4,
         2880.48
        ],
        [
         "Classic Cars",
         4,
         2206.6
        ],
        [
         "Classic Cars",
         1,
         2351.04
        ],
        [
         "Classic Cars",
         1,
         1205.04
        ],
        [
         "Classic Cars",
         2,
         2935.15
        ],
        [
         "Classic Cars",
         2,
         1263.84
        ],
        [
         "Classic Cars",
         3,
         2935.15
        ],
        [
         "Classic Cars",
         3,
         1224.6
        ],
        [
         "Classic Cars",
         3,
         1359.4
        ],
        [
         "Classic Cars",
         4,
         1822.18
        ],
        [
         "Classic Cars",
         4,
         2163.72
        ],
        [
         "Classic Cars",
         4,
         1591.98
        ],
        [
         "Classic Cars",
         4,
         3078.5
        ],
        [
         "Classic Cars",
         4,
         2997.6
        ],
        [
         "Classic Cars",
         4,
         2747.8
        ],
        [
         "Classic Cars",
         1,
         2447.76
        ],
        [
         "Classic Cars",
         1,
         1910.84
        ],
        [
         "Classic Cars",
         1,
         2430.64
        ],
        [
         "Classic Cars",
         2,
         2896.3
        ],
        [
         "Vintage Cars",
         1,
         1630.6
        ],
        [
         "Vintage Cars",
         2,
         1459.6
        ],
        [
         "Vintage Cars",
         2,
         1716.22
        ],
        [
         "Vintage Cars",
         3,
         2560.47
        ],
        [
         "Vintage Cars",
         4,
         1900.26
        ],
        [
         "Vintage Cars",
         4,
         2019.84
        ],
        [
         "Vintage Cars",
         4,
         1988.28
        ],
        [
         "Vintage Cars",
         4,
         1449.84
        ],
        [
         "Vintage Cars",
         4,
         1935.09
        ],
        [
         "Vintage Cars",
         1,
         2793.24
        ],
        [
         "Vintage Cars",
         1,
         3025.05
        ],
        [
         "Vintage Cars",
         2,
         1742.5
        ],
        [
         "Vintage Cars",
         2,
         3236.1
        ],
        [
         "Vintage Cars",
         3,
         1735.92
        ],
        [
         "Vintage Cars",
         3,
         2795.13
        ],
        [
         "Vintage Cars",
         3,
         1671.52
        ],
        [
         "Vintage Cars",
         4,
         1576.74
        ],
        [
         "Vintage Cars",
         4,
         3615.71
        ],
        [
         "Vintage Cars",
         4,
         1459.6
        ],
        [
         "Vintage Cars",
         4,
         2891.01
        ],
        [
         "Vintage Cars",
         4,
         2598.44
        ],
        [
         "Vintage Cars",
         4,
         3871.92
        ],
        [
         "Vintage Cars",
         1,
         3036.0
        ],
        [
         "Vintage Cars",
         1,
         2231.6
        ],
        [
         "Vintage Cars",
         1,
         2436.78
        ],
        [
         "Vintage Cars",
         2,
         2173.6
        ],
        [
         "Vintage Cars",
         2,
         1254.6
        ],
        [
         "Classic Cars",
         1,
         3724.42
        ],
        [
         "Classic Cars",
         2,
         5203.0
        ],
        [
         "Classic Cars",
         3,
         3469.5
        ],
        [
         "Classic Cars",
         4,
         3148.2
        ],
        [
         "Classic Cars",
         4,
         2167.22
        ],
        [
         "Classic Cars",
         4,
         6244.07
        ],
        [
         "Classic Cars",
         4,
         5566.0
        ],
        [
         "Classic Cars",
         4,
         4368.96
        ],
        [
         "Classic Cars",
         1,
         4039.26
        ],
        [
         "Classic Cars",
         1,
         4420.32
        ],
        [
         "Classic Cars",
         2,
         2341.71
        ],
        [
         "Classic Cars",
         3,
         5110.98
        ],
        [
         "Classic Cars",
         3,
         6168.0
        ],
        [
         "Classic Cars",
         3,
         4873.26
        ],
        [
         "Classic Cars",
         4,
         2120.14
        ],
        [
         "Classic Cars",
         4,
         4236.14
        ],
        [
         "Classic Cars",
         4,
         1888.95
        ],
        [
         "Classic Cars",
         4,
         1152.58
        ],
        [
         "Classic Cars",
         4,
         2492.88
        ],
        [
         "Classic Cars",
         1,
         1991.6
        ],
        [
         "Classic Cars",
         1,
         3953.18
        ],
        [
         "Classic Cars",
         2,
         3729.39
        ],
        [
         "Classic Cars",
         2,
         2617.16
        ],
        [
         "Vintage Cars",
         1,
         3983.5
        ],
        [
         "Vintage Cars",
         2,
         3169.95
        ],
        [
         "Vintage Cars",
         2,
         3899.5
        ],
        [
         "Vintage Cars",
         3,
         1851.73
        ],
        [
         "Vintage Cars",
         4,
         2513.41
        ],
        [
         "Vintage Cars",
         4,
         2431.94
        ],
        [
         "Vintage Cars",
         4,
         1514.52
        ],
        [
         "Vintage Cars",
         4,
         3079.44
        ],
        [
         "Vintage Cars",
         4,
         1900.36
        ],
        [
         "Vintage Cars",
         1,
         1974.06
        ],
        [
         "Vintage Cars",
         1,
         3703.46
        ],
        [
         "Vintage Cars",
         2,
         1755.13
        ],
        [
         "Vintage Cars",
         2,
         4273.29
        ],
        [
         "Vintage Cars",
         3,
         3984.96
        ],
        [
         "Vintage Cars",
         3,
         2407.68
        ],
        [
         "Vintage Cars",
         3,
         1697.3
        ],
        [
         "Vintage Cars",
         4,
         2011.02
        ],
        [
         "Vintage Cars",
         4,
         2306.25
        ],
        [
         "Vintage Cars",
         4,
         1845.0
        ],
        [
         "Vintage Cars",
         4,
         2493.12
        ],
        [
         "Vintage Cars",
         4,
         1508.5
        ],
        [
         "Vintage Cars",
         1,
         2394.3
        ],
        [
         "Vintage Cars",
         1,
         3164.98
        ],
        [
         "Vintage Cars",
         1,
         3351.09
        ],
        [
         "Vintage Cars",
         2,
         3064.32
        ],
        [
         "Vintage Cars",
         2,
         3891.81
        ],
        [
         "Classic Cars",
         1,
         5448.8
        ],
        [
         "Classic Cars",
         2,
         5494.97
        ],
        [
         "Classic Cars",
         3,
         6336.07
        ],
        [
         "Classic Cars",
         3,
         2906.97
        ],
        [
         "Classic Cars",
         4,
         4767.7
        ],
        [
         "Classic Cars",
         4,
         3819.56
        ],
        [
         "Classic Cars",
         4,
         3861.75
        ],
        [
         "Classic Cars",
         4,
         6319.35
        ],
        [
         "Classic Cars",
         1,
         4550.0
        ],
        [
         "Classic Cars",
         2,
         4479.63
        ],
        [
         "Classic Cars",
         2,
         5148.0
        ],
        [
         "Classic Cars",
         3,
         2932.08
        ],
        [
         "Classic Cars",
         3,
         3159.75
        ],
        [
         "Classic Cars",
         3,
         4297.32
        ],
        [
         "Classic Cars",
         4,
         5497.65
        ],
        [
         "Classic Cars",
         4,
         4052.88
        ],
        [
         "Classic Cars",
         4,
         3135.93
        ],
        [
         "Classic Cars",
         4,
         5013.54
        ],
        [
         "Classic Cars",
         4,
         5302.72
        ],
        [
         "Classic Cars",
         1,
         2931.98
        ],
        [
         "Classic Cars",
         1,
         1757.91
        ],
        [
         "Classic Cars",
         1,
         6763.05
        ],
        [
         "Planes",
         1,
         3241.5
        ],
        [
         "Planes",
         2,
         1968.12
        ],
        [
         "Planes",
         2,
         4094.5
        ],
        [
         "Planes",
         3,
         1853.32
        ],
        [
         "Planes",
         4,
         3392.84
        ],
        [
         "Planes",
         4,
         1971.54
        ],
        [
         "Planes",
         4,
         2169.9
        ],
        [
         "Planes",
         4,
         2846.17
        ],
        [
         "Planes",
         1,
         2018.4
        ],
        [
         "Planes",
         1,
         2718.72
        ],
        [
         "Planes",
         2,
         1981.65
        ],
        [
         "Planes",
         2,
         3002.4
        ],
        [
         "Planes",
         2,
         2948.16
        ],
        [
         "Planes",
         3,
         3357.49
        ],
        [
         "Planes",
         3,
         1175.16
        ],
        [
         "Planes",
         3,
         2292.8
        ],
        [
         "Planes",
         4,
         3286.49
        ],
        [
         "Planes",
         4,
         2333.7
        ],
        [
         "Planes",
         4,
         2675.05
        ],
        [
         "Planes",
         4,
         4361.4
        ],
        [
         "Planes",
         4,
         2018.58
        ],
        [
         "Planes",
         4,
         3710.98
        ],
        [
         "Planes",
         1,
         2847.0
        ],
        [
         "Planes",
         1,
         3006.12
        ],
        [
         "Planes",
         1,
         2797.84
        ],
        [
         "Planes",
         2,
         3843.2
        ],
        [
         "Planes",
         2,
         1351.08
        ],
        [
         "Vintage Cars",
         1,
         1689.03
        ],
        [
         "Vintage Cars",
         1,
         1654.56
        ],
        [
         "Vintage Cars",
         2,
         1528.58
        ],
        [
         "Vintage Cars",
         3,
         1013.48
        ],
        [
         "Vintage Cars",
         4,
         1442.26
        ],
        [
         "Vintage Cars",
         4,
         1163.05
        ],
        [
         "Vintage Cars",
         4,
         971.98
        ],
        [
         "Vintage Cars",
         4,
         902.66
        ],
        [
         "Vintage Cars",
         4,
         1295.97
        ],
        [
         "Vintage Cars",
         1,
         1534.72
        ],
        [
         "Vintage Cars",
         1,
         1185.3
        ],
        [
         "Vintage Cars",
         2,
         1698.78
        ],
        [
         "Vintage Cars",
         3,
         1381.05
        ],
        [
         "Vintage Cars",
         3,
         1340.46
        ],
        [
         "Vintage Cars",
         4,
         965.04
        ],
        [
         "Vintage Cars",
         4,
         1093.99
        ],
        [
         "Vintage Cars",
         4,
         3166.84
        ],
        [
         "Vintage Cars",
         4,
         2143.68
        ],
        [
         "Vintage Cars",
         1,
         1717.64
        ],
        [
         "Vintage Cars",
         1,
         4086.29
        ],
        [
         "Vintage Cars",
         2,
         553.95
        ],
        [
         "Vintage Cars",
         2,
         652.35
        ],
        [
         "Classic Cars",
         1,
         2921.62
        ],
        [
         "Classic Cars",
         2,
         5568.64
        ],
        [
         "Classic Cars",
         2,
         1939.8
        ],
        [
         "Classic Cars",
         3,
         3784.8
        ],
        [
         "Classic Cars",
         3,
         2802.09
        ],
        [
         "Classic Cars",
         4,
         2384.64
        ],
        [
         "Classic Cars",
         4,
         2915.66
        ],
        [
         "Classic Cars",
         4,
         5795.72
        ],
        [
         "Classic Cars",
         4,
         3699.88
        ],
        [
         "Classic Cars",
         4,
         2980.6
        ],
        [
         "Classic Cars",
         1,
         5032.74
        ],
        [
         "Classic Cars",
         1,
         4737.15
        ],
        [
         "Classic Cars",
         2,
         6311.2
        ],
        [
         "Classic Cars",
         3,
         3070.54
        ],
        [
         "Classic Cars",
         3,
         4797.39
        ],
        [
         "Classic Cars",
         3,
         3832.38
        ],
        [
         "Classic Cars",
         4,
         4641.48
        ],
        [
         "Classic Cars",
         4,
         4000.26
        ],
        [
         "Classic Cars",
         4,
         5325.76
        ],
        [
         "Classic Cars",
         4,
         4618.69
        ],
        [
         "Classic Cars",
         4,
         3182.97
        ],
        [
         "Classic Cars",
         4,
         2603.04
        ],
        [
         "Classic Cars",
         1,
         1408.96
        ],
        [
         "Classic Cars",
         1,
         1972.11
        ],
        [
         "Classic Cars",
         1,
         5207.75
        ],
        [
         "Classic Cars",
         2,
         4253.2
        ],
        [
         "Vintage Cars",
         1,
         2873.0
        ],
        [
         "Vintage Cars",
         1,
         2253.68
        ],
        [
         "Vintage Cars",
         2,
         3576.12
        ],
        [
         "Vintage Cars",
         3,
         3276.13
        ],
        [
         "Vintage Cars",
         3,
         1811.4
        ],
        [
         "Vintage Cars",
         4,
         3845.1
        ],
        [
         "Vintage Cars",
         4,
         2571.14
        ],
        [
         "Vintage Cars",
         4,
         5035.11
        ],
        [
         "Vintage Cars",
         4,
         2279.0
        ],
        [
         "Vintage Cars",
         4,
         3213.87
        ],
        [
         "Vintage Cars",
         1,
         3532.23
        ],
        [
         "Vintage Cars",
         1,
         3406.59
        ],
        [
         "Vintage Cars",
         2,
         3467.2
        ],
        [
         "Vintage Cars",
         2,
         3628.94
        ],
        [
         "Vintage Cars",
         3,
         4674.72
        ],
        [
         "Vintage Cars",
         3,
         1656.69
        ],
        [
         "Vintage Cars",
         3,
         5171.4
        ],
        [
         "Vintage Cars",
         4,
         3342.57
        ],
        [
         "Vintage Cars",
         4,
         4884.88
        ],
        [
         "Vintage Cars",
         4,
         6267.69
        ],
        [
         "Vintage Cars",
         4,
         4424.16
        ],
        [
         "Vintage Cars",
         4,
         1962.09
        ],
        [
         "Vintage Cars",
         1,
         3476.8
        ],
        [
         "Vintage Cars",
         1,
         4592.61
        ],
        [
         "Vintage Cars",
         2,
         2208.92
        ],
        [
         "Planes",
         1,
         1657.76
        ],
        [
         "Planes",
         2,
         2479.21
        ],
        [
         "Planes",
         2,
         3565.92
        ],
        [
         "Planes",
         3,
         2797.41
        ],
        [
         "Planes",
         4,
         3756.0
        ],
        [
         "Planes",
         1,
         2840.0
        ],
        [
         "Planes",
         1,
         1716.26
        ],
        [
         "Planes",
         2,
         3245.6
        ],
        [
         "Planes",
         2,
         2760.94
        ],
        [
         "Planes",
         2,
         1808.4
        ],
        [
         "Planes",
         3,
         1682.37
        ],
        [
         "Planes",
         3,
         1491.0
        ],
        [
         "Planes",
         3,
         1666.35
        ],
        [
         "Planes",
         4,
         3666.08
        ],
        [
         "Planes",
         4,
         2916.2
        ],
        [
         "Planes",
         4,
         2616.98
        ],
        [
         "Planes",
         4,
         3390.8
        ],
        [
         "Planes",
         4,
         3146.5
        ],
        [
         "Planes",
         4,
         1561.5
        ],
        [
         "Planes",
         1,
         3167.0
        ],
        [
         "Planes",
         1,
         3521.25
        ],
        [
         "Planes",
         2,
         4219.28
        ],
        [
         "Planes",
         2,
         3581.76
        ],
        [
         "Classic Cars",
         1,
         2130.01
        ],
        [
         "Classic Cars",
         2,
         2063.06
        ],
        [
         "Classic Cars",
         3,
         2008.13
        ],
        [
         "Classic Cars",
         3,
         2004.77
        ],
        [
         "Classic Cars",
         4,
         1543.3
        ],
        [
         "Classic Cars",
         4,
         2269.92
        ],
        [
         "Classic Cars",
         4,
         1991.92
        ],
        [
         "Classic Cars",
         4,
         2916.76
        ],
        [
         "Classic Cars",
         1,
         2027.52
        ],
        [
         "Classic Cars",
         1,
         3235.18
        ],
        [
         "Classic Cars",
         2,
         2062.94
        ],
        [
         "Classic Cars",
         2,
         3317.78
        ],
        [
         "Classic Cars",
         2,
         3913.69
        ],
        [
         "Classic Cars",
         3,
         3608.64
        ],
        [
         "Classic Cars",
         3,
         3524.8
        ],
        [
         "Classic Cars",
         3,
         2586.88
        ],
        [
         "Classic Cars",
         4,
         4753.49
        ],
        [
         "Classic Cars",
         4,
         3684.67
        ],
        [
         "Classic Cars",
         4,
         5715.4
        ],
        [
         "Classic Cars",
         4,
         3098.7
        ],
        [
         "Classic Cars",
         4,
         2670.92
        ],
        [
         "Classic Cars",
         1,
         5154.41
        ],
        [
         "Classic Cars",
         1,
         4894.17
        ],
        [
         "Classic Cars",
         1,
         2472.6
        ],
        [
         "Trucks and Buses",
         1,
         3224.31
        ],
        [
         "Trucks and Buses",
         2,
         3667.52
        ],
        [
         "Trucks and Buses",
         2,
         4141.33
        ],
        [
         "Trucks and Buses",
         3,
         2829.58
        ],
        [
         "Trucks and Buses",
         3,
         3068.55
        ],
        [
         "Trucks and Buses",
         4,
         2634.96
        ],
        [
         "Trucks and Buses",
         4,
         2436.72
        ],
        [
         "Trucks and Buses",
         4,
         4607.36
        ],
        [
         "Trucks and Buses",
         4,
         3598.99
        ],
        [
         "Trucks and Buses",
         4,
         3964.1
        ],
        [
         "Trucks and Buses",
         1,
         2244.9
        ],
        [
         "Trucks and Buses",
         1,
         2793.0
        ],
        [
         "Trucks and Buses",
         2,
         4133.64
        ],
        [
         "Trucks and Buses",
         2,
         3900.6
        ],
        [
         "Trucks and Buses",
         3,
         2743.04
        ],
        [
         "Trucks and Buses",
         3,
         2402.07
        ],
        [
         "Trucks and Buses",
         3,
         2178.54
        ],
        [
         "Trucks and Buses",
         4,
         3155.04
        ],
        [
         "Trucks and Buses",
         4,
         2366.28
        ],
        [
         "Trucks and Buses",
         4,
         1963.6
        ],
        [
         "Trucks and Buses",
         4,
         4746.28
        ],
        [
         "Trucks and Buses",
         4,
         6386.94
        ],
        [
         "Trucks and Buses",
         4,
         4428.0
        ],
        [
         "Trucks and Buses",
         1,
         4044.04
        ],
        [
         "Trucks and Buses",
         1,
         2708.42
        ],
        [
         "Trucks and Buses",
         2,
         2904.72
        ],
        [
         "Trucks and Buses",
         2,
         3553.88
        ],
        [
         "Motorcycles",
         1,
         1858.0
        ],
        [
         "Motorcycles",
         2,
         2461.36
        ],
        [
         "Motorcycles",
         2,
         2642.01
        ],
        [
         "Motorcycles",
         3,
         3098.7
        ],
        [
         "Motorcycles",
         4,
         3244.36
        ],
        [
         "Motorcycles",
         4,
         4351.16
        ],
        [
         "Motorcycles",
         1,
         3675.86
        ],
        [
         "Motorcycles",
         1,
         2475.27
        ],
        [
         "Motorcycles",
         2,
         4177.49
        ],
        [
         "Motorcycles",
         2,
         3282.28
        ],
        [
         "Motorcycles",
         2,
         2477.21
        ],
        [
         "Motorcycles",
         3,
         1883.93
        ],
        [
         "Motorcycles",
         3,
         3658.93
        ],
        [
         "Motorcycles",
         3,
         2856.88
        ],
        [
         "Motorcycles",
         4,
         1917.84
        ],
        [
         "Motorcycles",
         4,
         5305.36
        ],
        [
         "Motorcycles",
         4,
         2875.95
        ],
        [
         "Motorcycles",
         4,
         6482.85
        ],
        [
         "Motorcycles",
         4,
         3733.82
        ],
        [
         "Motorcycles",
         1,
         6576.5
        ],
        [
         "Motorcycles",
         1,
         6353.27
        ],
        [
         "Motorcycles",
         1,
         4175.6
        ],
        [
         "Motorcycles",
         2,
         4992.61
        ],
        [
         "Motorcycles",
         2,
         4764.6
        ],
        [
         "Motorcycles",
         1,
         1173.15
        ],
        [
         "Motorcycles",
         2,
         1384.46
        ],
        [
         "Motorcycles",
         3,
         1327.59
        ],
        [
         "Motorcycles",
         3,
         1109.8
        ],
        [
         "Motorcycles",
         4,
         1239.0
        ],
        [
         "Motorcycles",
         4,
         1035.58
        ],
        [
         "Motorcycles",
         4,
         1545.64
        ],
        [
         "Motorcycles",
         4,
         1517.54
        ],
        [
         "Motorcycles",
         1,
         1731.84
        ],
        [
         "Motorcycles",
         1,
         1695.49
        ],
        [
         "Motorcycles",
         2,
         1045.98
        ],
        [
         "Motorcycles",
         2,
         1738.08
        ],
        [
         "Motorcycles",
         2,
         651.8
        ],
        [
         "Motorcycles",
         3,
         988.47
        ],
        [
         "Motorcycles",
         3,
         1518.11
        ],
        [
         "Motorcycles",
         3,
         1013.76
        ],
        [
         "Motorcycles",
         4,
         1549.8
        ],
        [
         "Motorcycles",
         4,
         1108.38
        ],
        [
         "Motorcycles",
         4,
         4102.56
        ],
        [
         "Motorcycles",
         4,
         3713.16
        ],
        [
         "Motorcycles",
         4,
         1513.54
        ],
        [
         "Motorcycles",
         1,
         2317.44
        ],
        [
         "Motorcycles",
         1,
         3298.4
        ],
        [
         "Motorcycles",
         1,
         1826.96
        ],
        [
         "Motorcycles",
         2,
         1206.9
        ],
        [
         "Trucks and Buses",
         1,
         1666.7
        ],
        [
         "Trucks and Buses",
         2,
         1560.44
        ],
        [
         "Trucks and Buses",
         2,
         2337.75
        ],
        [
         "Trucks and Buses",
         3,
         1103.76
        ],
        [
         "Trucks and Buses",
         3,
         2617.85
        ],
        [
         "Trucks and Buses",
         4,
         2207.52
        ],
        [
         "Trucks and Buses",
         4,
         3165.5
        ],
        [
         "Trucks and Buses",
         4,
         2071.41
        ],
        [
         "Trucks and Buses",
         4,
         1385.28
        ],
        [
         "Trucks and Buses",
         4,
         1621.62
        ],
        [
         "Trucks and Buses",
         1,
         1931.65
        ],
        [
         "Trucks and Buses",
         1,
         1244.53
        ],
        [
         "Trucks and Buses",
         2,
         1704.5
        ],
        [
         "Trucks and Buses",
         2,
         1753.2
        ],
        [
         "Trucks and Buses",
         3,
         1666.7
        ],
        [
         "Trucks and Buses",
         3,
         1710.89
        ],
        [
         "Trucks and Buses",
         3,
         2326.5
        ],
        [
         "Trucks and Buses",
         4,
         2316.0
        ],
        [
         "Trucks and Buses",
         4,
         1727.1
        ],
        [
         "Trucks and Buses",
         4,
         2424.0
        ],
        [
         "Trucks and Buses",
         4,
         1535.49
        ],
        [
         "Trucks and Buses",
         4,
         6358.68
        ],
        [
         "Trucks and Buses",
         1,
         1329.4
        ],
        [
         "Trucks and Buses",
         1,
         1701.76
        ],
        [
         "Trucks and Buses",
         1,
         2259.72
        ],
        [
         "Trucks and Buses",
         2,
         925.3
        ],
        [
         "Trucks and Buses",
         2,
         482.13
        ],
        [
         "Trains",
         1,
         3227.63
        ],
        [
         "Trains",
         2,
         1711.26
        ],
        [
         "Trains",
         2,
         2054.36
        ],
        [
         "Trains",
         3,
         3131.94
        ],
        [
         "Trains",
         3,
         1681.35
        ],
        [
         "Trains",
         4,
         2351.36
        ],
        [
         "Trains",
         4,
         1408.0
        ],
        [
         "Trains",
         4,
         2445.6
        ],
        [
         "Trains",
         4,
         1804.44
        ],
        [
         "Trains",
         4,
         2544.75
        ],
        [
         "Trains",
         1,
         1056.4
        ],
        [
         "Trains",
         1,
         2801.4
        ],
        [
         "Trains",
         2,
         1988.4
        ],
        [
         "Trains",
         3,
         2908.35
        ],
        [
         "Trains",
         3,
         2147.4
        ],
        [
         "Trains",
         3,
         2099.63
        ],
        [
         "Trains",
         4,
         2315.18
        ],
        [
         "Trains",
         4,
         2327.15
        ],
        [
         "Trains",
         4,
         5377.4
        ],
        [
         "Trains",
         4,
         2626.01
        ],
        [
         "Trains",
         4,
         4406.4
        ],
        [
         "Trains",
         4,
         4301.22
        ],
        [
         "Trains",
         1,
         2986.5
        ],
        [
         "Trains",
         1,
         1587.08
        ],
        [
         "Trains",
         1,
         1808.4
        ],
        [
         "Trains",
         2,
         1193.04
        ],
        [
         "Trucks and Buses",
         1,
         3403.35
        ],
        [
         "Trucks and Buses",
         1,
         1575.96
        ],
        [
         "Trucks and Buses",
         2,
         1630.2
        ],
        [
         "Trucks and Buses",
         3,
         1701.28
        ],
        [
         "Trucks and Buses",
         3,
         2850.82
        ],
        [
         "Trucks and Buses",
         4,
         2692.06
        ],
        [
         "Trucks and Buses",
         4,
         2174.42
        ],
        [
         "Trucks and Buses",
         4,
         3167.36
        ],
        [
         "Trucks and Buses",
         4,
         2142.66
        ],
        [
         "Trucks and Buses",
         4,
         2117.52
        ],
        [
         "Trucks and Buses",
         1,
         2419.95
        ],
        [
         "Trucks and Buses",
         1,
         2191.2
        ],
        [
         "Trucks and Buses",
         2,
         3043.04
        ],
        [
         "Trucks and Buses",
         2,
         1228.2
        ],
        [
         "Trucks and Buses",
         3,
         1330.35
        ],
        [
         "Trucks and Buses",
         3,
         2792.52
        ],
        [
         "Trucks and Buses",
         3,
         2296.0
        ],
        [
         "Trucks and Buses",
         4,
         2629.44
        ],
        [
         "Trucks and Buses",
         4,
         1912.16
        ],
        [
         "Trucks and Buses",
         4,
         2431.77
        ],
        [
         "Trucks and Buses",
         4,
         3139.99
        ],
        [
         "Trucks and Buses",
         4,
         5669.64
        ],
        [
         "Trucks and Buses",
         1,
         3160.25
        ],
        [
         "Trucks and Buses",
         1,
         6799.68
        ],
        [
         "Trucks and Buses",
         2,
         1867.32
        ],
        [
         "Trucks and Buses",
         2,
         2702.04
        ],
        [
         "Vintage Cars",
         1,
         2406.36
        ],
        [
         "Vintage Cars",
         2,
         2094.67
        ],
        [
         "Vintage Cars",
         2,
         2797.9
        ],
        [
         "Vintage Cars",
         3,
         1637.2
        ],
        [
         "Vintage Cars",
         4,
         2281.91
        ],
        [
         "Vintage Cars",
         1,
         2307.24
        ],
        [
         "Vintage Cars",
         1,
         1320.8
        ],
        [
         "Vintage Cars",
         2,
         2642.82
        ],
        [
         "Vintage Cars",
         2,
         3061.0
        ],
        [
         "Vintage Cars",
         2,
         3164.4
        ],
        [
         "Vintage Cars",
         3,
         1791.16
        ],
        [
         "Vintage Cars",
         3,
         4093.0
        ],
        [
         "Vintage Cars",
         3,
         2234.4
        ],
        [
         "Vintage Cars",
         4,
         3037.84
        ],
        [
         "Vintage Cars",
         4,
         1419.84
        ],
        [
         "Vintage Cars",
         4,
         1948.08
        ],
        [
         "Vintage Cars",
         4,
         2307.24
        ],
        [
         "Vintage Cars",
         4,
         1780.4
        ],
        [
         "Vintage Cars",
         4,
         3544.17
        ],
        [
         "Vintage Cars",
         1,
         3619.44
        ],
        [
         "Vintage Cars",
         1,
         3918.95
        ],
        [
         "Vintage Cars",
         1,
         1483.02
        ],
        [
         "Vintage Cars",
         2,
         4819.26
        ],
        [
         "Vintage Cars",
         2,
         1591.72
        ],
        [
         "Motorcycles",
         1,
         3669.78
        ],
        [
         "Motorcycles",
         2,
         2168.5
        ],
        [
         "Motorcycles",
         3,
         2694.0
        ],
        [
         "Motorcycles",
         3,
         3251.34
        ],
        [
         "Motorcycles",
         4,
         2347.15
        ],
        [
         "Motorcycles",
         4,
         3920.88
        ],
        [
         "Motorcycles",
         4,
         2514.6
        ],
        [
         "Motorcycles",
         4,
         3600.24
        ],
        [
         "Motorcycles",
         1,
         4040.03
        ],
        [
         "Motorcycles",
         1,
         3336.9
        ],
        [
         "Motorcycles",
         2,
         3113.64
        ],
        [
         "Motorcycles",
         2,
         2832.0
        ],
        [
         "Motorcycles",
         2,
         3330.98
        ],
        [
         "Motorcycles",
         3,
         4304.64
        ],
        [
         "Motorcycles",
         3,
         2600.26
        ],
        [
         "Motorcycles",
         3,
         4382.16
        ],
        [
         "Motorcycles",
         4,
         4235.0
        ],
        [
         "Motorcycles",
         4,
         2626.8
        ],
        [
         "Motorcycles",
         4,
         5026.56
        ],
        [
         "Motorcycles",
         4,
         2201.62
        ],
        [
         "Motorcycles",
         4,
         4326.8
        ],
        [
         "Motorcycles",
         1,
         3425.18
        ],
        [
         "Motorcycles",
         1,
         4701.88
        ],
        [
         "Motorcycles",
         1,
         2204.1
        ],
        [
         "Motorcycles",
         2,
         5189.4
        ],
        [
         "Vintage Cars",
         1,
         1565.85
        ],
        [
         "Vintage Cars",
         2,
         2480.38
        ],
        [
         "Vintage Cars",
         2,
         1355.13
        ],
        [
         "Vintage Cars",
         3,
         1246.44
        ],
        [
         "Vintage Cars",
         4,
         820.4
        ],
        [
         "Vintage Cars",
         4,
         2492.64
        ],
        [
         "Vintage Cars",
         4,
         1113.6
        ],
        [
         "Vintage Cars",
         1,
         1763.86
        ],
        [
         "Vintage Cars",
         1,
         1896.66
        ],
        [
         "Vintage Cars",
         2,
         1449.35
        ],
        [
         "Vintage Cars",
         2,
         1869.48
        ],
        [
         "Vintage Cars",
         2,
         1860.53
        ],
        [
         "Vintage Cars",
         3,
         1724.82
        ],
        [
         "Vintage Cars",
         3,
         1713.69
        ],
        [
         "Vintage Cars",
         3,
         1259.44
        ],
        [
         "Vintage Cars",
         4,
         2051.08
        ],
        [
         "Vintage Cars",
         4,
         1617.38
        ],
        [
         "Vintage Cars",
         4,
         1765.62
        ],
        [
         "Vintage Cars",
         4,
         2024.8
        ],
        [
         "Vintage Cars",
         4,
         3288.4
        ],
        [
         "Vintage Cars",
         4,
         2725.47
        ],
        [
         "Vintage Cars",
         1,
         3224.2
        ],
        [
         "Vintage Cars",
         1,
         3211.38
        ],
        [
         "Vintage Cars",
         1,
         1796.34
        ],
        [
         "Vintage Cars",
         2,
         1979.6
        ],
        [
         "Vintage Cars",
         2,
         1921.41
        ],
        [
         "Trucks and Buses",
         1,
         3705.24
        ],
        [
         "Trucks and Buses",
         2,
         2843.91
        ],
        [
         "Trucks and Buses",
         2,
         6176.42
        ],
        [
         "Trucks and Buses",
         3,
         5500.44
        ],
        [
         "Trucks and Buses",
         3,
         3220.1
        ],
        [
         "Trucks and Buses",
         4,
         4556.16
        ],
        [
         "Trucks and Buses",
         4,
         3114.89
        ],
        [
         "Trucks and Buses",
         4,
         4948.2
        ],
        [
         "Trucks and Buses",
         4,
         5161.17
        ],
        [
         "Trucks and Buses",
         4,
         2657.76
        ],
        [
         "Trucks and Buses",
         1,
         3983.05
        ],
        [
         "Trucks and Buses",
         1,
         3974.94
        ],
        [
         "Trucks and Buses",
         2,
         2928.42
        ],
        [
         "Trucks and Buses",
         2,
         3054.57
        ],
        [
         "Trucks and Buses",
         3,
         3345.26
        ],
        [
         "Trucks and Buses",
         3,
         4310.72
        ],
        [
         "Trucks and Buses",
         3,
         4983.14
        ],
        [
         "Trucks and Buses",
         4,
         4618.32
        ],
        [
         "Trucks and Buses",
         4,
         3403.12
        ],
        [
         "Trucks and Buses",
         4,
         5190.42
        ],
        [
         "Trucks and Buses",
         4,
         3141.57
        ],
        [
         "Trucks and Buses",
         4,
         2213.4
        ],
        [
         "Trucks and Buses",
         4,
         4896.7
        ],
        [
         "Trucks and Buses",
         1,
         2714.4
        ],
        [
         "Trucks and Buses",
         1,
         3087.05
        ],
        [
         "Trucks and Buses",
         1,
         5692.96
        ],
        [
         "Trucks and Buses",
         2,
         3460.86
        ],
        [
         "Trucks and Buses",
         2,
         1895.94
        ],
        [
         "Trains",
         1,
         1705.92
        ],
        [
         "Trains",
         2,
         1033.41
        ],
        [
         "Trains",
         2,
         3179.52
        ],
        [
         "Trains",
         3,
         2091.18
        ],
        [
         "Trains",
         3,
         1779.71
        ],
        [
         "Trains",
         4,
         2537.64
        ],
        [
         "Trains",
         4,
         2448.72
        ],
        [
         "Trains",
         4,
         972.4
        ],
        [
         "Trains",
         4,
         2856.14
        ],
        [
         "Trains",
         1,
         1968.3
        ],
        [
         "Trains",
         1,
         2056.2
        ],
        [
         "Trains",
         1,
         2242.02
        ],
        [
         "Trains",
         2,
         3128.65
        ],
        [
         "Trains",
         3,
         2443.26
        ],
        [
         "Trains",
         3,
         2470.86
        ],
        [
         "Trains",
         3,
         1927.45
        ],
        [
         "Trains",
         4,
         2051.56
        ],
        [
         "Trains",
         4,
         2337.38
        ],
        [
         "Trains",
         4,
         5932.96
        ],
        [
         "Trains",
         4,
         2296.77
        ],
        [
         "Trains",
         4,
         6490.88
        ],
        [
         "Trains",
         4,
         1623.25
        ],
        [
         "Trains",
         1,
         1405.92
        ],
        [
         "Trains",
         1,
         2282.28
        ],
        [
         "Trains",
         2,
         3256.35
        ],
        [
         "Motorcycles",
         1,
         2821.66
        ],
        [
         "Motorcycles",
         2,
         3293.4
        ],
        [
         "Motorcycles",
         3,
         4224.0
        ],
        [
         "Motorcycles",
         3,
         3091.68
        ],
        [
         "Motorcycles",
         4,
         2219.6
        ],
        [
         "Motorcycles",
         4,
         3866.4
        ],
        [
         "Motorcycles",
         4,
         1964.76
        ],
        [
         "Motorcycles",
         4,
         2668.8
        ],
        [
         "Motorcycles",
         1,
         3222.0
        ],
        [
         "Motorcycles",
         1,
         3864.5
        ],
        [
         "Motorcycles",
         2,
         1366.8
        ],
        [
         "Motorcycles",
         2,
         3475.68
        ],
        [
         "Motorcycles",
         2,
         4206.5
        ],
        [
         "Motorcycles",
         3,
         1486.38
        ],
        [
         "Motorcycles",
         3,
         3077.88
        ],
        [
         "Motorcycles",
         3,
         3544.2
        ],
        [
         "Motorcycles",
         4,
         2483.04
        ],
        [
         "Motorcycles",
         4,
         3478.05
        ],
        [
         "Motorcycles",
         4,
         3657.8
        ],
        [
         "Motorcycles",
         4,
         4682.36
        ],
        [
         "Motorcycles",
         4,
         3937.7
        ],
        [
         "Motorcycles",
         1,
         4984.32
        ],
        [
         "Motorcycles",
         1,
         5406.66
        ],
        [
         "Motorcycles",
         1,
         3491.18
        ],
        [
         "Motorcycles",
         2,
         2118.54
        ],
        [
         "Ships",
         1,
         2897.47
        ],
        [
         "Ships",
         2,
         1916.75
        ],
        [
         "Ships",
         2,
         1860.0
        ],
        [
         "Ships",
         3,
         2624.0
        ],
        [
         "Ships",
         3,
         2780.81
        ],
        [
         "Ships",
         4,
         3239.62
        ],
        [
         "Ships",
         4,
         1824.0
        ],
        [
         "Ships",
         4,
         1134.0
        ],
        [
         "Ships",
         4,
         1487.41
        ],
        [
         "Ships",
         1,
         2837.46
        ],
        [
         "Ships",
         1,
         1942.77
        ],
        [
         "Ships",
         1,
         2544.12
        ],
        [
         "Ships",
         2,
         2568.24
        ],
        [
         "Ships",
         2,
         2108.0
        ],
        [
         "Ships",
         3,
         1372.14
        ],
        [
         "Ships",
         3,
         3540.15
        ],
        [
         "Ships",
         3,
         1958.84
        ],
        [
         "Ships",
         4,
         2700.0
        ],
        [
         "Ships",
         4,
         2542.0
        ],
        [
         "Ships",
         4,
         2340.0
        ],
        [
         "Ships",
         4,
         2816.44
        ],
        [
         "Ships",
         4,
         3526.82
        ],
        [
         "Ships",
         1,
         4627.92
        ],
        [
         "Ships",
         1,
         1933.5
        ],
        [
         "Ships",
         1,
         2600.13
        ],
        [
         "Ships",
         2,
         2639.58
        ],
        [
         "Planes",
         1,
         3312.97
        ],
        [
         "Planes",
         2,
         3863.87
        ],
        [
         "Planes",
         2,
         1863.36
        ],
        [
         "Planes",
         3,
         3945.96
        ],
        [
         "Planes",
         4,
         4954.08
        ],
        [
         "Planes",
         4,
         2762.2
        ],
        [
         "Planes",
         4,
         3989.76
        ],
        [
         "Planes",
         1,
         1649.55
        ],
        [
         "Planes",
         1,
         2534.75
        ],
        [
         "Planes",
         2,
         2580.25
        ],
        [
         "Planes",
         2,
         2831.54
        ],
        [
         "Planes",
         2,
         3361.2
        ],
        [
         "Planes",
         3,
         2864.32
        ],
        [
         "Planes",
         3,
         1994.88
        ],
        [
         "Planes",
         3,
         4296.6
        ],
        [
         "Planes",
         4,
         2224.95
        ],
        [
         "Planes",
         4,
         2795.14
        ],
        [
         "Planes",
         4,
         2762.1
        ],
        [
         "Planes",
         4,
         2658.0
        ],
        [
         "Planes",
         4,
         5043.87
        ],
        [
         "Planes",
         4,
         1210.8
        ],
        [
         "Planes",
         1,
         3029.19
        ],
        [
         "Planes",
         1,
         4121.43
        ],
        [
         "Planes",
         2,
         1135.31
        ],
        [
         "Planes",
         2,
         2100.82
        ],
        [
         "Ships",
         1,
         2034.35
        ],
        [
         "Ships",
         2,
         3027.84
        ],
        [
         "Ships",
         2,
         3104.0
        ],
        [
         "Ships",
         3,
         3612.43
        ],
        [
         "Ships",
         3,
         2711.88
        ],
        [
         "Ships",
         4,
         3013.97
        ],
        [
         "Ships",
         4,
         2738.54
        ],
        [
         "Ships",
         4,
         2832.0
        ],
        [
         "Ships",
         4,
         4720.0
        ],
        [
         "Ships",
         1,
         3222.0
        ],
        [
         "Ships",
         1,
         2231.0
        ],
        [
         "Ships",
         1,
         2296.84
        ],
        [
         "Ships",
         2,
         4157.2
        ],
        [
         "Ships",
         3,
         2146.2
        ],
        [
         "Ships",
         3,
         3724.23
        ],
        [
         "Ships",
         3,
         2084.81
        ],
        [
         "Ships",
         4,
         3488.78
        ],
        [
         "Ships",
         4,
         1753.06
        ],
        [
         "Ships",
         4,
         3469.2
        ],
        [
         "Ships",
         4,
         2530.8
        ],
        [
         "Ships",
         4,
         2924.32
        ],
        [
         "Ships",
         1,
         4496.8
        ],
        [
         "Ships",
         1,
         6397.44
        ],
        [
         "Ships",
         1,
         2577.6
        ],
        [
         "Ships",
         2,
         3533.62
        ],
        [
         "Ships",
         1,
         3177.3
        ],
        [
         "Ships",
         2,
         2730.06
        ],
        [
         "Ships",
         2,
         1891.78
        ],
        [
         "Ships",
         3,
         2612.48
        ],
        [
         "Ships",
         4,
         2925.76
        ],
        [
         "Ships",
         4,
         2940.02
        ],
        [
         "Ships",
         4,
         3293.24
        ],
        [
         "Ships",
         4,
         2389.68
        ],
        [
         "Ships",
         4,
         2172.48
        ],
        [
         "Ships",
         1,
         2927.43
        ],
        [
         "Ships",
         1,
         2659.54
        ],
        [
         "Ships",
         2,
         3838.0
        ],
        [
         "Ships",
         2,
         4142.16
        ],
        [
         "Ships",
         3,
         2172.48
        ],
        [
         "Ships",
         3,
         1882.8
        ],
        [
         "Ships",
         3,
         3477.86
        ],
        [
         "Ships",
         4,
         3323.84
        ],
        [
         "Ships",
         4,
         4195.8
        ],
        [
         "Ships",
         4,
         4156.58
        ],
        [
         "Ships",
         4,
         3918.75
        ],
        [
         "Ships",
         4,
         2352.67
        ],
        [
         "Ships",
         4,
         1089.36
        ],
        [
         "Ships",
         1,
         2701.12
        ],
        [
         "Ships",
         1,
         2487.04
        ],
        [
         "Ships",
         1,
         3910.32
        ],
        [
         "Ships",
         2,
         4038.8
        ],
        [
         "Ships",
         2,
         3070.4
        ],
        [
         "Planes",
         1,
         3763.46
        ],
        [
         "Planes",
         2,
         2584.8
        ],
        [
         "Planes",
         2,
         4427.6
        ],
        [
         "Planes",
         3,
         2152.02
        ],
        [
         "Planes",
         4,
         2353.4
        ],
        [
         "Planes",
         4,
         3431.39
        ],
        [
         "Planes",
         4,
         1930.5
        ],
        [
         "Planes",
         4,
         4774.56
        ],
        [
         "Planes",
         1,
         2592.72
        ],
        [
         "Planes",
         1,
         3246.75
        ],
        [
         "Planes",
         2,
         3372.5
        ],
        [
         "Planes",
         2,
         3909.15
        ],
        [
         "Planes",
         2,
         2994.75
        ],
        [
         "Planes",
         3,
         4472.52
        ],
        [
         "Planes",
         3,
         4576.95
        ],
        [
         "Planes",
         3,
         2441.04
        ],
        [
         "Planes",
         4,
         3106.25
        ],
        [
         "Planes",
         4,
         2706.41
        ],
        [
         "Planes",
         4,
         4021.53
        ],
        [
         "Planes",
         4,
         4826.25
        ],
        [
         "Planes",
         4,
         4935.28
        ],
        [
         "Planes",
         4,
         2754.7
        ],
        [
         "Planes",
         1,
         3856.71
        ],
        [
         "Planes",
         1,
         3102.08
        ],
        [
         "Planes",
         1,
         1908.72
        ],
        [
         "Planes",
         2,
         2457.18
        ],
        [
         "Ships",
         1,
         2038.87
        ],
        [
         "Ships",
         2,
         2499.26
        ],
        [
         "Ships",
         2,
         3838.05
        ],
        [
         "Ships",
         3,
         2643.99
        ],
        [
         "Ships",
         4,
         2315.88
        ],
        [
         "Ships",
         4,
         3225.06
        ],
        [
         "Ships",
         4,
         2451.84
        ],
        [
         "Ships",
         4,
         2254.98
        ],
        [
         "Ships",
         4,
         3939.5
        ],
        [
         "Ships",
         1,
         3424.7
        ],
        [
         "Ships",
         1,
         2914.2
        ],
        [
         "Ships",
         1,
         2389.6
        ],
        [
         "Ships",
         2,
         2428.48
        ],
        [
         "Ships",
         2,
         3021.48
        ],
        [
         "Ships",
         3,
         2610.72
        ],
        [
         "Ships",
         3,
         3091.19
        ],
        [
         "Ships",
         3,
         2576.2
        ],
        [
         "Ships",
         4,
         3232.31
        ],
        [
         "Ships",
         4,
         3573.6
        ],
        [
         "Ships",
         4,
         2022.51
        ],
        [
         "Ships",
         4,
         3717.5
        ],
        [
         "Ships",
         4,
         2185.15
        ],
        [
         "Ships",
         1,
         2883.53
        ],
        [
         "Ships",
         1,
         5017.57
        ],
        [
         "Ships",
         1,
         1463.0
        ],
        [
         "Ships",
         2,
         2352.59
        ],
        [
         "Classic Cars",
         1,
         4460.82
        ],
        [
         "Classic Cars",
         2,
         4758.18
        ],
        [
         "Classic Cars",
         2,
         4597.2
        ],
        [
         "Classic Cars",
         3,
         4114.8
        ],
        [
         "Classic Cars",
         3,
         2104.0
        ],
        [
         "Classic Cars",
         4,
         3195.27
        ],
        [
         "Classic Cars",
         4,
         3611.16
        ],
        [
         "Classic Cars",
         4,
         2000.77
        ],
        [
         "Classic Cars",
         4,
         2314.26
        ],
        [
         "Classic Cars",
         4,
         3871.89
        ],
        [
         "Classic Cars",
         1,
         2728.0
        ],
        [
         "Classic Cars",
         1,
         5614.0
        ],
        [
         "Classic Cars",
         2,
         4628.8
        ],
        [
         "Classic Cars",
         2,
         3641.4
        ],
        [
         "Classic Cars",
         3,
         4048.0
        ],
        [
         "Classic Cars",
         3,
         2321.46
        ],
        [
         "Classic Cars",
         3,
         3256.96
        ],
        [
         "Classic Cars",
         4,
         4208.0
        ],
        [
         "Classic Cars",
         4,
         2973.9
        ],
        [
         "Classic Cars",
         4,
         4248.3
        ],
        [
         "Classic Cars",
         4,
         2650.56
        ],
        [
         "Classic Cars",
         4,
         3761.37
        ],
        [
         "Classic Cars",
         1,
         4301.34
        ],
        [
         "Classic Cars",
         1,
         1864.56
        ],
        [
         "Classic Cars",
         2,
         3576.8
        ],
        [
         "Classic Cars",
         2,
         3722.32
        ],
        [
         "Planes",
         1,
         3986.56
        ],
        [
         "Planes",
         2,
         3417.12
        ],
        [
         "Planes",
         2,
         2691.09
        ],
        [
         "Planes",
         3,
         2752.6
        ],
        [
         "Planes",
         4,
         4527.72
        ],
        [
         "Planes",
         4,
         3957.05
        ],
        [
         "Planes",
         1,
         2818.0
        ],
        [
         "Planes",
         1,
         3199.86
        ],
        [
         "Planes",
         2,
         2402.75
        ],
        [
         "Planes",
         2,
         6055.72
        ],
        [
         "Planes",
         2,
         5465.16
        ],
        [
         "Planes",
         3,
         6378.72
        ],
        [
         "Planes",
         3,
         5392.8
        ],
        [
         "Planes",
         3,
         3986.5
        ],
        [
         "Planes",
         4,
         4009.23
        ],
        [
         "Planes",
         4,
         4072.2
        ],
        [
         "Planes",
         4,
         4094.51
        ],
        [
         "Planes",
         4,
         3302.4
        ],
        [
         "Planes",
         4,
         3186.48
        ],
        [
         "Planes",
         1,
         1668.25
        ],
        [
         "Planes",
         1,
         2810.83
        ],
        [
         "Planes",
         2,
         2018.31
        ],
        [
         "Planes",
         2,
         5642.83
        ],
        [
         "Planes",
         1,
         3273.6
        ],
        [
         "Planes",
         2,
         3268.0
        ],
        [
         "Planes",
         3,
         2688.0
        ],
        [
         "Planes",
         4,
         3715.2
        ],
        [
         "Planes",
         4,
         4608.0
        ],
        [
         "Planes",
         4,
         3131.2
        ],
        [
         "Planes",
         1,
         2678.4
        ],
        [
         "Planes",
         1,
         1747.2
        ],
        [
         "Planes",
         2,
         2944.0
        ],
        [
         "Planes",
         2,
         2956.8
        ],
        [
         "Planes",
         2,
         2052.0
        ],
        [
         "Planes",
         3,
         3164.8
        ],
        [
         "Planes",
         3,
         1740.0
        ],
        [
         "Planes",
         3,
         1777.6
        ],
        [
         "Planes",
         4,
         1831.2
        ],
        [
         "Planes",
         4,
         3609.6
        ],
        [
         "Planes",
         4,
         2112.0
        ],
        [
         "Planes",
         4,
         3644.12
        ],
        [
         "Planes",
         4,
         3523.85
        ],
        [
         "Planes",
         4,
         5001.92
        ],
        [
         "Planes",
         1,
         5208.72
        ],
        [
         "Planes",
         1,
         3018.88
        ],
        [
         "Planes",
         1,
         1902.4
        ],
        [
         "Planes",
         2,
         2620.8
        ],
        [
         "Ships",
         1,
         3164.46
        ],
        [
         "Ships",
         2,
         4219.2
        ],
        [
         "Ships",
         2,
         3828.3
        ],
        [
         "Ships",
         3,
         2334.99
        ],
        [
         "Ships",
         3,
         4407.5
        ],
        [
         "Ships",
         4,
         2812.8
        ],
        [
         "Ships",
         4,
         4055.04
        ],
        [
         "Ships",
         4,
         3891.66
        ],
        [
         "Ships",
         4,
         2488.32
        ],
        [
         "Ships",
         1,
         4447.4
        ],
        [
         "Ships",
         1,
         4187.22
        ],
        [
         "Ships",
         1,
         4615.68
        ],
        [
         "Ships",
         2,
         3245.4
        ],
        [
         "Ships",
         2,
         2203.75
        ],
        [
         "Ships",
         3,
         3446.0
        ],
        [
         "Ships",
         3,
         1939.3
        ],
        [
         "Ships",
         3,
         3473.78
        ],
        [
         "Ships",
         4,
         2884.8
        ],
        [
         "Ships",
         4,
         2670.65
        ],
        [
         "Ships",
         4,
         3440.0
        ],
        [
         "Ships",
         4,
         2770.78
        ],
        [
         "Ships",
         4,
         2397.54
        ],
        [
         "Ships",
         1,
         3275.56
        ],
        [
         "Ships",
         1,
         4143.6
        ],
        [
         "Ships",
         1,
         5192.64
        ],
        [
         "Ships",
         2,
         3029.04
        ],
        [
         "Ships",
         1,
         2556.18
        ],
        [
         "Ships",
         2,
         3753.9
        ],
        [
         "Ships",
         2,
         2562.3
        ],
        [
         "Ships",
         3,
         3245.58
        ],
        [
         "Ships",
         3,
         2204.6
        ],
        [
         "Ships",
         4,
         3003.0
        ],
        [
         "Ships",
         4,
         2526.48
        ],
        [
         "Ships",
         4,
         1747.9
        ],
        [
         "Ships",
         4,
         3267.25
        ],
        [
         "Ships",
         1,
         2818.53
        ],
        [
         "Ships",
         1,
         2955.54
        ],
        [
         "Ships",
         1,
         2885.05
        ],
        [
         "Ships",
         2,
         3162.95
        ],
        [
         "Ships",
         2,
         4071.5
        ],
        [
         "Ships",
         3,
         2969.46
        ],
        [
         "Ships",
         3,
         3396.44
        ],
        [
         "Ships",
         3,
         4692.6
        ],
        [
         "Ships",
         4,
         3515.7
        ],
        [
         "Ships",
         4,
         3380.69
        ],
        [
         "Ships",
         4,
         3204.57
        ],
        [
         "Ships",
         4,
         2588.04
        ],
        [
         "Ships",
         4,
         2854.75
        ],
        [
         "Ships",
         1,
         4025.6
        ],
        [
         "Ships",
         1,
         2864.4
        ],
        [
         "Ships",
         1,
         3789.72
        ],
        [
         "Ships",
         2,
         2439.99
        ],
        [
         "Planes",
         1,
         2949.12
        ],
        [
         "Planes",
         2,
         1539.72
        ],
        [
         "Planes",
         2,
         2213.38
        ],
        [
         "Planes",
         3,
         2919.58
        ],
        [
         "Planes",
         4,
         3778.28
        ],
        [
         "Planes",
         4,
         3233.49
        ],
        [
         "Planes",
         4,
         3431.25
        ],
        [
         "Planes",
         4,
         2546.8
        ],
        [
         "Planes",
         1,
         2953.86
        ],
        [
         "Planes",
         1,
         3183.29
        ],
        [
         "Planes",
         2,
         2466.7
        ],
        [
         "Planes",
         2,
         2363.22
        ],
        [
         "Planes",
         2,
         2487.45
        ],
        [
         "Planes",
         3,
         2249.05
        ],
        [
         "Planes",
         3,
         2061.12
        ],
        [
         "Planes",
         3,
         4071.14
        ],
        [
         "Planes",
         4,
         2656.29
        ],
        [
         "Planes",
         4,
         2736.36
        ],
        [
         "Planes",
         4,
         3348.93
        ],
        [
         "Planes",
         4,
         2893.0
        ],
        [
         "Planes",
         4,
         1661.22
        ],
        [
         "Planes",
         4,
         4277.35
        ],
        [
         "Planes",
         1,
         2502.9
        ],
        [
         "Planes",
         1,
         3801.6
        ],
        [
         "Planes",
         1,
         3144.96
        ],
        [
         "Planes",
         2,
         2031.4
        ],
        [
         "Planes",
         2,
         2674.17
        ],
        [
         "Planes",
         1,
         2526.72
        ],
        [
         "Planes",
         2,
         1348.76
        ],
        [
         "Planes",
         2,
         875.91
        ],
        [
         "Planes",
         3,
         1874.05
        ],
        [
         "Planes",
         4,
         1671.44
        ],
        [
         "Planes",
         4,
         1668.4
        ],
        [
         "Planes",
         4,
         2301.75
        ],
        [
         "Planes",
         4,
         1459.92
        ],
        [
         "Planes",
         4,
         1209.59
        ],
        [
         "Planes",
         1,
         2145.12
        ],
        [
         "Planes",
         1,
         1416.39
        ],
        [
         "Planes",
         2,
         1843.52
        ],
        [
         "Planes",
         2,
         1199.31
        ],
        [
         "Planes",
         3,
         1875.2
        ],
        [
         "Planes",
         3,
         2477.23
        ],
        [
         "Planes",
         3,
         948.99
        ],
        [
         "Planes",
         4,
         1823.42
        ],
        [
         "Planes",
         4,
         1485.8
        ],
        [
         "Planes",
         4,
         3789.72
        ],
        [
         "Planes",
         4,
         2060.37
        ],
        [
         "Planes",
         4,
         2579.36
        ],
        [
         "Planes",
         4,
         2189.6
        ],
        [
         "Planes",
         1,
         1624.25
        ],
        [
         "Planes",
         1,
         4357.5
        ],
        [
         "Planes",
         1,
         1367.48
        ],
        [
         "Planes",
         2,
         1122.4
        ],
        [
         "Planes",
         2,
         2419.62
        ],
        [
         "Ships",
         1,
         1419.5
        ],
        [
         "Ships",
         2,
         2184.0
        ],
        [
         "Ships",
         2,
         2079.04
        ],
        [
         "Ships",
         3,
         1724.97
        ],
        [
         "Ships",
         3,
         3003.0
        ],
        [
         "Ships",
         4,
         1846.42
        ],
        [
         "Ships",
         4,
         2009.2
        ],
        [
         "Ships",
         4,
         1804.04
        ],
        [
         "Ships",
         4,
         2109.66
        ],
        [
         "Ships",
         1,
         2682.96
        ],
        [
         "Ships",
         1,
         2280.24
        ],
        [
         "Ships",
         1,
         1192.56
        ],
        [
         "Ships",
         2,
         1506.96
        ],
        [
         "Ships",
         2,
         1472.62
        ],
        [
         "Ships",
         3,
         1696.82
        ],
        [
         "Ships",
         3,
         1693.56
        ],
        [
         "Ships",
         3,
         1921.92
        ],
        [
         "Ships",
         4,
         2082.85
        ],
        [
         "Ships",
         4,
         2227.6
        ],
        [
         "Ships",
         4,
         3209.38
        ],
        [
         "Ships",
         4,
         4080.72
        ],
        [
         "Ships",
         4,
         2244.4
        ],
        [
         "Ships",
         1,
         3978.51
        ],
        [
         "Ships",
         1,
         5417.57
        ],
        [
         "Ships",
         1,
         2116.16
        ],
        [
         "Ships",
         2,
         3079.44
        ]
       ],
       "datasetInfos": [],
       "dbfsResultPath": null,
       "isJsonSchema": true,
       "metadata": {},
       "overflow": false,
       "plotOptions": {
        "customPlotOptions": {},
        "displayType": "table",
        "pivotAggregation": null,
        "pivotColumns": null,
        "xColumns": null,
        "yColumns": null
       },
       "removedWidgets": [],
       "schema": [
        {
         "metadata": "{}",
         "name": "PRODUCTLINE",
         "type": "\"string\""
        },
        {
         "metadata": "{}",
         "name": "QTR_ID",
         "type": "\"integer\""
        },
        {
         "metadata": "{}",
         "name": "SALES",
         "type": "\"double\""
        }
       ],
       "type": "table"
      }
     },
     "output_type": "display_data"
    },
    {
     "output_type": "display_data",
     "data": {
      "text/plain": [
       "Databricks visualization. Run in Databricks to view."
      ]
     },
     "metadata": {
      "application/vnd.databricks.v1.subcommand+json": {
       "baseErrorDetails": null,
       "bindings": {},
       "collapsed": false,
       "command": "%sql WITH q AS (SELECT PRODUCTLINE, QTR_ID,SALES FROM\n(select PRODUCTLINE, QTR_ID,SALES,\nPERCENTILE_CONT(0.25) WITHIN GROUP(ORDER BY SALES) OVER() AS Q1,\nPERCENTILE_CONT(0.75) WITHIN GROUP(ORDER BY SALES) OVER() AS Q3\nfrom productsales) AS _\nWHERE SALES < Q1 - (Q3-Q1)*1.5 OR SALES < Q3 + (Q3-Q1)) SELECT `PRODUCTLINE`,`SALES`,`QTR_ID` FROM q",
       "commandTitle": "Visualization 1",
       "commandType": "auto",
       "commandVersion": 0,
       "commentThread": [],
       "commentsVisible": false,
       "contentSha256Hex": null,
       "customPlotOptions": {
        "redashChart": [
         {
          "key": "type",
          "value": "CHART"
         },
         {
          "key": "options",
          "value": {
           "alignYAxesAtZero": true,
           "coefficient": 1,
           "columnConfigurationMap": {
            "series": {
             "column": "QTR_ID",
             "id": "column_688423355"
            },
            "x": {
             "column": "PRODUCTLINE",
             "id": "column_688423354"
            },
            "y": [
             {
              "column": "SALES",
              "id": "column_688423352"
             }
            ]
           },
           "dateTimeFormat": "DD/MM/YYYY HH:mm",
           "direction": {
            "type": "counterclockwise"
           },
           "error_y": {
            "type": "data",
            "visible": true
           },
           "globalSeriesType": "box",
           "legend": {
            "traceorder": "normal"
           },
           "missingValuesAsZero": false,
           "numberFormat": "0,0.[00000]",
           "percentFormat": "0[.]00%",
           "series": {
            "error_y": {
             "type": "data",
             "visible": true
            },
            "stacking": null
           },
           "seriesOptions": {
            "column_688423352": {
             "name": "SALES",
             "type": "box",
             "yAxis": 0
            }
           },
           "showDataLabels": false,
           "sizemode": "diameter",
           "sortX": true,
           "sortY": true,
           "swappedAxes": false,
           "textFormat": "",
           "useAggregationsUi": true,
           "valuesOptions": {},
           "version": 2,
           "xAxis": {
            "labels": {
             "enabled": true
            },
            "type": "-"
           },
           "yAxis": [
            {
             "type": "-"
            },
            {
             "opposite": true,
             "type": "-"
            }
           ]
          }
         }
        ]
       },
       "datasetPreviewNameToCmdIdMap": {},
       "diffDeletes": [],
       "diffInserts": [],
       "displayType": "redashChart",
       "error": null,
       "errorDetails": null,
       "errorSummary": null,
       "errorTraceType": null,
       "finishTime": 0,
       "globalVars": {},
       "guid": "",
       "height": "auto",
       "hideCommandCode": false,
       "hideCommandResult": false,
       "iPythonMetadata": null,
       "inputWidgets": {},
       "isLockedInExamMode": false,
       "latestUser": "a user",
       "latestUserId": null,
       "listResultMetadata": null,
       "metadata": {},
       "nuid": "b3d32640-3b0b-488d-938b-b22944c6a2cd",
       "origId": 0,
       "parentHierarchy": [],
       "pivotAggregation": null,
       "pivotColumns": null,
       "position": 16.9993896484375,
       "resultDbfsErrorMessage": null,
       "resultDbfsStatus": "INLINED_IN_TREE",
       "results": null,
       "showCommandTitle": false,
       "startTime": 0,
       "state": "input",
       "streamStates": {},
       "subcommandOptions": {
        "queryPlan": {
         "selects": [
          {
           "column": "PRODUCTLINE",
           "type": "column"
          },
          {
           "column": "SALES",
           "type": "column"
          },
          {
           "column": "QTR_ID",
           "type": "column"
          }
         ]
        }
       },
       "submitTime": 0,
       "subtype": "tableResultSubCmd.visualization",
       "tableResultIndex": 0,
       "tableResultSettingsMap": null,
       "useConsistentColors": false,
       "version": "CommandV1",
       "width": "auto",
       "workflows": [],
       "xColumns": null,
       "yColumns": null
      }
     },
     "output_type": "display_data"
    }
   ],
   "source": [
    "%sql \n",
    "SELECT PRODUCTLINE, QTR_ID,SALES FROM\n",
    "(select PRODUCTLINE, QTR_ID,SALES,\n",
    "PERCENTILE_CONT(0.25) WITHIN GROUP(ORDER BY SALES) OVER() AS Q1,\n",
    "PERCENTILE_CONT(0.75) WITHIN GROUP(ORDER BY SALES) OVER() AS Q3\n",
    "from productsales) AS _\n",
    "WHERE SALES < Q1 - (Q3-Q1)*1.5 OR SALES < Q3 + (Q3-Q1);"
   ]
  },
  {
   "cell_type": "markdown",
   "metadata": {
    "application/vnd.databricks.v1+cell": {
     "cellMetadata": {},
     "inputWidgets": {},
     "nuid": "028de63f-16c3-4e85-bd2a-cd27d9df689b",
     "showTitle": false,
     "title": ""
    }
   },
   "source": [
    "#### 2. Monthly Sales Performance By Each Territory"
   ]
  },
  {
   "cell_type": "code",
   "execution_count": 0,
   "metadata": {
    "application/vnd.databricks.v1+cell": {
     "cellMetadata": {
      "byteLimit": 2048000,
      "implicitDf": true,
      "rowLimit": 10000
     },
     "inputWidgets": {},
     "nuid": "79c07d60-d544-40a8-a2b9-38e03070316b",
     "showTitle": false,
     "title": ""
    }
   },
   "outputs": [
    {
     "output_type": "display_data",
     "data": {
      "text/html": [
       "<style scoped>\n",
       "  .table-result-container {\n",
       "    max-height: 300px;\n",
       "    overflow: auto;\n",
       "  }\n",
       "  table, th, td {\n",
       "    border: 1px solid black;\n",
       "    border-collapse: collapse;\n",
       "  }\n",
       "  th, td {\n",
       "    padding: 5px;\n",
       "  }\n",
       "  th {\n",
       "    text-align: left;\n",
       "  }\n",
       "</style><div class='table-result-container'><table class='table-result'><thead style='background-color: white'><tr><th>TERRITORY</th><th>MONTH_ID</th><th>Total_sales</th></tr></thead><tbody><tr><td>APAC</td><td>1</td><td>29852.17</td></tr><tr><td>APAC</td><td>2</td><td>95587.19</td></tr><tr><td>APAC</td><td>3</td><td>35160.25</td></tr><tr><td>APAC</td><td>4</td><td>52985.240000000005</td></tr><tr><td>APAC</td><td>5</td><td>68087.7</td></tr><tr><td>APAC</td><td>6</td><td>45788.719999999994</td></tr><tr><td>APAC</td><td>7</td><td>82029.22</td></tr><tr><td>APAC</td><td>9</td><td>100734.88999999998</td></tr><tr><td>APAC</td><td>11</td><td>197991.30000000002</td></tr><tr><td>APAC</td><td>12</td><td>37905.149999999994</td></tr><tr><td>EMEA</td><td>1</td><td>434478.17000000016</td></tr><tr><td>EMEA</td><td>2</td><td>466432.9199999999</td></tr><tr><td>EMEA</td><td>3</td><td>391114.24</td></tr><tr><td>EMEA</td><td>4</td><td>316151.6700000001</td></tr><tr><td>EMEA</td><td>5</td><td>521779.1599999999</td></tr><tr><td>EMEA</td><td>6</td><td>182577.36000000002</td></tr><tr><td>EMEA</td><td>7</td><td>224900.58999999997</td></tr><tr><td>EMEA</td><td>8</td><td>214871.24000000005</td></tr><tr><td>EMEA</td><td>9</td><td>295591.1099999999</td></tr><tr><td>EMEA</td><td>10</td><td>590751.9700000002</td></tr><tr><td>EMEA</td><td>11</td><td>1068956.0399999996</td></tr><tr><td>EMEA</td><td>12</td><td>271667.94000000006</td></tr><tr><td>Japan</td><td>1</td><td>88682.03</td></tr><tr><td>Japan</td><td>3</td><td>59420.619999999995</td></tr><tr><td>Japan</td><td>4</td><td>61325.85</td></tr><tr><td>Japan</td><td>6</td><td>25928.750000000004</td></tr><tr><td>Japan</td><td>8</td><td>3127.88</td></tr><tr><td>Japan</td><td>9</td><td>44219.36000000001</td></tr><tr><td>Japan</td><td>10</td><td>77809.37000000001</td></tr><tr><td>Japan</td><td>11</td><td>94659.36</td></tr><tr><td>NA</td><td>1</td><td>232862.06999999998</td></tr><tr><td>NA</td><td>2</td><td>248421.79</td></tr><tr><td>NA</td><td>3</td><td>268806.28</td></tr><tr><td>NA</td><td>4</td><td>238928.20000000007</td></tr><tr><td>NA</td><td>5</td><td>334105.7</td></tr><tr><td>NA</td><td>6</td><td>200461.95</td></tr><tr><td>NA</td><td>7</td><td>207946.16000000006</td></tr><tr><td>NA</td><td>8</td><td>441311.45</td></tr><tr><td>NA</td><td>9</td><td>144178.91</td></tr><tr><td>NA</td><td>10</td><td>452653.8799999999</td></tr><tr><td>NA</td><td>11</td><td>757278.9700000004</td></tr><tr><td>NA</td><td>12</td><td>325106.02999999997</td></tr></tbody></table></div>"
      ]
     },
     "metadata": {
      "application/vnd.databricks.v1+output": {
       "addedWidgets": {},
       "aggData": [],
       "aggError": "",
       "aggOverflow": false,
       "aggSchema": [],
       "aggSeriesLimitReached": false,
       "aggType": "",
       "arguments": {},
       "columnCustomDisplayInfos": {},
       "data": [
        [
         "APAC",
         1,
         29852.17
        ],
        [
         "APAC",
         2,
         95587.19
        ],
        [
         "APAC",
         3,
         35160.25
        ],
        [
         "APAC",
         4,
         52985.240000000005
        ],
        [
         "APAC",
         5,
         68087.7
        ],
        [
         "APAC",
         6,
         45788.719999999994
        ],
        [
         "APAC",
         7,
         82029.22
        ],
        [
         "APAC",
         9,
         100734.88999999998
        ],
        [
         "APAC",
         11,
         197991.30000000002
        ],
        [
         "APAC",
         12,
         37905.149999999994
        ],
        [
         "EMEA",
         1,
         434478.17000000016
        ],
        [
         "EMEA",
         2,
         466432.9199999999
        ],
        [
         "EMEA",
         3,
         391114.24
        ],
        [
         "EMEA",
         4,
         316151.6700000001
        ],
        [
         "EMEA",
         5,
         521779.1599999999
        ],
        [
         "EMEA",
         6,
         182577.36000000002
        ],
        [
         "EMEA",
         7,
         224900.58999999997
        ],
        [
         "EMEA",
         8,
         214871.24000000005
        ],
        [
         "EMEA",
         9,
         295591.1099999999
        ],
        [
         "EMEA",
         10,
         590751.9700000002
        ],
        [
         "EMEA",
         11,
         1068956.0399999996
        ],
        [
         "EMEA",
         12,
         271667.94000000006
        ],
        [
         "Japan",
         1,
         88682.03
        ],
        [
         "Japan",
         3,
         59420.619999999995
        ],
        [
         "Japan",
         4,
         61325.85
        ],
        [
         "Japan",
         6,
         25928.750000000004
        ],
        [
         "Japan",
         8,
         3127.88
        ],
        [
         "Japan",
         9,
         44219.36000000001
        ],
        [
         "Japan",
         10,
         77809.37000000001
        ],
        [
         "Japan",
         11,
         94659.36
        ],
        [
         "NA",
         1,
         232862.06999999998
        ],
        [
         "NA",
         2,
         248421.79
        ],
        [
         "NA",
         3,
         268806.28
        ],
        [
         "NA",
         4,
         238928.20000000007
        ],
        [
         "NA",
         5,
         334105.7
        ],
        [
         "NA",
         6,
         200461.95
        ],
        [
         "NA",
         7,
         207946.16000000006
        ],
        [
         "NA",
         8,
         441311.45
        ],
        [
         "NA",
         9,
         144178.91
        ],
        [
         "NA",
         10,
         452653.8799999999
        ],
        [
         "NA",
         11,
         757278.9700000004
        ],
        [
         "NA",
         12,
         325106.02999999997
        ]
       ],
       "datasetInfos": [],
       "dbfsResultPath": null,
       "isJsonSchema": true,
       "metadata": {},
       "overflow": false,
       "plotOptions": {
        "customPlotOptions": {},
        "displayType": "table",
        "pivotAggregation": null,
        "pivotColumns": null,
        "xColumns": null,
        "yColumns": null
       },
       "removedWidgets": [],
       "schema": [
        {
         "metadata": "{}",
         "name": "TERRITORY",
         "type": "\"string\""
        },
        {
         "metadata": "{}",
         "name": "MONTH_ID",
         "type": "\"integer\""
        },
        {
         "metadata": "{}",
         "name": "Total_sales",
         "type": "\"double\""
        }
       ],
       "type": "table"
      }
     },
     "output_type": "display_data"
    },
    {
     "output_type": "display_data",
     "data": {
      "text/plain": [
       "Databricks visualization. Run in Databricks to view."
      ]
     },
     "metadata": {
      "application/vnd.databricks.v1.subcommand+json": {
       "baseErrorDetails": null,
       "bindings": {},
       "collapsed": false,
       "command": "%sql WITH q AS (select MONTH_ID,TERRITORY,sum(SALES) as Total_sum\nfrom productsales\ngroup by MONTH_ID,TERRITORY\norder by MONTH_ID) SELECT `MONTH_ID`,SUM(`Total_sum`) `column_688423357`,`TERRITORY` FROM q GROUP BY `MONTH_ID`,`TERRITORY`",
       "commandTitle": "Visualization 1",
       "commandType": "auto",
       "commandVersion": 0,
       "commentThread": [],
       "commentsVisible": false,
       "contentSha256Hex": null,
       "customPlotOptions": {
        "redashChart": [
         {
          "key": "type",
          "value": "CHART"
         },
         {
          "key": "options",
          "value": {
           "alignYAxesAtZero": true,
           "coefficient": 1,
           "columnConfigurationMap": {
            "series": {
             "column": "TERRITORY",
             "id": "column_688423358"
            },
            "x": {
             "column": "MONTH_ID",
             "id": "column_688423356"
            },
            "y": [
             {
              "column": "Total_sales",
              "id": "column_688423357",
              "transform": "SUM"
             }
            ]
           },
           "dateTimeFormat": "DD/MM/YYYY HH:mm",
           "direction": {
            "type": "counterclockwise"
           },
           "error_y": {
            "type": "data",
            "visible": true
           },
           "globalSeriesType": "line",
           "isAggregationOn": true,
           "legend": {
            "traceorder": "normal"
           },
           "missingValuesAsZero": false,
           "numberFormat": "0,0.[00000]",
           "percentFormat": "0[.]00%",
           "series": {
            "error_y": {
             "type": "data",
             "visible": true
            },
            "stacking": null
           },
           "seriesOptions": {
            "column_688423357": {
             "name": "Total_sum",
             "type": "line",
             "yAxis": 0
            }
           },
           "showDataLabels": false,
           "sizemode": "diameter",
           "sortX": true,
           "sortY": true,
           "swappedAxes": false,
           "textFormat": "",
           "useAggregationsUi": true,
           "valuesOptions": {},
           "version": 2,
           "xAxis": {
            "labels": {
             "enabled": true
            },
            "type": "-"
           },
           "yAxis": [
            {
             "title": {
              "text": "Total sales"
             },
             "type": "-"
            },
            {
             "opposite": true,
             "type": "-"
            }
           ]
          }
         }
        ]
       },
       "datasetPreviewNameToCmdIdMap": {},
       "diffDeletes": [],
       "diffInserts": [],
       "displayType": "redashChart",
       "error": null,
       "errorDetails": null,
       "errorSummary": null,
       "errorTraceType": null,
       "finishTime": 0,
       "globalVars": {},
       "guid": "",
       "height": "auto",
       "hideCommandCode": false,
       "hideCommandResult": false,
       "iPythonMetadata": null,
       "inputWidgets": {},
       "isLockedInExamMode": false,
       "latestUser": "a user",
       "latestUserId": null,
       "listResultMetadata": null,
       "metadata": {},
       "nuid": "ff94946b-6dfc-4f0e-b19a-4b5388053951",
       "origId": 0,
       "parentHierarchy": [],
       "pivotAggregation": null,
       "pivotColumns": null,
       "position": 16.999481201171875,
       "resultDbfsErrorMessage": null,
       "resultDbfsStatus": "INLINED_IN_TREE",
       "results": null,
       "showCommandTitle": false,
       "startTime": 0,
       "state": "input",
       "streamStates": {},
       "subcommandOptions": {
        "queryPlan": {
         "groups": [
          {
           "column": "MONTH_ID",
           "type": "column"
          },
          {
           "column": "TERRITORY",
           "type": "column"
          }
         ],
         "selects": [
          {
           "column": "MONTH_ID",
           "type": "column"
          },
          {
           "alias": "column_688423357",
           "args": [
            {
             "column": "Total_sales",
             "type": "column"
            }
           ],
           "function": "SUM",
           "type": "function"
          },
          {
           "column": "TERRITORY",
           "type": "column"
          }
         ]
        }
       },
       "submitTime": 0,
       "subtype": "tableResultSubCmd.visualization",
       "tableResultIndex": 0,
       "tableResultSettingsMap": null,
       "useConsistentColors": false,
       "version": "CommandV1",
       "width": "auto",
       "workflows": [],
       "xColumns": null,
       "yColumns": null
      }
     },
     "output_type": "display_data"
    }
   ],
   "source": [
    "%sql\n",
    "\n",
    "select TERRITORY,MONTH_ID,sum(SALES) as Total_sales\n",
    "from productsales\n",
    "group by TERRITORY,MONTH_ID\n",
    "order by TERRITORY,MONTH_ID"
   ]
  },
  {
   "cell_type": "markdown",
   "metadata": {
    "application/vnd.databricks.v1+cell": {
     "cellMetadata": {},
     "inputWidgets": {},
     "nuid": "12a631b9-8993-445f-8540-2259c9d454e8",
     "showTitle": false,
     "title": ""
    }
   },
   "source": [
    "#### 3. Identify Consecutive Quarters of Sales Decline for Each Product"
   ]
  },
  {
   "cell_type": "code",
   "execution_count": 0,
   "metadata": {
    "application/vnd.databricks.v1+cell": {
     "cellMetadata": {
      "byteLimit": 2048000,
      "implicitDf": true,
      "rowLimit": 10000
     },
     "inputWidgets": {},
     "nuid": "8c595de6-0b55-43f8-a465-ce2b5a1d0468",
     "showTitle": false,
     "title": ""
    }
   },
   "outputs": [
    {
     "output_type": "display_data",
     "data": {
      "text/html": [
       "<style scoped>\n",
       "  .table-result-container {\n",
       "    max-height: 300px;\n",
       "    overflow: auto;\n",
       "  }\n",
       "  table, th, td {\n",
       "    border: 1px solid black;\n",
       "    border-collapse: collapse;\n",
       "  }\n",
       "  th, td {\n",
       "    padding: 5px;\n",
       "  }\n",
       "  th {\n",
       "    text-align: left;\n",
       "  }\n",
       "</style><div class='table-result-container'><table class='table-result'><thead style='background-color: white'><tr><th>productline</th><th>QTR_ID</th><th>Total_sales</th><th>previous_Quarter_sales</th><th>decline</th></tr></thead><tbody><tr><td>Classic Cars</td><td>1</td><td>880278.9000000003</td><td>0.0</td><td>880278.9000000003</td></tr><tr><td>Classic Cars</td><td>2</td><td>766618.7299999999</td><td>880278.9000000003</td><td>-113660.17000000039</td></tr><tr><td>Classic Cars</td><td>3</td><td>745268.4600000001</td><td>766618.7299999999</td><td>-21350.269999999786</td></tr><tr><td>Classic Cars</td><td>4</td><td>1527449.569999999</td><td>745268.4600000001</td><td>782181.1099999988</td></tr><tr><td>Motorcycles</td><td>1</td><td>264385.54</td><td>0.0</td><td>264385.54</td></tr><tr><td>Motorcycles</td><td>2</td><td>277822.26999999996</td><td>264385.54</td><td>13436.729999999981</td></tr><tr><td>Motorcycles</td><td>3</td><td>213194.7</td><td>277822.26999999996</td><td>-64627.56999999995</td></tr><tr><td>Motorcycles</td><td>4</td><td>410985.8299999999</td><td>213194.7</td><td>197791.1299999999</td></tr><tr><td>Planes</td><td>1</td><td>234356.50999999995</td><td>0.0</td><td>234356.50999999995</td></tr><tr><td>Planes</td><td>2</td><td>247054.74999999997</td><td>234356.50999999995</td><td>12698.24000000002</td></tr><tr><td>Planes</td><td>3</td><td>143052.95000000007</td><td>247054.74999999997</td><td>-104001.7999999999</td></tr><tr><td>Planes</td><td>4</td><td>350539.3599999998</td><td>143052.95000000007</td><td>207486.40999999974</td></tr><tr><td>Ships</td><td>1</td><td>203877.3</td><td>0.0</td><td>203877.3</td></tr><tr><td>Ships</td><td>2</td><td>143114.27999999994</td><td>203877.3</td><td>-60763.02000000005</td></tr><tr><td>Ships</td><td>3</td><td>120498.22000000003</td><td>143114.27999999994</td><td>-22616.05999999991</td></tr><tr><td>Ships</td><td>4</td><td>246947.33000000007</td><td>120498.22000000003</td><td>126449.11000000004</td></tr><tr><td>Trains</td><td>1</td><td>58115.8</td><td>0.0</td><td>58115.8</td></tr><tr><td>Trains</td><td>2</td><td>35284.87</td><td>58115.8</td><td>-22830.93</td></tr><tr><td>Trains</td><td>3</td><td>39450.159999999996</td><td>35284.87</td><td>4165.289999999994</td></tr><tr><td>Trains</td><td>4</td><td>93392.64000000003</td><td>39450.159999999996</td><td>53942.48000000003</td></tr><tr><td>Trucks and Buses</td><td>1</td><td>208619.03999999998</td><td>0.0</td><td>208619.03999999998</td></tr><tr><td>Trucks and Buses</td><td>2</td><td>240838.42000000007</td><td>208619.03999999998</td><td>32219.380000000092</td></tr><tr><td>Trucks and Buses</td><td>3</td><td>199511.01000000007</td><td>240838.42000000007</td><td>-41327.41</td></tr><tr><td>Trucks and Buses</td><td>4</td><td>478821.36999999994</td><td>199511.01000000007</td><td>279310.35999999987</td></tr><tr><td>Vintage Cars</td><td>1</td><td>501184.6400000001</td><td>0.0</td><td>501184.6400000001</td></tr><tr><td>Vintage Cars</td><td>2</td><td>337386.98</td><td>501184.6400000001</td><td>-163797.6600000001</td></tr><tr><td>Vintage Cars</td><td>3</td><td>297935.30999999994</td><td>337386.98</td><td>-39451.67000000004</td></tr><tr><td>Vintage Cars</td><td>4</td><td>766643.9099999997</td><td>297935.30999999994</td><td>468708.59999999974</td></tr></tbody></table></div>"
      ]
     },
     "metadata": {
      "application/vnd.databricks.v1+output": {
       "addedWidgets": {},
       "aggData": [],
       "aggError": "",
       "aggOverflow": false,
       "aggSchema": [],
       "aggSeriesLimitReached": false,
       "aggType": "",
       "arguments": {},
       "columnCustomDisplayInfos": {},
       "data": [
        [
         "Classic Cars",
         1,
         880278.9000000003,
         0.0,
         880278.9000000003
        ],
        [
         "Classic Cars",
         2,
         766618.7299999999,
         880278.9000000003,
         -113660.17000000039
        ],
        [
         "Classic Cars",
         3,
         745268.4600000001,
         766618.7299999999,
         -21350.269999999786
        ],
        [
         "Classic Cars",
         4,
         1527449.569999999,
         745268.4600000001,
         782181.1099999988
        ],
        [
         "Motorcycles",
         1,
         264385.54,
         0.0,
         264385.54
        ],
        [
         "Motorcycles",
         2,
         277822.26999999996,
         264385.54,
         13436.729999999981
        ],
        [
         "Motorcycles",
         3,
         213194.7,
         277822.26999999996,
         -64627.56999999995
        ],
        [
         "Motorcycles",
         4,
         410985.8299999999,
         213194.7,
         197791.1299999999
        ],
        [
         "Planes",
         1,
         234356.50999999995,
         0.0,
         234356.50999999995
        ],
        [
         "Planes",
         2,
         247054.74999999997,
         234356.50999999995,
         12698.24000000002
        ],
        [
         "Planes",
         3,
         143052.95000000007,
         247054.74999999997,
         -104001.7999999999
        ],
        [
         "Planes",
         4,
         350539.3599999998,
         143052.95000000007,
         207486.40999999974
        ],
        [
         "Ships",
         1,
         203877.3,
         0.0,
         203877.3
        ],
        [
         "Ships",
         2,
         143114.27999999994,
         203877.3,
         -60763.02000000005
        ],
        [
         "Ships",
         3,
         120498.22000000003,
         143114.27999999994,
         -22616.05999999991
        ],
        [
         "Ships",
         4,
         246947.33000000007,
         120498.22000000003,
         126449.11000000004
        ],
        [
         "Trains",
         1,
         58115.8,
         0.0,
         58115.8
        ],
        [
         "Trains",
         2,
         35284.87,
         58115.8,
         -22830.93
        ],
        [
         "Trains",
         3,
         39450.159999999996,
         35284.87,
         4165.289999999994
        ],
        [
         "Trains",
         4,
         93392.64000000003,
         39450.159999999996,
         53942.48000000003
        ],
        [
         "Trucks and Buses",
         1,
         208619.03999999998,
         0.0,
         208619.03999999998
        ],
        [
         "Trucks and Buses",
         2,
         240838.42000000007,
         208619.03999999998,
         32219.380000000092
        ],
        [
         "Trucks and Buses",
         3,
         199511.01000000007,
         240838.42000000007,
         -41327.41
        ],
        [
         "Trucks and Buses",
         4,
         478821.36999999994,
         199511.01000000007,
         279310.35999999987
        ],
        [
         "Vintage Cars",
         1,
         501184.6400000001,
         0.0,
         501184.6400000001
        ],
        [
         "Vintage Cars",
         2,
         337386.98,
         501184.6400000001,
         -163797.6600000001
        ],
        [
         "Vintage Cars",
         3,
         297935.30999999994,
         337386.98,
         -39451.67000000004
        ],
        [
         "Vintage Cars",
         4,
         766643.9099999997,
         297935.30999999994,
         468708.59999999974
        ]
       ],
       "datasetInfos": [],
       "dbfsResultPath": null,
       "isJsonSchema": true,
       "metadata": {},
       "overflow": false,
       "plotOptions": {
        "customPlotOptions": {},
        "displayType": "table",
        "pivotAggregation": null,
        "pivotColumns": null,
        "xColumns": null,
        "yColumns": null
       },
       "removedWidgets": [],
       "schema": [
        {
         "metadata": "{}",
         "name": "productline",
         "type": "\"string\""
        },
        {
         "metadata": "{}",
         "name": "QTR_ID",
         "type": "\"integer\""
        },
        {
         "metadata": "{}",
         "name": "Total_sales",
         "type": "\"double\""
        },
        {
         "metadata": "{}",
         "name": "previous_Quarter_sales",
         "type": "\"double\""
        },
        {
         "metadata": "{}",
         "name": "decline",
         "type": "\"double\""
        }
       ],
       "type": "table"
      }
     },
     "output_type": "display_data"
    },
    {
     "output_type": "display_data",
     "data": {
      "text/plain": [
       "Databricks visualization. Run in Databricks to view."
      ]
     },
     "metadata": {
      "application/vnd.databricks.v1.subcommand+json": {
       "baseErrorDetails": null,
       "bindings": {},
       "collapsed": false,
       "command": "%sql WITH q AS (select *, Total_sales - previous_Quarter_sales as decline\nfrom\n(select *, lag(Total_sales,1,0) over (partition by productline order by QTR_ID) as previous_Quarter_sales\nfrom\n(select  productline,QTR_ID, sum(sales) as Total_sales\nfrom productsales\ngroup by productline,QTR_ID) _ ) as subquery) SELECT `QTR_ID`,SUM(`decline`) `column_6884233512`,`productline` FROM q GROUP BY `QTR_ID`,`productline`",
       "commandTitle": "Visualization 1",
       "commandType": "auto",
       "commandVersion": 0,
       "commentThread": [],
       "commentsVisible": false,
       "contentSha256Hex": null,
       "customPlotOptions": {
        "redashChart": [
         {
          "key": "type",
          "value": "CHART"
         },
         {
          "key": "options",
          "value": {
           "alignYAxesAtZero": true,
           "coefficient": 1,
           "columnConfigurationMap": {
            "series": {
             "column": "productline",
             "id": "column_6884233514"
            },
            "x": {
             "column": "QTR_ID",
             "id": "column_6884233510"
            },
            "y": [
             {
              "column": "decline",
              "id": "column_6884233512",
              "transform": "SUM"
             }
            ]
           },
           "dateTimeFormat": "DD/MM/YYYY HH:mm",
           "direction": {
            "type": "counterclockwise"
           },
           "error_y": {
            "type": "data",
            "visible": true
           },
           "globalSeriesType": "line",
           "isAggregationOn": true,
           "legend": {
            "traceorder": "normal"
           },
           "missingValuesAsZero": true,
           "numberFormat": "0,0.[00000]",
           "percentFormat": "0[.]00%",
           "series": {
            "error_y": {
             "type": "data",
             "visible": true
            },
            "stacking": null
           },
           "seriesOptions": {
            "column_6884233512": {
             "type": "line",
             "yAxis": 0
            }
           },
           "showDataLabels": false,
           "sizemode": "diameter",
           "sortX": true,
           "sortY": true,
           "swappedAxes": false,
           "textFormat": "",
           "useAggregationsUi": true,
           "valuesOptions": {},
           "version": 2,
           "xAxis": {
            "labels": {
             "enabled": true
            },
            "type": "-"
           },
           "yAxis": [
            {
             "title": {
              "text": "Decline"
             },
             "type": "-"
            },
            {
             "opposite": true,
             "type": "-"
            }
           ]
          }
         }
        ]
       },
       "datasetPreviewNameToCmdIdMap": {},
       "diffDeletes": [],
       "diffInserts": [],
       "displayType": "redashChart",
       "error": null,
       "errorDetails": null,
       "errorSummary": null,
       "errorTraceType": null,
       "finishTime": 0,
       "globalVars": {},
       "guid": "",
       "height": "390",
       "hideCommandCode": false,
       "hideCommandResult": false,
       "iPythonMetadata": null,
       "inputWidgets": {},
       "isLockedInExamMode": false,
       "latestUser": "a user",
       "latestUserId": null,
       "listResultMetadata": null,
       "metadata": {},
       "nuid": "ae654bc6-3b69-491d-9db4-69d61490a084",
       "origId": 0,
       "parentHierarchy": [],
       "pivotAggregation": null,
       "pivotColumns": null,
       "position": 16.99950408935547,
       "resultDbfsErrorMessage": null,
       "resultDbfsStatus": "INLINED_IN_TREE",
       "results": null,
       "showCommandTitle": false,
       "startTime": 0,
       "state": "input",
       "streamStates": {},
       "subcommandOptions": {
        "queryPlan": {
         "groups": [
          {
           "column": "QTR_ID",
           "type": "column"
          },
          {
           "column": "productline",
           "type": "column"
          }
         ],
         "selects": [
          {
           "column": "QTR_ID",
           "type": "column"
          },
          {
           "alias": "column_6884233512",
           "args": [
            {
             "column": "decline",
             "type": "column"
            }
           ],
           "function": "SUM",
           "type": "function"
          },
          {
           "column": "productline",
           "type": "column"
          }
         ]
        }
       },
       "submitTime": 0,
       "subtype": "tableResultSubCmd.visualization",
       "tableResultIndex": 0,
       "tableResultSettingsMap": null,
       "useConsistentColors": false,
       "version": "CommandV1",
       "width": "auto",
       "workflows": [],
       "xColumns": null,
       "yColumns": null
      }
     },
     "output_type": "display_data"
    }
   ],
   "source": [
    "%sql\n",
    "SELECT \n",
    "    productline,\n",
    "    QTR_ID,\n",
    "    Total_sales,\n",
    "    previous_Quarter_sales,\n",
    "    Total_sales - previous_Quarter_sales AS decline\n",
    "FROM (\n",
    "    SELECT \n",
    "        productline,\n",
    "        QTR_ID,\n",
    "        SUM(sales) AS Total_sales,\n",
    "        LAG(SUM(sales), 1, 0) OVER (PARTITION BY productline ORDER BY QTR_ID) AS previous_Quarter_sales\n",
    "    FROM \n",
    "        productsales\n",
    "    GROUP BY \n",
    "        productline, QTR_ID\n",
    ") AS subquery"
   ]
  },
  {
   "cell_type": "markdown",
   "metadata": {
    "application/vnd.databricks.v1+cell": {
     "cellMetadata": {},
     "inputWidgets": {},
     "nuid": "400a59c6-4aaf-4e18-bcd0-1e7b4bf37ca3",
     "showTitle": false,
     "title": ""
    }
   },
   "source": [
    "#### 4. Median Sales for Each Product Line in Every Quarter"
   ]
  },
  {
   "cell_type": "code",
   "execution_count": 0,
   "metadata": {
    "application/vnd.databricks.v1+cell": {
     "cellMetadata": {
      "byteLimit": 2048000,
      "implicitDf": true,
      "rowLimit": 10000
     },
     "inputWidgets": {},
     "nuid": "8a6a5dc3-5bb3-4cf3-b509-b696dfd71217",
     "showTitle": false,
     "title": ""
    }
   },
   "outputs": [
    {
     "output_type": "display_data",
     "data": {
      "text/html": [
       "<style scoped>\n",
       "  .table-result-container {\n",
       "    max-height: 300px;\n",
       "    overflow: auto;\n",
       "  }\n",
       "  table, th, td {\n",
       "    border: 1px solid black;\n",
       "    border-collapse: collapse;\n",
       "  }\n",
       "  th, td {\n",
       "    padding: 5px;\n",
       "  }\n",
       "  th {\n",
       "    text-align: left;\n",
       "  }\n",
       "</style><div class='table-result-container'><table class='table-result'><thead style='background-color: white'><tr><th>QTR_ID</th><th>productline</th><th>median_sales</th></tr></thead><tbody><tr><td>1</td><td>Classic Cars</td><td>3970.56</td></tr><tr><td>1</td><td>Motorcycles</td><td>3214.56</td></tr><tr><td>1</td><td>Planes</td><td>2951.49</td></tr><tr><td>1</td><td>Ships</td><td>2914.2</td></tr><tr><td>1</td><td>Trains</td><td>2198.01</td></tr><tr><td>1</td><td>Trucks and Buses</td><td>3377.49</td></tr><tr><td>1</td><td>Vintage Cars</td><td>3024.5</td></tr><tr><td>2</td><td>Classic Cars</td><td>3922.56</td></tr><tr><td>2</td><td>Motorcycles</td><td>2958.34</td></tr><tr><td>2</td><td>Planes</td><td>2719.3100000000004</td></tr><tr><td>2</td><td>Ships</td><td>3028.44</td></tr><tr><td>2</td><td>Trains</td><td>2591.505</td></tr><tr><td>2</td><td>Trucks and Buses</td><td>3460.86</td></tr><tr><td>2</td><td>Vintage Cars</td><td>2795.27</td></tr><tr><td>3</td><td>Classic Cars</td><td>3754.05</td></tr><tr><td>3</td><td>Motorcycles</td><td>3095.1899999999996</td></tr><tr><td>3</td><td>Planes</td><td>2518.415</td></tr><tr><td>3</td><td>Ships</td><td>2746.3450000000003</td></tr><tr><td>3</td><td>Trains</td><td>2418.24</td></tr><tr><td>3</td><td>Trucks and Buses</td><td>3220.1</td></tr><tr><td>3</td><td>Vintage Cars</td><td>2800.24</td></tr><tr><td>4</td><td>Classic Cars</td><td>3609.3599999999997</td></tr><tr><td>4</td><td>Motorcycles</td><td>3199.98</td></tr><tr><td>4</td><td>Planes</td><td>3123.8149999999996</td></tr><tr><td>4</td><td>Ships</td><td>2854.75</td></tr><tr><td>4</td><td>Trains</td><td>2541.1949999999997</td></tr><tr><td>4</td><td>Trucks and Buses</td><td>3586.43</td></tr><tr><td>4</td><td>Vintage Cars</td><td>2725.47</td></tr></tbody></table></div>"
      ]
     },
     "metadata": {
      "application/vnd.databricks.v1+output": {
       "addedWidgets": {},
       "aggData": [],
       "aggError": "",
       "aggOverflow": false,
       "aggSchema": [],
       "aggSeriesLimitReached": false,
       "aggType": "",
       "arguments": {},
       "columnCustomDisplayInfos": {},
       "data": [
        [
         1,
         "Classic Cars",
         3970.56
        ],
        [
         1,
         "Motorcycles",
         3214.56
        ],
        [
         1,
         "Planes",
         2951.49
        ],
        [
         1,
         "Ships",
         2914.2
        ],
        [
         1,
         "Trains",
         2198.01
        ],
        [
         1,
         "Trucks and Buses",
         3377.49
        ],
        [
         1,
         "Vintage Cars",
         3024.5
        ],
        [
         2,
         "Classic Cars",
         3922.56
        ],
        [
         2,
         "Motorcycles",
         2958.34
        ],
        [
         2,
         "Planes",
         2719.3100000000004
        ],
        [
         2,
         "Ships",
         3028.44
        ],
        [
         2,
         "Trains",
         2591.505
        ],
        [
         2,
         "Trucks and Buses",
         3460.86
        ],
        [
         2,
         "Vintage Cars",
         2795.27
        ],
        [
         3,
         "Classic Cars",
         3754.05
        ],
        [
         3,
         "Motorcycles",
         3095.1899999999996
        ],
        [
         3,
         "Planes",
         2518.415
        ],
        [
         3,
         "Ships",
         2746.3450000000003
        ],
        [
         3,
         "Trains",
         2418.24
        ],
        [
         3,
         "Trucks and Buses",
         3220.1
        ],
        [
         3,
         "Vintage Cars",
         2800.24
        ],
        [
         4,
         "Classic Cars",
         3609.3599999999997
        ],
        [
         4,
         "Motorcycles",
         3199.98
        ],
        [
         4,
         "Planes",
         3123.8149999999996
        ],
        [
         4,
         "Ships",
         2854.75
        ],
        [
         4,
         "Trains",
         2541.1949999999997
        ],
        [
         4,
         "Trucks and Buses",
         3586.43
        ],
        [
         4,
         "Vintage Cars",
         2725.47
        ]
       ],
       "datasetInfos": [],
       "dbfsResultPath": null,
       "isJsonSchema": true,
       "metadata": {},
       "overflow": false,
       "plotOptions": {
        "customPlotOptions": {},
        "displayType": "table",
        "pivotAggregation": null,
        "pivotColumns": null,
        "xColumns": null,
        "yColumns": null
       },
       "removedWidgets": [],
       "schema": [
        {
         "metadata": "{}",
         "name": "QTR_ID",
         "type": "\"integer\""
        },
        {
         "metadata": "{}",
         "name": "productline",
         "type": "\"string\""
        },
        {
         "metadata": "{}",
         "name": "median_sales",
         "type": "\"double\""
        }
       ],
       "type": "table"
      }
     },
     "output_type": "display_data"
    },
    {
     "output_type": "display_data",
     "data": {
      "text/plain": [
       "Databricks visualization. Run in Databricks to view."
      ]
     },
     "metadata": {
      "application/vnd.databricks.v1.subcommand+json": {
       "baseErrorDetails": null,
       "bindings": {},
       "collapsed": false,
       "command": "%sql WITH q AS (select productline,QTR_ID,median(sales) as median_sales\nfrom productsales\ngroup by productline,QTR_ID\norder by productline,QTR_ID) SELECT `QTR_ID`,SUM(`median_sales`) `column_6884233521`,`productline` FROM q GROUP BY `QTR_ID`,`productline`",
       "commandTitle": "Visualization 1",
       "commandType": "auto",
       "commandVersion": 0,
       "commentThread": [],
       "commentsVisible": false,
       "contentSha256Hex": null,
       "customPlotOptions": {
        "redashChart": [
         {
          "key": "type",
          "value": "CHART"
         },
         {
          "key": "options",
          "value": {
           "alignYAxesAtZero": true,
           "coefficient": 1,
           "columnConfigurationMap": {
            "series": {
             "column": "productline",
             "id": "column_6884233522"
            },
            "x": {
             "column": "QTR_ID",
             "id": "column_6884233520"
            },
            "y": [
             {
              "column": "median_sales",
              "id": "column_6884233521",
              "transform": "SUM"
             }
            ]
           },
           "dateTimeFormat": "DD/MM/YYYY HH:mm",
           "direction": {
            "type": "counterclockwise"
           },
           "error_y": {
            "type": "data",
            "visible": true
           },
           "globalSeriesType": "line",
           "isAggregationOn": true,
           "legend": {
            "traceorder": "normal"
           },
           "missingValuesAsZero": true,
           "numberFormat": "0,0.[00000]",
           "percentFormat": "0[.]00%",
           "series": {
            "error_y": {
             "type": "data",
             "visible": true
            },
            "stacking": null
           },
           "seriesOptions": {
            "column_6884233521": {
             "name": "median_sales",
             "type": "line",
             "yAxis": 0
            }
           },
           "showDataLabels": false,
           "sizemode": "diameter",
           "sortX": true,
           "sortY": true,
           "swappedAxes": false,
           "textFormat": "",
           "useAggregationsUi": true,
           "valuesOptions": {},
           "version": 2,
           "xAxis": {
            "labels": {
             "enabled": true
            },
            "type": "-"
           },
           "yAxis": [
            {
             "title": {
              "text": "Median_Sales"
             },
             "type": "-"
            },
            {
             "opposite": true,
             "type": "-"
            }
           ]
          }
         }
        ]
       },
       "datasetPreviewNameToCmdIdMap": {},
       "diffDeletes": [],
       "diffInserts": [],
       "displayType": "redashChart",
       "error": null,
       "errorDetails": null,
       "errorSummary": null,
       "errorTraceType": null,
       "finishTime": 0,
       "globalVars": {},
       "guid": "",
       "height": "auto",
       "hideCommandCode": false,
       "hideCommandResult": false,
       "iPythonMetadata": null,
       "inputWidgets": {},
       "isLockedInExamMode": false,
       "latestUser": "a user",
       "latestUserId": null,
       "listResultMetadata": null,
       "metadata": {},
       "nuid": "f934f091-742a-431c-bc02-5339ca714099",
       "origId": 0,
       "parentHierarchy": [],
       "pivotAggregation": null,
       "pivotColumns": null,
       "position": 16.999506950378418,
       "resultDbfsErrorMessage": null,
       "resultDbfsStatus": "INLINED_IN_TREE",
       "results": null,
       "showCommandTitle": false,
       "startTime": 0,
       "state": "input",
       "streamStates": {},
       "subcommandOptions": {
        "queryPlan": {
         "groups": [
          {
           "column": "QTR_ID",
           "type": "column"
          },
          {
           "column": "productline",
           "type": "column"
          }
         ],
         "selects": [
          {
           "column": "QTR_ID",
           "type": "column"
          },
          {
           "alias": "column_6884233521",
           "args": [
            {
             "column": "median_sales",
             "type": "column"
            }
           ],
           "function": "SUM",
           "type": "function"
          },
          {
           "column": "productline",
           "type": "column"
          }
         ]
        }
       },
       "submitTime": 0,
       "subtype": "tableResultSubCmd.visualization",
       "tableResultIndex": 0,
       "tableResultSettingsMap": null,
       "useConsistentColors": false,
       "version": "CommandV1",
       "width": "auto",
       "workflows": [],
       "xColumns": null,
       "yColumns": null
      }
     },
     "output_type": "display_data"
    }
   ],
   "source": [
    "%sql \n",
    "select QTR_ID,productline,median(sales) as median_sales\n",
    "from productsales\n",
    "group by QTR_ID,productline\n",
    "order by QTR_ID,productline"
   ]
  },
  {
   "cell_type": "markdown",
   "metadata": {
    "application/vnd.databricks.v1+cell": {
     "cellMetadata": {},
     "inputWidgets": {},
     "nuid": "489ff6c3-98b3-400f-97ba-5cf8f20ae098",
     "showTitle": false,
     "title": ""
    }
   },
   "source": [
    "#### 5. Percent Rank of Products Based on Gross Sales Amount in Each Quarter"
   ]
  },
  {
   "cell_type": "code",
   "execution_count": 0,
   "metadata": {
    "application/vnd.databricks.v1+cell": {
     "cellMetadata": {
      "byteLimit": 2048000,
      "implicitDf": true,
      "rowLimit": 10000
     },
     "inputWidgets": {},
     "nuid": "f3b8aba7-a4d3-4b4e-8530-8ba46c0de36b",
     "showTitle": false,
     "title": ""
    }
   },
   "outputs": [
    {
     "output_type": "display_data",
     "data": {
      "text/html": [
       "<style scoped>\n",
       "  .table-result-container {\n",
       "    max-height: 300px;\n",
       "    overflow: auto;\n",
       "  }\n",
       "  table, th, td {\n",
       "    border: 1px solid black;\n",
       "    border-collapse: collapse;\n",
       "  }\n",
       "  th, td {\n",
       "    padding: 5px;\n",
       "  }\n",
       "  th {\n",
       "    text-align: left;\n",
       "  }\n",
       "</style><div class='table-result-container'><table class='table-result'><thead style='background-color: white'><tr><th>QTR_ID</th><th>productline</th><th>Gross_Sales</th><th>percent_rank</th></tr></thead><tbody><tr><td>1</td><td>Trains</td><td>58115.8</td><td>0.0</td></tr><tr><td>1</td><td>Ships</td><td>203877.3</td><td>0.167</td></tr><tr><td>1</td><td>Trucks and Buses</td><td>208619.03999999998</td><td>0.333</td></tr><tr><td>1</td><td>Planes</td><td>234356.50999999995</td><td>0.5</td></tr><tr><td>1</td><td>Motorcycles</td><td>264385.54</td><td>0.667</td></tr><tr><td>1</td><td>Vintage Cars</td><td>501184.6400000001</td><td>0.833</td></tr><tr><td>1</td><td>Classic Cars</td><td>880278.9000000003</td><td>1.0</td></tr><tr><td>2</td><td>Trains</td><td>35284.87</td><td>0.0</td></tr><tr><td>2</td><td>Ships</td><td>143114.27999999994</td><td>0.167</td></tr><tr><td>2</td><td>Trucks and Buses</td><td>240838.42000000007</td><td>0.333</td></tr><tr><td>2</td><td>Planes</td><td>247054.74999999997</td><td>0.5</td></tr><tr><td>2</td><td>Motorcycles</td><td>277822.26999999996</td><td>0.667</td></tr><tr><td>2</td><td>Vintage Cars</td><td>337386.98</td><td>0.833</td></tr><tr><td>2</td><td>Classic Cars</td><td>766618.7299999999</td><td>1.0</td></tr><tr><td>3</td><td>Trains</td><td>39450.159999999996</td><td>0.0</td></tr><tr><td>3</td><td>Ships</td><td>120498.22000000003</td><td>0.167</td></tr><tr><td>3</td><td>Planes</td><td>143052.95000000007</td><td>0.333</td></tr><tr><td>3</td><td>Trucks and Buses</td><td>199511.01000000007</td><td>0.5</td></tr><tr><td>3</td><td>Motorcycles</td><td>213194.7</td><td>0.667</td></tr><tr><td>3</td><td>Vintage Cars</td><td>297935.30999999994</td><td>0.833</td></tr><tr><td>3</td><td>Classic Cars</td><td>745268.4600000001</td><td>1.0</td></tr><tr><td>4</td><td>Trains</td><td>93392.64000000003</td><td>0.0</td></tr><tr><td>4</td><td>Ships</td><td>246947.33000000007</td><td>0.167</td></tr><tr><td>4</td><td>Planes</td><td>350539.3599999998</td><td>0.333</td></tr><tr><td>4</td><td>Motorcycles</td><td>410985.8299999999</td><td>0.5</td></tr><tr><td>4</td><td>Trucks and Buses</td><td>478821.36999999994</td><td>0.667</td></tr><tr><td>4</td><td>Vintage Cars</td><td>766643.9099999997</td><td>0.833</td></tr><tr><td>4</td><td>Classic Cars</td><td>1527449.569999999</td><td>1.0</td></tr></tbody></table></div>"
      ]
     },
     "metadata": {
      "application/vnd.databricks.v1+output": {
       "addedWidgets": {},
       "aggData": [],
       "aggError": "",
       "aggOverflow": false,
       "aggSchema": [],
       "aggSeriesLimitReached": false,
       "aggType": "",
       "arguments": {},
       "columnCustomDisplayInfos": {},
       "data": [
        [
         1,
         "Trains",
         58115.8,
         0.0
        ],
        [
         1,
         "Ships",
         203877.3,
         0.167
        ],
        [
         1,
         "Trucks and Buses",
         208619.03999999998,
         0.333
        ],
        [
         1,
         "Planes",
         234356.50999999995,
         0.5
        ],
        [
         1,
         "Motorcycles",
         264385.54,
         0.667
        ],
        [
         1,
         "Vintage Cars",
         501184.6400000001,
         0.833
        ],
        [
         1,
         "Classic Cars",
         880278.9000000003,
         1.0
        ],
        [
         2,
         "Trains",
         35284.87,
         0.0
        ],
        [
         2,
         "Ships",
         143114.27999999994,
         0.167
        ],
        [
         2,
         "Trucks and Buses",
         240838.42000000007,
         0.333
        ],
        [
         2,
         "Planes",
         247054.74999999997,
         0.5
        ],
        [
         2,
         "Motorcycles",
         277822.26999999996,
         0.667
        ],
        [
         2,
         "Vintage Cars",
         337386.98,
         0.833
        ],
        [
         2,
         "Classic Cars",
         766618.7299999999,
         1.0
        ],
        [
         3,
         "Trains",
         39450.159999999996,
         0.0
        ],
        [
         3,
         "Ships",
         120498.22000000003,
         0.167
        ],
        [
         3,
         "Planes",
         143052.95000000007,
         0.333
        ],
        [
         3,
         "Trucks and Buses",
         199511.01000000007,
         0.5
        ],
        [
         3,
         "Motorcycles",
         213194.7,
         0.667
        ],
        [
         3,
         "Vintage Cars",
         297935.30999999994,
         0.833
        ],
        [
         3,
         "Classic Cars",
         745268.4600000001,
         1.0
        ],
        [
         4,
         "Trains",
         93392.64000000003,
         0.0
        ],
        [
         4,
         "Ships",
         246947.33000000007,
         0.167
        ],
        [
         4,
         "Planes",
         350539.3599999998,
         0.333
        ],
        [
         4,
         "Motorcycles",
         410985.8299999999,
         0.5
        ],
        [
         4,
         "Trucks and Buses",
         478821.36999999994,
         0.667
        ],
        [
         4,
         "Vintage Cars",
         766643.9099999997,
         0.833
        ],
        [
         4,
         "Classic Cars",
         1527449.569999999,
         1.0
        ]
       ],
       "datasetInfos": [],
       "dbfsResultPath": null,
       "isJsonSchema": true,
       "metadata": {},
       "overflow": false,
       "plotOptions": {
        "customPlotOptions": {},
        "displayType": "table",
        "pivotAggregation": null,
        "pivotColumns": null,
        "xColumns": null,
        "yColumns": null
       },
       "removedWidgets": [],
       "schema": [
        {
         "metadata": "{}",
         "name": "QTR_ID",
         "type": "\"integer\""
        },
        {
         "metadata": "{}",
         "name": "productline",
         "type": "\"string\""
        },
        {
         "metadata": "{}",
         "name": "Gross_Sales",
         "type": "\"double\""
        },
        {
         "metadata": "{}",
         "name": "percent_rank",
         "type": "\"double\""
        }
       ],
       "type": "table"
      }
     },
     "output_type": "display_data"
    },
    {
     "output_type": "display_data",
     "data": {
      "text/plain": [
       "Databricks visualization. Run in Databricks to view."
      ]
     },
     "metadata": {
      "application/vnd.databricks.v1.subcommand+json": {
       "baseErrorDetails": null,
       "bindings": {},
       "collapsed": false,
       "command": "%sql WITH q AS (select QTR_ID,productline,sum(sales) as Gross_Sales,\nround(percent_rank() over(partition by QTR_ID order by sum(sales)),3) as percent_rank\nfrom productsales\ngroup by QTR_ID , productline\norder by QTR_ID,percent_rank) SELECT `QTR_ID`,SUM(`percent_rank`) `column_6884233526`,`productline` FROM q GROUP BY `QTR_ID`,`productline`",
       "commandTitle": "Visualization 1",
       "commandType": "auto",
       "commandVersion": 0,
       "commentThread": [],
       "commentsVisible": false,
       "contentSha256Hex": null,
       "customPlotOptions": {
        "redashChart": [
         {
          "key": "type",
          "value": "CHART"
         },
         {
          "key": "options",
          "value": {
           "alignYAxesAtZero": true,
           "coefficient": 1,
           "columnConfigurationMap": {
            "series": {
             "column": "productline",
             "id": "column_6884233528"
            },
            "x": {
             "column": "QTR_ID",
             "id": "column_6884233524"
            },
            "y": [
             {
              "column": "percent_rank",
              "id": "column_6884233526",
              "transform": "SUM"
             }
            ]
           },
           "dateTimeFormat": "DD/MM/YYYY HH:mm",
           "direction": {
            "type": "counterclockwise"
           },
           "error_y": {
            "type": "data",
            "visible": true
           },
           "globalSeriesType": "line",
           "isAggregationOn": true,
           "legend": {
            "traceorder": "normal"
           },
           "missingValuesAsZero": true,
           "numberFormat": "0,0.[00000]",
           "percentFormat": "0[.]00%",
           "series": {
            "error_y": {
             "type": "data",
             "visible": true
            },
            "stacking": null
           },
           "seriesOptions": {
            "column_6884233526": {
             "type": "line",
             "yAxis": 0
            }
           },
           "showDataLabels": false,
           "sizemode": "diameter",
           "sortX": true,
           "sortY": true,
           "swappedAxes": false,
           "textFormat": "",
           "useAggregationsUi": true,
           "valuesOptions": {},
           "version": 2,
           "xAxis": {
            "labels": {
             "enabled": true
            },
            "type": "-"
           },
           "yAxis": [
            {
             "title": {
              "text": "percent_rank"
             },
             "type": "-"
            },
            {
             "opposite": true,
             "type": "-"
            }
           ]
          }
         }
        ]
       },
       "datasetPreviewNameToCmdIdMap": {},
       "diffDeletes": [],
       "diffInserts": [],
       "displayType": "redashChart",
       "error": null,
       "errorDetails": null,
       "errorSummary": null,
       "errorTraceType": null,
       "finishTime": 0,
       "globalVars": {},
       "guid": "",
       "height": "auto",
       "hideCommandCode": false,
       "hideCommandResult": false,
       "iPythonMetadata": null,
       "inputWidgets": {},
       "isLockedInExamMode": false,
       "latestUser": "a user",
       "latestUserId": null,
       "listResultMetadata": null,
       "metadata": {},
       "nuid": "ec320e49-3564-473f-ac77-982053da1879",
       "origId": 0,
       "parentHierarchy": [],
       "pivotAggregation": null,
       "pivotColumns": null,
       "position": 16.999507427215576,
       "resultDbfsErrorMessage": null,
       "resultDbfsStatus": "INLINED_IN_TREE",
       "results": null,
       "showCommandTitle": false,
       "startTime": 0,
       "state": "input",
       "streamStates": {},
       "subcommandOptions": {
        "queryPlan": {
         "groups": [
          {
           "column": "QTR_ID",
           "type": "column"
          },
          {
           "column": "productline",
           "type": "column"
          }
         ],
         "selects": [
          {
           "column": "QTR_ID",
           "type": "column"
          },
          {
           "alias": "column_6884233526",
           "args": [
            {
             "column": "percent_rank",
             "type": "column"
            }
           ],
           "function": "SUM",
           "type": "function"
          },
          {
           "column": "productline",
           "type": "column"
          }
         ]
        }
       },
       "submitTime": 0,
       "subtype": "tableResultSubCmd.visualization",
       "tableResultIndex": 0,
       "tableResultSettingsMap": null,
       "useConsistentColors": false,
       "version": "CommandV1",
       "width": "auto",
       "workflows": [],
       "xColumns": null,
       "yColumns": null
      }
     },
     "output_type": "display_data"
    }
   ],
   "source": [
    "%sql\n",
    "select QTR_ID,productline,sum(sales) as Gross_Sales,\n",
    "round(percent_rank() over(partition by QTR_ID order by sum(sales)),3) as percent_rank\n",
    "from productsales\n",
    "group by QTR_ID , productline\n",
    "order by QTR_ID,percent_rank"
   ]
  },
  {
   "cell_type": "markdown",
   "metadata": {
    "application/vnd.databricks.v1+cell": {
     "cellMetadata": {},
     "inputWidgets": {},
     "nuid": "9ab4997f-73a3-4288-8ad8-c84894c69735",
     "showTitle": false,
     "title": ""
    }
   },
   "source": [
    "6. Categorize Product Category Sales Performance as 'High', 'Medium', or 'Low' Based on Percentiles"
   ]
  },
  {
   "cell_type": "code",
   "execution_count": 0,
   "metadata": {
    "application/vnd.databricks.v1+cell": {
     "cellMetadata": {
      "byteLimit": 2048000,
      "implicitDf": true,
      "rowLimit": 10000
     },
     "inputWidgets": {},
     "nuid": "cc72bfd3-1239-4e21-9693-026c494711c0",
     "showTitle": false,
     "title": ""
    }
   },
   "outputs": [
    {
     "output_type": "display_data",
     "data": {
      "text/html": [
       "<style scoped>\n",
       "  .table-result-container {\n",
       "    max-height: 300px;\n",
       "    overflow: auto;\n",
       "  }\n",
       "  table, th, td {\n",
       "    border: 1px solid black;\n",
       "    border-collapse: collapse;\n",
       "  }\n",
       "  th, td {\n",
       "    padding: 5px;\n",
       "  }\n",
       "  th {\n",
       "    text-align: left;\n",
       "  }\n",
       "</style><div class='table-result-container'><table class='table-result'><thead style='background-color: white'><tr><th>productline</th><th>Total_Sales</th><th>tile</th><th>Product_Category</th></tr></thead><tbody><tr><td>Classic Cars</td><td>3919615.659999997</td><td>1</td><td>High</td></tr><tr><td>Vintage Cars</td><td>1903150.8399999992</td><td>1</td><td>High</td></tr><tr><td>Motorcycles</td><td>1166388.3400000003</td><td>1</td><td>High</td></tr><tr><td>Trucks and Buses</td><td>1127789.8399999996</td><td>2</td><td>Medium</td></tr><tr><td>Planes</td><td>975003.5700000001</td><td>2</td><td>Medium</td></tr><tr><td>Ships</td><td>714437.13</td><td>3</td><td>Low</td></tr><tr><td>Trains</td><td>226243.46999999997</td><td>3</td><td>Low</td></tr></tbody></table></div>"
      ]
     },
     "metadata": {
      "application/vnd.databricks.v1+output": {
       "addedWidgets": {},
       "aggData": [],
       "aggError": "",
       "aggOverflow": false,
       "aggSchema": [],
       "aggSeriesLimitReached": false,
       "aggType": "",
       "arguments": {},
       "columnCustomDisplayInfos": {},
       "data": [
        [
         "Classic Cars",
         3919615.659999997,
         1,
         "High"
        ],
        [
         "Vintage Cars",
         1903150.8399999992,
         1,
         "High"
        ],
        [
         "Motorcycles",
         1166388.3400000003,
         1,
         "High"
        ],
        [
         "Trucks and Buses",
         1127789.8399999996,
         2,
         "Medium"
        ],
        [
         "Planes",
         975003.5700000001,
         2,
         "Medium"
        ],
        [
         "Ships",
         714437.13,
         3,
         "Low"
        ],
        [
         "Trains",
         226243.46999999997,
         3,
         "Low"
        ]
       ],
       "datasetInfos": [],
       "dbfsResultPath": null,
       "isJsonSchema": true,
       "metadata": {},
       "overflow": false,
       "plotOptions": {
        "customPlotOptions": {},
        "displayType": "table",
        "pivotAggregation": null,
        "pivotColumns": null,
        "xColumns": null,
        "yColumns": null
       },
       "removedWidgets": [],
       "schema": [
        {
         "metadata": "{}",
         "name": "productline",
         "type": "\"string\""
        },
        {
         "metadata": "{}",
         "name": "Total_Sales",
         "type": "\"double\""
        },
        {
         "metadata": "{}",
         "name": "tile",
         "type": "\"integer\""
        },
        {
         "metadata": "{}",
         "name": "Product_Category",
         "type": "\"string\""
        }
       ],
       "type": "table"
      }
     },
     "output_type": "display_data"
    },
    {
     "output_type": "display_data",
     "data": {
      "text/plain": [
       "Databricks visualization. Run in Databricks to view."
      ]
     },
     "metadata": {
      "application/vnd.databricks.v1.subcommand+json": {
       "baseErrorDetails": null,
       "bindings": {},
       "collapsed": false,
       "command": "%sql WITH q AS (select *, \ncase\n  when tile = 1 then \"High\"\n  when tile = 2 then \"Medium\"\n  when tile = 3 then \"Low\"\nend as Product_Category\nfrom \n(select productline,sum(sales) as Total_Sales,\nntile(3) OVER(ORDER BY sum(sales) desc) AS tile\nfrom productsales\ngroup by productline) _) SELECT `productline`,SUM(`Total_Sales`) `column_77fcc3c95`,`Product_Category` FROM q GROUP BY `Product_Category`,`productline`",
       "commandTitle": "Visualization 1",
       "commandType": "auto",
       "commandVersion": 0,
       "commentThread": [],
       "commentsVisible": false,
       "contentSha256Hex": null,
       "customPlotOptions": {
        "redashChart": [
         {
          "key": "type",
          "value": "CHART"
         },
         {
          "key": "options",
          "value": {
           "alignYAxesAtZero": true,
           "coefficient": 1,
           "columnConfigurationMap": {
            "series": {
             "column": "Product_Category",
             "id": "column_77fcc3c98"
            },
            "x": {
             "column": "productline",
             "id": "column_77fcc3c99"
            },
            "y": [
             {
              "column": "Total_Sales",
              "id": "column_77fcc3c95",
              "transform": "SUM"
             }
            ]
           },
           "dateTimeFormat": "DD/MM/YYYY HH:mm",
           "direction": {
            "type": "counterclockwise"
           },
           "error_y": {
            "type": "data",
            "visible": true
           },
           "globalSeriesType": "column",
           "isAggregationOn": true,
           "legend": {
            "traceorder": "normal"
           },
           "missingValuesAsZero": true,
           "numberFormat": "0,0.[00000]",
           "percentFormat": "0[.]00%",
           "series": {
            "error_y": {
             "type": "data",
             "visible": true
            },
            "stacking": null
           },
           "seriesOptions": {
            "column_77fcc3c95": {
             "type": "column",
             "yAxis": 0
            }
           },
           "showDataLabels": false,
           "sizemode": "diameter",
           "sortX": true,
           "sortY": true,
           "swappedAxes": true,
           "textFormat": "",
           "useAggregationsUi": true,
           "valuesOptions": {},
           "version": 2,
           "xAxis": {
            "labels": {
             "enabled": true
            },
            "type": "-"
           },
           "yAxis": [
            {
             "title": {
              "text": "Total_Sales"
             },
             "type": "-"
            },
            {
             "opposite": true,
             "type": "-"
            }
           ]
          }
         }
        ]
       },
       "datasetPreviewNameToCmdIdMap": {},
       "diffDeletes": [],
       "diffInserts": [],
       "displayType": "redashChart",
       "error": null,
       "errorDetails": null,
       "errorSummary": null,
       "errorTraceType": null,
       "finishTime": 0,
       "globalVars": {},
       "guid": "",
       "height": "auto",
       "hideCommandCode": false,
       "hideCommandResult": false,
       "iPythonMetadata": null,
       "inputWidgets": {},
       "isLockedInExamMode": false,
       "latestUser": "a user",
       "latestUserId": null,
       "listResultMetadata": null,
       "metadata": {},
       "nuid": "c5894f10-5712-4f32-ad36-def9fe6dec7f",
       "origId": 0,
       "parentHierarchy": [],
       "pivotAggregation": null,
       "pivotColumns": null,
       "position": 16.999510645866394,
       "resultDbfsErrorMessage": null,
       "resultDbfsStatus": "INLINED_IN_TREE",
       "results": null,
       "showCommandTitle": false,
       "startTime": 0,
       "state": "input",
       "streamStates": {},
       "subcommandOptions": {
        "queryPlan": {
         "groups": [
          {
           "column": "productline",
           "type": "column"
          },
          {
           "column": "Product_Category",
           "type": "column"
          }
         ],
         "selects": [
          {
           "column": "productline",
           "type": "column"
          },
          {
           "alias": "column_77fcc3c95",
           "args": [
            {
             "column": "Total_Sales",
             "type": "column"
            }
           ],
           "function": "SUM",
           "type": "function"
          },
          {
           "column": "Product_Category",
           "type": "column"
          }
         ]
        }
       },
       "submitTime": 0,
       "subtype": "tableResultSubCmd.visualization",
       "tableResultIndex": 0,
       "tableResultSettingsMap": null,
       "useConsistentColors": false,
       "version": "CommandV1",
       "width": "auto",
       "workflows": [],
       "xColumns": null,
       "yColumns": null
      }
     },
     "output_type": "display_data"
    }
   ],
   "source": [
    "%sql\n",
    "select *, \n",
    "case\n",
    "  when tile = 1 then \"High\"\n",
    "  when tile = 2 then \"Medium\"\n",
    "  when tile = 3 then \"Low\"\n",
    "end as Product_Category\n",
    "from \n",
    "(select productline,sum(sales) as Total_Sales,\n",
    "ntile(3) OVER(ORDER BY sum(sales) desc) AS tile\n",
    "from productsales\n",
    "group by productline) _"
   ]
  },
  {
   "cell_type": "markdown",
   "metadata": {
    "application/vnd.databricks.v1+cell": {
     "cellMetadata": {},
     "inputWidgets": {},
     "nuid": "4c8e3d96-d511-4095-b99f-ab515740cf0c",
     "showTitle": false,
     "title": ""
    }
   },
   "source": [
    "#### 7. Rank 5 Customers by Total Purchase in every Quarter of Each Year."
   ]
  },
  {
   "cell_type": "code",
   "execution_count": 0,
   "metadata": {
    "application/vnd.databricks.v1+cell": {
     "cellMetadata": {
      "byteLimit": 2048000,
      "implicitDf": true,
      "rowLimit": 10000
     },
     "inputWidgets": {},
     "nuid": "22e044e6-59d0-4404-b842-3bfcb03f9027",
     "showTitle": false,
     "title": ""
    }
   },
   "outputs": [
    {
     "output_type": "display_data",
     "data": {
      "text/html": [
       "<style scoped>\n",
       "  .table-result-container {\n",
       "    max-height: 300px;\n",
       "    overflow: auto;\n",
       "  }\n",
       "  table, th, td {\n",
       "    border: 1px solid black;\n",
       "    border-collapse: collapse;\n",
       "  }\n",
       "  th, td {\n",
       "    padding: 5px;\n",
       "  }\n",
       "  th {\n",
       "    text-align: left;\n",
       "  }\n",
       "</style><div class='table-result-container'><table class='table-result'><thead style='background-color: white'><tr><th>year_id</th><th>QTR_ID</th><th>customername</th><th>Total_Purchase</th><th>rank</th></tr></thead><tbody><tr><td>2003</td><td>1</td><td>Danish Wholesale Imports</td><td>58871.11</td><td>1</td></tr><tr><td>2003</td><td>1</td><td>Rovelli Gifts</td><td>56181.32</td><td>2</td></tr><tr><td>2003</td><td>1</td><td>Cruz & Sons Co.</td><td>55245.020000000004</td><td>3</td></tr><tr><td>2003</td><td>1</td><td>Baane Mini Imports</td><td>54701.99999999999</td><td>4</td></tr><tr><td>2003</td><td>1</td><td>AV Stores, Co.</td><td>51017.91999999999</td><td>5</td></tr><tr><td>2003</td><td>2</td><td>Muscle Machine Inc</td><td>68462.15000000001</td><td>1</td></tr><tr><td>2003</td><td>2</td><td>Corrida Auto Replicas, Ltd</td><td>61073.21</td><td>2</td></tr><tr><td>2003</td><td>2</td><td>Australian Collectors, Co.</td><td>60135.840000000004</td><td>3</td></tr><tr><td>2003</td><td>2</td><td>Marseille Mini Autos</td><td>52481.840000000004</td><td>4</td></tr><tr><td>2003</td><td>2</td><td>Dragon Souveniers, Ltd.</td><td>43657.47000000001</td><td>5</td></tr><tr><td>2003</td><td>3</td><td>Mini Gifts Distributors Ltd.</td><td>122368.66999999995</td><td>1</td></tr><tr><td>2003</td><td>3</td><td>Toys4GrownUps.com</td><td>55776.11999999998</td><td>2</td></tr><tr><td>2003</td><td>3</td><td>Euro Shopping Channel</td><td>47727.81999999999</td><td>3</td></tr><tr><td>2003</td><td>3</td><td>Anna's Decorations, Ltd</td><td>47191.76</td><td>4</td></tr><tr><td>2003</td><td>3</td><td>Mini Creations Ltd.</td><td>45738.39</td><td>5</td></tr><tr><td>2003</td><td>4</td><td>Corporate Gift Ideas Co.</td><td>95678.87999999999</td><td>1</td></tr><tr><td>2003</td><td>4</td><td>Herkku Gifts</td><td>95277.18000000001</td><td>2</td></tr><tr><td>2003</td><td>4</td><td>Euro Shopping Channel</td><td>78261.98000000001</td><td>3</td></tr><tr><td>2003</td><td>4</td><td>Dragon Souveniers, Ltd.</td><td>77809.37000000001</td><td>4</td></tr><tr><td>2003</td><td>4</td><td>Muscle Machine Inc</td><td>64316.090000000004</td><td>5</td></tr><tr><td>2004</td><td>1</td><td>Saveley & Henriot, Co.</td><td>101339.14000000001</td><td>1</td></tr><tr><td>2004</td><td>1</td><td>Collectable Mini Designs Co.</td><td>87489.22999999998</td><td>2</td></tr><tr><td>2004</td><td>1</td><td>Euro Shopping Channel</td><td>65165.17</td><td>3</td></tr><tr><td>2004</td><td>1</td><td>Auto Canal Petit</td><td>51172.649999999994</td><td>4</td></tr><tr><td>2004</td><td>1</td><td>Osaka Souveniers Co.</td><td>50490.64</td><td>5</td></tr><tr><td>2004</td><td>2</td><td>Euro Shopping Channel</td><td>119656.04</td><td>1</td></tr><tr><td>2004</td><td>2</td><td>The Sharp Gifts Warehouse</td><td>64600.34000000001</td><td>2</td></tr><tr><td>2004</td><td>2</td><td>UK Collectables, Ltd.</td><td>50408.25</td><td>3</td></tr><tr><td>2004</td><td>2</td><td>Handji Gifts& Co</td><td>45788.719999999994</td><td>4</td></tr><tr><td>2004</td><td>2</td><td>Land of Toys Inc.</td><td>45357.659999999996</td><td>5</td></tr><tr><td>2004</td><td>3</td><td>Amica Models & Co.</td><td>94117.26000000002</td><td>1</td></tr><tr><td>2004</td><td>3</td><td>Mini Gifts Distributors Ltd.</td><td>93928.72999999998</td><td>2</td></tr><tr><td>2004</td><td>3</td><td>Diecast Classics Inc.</td><td>71930.61</td><td>3</td></tr><tr><td>2004</td><td>3</td><td>Vida Sport, Ltd</td><td>67281.01000000001</td><td>4</td></tr><tr><td>2004</td><td>3</td><td>Online Mini Collectables</td><td>57197.95999999999</td><td>5</td></tr><tr><td>2004</td><td>4</td><td>Euro Shopping Channel</td><td>168460.87999999998</td><td>1</td></tr><tr><td>2004</td><td>4</td><td>Mini Gifts Distributors Ltd.</td><td>113622.76000000001</td><td>2</td></tr><tr><td>2004</td><td>4</td><td>AV Stores, Co.</td><td>106789.89</td><td>3</td></tr><tr><td>2004</td><td>4</td><td>Australian Collectors, Co.</td><td>91222.00000000001</td><td>4</td></tr><tr><td>2004</td><td>4</td><td>Toms Spezialitten, Ltd</td><td>68943.40000000001</td><td>5</td></tr><tr><td>2005</td><td>1</td><td>Euro Shopping Channel</td><td>207555.19</td><td>1</td></tr><tr><td>2005</td><td>1</td><td>Mini Gifts Distributors Ltd.</td><td>205993.93</td><td>2</td></tr><tr><td>2005</td><td>1</td><td>Anna's Decorations, Ltd</td><td>65012.42</td><td>3</td></tr><tr><td>2005</td><td>1</td><td>La Rochelle Gifts</td><td>59617.4</td><td>4</td></tr><tr><td>2005</td><td>1</td><td>Corporate Gift Ideas Co.</td><td>54203.619999999995</td><td>5</td></tr><tr><td>2005</td><td>2</td><td>Euro Shopping Channel</td><td>119242.98000000001</td><td>1</td></tr><tr><td>2005</td><td>2</td><td>The Sharp Gifts Warehouse</td><td>95409.93000000001</td><td>2</td></tr><tr><td>2005</td><td>2</td><td>Salzburg Collectables</td><td>59475.100000000006</td><td>3</td></tr><tr><td>2005</td><td>2</td><td>Gifts4AllAges.com</td><td>48316.89</td><td>4</td></tr><tr><td>2005</td><td>2</td><td>Tekni Collectables Inc.</td><td>46518.99999999999</td><td>5</td></tr></tbody></table></div>"
      ]
     },
     "metadata": {
      "application/vnd.databricks.v1+output": {
       "addedWidgets": {},
       "aggData": [],
       "aggError": "",
       "aggOverflow": false,
       "aggSchema": [],
       "aggSeriesLimitReached": false,
       "aggType": "",
       "arguments": {},
       "columnCustomDisplayInfos": {},
       "data": [
        [
         2003,
         1,
         "Danish Wholesale Imports",
         58871.11,
         1
        ],
        [
         2003,
         1,
         "Rovelli Gifts",
         56181.32,
         2
        ],
        [
         2003,
         1,
         "Cruz & Sons Co.",
         55245.020000000004,
         3
        ],
        [
         2003,
         1,
         "Baane Mini Imports",
         54701.99999999999,
         4
        ],
        [
         2003,
         1,
         "AV Stores, Co.",
         51017.91999999999,
         5
        ],
        [
         2003,
         2,
         "Muscle Machine Inc",
         68462.15000000001,
         1
        ],
        [
         2003,
         2,
         "Corrida Auto Replicas, Ltd",
         61073.21,
         2
        ],
        [
         2003,
         2,
         "Australian Collectors, Co.",
         60135.840000000004,
         3
        ],
        [
         2003,
         2,
         "Marseille Mini Autos",
         52481.840000000004,
         4
        ],
        [
         2003,
         2,
         "Dragon Souveniers, Ltd.",
         43657.47000000001,
         5
        ],
        [
         2003,
         3,
         "Mini Gifts Distributors Ltd.",
         122368.66999999995,
         1
        ],
        [
         2003,
         3,
         "Toys4GrownUps.com",
         55776.11999999998,
         2
        ],
        [
         2003,
         3,
         "Euro Shopping Channel",
         47727.81999999999,
         3
        ],
        [
         2003,
         3,
         "Anna's Decorations, Ltd",
         47191.76,
         4
        ],
        [
         2003,
         3,
         "Mini Creations Ltd.",
         45738.39,
         5
        ],
        [
         2003,
         4,
         "Corporate Gift Ideas Co.",
         95678.87999999999,
         1
        ],
        [
         2003,
         4,
         "Herkku Gifts",
         95277.18000000001,
         2
        ],
        [
         2003,
         4,
         "Euro Shopping Channel",
         78261.98000000001,
         3
        ],
        [
         2003,
         4,
         "Dragon Souveniers, Ltd.",
         77809.37000000001,
         4
        ],
        [
         2003,
         4,
         "Muscle Machine Inc",
         64316.090000000004,
         5
        ],
        [
         2004,
         1,
         "Saveley & Henriot, Co.",
         101339.14000000001,
         1
        ],
        [
         2004,
         1,
         "Collectable Mini Designs Co.",
         87489.22999999998,
         2
        ],
        [
         2004,
         1,
         "Euro Shopping Channel",
         65165.17,
         3
        ],
        [
         2004,
         1,
         "Auto Canal Petit",
         51172.649999999994,
         4
        ],
        [
         2004,
         1,
         "Osaka Souveniers Co.",
         50490.64,
         5
        ],
        [
         2004,
         2,
         "Euro Shopping Channel",
         119656.04,
         1
        ],
        [
         2004,
         2,
         "The Sharp Gifts Warehouse",
         64600.34000000001,
         2
        ],
        [
         2004,
         2,
         "UK Collectables, Ltd.",
         50408.25,
         3
        ],
        [
         2004,
         2,
         "Handji Gifts& Co",
         45788.719999999994,
         4
        ],
        [
         2004,
         2,
         "Land of Toys Inc.",
         45357.659999999996,
         5
        ],
        [
         2004,
         3,
         "Amica Models & Co.",
         94117.26000000002,
         1
        ],
        [
         2004,
         3,
         "Mini Gifts Distributors Ltd.",
         93928.72999999998,
         2
        ],
        [
         2004,
         3,
         "Diecast Classics Inc.",
         71930.61,
         3
        ],
        [
         2004,
         3,
         "Vida Sport, Ltd",
         67281.01000000001,
         4
        ],
        [
         2004,
         3,
         "Online Mini Collectables",
         57197.95999999999,
         5
        ],
        [
         2004,
         4,
         "Euro Shopping Channel",
         168460.87999999998,
         1
        ],
        [
         2004,
         4,
         "Mini Gifts Distributors Ltd.",
         113622.76000000001,
         2
        ],
        [
         2004,
         4,
         "AV Stores, Co.",
         106789.89,
         3
        ],
        [
         2004,
         4,
         "Australian Collectors, Co.",
         91222.00000000001,
         4
        ],
        [
         2004,
         4,
         "Toms Spezialitten, Ltd",
         68943.40000000001,
         5
        ],
        [
         2005,
         1,
         "Euro Shopping Channel",
         207555.19,
         1
        ],
        [
         2005,
         1,
         "Mini Gifts Distributors Ltd.",
         205993.93,
         2
        ],
        [
         2005,
         1,
         "Anna's Decorations, Ltd",
         65012.42,
         3
        ],
        [
         2005,
         1,
         "La Rochelle Gifts",
         59617.4,
         4
        ],
        [
         2005,
         1,
         "Corporate Gift Ideas Co.",
         54203.619999999995,
         5
        ],
        [
         2005,
         2,
         "Euro Shopping Channel",
         119242.98000000001,
         1
        ],
        [
         2005,
         2,
         "The Sharp Gifts Warehouse",
         95409.93000000001,
         2
        ],
        [
         2005,
         2,
         "Salzburg Collectables",
         59475.100000000006,
         3
        ],
        [
         2005,
         2,
         "Gifts4AllAges.com",
         48316.89,
         4
        ],
        [
         2005,
         2,
         "Tekni Collectables Inc.",
         46518.99999999999,
         5
        ]
       ],
       "datasetInfos": [],
       "dbfsResultPath": null,
       "isJsonSchema": true,
       "metadata": {},
       "overflow": false,
       "plotOptions": {
        "customPlotOptions": {},
        "displayType": "table",
        "pivotAggregation": null,
        "pivotColumns": null,
        "xColumns": null,
        "yColumns": null
       },
       "removedWidgets": [],
       "schema": [
        {
         "metadata": "{}",
         "name": "year_id",
         "type": "\"integer\""
        },
        {
         "metadata": "{}",
         "name": "QTR_ID",
         "type": "\"integer\""
        },
        {
         "metadata": "{}",
         "name": "customername",
         "type": "\"string\""
        },
        {
         "metadata": "{}",
         "name": "Total_Purchase",
         "type": "\"double\""
        },
        {
         "metadata": "{}",
         "name": "rank",
         "type": "\"integer\""
        }
       ],
       "type": "table"
      }
     },
     "output_type": "display_data"
    }
   ],
   "source": [
    "%sql\n",
    "select * from\n",
    "(select year_id,QTR_ID,customername, sum(sales) as Total_Purchase,\n",
    "rank() over (partition by year_id,QTR_ID order by sum(sales) desc) as rank\n",
    "from productsales\n",
    "group by year_id,QTR_ID, customername\n",
    "order by year_id,QTR_ID, rank) as _ \n",
    "where rank <= 5"
   ]
  },
  {
   "cell_type": "markdown",
   "metadata": {
    "application/vnd.databricks.v1+cell": {
     "cellMetadata": {},
     "inputWidgets": {},
     "nuid": "7a85ddfb-f002-492d-8162-7e9b29943a51",
     "showTitle": false,
     "title": ""
    }
   },
   "source": [
    "\n",
    "\n",
    " \n",
    "8. Identify and Present the Trends of Sales Growth by Month. (Bar Graph)"
   ]
  },
  {
   "cell_type": "code",
   "execution_count": 0,
   "metadata": {
    "application/vnd.databricks.v1+cell": {
     "cellMetadata": {
      "byteLimit": 2048000,
      "implicitDf": true,
      "rowLimit": 10000
     },
     "inputWidgets": {},
     "nuid": "7818ecc5-377b-400b-abe7-a05aca45506c",
     "showTitle": false,
     "title": ""
    }
   },
   "outputs": [
    {
     "output_type": "display_data",
     "data": {
      "text/html": [
       "<style scoped>\n",
       "  .table-result-container {\n",
       "    max-height: 300px;\n",
       "    overflow: auto;\n",
       "  }\n",
       "  table, th, td {\n",
       "    border: 1px solid black;\n",
       "    border-collapse: collapse;\n",
       "  }\n",
       "  th, td {\n",
       "    padding: 5px;\n",
       "  }\n",
       "  th {\n",
       "    text-align: left;\n",
       "  }\n",
       "</style><div class='table-result-container'><table class='table-result'><thead style='background-color: white'><tr><th>YEAR_ID</th><th>MONTH_ID</th><th>Total_Sales</th></tr></thead><tbody><tr><td>2003</td><td>1</td><td>129753.6</td></tr><tr><td>2003</td><td>2</td><td>140836.19000000003</td></tr><tr><td>2003</td><td>3</td><td>174504.9</td></tr><tr><td>2003</td><td>4</td><td>201609.55000000002</td></tr><tr><td>2003</td><td>5</td><td>192673.11</td></tr><tr><td>2003</td><td>6</td><td>168082.55999999997</td></tr><tr><td>2003</td><td>7</td><td>187731.87999999998</td></tr><tr><td>2003</td><td>8</td><td>197809.3</td></tr><tr><td>2003</td><td>9</td><td>263973.36</td></tr><tr><td>2003</td><td>10</td><td>568290.97</td></tr><tr><td>2003</td><td>11</td><td>1029837.6600000001</td></tr><tr><td>2003</td><td>12</td><td>261876.46000000005</td></tr><tr><td>2004</td><td>1</td><td>316577.4200000001</td></tr><tr><td>2004</td><td>2</td><td>311419.5299999999</td></tr><tr><td>2004</td><td>3</td><td>205733.72999999992</td></tr><tr><td>2004</td><td>4</td><td>206148.12000000008</td></tr><tr><td>2004</td><td>5</td><td>273438.3900000001</td></tr><tr><td>2004</td><td>6</td><td>286674.22</td></tr><tr><td>2004</td><td>7</td><td>327144.0899999998</td></tr><tr><td>2004</td><td>8</td><td>461501.2700000001</td></tr><tr><td>2004</td><td>9</td><td>320750.91000000003</td></tr><tr><td>2004</td><td>10</td><td>552924.25</td></tr><tr><td>2004</td><td>11</td><td>1089048.0100000005</td></tr><tr><td>2004</td><td>12</td><td>372802.6599999999</td></tr><tr><td>2005</td><td>1</td><td>339543.42</td></tr><tr><td>2005</td><td>2</td><td>358186.18000000005</td></tr><tr><td>2005</td><td>3</td><td>374262.7599999999</td></tr><tr><td>2005</td><td>4</td><td>261633.29000000007</td></tr><tr><td>2005</td><td>5</td><td>457861.05999999965</td></tr></tbody></table></div>"
      ]
     },
     "metadata": {
      "application/vnd.databricks.v1+output": {
       "addedWidgets": {},
       "aggData": [],
       "aggError": "",
       "aggOverflow": false,
       "aggSchema": [],
       "aggSeriesLimitReached": false,
       "aggType": "",
       "arguments": {},
       "columnCustomDisplayInfos": {},
       "data": [
        [
         2003,
         1,
         129753.6
        ],
        [
         2003,
         2,
         140836.19000000003
        ],
        [
         2003,
         3,
         174504.9
        ],
        [
         2003,
         4,
         201609.55000000002
        ],
        [
         2003,
         5,
         192673.11
        ],
        [
         2003,
         6,
         168082.55999999997
        ],
        [
         2003,
         7,
         187731.87999999998
        ],
        [
         2003,
         8,
         197809.3
        ],
        [
         2003,
         9,
         263973.36
        ],
        [
         2003,
         10,
         568290.97
        ],
        [
         2003,
         11,
         1029837.6600000001
        ],
        [
         2003,
         12,
         261876.46000000005
        ],
        [
         2004,
         1,
         316577.4200000001
        ],
        [
         2004,
         2,
         311419.5299999999
        ],
        [
         2004,
         3,
         205733.72999999992
        ],
        [
         2004,
         4,
         206148.12000000008
        ],
        [
         2004,
         5,
         273438.3900000001
        ],
        [
         2004,
         6,
         286674.22
        ],
        [
         2004,
         7,
         327144.0899999998
        ],
        [
         2004,
         8,
         461501.2700000001
        ],
        [
         2004,
         9,
         320750.91000000003
        ],
        [
         2004,
         10,
         552924.25
        ],
        [
         2004,
         11,
         1089048.0100000005
        ],
        [
         2004,
         12,
         372802.6599999999
        ],
        [
         2005,
         1,
         339543.42
        ],
        [
         2005,
         2,
         358186.18000000005
        ],
        [
         2005,
         3,
         374262.7599999999
        ],
        [
         2005,
         4,
         261633.29000000007
        ],
        [
         2005,
         5,
         457861.05999999965
        ]
       ],
       "datasetInfos": [],
       "dbfsResultPath": null,
       "isJsonSchema": true,
       "metadata": {},
       "overflow": false,
       "plotOptions": {
        "customPlotOptions": {},
        "displayType": "table",
        "pivotAggregation": null,
        "pivotColumns": null,
        "xColumns": null,
        "yColumns": null
       },
       "removedWidgets": [],
       "schema": [
        {
         "metadata": "{}",
         "name": "YEAR_ID",
         "type": "\"integer\""
        },
        {
         "metadata": "{}",
         "name": "MONTH_ID",
         "type": "\"integer\""
        },
        {
         "metadata": "{}",
         "name": "Total_Sales",
         "type": "\"double\""
        }
       ],
       "type": "table"
      }
     },
     "output_type": "display_data"
    },
    {
     "output_type": "display_data",
     "data": {
      "text/plain": [
       "Databricks visualization. Run in Databricks to view."
      ]
     },
     "metadata": {
      "application/vnd.databricks.v1.subcommand+json": {
       "baseErrorDetails": null,
       "bindings": {},
       "collapsed": false,
       "command": "%sql WITH q AS (select YEAR_ID,MONTH_ID,\nsum(sales) as Total_Sales\nFROM productsales\ngroup by YEAR_ID,MONTH_ID\norder by YEAR_ID,MONTH_ID) SELECT `MONTH_ID`,SUM(`Total_Sales`) `column_6884233534`,`YEAR_ID` FROM q GROUP BY `MONTH_ID`,`YEAR_ID`",
       "commandTitle": "Visualization 1",
       "commandType": "auto",
       "commandVersion": 0,
       "commentThread": [],
       "commentsVisible": false,
       "contentSha256Hex": null,
       "customPlotOptions": {
        "redashChart": [
         {
          "key": "type",
          "value": "CHART"
         },
         {
          "key": "options",
          "value": {
           "alignYAxesAtZero": true,
           "coefficient": 1,
           "columnConfigurationMap": {
            "series": {
             "column": "YEAR_ID",
             "id": "column_6884233531"
            },
            "x": {
             "column": "MONTH_ID",
             "id": "column_6884233532"
            },
            "y": [
             {
              "column": "Total_Sales",
              "id": "column_6884233534",
              "transform": "SUM"
             }
            ]
           },
           "dateTimeFormat": "DD/MM/YYYY HH:mm",
           "direction": {
            "type": "counterclockwise"
           },
           "error_y": {
            "type": "data",
            "visible": true
           },
           "globalSeriesType": "column",
           "isAggregationOn": true,
           "legend": {
            "traceorder": "normal"
           },
           "missingValuesAsZero": true,
           "numberFormat": "0,0.[00000]",
           "percentFormat": "0[.]00%",
           "series": {
            "error_y": {
             "type": "data",
             "visible": true
            },
            "stacking": null
           },
           "seriesOptions": {
            "column_6884233534": {
             "type": "column",
             "yAxis": 0
            }
           },
           "showDataLabels": false,
           "sizemode": "diameter",
           "sortX": true,
           "sortY": true,
           "swappedAxes": false,
           "textFormat": "",
           "useAggregationsUi": true,
           "valuesOptions": {},
           "version": 2,
           "xAxis": {
            "labels": {
             "enabled": true
            },
            "type": "-"
           },
           "yAxis": [
            {
             "title": {
              "text": "Total Sales"
             },
             "type": "-"
            },
            {
             "opposite": true,
             "type": "-"
            }
           ]
          }
         }
        ]
       },
       "datasetPreviewNameToCmdIdMap": {},
       "diffDeletes": [],
       "diffInserts": [],
       "displayType": "redashChart",
       "error": null,
       "errorDetails": null,
       "errorSummary": null,
       "errorTraceType": null,
       "finishTime": 0,
       "globalVars": {},
       "guid": "",
       "height": "auto",
       "hideCommandCode": false,
       "hideCommandResult": false,
       "iPythonMetadata": null,
       "inputWidgets": {},
       "isLockedInExamMode": false,
       "latestUser": "a user",
       "latestUserId": null,
       "listResultMetadata": null,
       "metadata": {},
       "nuid": "92eb5e6f-fadc-4e5b-b441-fa7e46d75e7c",
       "origId": 0,
       "parentHierarchy": [],
       "pivotAggregation": null,
       "pivotColumns": null,
       "position": 16.999755859375,
       "resultDbfsErrorMessage": null,
       "resultDbfsStatus": "INLINED_IN_TREE",
       "results": null,
       "showCommandTitle": false,
       "startTime": 0,
       "state": "input",
       "streamStates": {},
       "subcommandOptions": {
        "queryPlan": {
         "groups": [
          {
           "column": "MONTH_ID",
           "type": "column"
          },
          {
           "column": "YEAR_ID",
           "type": "column"
          }
         ],
         "selects": [
          {
           "column": "MONTH_ID",
           "type": "column"
          },
          {
           "alias": "column_6884233534",
           "args": [
            {
             "column": "Total_Sales",
             "type": "column"
            }
           ],
           "function": "SUM",
           "type": "function"
          },
          {
           "column": "YEAR_ID",
           "type": "column"
          }
         ]
        }
       },
       "submitTime": 0,
       "subtype": "tableResultSubCmd.visualization",
       "tableResultIndex": 0,
       "tableResultSettingsMap": null,
       "useConsistentColors": false,
       "version": "CommandV1",
       "width": "auto",
       "workflows": [],
       "xColumns": null,
       "yColumns": null
      }
     },
     "output_type": "display_data"
    }
   ],
   "source": [
    "%sql\n",
    "\n",
    "select YEAR_ID,MONTH_ID,\n",
    "sum(sales) as Total_Sales\n",
    "FROM productsales\n",
    "group by YEAR_ID,MONTH_ID\n",
    "order by YEAR_ID,MONTH_ID"
   ]
  },
  {
   "cell_type": "code",
   "execution_count": 0,
   "metadata": {
    "application/vnd.databricks.v1+cell": {
     "cellMetadata": {
      "byteLimit": 2048000,
      "rowLimit": 10000
     },
     "inputWidgets": {},
     "nuid": "5830bf65-4fad-4faa-a435-564f293bff30",
     "showTitle": false,
     "title": ""
    }
   },
   "outputs": [
    {
     "output_type": "stream",
     "name": "stdout",
     "output_type": "stream",
     "text": [
      "root\n |-- ORDERNUMBER: integer (nullable = true)\n |-- QUANTITYORDERED: integer (nullable = true)\n |-- PRICEEACH: double (nullable = true)\n |-- ORDERLINENUMBER: integer (nullable = true)\n |-- SALES: double (nullable = true)\n |-- ORDERDATE: string (nullable = true)\n |-- STATUS: string (nullable = true)\n |-- QTR_ID: integer (nullable = true)\n |-- MONTH_ID: integer (nullable = true)\n |-- YEAR_ID: integer (nullable = true)\n |-- PRODUCTLINE: string (nullable = true)\n |-- MSRP: integer (nullable = true)\n |-- PRODUCTCODE: string (nullable = true)\n |-- CUSTOMERNAME: string (nullable = true)\n |-- PHONE: string (nullable = true)\n |-- ADDRESSLINE1: string (nullable = true)\n |-- ADDRESSLINE2: string (nullable = true)\n |-- CITY: string (nullable = true)\n |-- STATE: string (nullable = true)\n |-- POSTALCODE: string (nullable = true)\n |-- COUNTRY: string (nullable = true)\n |-- TERRITORY: string (nullable = true)\n |-- CONTACTLASTNAME: string (nullable = true)\n |-- CONTACTFIRSTNAME: string (nullable = true)\n |-- DEALSIZE: string (nullable = true)\n\n"
     ]
    }
   ],
   "source": [
    "df.printSchema()"
   ]
  },
  {
   "cell_type": "markdown",
   "metadata": {
    "application/vnd.databricks.v1+cell": {
     "cellMetadata": {},
     "inputWidgets": {},
     "nuid": "932b20a4-8130-4518-a9e7-f7797ebc0785",
     "showTitle": false,
     "title": ""
    }
   },
   "source": []
  }
 ],
 "metadata": {
  "application/vnd.databricks.v1+notebook": {
   "dashboards": [
    {
     "elements": [
      {
       "dashboardResultIndex": null,
       "elementNUID": "ae654bc6-3b69-491d-9db4-69d61490a084",
       "elementType": "command",
       "guid": "1e351ab1-f357-4c05-ad86-5b0c17e1d076",
       "options": null,
       "position": {
        "height": 6,
        "width": 12,
        "x": 0,
        "y": 0,
        "z": null
       },
       "resultIndex": null
      },
      {
       "dashboardResultIndex": null,
       "elementNUID": "92eb5e6f-fadc-4e5b-b441-fa7e46d75e7c",
       "elementType": "command",
       "guid": "5c5a4469-fae0-4353-b6ae-6bcac1c3bd45",
       "options": null,
       "position": {
        "height": 6,
        "width": 12,
        "x": 12,
        "y": 0,
        "z": null
       },
       "resultIndex": null
      },
      {
       "dashboardResultIndex": null,
       "elementNUID": "b3d32640-3b0b-488d-938b-b22944c6a2cd",
       "elementType": "command",
       "guid": "752089b7-0b06-49fe-9cd9-a5e29395b51e",
       "options": null,
       "position": {
        "height": 6,
        "width": 12,
        "x": 0,
        "y": 6,
        "z": null
       },
       "resultIndex": null
      },
      {
       "dashboardResultIndex": null,
       "elementNUID": "c5894f10-5712-4f32-ad36-def9fe6dec7f",
       "elementType": "command",
       "guid": "80874513-fa0d-4eb9-8ed3-af5a2a2542e4",
       "options": null,
       "position": {
        "height": 6,
        "width": 12,
        "x": 12,
        "y": 12,
        "z": null
       },
       "resultIndex": null
      },
      {
       "dashboardResultIndex": null,
       "elementNUID": "ff94946b-6dfc-4f0e-b19a-4b5388053951",
       "elementType": "command",
       "guid": "90d79a3c-01b3-4e95-9892-fa20666c9094",
       "options": null,
       "position": {
        "height": 6,
        "width": 12,
        "x": 12,
        "y": 6,
        "z": null
       },
       "resultIndex": null
      },
      {
       "dashboardResultIndex": null,
       "elementNUID": "f934f091-742a-431c-bc02-5339ca714099",
       "elementType": "command",
       "guid": "e3f08676-5466-43de-818c-4a29f897ade1",
       "options": null,
       "position": {
        "height": 6,
        "width": 12,
        "x": 0,
        "y": 12,
        "z": null
       },
       "resultIndex": null
      }
     ],
     "globalVars": {},
     "guid": "",
     "layoutOption": {
      "grid": true,
      "stack": true
     },
     "nuid": "13af6e38-5046-42de-b7df-d09b5da98561",
     "origId": 3258091060545145,
     "title": "Task",
     "version": "DashboardViewV1",
     "width": 1024
    },
    {
     "elements": [],
     "globalVars": {},
     "guid": "",
     "layoutOption": {
      "grid": true,
      "stack": true
     },
     "nuid": "f0a9729b-6823-4f87-a8c5-391c612b90e5",
     "origId": 3258091060545146,
     "title": "Sales Dashboard",
     "version": "DashboardViewV1",
     "width": 1024
    }
   ],
   "environmentMetadata": null,
   "language": "python",
   "notebookMetadata": {
    "mostRecentlyExecutedCommandWithImplicitDF": {
     "commandId": 2571172824528432,
     "dataframes": [
      "_sqldf"
     ]
    },
    "pythonIndentUnit": 4
   },
   "notebookName": "Assignment",
   "widgets": {}
  }
 },
 "nbformat": 4,
 "nbformat_minor": 0
}
