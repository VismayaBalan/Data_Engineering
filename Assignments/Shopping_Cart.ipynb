{
 "cells": [
  {
   "cell_type": "code",
   "execution_count": null,
   "id": "0485f8fc-6434-4e40-abac-6552f012a2a9",
   "metadata": {},
   "outputs": [
    {
     "name": "stdout",
     "output_type": "stream",
     "text": [
      "Welcome to the Demo Marketplace\n"
     ]
    },
    {
     "name": "stdin",
     "output_type": "stream",
     "text": [
      "How do you want to login? (choose 'admin' or 'user')  user\n",
      "Enter user's username:  vismaya\n",
      "Enter user's password:  vis@123\n"
     ]
    },
    {
     "name": "stdout",
     "output_type": "stream",
     "text": [
      "Login successful as user\n",
      "\n",
      "Select an Option \n",
      "1. Display cart\n",
      "2. Add to cart\n",
      "3. Delete from cart\n",
      "4. Checkout\n",
      "5. Logout\n"
     ]
    },
    {
     "name": "stdin",
     "output_type": "stream",
     "text": [
      "Enter your choice:  2\n",
      "Enter Product Id:  1\n",
      "Enter the quantity:  5\n"
     ]
    },
    {
     "name": "stdout",
     "output_type": "stream",
     "text": [
      "Item added to the cart having Product Id 1\n",
      "\n",
      "Select an Option \n",
      "1. Display cart\n",
      "2. Add to cart\n",
      "3. Delete from cart\n",
      "4. Checkout\n",
      "5. Logout\n"
     ]
    },
    {
     "name": "stdin",
     "output_type": "stream",
     "text": [
      "Enter your choice:  2\n",
      "Enter Product Id:  3\n",
      "Enter the quantity:  5\n"
     ]
    },
    {
     "name": "stdout",
     "output_type": "stream",
     "text": [
      "Item added to the cart having Product Id 3\n",
      "\n",
      "Select an Option \n",
      "1. Display cart\n",
      "2. Add to cart\n",
      "3. Delete from cart\n",
      "4. Checkout\n",
      "5. Logout\n"
     ]
    },
    {
     "name": "stdin",
     "output_type": "stream",
     "text": [
      "Enter your choice:  1\n"
     ]
    },
    {
     "name": "stdout",
     "output_type": "stream",
     "text": [
      "--Items in the Cart--\n",
      "+----+--------------+--------------+------------+\n",
      "|    |   Session Id |   Product Id |   Quantity |\n",
      "+====+==============+==============+============+\n",
      "|  0 |          399 |            1 |          5 |\n",
      "+----+--------------+--------------+------------+\n",
      "|  1 |          791 |            3 |          5 |\n",
      "+----+--------------+--------------+------------+\n",
      "\n",
      "Select an Option \n",
      "1. Display cart\n",
      "2. Add to cart\n",
      "3. Delete from cart\n",
      "4. Checkout\n",
      "5. Logout\n"
     ]
    },
    {
     "name": "stdin",
     "output_type": "stream",
     "text": [
      "Enter your choice:  3\n",
      "Enter Product Id:  3\n"
     ]
    },
    {
     "name": "stdout",
     "output_type": "stream",
     "text": [
      "Item not found in cart with Session Id 26 and Product Id 3\n",
      "Item not found in cart with Session Id 26 and Product Id 3\n",
      "\n",
      "Select an Option \n",
      "1. Display cart\n",
      "2. Add to cart\n",
      "3. Delete from cart\n",
      "4. Checkout\n",
      "5. Logout\n"
     ]
    },
    {
     "name": "stdin",
     "output_type": "stream",
     "text": [
      "Enter your choice:  1\n"
     ]
    },
    {
     "name": "stdout",
     "output_type": "stream",
     "text": [
      "--Items in the Cart--\n",
      "+----+--------------+--------------+------------+\n",
      "|    |   Session Id |   Product Id |   Quantity |\n",
      "+====+==============+==============+============+\n",
      "|  0 |          399 |            1 |          5 |\n",
      "+----+--------------+--------------+------------+\n",
      "|  1 |          791 |            3 |          5 |\n",
      "+----+--------------+--------------+------------+\n",
      "\n",
      "Select an Option \n",
      "1. Display cart\n",
      "2. Add to cart\n",
      "3. Delete from cart\n",
      "4. Checkout\n",
      "5. Logout\n"
     ]
    },
    {
     "name": "stdin",
     "output_type": "stream",
     "text": [
      "Enter your choice:  2\n",
      "Enter Product Id:  3\n",
      "Enter the quantity:  1\n"
     ]
    },
    {
     "name": "stdout",
     "output_type": "stream",
     "text": [
      "Item added to the cart having Product Id 3\n",
      "\n",
      "Select an Option \n",
      "1. Display cart\n",
      "2. Add to cart\n",
      "3. Delete from cart\n",
      "4. Checkout\n",
      "5. Logout\n"
     ]
    },
    {
     "name": "stdin",
     "output_type": "stream",
     "text": [
      "Enter your choice:  4\n"
     ]
    },
    {
     "name": "stdout",
     "output_type": "stream",
     "text": [
      "Payment Methods\n",
      "UPI\n",
      "Netbanking\n"
     ]
    },
    {
     "name": "stdin",
     "output_type": "stream",
     "text": [
      "Select the payment method:  Netbanking\n"
     ]
    },
    {
     "name": "stdout",
     "output_type": "stream",
     "text": [
      "Redirecting for payment using Netbanking\n",
      "Payment Succesfull\n",
      "\n",
      "Select an Option \n",
      "1. Display cart\n",
      "2. Add to cart\n",
      "3. Delete from cart\n",
      "4. Checkout\n",
      "5. Logout\n"
     ]
    },
    {
     "name": "stdin",
     "output_type": "stream",
     "text": [
      "Enter your choice:  1\n"
     ]
    },
    {
     "name": "stdout",
     "output_type": "stream",
     "text": [
      "--Items in the Cart--\n",
      "+----+--------------+--------------+------------+\n",
      "|    |   Session Id |   Product Id |   Quantity |\n",
      "+====+==============+==============+============+\n",
      "|  0 |          791 |            3 |          5 |\n",
      "+----+--------------+--------------+------------+\n",
      "\n",
      "Select an Option \n",
      "1. Display cart\n",
      "2. Add to cart\n",
      "3. Delete from cart\n",
      "4. Checkout\n",
      "5. Logout\n"
     ]
    }
   ],
   "source": [
    "import pandas as pd\n",
    "import time\n",
    "from tabulate import tabulate\n",
    "import random\n",
    "\n",
    "print(\"Welcome to the Demo Marketplace\")\n",
    "\n",
    "user_db = {'vismaya':'vis@123', 'aswathi':'achu@123'}\n",
    "admin_db = {'admin1':'admin1@123','admin2':'admin2@123'}\n",
    "\n",
    "catalog = [\n",
    "    {\"ID\": 1, \"NAME\": \"Winter Boots\", \"CATEGORY\": \"Boots\", \"PRICE\": 120.00},\n",
    "    {\"ID\": 2, \"NAME\": \"Leather Jacket\", \"CATEGORY\": \"Jackets\", \"PRICE\": 250.00},\n",
    "    {\"ID\": 3, \"NAME\": \"Rain Coat\", \"CATEGORY\": \"Coats\", \"PRICE\": 180.00},\n",
    "    {\"ID\": 4, \"NAME\": \"Woolen Cap\", \"CATEGORY\": \"Caps\", \"PRICE\": 35.00},\n",
    "    {\"ID\": 5, \"NAME\": \"Hiking Boots\", \"CATEGORY\": \"Boots\", \"PRICE\": 150.00},\n",
    "    {\"ID\": 6, \"NAME\": \"Denim Jacket\", \"CATEGORY\": \"Jackets\", \"PRICE\": 200.00},\n",
    "    {\"ID\": 7, \"NAME\": \"Trench Coat\", \"CATEGORY\": \"Coats\", \"PRICE\": 220.00},\n",
    "    {\"ID\": 8, \"NAME\": \"Baseball Cap\", \"CATEGORY\": \"Caps\", \"PRICE\": 25.00}\n",
    "]\n",
    "\n",
    "cart = []\n",
    "\n",
    "def user_func():\n",
    "    while True:\n",
    "        print(\"\\nSelect an Option \")\n",
    "        print(\"1. Display cart\")\n",
    "        print(\"2. Add to cart\")\n",
    "        print(\"3. Delete from cart\")\n",
    "        print(\"4. Checkout\")\n",
    "        print(\"5. Logout\")\n",
    "    \n",
    "        choice = input(\"Enter your choice: \")\n",
    "    \n",
    "        if choice == '1':\n",
    "            display_cart()\n",
    "        elif choice == '2':\n",
    "            add_to_cart()\n",
    "        elif choice == '3':\n",
    "            delete_from_cart()\n",
    "        elif choice == '4':\n",
    "            checkout()\n",
    "        elif choice =='5':\n",
    "            print(\"Logging out\")\n",
    "            break\n",
    "        else:\n",
    "            print(\"Invalid choice, select another option\")\n",
    "            \n",
    "def checkout():\n",
    "    print(\"Payment Methods\")\n",
    "    print(\"UPI\")\n",
    "    print(\"Netbanking\")\n",
    "\n",
    "    payment_method = input(\"Select the payment method: \")\n",
    "\n",
    "    if payment_method == 'UPI' or payment_method=='Netbanking':\n",
    "        print(f\"Redirecting for payment using {payment_method}\")\n",
    "        time.sleep(3)\n",
    "        print(\"Payment Succesfull\")\n",
    "        for item in cart:\n",
    "            cart.remove(item)\n",
    "            \n",
    "        \n",
    "        \n",
    "def user_login():\n",
    "    user_username = input(\"Enter user's username: \")\n",
    "    user_password = input(\"Enter user's password: \")\n",
    "    if user_username in user_db and user_db[user_username] == user_password:\n",
    "        print(\"Login successful as user\")\n",
    "        user_func()\n",
    "    else:\n",
    "        print(\"Login failed\")\n",
    "        exit()\n",
    "\n",
    "def display_cart():\n",
    "    if not cart:\n",
    "        print(\"Cart is empty\")\n",
    "    else:\n",
    "        print(\"--Items in the Cart--\")\n",
    "        df = pd.DataFrame(cart)\n",
    "        print(tabulate(df, headers='keys', tablefmt='grid'))\n",
    "\n",
    "def add_to_cart(): \n",
    "    session_id = generate_session_id()\n",
    "    product_id = input(\"Enter Product Id: \")\n",
    "    quantity = input(\"Enter the quantity: \")\n",
    "    cart.append({'Session Id': session_id,'Product Id':product_id,'Quantity':quantity})\n",
    "    print(f\"Item added to the cart having Product Id {product_id}\")\n",
    "\n",
    "def delete_from_cart():\n",
    "    session_id = generate_session_id()\n",
    "    product_id = input(\"Enter Product Id: \")\n",
    "    for item in cart:\n",
    "        if item['Session Id'] == session_id and item[\"Product Id\"] == product_id:\n",
    "            cart.remove(item)\n",
    "            print(f\"Item deleted from the cart having Product Id {product_id}\")\n",
    "        else:\n",
    "            print(f\"Item not found in cart with Session Id {session_id} and Product Id {product_id}\")\n",
    "\n",
    "def admin_func():\n",
    "    while True:\n",
    "        print(\"\\nSelect an Option \")\n",
    "        print(\"1. Display catalog\")\n",
    "        print(\"2. Add products to catalog\")\n",
    "        print(\"3. Update Products\")\n",
    "        print(\"4. Delete products from catalog\")\n",
    "        print(\"5. Logout\")\n",
    "\n",
    "        choice = input(\"Enter your choice: \")\n",
    "\n",
    "        if choice == '1':\n",
    "            display_catalog()\n",
    "        elif choice == '2':\n",
    "            add_to_catalog()\n",
    "        elif choice == '3':\n",
    "            update_catalog()\n",
    "        elif choice == '4':\n",
    "            delete_from_catalog()\n",
    "        elif choice =='5':\n",
    "            print(\"Logging out\")\n",
    "            break\n",
    "        else:\n",
    "            print(\"Invalid choice, select another option\")\n",
    "\n",
    "def display_catalog():\n",
    "    df = pd.DataFrame(catalog)\n",
    "    print(tabulate(df, headers='keys', tablefmt='grid'))\n",
    "\n",
    "def add_to_catalog():\n",
    "    ID = input(\"Enter the Id: \")\n",
    "    NAME = input(\"Enter the name: \")\n",
    "    CATEGORY = input(\"Enter the category: \")\n",
    "    PRICE = input(\"Enter the price: \")\n",
    "    catalog.append({'ID': ID, 'NAME': NAME, 'CATEGORY': CATEGORY, 'PRICE': PRICE})\n",
    "    print(f\"{NAME} added to the catalog with Id {ID}\")\n",
    "\n",
    "def update_catalog():\n",
    "    product_id = int(input(\"Enter the product Id of product to update: \"))\n",
    "    name = input(\"Enter the new name (leave blank to keep current): \")\n",
    "    category = input(\"Enter the new category (leave blank to keep current): \")\n",
    "    price = input(\"Enter the new price (leave blank to keep current): \")\n",
    "\n",
    "    item_found = False\n",
    "    for item in catalog:\n",
    "        if item['ID'] == product_id:\n",
    "            if name:\n",
    "                item['NAME'] = name\n",
    "            if category:\n",
    "                item['CATEGORY'] = category\n",
    "            if price:\n",
    "                item['PRICE'] = float(price)\n",
    "\n",
    "            print(f\"Item with product id {product_id} updated\")\n",
    "            item_found = True\n",
    "            break\n",
    "\n",
    "    if not item_found:\n",
    "        print(\"Product not found in the catalog\")\n",
    "\n",
    "def delete_from_catalog():\n",
    "    product_id = input(\"Enter Product Id of product to delete: \")\n",
    "    item_found = False\n",
    "    for item in catalog:\n",
    "        if item['ID'] == product_id:\n",
    "            catalog.remove(item)\n",
    "            print(f\"Item deleted from the catalog having Product Id {product_id}\")\n",
    "            item_found = True\n",
    "            break\n",
    "    if not item_found:\n",
    "        print(f\"Item not found in catalog with Product Id {product_id}\")\n",
    "\n",
    "def admin_login():\n",
    "    admin_username = input(\"Enter admin's username: \")\n",
    "    admin_password = input(\"Enter admin's password: \")\n",
    "    if admin_username in admin_db and admin_db[admin_username] == admin_password:\n",
    "        print(\"Login successful as admin\")\n",
    "        admin_func()\n",
    "    else:\n",
    "        print(\"Login failed\")\n",
    "\n",
    "def generate_session_id():\n",
    "    return random.randint(1, 1000)\n",
    "\n",
    "while True:\n",
    "    user_choice = input(\"How do you want to login? (choose 'admin' or 'user') \")\n",
    "    if user_choice == 'admin':\n",
    "        admin_login()\n",
    "        break\n",
    "    elif user_choice == 'user':\n",
    "        user_login()\n",
    "        break\n",
    "    else:\n",
    "        print(\"Invalid choice, choose 'admin' or 'user'\")\n"
   ]
  },
  {
   "cell_type": "code",
   "execution_count": null,
   "id": "411646a9-00e1-4888-b31a-b32eb504f5c2",
   "metadata": {},
   "outputs": [],
   "source": []
  }
 ],
 "metadata": {
  "kernelspec": {
   "display_name": "Python 3 (ipykernel)",
   "language": "python",
   "name": "python3"
  },
  "language_info": {
   "codemirror_mode": {
    "name": "ipython",
    "version": 3
   },
   "file_extension": ".py",
   "mimetype": "text/x-python",
   "name": "python",
   "nbconvert_exporter": "python",
   "pygments_lexer": "ipython3",
   "version": "3.12.4"
  }
 },
 "nbformat": 4,
 "nbformat_minor": 5
}
