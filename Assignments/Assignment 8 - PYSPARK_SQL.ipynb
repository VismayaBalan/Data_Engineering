{
 "cells": [
  {
   "cell_type": "markdown",
   "id": "9532cb22",
   "metadata": {},
   "source": [
    "## Assignment 8 - Analysis of Telecom Customer Churn using Spark"
   ]
  },
  {
   "cell_type": "code",
   "execution_count": 2,
   "id": "e3b7ab74",
   "metadata": {},
   "outputs": [],
   "source": [
    "spark.stop()"
   ]
  },
  {
   "cell_type": "code",
   "execution_count": 3,
   "id": "f05ec829",
   "metadata": {},
   "outputs": [],
   "source": [
    "sc.stop()"
   ]
  },
  {
   "cell_type": "code",
   "execution_count": 4,
   "id": "213a8502",
   "metadata": {},
   "outputs": [],
   "source": [
    "from pyspark import SparkConf, SparkContext\n",
    "# setMaster() - set spark context manager which is local[cpu_cores]\n",
    "config = SparkConf().setMaster(\"local[4]\").setAppName(\"Assignment\")\n",
    "sc = SparkContext(conf=config)"
   ]
  },
  {
   "cell_type": "code",
   "execution_count": 5,
   "id": "872ef5aa",
   "metadata": {},
   "outputs": [],
   "source": [
    "from pyspark.sql import SparkSession\n",
    "spark = SparkSession.builder.appName(\"Assignment\").getOrCreate()"
   ]
  },
  {
   "cell_type": "code",
   "execution_count": 6,
   "id": "887b557a",
   "metadata": {},
   "outputs": [
    {
     "data": {
      "text/html": [
       "\n",
       "        <div>\n",
       "            <p><b>SparkContext</b></p>\n",
       "\n",
       "            <p><a href=\"http://10.0.2.15:4040\">Spark UI</a></p>\n",
       "\n",
       "            <dl>\n",
       "              <dt>Version</dt>\n",
       "                <dd><code>v2.4.8</code></dd>\n",
       "              <dt>Master</dt>\n",
       "                <dd><code>local[4]</code></dd>\n",
       "              <dt>AppName</dt>\n",
       "                <dd><code>Assignment</code></dd>\n",
       "            </dl>\n",
       "        </div>\n",
       "        "
      ],
      "text/plain": [
       "<SparkContext master=local[4] appName=Assignment>"
      ]
     },
     "execution_count": 6,
     "metadata": {},
     "output_type": "execute_result"
    }
   ],
   "source": [
    "sc"
   ]
  },
  {
   "cell_type": "code",
   "execution_count": 7,
   "id": "db72d30b",
   "metadata": {},
   "outputs": [
    {
     "data": {
      "text/html": [
       "\n",
       "            <div>\n",
       "                <p><b>SparkSession - hive</b></p>\n",
       "                \n",
       "        <div>\n",
       "            <p><b>SparkContext</b></p>\n",
       "\n",
       "            <p><a href=\"http://10.0.2.15:4040\">Spark UI</a></p>\n",
       "\n",
       "            <dl>\n",
       "              <dt>Version</dt>\n",
       "                <dd><code>v2.4.8</code></dd>\n",
       "              <dt>Master</dt>\n",
       "                <dd><code>local[4]</code></dd>\n",
       "              <dt>AppName</dt>\n",
       "                <dd><code>Assignment</code></dd>\n",
       "            </dl>\n",
       "        </div>\n",
       "        \n",
       "            </div>\n",
       "        "
      ],
      "text/plain": [
       "<pyspark.sql.session.SparkSession at 0x7fa7c6e62278>"
      ]
     },
     "execution_count": 7,
     "metadata": {},
     "output_type": "execute_result"
    }
   ],
   "source": [
    "spark"
   ]
  },
  {
   "cell_type": "code",
   "execution_count": 8,
   "id": "ceb22c0a",
   "metadata": {},
   "outputs": [],
   "source": [
    "customer_df = spark.read.csv(\"file:///home/hadoop/Downloads/Telco_Customer_Churn.csv\",header=True,inferSchema=True)"
   ]
  },
  {
   "cell_type": "code",
   "execution_count": 9,
   "id": "a0d3d8e8",
   "metadata": {},
   "outputs": [
    {
     "name": "stdout",
     "output_type": "stream",
     "text": [
      "+----------+------+-------------+-------+----------+------+------------+----------------+---------------+-------------------+-------------------+-------------------+-------------------+-------------------+-------------------+--------------+----------------+--------------------+--------------+------------+-----+\n",
      "|customerID|gender|SeniorCitizen|Partner|Dependents|tenure|PhoneService|   MultipleLines|InternetService|     OnlineSecurity|       OnlineBackup|   DeviceProtection|        TechSupport|        StreamingTV|    StreamingMovies|      Contract|PaperlessBilling|       PaymentMethod|MonthlyCharges|TotalCharges|Churn|\n",
      "+----------+------+-------------+-------+----------+------+------------+----------------+---------------+-------------------+-------------------+-------------------+-------------------+-------------------+-------------------+--------------+----------------+--------------------+--------------+------------+-----+\n",
      "|7590-VHVEG|Female|            0|    Yes|        No|     1|          No|No phone service|            DSL|                 No|                Yes|                 No|                 No|                 No|                 No|Month-to-month|             Yes|    Electronic check|         29.85|       29.85|   No|\n",
      "|5575-GNVDE|  Male|            0|     No|        No|    34|         Yes|              No|            DSL|                Yes|                 No|                Yes|                 No|                 No|                 No|      One year|              No|        Mailed check|         56.95|      1889.5|   No|\n",
      "|3668-QPYBK|  Male|            0|     No|        No|     2|         Yes|              No|            DSL|                Yes|                Yes|                 No|                 No|                 No|                 No|Month-to-month|             Yes|        Mailed check|         53.85|      108.15|  Yes|\n",
      "|7795-CFOCW|  Male|            0|     No|        No|    45|          No|No phone service|            DSL|                Yes|                 No|                Yes|                Yes|                 No|                 No|      One year|              No|Bank transfer (au...|          42.3|     1840.75|   No|\n",
      "|9237-HQITU|Female|            0|     No|        No|     2|         Yes|              No|    Fiber optic|                 No|                 No|                 No|                 No|                 No|                 No|Month-to-month|             Yes|    Electronic check|          70.7|      151.65|  Yes|\n",
      "|9305-CDSKC|Female|            0|     No|        No|     8|         Yes|             Yes|    Fiber optic|                 No|                 No|                Yes|                 No|                Yes|                Yes|Month-to-month|             Yes|    Electronic check|         99.65|       820.5|  Yes|\n",
      "|1452-KIOVK|  Male|            0|     No|       Yes|    22|         Yes|             Yes|    Fiber optic|                 No|                Yes|                 No|                 No|                Yes|                 No|Month-to-month|             Yes|Credit card (auto...|          89.1|      1949.4|   No|\n",
      "|6713-OKOMC|Female|            0|     No|        No|    10|          No|No phone service|            DSL|                Yes|                 No|                 No|                 No|                 No|                 No|Month-to-month|              No|        Mailed check|         29.75|       301.9|   No|\n",
      "|7892-POOKP|Female|            0|    Yes|        No|    28|         Yes|             Yes|    Fiber optic|                 No|                 No|                Yes|                Yes|                Yes|                Yes|Month-to-month|             Yes|    Electronic check|         104.8|     3046.05|  Yes|\n",
      "|6388-TABGU|  Male|            0|     No|       Yes|    62|         Yes|              No|            DSL|                Yes|                Yes|                 No|                 No|                 No|                 No|      One year|              No|Bank transfer (au...|         56.15|     3487.95|   No|\n",
      "|9763-GRSKD|  Male|            0|    Yes|       Yes|    13|         Yes|              No|            DSL|                Yes|                 No|                 No|                 No|                 No|                 No|Month-to-month|             Yes|        Mailed check|         49.95|      587.45|   No|\n",
      "|7469-LKBCI|  Male|            0|     No|        No|    16|         Yes|              No|             No|No internet service|No internet service|No internet service|No internet service|No internet service|No internet service|      Two year|              No|Credit card (auto...|         18.95|       326.8|   No|\n",
      "|8091-TTVAX|  Male|            0|    Yes|        No|    58|         Yes|             Yes|    Fiber optic|                 No|                 No|                Yes|                 No|                Yes|                Yes|      One year|              No|Credit card (auto...|        100.35|      5681.1|   No|\n",
      "|0280-XJGEX|  Male|            0|     No|        No|    49|         Yes|             Yes|    Fiber optic|                 No|                Yes|                Yes|                 No|                Yes|                Yes|Month-to-month|             Yes|Bank transfer (au...|         103.7|      5036.3|  Yes|\n",
      "|5129-JLPIS|  Male|            0|     No|        No|    25|         Yes|              No|    Fiber optic|                Yes|                 No|                Yes|                Yes|                Yes|                Yes|Month-to-month|             Yes|    Electronic check|         105.5|     2686.05|   No|\n",
      "|3655-SNQYZ|Female|            0|    Yes|       Yes|    69|         Yes|             Yes|    Fiber optic|                Yes|                Yes|                Yes|                Yes|                Yes|                Yes|      Two year|              No|Credit card (auto...|        113.25|     7895.15|   No|\n",
      "|8191-XWSZG|Female|            0|     No|        No|    52|         Yes|              No|             No|No internet service|No internet service|No internet service|No internet service|No internet service|No internet service|      One year|              No|        Mailed check|         20.65|     1022.95|   No|\n",
      "|9959-WOFKT|  Male|            0|     No|       Yes|    71|         Yes|             Yes|    Fiber optic|                Yes|                 No|                Yes|                 No|                Yes|                Yes|      Two year|              No|Bank transfer (au...|         106.7|     7382.25|   No|\n",
      "|4190-MFLUW|Female|            0|    Yes|       Yes|    10|         Yes|              No|            DSL|                 No|                 No|                Yes|                Yes|                 No|                 No|Month-to-month|              No|Credit card (auto...|          55.2|      528.35|  Yes|\n",
      "|4183-MYFRB|Female|            0|     No|        No|    21|         Yes|              No|    Fiber optic|                 No|                Yes|                Yes|                 No|                 No|                Yes|Month-to-month|             Yes|    Electronic check|         90.05|      1862.9|   No|\n",
      "+----------+------+-------------+-------+----------+------+------------+----------------+---------------+-------------------+-------------------+-------------------+-------------------+-------------------+-------------------+--------------+----------------+--------------------+--------------+------------+-----+\n",
      "only showing top 20 rows\n",
      "\n"
     ]
    }
   ],
   "source": [
    "customer_df.show()"
   ]
  },
  {
   "cell_type": "code",
   "execution_count": 10,
   "id": "73ed1e40",
   "metadata": {},
   "outputs": [],
   "source": [
    "customer_df.createOrReplaceTempView(\"CustomerChurn\")"
   ]
  },
  {
   "cell_type": "code",
   "execution_count": 11,
   "id": "e33e6202",
   "metadata": {},
   "outputs": [],
   "source": [
    "from pyspark.sql.functions import *"
   ]
  },
  {
   "cell_type": "markdown",
   "id": "4bdf3fa9",
   "metadata": {},
   "source": [
    "Write Spark SQL queries to show following analysis with Visualization."
   ]
  },
  {
   "cell_type": "markdown",
   "id": "135fc2cc",
   "metadata": {},
   "source": [
    "a) Analyze how customer retention varies based on how long the customer has stayed with the company (tenure)."
   ]
  },
  {
   "cell_type": "code",
   "execution_count": 12,
   "id": "dc401563",
   "metadata": {},
   "outputs": [
    {
     "name": "stdout",
     "output_type": "stream",
     "text": [
      "+------+---------------+------------------+-----------------+------------------+\n",
      "|tenure|Total_Customers|retained_customers|churned_customers|    Retention_Rate|\n",
      "+------+---------------+------------------+-----------------+------------------+\n",
      "|     0|             11|                11|                0|             100.0|\n",
      "|     1|            613|               233|              380| 38.00978792822186|\n",
      "|     2|            238|               115|              123|48.319327731092436|\n",
      "|     3|            200|               106|               94|              53.0|\n",
      "|     4|            176|                93|               83| 52.84090909090909|\n",
      "|     5|            133|                69|               64|  51.8796992481203|\n",
      "|     6|            110|                70|               40| 63.63636363636363|\n",
      "|     7|            131|                80|               51| 61.06870229007634|\n",
      "|     8|            123|                81|               42| 65.85365853658537|\n",
      "|     9|            119|                73|               46| 61.34453781512605|\n",
      "|    10|            116|                71|               45|61.206896551724135|\n",
      "|    11|             99|                68|               31| 68.68686868686868|\n",
      "|    12|            117|                79|               38| 67.52136752136752|\n",
      "|    13|            109|                71|               38| 65.13761467889908|\n",
      "|    14|             76|                52|               24| 68.42105263157895|\n",
      "|    15|             99|                62|               37| 62.62626262626263|\n",
      "|    16|             80|                52|               28|              65.0|\n",
      "|    17|             87|                61|               26| 70.11494252873564|\n",
      "|    18|             97|                73|               24| 75.25773195876289|\n",
      "|    19|             73|                54|               19| 73.97260273972603|\n",
      "+------+---------------+------------------+-----------------+------------------+\n",
      "only showing top 20 rows\n",
      "\n"
     ]
    }
   ],
   "source": [
    "result_a =spark.sql(f\"\"\"\n",
    "SELECT\n",
    "    tenure,\n",
    "    COUNT(*) AS Total_Customers,\n",
    "    SUM(CASE WHEN churn='No' THEN 1 ELSE 0 END) AS retained_customers,\n",
    "    SUM(CASE WHEN churn='Yes' THEN 1 ELSE 0 END) AS churned_customers,\n",
    "    (SUM(CASE WHEN churn='No' THEN 1 ELSE 0 END)/COUNT(*))*100 AS Retention_Rate\n",
    "FROM CustomerChurn\n",
    "GROUP BY tenure\n",
    "ORDER BY tenure\n",
    "\"\"\")\n",
    "result_a.show()"
   ]
  },
  {
   "cell_type": "code",
   "execution_count": 13,
   "id": "56a3eb5e",
   "metadata": {},
   "outputs": [
    {
     "data": {
      "image/png": "[encoded data removed]",
      "text/plain": [
       "<Figure size 432x360 with 1 Axes>"
      ]
     },
     "metadata": {
      "needs_background": "light"
     },
     "output_type": "display_data"
    }
   ],
   "source": [
    "import pandas as pd\n",
    "import matplotlib.pyplot as plt\n",
    "import seaborn as sns\n",
    "\n",
    "df = result_a.toPandas()\n",
    "plt.figure(figsize=(6, 5))\n",
    "sns.lineplot(data=df, x=\"tenure\", y=\"retained_customers\", label=\"Retained Customers\")\n",
    "sns.lineplot(data=df, x=\"tenure\", y=\"churned_customers\", label=\"Churned Customers\")\n",
    "plt.ylabel(\"Count\")\n",
    "plt.xlabel(\"Tenure\")\n",
    "plt.title(\"Customer Retention and Churn by Tenure\")\n",
    "plt.legend()\n",
    "plt.show()\n",
    "\n"
   ]
  },
  {
   "cell_type": "markdown",
   "id": "e5d36724",
   "metadata": {},
   "source": [
    "#### INSIGHTS\n",
    "    * Lower retention rate for New Customers\n",
    "    * High retention rate for Long term Customers"
   ]
  },
  {
   "cell_type": "markdown",
   "id": "63f221ee",
   "metadata": {},
   "source": [
    "b) Investigate the churn rate of customers who subscribe to streaming services like StreamingTV and\n",
    "StreamingMovies."
   ]
  },
  {
   "cell_type": "code",
   "execution_count": 23,
   "id": "b5e52d56",
   "metadata": {},
   "outputs": [
    {
     "name": "stdout",
     "output_type": "stream",
     "text": [
      "+-----------+---------------+-----------------+-----------------+\n",
      "|StreamingTV|StreamingMovies|       churn_rate|   Retention_Rate|\n",
      "+-----------+---------------+-----------------+-----------------+\n",
      "|        Yes|            Yes|29.43298969072165|70.56701030927836|\n",
      "+-----------+---------------+-----------------+-----------------+\n",
      "\n"
     ]
    }
   ],
   "source": [
    "result_b = spark.sql(f\"\"\"\n",
    "SELECT StreamingTV, StreamingMovies,\n",
    "(SUM(CASE WHEN churn=\"Yes\" THEN 1 ELSE 0 END) / COUNT(*)) * 100 AS churn_rate,\n",
    "(SUM(CASE WHEN churn='No' THEN 1 ELSE 0 END)/COUNT(*))*100 AS Retention_Rate\n",
    "FROM CustomerChurn \n",
    "where StreamingTV = 'Yes' and StreamingMovies = 'Yes'\n",
    "group by StreamingTV, StreamingMovies\n",
    "ORDER BY churn_rate desc\n",
    "\"\"\")\n",
    "result_b.show()"
   ]
  },
  {
   "cell_type": "code",
   "execution_count": 28,
   "id": "309abc13",
   "metadata": {},
   "outputs": [
    {
     "data": {
      "image/png": "[encoded data removed]",
      "text/plain": [
       "<Figure size 576x432 with 1 Axes>"
      ]
     },
     "metadata": {
      "needs_background": "light"
     },
     "output_type": "display_data"
    }
   ],
   "source": [
    "import matplotlib.pyplot as plt\n",
    "\n",
    "\n",
    "churn_rate = result_b.select('churn_rate').first()[0]  \n",
    "retention_rate = result_b.select('Retention_Rate').first()[0]  \n",
    "\n",
    "\n",
    "categories = ['Churn Rate', 'Retention Rate']\n",
    "values = [churn_rate, retention_rate]\n",
    "\n",
    "\n",
    "plt.figure(figsize=(8, 6))\n",
    "plt.bar(categories, values, color=['skyblue', 'lightgreen'])\n",
    "\n",
    "\n",
    "plt.ylabel('Percentage (%)')\n",
    "plt.title('Churn Rate and Retention Rate for Streaming Service Subscribers')\n",
    "\n",
    "plt.tight_layout()\n",
    "plt.show()\n"
   ]
  },
  {
   "cell_type": "markdown",
   "id": "62b8e9b9",
   "metadata": {},
   "source": [
    "#### INSIGHTS\n",
    "    * Higher churn rate for customers who does not subscribe to streaming services like StreamingTV and StreamingMovies"
   ]
  },
  {
   "cell_type": "markdown",
   "id": "a77ed32f",
   "metadata": {},
   "source": [
    "c) Write Spark SQL to group customers by their tenure (e.g., 0-12 months, 13-24 months, etc.) and analyze churn\n",
    "rates in these tenure groups."
   ]
  },
  {
   "cell_type": "code",
   "execution_count": 14,
   "id": "f36f0a71",
   "metadata": {},
   "outputs": [
    {
     "name": "stdout",
     "output_type": "stream",
     "text": [
      "+----------+---------------+-----------------+------------------+\n",
      "|Tenure_Grp|Total_Customers|churned_customers|        Churn_Rate|\n",
      "+----------+---------------+-----------------+------------------+\n",
      "|      0-12|           2186|             1037|47.438243366880144|\n",
      "|     13-24|           1024|              294|        28.7109375|\n",
      "|     25-36|            832|              180|21.634615384615387|\n",
      "|     37-48|            762|              145|19.028871391076116|\n",
      "|     49-60|            832|              120|14.423076923076922|\n",
      "|     61-72|           1407|               93| 6.609808102345416|\n",
      "+----------+---------------+-----------------+------------------+\n",
      "\n"
     ]
    }
   ],
   "source": [
    "spark.sql(f\"\"\"\n",
    "SELECT\n",
    "    CASE\n",
    "        WHEN tenure <= 12 THEN \"0-12\"\n",
    "        WHEN tenure <= 24 THEN \"13-24\" \n",
    "        WHEN tenure <= 36 THEN \"25-36\"\n",
    "        WHEN tenure <= 48 THEN \"37-48\"\n",
    "        WHEN tenure <= 60 THEN \"49-60\"\n",
    "        ELSE \"61-72\"\n",
    "    END AS Tenure_Grp,\n",
    "    COUNT(*) AS Total_Customers,\n",
    "    SUM(CASE WHEN churn='Yes' THEN 1 ELSE 0 END) AS churned_customers,\n",
    "    (SUM(CASE WHEN churn='Yes' THEN 1 ELSE 0 END)/COUNT(*))*100 AS Churn_Rate\n",
    "FROM CustomerChurn\n",
    "GROUP BY Tenure_Grp\n",
    "ORDER BY Churn_Rate DESC\n",
    "\"\"\").show()"
   ]
  },
  {
   "cell_type": "code",
   "execution_count": 35,
   "id": "0238ab42",
   "metadata": {},
   "outputs": [
    {
     "data": {
      "image/png": "[encoded data removed]",
      "text/plain": [
       "<Figure size 432x288 with 1 Axes>"
      ]
     },
     "metadata": {
      "needs_background": "light"
     },
     "output_type": "display_data"
    }
   ],
   "source": [
    "result_c = spark.sql(f\"\"\"\n",
    "SELECT\n",
    "    CASE\n",
    "        WHEN tenure <= 12 THEN \"0-12\"\n",
    "        WHEN tenure <= 24 THEN \"13-24\" \n",
    "        WHEN tenure <= 36 THEN \"25-36\"\n",
    "        WHEN tenure <= 48 THEN \"37-48\"\n",
    "        WHEN tenure <= 60 THEN \"49-60\"\n",
    "        ELSE \"61-72\"\n",
    "    END AS Tenure_Grp,\n",
    "    COUNT(*) AS Total_Customers,\n",
    "    SUM(CASE WHEN churn='Yes' THEN 1 ELSE 0 END) AS churned_customers,\n",
    "    (SUM(CASE WHEN churn='Yes' THEN 1 ELSE 0 END)/COUNT(*))*100 AS Churn_Rate\n",
    "FROM CustomerChurn\n",
    "GROUP BY Tenure_Grp\n",
    "ORDER BY Churn_Rate DESC\n",
    "\"\"\").toPandas()\n",
    "\n",
    "plt.bar(result_c['Tenure_Grp'],result_c['Churn_Rate'])\n",
    "plt.xlabel(\"Tenure Group\")\n",
    "plt.ylabel(\"Churn_Rate (%)\")\n",
    "plt.title('Customer Churn by Tenure')\n",
    "plt.show()"
   ]
  },
  {
   "cell_type": "markdown",
   "id": "a6bef6da",
   "metadata": {},
   "source": [
    "#### INSIGHTS\n",
    "* 0-12 months Tenure group has higher Churn rate \n",
    "* 61-72 months Tenure group has lower churn rate"
   ]
  },
  {
   "cell_type": "markdown",
   "id": "cd2db407",
   "metadata": {},
   "source": [
    "d) Analyze the impact of contract types and payment methods on churn rates."
   ]
  },
  {
   "cell_type": "code",
   "execution_count": 15,
   "id": "d76b12c8",
   "metadata": {},
   "outputs": [
    {
     "data": {
      "text/html": [
       "<div>\n",
       "<style scoped>\n",
       "    .dataframe tbody tr th:only-of-type {\n",
       "        vertical-align: middle;\n",
       "    }\n",
       "\n",
       "    .dataframe tbody tr th {\n",
       "        vertical-align: top;\n",
       "    }\n",
       "\n",
       "    .dataframe thead th {\n",
       "        text-align: right;\n",
       "    }\n",
       "</style>\n",
       "<table border=\"1\" class=\"dataframe\">\n",
       "  <thead>\n",
       "    <tr style=\"text-align: right;\">\n",
       "      <th></th>\n",
       "      <th>Contract</th>\n",
       "      <th>PaymentMethod</th>\n",
       "      <th>churn_rate</th>\n",
       "    </tr>\n",
       "  </thead>\n",
       "  <tbody>\n",
       "    <tr>\n",
       "      <th>0</th>\n",
       "      <td>Month-to-month</td>\n",
       "      <td>Electronic check</td>\n",
       "      <td>53.729730</td>\n",
       "    </tr>\n",
       "    <tr>\n",
       "      <th>1</th>\n",
       "      <td>Month-to-month</td>\n",
       "      <td>Bank transfer (automatic)</td>\n",
       "      <td>34.125637</td>\n",
       "    </tr>\n",
       "    <tr>\n",
       "      <th>2</th>\n",
       "      <td>Month-to-month</td>\n",
       "      <td>Credit card (automatic)</td>\n",
       "      <td>32.780847</td>\n",
       "    </tr>\n",
       "    <tr>\n",
       "      <th>3</th>\n",
       "      <td>Month-to-month</td>\n",
       "      <td>Mailed check</td>\n",
       "      <td>31.578947</td>\n",
       "    </tr>\n",
       "    <tr>\n",
       "      <th>4</th>\n",
       "      <td>One year</td>\n",
       "      <td>Electronic check</td>\n",
       "      <td>18.443804</td>\n",
       "    </tr>\n",
       "    <tr>\n",
       "      <th>5</th>\n",
       "      <td>One year</td>\n",
       "      <td>Credit card (automatic)</td>\n",
       "      <td>10.301508</td>\n",
       "    </tr>\n",
       "    <tr>\n",
       "      <th>6</th>\n",
       "      <td>One year</td>\n",
       "      <td>Bank transfer (automatic)</td>\n",
       "      <td>9.718670</td>\n",
       "    </tr>\n",
       "    <tr>\n",
       "      <th>7</th>\n",
       "      <td>Two year</td>\n",
       "      <td>Electronic check</td>\n",
       "      <td>7.738095</td>\n",
       "    </tr>\n",
       "    <tr>\n",
       "      <th>8</th>\n",
       "      <td>One year</td>\n",
       "      <td>Mailed check</td>\n",
       "      <td>6.824926</td>\n",
       "    </tr>\n",
       "    <tr>\n",
       "      <th>9</th>\n",
       "      <td>Two year</td>\n",
       "      <td>Bank transfer (automatic)</td>\n",
       "      <td>3.368794</td>\n",
       "    </tr>\n",
       "    <tr>\n",
       "      <th>10</th>\n",
       "      <td>Two year</td>\n",
       "      <td>Credit card (automatic)</td>\n",
       "      <td>2.237522</td>\n",
       "    </tr>\n",
       "    <tr>\n",
       "      <th>11</th>\n",
       "      <td>Two year</td>\n",
       "      <td>Mailed check</td>\n",
       "      <td>0.785340</td>\n",
       "    </tr>\n",
       "  </tbody>\n",
       "</table>\n",
       "</div>"
      ],
      "text/plain": [
       "          Contract              PaymentMethod  churn_rate\n",
       "0   Month-to-month           Electronic check   53.729730\n",
       "1   Month-to-month  Bank transfer (automatic)   34.125637\n",
       "2   Month-to-month    Credit card (automatic)   32.780847\n",
       "3   Month-to-month               Mailed check   31.578947\n",
       "4         One year           Electronic check   18.443804\n",
       "5         One year    Credit card (automatic)   10.301508\n",
       "6         One year  Bank transfer (automatic)    9.718670\n",
       "7         Two year           Electronic check    7.738095\n",
       "8         One year               Mailed check    6.824926\n",
       "9         Two year  Bank transfer (automatic)    3.368794\n",
       "10        Two year    Credit card (automatic)    2.237522\n",
       "11        Two year               Mailed check    0.785340"
      ]
     },
     "execution_count": 15,
     "metadata": {},
     "output_type": "execute_result"
    }
   ],
   "source": [
    "result_d = spark.sql(f\"\"\"\n",
    "SELECT Contract, PaymentMethod,\n",
    "(SUM(CASE WHEN churn='Yes' THEN 1 ELSE 0 END)/COUNT(*))*100 AS churn_rate\n",
    "from CustomerChurn\n",
    "GROUP BY Contract, PaymentMethod\n",
    "ORDER BY churn_rate DESC\n",
    "\"\"\").toPandas()\n",
    "\n",
    "result_d"
   ]
  },
  {
   "cell_type": "code",
   "execution_count": 16,
   "id": "0fb46eb0",
   "metadata": {},
   "outputs": [
    {
     "data": {
      "image/png": "[encoded data removed]",
      "text/plain": [
       "<Figure size 576x576 with 1 Axes>"
      ]
     },
     "metadata": {
      "needs_background": "light"
     },
     "output_type": "display_data"
    }
   ],
   "source": [
    "import pandas as pd\n",
    "import matplotlib.pyplot as plt\n",
    "\n",
    "\n",
    "plt.figure(figsize=(8, 8))\n",
    "sns.barplot(data=result_d, x='PaymentMethod', y='churn_rate', hue='Contract', palette='viridis')\n",
    "\n",
    "plt.xlabel('Payment Method')\n",
    "plt.ylabel('Churn Rate (%)')\n",
    "plt.title('Churn Rate by Payment Method and Contract for Streaming Service Subscribers')\n",
    "plt.tight_layout()\n",
    "plt.show()\n"
   ]
  },
  {
   "cell_type": "markdown",
   "id": "9a0de71b",
   "metadata": {},
   "source": [
    "e) Explore the distribution of monthly charges for customers based on their type of internet service."
   ]
  },
  {
   "cell_type": "code",
   "execution_count": 12,
   "id": "33df88e8",
   "metadata": {},
   "outputs": [
    {
     "name": "stdout",
     "output_type": "stream",
     "text": [
      "+---------------+-------------------+\n",
      "|InternetService|Avg_Monthly_Charges|\n",
      "+---------------+-------------------+\n",
      "|    Fiber optic|  91.50012919896615|\n",
      "|            DSL|  58.10216852540261|\n",
      "|             No| 21.079193971166454|\n",
      "+---------------+-------------------+\n",
      "\n"
     ]
    }
   ],
   "source": [
    "spark.sql(f\"\"\"\n",
    "select InternetService, \n",
    "avg(MonthlyCharges) as Avg_Monthly_Charges\n",
    "from CustomerChurn\n",
    "group by InternetService\n",
    "order by Avg_Monthly_Charges desc\n",
    "\"\"\").show()"
   ]
  },
  {
   "cell_type": "code",
   "execution_count": 13,
   "id": "96c53044",
   "metadata": {},
   "outputs": [
    {
     "data": {
      "image/png": "[encoded data removed]",
      "text/plain": [
       "<Figure size 432x288 with 1 Axes>"
      ]
     },
     "metadata": {
      "needs_background": "light"
     },
     "output_type": "display_data"
    }
   ],
   "source": [
    "result_e = spark.sql(f\"\"\"\n",
    "select InternetService, \n",
    "avg(MonthlyCharges) as Avg_Monthly_Charges\n",
    "from CustomerChurn\n",
    "group by InternetService\n",
    "order by Avg_Monthly_Charges desc\n",
    "\"\"\").toPandas()\n",
    "\n",
    "\n",
    "plt.bar(result_e['InternetService'],result_e['Avg_Monthly_Charges'])\n",
    "plt.title('Distribution of Monthly Charges by Internet Service Type')\n",
    "plt.xlabel('Type of Internet Service')\n",
    "plt.ylabel('Average Monthly Charges ($)')\n",
    "plt.show()"
   ]
  },
  {
   "cell_type": "markdown",
   "id": "62175e81",
   "metadata": {},
   "source": [
    "f) Identify the top 10 customers who have contributed the most revenue to the company, based on total charges."
   ]
  },
  {
   "cell_type": "code",
   "execution_count": 32,
   "id": "d88b0e1f",
   "metadata": {},
   "outputs": [
    {
     "name": "stdout",
     "output_type": "stream",
     "text": [
      "+----------+------------+\n",
      "|customerID|TotalCharges|\n",
      "+----------+------------+\n",
      "|9093-FPDLG|       999.9|\n",
      "|4536-PLEQY|       999.8|\n",
      "|5899-MQZZL|      999.45|\n",
      "|6051-PTVNS|       998.1|\n",
      "|8249-THVEC|      997.75|\n",
      "|6328-ZPBGN|      997.65|\n",
      "|7297-DVYGA|      996.95|\n",
      "|6243-OZGFH|      996.85|\n",
      "|0484-JPBRU|      996.45|\n",
      "|2971-SGAFL|      995.35|\n",
      "+----------+------------+\n",
      "\n"
     ]
    }
   ],
   "source": [
    "spark.sql(f\"\"\"\n",
    "select customerID,TotalCharges from CustomerChurn\n",
    "order by TotalCharges desc \n",
    "limit 10\n",
    "\"\"\").show()"
   ]
  },
  {
   "cell_type": "markdown",
   "id": "6f7a16e2",
   "metadata": {},
   "source": [
    "g) Calculate the churn rate segmented by gender and whether the customer is a senior citizen."
   ]
  },
  {
   "cell_type": "code",
   "execution_count": 30,
   "id": "1f14e2ba",
   "metadata": {},
   "outputs": [
    {
     "name": "stdout",
     "output_type": "stream",
     "text": [
      "+------+-------------+------------------+\n",
      "|gender|SeniorCitizen|        churn_rate|\n",
      "+------+-------------+------------------+\n",
      "|Female|            1| 42.25352112676056|\n",
      "|  Male|            1| 41.11498257839721|\n",
      "|Female|            0|23.938356164383563|\n",
      "|  Male|            0|23.280778262328077|\n",
      "+------+-------------+------------------+\n",
      "\n"
     ]
    },
    {
     "data": {
      "image/png": "[encoded data removed]",
      "text/plain": [
       "<Figure size 576x576 with 1 Axes>"
      ]
     },
     "metadata": {
      "needs_background": "light"
     },
     "output_type": "display_data"
    }
   ],
   "source": [
    "result_g = spark.sql(f\"\"\"\n",
    "select gender,SeniorCitizen,\n",
    "(SUM(CASE WHEN churn='Yes' THEN 1 ELSE 0 END)/COUNT(*))*100 AS churn_rate \n",
    "from CustomerChurn\n",
    "group by gender, SeniorCitizen\n",
    "order by churn_rate desc\n",
    "\"\"\")\n",
    "result_g.show()\n",
    "\n",
    "result_g = result_g.toPandas()\n",
    "\n",
    "plt.figure(figsize=(8, 8))\n",
    "sns.barplot(data=result_g, x='gender', y='churn_rate', hue = 'SeniorCitizen', palette='viridis')\n",
    "plt.xlabel('Gender')\n",
    "plt.ylabel('Churn Rate(%)')\n",
    "plt.title('Churn Rate of Subscribers Based on Gender and Senior Citizenship')\n",
    "plt.tight_layout()\n",
    "plt.show()"
   ]
  },
  {
   "cell_type": "markdown",
   "id": "85038df0",
   "metadata": {},
   "source": [
    "\n",
    "h) Write query to calculate Correlation between dependents and churn. Explore whether having dependents affects\n",
    "customer churn rates."
   ]
  },
  {
   "cell_type": "code",
   "execution_count": 33,
   "id": "4b2a3acb",
   "metadata": {},
   "outputs": [
    {
     "name": "stdout",
     "output_type": "stream",
     "text": [
      "+----------+------------------+\n",
      "|Dependents|        churn_rate|\n",
      "+----------+------------------+\n",
      "|        No|31.279140482465028|\n",
      "|       Yes|15.450236966824646|\n",
      "+----------+------------------+\n",
      "\n"
     ]
    },
    {
     "data": {
      "image/png": "[encoded data removed]",
      "text/plain": [
       "<Figure size 432x360 with 1 Axes>"
      ]
     },
     "metadata": {
      "needs_background": "light"
     },
     "output_type": "display_data"
    }
   ],
   "source": [
    "result_h = spark.sql(f\"\"\"\n",
    "select Dependents,\n",
    "(SUM(CASE WHEN churn='Yes' THEN 1 ELSE 0 END)/COUNT(*))*100 AS churn_rate \n",
    "from CustomerChurn\n",
    "group by Dependents\n",
    "order by churn_rate desc\n",
    "\"\"\")\n",
    "\n",
    "result_h.show()\n",
    "\n",
    "result_h = result_h.toPandas()\n",
    "plt.figure(figsize=(6, 5))\n",
    "sns.barplot(data=result_h, x='Dependents', y='churn_rate', palette='viridis')\n",
    "plt.xlabel('Dependents')\n",
    "plt.ylabel('Churn Rate(%)')\n",
    "plt.title('Churn Rate Based on Dependents')\n",
    "plt.tight_layout()\n",
    "plt.show()"
   ]
  },
  {
   "cell_type": "markdown",
   "id": "48e16efd",
   "metadata": {},
   "source": [
    "i) Predict potential churn rates by analyzing the relationship between monthly charges, contract types, and the\n",
    "churn rate."
   ]
  },
  {
   "cell_type": "code",
   "execution_count": 20,
   "id": "4e1eeadb",
   "metadata": {},
   "outputs": [
    {
     "name": "stdout",
     "output_type": "stream",
     "text": [
      "+--------------+-------------------+------------------+\n",
      "|      Contract|Avg_Monthly_Charges|        churn_rate|\n",
      "+--------------+-------------------+------------------+\n",
      "|Month-to-month|  66.39849032258037| 42.70967741935484|\n",
      "|      One year|  65.04860828241674|11.269517990495586|\n",
      "|      Two year|    60.770412979351| 2.831858407079646|\n",
      "+--------------+-------------------+------------------+\n",
      "\n"
     ]
    }
   ],
   "source": [
    "spark.sql(f\"\"\"\n",
    "SELECT Contract,Avg(MonthlyCharges) as Avg_Monthly_Charges,\n",
    "(SUM(CASE WHEN churn='Yes' THEN 1 ELSE 0 END)/COUNT(*))*100 AS churn_rate\n",
    "from CustomerChurn\n",
    "GROUP BY Contract\n",
    "ORDER BY churn_rate DESC\n",
    "\"\"\").show()"
   ]
  },
  {
   "cell_type": "markdown",
   "id": "824f0fba",
   "metadata": {},
   "source": [
    "#### INSIGHT\n",
    "* As the contract time increases average monthly charge decreases and the churn rate also decreases."
   ]
  },
  {
   "cell_type": "markdown",
   "id": "1683363b",
   "metadata": {},
   "source": [
    "j) Determine the churn rate for customers who have multiple services (Phone, Internet, and Streaming), which can\n",
    "help understand whether bundling services leads to higher or lower churn. Calculate churn rate for customers\n",
    "with multiple services."
   ]
  },
  {
   "cell_type": "code",
   "execution_count": 37,
   "id": "be3e0981",
   "metadata": {},
   "outputs": [
    {
     "name": "stdout",
     "output_type": "stream",
     "text": [
      "+------------+---------------+-----------+---------------+-----------------+\n",
      "|PhoneService|InternetService|StreamingTV|StreamingMovies|       churn_rate|\n",
      "+------------+---------------+-----------+---------------+-----------------+\n",
      "|         Yes|    Fiber optic|        Yes|            Yes|37.63358778625954|\n",
      "|         Yes|            DSL|        Yes|            Yes| 8.13953488372093|\n",
      "+------------+---------------+-----------+---------------+-----------------+\n",
      "\n"
     ]
    }
   ],
   "source": [
    "spark.sql(f\"\"\"\n",
    "SELECT PhoneService, InternetService, StreamingTV, StreamingMovies,\n",
    "       (SUM(CASE WHEN Churn = 'Yes' THEN 1 ELSE 0 END) * 100.0 / COUNT(*)) AS churn_rate\n",
    "FROM CustomerChurn\n",
    "WHERE PhoneService = 'Yes' \n",
    "  AND InternetService != 'No' \n",
    "  AND StreamingTV = 'Yes' \n",
    "  AND StreamingMovies = 'Yes'\n",
    "GROUP BY PhoneService, InternetService, StreamingTV, StreamingMovies\n",
    "ORDER BY churn_rate DESC\n",
    "\"\"\").show()\n"
   ]
  },
  {
   "cell_type": "markdown",
   "id": "c46fc5ee",
   "metadata": {},
   "source": [
    "k) Churn Impact by device protection and online backup services. Write query to investigate whether having device\n",
    "protection or online backup services affects churn rates."
   ]
  },
  {
   "cell_type": "code",
   "execution_count": 29,
   "id": "276f4658",
   "metadata": {},
   "outputs": [
    {
     "name": "stdout",
     "output_type": "stream",
     "text": [
      "+-------------------+-------------------+------------------+\n",
      "|       OnlineBackup|   DeviceProtection|        churn_rate|\n",
      "+-------------------+-------------------+------------------+\n",
      "|                 No|                 No|45.917338709677416|\n",
      "|                 No|                Yes|29.166666666666668|\n",
      "|                Yes|                 No|27.002700270027002|\n",
      "|                Yes|                Yes|  16.9195751138088|\n",
      "|No internet service|No internet service| 7.404980340760157|\n",
      "+-------------------+-------------------+------------------+\n",
      "\n"
     ]
    }
   ],
   "source": [
    "spark.sql(\"\"\"\n",
    "SELECT OnlineBackup, DeviceProtection,\n",
    "(SUM(CASE WHEN churn='Yes' THEN 1 ELSE 0 END)/COUNT(*))*100 AS churn_rate\n",
    "from CustomerChurn\n",
    "group by OnlineBackup, DeviceProtection\n",
    "ORDER BY churn_rate DESC\n",
    "\"\"\").show()"
   ]
  },
  {
   "cell_type": "markdown",
   "id": "0ad31068",
   "metadata": {},
   "source": [
    "#### INSIGHT\n",
    "* Churn rate is higher when there is no Online Backup and Device Protection\n",
    "* Churn rate is lower when there is Online Backup and Device Protection"
   ]
  },
  {
   "cell_type": "markdown",
   "id": "d89be534",
   "metadata": {},
   "source": [
    "l) Explore churn rates among customers who do not have phone service and investigate if it influences customer\n",
    "retention."
   ]
  },
  {
   "cell_type": "code",
   "execution_count": 34,
   "id": "47dd9c77",
   "metadata": {},
   "outputs": [
    {
     "name": "stdout",
     "output_type": "stream",
     "text": [
      "+------------+------------------+-----------------+\n",
      "|PhoneService|        churn_rate|   retention_rate|\n",
      "+------------+------------------+-----------------+\n",
      "|          No|24.926686217008797| 75.0733137829912|\n",
      "|         Yes| 26.70963684955196|73.29036315044804|\n",
      "+------------+------------------+-----------------+\n",
      "\n"
     ]
    },
    {
     "data": {
      "image/png": "[encoded data removed]",
      "text/plain": [
       "<Figure size 432x360 with 1 Axes>"
      ]
     },
     "metadata": {
      "needs_background": "light"
     },
     "output_type": "display_data"
    }
   ],
   "source": [
    "result_l =spark.sql(f\"\"\"\n",
    "SELECT PhoneService,\n",
    "(SUM(CASE WHEN churn='Yes' THEN 1 ELSE 0 END)/COUNT(*))*100 AS churn_rate,\n",
    "(SUM(CASE WHEN churn='No' THEN 1 ELSE 0 END)/COUNT(*))*100 AS retention_rate\n",
    "from CustomerChurn\n",
    "group by PhoneService\n",
    "ORDER BY churn_rate \n",
    "\"\"\")\n",
    "\n",
    "result_l.show()\n",
    "\n",
    "\n",
    "result_l = result_l.toPandas()\n",
    "plt.figure(figsize=(6, 5))\n",
    "sns.barplot(data=result_l, x='PhoneService', y='churn_rate', palette='viridis')\n",
    "plt.xlabel('Phone Service')\n",
    "plt.ylabel('Churn Rate(%)')\n",
    "plt.title('Churn Rate Based on Phone Service')\n",
    "plt.tight_layout()\n",
    "plt.show()"
   ]
  },
  {
   "cell_type": "markdown",
   "id": "0a47c3f8",
   "metadata": {},
   "source": [
    "#### INSIGHTS\n",
    "* Retention rate is higher when there is no Phoneservice."
   ]
  },
  {
   "cell_type": "markdown",
   "id": "47d5060f",
   "metadata": {},
   "source": [
    "m) Understand the relationship between payment methods and contract types on customer churn. This query will\n",
    "help you discover which combinations are most prone to churn."
   ]
  },
  {
   "cell_type": "code",
   "execution_count": 35,
   "id": "203d2358",
   "metadata": {},
   "outputs": [
    {
     "name": "stdout",
     "output_type": "stream",
     "text": [
      "+--------------+--------------------+------------------+\n",
      "|      Contract|       PaymentMethod|        churn_rate|\n",
      "+--------------+--------------------+------------------+\n",
      "|Month-to-month|    Electronic check|53.729729729729726|\n",
      "|Month-to-month|Bank transfer (au...|34.125636672325975|\n",
      "|Month-to-month|Credit card (auto...| 32.78084714548803|\n",
      "|Month-to-month|        Mailed check| 31.57894736842105|\n",
      "|      One year|    Electronic check|18.443804034582133|\n",
      "|      One year|Credit card (auto...|10.301507537688442|\n",
      "|      One year|Bank transfer (au...| 9.718670076726342|\n",
      "|      Two year|    Electronic check| 7.738095238095238|\n",
      "|      One year|        Mailed check| 6.824925816023739|\n",
      "|      Two year|Bank transfer (au...| 3.368794326241135|\n",
      "|      Two year|Credit card (auto...|2.2375215146299485|\n",
      "|      Two year|        Mailed check|0.7853403141361256|\n",
      "+--------------+--------------------+------------------+\n",
      "\n"
     ]
    },
    {
     "data": {
      "image/png": "[encoded data removed]",
      "text/plain": [
       "<Figure size 576x576 with 1 Axes>"
      ]
     },
     "metadata": {
      "needs_background": "light"
     },
     "output_type": "display_data"
    }
   ],
   "source": [
    "result_m = spark.sql(\"\"\"\n",
    "SELECT Contract, PaymentMethod,\n",
    "(SUM(CASE WHEN churn='Yes' THEN 1 ELSE 0 END)/COUNT(*))*100 AS churn_rate\n",
    "from CustomerChurn\n",
    "GROUP BY Contract, PaymentMethod\n",
    "ORDER BY churn_rate DESC\n",
    "\"\"\")\n",
    "\n",
    "result_m.show()\n",
    "\n",
    "\n",
    "result_m = result_m.toPandas()\n",
    "plt.figure(figsize=(8, 8))\n",
    "sns.barplot(data=result_m, x='PaymentMethod', y='churn_rate', hue = 'Contract', palette='viridis')\n",
    "plt.xlabel('Contract and Payment Method')\n",
    "plt.ylabel('Churn Rate (%)')\n",
    "plt.title('Churn Rate by Contract and Payment Method for Streaming Service Subscribers')\n",
    "plt.tight_layout()\n",
    "plt.show()"
   ]
  },
  {
   "cell_type": "markdown",
   "id": "17f25d95",
   "metadata": {},
   "source": [
    "#### INSIGHT\n",
    "* Month-to-Month and Electronic check combination have highest churn rate."
   ]
  },
  {
   "cell_type": "markdown",
   "id": "3e9523f5",
   "metadata": {},
   "source": [
    "n) Analyze how customer churn is affected by senior citizen status and whether the customer has dependents."
   ]
  },
  {
   "cell_type": "code",
   "execution_count": 37,
   "id": "c3e3f63c",
   "metadata": {},
   "outputs": [
    {
     "name": "stdout",
     "output_type": "stream",
     "text": [
      "+-------------+----------+------------------+\n",
      "|SeniorCitizen|Dependents|        churn_rate|\n",
      "+-------------+----------+------------------+\n",
      "|            1|        No| 43.19695528068506|\n",
      "|            0|        No|28.052550231839255|\n",
      "|            1|       Yes|24.175824175824175|\n",
      "|            0|       Yes|15.056958890539871|\n",
      "+-------------+----------+------------------+\n",
      "\n"
     ]
    },
    {
     "data": {
      "image/png": "[encoded data removed]",
      "text/plain": [
       "<Figure size 432x360 with 1 Axes>"
      ]
     },
     "metadata": {
      "needs_background": "light"
     },
     "output_type": "display_data"
    }
   ],
   "source": [
    "result_n = spark.sql(f\"\"\"\n",
    "SELECT SeniorCitizen, Dependents,\n",
    "(SUM(CASE WHEN churn='Yes' THEN 1 ELSE 0 END)/COUNT(*))*100 AS churn_rate\n",
    "from CustomerChurn\n",
    "GROUP BY SeniorCitizen, Dependents\n",
    "ORDER BY churn_rate DESC\n",
    "\"\"\")\n",
    "result_n.show()\n",
    "\n",
    "result_n = result_n.toPandas()\n",
    "plt.figure(figsize=(6, 5))\n",
    "sns.barplot(data=result_n, x='Dependents', y='churn_rate', hue = 'SeniorCitizen', palette='viridis')\n",
    "plt.xlabel('Dependents')\n",
    "plt.ylabel('Churn Rate(%)')\n",
    "plt.title('Churn Rate of Subscribers Based on Dependents and Senior Citizenship')\n",
    "plt.tight_layout()\n",
    "plt.show()"
   ]
  },
  {
   "cell_type": "markdown",
   "id": "b034b85f",
   "metadata": {},
   "source": [
    "#### INSIGHT\n",
    "* Senior citizens having no dependents have higher churn rate."
   ]
  },
  {
   "cell_type": "markdown",
   "id": "ce8dfba2",
   "metadata": {},
   "source": [
    "o) Explore whether subscribing to streaming services like Streaming TV and Streaming Movies influences the churn\n",
    "rate."
   ]
  },
  {
   "cell_type": "code",
   "execution_count": 41,
   "id": "dcbe4ef9",
   "metadata": {},
   "outputs": [
    {
     "name": "stdout",
     "output_type": "stream",
     "text": [
      "+-------------------+-------------------+------------------+\n",
      "|        StreamingTV|    StreamingMovies|        churn_rate|\n",
      "+-------------------+-------------------+------------------+\n",
      "|                 No|                 No|  34.4400396432111|\n",
      "|                Yes|                 No|31.681877444589308|\n",
      "|                 No|                Yes|31.186868686868685|\n",
      "|                Yes|                Yes| 29.43298969072165|\n",
      "|No internet service|No internet service| 7.404980340760157|\n",
      "+-------------------+-------------------+------------------+\n",
      "\n"
     ]
    }
   ],
   "source": [
    "spark.sql(f\"\"\"\n",
    "SELECT StreamingTV, StreamingMovies,\n",
    "(SUM(CASE WHEN churn='Yes' THEN 1 ELSE 0 END)/COUNT(*))*100 AS churn_rate\n",
    "from CustomerChurn\n",
    "GROUP BY StreamingTV, StreamingMovies\n",
    "ORDER BY churn_rate DESC\n",
    "\"\"\").show()"
   ]
  },
  {
   "cell_type": "markdown",
   "id": "457b1341",
   "metadata": {},
   "source": [
    "#### INSIGHT\n",
    "* Churn rate is higher when there is no subscription to Streaming Services."
   ]
  },
  {
   "cell_type": "markdown",
   "id": "3c6808f5",
   "metadata": {},
   "source": [
    "p) Understand how tenure and MonthlyCharges differ between churned and non-churned customers. This can\n",
    "provide insights into the behavior of long-term customers."
   ]
  },
  {
   "cell_type": "code",
   "execution_count": 34,
   "id": "b97cff60",
   "metadata": {},
   "outputs": [
    {
     "name": "stdout",
     "output_type": "stream",
     "text": [
      "+-----+------------------+------------------+\n",
      "|churn|        Avg_tenure|Avg_MonthlyCharges|\n",
      "+-----+------------------+------------------+\n",
      "|   No| 37.56996521066873|  61.2651236953999|\n",
      "|  Yes|17.979133226324237|  74.4413322632423|\n",
      "+-----+------------------+------------------+\n",
      "\n"
     ]
    }
   ],
   "source": [
    "spark.sql(f\"\"\"\n",
    "SELECT churn,avg(tenure) as Avg_tenure, Avg(MonthlyCharges) as Avg_MonthlyCharges\n",
    "FROM CustomerChurn\n",
    "GROUP BY churn\n",
    "\n",
    "\"\"\").show()"
   ]
  },
  {
   "cell_type": "markdown",
   "id": "f9612221",
   "metadata": {},
   "source": [
    "#### INSIGHT\n",
    "\n",
    "Long term customers have high average monthly charge and less churn rate.\n"
   ]
  },
  {
   "cell_type": "markdown",
   "id": "da15c7cb",
   "metadata": {},
   "source": [
    "q) Compare monthly charges and churn rates between newer customers and long-time customers."
   ]
  },
  {
   "cell_type": "code",
   "execution_count": 47,
   "id": "14d34da4",
   "metadata": {},
   "outputs": [
    {
     "name": "stdout",
     "output_type": "stream",
     "text": [
      "+-------------------+------------------+------------------+\n",
      "|         Tenure_Grp|Avg_Monthly_Charge|        Churn_Rate|\n",
      "+-------------------+------------------+------------------+\n",
      "|      New Customers| 56.09778133577306|47.438243366880144|\n",
      "|Long term Customers| 68.66107679637616|17.129915585752524|\n",
      "+-------------------+------------------+------------------+\n",
      "\n"
     ]
    }
   ],
   "source": [
    "spark.sql(f\"\"\"\n",
    "SELECT\n",
    "    CASE\n",
    "        WHEN tenure <= 12 THEN \"New Customers\"\n",
    "        ELSE \"Long term Customers\"\n",
    "    END AS Tenure_Grp,Avg(MonthlyCharges) Avg_Monthly_Charge,\n",
    "    (SUM(CASE WHEN churn='Yes' THEN 1 ELSE 0 END)/COUNT(*))*100 AS Churn_Rate\n",
    "FROM CustomerChurn\n",
    "GROUP BY Tenure_Grp\n",
    "ORDER BY Churn_Rate DESC\n",
    "\"\"\").show()"
   ]
  },
  {
   "cell_type": "markdown",
   "id": "76f19f33",
   "metadata": {},
   "source": [
    "r) What is the correlation between senior citizen status and churn rate?"
   ]
  },
  {
   "cell_type": "code",
   "execution_count": 41,
   "id": "478ee922",
   "metadata": {},
   "outputs": [
    {
     "name": "stdout",
     "output_type": "stream",
     "text": [
      "+-------------+------------------+\n",
      "|SeniorCitizen|        churn_rate|\n",
      "+-------------+------------------+\n",
      "|            1| 41.68126094570928|\n",
      "|            0|23.606168446026096|\n",
      "+-------------+------------------+\n",
      "\n"
     ]
    },
    {
     "data": {
      "image/png": "[encoded data removed]",
      "text/plain": [
       "<Figure size 432x360 with 1 Axes>"
      ]
     },
     "metadata": {
      "needs_background": "light"
     },
     "output_type": "display_data"
    }
   ],
   "source": [
    "result_r = spark.sql(f\"\"\"\n",
    "select SeniorCitizen,\n",
    "(SUM(CASE WHEN churn='Yes' THEN 1 ELSE 0 END)/COUNT(*))*100 AS churn_rate\n",
    "from CustomerChurn\n",
    "group by SeniorCitizen\n",
    "\"\"\")\n",
    "\n",
    "result_r.show()\n",
    "\n",
    "\n",
    "result_r = result_r.toPandas()\n",
    "plt.figure(figsize=(6, 5))\n",
    "sns.barplot(data=result_r, x='SeniorCitizen', y='churn_rate', palette='viridis')\n",
    "plt.xlabel('SeniorCitizen')\n",
    "plt.ylabel('Churn Rate(%)')\n",
    "plt.title('Churn Rate of Subscribers Based on Senior Citizenship')\n",
    "plt.tight_layout()\n",
    "plt.show()"
   ]
  },
  {
   "cell_type": "markdown",
   "id": "22946d0c",
   "metadata": {},
   "source": [
    "s) Partition customers based on whether they are senior citizens and divide them into 5 groups based on tenure.\n",
    "[Use NTILE.]"
   ]
  },
  {
   "cell_type": "code",
   "execution_count": 14,
   "id": "1d881998",
   "metadata": {},
   "outputs": [
    {
     "name": "stdout",
     "output_type": "stream",
     "text": [
      "+----------+------+-------------+-----+\n",
      "|customerID|tenure|SeniorCitizen|group|\n",
      "+----------+------+-------------+-----+\n",
      "|8779-QRDMV|     1|            1|    1|\n",
      "|3413-BMNZE|     1|            1|    1|\n",
      "|2424-WVHPL|     1|            1|    1|\n",
      "|0390-DCFDQ|     1|            1|    1|\n",
      "|9514-JDSKI|     1|            1|    1|\n",
      "|0021-IKXGC|     1|            1|    1|\n",
      "|5564-NEMQO|     1|            1|    1|\n",
      "|5192-EBGOV|     1|            1|    1|\n",
      "|6513-EECDB|     1|            1|    1|\n",
      "|7206-GZCDC|     1|            1|    1|\n",
      "|1768-ZAIFU|     1|            1|    1|\n",
      "|6567-HOOPW|     1|            1|    1|\n",
      "|5240-IJOQT|     1|            1|    1|\n",
      "|0661-XEYAN|     1|            1|    1|\n",
      "|3068-OMWZA|     1|            1|    1|\n",
      "|8580-AECUZ|     1|            1|    1|\n",
      "|5047-LHVLY|     1|            1|    1|\n",
      "|8375-DKEBR|     1|            1|    1|\n",
      "|8080-DDEMJ|     1|            1|    1|\n",
      "|6702-OHFWR|     1|            1|    1|\n",
      "|4193-ORFCL|     1|            1|    1|\n",
      "|9497-QCMMS|     1|            1|    1|\n",
      "|8000-REIQB|     1|            1|    1|\n",
      "|8775-ERLNB|     1|            1|    1|\n",
      "|8309-IEYJD|     1|            1|    1|\n",
      "|8051-HJRLT|     1|            1|    1|\n",
      "|3988-RQIXO|     1|            1|    1|\n",
      "|7216-EWTRS|     1|            1|    1|\n",
      "|4706-DGAHW|     1|            1|    1|\n",
      "|1846-XWOQN|     1|            1|    1|\n",
      "|9603-OAIHC|     1|            1|    1|\n",
      "|5186-SAMNZ|     1|            1|    1|\n",
      "|5539-TMZLF|     1|            1|    1|\n",
      "|4826-XTSOH|     1|            1|    1|\n",
      "|4102-OQUPX|     1|            1|    1|\n",
      "|7409-KIUTL|     1|            1|    1|\n",
      "|0679-IDSTG|     1|            1|    1|\n",
      "|9174-FKWZE|     1|            1|    1|\n",
      "|9907-SWKKF|     1|            1|    1|\n",
      "|2636-ALXXZ|     1|            1|    1|\n",
      "|9885-CSMWE|     1|            1|    1|\n",
      "|5178-LMXOP|     1|            1|    1|\n",
      "|4988-IQIGL|     1|            1|    1|\n",
      "|6185-TASNN|     1|            1|    1|\n",
      "|2722-JMONI|     1|            1|    1|\n",
      "|3878-AVSOQ|     1|            1|    1|\n",
      "|0612-RTZZA|     1|            1|    1|\n",
      "|9488-HGMJH|     1|            1|    1|\n",
      "|4201-JMNGR|     1|            1|    1|\n",
      "|8644-XLFBW|     1|            1|    1|\n",
      "|1833-VGRUM|     1|            1|    1|\n",
      "|0812-WUPTB|     1|            1|    1|\n",
      "|3871-IKPYH|     1|            1|    1|\n",
      "|8720-RQSBJ|     1|            1|    1|\n",
      "|7903-CMPEY|     1|            1|    1|\n",
      "|0023-HGHWL|     1|            1|    1|\n",
      "|9058-CBREO|     1|            1|    1|\n",
      "|1069-XAIEM|     1|            1|    1|\n",
      "|9300-AGZNL|     1|            1|    1|\n",
      "|8062-YBDOE|     1|            1|    1|\n",
      "|3776-EKTKM|     1|            1|    1|\n",
      "|2982-IHMFT|     1|            1|    1|\n",
      "|7932-WPTDS|     1|            1|    1|\n",
      "|2506-TNFCO|     1|            1|    1|\n",
      "|8473-VUVJN|     1|            1|    1|\n",
      "|1976-CFOCS|     1|            1|    1|\n",
      "|5550-VFRLC|     1|            1|    1|\n",
      "|5028-HTLJB|     1|            1|    1|\n",
      "|6982-UQZLY|     1|            1|    1|\n",
      "|4871-JTKJF|     1|            1|    1|\n",
      "|1415-YFWLT|     1|            1|    1|\n",
      "|1363-TXLSL|     1|            1|    1|\n",
      "|4844-JJWUY|     1|            1|    1|\n",
      "|8775-LHDJH|     1|            1|    1|\n",
      "|9605-WGJVW|     1|            1|    1|\n",
      "|1496-GGSUK|     1|            1|    1|\n",
      "|3296-SILRA|     1|            1|    1|\n",
      "|1977-STDKI|     1|            1|    1|\n",
      "|9661-MHUMO|     1|            1|    1|\n",
      "|3551-HUAZH|     1|            1|    1|\n",
      "|0616-ATFGB|     1|            1|    1|\n",
      "|9248-OJYKK|     1|            1|    1|\n",
      "|6230-BSUXY|     1|            1|    1|\n",
      "|6127-IYJOZ|     1|            1|    1|\n",
      "|0723-DRCLG|     1|            1|    1|\n",
      "|6894-LFHLY|     1|            1|    1|\n",
      "|4929-XIHVW|     2|            1|    1|\n",
      "|5804-LEPIM|     2|            1|    1|\n",
      "|0224-RLWWD|     2|            1|    1|\n",
      "|5644-PDMZC|     2|            1|    1|\n",
      "|0067-DKWBL|     2|            1|    1|\n",
      "|4208-UFFGW|     2|            1|    1|\n",
      "|7024-OHCCK|     2|            1|    1|\n",
      "|2761-OCIAX|     2|            1|    1|\n",
      "|6407-UTSLV|     2|            1|    1|\n",
      "|4695-WJZUE|     2|            1|    1|\n",
      "|8263-JQAIK|     2|            1|    1|\n",
      "|9050-IKDZA|     2|            1|    1|\n",
      "|9137-NOQKA|     2|            1|    1|\n",
      "|3677-IYRBF|     2|            1|    1|\n",
      "+----------+------+-------------+-----+\n",
      "only showing top 100 rows\n",
      "\n"
     ]
    }
   ],
   "source": [
    "spark.sql(f\"\"\"\n",
    "select customerID,tenure,SeniorCitizen, \n",
    "NTILE(5) OVER(PARTITION BY SeniorCitizen ORDER BY tenure) as group from CustomerChurn\n",
    "\"\"\").show(100)"
   ]
  },
  {
   "cell_type": "markdown",
   "id": "899e54e5",
   "metadata": {},
   "source": [
    "t) Use PERCENT_RANK to identify the top 5% of customers by MonthlyCharges."
   ]
  },
  {
   "cell_type": "code",
   "execution_count": 15,
   "id": "7a46baae",
   "metadata": {},
   "outputs": [
    {
     "name": "stdout",
     "output_type": "stream",
     "text": [
      "+----------+--------------+---------------------+\n",
      "|CustomerID|Monthlycharges|percent_rank         |\n",
      "+----------+--------------+---------------------+\n",
      "|7569-NMZYQ|118.75        |0.0                  |\n",
      "|8984-HPEMB|118.65        |1.4200511218403862E-4|\n",
      "|5989-AXPUC|118.6         |2.8401022436807724E-4|\n",
      "|5734-EJKXG|118.6         |2.8401022436807724E-4|\n",
      "|8199-ZLLSA|118.35        |5.680204487361545E-4 |\n",
      "|9924-JPRMC|118.2         |7.100255609201931E-4 |\n",
      "|2889-FPWRM|117.8         |8.520306731042318E-4 |\n",
      "|3810-DVDQQ|117.6         |9.940357852882703E-4 |\n",
      "|9739-JLPQJ|117.5         |0.001136040897472309 |\n",
      "|2302-ANTDP|117.45        |0.0012780460096563477|\n",
      "|6904-JLBGY|117.35        |0.0014200511218403862|\n",
      "|4282-MSACW|117.2         |0.0015620562340244249|\n",
      "|6650-BWFRT|117.15        |0.0017040613462084636|\n",
      "|9788-HNGUT|116.95        |0.001846066458392502 |\n",
      "|1488-PBLJN|116.85        |0.0019880715705765406|\n",
      "|0017-IUDMW|116.8         |0.0021300766827605793|\n",
      "|8628-MFKAX|116.75        |0.002272081794944618 |\n",
      "|3680-CTHUH|116.6         |0.0024140869071286567|\n",
      "|3258-ZKPAI|116.6         |0.0024140869071286567|\n",
      "|3795-CAWEX|116.55        |0.002698097131496734 |\n",
      "+----------+--------------+---------------------+\n",
      "only showing top 20 rows\n",
      "\n"
     ]
    }
   ],
   "source": [
    "spark.sql(f\"\"\"\n",
    "select * from\n",
    "(select CustomerID,Monthlycharges, PERCENT_RANK() OVER(ORDER BY MonthlyCharges DESC) as percent_rank\n",
    "from CustomerChurn) as _\n",
    "where percent_rank <= 0.05\n",
    "\"\"\").show(truncate=False)"
   ]
  },
  {
   "cell_type": "markdown",
   "id": "3ac954af",
   "metadata": {},
   "source": [
    "u) Find customers who fall within the top 5% of the distribution based on monthly charges. Compare total charges\n",
    "with the next customer in the same internet service type, based on monthly charges."
   ]
  },
  {
   "cell_type": "code",
   "execution_count": 16,
   "id": "60f4c90d",
   "metadata": {},
   "outputs": [
    {
     "name": "stdout",
     "output_type": "stream",
     "text": [
      "+----------+--------------+---------------+------------+------------------+-------------------+------------------+\n",
      "|customerID|MonthlyCharges|InternetService|TotalCharges|next_total_charges|  charge_difference|        percentage|\n",
      "+----------+--------------+---------------+------------+------------------+-------------------+------------------+\n",
      "|7569-NMZYQ|        118.75|    Fiber optic|     8672.45|            8477.6| 194.85000000000036|               0.0|\n",
      "|8984-HPEMB|        118.65|    Fiber optic|      8477.6|           7990.05|  487.5500000000002|0.6451612903225806|\n",
      "|5989-AXPUC|         118.6|    Fiber optic|     7990.05|            7365.7|  624.3500000000004|1.2903225806451613|\n",
      "|5734-EJKXG|         118.6|    Fiber optic|      7365.7|           7804.15| -438.4499999999998|1.2903225806451613|\n",
      "|8199-ZLLSA|        118.35|    Fiber optic|     7804.15|           8547.15|             -743.0|2.5806451612903225|\n",
      "|9924-JPRMC|         118.2|    Fiber optic|     8547.15|            8684.8|-137.64999999999964| 3.225806451612903|\n",
      "|2889-FPWRM|         117.8|    Fiber optic|      8684.8|            8308.9| 375.89999999999964| 3.870967741935484|\n",
      "|3810-DVDQQ|         117.6|    Fiber optic|      8308.9|            8670.1| -361.2000000000007| 4.516129032258064|\n",
      "|9739-JLPQJ|         117.5|    Fiber optic|      8670.1|            5438.9| 3231.2000000000007| 5.161290322580645|\n",
      "|2302-ANTDP|        117.45|    Fiber optic|      5438.9|           8436.25|-2997.3500000000004| 5.806451612903226|\n",
      "|6904-JLBGY|        117.35|    Fiber optic|     8436.25|           8035.95|  400.3000000000002| 6.451612903225806|\n",
      "|4282-MSACW|         117.2|    Fiber optic|     8035.95|            8529.5| -493.5500000000002| 7.096774193548387|\n",
      "|6650-BWFRT|        117.15|    Fiber optic|      8529.5|            8594.4| -64.89999999999964| 7.741935483870968|\n",
      "|9788-HNGUT|        116.95|    Fiber optic|      8594.4|            8477.7| 116.69999999999891|  8.38709677419355|\n",
      "|1488-PBLJN|        116.85|    Fiber optic|      8477.7|           8456.75| 20.950000000000728| 9.032258064516128|\n",
      "|0017-IUDMW|         116.8|    Fiber optic|     8456.75|           8277.05| 179.70000000000073|  9.67741935483871|\n",
      "|8628-MFKAX|        116.75|    Fiber optic|     8277.05|            7049.5| 1227.5499999999993| 10.32258064516129|\n",
      "|3680-CTHUH|         116.6|    Fiber optic|      7049.5|           8337.45|-1287.9500000000007|10.967741935483872|\n",
      "|3258-ZKPAI|         116.6|    Fiber optic|     8337.45|            8152.3| 185.15000000000055|10.967741935483872|\n",
      "|3795-CAWEX|        116.55|    Fiber optic|      8152.3|           6382.55|            1769.75|12.258064516129032|\n",
      "+----------+--------------+---------------+------------+------------------+-------------------+------------------+\n",
      "only showing top 20 rows\n",
      "\n"
     ]
    }
   ],
   "source": [
    "result_u = spark.sql(f\"\"\"\n",
    "SELECT customerID,MonthlyCharges, InternetService, \n",
    "       TotalCharges, \n",
    "       next_total_charges, \n",
    "       (TotalCharges - next_total_charges) AS charge_difference,\n",
    "       PERCENT_RANK() OVER (PARTITION BY InternetService ORDER BY MonthlyCharges DESC) * 100 AS percentage\n",
    "FROM (\n",
    "    SELECT customerID, InternetService, MonthlyCharges, TotalCharges,\n",
    "           LEAD(TotalCharges) OVER (PARTITION BY InternetService ORDER BY MonthlyCharges DESC) AS next_total_charges,\n",
    "           PERCENT_RANK() OVER (PARTITION BY InternetService ORDER BY MonthlyCharges DESC) AS rank\n",
    "    FROM CustomerChurn\n",
    ") subquery\n",
    "WHERE rank <= 0.05\n",
    "\"\"\")\n",
    "\n",
    "result_u.show()\n",
    "\n"
   ]
  },
  {
   "cell_type": "markdown",
   "id": "5ae9a527",
   "metadata": {},
   "source": [
    "v) Find the top 5 customers with the highest MonthlyCharges within each Contract type."
   ]
  },
  {
   "cell_type": "code",
   "execution_count": 31,
   "id": "b52deb97",
   "metadata": {},
   "outputs": [
    {
     "name": "stdout",
     "output_type": "stream",
     "text": [
      "+----------+--------------+--------------+\n",
      "|customerID|      Contract|MonthlyCharges|\n",
      "+----------+--------------+--------------+\n",
      "|2302-ANTDP|Month-to-month|        117.45|\n",
      "|8016-NCFVO|Month-to-month|         116.5|\n",
      "|9659-QEQSY|Month-to-month|        115.65|\n",
      "|4361-BKAXE|Month-to-month|         114.5|\n",
      "|6710-HSJRD|Month-to-month|         114.1|\n",
      "|5734-EJKXG|      One year|         118.6|\n",
      "|8199-ZLLSA|      One year|        118.35|\n",
      "|2889-FPWRM|      One year|         117.8|\n",
      "|4282-MSACW|      One year|         117.2|\n",
      "|3680-CTHUH|      One year|         116.6|\n",
      "|7569-NMZYQ|      Two year|        118.75|\n",
      "|8984-HPEMB|      Two year|        118.65|\n",
      "|5989-AXPUC|      Two year|         118.6|\n",
      "|9924-JPRMC|      Two year|         118.2|\n",
      "|3810-DVDQQ|      Two year|         117.6|\n",
      "+----------+--------------+--------------+\n",
      "\n"
     ]
    }
   ],
   "source": [
    "spark.sql(f\"\"\"\n",
    "SELECT customerID, Contract, MonthlyCharges\n",
    "FROM (\n",
    "    SELECT customerID, Contract, MonthlyCharges,\n",
    "           RANK() OVER (PARTITION BY Contract ORDER BY MonthlyCharges DESC) AS rank\n",
    "    FROM CustomerChurn\n",
    ") ranked_customers\n",
    "WHERE rank <= 5\n",
    "\"\"\").show(100)"
   ]
  },
  {
   "cell_type": "markdown",
   "id": "423c7a58",
   "metadata": {},
   "source": [
    "w) Calculate the churn rate in each Contract type and rank the contracts by churn rate"
   ]
  },
  {
   "cell_type": "code",
   "execution_count": 49,
   "id": "96686368",
   "metadata": {},
   "outputs": [
    {
     "name": "stdout",
     "output_type": "stream",
     "text": [
      "+--------------+------------------+----+\n",
      "|      Contract|        churn_rate|rank|\n",
      "+--------------+------------------+----+\n",
      "|Month-to-month| 42.70967741935484|   1|\n",
      "|      One year|11.269517990495586|   2|\n",
      "|      Two year| 2.831858407079646|   3|\n",
      "+--------------+------------------+----+\n",
      "\n"
     ]
    }
   ],
   "source": [
    "spark.sql(\"\"\"\n",
    "select *, dense_rank() over(order by churn_rate desc)as rank from\n",
    "(select Contract,\n",
    "sum(case when churn = 'Yes' then 1 else 0 end)/count(*) * 100 as churn_rate\n",
    "from CustomerChurn group by Contract) as _\n",
    "\"\"\").show()"
   ]
  },
  {
   "cell_type": "markdown",
   "id": "b49b1da7",
   "metadata": {},
   "source": [
    "x) Perform an in-depth analysis of customers using window functions to understand customer rankings,\n",
    "distribution, and trends in charges and tenure."
   ]
  },
  {
   "cell_type": "code",
   "execution_count": 32,
   "id": "ba5f02a4",
   "metadata": {},
   "outputs": [
    {
     "name": "stdout",
     "output_type": "stream",
     "text": [
      "+----------+--------------+------+--------------+----+------------------------------+--------------+------+----------------------------+--------------------------+------------------+\n",
      "|customerID|MonthlyCharges|tenure|      Contract|rank|avg_monthly_charge_by_contract|customer_count|decile|avg_monthly_charge_by_tenure|avg_total_charge_by_tenure|        churn_rate|\n",
      "+----------+--------------+------+--------------+----+------------------------------+--------------+------+----------------------------+--------------------------+------------------+\n",
      "|2302-ANTDP|        117.45|    48|Month-to-month|  10|             66.39849032258057|          7034|    10|           64.33593750000001|        3083.3578124999995|0.1406250000000000|\n",
      "|8016-NCFVO|         116.5|    55|Month-to-month|  21|             66.39849032258057|          7023|    10|           67.82968750000002|             3732.02578125|0.1406250000000000|\n",
      "|9659-QEQSY|        115.65|    45|Month-to-month|  43|             66.39849032258057|          7001|    10|           71.24590163934428|        3218.5983606557384|0.0983606557377049|\n",
      "|4361-BKAXE|         114.5|    41|Month-to-month|  78|             66.39849032258057|          6966|    10|           69.33999999999996|         2830.579285714285|0.2000000000000000|\n",
      "|6710-HSJRD|         114.1|    61|Month-to-month|  88|             66.39849032258057|          6956|    10|           74.50131578947371|          4553.25855263158|0.1052631578947368|\n",
      "|9158-VCTQB|         113.6|    41|Month-to-month| 102|             66.39849032258057|          6942|    10|           69.33999999999996|         2830.579285714285|0.2000000000000000|\n",
      "|7279-BUYWN|         113.2|    41|Month-to-month| 109|             66.39849032258057|          6935|    10|           69.33999999999996|         2830.579285714285|0.2000000000000000|\n",
      "|1583-IHQZE|        112.95|    12|Month-to-month| 117|             66.39849032258057|          6927|    10|           56.83632478632479|         671.8491452991456|0.3247863247863248|\n",
      "|0771-WLCLA|        112.95|    16|Month-to-month| 117|             66.39849032258057|          6927|    10|          62.545625000000015|        1002.9125000000001|0.3500000000000000|\n",
      "|9481-IEBZY|         112.9|    72|Month-to-month| 120|             66.39849032258057|          6924|    10|           80.69585635359121|         5812.445027624306|0.0165745856353591|\n",
      "|2587-EKXTS|         111.5|    44|Month-to-month| 143|             66.39849032258057|          6901|    10|           63.97352941176472|          2816.14705882353|0.1176470588235294|\n",
      "|7130-YXBRO|        111.45|    48|Month-to-month| 145|             66.39849032258057|          6899|    10|           64.33593750000001|        3083.3578124999995|0.1406250000000000|\n",
      "|3292-PBZEJ|         111.4|    11|Month-to-month| 147|             66.39849032258057|          6897|    10|           58.47272727272726|         648.0843434343434|0.3131313131313131|\n",
      "|6168-YBYNP|        111.35|    59|Month-to-month| 148|             66.39849032258057|          6896|    10|                     70.9975|                  4187.835|0.1333333333333333|\n",
      "|0115-TFERT|         111.2|    21|Month-to-month| 155|             66.39849032258057|          6889|    10|           66.08888888888887|         1394.031746031746|0.2698412698412698|\n",
      "|2067-QYTCF|        111.15|    64|Month-to-month| 157|             66.39849032258057|          6887|    10|           75.78062500000001|               4856.710625|0.0500000000000000|\n",
      "|9079-YEXQJ|         111.1|    54|Month-to-month| 160|             66.39849032258057|          6884|    10|           73.88455882352942|         3984.344117647059|0.1911764705882353|\n",
      "|6067-NGCEU|        111.05|    65|Month-to-month| 162|             66.39849032258057|          6882|    10|            80.4480263157895|         5219.565131578948|0.1184210526315789|\n",
      "|6030-REHUX|        110.85|    28|Month-to-month| 167|             66.39849032258057|          6877|    10|           67.66140350877193|        1890.2043859649123|0.2105263157894737|\n",
      "|5099-BAILX|        110.75|    43|Month-to-month| 176|             66.39849032258057|          6868|    10|           71.16230769230769|        3065.3523076923066|0.2307692307692308|\n",
      "+----------+--------------+------+--------------+----+------------------------------+--------------+------+----------------------------+--------------------------+------------------+\n",
      "only showing top 20 rows\n",
      "\n"
     ]
    }
   ],
   "source": [
    "spark.sql(f\"\"\"\n",
    "SELECT \n",
    "    customerID,\n",
    "    MonthlyCharges,\n",
    "    tenure,\n",
    "    Contract,\n",
    "    RANK() OVER (ORDER BY MonthlyCharges DESC) AS rank,\n",
    "    AVG(MonthlyCharges) OVER (PARTITION BY Contract) AS avg_monthly_charge_by_contract,\n",
    "    COUNT(customerID) OVER (ORDER BY MonthlyCharges) AS customer_count,\n",
    "    NTILE(10) OVER (ORDER BY MonthlyCharges) AS decile,\n",
    "    AVG(MonthlyCharges) OVER (PARTITION BY tenure) AS avg_monthly_charge_by_tenure,\n",
    "    AVG(TotalCharges) OVER (PARTITION BY tenure) AS avg_total_charge_by_tenure,\n",
    "    SUM(CASE WHEN Churn = 'Yes' THEN 1 ELSE 0 END) OVER (PARTITION BY tenure) * 1.0 / COUNT(*) OVER (PARTITION BY tenure) AS churn_rate\n",
    "FROM CustomerChurn\n",
    "ORDER BY Contract, MonthlyCharges DESC\n",
    "\"\"\").show()\n"
   ]
  },
  {
   "cell_type": "code",
   "execution_count": 30,
   "id": "f617009b",
   "metadata": {},
   "outputs": [
    {
     "data": {
      "text/plain": [
       "DataFrame[customerID: string, gender: string, SeniorCitizen: int, Partner: string, Dependents: string, tenure: int, PhoneService: string, MultipleLines: string, InternetService: string, OnlineSecurity: string, OnlineBackup: string, DeviceProtection: string, TechSupport: string, StreamingTV: string, StreamingMovies: string, Contract: string, PaperlessBilling: string, PaymentMethod: string, MonthlyCharges: double, TotalCharges: string, Churn: string]"
      ]
     },
     "execution_count": 30,
     "metadata": {},
     "output_type": "execute_result"
    }
   ],
   "source": [
    "spark.sql(f\"\"\"\n",
    "select * from CustomerChurn\n",
    "\"\"\")"
   ]
  }
 ],
 "metadata": {
  "kernelspec": {
   "display_name": "Python 3",
   "language": "python",
   "name": "python3"
  },
  "language_info": {
   "codemirror_mode": {
    "name": "ipython",
    "version": 3
   },
   "file_extension": ".py",
   "mimetype": "text/x-python",
   "name": "python",
   "nbconvert_exporter": "python",
   "pygments_lexer": "ipython3",
   "version": "3.6.9"
  }
 },
 "nbformat": 4,
 "nbformat_minor": 5
}
