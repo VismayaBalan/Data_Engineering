{
 "cells": [
  {
   "cell_type": "code",
   "execution_count": 3,
   "id": "c7ab56e6-c4cd-4fdf-9b37-67edf16e798d",
   "metadata": {},
   "outputs": [
    {
     "name": "stdin",
     "output_type": "stream",
     "text": [
      "Enter username:  vismaya\n",
      "Enter password:  vis@123\n"
     ]
    },
    {
     "name": "stdout",
     "output_type": "stream",
     "text": [
      "Login Successfull\n",
      "\n",
      "Select an Option \n",
      "1. Adds a new expense\n",
      "2. Updates an existing expense\n",
      "3. Deletes an expense\n",
      "4. Displays all expenses\n",
      "5. Generates a summary report\n",
      "6. Logout\n"
     ]
    },
    {
     "name": "stdin",
     "output_type": "stream",
     "text": [
      "Enter your choice:  1\n",
      "Enter the expense id:  1\n",
      "Enter the date (YYYY-MM-DD):  2024-07-09\n",
      "Enter the category:  Food\n",
      "Enter the amount:  1400\n",
      "Enter the description:  Food expense\n"
     ]
    },
    {
     "name": "stdout",
     "output_type": "stream",
     "text": [
      "Expenses added \n",
      "                Expense id : 1\n",
      "                Date       : 2024-07-09\n",
      "                Category   : Food\n",
      "                Description: Food expense\n",
      "                Amount     : 1400.0\n",
      "            \n",
      "\n",
      "Select an Option \n",
      "1. Adds a new expense\n",
      "2. Updates an existing expense\n",
      "3. Deletes an expense\n",
      "4. Displays all expenses\n",
      "5. Generates a summary report\n",
      "6. Logout\n"
     ]
    },
    {
     "name": "stdin",
     "output_type": "stream",
     "text": [
      "Enter your choice:  2\n",
      "Enter the expense id of expense to update:  1\n",
      "Enter the expense id:  1\n",
      "Enter the date (YYYY-MM-DD):  2024-09-08\n",
      "Enter the category:  Food\n",
      "Enter the amount:  1500\n",
      "Enter the description:  Food expense\n"
     ]
    },
    {
     "name": "stdout",
     "output_type": "stream",
     "text": [
      "Expense updated: \n",
      "                Expense id : 1\n",
      "                Date       : 2024-09-08\n",
      "                Category   : Food\n",
      "                Description: Food expense\n",
      "                Amount     : 1500.0\n",
      "            \n",
      "\n",
      "Select an Option \n",
      "1. Adds a new expense\n",
      "2. Updates an existing expense\n",
      "3. Deletes an expense\n",
      "4. Displays all expenses\n",
      "5. Generates a summary report\n",
      "6. Logout\n"
     ]
    },
    {
     "name": "stdin",
     "output_type": "stream",
     "text": [
      "Enter your choice:  4\n"
     ]
    },
    {
     "name": "stdout",
     "output_type": "stream",
     "text": [
      "+----+--------------+------------+------------+---------------+----------+\n",
      "|    |   expense_id | date       | category   | description   |   amount |\n",
      "+====+==============+============+============+===============+==========+\n",
      "|  0 |            1 | 2024-09-08 | Food       | Food expense  |     1500 |\n",
      "+----+--------------+------------+------------+---------------+----------+\n",
      "\n",
      "Select an Option \n",
      "1. Adds a new expense\n",
      "2. Updates an existing expense\n",
      "3. Deletes an expense\n",
      "4. Displays all expenses\n",
      "5. Generates a summary report\n",
      "6. Logout\n"
     ]
    },
    {
     "name": "stdin",
     "output_type": "stream",
     "text": [
      "Enter your choice:  1\n",
      "Enter the expense id:  2\n",
      "Enter the date (YYYY-MM-DD):  2024-09-05\n",
      "Enter the category:  Travel\n",
      "Enter the amount:  1400\n",
      "Enter the description:  Travel expense\n"
     ]
    },
    {
     "name": "stdout",
     "output_type": "stream",
     "text": [
      "Expenses added \n",
      "                Expense id : 2\n",
      "                Date       : 2024-09-05\n",
      "                Category   : Travel\n",
      "                Description: Travel expense\n",
      "                Amount     : 1400.0\n",
      "            \n",
      "\n",
      "Select an Option \n",
      "1. Adds a new expense\n",
      "2. Updates an existing expense\n",
      "3. Deletes an expense\n",
      "4. Displays all expenses\n",
      "5. Generates a summary report\n",
      "6. Logout\n"
     ]
    },
    {
     "name": "stdin",
     "output_type": "stream",
     "text": [
      "Enter your choice:  4\n"
     ]
    },
    {
     "name": "stdout",
     "output_type": "stream",
     "text": [
      "+----+--------------+------------+------------+----------------+----------+\n",
      "|    |   expense_id | date       | category   | description    |   amount |\n",
      "+====+==============+============+============+================+==========+\n",
      "|  0 |            1 | 2024-09-08 | Food       | Food expense   |     1500 |\n",
      "+----+--------------+------------+------------+----------------+----------+\n",
      "|  1 |            2 | 2024-09-05 | Travel     | Travel expense |     1400 |\n",
      "+----+--------------+------------+------------+----------------+----------+\n",
      "\n",
      "Select an Option \n",
      "1. Adds a new expense\n",
      "2. Updates an existing expense\n",
      "3. Deletes an expense\n",
      "4. Displays all expenses\n",
      "5. Generates a summary report\n",
      "6. Logout\n"
     ]
    },
    {
     "name": "stdin",
     "output_type": "stream",
     "text": [
      "Enter your choice:  5\n"
     ]
    },
    {
     "name": "stdout",
     "output_type": "stream",
     "text": [
      "+----+------------+----------------+\n",
      "|    | Category   |   Total Amount |\n",
      "+====+============+================+\n",
      "|  0 | Food       |           1500 |\n",
      "+----+------------+----------------+\n",
      "|  1 | Travel     |           1400 |\n",
      "+----+------------+----------------+\n",
      "Total expenses 2900.0\n",
      "\n",
      "Select an Option \n",
      "1. Adds a new expense\n",
      "2. Updates an existing expense\n",
      "3. Deletes an expense\n",
      "4. Displays all expenses\n",
      "5. Generates a summary report\n",
      "6. Logout\n"
     ]
    },
    {
     "name": "stdin",
     "output_type": "stream",
     "text": [
      "Enter your choice:  1\n",
      "Enter the expense id:  4\n",
      "Enter the date (YYYY-MM-DD):  2023-06-09\n",
      "Enter the category:  games\n",
      "Enter the amount:  1300\n",
      "Enter the description:  Description\n"
     ]
    },
    {
     "name": "stdout",
     "output_type": "stream",
     "text": [
      "Expenses added \n",
      "                Expense id : 4\n",
      "                Date       : 2023-06-09\n",
      "                Category   : games\n",
      "                Description: Description\n",
      "                Amount     : 1300.0\n",
      "            \n",
      "\n",
      "Select an Option \n",
      "1. Adds a new expense\n",
      "2. Updates an existing expense\n",
      "3. Deletes an expense\n",
      "4. Displays all expenses\n",
      "5. Generates a summary report\n",
      "6. Logout\n"
     ]
    },
    {
     "name": "stdin",
     "output_type": "stream",
     "text": [
      "Enter your choice:  5\n"
     ]
    },
    {
     "name": "stdout",
     "output_type": "stream",
     "text": [
      "+----+------------+----------------+\n",
      "|    | Category   |   Total Amount |\n",
      "+====+============+================+\n",
      "|  0 | Food       |           1500 |\n",
      "+----+------------+----------------+\n",
      "|  1 | Travel     |           1400 |\n",
      "+----+------------+----------------+\n",
      "|  2 | games      |           1300 |\n",
      "+----+------------+----------------+\n",
      "Total expenses 4200.0\n",
      "\n",
      "Select an Option \n",
      "1. Adds a new expense\n",
      "2. Updates an existing expense\n",
      "3. Deletes an expense\n",
      "4. Displays all expenses\n",
      "5. Generates a summary report\n",
      "6. Logout\n"
     ]
    },
    {
     "name": "stdin",
     "output_type": "stream",
     "text": [
      "Enter your choice:  6\n"
     ]
    },
    {
     "name": "stdout",
     "output_type": "stream",
     "text": [
      "Loging out\n"
     ]
    }
   ],
   "source": [
    "import pandas as pd\n",
    "from collections import defaultdict\n",
    "from tabulate import tabulate\n",
    "\n",
    "users = {'vismaya':'vis@123', 'aswathi':'achu@123'}\n",
    "\n",
    "class Expense:\n",
    "    def __init__(self,expense_id,date,category,description,amount):\n",
    "        self.expense_id = expense_id\n",
    "        self.date = date\n",
    "        self.category = category\n",
    "        self.description = description\n",
    "        self.amount = amount\n",
    "\n",
    "    def __str__(self):\n",
    "        return f'''\n",
    "                Expense id : {self.expense_id}\n",
    "                Date       : {self.date}\n",
    "                Category   : {self.category}\n",
    "                Description: {self.description}\n",
    "                Amount     : {self.amount}\n",
    "            '''\n",
    "    \n",
    "\n",
    "expenses = []\n",
    "\n",
    "def add_expense(expense):\n",
    "    expenses.append(expense)\n",
    "    print(f\"Expenses added {expense}\")\n",
    "\n",
    "def update_expense(expense_id, new_expense):\n",
    "    for i, expense in enumerate(expenses):\n",
    "        if expense.expense_id == expense_id:\n",
    "            expenses[i] = new_expense\n",
    "            print(f\"Expense updated: {new_expense}\")\n",
    "            return\n",
    "    print(f\"Expense with id {expense_id} not found.\")\n",
    "\n",
    "def delete_expense(expense_id):\n",
    "    global expenses\n",
    "    for expense in expenses:\n",
    "        if expense.expense_id == expense_id:\n",
    "            expenses.remove(expense)\n",
    "\n",
    "def display_expenses():\n",
    "    df = pd.DataFrame([vars(expense) for expense in expenses])\n",
    "    print(tabulate(df, headers='keys', tablefmt='grid'))\n",
    "\n",
    "def authenticate_user(username, password):\n",
    "    if username in users and users[username] == password:\n",
    "        print(\"Login Successfull\")\n",
    "        return True\n",
    "    else:\n",
    "        print(\"Incorrect username or password\")\n",
    "        return False\n",
    "    \n",
    "def categorize_expenses():\n",
    "    categories = defaultdict(lambda: 0)\n",
    "    for expense in expenses:\n",
    "        categories[expense.category] += float(expense.amount)\n",
    "    return categories\n",
    "\n",
    "def summarize_expenses():\n",
    "    total = 0\n",
    "    for expense in expenses:\n",
    "        total += expense['Amount'] \n",
    "    return total\n",
    "\n",
    "def calculate_total_expenses():\n",
    "    total = sum(expense.amount for expense in expenses)\n",
    "    return total\n",
    "\n",
    "def generate_summary_report():\n",
    "    category = categorize_expenses()\n",
    "    df = pd.DataFrame(list(category.items()), columns=['Category', 'Total Amount'])\n",
    "    print(tabulate(df, headers='keys', tablefmt='grid'))\n",
    "    total = calculate_total_expenses()\n",
    "    print(f\"Total expenses {total}\")\n",
    "\n",
    "def create_expense():\n",
    "    emp_id = input(\"Enter the expense id: \")\n",
    "    date = input(\"Enter the date (YYYY-MM-DD): \")\n",
    "    category = input(\"Enter the category: \")\n",
    "    amount = float(input(\"Enter the amount: \"))\n",
    "    description = input(\"Enter the description: \")\n",
    "    return Expense(emp_id,date, category, description,amount)\n",
    "\n",
    "def cli():\n",
    "    username = input(\"Enter username: \")\n",
    "    password = input(\"Enter password: \")\n",
    "    authenticated = authenticate_user(username,password)\n",
    "    if authenticated:\n",
    "        while True:\n",
    "            print(\"\\nSelect an Option \")\n",
    "            print(\"1. Adds a new expense\")\n",
    "            print(\"2. Updates an existing expense\")\n",
    "            print(\"3. Deletes an expense\")\n",
    "            print(\"4. Displays all expenses\")\n",
    "            print(\"5. Generates a summary report\")\n",
    "            print(\"6. Logout\")\n",
    "\n",
    "\n",
    "            choice = input(\"Enter your choice: \")\n",
    "\n",
    "            if choice == '1':\n",
    "                expense1 = create_expense()\n",
    "                add_expense(expense1)\n",
    "            elif choice == '2':\n",
    "                expense_id = input(\"Enter the expense id of expense to update: \")\n",
    "                new_expense = create_expense()\n",
    "                update_expense(expense_id, new_expense)\n",
    "            elif choice == '3':\n",
    "                expense_id = input(\"Enter the expense id of expense to delete: \")\n",
    "                delete_expense(expense_id)\n",
    "            elif choice == '4':\n",
    "                display_expenses()\n",
    "            elif choice =='5':\n",
    "                generate_summary_report()\n",
    "            elif choice =='6':\n",
    "                print(\"Loging out\")\n",
    "                break\n",
    "                exit()\n",
    "            else:\n",
    "                print(\"Invalid choice, select another option\")\n",
    "\n",
    "cli()    \n",
    "\n",
    "\n",
    "\n",
    "\n"
   ]
  },
  {
   "cell_type": "code",
   "execution_count": null,
   "id": "820f0f18-d560-4dc1-b2fe-3a88be031198",
   "metadata": {},
   "outputs": [],
   "source": []
  }
 ],
 "metadata": {
  "kernelspec": {
   "display_name": "Python 3 (ipykernel)",
   "language": "python",
   "name": "python3"
  },
  "language_info": {
   "codemirror_mode": {
    "name": "ipython",
    "version": 3
   },
   "file_extension": ".py",
   "mimetype": "text/x-python",
   "name": "python",
   "nbconvert_exporter": "python",
   "pygments_lexer": "ipython3",
   "version": "3.12.4"
  }
 },
 "nbformat": 4,
 "nbformat_minor": 5
}
