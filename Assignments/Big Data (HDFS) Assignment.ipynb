{
 "cells": [
  {
   "cell_type": "markdown",
   "id": "c1d25ecb",
   "metadata": {},
   "source": [
    "\n",
    "Problem Statement: Using Command line of HDFS, perform following tasks.\n",
    "a) Create a directory /hadoop/hdfs/ in HDFS\n",
    "b) Create a temp directory in Hadoop. Run HDFS command to delete\n",
    "“temp” directory.\n",
    "c) List all the files/directories for the given hdfs destination\n",
    "path.\n",
    "d) Command that will list the directories in /hadoop folder.\n",
    "e) Command to list recursively all files in hadoop directory and\n",
    "all subdirectories in hadoop directory\n",
    "f) List all the directory inside /hadoop/hdfs/ directory which\n",
    "starts with &#39;dir&#39;.\n",
    "g) Create a temp.txt file. Copies this file from local file\n",
    "system to HDFS\n",
    "h) Copies the file from HDFS to local file system.\n",
    "i) Command to copy from local directory with the source being\n",
    "restricted to a local file reference.\n",
    "j) Command to copies to local directory with the source being\n",
    "restricted to a local file reference.\n",
    "k) Command to move from local directory source to Hadoop\n",
    "directory.\n",
    "l) Deletes the directory and any content under it recursively.\n",
    "m) List the files and show Format file sizes in a human-readable\n",
    "fashion.\n",
    "n) Take a source file and outputs the file in text format on the\n",
    "terminal.\n",
    "o) Display the content of the HDFS file test on your\n",
    "/user/hadoop2 directory.\n",
    "p) Append the content of a local file test1 to a hdfs file test2.\n",
    "q) Show the capacity, free and used space of the filesystem\n",
    "r) Shows the capacity, free and used space of the filesystem.\n",
    "Add parameter Formats the sizes of files in a human-readable\n",
    "fashion.\n",
    "s) Show the amount of space, in bytes, used by the files that\n",
    "match the specified file pattern.\n",
    "t) Show the amount of space, in bytes, used by the files that\n",
    "match the specified file pattern. Formats the sizes of files\n",
    "in a human-readable fashion.\n",
    "u) Check the health of the Hadoop file system.\n",
    "v) Command to turn off the safemode of Name Node.\n",
    "w) HDFS command to format NameNode.\n",
    "x) Create a file named hdfstest.txt and change it number of\n",
    "replications to 3.\n",
    "y) Write command to display number of replicas for hdfstest.txt\n",
    "file.\n",
    "z) Write command to Display the status of file “hdfstest.txt”\n",
    "like block size, filesize in bytes.\n",
    "aa) Write HDFS command to change file permission from\n",
    "rw – r – r to rwx-rw-x for hdfstest.txt."
   ]
  }
 ],
 "metadata": {
  "kernelspec": {
   "display_name": "Python 3",
   "language": "python",
   "name": "python3"
  },
  "language_info": {
   "codemirror_mode": {
    "name": "ipython",
    "version": 3
   },
   "file_extension": ".py",
   "mimetype": "text/x-python",
   "name": "python",
   "nbconvert_exporter": "python",
   "pygments_lexer": "ipython3",
   "version": "3.6.9"
  }
 },
 "nbformat": 4,
 "nbformat_minor": 5
}
