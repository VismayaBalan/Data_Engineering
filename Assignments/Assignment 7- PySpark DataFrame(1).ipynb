{
 "cells": [
  {
   "cell_type": "code",
   "execution_count": 1,
   "id": "0feca898",
   "metadata": {},
   "outputs": [
    {
     "data": {
      "text/html": [
       "\n",
       "        <div>\n",
       "            <p><b>SparkContext</b></p>\n",
       "\n",
       "            <p><a href=\"http://10.0.2.15:4040\">Spark UI</a></p>\n",
       "\n",
       "            <dl>\n",
       "              <dt>Version</dt>\n",
       "                <dd><code>v2.4.8</code></dd>\n",
       "              <dt>Master</dt>\n",
       "                <dd><code>local[*]</code></dd>\n",
       "              <dt>AppName</dt>\n",
       "                <dd><code>PySparkShell</code></dd>\n",
       "            </dl>\n",
       "        </div>\n",
       "        "
      ],
      "text/plain": [
       "<SparkContext master=local[*] appName=PySparkShell>"
      ]
     },
     "execution_count": 1,
     "metadata": {},
     "output_type": "execute_result"
    }
   ],
   "source": [
    "sc"
   ]
  },
  {
   "cell_type": "code",
   "execution_count": 2,
   "id": "162af51f",
   "metadata": {},
   "outputs": [
    {
     "data": {
      "text/html": [
       "\n",
       "            <div>\n",
       "                <p><b>SparkSession - hive</b></p>\n",
       "                \n",
       "        <div>\n",
       "            <p><b>SparkContext</b></p>\n",
       "\n",
       "            <p><a href=\"http://10.0.2.15:4040\">Spark UI</a></p>\n",
       "\n",
       "            <dl>\n",
       "              <dt>Version</dt>\n",
       "                <dd><code>v2.4.8</code></dd>\n",
       "              <dt>Master</dt>\n",
       "                <dd><code>local[*]</code></dd>\n",
       "              <dt>AppName</dt>\n",
       "                <dd><code>PySparkShell</code></dd>\n",
       "            </dl>\n",
       "        </div>\n",
       "        \n",
       "            </div>\n",
       "        "
      ],
      "text/plain": [
       "<pyspark.sql.session.SparkSession at 0x7fd6540dc3c8>"
      ]
     },
     "execution_count": 2,
     "metadata": {},
     "output_type": "execute_result"
    }
   ],
   "source": [
    "spark"
   ]
  },
  {
   "cell_type": "code",
   "execution_count": 3,
   "id": "ebce603c",
   "metadata": {},
   "outputs": [],
   "source": [
    "sc.stop()"
   ]
  },
  {
   "cell_type": "markdown",
   "id": "bc5e8bee",
   "metadata": {},
   "source": [
    "a) Create a new Spark Session with new SparkConfig"
   ]
  },
  {
   "cell_type": "code",
   "execution_count": 4,
   "id": "f51195a4",
   "metadata": {},
   "outputs": [],
   "source": [
    "from pyspark import SparkConf, SparkContext\n",
    "# setMaster() - set spark context manager which is local[cpu_cores]\n",
    "config = SparkConf().setMaster(\"local[4]\").setAppName(\"PySparkSession\")\n",
    "sc = SparkContext(conf=config)"
   ]
  },
  {
   "cell_type": "code",
   "execution_count": 5,
   "id": "37ab5adc",
   "metadata": {},
   "outputs": [
    {
     "data": {
      "text/html": [
       "\n",
       "        <div>\n",
       "            <p><b>SparkContext</b></p>\n",
       "\n",
       "            <p><a href=\"http://10.0.2.15:4040\">Spark UI</a></p>\n",
       "\n",
       "            <dl>\n",
       "              <dt>Version</dt>\n",
       "                <dd><code>v2.4.8</code></dd>\n",
       "              <dt>Master</dt>\n",
       "                <dd><code>local[4]</code></dd>\n",
       "              <dt>AppName</dt>\n",
       "                <dd><code>PySparkSession</code></dd>\n",
       "            </dl>\n",
       "        </div>\n",
       "        "
      ],
      "text/plain": [
       "<SparkContext master=local[4] appName=PySparkSession>"
      ]
     },
     "execution_count": 5,
     "metadata": {},
     "output_type": "execute_result"
    }
   ],
   "source": [
    "sc"
   ]
  },
  {
   "cell_type": "markdown",
   "id": "1d241a9d",
   "metadata": {},
   "source": [
    "b) Create new instance of Spark SQL session and define new DataFrame using\n",
    "sales_data_sample.csv dataset."
   ]
  },
  {
   "cell_type": "code",
   "execution_count": 6,
   "id": "0b065e08",
   "metadata": {},
   "outputs": [],
   "source": [
    "from pyspark.sql import SparkSession\n",
    "spark = SparkSession.builder.appName(\"SparkSQLSession\").getOrCreate()"
   ]
  },
  {
   "cell_type": "code",
   "execution_count": 7,
   "id": "a0ceff3f",
   "metadata": {},
   "outputs": [
    {
     "data": {
      "text/html": [
       "\n",
       "            <div>\n",
       "                <p><b>SparkSession - hive</b></p>\n",
       "                \n",
       "        <div>\n",
       "            <p><b>SparkContext</b></p>\n",
       "\n",
       "            <p><a href=\"http://10.0.2.15:4040\">Spark UI</a></p>\n",
       "\n",
       "            <dl>\n",
       "              <dt>Version</dt>\n",
       "                <dd><code>v2.4.8</code></dd>\n",
       "              <dt>Master</dt>\n",
       "                <dd><code>local[4]</code></dd>\n",
       "              <dt>AppName</dt>\n",
       "                <dd><code>PySparkSession</code></dd>\n",
       "            </dl>\n",
       "        </div>\n",
       "        \n",
       "            </div>\n",
       "        "
      ],
      "text/plain": [
       "<pyspark.sql.session.SparkSession at 0x7fd638c0d7b8>"
      ]
     },
     "execution_count": 7,
     "metadata": {},
     "output_type": "execute_result"
    }
   ],
   "source": [
    "spark"
   ]
  },
  {
   "cell_type": "code",
   "execution_count": 3,
   "id": "aa7711b6",
   "metadata": {},
   "outputs": [],
   "source": [
    "sales_df = spark.read.csv(\"file:///home/hadoop/Downloads/sales_data_sample.csv\",header=True,inferSchema=True)"
   ]
  },
  {
   "cell_type": "code",
   "execution_count": 4,
   "id": "d6f59885",
   "metadata": {},
   "outputs": [
    {
     "name": "stdout",
     "output_type": "stream",
     "text": [
      "+-----------+---------------+---------+---------------+-------+---------------+-------+------+--------+-------+-----------+----+-----------+--------------------+----------------+--------------------+------------+-------------+--------+----------+---------+---------+---------------+----------------+--------+\n",
      "|ORDERNUMBER|QUANTITYORDERED|PRICEEACH|ORDERLINENUMBER|  SALES|      ORDERDATE| STATUS|QTR_ID|MONTH_ID|YEAR_ID|PRODUCTLINE|MSRP|PRODUCTCODE|        CUSTOMERNAME|           PHONE|        ADDRESSLINE1|ADDRESSLINE2|         CITY|   STATE|POSTALCODE|  COUNTRY|TERRITORY|CONTACTLASTNAME|CONTACTFIRSTNAME|DEALSIZE|\n",
      "+-----------+---------------+---------+---------------+-------+---------------+-------+------+--------+-------+-----------+----+-----------+--------------------+----------------+--------------------+------------+-------------+--------+----------+---------+---------+---------------+----------------+--------+\n",
      "|      10107|             30|     95.7|              2| 2871.0| 2/24/2003 0:00|Shipped|     1|       2|   2003|Motorcycles|  95|   S10_1678|   Land of Toys Inc.|      2125557818|897 Long Airport ...|        null|          NYC|      NY|     10022|      USA|       NA|             Yu|            Kwai|   Small|\n",
      "|      10121|             34|    81.35|              5| 2765.9|  5/7/2003 0:00|Shipped|     2|       5|   2003|Motorcycles|  95|   S10_1678|  Reims Collectables|      26.47.1555|  59 rue de l'Abbaye|        null|        Reims|    null|     51100|   France|     EMEA|        Henriot|            Paul|   Small|\n",
      "|      10134|             41|    94.74|              2|3884.34|  7/1/2003 0:00|Shipped|     3|       7|   2003|Motorcycles|  95|   S10_1678|     Lyon Souveniers|+33 1 46 62 7555|27 rue du Colonel...|        null|        Paris|    null|     75508|   France|     EMEA|       Da Cunha|          Daniel|  Medium|\n",
      "|      10145|             45|    83.26|              6| 3746.7| 8/25/2003 0:00|Shipped|     3|       8|   2003|Motorcycles|  95|   S10_1678|   Toys4GrownUps.com|      6265557265|  78934 Hillside Dr.|        null|     Pasadena|      CA|     90003|      USA|       NA|          Young|           Julie|  Medium|\n",
      "|      10159|             49|    100.0|             14|5205.27|10/10/2003 0:00|Shipped|     4|      10|   2003|Motorcycles|  95|   S10_1678|Corporate Gift Id...|      6505551386|     7734 Strong St.|        null|San Francisco|      CA|      null|      USA|       NA|          Brown|           Julie|  Medium|\n",
      "|      10168|             36|    96.66|              1|3479.76|10/28/2003 0:00|Shipped|     4|      10|   2003|Motorcycles|  95|   S10_1678|Technics Stores Inc.|      6505556809|   9408 Furth Circle|        null|   Burlingame|      CA|     94217|      USA|       NA|         Hirano|            Juri|  Medium|\n",
      "|      10180|             29|    86.13|              9|2497.77|11/11/2003 0:00|Shipped|     4|      11|   2003|Motorcycles|  95|   S10_1678|Daedalus Designs ...|      20.16.1555|184, chausse de T...|        null|        Lille|    null|     59000|   France|     EMEA|          Rance|         Martine|   Small|\n",
      "|      10188|             48|    100.0|              1|5512.32|11/18/2003 0:00|Shipped|     4|      11|   2003|Motorcycles|  95|   S10_1678|        Herkku Gifts|   +47 2267 3215|Drammen 121, PR 7...|        null|       Bergen|    null|    N 5804|   Norway|     EMEA|         Oeztan|          Veysel|  Medium|\n",
      "|      10201|             22|    98.57|              2|2168.54| 12/1/2003 0:00|Shipped|     4|      12|   2003|Motorcycles|  95|   S10_1678|     Mini Wheels Co.|      6505555787|5557 North Pendal...|        null|San Francisco|      CA|      null|      USA|       NA|         Murphy|           Julie|   Small|\n",
      "|      10211|             41|    100.0|             14|4708.44| 1/15/2004 0:00|Shipped|     1|       1|   2004|Motorcycles|  95|   S10_1678|    Auto Canal Petit|  (1) 47.55.6555|   25, rue Lauriston|        null|        Paris|    null|     75016|   France|     EMEA|        Perrier|       Dominique|  Medium|\n",
      "|      10223|             37|    100.0|              1|3965.66| 2/20/2004 0:00|Shipped|     1|       2|   2004|Motorcycles|  95|   S10_1678|Australian Collec...|    03 9520 4555|   636 St Kilda Road|     Level 3|    Melbourne|Victoria|      3004|Australia|     APAC|       Ferguson|           Peter|  Medium|\n",
      "|      10237|             23|    100.0|              7|2333.12|  4/5/2004 0:00|Shipped|     2|       4|   2004|Motorcycles|  95|   S10_1678|     Vitachrome Inc.|      2125551500|   2678 Kingston Rd.|   Suite 101|          NYC|      NY|     10022|      USA|       NA|          Frick|         Michael|   Small|\n",
      "|      10251|             28|    100.0|              2|3188.64| 5/18/2004 0:00|Shipped|     2|       5|   2004|Motorcycles|  95|   S10_1678|Tekni Collectable...|      2015559350|       7476 Moss Rd.|        null|       Newark|      NJ|     94019|      USA|       NA|          Brown|         William|  Medium|\n",
      "|      10263|             34|    100.0|              2|3676.76| 6/28/2004 0:00|Shipped|     2|       6|   2004|Motorcycles|  95|   S10_1678|     Gift Depot Inc.|      2035552570| 25593 South Bay Ln.|        null|  Bridgewater|      CT|     97562|      USA|       NA|           King|           Julie|  Medium|\n",
      "|      10275|             45|    92.83|              1|4177.35| 7/23/2004 0:00|Shipped|     3|       7|   2004|Motorcycles|  95|   S10_1678|   La Rochelle Gifts|      40.67.8555|67, rue des Cinqu...|        null|       Nantes|    null|     44000|   France|     EMEA|        Labrune|          Janine|  Medium|\n",
      "|      10285|             36|    100.0|              6|4099.68| 8/27/2004 0:00|Shipped|     3|       8|   2004|Motorcycles|  95|   S10_1678|Marta's Replicas Co.|      6175558555| 39323 Spinnaker Dr.|        null|    Cambridge|      MA|     51247|      USA|       NA|      Hernandez|           Marta|  Medium|\n",
      "|      10299|             23|    100.0|              9|2597.39| 9/30/2004 0:00|Shipped|     3|       9|   2004|Motorcycles|  95|   S10_1678|Toys of Finland, Co.|     90-224 8555|       Keskuskatu 45|        null|     Helsinki|    null|     21240|  Finland|     EMEA|      Karttunen|           Matti|   Small|\n",
      "|      10309|             41|    100.0|              5|4394.38|10/15/2004 0:00|Shipped|     4|      10|   2004|Motorcycles|  95|   S10_1678|  Baane Mini Imports|      07-98 9555|Erling Skakkes ga...|        null|      Stavern|    null|      4110|   Norway|     EMEA|     Bergulfsen|           Jonas|  Medium|\n",
      "|      10318|             46|    94.74|              1|4358.04| 11/2/2004 0:00|Shipped|     4|      11|   2004|Motorcycles|  95|   S10_1678|Diecast Classics ...|      2155551555|    7586 Pompton St.|        null|    Allentown|      PA|     70267|      USA|       NA|             Yu|           Kyung|  Medium|\n",
      "|      10329|             42|    100.0|              1|4396.14|11/15/2004 0:00|Shipped|     4|      11|   2004|Motorcycles|  95|   S10_1678|   Land of Toys Inc.|      2125557818|897 Long Airport ...|        null|          NYC|      NY|     10022|      USA|       NA|             Yu|            Kwai|  Medium|\n",
      "+-----------+---------------+---------+---------------+-------+---------------+-------+------+--------+-------+-----------+----+-----------+--------------------+----------------+--------------------+------------+-------------+--------+----------+---------+---------+---------------+----------------+--------+\n",
      "only showing top 20 rows\n",
      "\n"
     ]
    }
   ],
   "source": [
    "sales_df.show()"
   ]
  },
  {
   "cell_type": "markdown",
   "id": "489406dd",
   "metadata": {},
   "source": [
    "c) Find the shape of DataFrame."
   ]
  },
  {
   "cell_type": "code",
   "execution_count": 5,
   "id": "b069429f",
   "metadata": {},
   "outputs": [
    {
     "data": {
      "text/plain": [
       "2823"
      ]
     },
     "execution_count": 5,
     "metadata": {},
     "output_type": "execute_result"
    }
   ],
   "source": [
    "# Number of rows\n",
    "sales_df.count()"
   ]
  },
  {
   "cell_type": "code",
   "execution_count": 6,
   "id": "51f5d4bc",
   "metadata": {},
   "outputs": [
    {
     "data": {
      "text/plain": [
       "25"
      ]
     },
     "execution_count": 6,
     "metadata": {},
     "output_type": "execute_result"
    }
   ],
   "source": [
    "# Number of columns\n",
    "len(sales_df.columns)"
   ]
  },
  {
   "cell_type": "markdown",
   "id": "319a7edc",
   "metadata": {},
   "source": [
    "d) Find the Summary of DataFrame for all numerical data columns."
   ]
  },
  {
   "cell_type": "code",
   "execution_count": 7,
   "id": "c38be5a6",
   "metadata": {},
   "outputs": [],
   "source": [
    "from pyspark.sql.types import IntegerType, StringType\n",
    "from pyspark.sql.functions import *"
   ]
  },
  {
   "cell_type": "code",
   "execution_count": 8,
   "id": "4886d133",
   "metadata": {},
   "outputs": [],
   "source": [
    "numerical_cols = [field.name for field in sales_df.schema.fields if not isinstance(field.dataType, StringType)]"
   ]
  },
  {
   "cell_type": "code",
   "execution_count": 9,
   "id": "09a05ed9",
   "metadata": {},
   "outputs": [
    {
     "name": "stdout",
     "output_type": "stream",
     "text": [
      "+-------+------------------+-----------------+------------------+-----------------+------------------+------------------+------------------+------------------+------------------+\n",
      "|summary|       ORDERNUMBER|  QUANTITYORDERED|         PRICEEACH|  ORDERLINENUMBER|             SALES|            QTR_ID|          MONTH_ID|           YEAR_ID|              MSRP|\n",
      "+-------+------------------+-----------------+------------------+-----------------+------------------+------------------+------------------+------------------+------------------+\n",
      "|  count|              2823|             2823|              2823|             2823|              2823|              2823|              2823|              2823|              2823|\n",
      "|   mean|10258.725115125753|35.09280906836698| 83.65854410201929|6.466170740347148|  3553.88907190932|2.7176762309599716|7.0924548352816155|2003.8150903294368|100.71555083244775|\n",
      "| stddev|  92.0854775957196| 9.74144273706958|20.174276527840536| 4.22584096469094|1841.8651057401842| 1.203878088001756| 3.656633307661765|0.6996701541300869| 40.18791167720266|\n",
      "|    min|             10100|                6|             26.88|                1|            482.13|                 1|                 1|              2003|                33|\n",
      "|    25%|             10180|               27|              68.8|                3|           2203.11|                 2|                 4|              2003|                68|\n",
      "|    50%|             10262|               35|              95.7|                6|            3184.8|                 3|                 8|              2004|                99|\n",
      "|    75%|             10334|               43|             100.0|                9|            4508.0|                 4|                11|              2004|               124|\n",
      "|    max|             10425|               97|             100.0|               18|           14082.8|                 4|                12|              2005|               214|\n",
      "+-------+------------------+-----------------+------------------+-----------------+------------------+------------------+------------------+------------------+------------------+\n",
      "\n"
     ]
    }
   ],
   "source": [
    "sales_df[numerical_cols].summary().show()"
   ]
  },
  {
   "cell_type": "markdown",
   "id": "e5d94d5a",
   "metadata": {},
   "source": [
    "e) Identify and handle missing or null values in the columns."
   ]
  },
  {
   "cell_type": "code",
   "execution_count": 10,
   "id": "99b4251c",
   "metadata": {},
   "outputs": [
    {
     "name": "stdout",
     "output_type": "stream",
     "text": [
      "+-----------+---------------+---------+---------------+-----+---------+------+------+--------+-------+-----------+----+-----------+------------+-----+------------+------------+----+-----+----------+-------+---------+---------------+----------------+--------+\n",
      "|ORDERNUMBER|QUANTITYORDERED|PRICEEACH|ORDERLINENUMBER|SALES|ORDERDATE|STATUS|QTR_ID|MONTH_ID|YEAR_ID|PRODUCTLINE|MSRP|PRODUCTCODE|CUSTOMERNAME|PHONE|ADDRESSLINE1|ADDRESSLINE2|CITY|STATE|POSTALCODE|COUNTRY|TERRITORY|CONTACTLASTNAME|CONTACTFIRSTNAME|DEALSIZE|\n",
      "+-----------+---------------+---------+---------------+-----+---------+------+------+--------+-------+-----------+----+-----------+------------+-----+------------+------------+----+-----+----------+-------+---------+---------------+----------------+--------+\n",
      "|          0|              0|        0|              0|    0|        0|     0|     0|       0|      0|          0|   0|          0|           0|    0|           0|        2521|   0| 1486|        76|      0|        0|              0|               0|       0|\n",
      "+-----------+---------------+---------+---------------+-----+---------+------+------+--------+-------+-----------+----+-----------+------------+-----+------------+------------+----+-----+----------+-------+---------+---------------+----------------+--------+\n",
      "\n"
     ]
    }
   ],
   "source": [
    "from pyspark.sql.functions import *\n",
    "\n",
    "sales_df.select([sum(col(column).isNull().cast('int')).alias(column) for column in sales_df.columns]).show()"
   ]
  },
  {
   "cell_type": "code",
   "execution_count": 11,
   "id": "611e9b2c",
   "metadata": {},
   "outputs": [],
   "source": [
    "sales_df1 = sales_df.fillna(\"Nill\")"
   ]
  },
  {
   "cell_type": "code",
   "execution_count": 12,
   "id": "c359ee80",
   "metadata": {},
   "outputs": [
    {
     "name": "stdout",
     "output_type": "stream",
     "text": [
      "+-----------+---------------+---------+---------------+-----+---------+------+------+--------+-------+-----------+----+-----------+------------+-----+------------+------------+----+-----+----------+-------+---------+---------------+----------------+--------+\n",
      "|ORDERNUMBER|QUANTITYORDERED|PRICEEACH|ORDERLINENUMBER|SALES|ORDERDATE|STATUS|QTR_ID|MONTH_ID|YEAR_ID|PRODUCTLINE|MSRP|PRODUCTCODE|CUSTOMERNAME|PHONE|ADDRESSLINE1|ADDRESSLINE2|CITY|STATE|POSTALCODE|COUNTRY|TERRITORY|CONTACTLASTNAME|CONTACTFIRSTNAME|DEALSIZE|\n",
      "+-----------+---------------+---------+---------------+-----+---------+------+------+--------+-------+-----------+----+-----------+------------+-----+------------+------------+----+-----+----------+-------+---------+---------------+----------------+--------+\n",
      "|          0|              0|        0|              0|    0|        0|     0|     0|       0|      0|          0|   0|          0|           0|    0|           0|           0|   0|    0|         0|      0|        0|              0|               0|       0|\n",
      "+-----------+---------------+---------+---------------+-----+---------+------+------+--------+-------+-----------+----+-----------+------------+-----+------------+------------+----+-----+----------+-------+---------+---------------+----------------+--------+\n",
      "\n"
     ]
    }
   ],
   "source": [
    "from pyspark.sql.functions import *\n",
    "\n",
    "sales_df1.select([sum(col(column).isNull().cast('int')).alias(column) for column in sales_df1.columns]).show()"
   ]
  },
  {
   "cell_type": "markdown",
   "id": "927c63dd",
   "metadata": {},
   "source": [
    "f) Calculate the total revenue generated per country by combining the columns\n",
    "QUANTITYORDERED and PRICEEACH using Spark DataFrame operations?"
   ]
  },
  {
   "cell_type": "code",
   "execution_count": 13,
   "id": "2a4f6c76",
   "metadata": {},
   "outputs": [
    {
     "name": "stdout",
     "output_type": "stream",
     "text": [
      "+-----------+------------------+\n",
      "|    COUNTRY|     Total Revenue|\n",
      "+-----------+------------------+\n",
      "|     Sweden|174264.10000000006|\n",
      "|Philippines| 80291.16999999998|\n",
      "|  Singapore| 227985.5000000001|\n",
      "|    Germany|         178689.08|\n",
      "|     France| 919257.8499999997|\n",
      "|    Belgium|          94528.88|\n",
      "|    Finland|268714.70000000007|\n",
      "|      Italy| 309402.8699999999|\n",
      "|     Norway| 246115.8000000001|\n",
      "|      Spain|1021705.9700000002|\n",
      "|    Denmark|         192747.63|\n",
      "|    Ireland|          43237.24|\n",
      "|        USA|2986425.2099999995|\n",
      "|         UK|413203.33999999997|\n",
      "|Switzerland| 93344.90999999999|\n",
      "|     Canada|193504.34000000003|\n",
      "|      Japan|153076.68999999994|\n",
      "|  Australia|521598.45999999985|\n",
      "|    Austria|172793.05000000002|\n",
      "+-----------+------------------+\n",
      "\n"
     ]
    }
   ],
   "source": [
    "sales_df2 = sales_df1.withColumn('Total Revenue',col('QUANTITYORDERED')*col('PRICEEACH'))\n",
    "sales_df2.groupBy('COUNTRY').agg(sum('Total Revenue').alias('Total Revenue')).show()"
   ]
  },
  {
   "cell_type": "markdown",
   "id": "75559002",
   "metadata": {},
   "source": [
    "g) Determine the top 5 products with the highest total sales revenue using Spark DataFrame?"
   ]
  },
  {
   "cell_type": "code",
   "execution_count": 14,
   "id": "bfc5cf17",
   "metadata": {},
   "outputs": [
    {
     "name": "stdout",
     "output_type": "stream",
     "text": [
      "+----------------+------------------+\n",
      "|     PRODUCTLINE|       total_sales|\n",
      "+----------------+------------------+\n",
      "|    Classic Cars| 3919615.659999997|\n",
      "|    Vintage Cars|1903150.8399999992|\n",
      "|     Motorcycles|1166388.3400000003|\n",
      "|Trucks and Buses|1127789.8399999996|\n",
      "|          Planes| 975003.5700000001|\n",
      "+----------------+------------------+\n",
      "\n"
     ]
    }
   ],
   "source": [
    "product_sales = sales_df1.groupBy(\"PRODUCTLINE\").agg(sum(\"SALES\").alias(\"total_sales\"))\n",
    "\n",
    "\n",
    "sorted_sales = product_sales.orderBy(col(\"total_sales\").desc())\n",
    "top_5_products = sorted_sales.limit(5)\n",
    "top_5_products.show()"
   ]
  },
  {
   "cell_type": "markdown",
   "id": "0338c294",
   "metadata": {},
   "source": [
    "h) Find the average order quantity for each product using groupBy and agg operations?"
   ]
  },
  {
   "cell_type": "code",
   "execution_count": 15,
   "id": "8dedbc23",
   "metadata": {},
   "outputs": [
    {
     "name": "stdout",
     "output_type": "stream",
     "text": [
      "+----------------+------------------+\n",
      "|     PRODUCTLINE|Avg order quantity|\n",
      "+----------------+------------------+\n",
      "|     Motorcycles|35.235649546827794|\n",
      "|    Vintage Cars| 34.71004942339374|\n",
      "|           Ships| 34.73076923076923|\n",
      "|Trucks and Buses| 35.80398671096346|\n",
      "|    Classic Cars|35.152016546018615|\n",
      "|          Trains| 35.22077922077922|\n",
      "|          Planes| 35.05555555555556|\n",
      "+----------------+------------------+\n",
      "\n"
     ]
    }
   ],
   "source": [
    "sales_df1.groupBy('PRODUCTLINE').agg(mean('QUANTITYORDERED').alias('Avg order quantity')).show()"
   ]
  },
  {
   "cell_type": "markdown",
   "id": "003b1d1b",
   "metadata": {},
   "source": [
    "i) Using Spark DataFrame, filter orders where the SALES value exceeds $10,000 and sort the\n",
    "results by the ORDERDATE column?"
   ]
  },
  {
   "cell_type": "code",
   "execution_count": 16,
   "id": "a4c34946",
   "metadata": {},
   "outputs": [
    {
     "name": "stdout",
     "output_type": "stream",
     "text": [
      "+-----------+---------------+---------+---------------+-------+-------------------+----------+------+--------+-------+------------+----+-----------+--------------------+---------------+--------------------+------------+-------------+-----+----------+---------+---------+---------------+----------------+--------+\n",
      "|ORDERNUMBER|QUANTITYORDERED|PRICEEACH|ORDERLINENUMBER|  SALES|          ORDERDATE|    STATUS|QTR_ID|MONTH_ID|YEAR_ID| PRODUCTLINE|MSRP|PRODUCTCODE|        CUSTOMERNAME|          PHONE|        ADDRESSLINE1|ADDRESSLINE2|         CITY|STATE|POSTALCODE|  COUNTRY|TERRITORY|CONTACTLASTNAME|CONTACTFIRSTNAME|DEALSIZE|\n",
      "+-----------+---------------+---------+---------------+-------+-------------------+----------+------+--------+-------+------------+----+-----------+--------------------+---------------+--------------------+------------+-------------+-----+----------+---------+---------+---------------+----------------+--------+\n",
      "|      10127|             46|    100.0|              2|11279.2|2003-06-03 00:00:00|   Shipped|     2|       6|   2003|Classic Cars| 207|   S12_1108|  Muscle Machine Inc|     2125557413|   4092 Furth Circle|   Suite 400|          NYC|   NY|     10022|      USA|       NA|          Young|            Jeff|   Large|\n",
      "|      10150|             45|    100.0|              8|10993.5|2003-09-19 00:00:00|   Shipped|     3|       9|   2003|Classic Cars| 214|   S10_1949|Dragon Souveniers...|   +65 221 7555|Bronz Sok., Bronz...|        Nill|    Singapore| Nill|     79903|Singapore|    Japan|      Natividad|            Eric|   Large|\n",
      "|      10247|             44|    100.0|              2|10606.2|2004-05-05 00:00:00|   Shipped|     2|       5|   2004|Classic Cars| 207|   S12_1108| Suominen Souveniers|+358 9 8045 555|Software Engineer...|        Nill|        Espoo| Nill| FIN-02271|  Finland|     EMEA|       Suominen|           Kalle|   Large|\n",
      "|      10304|             47|    100.0|              6|10172.7|2004-10-11 00:00:00|   Shipped|     4|      10|   2004|Classic Cars| 214|   S10_1949|  Auto Assoc. & Cie.|     30.59.8555|67, avenue de l'E...|        Nill|   Versailles| Nill|     78000|   France|     EMEA|         Tonini|          Daniel|   Large|\n",
      "|      10312|             48|    100.0|              3|11623.7|2004-10-21 00:00:00|   Shipped|     4|      10|   2004|Classic Cars| 214|   S10_1949|Mini Gifts Distri...|     4155551450|     5677 Strong St.|        Nill|   San Rafael|   CA|     97562|      USA|       NA|         Nelson|         Valarie|   Large|\n",
      "|      10322|             50|    100.0|              6|12536.5|2004-11-04 00:00:00|   Shipped|     4|      11|   2004|Vintage Cars| 127|   S18_2325|Online Diecast Cr...|     6035558647|2304 Long Airport...|        Nill|       Nashua|   NH|     62005|      USA|       NA|          Young|         Valarie|   Large|\n",
      "|      10333|             46|    100.0|              2|11336.7|2004-11-18 00:00:00|   Shipped|     4|      11|   2004|Vintage Cars|  99|   S18_3320|     Mini Wheels Co.|     6505555787|5557 North Pendal...|        Nill|San Francisco|   CA|      Nill|      USA|       NA|         Murphy|           Julie|   Large|\n",
      "|      10339|             55|    100.0|             13|10758.0|2004-11-23 00:00:00|   Shipped|     4|      11|   2004|Vintage Cars|  88|   S24_3151|Tokyo Collectable...|+81 3 3584 0555|      2-2-8 Roppongi|        Nill|    Minato-ku|Tokyo|  106-0032|    Japan|    Japan|      Shimamura|           Akiko|   Large|\n",
      "|      10375|             43|    100.0|              2|10039.6|2005-02-03 00:00:00|   Shipped|     1|       2|   2005|      Planes|  72|   S24_4278|   La Rochelle Gifts|     40.67.8555|67, rue des Cinqu...|        Nill|       Nantes| Nill|     44000|   France|     EMEA|        Labrune|          Janine|   Large|\n",
      "|      10388|             46|    100.0|              2|10066.6|2005-03-03 00:00:00|   Shipped|     1|       3|   2005|      Planes|  91|  S700_1691|    FunGiftIdeas.com|     5085552555|   1785 First Street|        Nill|  New Bedford|   MA|     50553|      USA|       NA|        Benitez|         Violeta|   Large|\n",
      "|      10403|             66|    100.0|              9|11886.6|2005-04-08 00:00:00|   Shipped|     2|       4|   2005| Motorcycles| 193|   S10_4698|UK Collectables, ...| (171) 555-2282|Berkeley Gardens ...|        Nill|    Liverpool| Nill|   WX1 6LT|       UK|     EMEA|          Devon|       Elizabeth|   Large|\n",
      "|      10405|             76|    100.0|              3|11739.7|2005-04-14 00:00:00|   Shipped|     2|       4|   2005|Classic Cars| 140|   S24_3856|         Mini Caravy|     88.60.1555|    24, place Kluber|        Nill|   Strasbourg| Nill|     67000|   France|     EMEA|        Citeaux|      Frederique|   Large|\n",
      "|      10406|             65|    100.0|              1|10468.9|2005-04-15 00:00:00|  Disputed|     2|       4|   2005|Classic Cars| 141|   S18_3685|Danish Wholesale ...|     31 12 3555|        Vinb'ltet 34|        Nill|    Kobenhavn| Nill|      1734|  Denmark|     EMEA|       Petersen|           Jytte|   Large|\n",
      "|      10407|             76|    100.0|              2|14082.8|2005-04-22 00:00:00|   On Hold|     2|       4|   2005|Vintage Cars| 170|   S18_1749|The Sharp Gifts W...|     4085553659|      3086 Ingle Ln.|        Nill|     San Jose|   CA|     94217|      USA|       NA|          Frick|             Sue|   Large|\n",
      "|      10412|             60|    100.0|              9|11887.8|2005-05-03 00:00:00|   Shipped|     2|       5|   2005|Classic Cars| 169|   S18_3232|Euro Shopping Cha...| (91) 555 94 44|  C/ Moralzarzal, 86|        Nill|       Madrid| Nill|     28034|    Spain|     EMEA|         Freyre|           Diego|   Large|\n",
      "|      10424|             50|    100.0|              6|12001.0|2005-05-31 00:00:00|In Process|     2|       5|   2005|Classic Cars| 214|   S10_1949|Euro Shopping Cha...| (91) 555 94 44|  C/ Moralzarzal, 86|        Nill|       Madrid| Nill|     28034|    Spain|     EMEA|         Freyre|           Diego|   Large|\n",
      "+-----------+---------------+---------+---------------+-------+-------------------+----------+------+--------+-------+------------+----+-----------+--------------------+---------------+--------------------+------------+-------------+-----+----------+---------+---------+---------------+----------------+--------+\n",
      "\n"
     ]
    }
   ],
   "source": [
    "sales_df1 = sales_df1.withColumn(\"ORDERDATE\", to_timestamp(col(\"ORDERDATE\"), \"M/d/yyyy H:mm\"))\n",
    "sales_df1.filter(sales_df1.SALES > 10000).orderBy(sales_df1.ORDERDATE).show()"
   ]
  },
  {
   "cell_type": "markdown",
   "id": "158e836b",
   "metadata": {},
   "source": [
    "j) Filter out rows where the STATUS is &#39;Cancelled&#39; and calculate the total sales from the\n",
    "remaining orders?"
   ]
  },
  {
   "cell_type": "code",
   "execution_count": 17,
   "id": "e8b36bd6",
   "metadata": {},
   "outputs": [
    {
     "name": "stdout",
     "output_type": "stream",
     "text": [
      "+-----------------+\n",
      "|      Total Sales|\n",
      "+-----------------+\n",
      "|9838141.370000018|\n",
      "+-----------------+\n",
      "\n"
     ]
    }
   ],
   "source": [
    "sales_df1.filter(sales_df1.STATUS != 'Cancelled').agg(sum('SALES').alias('Total Sales')).show()"
   ]
  },
  {
   "cell_type": "markdown",
   "id": "e4f4433c",
   "metadata": {},
   "source": [
    "k) Use Spark Data Frame transformations to derive the yearly sales for each customer\n",
    "(CUSTOMERNAME) based on the ORDERDATE column?"
   ]
  },
  {
   "cell_type": "code",
   "execution_count": 18,
   "id": "54309c3d",
   "metadata": {},
   "outputs": [
    {
     "name": "stdout",
     "output_type": "stream",
     "text": [
      "+--------------------+----+------------------+\n",
      "|        CUSTOMERNAME|YEAR|       TOTAL_SALES|\n",
      "+--------------------+----+------------------+\n",
      "|  Baane Mini Imports|2003|56176.659999999996|\n",
      "|Stylish Desk Deco...|2004|13739.900000000001|\n",
      "|Marseille Mini Autos|2003|52481.840000000004|\n",
      "|Danish Wholesale ...|2004|          60157.62|\n",
      "|Toms Spezialitten...|2003|          31363.18|\n",
      "|Australian Collec...|2004|140859.56999999998|\n",
      "|Dragon Souveniers...|2004|           3127.88|\n",
      "|    Super Scale Inc.|2003|          42498.76|\n",
      "|Collectables For ...|2004|15110.800000000001|\n",
      "|Royal Canadian Co...|2004| 74634.84999999999|\n",
      "|Online Diecast Cr...|2003|           76114.7|\n",
      "|   Gifts4AllAges.com|2005|          48316.89|\n",
      "|        Herkku Gifts|2004|           16363.1|\n",
      "|Diecast Classics ...|2004|115971.34000000001|\n",
      "|Motor Mint Distri...|2003|          27398.82|\n",
      "|Daedalus Designs ...|2003|48874.280000000006|\n",
      "|Stylish Desk Deco...|2003|           75064.6|\n",
      "|         Mini Caravy|2005|          35680.35|\n",
      "|     Mini Wheels Co.|2004|          30348.72|\n",
      "|Scandinavian Gift...|2005|          31606.72|\n",
      "+--------------------+----+------------------+\n",
      "only showing top 20 rows\n",
      "\n"
     ]
    }
   ],
   "source": [
    "from pyspark.sql.functions import *\n",
    "sales_df1 = sales_df1.withColumn(\"ORDERDATE\", to_timestamp(col(\"ORDERDATE\"), \"M/d/yyyy H:mm\"))\n",
    "\n",
    "sales_df1 = sales_df1.withColumn(\"YEAR\", year(col(\"ORDERDATE\")))\n",
    "\n",
    "\n",
    "yearly_sales_df = sales_df1.groupBy(\"CUSTOMERNAME\", \"YEAR\").agg(sum(\"SALES\").alias(\"TOTAL_SALES\"))\n",
    "\n",
    "yearly_sales_df.show()\n"
   ]
  },
  {
   "cell_type": "markdown",
   "id": "d49d117d",
   "metadata": {},
   "source": [
    "l) Add a new column to the DataFrame that categorizes orders as &quot;High&quot;, &quot;Medium&quot;, or &quot;Low&quot;\n",
    "sales based on the SALES value?"
   ]
  },
  {
   "cell_type": "code",
   "execution_count": 71,
   "id": "cab02081",
   "metadata": {},
   "outputs": [
    {
     "name": "stdout",
     "output_type": "stream",
     "text": [
      "+-----------+---------------+---------+---------------+-------+-------------------+-------+------+--------+-------+-----------+----+-----------+--------------------+----------------+--------------------+------------+-------------+--------+----------+---------+---------+---------------+----------------+--------+----+--------+\n",
      "|ORDERNUMBER|QUANTITYORDERED|PRICEEACH|ORDERLINENUMBER|  SALES|          ORDERDATE| STATUS|QTR_ID|MONTH_ID|YEAR_ID|PRODUCTLINE|MSRP|PRODUCTCODE|        CUSTOMERNAME|           PHONE|        ADDRESSLINE1|ADDRESSLINE2|         CITY|   STATE|POSTALCODE|  COUNTRY|TERRITORY|CONTACTLASTNAME|CONTACTFIRSTNAME|DEALSIZE|YEAR|CATEGORY|\n",
      "+-----------+---------------+---------+---------------+-------+-------------------+-------+------+--------+-------+-----------+----+-----------+--------------------+----------------+--------------------+------------+-------------+--------+----------+---------+---------+---------------+----------------+--------+----+--------+\n",
      "|      10107|             30|     95.7|              2| 2871.0|2003-02-24 00:00:00|Shipped|     1|       2|   2003|Motorcycles|  95|   S10_1678|   Land of Toys Inc.|      2125557818|897 Long Airport ...|        Nill|          NYC|      NY|     10022|      USA|       NA|             Yu|            Kwai|   Small|2003|  Medium|\n",
      "|      10121|             34|    81.35|              5| 2765.9|2003-05-07 00:00:00|Shipped|     2|       5|   2003|Motorcycles|  95|   S10_1678|  Reims Collectables|      26.47.1555|  59 rue de l'Abbaye|        Nill|        Reims|    Nill|     51100|   France|     EMEA|        Henriot|            Paul|   Small|2003|  Medium|\n",
      "|      10134|             41|    94.74|              2|3884.34|2003-07-01 00:00:00|Shipped|     3|       7|   2003|Motorcycles|  95|   S10_1678|     Lyon Souveniers|+33 1 46 62 7555|27 rue du Colonel...|        Nill|        Paris|    Nill|     75508|   France|     EMEA|       Da Cunha|          Daniel|  Medium|2003|  Medium|\n",
      "|      10145|             45|    83.26|              6| 3746.7|2003-08-25 00:00:00|Shipped|     3|       8|   2003|Motorcycles|  95|   S10_1678|   Toys4GrownUps.com|      6265557265|  78934 Hillside Dr.|        Nill|     Pasadena|      CA|     90003|      USA|       NA|          Young|           Julie|  Medium|2003|  Medium|\n",
      "|      10159|             49|    100.0|             14|5205.27|2003-10-10 00:00:00|Shipped|     4|      10|   2003|Motorcycles|  95|   S10_1678|Corporate Gift Id...|      6505551386|     7734 Strong St.|        Nill|San Francisco|      CA|      Nill|      USA|       NA|          Brown|           Julie|  Medium|2003|    High|\n",
      "|      10168|             36|    96.66|              1|3479.76|2003-10-28 00:00:00|Shipped|     4|      10|   2003|Motorcycles|  95|   S10_1678|Technics Stores Inc.|      6505556809|   9408 Furth Circle|        Nill|   Burlingame|      CA|     94217|      USA|       NA|         Hirano|            Juri|  Medium|2003|  Medium|\n",
      "|      10180|             29|    86.13|              9|2497.77|2003-11-11 00:00:00|Shipped|     4|      11|   2003|Motorcycles|  95|   S10_1678|Daedalus Designs ...|      20.16.1555|184, chausse de T...|        Nill|        Lille|    Nill|     59000|   France|     EMEA|          Rance|         Martine|   Small|2003|     Low|\n",
      "|      10188|             48|    100.0|              1|5512.32|2003-11-18 00:00:00|Shipped|     4|      11|   2003|Motorcycles|  95|   S10_1678|        Herkku Gifts|   +47 2267 3215|Drammen 121, PR 7...|        Nill|       Bergen|    Nill|    N 5804|   Norway|     EMEA|         Oeztan|          Veysel|  Medium|2003|    High|\n",
      "|      10201|             22|    98.57|              2|2168.54|2003-12-01 00:00:00|Shipped|     4|      12|   2003|Motorcycles|  95|   S10_1678|     Mini Wheels Co.|      6505555787|5557 North Pendal...|        Nill|San Francisco|      CA|      Nill|      USA|       NA|         Murphy|           Julie|   Small|2003|     Low|\n",
      "|      10211|             41|    100.0|             14|4708.44|2004-01-15 00:00:00|Shipped|     1|       1|   2004|Motorcycles|  95|   S10_1678|    Auto Canal Petit|  (1) 47.55.6555|   25, rue Lauriston|        Nill|        Paris|    Nill|     75016|   France|     EMEA|        Perrier|       Dominique|  Medium|2004|    High|\n",
      "|      10223|             37|    100.0|              1|3965.66|2004-02-20 00:00:00|Shipped|     1|       2|   2004|Motorcycles|  95|   S10_1678|Australian Collec...|    03 9520 4555|   636 St Kilda Road|     Level 3|    Melbourne|Victoria|      3004|Australia|     APAC|       Ferguson|           Peter|  Medium|2004|  Medium|\n",
      "|      10237|             23|    100.0|              7|2333.12|2004-04-05 00:00:00|Shipped|     2|       4|   2004|Motorcycles|  95|   S10_1678|     Vitachrome Inc.|      2125551500|   2678 Kingston Rd.|   Suite 101|          NYC|      NY|     10022|      USA|       NA|          Frick|         Michael|   Small|2004|     Low|\n",
      "|      10251|             28|    100.0|              2|3188.64|2004-05-18 00:00:00|Shipped|     2|       5|   2004|Motorcycles|  95|   S10_1678|Tekni Collectable...|      2015559350|       7476 Moss Rd.|        Nill|       Newark|      NJ|     94019|      USA|       NA|          Brown|         William|  Medium|2004|  Medium|\n",
      "|      10263|             34|    100.0|              2|3676.76|2004-06-28 00:00:00|Shipped|     2|       6|   2004|Motorcycles|  95|   S10_1678|     Gift Depot Inc.|      2035552570| 25593 South Bay Ln.|        Nill|  Bridgewater|      CT|     97562|      USA|       NA|           King|           Julie|  Medium|2004|  Medium|\n",
      "|      10275|             45|    92.83|              1|4177.35|2004-07-23 00:00:00|Shipped|     3|       7|   2004|Motorcycles|  95|   S10_1678|   La Rochelle Gifts|      40.67.8555|67, rue des Cinqu...|        Nill|       Nantes|    Nill|     44000|   France|     EMEA|        Labrune|          Janine|  Medium|2004|    High|\n",
      "|      10285|             36|    100.0|              6|4099.68|2004-08-27 00:00:00|Shipped|     3|       8|   2004|Motorcycles|  95|   S10_1678|Marta's Replicas Co.|      6175558555| 39323 Spinnaker Dr.|        Nill|    Cambridge|      MA|     51247|      USA|       NA|      Hernandez|           Marta|  Medium|2004|    High|\n",
      "|      10299|             23|    100.0|              9|2597.39|2004-09-30 00:00:00|Shipped|     3|       9|   2004|Motorcycles|  95|   S10_1678|Toys of Finland, Co.|     90-224 8555|       Keskuskatu 45|        Nill|     Helsinki|    Nill|     21240|  Finland|     EMEA|      Karttunen|           Matti|   Small|2004|  Medium|\n",
      "|      10309|             41|    100.0|              5|4394.38|2004-10-15 00:00:00|Shipped|     4|      10|   2004|Motorcycles|  95|   S10_1678|  Baane Mini Imports|      07-98 9555|Erling Skakkes ga...|        Nill|      Stavern|    Nill|      4110|   Norway|     EMEA|     Bergulfsen|           Jonas|  Medium|2004|    High|\n",
      "|      10318|             46|    94.74|              1|4358.04|2004-11-02 00:00:00|Shipped|     4|      11|   2004|Motorcycles|  95|   S10_1678|Diecast Classics ...|      2155551555|    7586 Pompton St.|        Nill|    Allentown|      PA|     70267|      USA|       NA|             Yu|           Kyung|  Medium|2004|    High|\n",
      "|      10329|             42|    100.0|              1|4396.14|2004-11-15 00:00:00|Shipped|     4|      11|   2004|Motorcycles|  95|   S10_1678|   Land of Toys Inc.|      2125557818|897 Long Airport ...|        Nill|          NYC|      NY|     10022|      USA|       NA|             Yu|            Kwai|  Medium|2004|    High|\n",
      "+-----------+---------------+---------+---------------+-------+-------------------+-------+------+--------+-------+-----------+----+-----------+--------------------+----------------+--------------------+------------+-------------+--------+----------+---------+---------+---------------+----------------+--------+----+--------+\n",
      "only showing top 20 rows\n",
      "\n"
     ]
    }
   ],
   "source": [
    "quantiles = sales_df1.approxQuantile('SALES',[0.33,0.67],0.0001)\n",
    "val1 = quantiles[0]\n",
    "val2 = quantiles[1]\n",
    "                                                       \n",
    "sales_df1 = sales_df1.withColumn('CATEGORY',when(col('SALES') <= val1,'Low').when(col('SALES') <= val2,'Medium')\n",
    "                                 .otherwise('High'))  \n",
    "sales_df1.show()"
   ]
  },
  {
   "cell_type": "markdown",
   "id": "1ba8c3f1",
   "metadata": {},
   "source": [
    "m) Assume , If you have another DataFrame with customer demographic data, how would you\n",
    "perform a join to compute the total sales per demographic group?"
   ]
  },
  {
   "cell_type": "code",
   "execution_count": 101,
   "id": "58f764f1",
   "metadata": {},
   "outputs": [
    {
     "name": "stdout",
     "output_type": "stream",
     "text": [
      "+--------------------+---------+------------+--------------+\n",
      "|        CUSTOMERNAME|AGE_GROUP|INCOME_LEVEL|LOYALTY_STATUS|\n",
      "+--------------------+---------+------------+--------------+\n",
      "|   Land of Toys Inc.|    25-34|        High|           VIP|\n",
      "|  Reims Collectables|    35-44|      Medium|       Regular|\n",
      "|     Lyon Souveniers|    45-54|      Medium|       Regular|\n",
      "|   Toys4GrownUps.com|    25-34|        High|           VIP|\n",
      "|Corporate Gift Ideas|    35-44|        High|           VIP|\n",
      "|Technics Stores Inc.|    45-54|      Medium|       Regular|\n",
      "|Daedalus Designs ...|    55-64|         Low|           New|\n",
      "|        Herkku Gifts|      65+|      Norway|           New|\n",
      "|     Mini Wheels Co.|    25-34|      Medium|       Regular|\n",
      "|    Auto Canal Petit|    35-44|      Medium|       Regular|\n",
      "+--------------------+---------+------------+--------------+\n",
      "\n"
     ]
    }
   ],
   "source": [
    "customer_demographics_data = [\n",
    "    (\"Land of Toys Inc.\", \"25-34\", \"High\", \"VIP\"),\n",
    "    (\"Reims Collectables\", \"35-44\", \"Medium\", \"Regular\"),\n",
    "    (\"Lyon Souveniers\", \"45-54\", \"Medium\", \"Regular\"),\n",
    "    (\"Toys4GrownUps.com\", \"25-34\", \"High\", \"VIP\"),\n",
    "    (\"Corporate Gift Ideas\", \"35-44\", \"High\", \"VIP\"),\n",
    "    (\"Technics Stores Inc.\", \"45-54\", \"Medium\", \"Regular\"),\n",
    "    (\"Daedalus Designs Inc.\", \"55-64\", \"Low\", \"New\"),\n",
    "    (\"Herkku Gifts\", \"65+\", \"Norway\", \"New\"),\n",
    "    (\"Mini Wheels Co.\", \"25-34\", \"Medium\", \"Regular\"),\n",
    "    (\"Auto Canal Petit\", \"35-44\", \"Medium\", \"Regular\"),\n",
    "]\n",
    "customer_demographics_columns = [\"CUSTOMERNAME\", \"AGE_GROUP\", \"INCOME_LEVEL\", \"LOYALTY_STATUS\"]\n",
    "\n",
    "\n",
    "customer_demographics_df = spark.createDataFrame(customer_demographics_data, schema=customer_demographics_columns)\n",
    "\n",
    "customer_demographics_df.show()\n"
   ]
  },
  {
   "cell_type": "code",
   "execution_count": 102,
   "id": "53f09955",
   "metadata": {},
   "outputs": [
    {
     "name": "stdout",
     "output_type": "stream",
     "text": [
      "+---------+--------------------+------------+--------------+------------------+\n",
      "|AGE_GROUP|        CUSTOMERNAME|INCOME_LEVEL|LOYALTY_STATUS|       TOTAL_SALES|\n",
      "+---------+--------------------+------------+--------------+------------------+\n",
      "|    35-44|    Auto Canal Petit|      Medium|       Regular| 93170.66000000002|\n",
      "|    45-54|     Lyon Souveniers|      Medium|       Regular|          78570.34|\n",
      "|    35-44|  Reims Collectables|      Medium|       Regular|         135042.94|\n",
      "|    25-34|   Toys4GrownUps.com|        High|           VIP|104561.95999999998|\n",
      "|    25-34|     Mini Wheels Co.|      Medium|       Regular|          74476.18|\n",
      "|      65+|        Herkku Gifts|      Norway|           New|         111640.28|\n",
      "|    45-54|Technics Stores Inc.|      Medium|       Regular|120783.06999999999|\n",
      "|    25-34|   Land of Toys Inc.|        High|           VIP|164069.43999999994|\n",
      "+---------+--------------------+------------+--------------+------------------+\n",
      "\n"
     ]
    }
   ],
   "source": [
    "from pyspark.sql.functions import sum\n",
    "\n",
    "\n",
    "joined_df = sales_df.join(customer_demographics_df, on=\"CUSTOMERNAME\")\n",
    "\n",
    "\n",
    "total_sales_per_demographic_df = joined_df.groupBy(\"AGE_GROUP\",\"CUSTOMERNAME\", \"INCOME_LEVEL\", \"LOYALTY_STATUS\").agg(\n",
    "    sum(\"SALES\").alias(\"TOTAL_SALES\")\n",
    ")\n",
    "\n",
    "\n",
    "total_sales_per_demographic_df.show()"
   ]
  },
  {
   "cell_type": "markdown",
   "id": "8072340d",
   "metadata": {},
   "source": [
    "n) Can you implement a cumulative distribution function (CDF) over the SALES value for each\n",
    "CUSTOMERNAME? What insights can you gather from analyzing the CDF distribution for each\n",
    "customer?"
   ]
  },
  {
   "cell_type": "code",
   "execution_count": 138,
   "id": "ae03d567",
   "metadata": {},
   "outputs": [
    {
     "name": "stdout",
     "output_type": "stream",
     "text": [
      "+-------------------+-------+--------------------+\n",
      "|       CUSTOMERNAME|  SALES|                 CDF|\n",
      "+-------------------+-------+--------------------+\n",
      "|Suominen Souveniers| 891.03| 0.03333333333333333|\n",
      "|Suominen Souveniers| 1086.6| 0.06666666666666667|\n",
      "|Suominen Souveniers|1103.76|                 0.1|\n",
      "|Suominen Souveniers|1629.04| 0.13333333333333333|\n",
      "|Suominen Souveniers| 1988.4| 0.16666666666666666|\n",
      "|Suominen Souveniers|2140.11|                 0.2|\n",
      "|Suominen Souveniers|2447.76| 0.23333333333333334|\n",
      "|Suominen Souveniers|2632.89| 0.26666666666666666|\n",
      "|Suominen Souveniers| 2773.8|                 0.3|\n",
      "|Suominen Souveniers|2775.08|  0.3333333333333333|\n",
      "|Suominen Souveniers|2817.87| 0.36666666666666664|\n",
      "|Suominen Souveniers|2851.84|                 0.4|\n",
      "|Suominen Souveniers|2931.98| 0.43333333333333335|\n",
      "|Suominen Souveniers|3128.65|  0.4666666666666667|\n",
      "|Suominen Souveniers|3288.82|                 0.5|\n",
      "|Suominen Souveniers|3595.62|  0.5333333333333333|\n",
      "|Suominen Souveniers|3686.54|  0.5666666666666667|\n",
      "|Suominen Souveniers| 3784.8|                 0.6|\n",
      "|Suominen Souveniers| 4068.7|  0.6333333333333333|\n",
      "|Suominen Souveniers|4142.64|  0.6666666666666666|\n",
      "|Suominen Souveniers|4157.73|                 0.7|\n",
      "|Suominen Souveniers|4381.25|  0.7333333333333333|\n",
      "|Suominen Souveniers| 4836.5|  0.7666666666666667|\n",
      "|Suominen Souveniers|5154.41|                 0.8|\n",
      "|Suominen Souveniers|5500.44|  0.8333333333333334|\n",
      "|Suominen Souveniers|5938.53|  0.8666666666666667|\n",
      "|Suominen Souveniers|6287.66|                 0.9|\n",
      "|Suominen Souveniers| 6576.5|  0.9333333333333333|\n",
      "|Suominen Souveniers| 6756.0|  0.9666666666666667|\n",
      "|Suominen Souveniers|10606.2|                 1.0|\n",
      "| Amica Models & Co.|  577.6|0.038461538461538464|\n",
      "| Amica Models & Co.|1381.05| 0.07692307692307693|\n",
      "| Amica Models & Co.|1557.36| 0.11538461538461539|\n",
      "| Amica Models & Co.| 1574.0| 0.15384615384615385|\n",
      "| Amica Models & Co.|1656.69| 0.19230769230769232|\n",
      "| Amica Models & Co.|1921.92| 0.23076923076923078|\n",
      "| Amica Models & Co.|2084.81|  0.2692307692307692|\n",
      "| Amica Models & Co.|2137.05|  0.3076923076923077|\n",
      "| Amica Models & Co.|2418.24| 0.34615384615384615|\n",
      "| Amica Models & Co.|2800.08| 0.38461538461538464|\n",
      "| Amica Models & Co.|2819.28|  0.4230769230769231|\n",
      "| Amica Models & Co.|2941.89| 0.46153846153846156|\n",
      "| Amica Models & Co.|2954.53|                 0.5|\n",
      "| Amica Models & Co.|3006.43|  0.5384615384615384|\n",
      "| Amica Models & Co.|3474.46|  0.5769230769230769|\n",
      "| Amica Models & Co.| 3668.6|  0.6153846153846154|\n",
      "| Amica Models & Co.|3704.05|  0.6538461538461539|\n",
      "| Amica Models & Co.|4242.24|  0.6923076923076923|\n",
      "| Amica Models & Co.| 4455.0|  0.7307692307692307|\n",
      "| Amica Models & Co.| 4750.8|  0.7692307692307693|\n",
      "+-------------------+-------+--------------------+\n",
      "only showing top 50 rows\n",
      "\n"
     ]
    }
   ],
   "source": [
    "window_spec = Window.partitionBy('CUSTOMERNAME').orderBy('SALES')\n",
    "\n",
    "rank_df = sales_df1.withColumn('rank', row_number().over(window_spec))\n",
    "count_df = rank_df.withColumn('total_count', count('SALES').over(Window.partitionBy('CUSTOMERNAME')))\n",
    "cdf_df = count_df.withColumn('CDF', col('rank') / col('total_count'))\n",
    "cdf_df1 = cdf_df.select('CUSTOMERNAME', 'SALES', 'CDF').show(50)"
   ]
  },
  {
   "cell_type": "markdown",
   "id": "52e7df86",
   "metadata": {},
   "source": [
    "#### Insights\n",
    "* CDF values show how sales are distributed within each customer group.\n",
    "* Sales Concentration for a customer like \"Suominen Souveniers,\" we can see that a significant portion of the total sales is concentrated at higher values. \n",
    "* For example, 0.7 CDF corresponds to a sales value of 4381.25, meaning that 70% of the sales data falls below this amount."
   ]
  },
  {
   "cell_type": "markdown",
   "id": "8394567c",
   "metadata": {},
   "source": [
    "o) Write spark dataframe code to rank products by total revenue within each country\n",
    "(COUNTRY)?"
   ]
  },
  {
   "cell_type": "code",
   "execution_count": 20,
   "id": "32124a7d",
   "metadata": {},
   "outputs": [
    {
     "name": "stdout",
     "output_type": "stream",
     "text": [
      "+-----------+-------+------------------+----+\n",
      "|PRODUCTCODE|COUNTRY|     Total revenue|RANK|\n",
      "+-----------+-------+------------------+----+\n",
      "|   S18_4600| Sweden|            4900.0|   1|\n",
      "|   S18_4600| Sweden|            4800.0|   2|\n",
      "|   S24_2300| Sweden|            4800.0|   2|\n",
      "|   S12_4675| Sweden|            4700.0|   4|\n",
      "|   S18_2949| Sweden|            4700.0|   4|\n",
      "|   S18_2319| Sweden|            4600.0|   6|\n",
      "|   S24_1578| Sweden|            4500.0|   7|\n",
      "|   S10_4757| Sweden|            4400.0|   8|\n",
      "|   S18_4522| Sweden|            4300.5|   9|\n",
      "|   S18_1662| Sweden|            4300.0|  10|\n",
      "|   S24_2300| Sweden|            4200.0|  11|\n",
      "|   S12_1666| Sweden|            4100.0|  12|\n",
      "|   S18_1097| Sweden|            4100.0|  12|\n",
      "|   S24_2011| Sweden|            4100.0|  12|\n",
      "|   S24_2000| Sweden|3988.6000000000004|  15|\n",
      "|   S18_2625| Sweden|            3900.0|  16|\n",
      "|   S18_1889| Sweden|3881.7799999999997|  17|\n",
      "|   S10_1949| Sweden|            3700.0|  18|\n",
      "|   S24_3151| Sweden|           3519.85|  19|\n",
      "|   S12_3380| Sweden|            3500.0|  20|\n",
      "+-----------+-------+------------------+----+\n",
      "only showing top 20 rows\n",
      "\n"
     ]
    }
   ],
   "source": [
    "from pyspark.sql.functions import col\n",
    "from pyspark.sql.window import Window\n",
    "from pyspark.sql.functions import rank\n",
    "\n",
    "window_spec = Window.partitionBy(\"COUNTRY\").orderBy(col(\"Total Revenue\").desc())\n",
    "\n",
    "\n",
    "ranked_df = sales_df2.withColumn(\"RANK\", rank().over(window_spec))\n",
    "\n",
    "\n",
    "ranked_df.select(col('PRODUCTCODE'),col('COUNTRY'),col('Total revenue'),col('RANK')).show()"
   ]
  },
  {
   "cell_type": "markdown",
   "id": "2e8028d8",
   "metadata": {},
   "source": [
    "p) Calculate a running total of SALES for each customer and show the top 5 customers by this\n",
    "cumulative total?\n"
   ]
  },
  {
   "cell_type": "code",
   "execution_count": 93,
   "id": "47834477",
   "metadata": {},
   "outputs": [
    {
     "name": "stdout",
     "output_type": "stream",
     "text": [
      "+--------------------+----------------------+\n",
      "|        CUSTOMERNAME|TOTAL_CUMULATIVE_SALES|\n",
      "+--------------------+----------------------+\n",
      "|Euro Shopping Cha...|  1.1636376556000003E8|\n",
      "|Mini Gifts Distri...|   5.858921097000004E7|\n",
      "|Australian Collec...|     5550391.160000001|\n",
      "|  Muscle Machine Inc|     5175832.140000001|\n",
      "|   La Rochelle Gifts|     4766253.330000002|\n",
      "+--------------------+----------------------+\n",
      "\n"
     ]
    }
   ],
   "source": [
    "window_spec = Window.partitionBy(\"CUSTOMERNAME\").orderBy(\"ORDERDATE\").rowsBetween(Window.unboundedPreceding, Window.currentRow)\n",
    "\n",
    "running_total_df = sales_df1.withColumn(\"RUNNING_TOTAL\", sum(\"SALES\").over(window_spec))\n",
    "per_customer_df = running_total_df.groupBy(\"CUSTOMERNAME\").agg(\n",
    "    sum(\"RUNNING_TOTAL\").alias(\"TOTAL_CUMULATIVE_SALES\")\n",
    "\n",
    "top_customers_df = per_customer_df.orderBy(col(\"TOTAL_CUMULATIVE_SALES\").desc()).limit(5)\n",
    "top_customers_df.show()"
   ]
  },
  {
   "cell_type": "markdown",
   "id": "966ce87a",
   "metadata": {},
   "source": [
    "q) Identify and handle Outliers in DataFrame."
   ]
  },
  {
   "cell_type": "code",
   "execution_count": 21,
   "id": "36bc7084",
   "metadata": {},
   "outputs": [
    {
     "name": "stdout",
     "output_type": "stream",
     "text": [
      "+-----------+---------------+---------+---------------+-------+-------------------+----------+------+--------+-------+------------+----+-----------+--------------------+--------------+--------------------+------------+--------------+----------+----------+---------+---------+---------------+----------------+--------+----+\n",
      "|ORDERNUMBER|QUANTITYORDERED|PRICEEACH|ORDERLINENUMBER|  SALES|          ORDERDATE|    STATUS|QTR_ID|MONTH_ID|YEAR_ID| PRODUCTLINE|MSRP|PRODUCTCODE|        CUSTOMERNAME|         PHONE|        ADDRESSLINE1|ADDRESSLINE2|          CITY|     STATE|POSTALCODE|  COUNTRY|TERRITORY|CONTACTLASTNAME|CONTACTFIRSTNAME|DEALSIZE|YEAR|\n",
      "+-----------+---------------+---------+---------------+-------+-------------------+----------+------+--------+-------+------------+----+-----------+--------------------+--------------+--------------------+------------+--------------+----------+----------+---------+---------+---------------+----------------+--------+----+\n",
      "|      10150|             45|    100.0|              8|10993.5|2003-09-19 00:00:00|   Shipped|     3|       9|   2003|Classic Cars| 214|   S10_1949|Dragon Souveniers...|  +65 221 7555|Bronz Sok., Bronz...|        Nill|     Singapore|      Nill|     79903|Singapore|    Japan|      Natividad|            Eric|   Large|2003|\n",
      "|      10174|             34|    100.0|              4|8014.82|2003-11-06 00:00:00|   Shipped|     4|      11|   2003|Classic Cars| 214|   S10_1949|Australian Gift N...|61-7-3844-6555|31 Duncan St. Wes...|        Nill|South Brisbane|Queensland|      4101|Australia|     APAC|       Calaghan|            Tony|   Large|2003|\n",
      "|      10206|             47|    100.0|              6|9064.89|2003-12-05 00:00:00|   Shipped|     4|      12|   2003|Classic Cars| 214|   S10_1949|Canadian Gift Exc...|(604) 555-3392|        1900 Oak St.|        Nill|     Vancouver|        BC|   V3F 2K1|   Canada|       NA|      Tannamuri|           Yoshi|   Large|2003|\n",
      "|      10280|             34|    100.0|              2|8014.82|2004-08-17 00:00:00|   Shipped|     3|       8|   2004|Classic Cars| 214|   S10_1949|  Amica Models & Co.|   011-4988555| Via Monte Bianco 34|        Nill|        Torino|      Nill|     10100|    Italy|     EMEA|        Accorti|           Paolo|   Large|2004|\n",
      "|      10304|             47|    100.0|              6|10172.7|2004-10-11 00:00:00|   Shipped|     4|      10|   2004|Classic Cars| 214|   S10_1949|  Auto Assoc. & Cie.|    30.59.8555|67, avenue de l'E...|        Nill|    Versailles|      Nill|     78000|   France|     EMEA|         Tonini|          Daniel|   Large|2004|\n",
      "|      10312|             48|    100.0|              3|11623.7|2004-10-21 00:00:00|   Shipped|     4|      10|   2004|Classic Cars| 214|   S10_1949|Mini Gifts Distri...|    4155551450|     5677 Strong St.|        Nill|    San Rafael|        CA|     97562|      USA|       NA|         Nelson|         Valarie|   Large|2004|\n",
      "|      10381|             36|    100.0|              3| 8254.8|2005-02-17 00:00:00|   Shipped|     1|       2|   2005|Classic Cars| 214|   S10_1949|Corporate Gift Id...|    6505551386|     7734 Strong St.|        Nill| San Francisco|        CA|      Nill|      USA|       NA|          Brown|           Julie|   Large|2005|\n",
      "|      10424|             50|    100.0|              6|12001.0|2005-05-31 00:00:00|In Process|     2|       5|   2005|Classic Cars| 214|   S10_1949|Euro Shopping Cha...|(91) 555 94 44|  C/ Moralzarzal, 86|        Nill|        Madrid|      Nill|     28034|    Spain|     EMEA|         Freyre|           Diego|   Large|2005|\n",
      "|      10120|             46|    100.0|              2|9264.86|2003-04-29 00:00:00|   Shipped|     2|       4|   2003| Motorcycles| 193|   S10_4698|Australian Collec...|  03 9520 4555|   636 St Kilda Road|     Level 3|     Melbourne|  Victoria|      3004|Australia|     APAC|       Ferguson|           Peter|   Large|2003|\n",
      "|      10180|             41|    100.0|             11| 8892.9|2003-11-11 00:00:00|   Shipped|     4|      11|   2003| Motorcycles| 193|   S10_4698|Daedalus Designs ...|    20.16.1555|184, chausse de T...|        Nill|         Lille|      Nill|     59000|   France|     EMEA|          Rance|         Martine|   Large|2003|\n",
      "|      10188|             45|    100.0|              3| 8714.7|2003-11-18 00:00:00|   Shipped|     4|      11|   2003| Motorcycles| 193|   S10_4698|        Herkku Gifts| +47 2267 3215|Drammen 121, PR 7...|        Nill|        Bergen|      Nill|    N 5804|   Norway|     EMEA|         Oeztan|          Veysel|   Large|2003|\n",
      "|      10201|             49|    100.0|              4|8065.89|2003-12-01 00:00:00|   Shipped|     4|      12|   2003| Motorcycles| 193|   S10_4698|     Mini Wheels Co.|    6505555787|5557 North Pendal...|        Nill| San Francisco|        CA|      Nill|      USA|       NA|         Murphy|           Julie|   Large|2003|\n",
      "|      10223|             49|    100.0|              3|9774.03|2004-02-20 00:00:00|   Shipped|     1|       2|   2004| Motorcycles| 193|   S10_4698|Australian Collec...|  03 9520 4555|   636 St Kilda Road|     Level 3|     Melbourne|  Victoria|      3004|Australia|     APAC|       Ferguson|           Peter|   Large|2004|\n",
      "|      10263|             41|    100.0|              4|8336.94|2004-06-28 00:00:00|   Shipped|     2|       6|   2004| Motorcycles| 193|   S10_4698|     Gift Depot Inc.|    2035552570| 25593 South Bay Ln.|        Nill|   Bridgewater|        CT|     97562|      USA|       NA|           King|           Julie|   Large|2004|\n",
      "|      10403|             66|    100.0|              9|11886.6|2005-04-08 00:00:00|   Shipped|     2|       4|   2005| Motorcycles| 193|   S10_4698|UK Collectables, ...|(171) 555-2282|Berkeley Gardens ...|        Nill|     Liverpool|      Nill|   WX1 6LT|       UK|     EMEA|          Devon|       Elizabeth|   Large|2005|\n",
      "|      10417|             56|    100.0|              4|9218.16|2005-05-13 00:00:00|  Disputed|     2|       5|   2005| Motorcycles| 193|   S10_4698|Euro Shopping Cha...|(91) 555 94 44|  C/ Moralzarzal, 86|        Nill|        Madrid|      Nill|     28034|    Spain|     EMEA|         Freyre|           Diego|   Large|2005|\n",
      "|      10400|             64|    100.0|              9|9661.44|2005-04-01 00:00:00|   Shipped|     2|       4|   2005|Classic Cars| 136|   S10_4757|The Sharp Gifts W...|    4085553659|      3086 Ingle Ln.|        Nill|      San Jose|        CA|     94217|      USA|       NA|          Frick|             Sue|   Large|2005|\n",
      "|      10135|             42|    100.0|              7|8008.56|2003-07-02 00:00:00|   Shipped|     3|       7|   2003|Classic Cars| 194|   S12_1099|Mini Gifts Distri...|    4155551450|     5677 Strong St.|        Nill|    San Rafael|        CA|     97562|      USA|       NA|         Nelson|         Valarie|   Large|2003|\n",
      "|      10147|             48|    100.0|              7|9245.76|2003-09-05 00:00:00|   Shipped|     3|       9|   2003|Classic Cars| 194|   S12_1099|Collectables For ...|    6175558555|    7825 Douglas Av.|        Nill|    Brickhaven|        MA|     58339|      USA|       NA|         Nelson|           Allen|   Large|2003|\n",
      "|      10159|             41|    100.0|              2|8296.35|2003-10-10 00:00:00|   Shipped|     4|      10|   2003|Classic Cars| 194|   S12_1099|Corporate Gift Id...|    6505551386|     7734 Strong St.|        Nill| San Francisco|        CA|      Nill|      USA|       NA|          Brown|           Julie|   Large|2003|\n",
      "+-----------+---------------+---------+---------------+-------+-------------------+----------+------+--------+-------+------------+----+-----------+--------------------+--------------+--------------------+------------+--------------+----------+----------+---------+---------+---------------+----------------+--------+----+\n",
      "only showing top 20 rows\n",
      "\n",
      "+-----------+---------------+---------+---------------+-------+-------------------+-------+------+--------+-------+-----------+----+-----------+--------------------+----------------+--------------------+------------+-------------+--------+----------+---------+---------+---------------+----------------+--------+----+\n",
      "|ORDERNUMBER|QUANTITYORDERED|PRICEEACH|ORDERLINENUMBER|  SALES|          ORDERDATE| STATUS|QTR_ID|MONTH_ID|YEAR_ID|PRODUCTLINE|MSRP|PRODUCTCODE|        CUSTOMERNAME|           PHONE|        ADDRESSLINE1|ADDRESSLINE2|         CITY|   STATE|POSTALCODE|  COUNTRY|TERRITORY|CONTACTLASTNAME|CONTACTFIRSTNAME|DEALSIZE|YEAR|\n",
      "+-----------+---------------+---------+---------------+-------+-------------------+-------+------+--------+-------+-----------+----+-----------+--------------------+----------------+--------------------+------------+-------------+--------+----------+---------+---------+---------------+----------------+--------+----+\n",
      "|      10107|             30|     95.7|              2| 2871.0|2003-02-24 00:00:00|Shipped|     1|       2|   2003|Motorcycles|  95|   S10_1678|   Land of Toys Inc.|      2125557818|897 Long Airport ...|        Nill|          NYC|      NY|     10022|      USA|       NA|             Yu|            Kwai|   Small|2003|\n",
      "|      10121|             34|    81.35|              5| 2765.9|2003-05-07 00:00:00|Shipped|     2|       5|   2003|Motorcycles|  95|   S10_1678|  Reims Collectables|      26.47.1555|  59 rue de l'Abbaye|        Nill|        Reims|    Nill|     51100|   France|     EMEA|        Henriot|            Paul|   Small|2003|\n",
      "|      10134|             41|    94.74|              2|3884.34|2003-07-01 00:00:00|Shipped|     3|       7|   2003|Motorcycles|  95|   S10_1678|     Lyon Souveniers|+33 1 46 62 7555|27 rue du Colonel...|        Nill|        Paris|    Nill|     75508|   France|     EMEA|       Da Cunha|          Daniel|  Medium|2003|\n",
      "|      10145|             45|    83.26|              6| 3746.7|2003-08-25 00:00:00|Shipped|     3|       8|   2003|Motorcycles|  95|   S10_1678|   Toys4GrownUps.com|      6265557265|  78934 Hillside Dr.|        Nill|     Pasadena|      CA|     90003|      USA|       NA|          Young|           Julie|  Medium|2003|\n",
      "|      10159|             49|    100.0|             14|5205.27|2003-10-10 00:00:00|Shipped|     4|      10|   2003|Motorcycles|  95|   S10_1678|Corporate Gift Id...|      6505551386|     7734 Strong St.|        Nill|San Francisco|      CA|      Nill|      USA|       NA|          Brown|           Julie|  Medium|2003|\n",
      "|      10168|             36|    96.66|              1|3479.76|2003-10-28 00:00:00|Shipped|     4|      10|   2003|Motorcycles|  95|   S10_1678|Technics Stores Inc.|      6505556809|   9408 Furth Circle|        Nill|   Burlingame|      CA|     94217|      USA|       NA|         Hirano|            Juri|  Medium|2003|\n",
      "|      10180|             29|    86.13|              9|2497.77|2003-11-11 00:00:00|Shipped|     4|      11|   2003|Motorcycles|  95|   S10_1678|Daedalus Designs ...|      20.16.1555|184, chausse de T...|        Nill|        Lille|    Nill|     59000|   France|     EMEA|          Rance|         Martine|   Small|2003|\n",
      "|      10188|             48|    100.0|              1|5512.32|2003-11-18 00:00:00|Shipped|     4|      11|   2003|Motorcycles|  95|   S10_1678|        Herkku Gifts|   +47 2267 3215|Drammen 121, PR 7...|        Nill|       Bergen|    Nill|    N 5804|   Norway|     EMEA|         Oeztan|          Veysel|  Medium|2003|\n",
      "|      10201|             22|    98.57|              2|2168.54|2003-12-01 00:00:00|Shipped|     4|      12|   2003|Motorcycles|  95|   S10_1678|     Mini Wheels Co.|      6505555787|5557 North Pendal...|        Nill|San Francisco|      CA|      Nill|      USA|       NA|         Murphy|           Julie|   Small|2003|\n",
      "|      10211|             41|    100.0|             14|4708.44|2004-01-15 00:00:00|Shipped|     1|       1|   2004|Motorcycles|  95|   S10_1678|    Auto Canal Petit|  (1) 47.55.6555|   25, rue Lauriston|        Nill|        Paris|    Nill|     75016|   France|     EMEA|        Perrier|       Dominique|  Medium|2004|\n",
      "|      10223|             37|    100.0|              1|3965.66|2004-02-20 00:00:00|Shipped|     1|       2|   2004|Motorcycles|  95|   S10_1678|Australian Collec...|    03 9520 4555|   636 St Kilda Road|     Level 3|    Melbourne|Victoria|      3004|Australia|     APAC|       Ferguson|           Peter|  Medium|2004|\n",
      "|      10237|             23|    100.0|              7|2333.12|2004-04-05 00:00:00|Shipped|     2|       4|   2004|Motorcycles|  95|   S10_1678|     Vitachrome Inc.|      2125551500|   2678 Kingston Rd.|   Suite 101|          NYC|      NY|     10022|      USA|       NA|          Frick|         Michael|   Small|2004|\n",
      "|      10251|             28|    100.0|              2|3188.64|2004-05-18 00:00:00|Shipped|     2|       5|   2004|Motorcycles|  95|   S10_1678|Tekni Collectable...|      2015559350|       7476 Moss Rd.|        Nill|       Newark|      NJ|     94019|      USA|       NA|          Brown|         William|  Medium|2004|\n",
      "|      10263|             34|    100.0|              2|3676.76|2004-06-28 00:00:00|Shipped|     2|       6|   2004|Motorcycles|  95|   S10_1678|     Gift Depot Inc.|      2035552570| 25593 South Bay Ln.|        Nill|  Bridgewater|      CT|     97562|      USA|       NA|           King|           Julie|  Medium|2004|\n",
      "|      10275|             45|    92.83|              1|4177.35|2004-07-23 00:00:00|Shipped|     3|       7|   2004|Motorcycles|  95|   S10_1678|   La Rochelle Gifts|      40.67.8555|67, rue des Cinqu...|        Nill|       Nantes|    Nill|     44000|   France|     EMEA|        Labrune|          Janine|  Medium|2004|\n",
      "|      10285|             36|    100.0|              6|4099.68|2004-08-27 00:00:00|Shipped|     3|       8|   2004|Motorcycles|  95|   S10_1678|Marta's Replicas Co.|      6175558555| 39323 Spinnaker Dr.|        Nill|    Cambridge|      MA|     51247|      USA|       NA|      Hernandez|           Marta|  Medium|2004|\n",
      "|      10299|             23|    100.0|              9|2597.39|2004-09-30 00:00:00|Shipped|     3|       9|   2004|Motorcycles|  95|   S10_1678|Toys of Finland, Co.|     90-224 8555|       Keskuskatu 45|        Nill|     Helsinki|    Nill|     21240|  Finland|     EMEA|      Karttunen|           Matti|   Small|2004|\n",
      "|      10309|             41|    100.0|              5|4394.38|2004-10-15 00:00:00|Shipped|     4|      10|   2004|Motorcycles|  95|   S10_1678|  Baane Mini Imports|      07-98 9555|Erling Skakkes ga...|        Nill|      Stavern|    Nill|      4110|   Norway|     EMEA|     Bergulfsen|           Jonas|  Medium|2004|\n",
      "|      10318|             46|    94.74|              1|4358.04|2004-11-02 00:00:00|Shipped|     4|      11|   2004|Motorcycles|  95|   S10_1678|Diecast Classics ...|      2155551555|    7586 Pompton St.|        Nill|    Allentown|      PA|     70267|      USA|       NA|             Yu|           Kyung|  Medium|2004|\n",
      "|      10329|             42|    100.0|              1|4396.14|2004-11-15 00:00:00|Shipped|     4|      11|   2004|Motorcycles|  95|   S10_1678|   Land of Toys Inc.|      2125557818|897 Long Airport ...|        Nill|          NYC|      NY|     10022|      USA|       NA|             Yu|            Kwai|  Medium|2004|\n",
      "+-----------+---------------+---------+---------------+-------+-------------------+-------+------+--------+-------+-----------+----+-----------+--------------------+----------------+--------------------+------------+-------------+--------+----------+---------+---------+---------------+----------------+--------+----+\n",
      "only showing top 20 rows\n",
      "\n"
     ]
    }
   ],
   "source": [
    "from pyspark.sql.functions import col\n",
    "\n",
    "quantiles = sales_df.approxQuantile(\"SALES\", [0.25, 0.75], 0.001)\n",
    "\n",
    "Q1 = quantiles[0]\n",
    "Q3 = quantiles[1]\n",
    "IQR = Q3 - Q1\n",
    "\n",
    "\n",
    "\n",
    "lower_bound = Q1 - 1.5 * IQR\n",
    "upper_bound = Q3 + 1.5 * IQR\n",
    "\n",
    "\n",
    "outliers_df = sales_df1.filter((col(\"SALES\") < lower_bound) | (col(\"SALES\") > upper_bound))\n",
    "outliers_df.show()\n",
    "\n",
    "\n",
    "handled_df = sales_df1.filter((col(\"SALES\") >= lower_bound) & (col(\"SALES\") <= upper_bound))\n",
    "\n",
    "\n",
    "handled_df.show()"
   ]
  },
  {
   "cell_type": "markdown",
   "id": "d95f55a1",
   "metadata": {},
   "source": [
    "r) How would you cache a DataFrame containing sales data from the top 10 countries by sales\n",
    "to avoid recomputation in subsequent transformations? What persistence level (e.g.\n",
    "MEMORY_ONLY, MEMORY_AND_DISK) would you choose and why?"
   ]
  },
  {
   "cell_type": "code",
   "execution_count": 106,
   "id": "3c074280",
   "metadata": {},
   "outputs": [
    {
     "name": "stdout",
     "output_type": "stream",
     "text": [
      "+---------+------------------+\n",
      "|  COUNTRY|       TOTAL_SALES|\n",
      "+---------+------------------+\n",
      "|      USA|        3627982.83|\n",
      "|    Spain|1215686.9200000009|\n",
      "|   France|1110916.5199999993|\n",
      "|Australia| 630623.1000000001|\n",
      "|       UK| 478880.4600000001|\n",
      "+---------+------------------+\n",
      "only showing top 5 rows\n",
      "\n"
     ]
    },
    {
     "data": {
      "text/plain": [
       "DataFrame[COUNTRY: string, TOTAL_SALES: double]"
      ]
     },
     "execution_count": 106,
     "metadata": {},
     "output_type": "execute_result"
    }
   ],
   "source": [
    "from pyspark.storagelevel import StorageLevel\n",
    "sales_country = sales_df1.groupBy(\"COUNTRY\").agg(sum(\"SALES\")\n",
    "                                        .alias(\"TOTAL_SALES\")).orderBy(\"TOTAL_SALES\", ascending=False).limit(10)\n",
    "sales_country.show(5)\n",
    "sales_country.cache()\n",
    "sales_country.persist(StorageLevel.MEMORY_AND_DISK)"
   ]
  },
  {
   "cell_type": "markdown",
   "id": "0447c0da",
   "metadata": {},
   "source": [
    "#### Recommended Persistence Level\n",
    "\n",
    "For caching the DataFrame of sales data from the top 10 countries, I would recommend using MEMORY_AND_DISK. This choice is suitable because:\n",
    "\n",
    "    Data Size: The DataFrame might be relatively small after filtering to the top 10 countries, so it can mostly fit in memory.\n",
    "    Resilience: If the DataFrame size grows or if you face memory constraints, it will spill to disk without recomputation.\n",
    "    Performance Balance: Provides a good balance between performance (memory access) and reliability (disk spill)."
   ]
  },
  {
   "cell_type": "markdown",
   "id": "9d613872",
   "metadata": {},
   "source": [
    "s) How would you pivot the data to show PRODUCTLINE as columns and the total SALES for\n",
    "each ORDERDATE as the values? What are the implications of pivoting large datasets in Spark?"
   ]
  },
  {
   "cell_type": "code",
   "execution_count": 141,
   "id": "9387bf4d",
   "metadata": {},
   "outputs": [
    {
     "name": "stdout",
     "output_type": "stream",
     "text": [
      "+-------------------+------------------+------------------+------------------+------------------+-------+----------------+------------+\n",
      "|          ORDERDATE|      Classic Cars|       Motorcycles|            Planes|             Ships| Trains|Trucks and Buses|Vintage Cars|\n",
      "+-------------------+------------------+------------------+------------------+------------------+-------+----------------+------------+\n",
      "|2005-03-02 00:00:00|              null|            4175.6|              null|              null|   null|            null|        null|\n",
      "|2004-11-09 00:00:00|              null|              null|              null|           6673.29|3807.68|            null|     9665.35|\n",
      "|2005-05-03 00:00:00|25040.629999999997|              null|              null|              null|   null|        27247.11|        null|\n",
      "|2003-09-11 00:00:00| 43593.54000000001|              null|              null|              null|   null|            null|     3598.22|\n",
      "|2005-04-01 00:00:00|           9661.44|              null|           9036.06|            6284.0|   null|            null|    12545.34|\n",
      "|2005-05-10 00:00:00|              null|            7567.8|30429.010000000002|              null|   null|            null|     3513.13|\n",
      "|2004-04-26 00:00:00|              null|              null|              null|              null|   null|            null|      7129.0|\n",
      "|2003-10-17 00:00:00| 40321.60999999999|              null|              null|              null|   null|            null|        null|\n",
      "|2004-09-27 00:00:00|              null|5307.9800000000005|              null|              null|   null|            null|        null|\n",
      "|2003-10-20 00:00:00|           4860.24|              null|              null|              null|   null|            null|    20424.51|\n",
      "|2004-04-09 00:00:00|          31329.56|              null|              null|              null|   null|            null|        null|\n",
      "|2005-05-06 00:00:00|           2764.88|              null|              null|23664.609999999997|5808.48|            null|    16078.92|\n",
      "|2003-02-17 00:00:00|              null|              null|39205.310000000005|           6598.34|   null|            null|    10377.67|\n",
      "|2004-12-07 00:00:00|          19489.57|10394.560000000001|              null|              null|   null|            null|        null|\n",
      "|2005-04-22 00:00:00|          40207.85|              null|              null|              null|   null|            null|    18229.19|\n",
      "|2003-12-01 00:00:00|              null|25431.879999999997|           7120.96|              null|   null|            null|      1113.6|\n",
      "|2003-01-06 00:00:00|              null|              null|              null|              null|   null|            null|    12133.25|\n",
      "|2004-05-18 00:00:00|              null|          27987.07|              null|              null|   null|            null|        null|\n",
      "|2005-01-05 00:00:00|              null|          13529.57|              null|              null|   null|            null|        null|\n",
      "|2004-11-17 00:00:00| 47423.57000000001|12786.920000000002|              null|              null|   null|            null|    37747.89|\n",
      "+-------------------+------------------+------------------+------------------+------------------+-------+----------------+------------+\n",
      "only showing top 20 rows\n",
      "\n"
     ]
    }
   ],
   "source": [
    "pivot_df = sales_df1.groupBy(\"ORDERDATE\", \"PRODUCTLINE\").agg(sum(\"SALES\").alias(\"TOTAL_SALES\"))\n",
    "pivot_df.groupBy(\"ORDERDATE\").pivot(\"PRODUCTLINE\").sum(\"TOTAL_SALES\").show()\n",
    "\n"
   ]
  },
  {
   "cell_type": "markdown",
   "id": "7a3fda4c",
   "metadata": {},
   "source": [
    "#### Implications of Pivoting Large Datasets\n",
    "\n",
    "    * Memory Usage: Pivoting reshapes data, creating many new columns for each unique pivot value, \n",
    "        which can lead to high memory consumption.\n",
    "\n",
    "    * Performance: The operation can be slow with large datasets or many unique pivot values due to \n",
    "        increased computational complexity.\n",
    "\n",
    "    * Column Explosion: A large number of unique pivot values can result in a DataFrame with many columns, \n",
    "        making it unwieldy and hard to manage.\n",
    "\n",
    "    * Data Skew: Uneven distribution of data (e.g., some dates having much more sales) can cause \n",
    "        performance issues due to uneven partitioning.\n",
    "\n",
    "    * Shuffling: Pivoting involves shuffling data across nodes, which can be expensive in \n",
    "        terms of time and resources.\n",
    "\n",
    "    * Disk I/O: If the data exceeds memory capacity, Spark will spill data to disk, \n",
    "        potentially slowing down the process."
   ]
  },
  {
   "cell_type": "markdown",
   "id": "2ceea462",
   "metadata": {},
   "source": [
    "t) How would you calculate the percentage growth of total sales month over month for each\n",
    "PRODUCTLINE using Spark DataFrame?"
   ]
  },
  {
   "cell_type": "code",
   "execution_count": 110,
   "id": "7bf20c22",
   "metadata": {},
   "outputs": [
    {
     "name": "stdout",
     "output_type": "stream",
     "text": [
      "+----+-----+-----------+------------------+--------------------+-------------------+\n",
      "|year|month|PRODUCTLINE|       total_sales|previous_month_sales|  percentage_growth|\n",
      "+----+-----+-----------+------------------+--------------------+-------------------+\n",
      "|2003|    2|Motorcycles|25783.760000000002|                null|               null|\n",
      "|2003|    3|Motorcycles|          12639.15|  25783.760000000002| -50.98019063162239|\n",
      "|2003|    4|Motorcycles|23475.590000000004|            12639.15|   85.7370946622202|\n",
      "|2003|    5|Motorcycles|          22097.32|  23475.590000000004|-5.8710771486467594|\n",
      "|2003|    6|Motorcycles|           2642.01|            22097.32| -88.04375372217082|\n",
      "|2003|    7|Motorcycles| 37924.23000000001|             2642.01|  1335.430978686682|\n",
      "|2003|    8|Motorcycles|44164.909999999996|   37924.23000000001| 16.455653812878953|\n",
      "|2003|    9|Motorcycles|           3155.58|  44164.909999999996| -92.85500638402749|\n",
      "|2003|   10|Motorcycles| 64235.65000000001|             3155.58| 1935.6210268793695|\n",
      "|2003|   11|Motorcycles|          109345.5|   64235.65000000001|  70.22556788948191|\n",
      "|2003|   12|Motorcycles|25431.879999999997|            109345.5| -76.74172233882508|\n",
      "|2004|    1|Motorcycles|          41200.52|  25431.879999999997|  62.00343820433252|\n",
      "|2004|    2|Motorcycles|           49066.5|            41200.52| 19.091943499742246|\n",
      "|2004|    4|Motorcycles| 36269.07000000001|             49066.5| -26.08180734309558|\n",
      "|2004|    5|Motorcycles|46848.950000000004|   36269.07000000001|  29.17053015144859|\n",
      "|2004|    6|Motorcycles|          47237.41|  46848.950000000004| 0.8291754671129217|\n",
      "|2004|    7|Motorcycles|           22774.0|            47237.41|-51.788211927791984|\n",
      "|2004|    8|Motorcycles|          62704.93|             22774.0|  175.3356020022833|\n",
      "|2004|    9|Motorcycles| 42471.04999999999|            62704.93| -32.26840377622623|\n",
      "|2004|   10|Motorcycles|          39413.96|   42471.04999999999|-7.1980560876173065|\n",
      "+----+-----+-----------+------------------+--------------------+-------------------+\n",
      "only showing top 20 rows\n",
      "\n"
     ]
    }
   ],
   "source": [
    "from pyspark.sql.functions import *\n",
    "from pyspark.sql.window import Window\n",
    "\n",
    "\n",
    "salesData = sales_df1.withColumn(\"year\", year(\"ORDERDATE\"))\n",
    "salesData = salesData.withColumn(\"month\", month(\"ORDERDATE\"))\n",
    "\n",
    "\n",
    "monthlySales = salesData.groupBy(\"year\", \"month\", \"PRODUCTLINE\").agg(sum(\"SALES\").alias(\"total_sales\"))\n",
    "\n",
    "windowSpec = Window.partitionBy(\"PRODUCTLINE\").orderBy(\"year\", \"month\")\n",
    "\n",
    "monthlySales = monthlySales.withColumn(\"previous_month_sales\", lag(\"total_sales\").over(windowSpec))\n",
    "\n",
    "monthlySales = monthlySales.withColumn(\n",
    "    \"percentage_growth\",\n",
    "    when(\n",
    "        col(\"previous_month_sales\").isNotNull(),\n",
    "        (col(\"total_sales\") - col(\"previous_month_sales\")) / col(\"previous_month_sales\") * 100\n",
    "    ).otherwise(lit(None))\n",
    ")\n",
    "\n",
    "monthlySales.show()\n"
   ]
  },
  {
   "cell_type": "markdown",
   "id": "9f49f50f",
   "metadata": {},
   "source": [
    "u) How can you rebalance the data by portioning based on the COUNTRY column to ensure that\n",
    "large data partitions are avoided?"
   ]
  },
  {
   "cell_type": "code",
   "execution_count": 126,
   "id": "952491bb",
   "metadata": {},
   "outputs": [
    {
     "name": "stdout",
     "output_type": "stream",
     "text": [
      "No of partitions: 19\n"
     ]
    }
   ],
   "source": [
    "unique_country_count = sales_df1.select(\"COUNTRY\").distinct().count()\n",
    "\n",
    "\n",
    "repartitioned_df = sales_df1.repartition(unique_country_count, \"COUNTRY\")\n",
    "\n",
    "\n",
    "print(f\"No of partitions: {repartitioned_df.rdd.getNumPartitions()}\")"
   ]
  },
  {
   "cell_type": "markdown",
   "id": "53fa778c",
   "metadata": {},
   "source": [
    "v) Suppose you have a smaller lookup table with customer details. How would you perform a\n",
    "broadcast join with the large sales_data_sample dataset to improve join performance? What are\n",
    "the key considerations when using broadcast joins?"
   ]
  },
  {
   "cell_type": "code",
   "execution_count": 121,
   "id": "e52790d3",
   "metadata": {},
   "outputs": [
    {
     "name": "stdout",
     "output_type": "stream",
     "text": [
      "+-----------+---------------+---------+---------------+-------+-------------------+---------+------+--------+-------+------------+----+-----------+------------------+----------------+--------------------+------------+-----+-----+----------+-------+---------+---------------+----------------+--------+----+--------+-----------+------------------+-------+\n",
      "|ORDERNUMBER|QUANTITYORDERED|PRICEEACH|ORDERLINENUMBER|  SALES|          ORDERDATE|   STATUS|QTR_ID|MONTH_ID|YEAR_ID| PRODUCTLINE|MSRP|PRODUCTCODE|      CUSTOMERNAME|           PHONE|        ADDRESSLINE1|ADDRESSLINE2| CITY|STATE|POSTALCODE|COUNTRY|TERRITORY|CONTACTLASTNAME|CONTACTFIRSTNAME|DEALSIZE|YEAR|CATEGORY|customer_id|              name|country|\n",
      "+-----------+---------------+---------+---------------+-------+-------------------+---------+------+--------+-------+------------+----+-----------+------------------+----------------+--------------------+------------+-----+-----+----------+-------+---------+---------------+----------------+--------+----+--------+-----------+------------------+-------+\n",
      "|      10107|             30|     95.7|              2| 2871.0|2003-02-24 00:00:00|  Shipped|     1|       2|   2003| Motorcycles|  95|   S10_1678| Land of Toys Inc.|      2125557818|897 Long Airport ...|        Nill|  NYC|   NY|     10022|    USA|       NA|             Yu|            Kwai|   Small|2003|  Medium|          1| Land of Toys Inc.|    USA|\n",
      "|      10121|             34|    81.35|              5| 2765.9|2003-05-07 00:00:00|  Shipped|     2|       5|   2003| Motorcycles|  95|   S10_1678|Reims Collectables|      26.47.1555|  59 rue de l'Abbaye|        Nill|Reims| Nill|     51100| France|     EMEA|        Henriot|            Paul|   Small|2003|  Medium|          2|Reims Collectables| Canada|\n",
      "|      10134|             41|    94.74|              2|3884.34|2003-07-01 00:00:00|  Shipped|     3|       7|   2003| Motorcycles|  95|   S10_1678|   Lyon Souveniers|+33 1 46 62 7555|27 rue du Colonel...|        Nill|Paris| Nill|     75508| France|     EMEA|       Da Cunha|          Daniel|  Medium|2003|  Medium|          3|   Lyon Souveniers| Mexico|\n",
      "|      10329|             42|    100.0|              1|4396.14|2004-11-15 00:00:00|  Shipped|     4|      11|   2004| Motorcycles|  95|   S10_1678| Land of Toys Inc.|      2125557818|897 Long Airport ...|        Nill|  NYC|   NY|     10022|    USA|       NA|             Yu|            Kwai|  Medium|2004|    High|          1| Land of Toys Inc.|    USA|\n",
      "|      10107|             39|    99.91|              5|3896.49|2003-02-24 00:00:00|  Shipped|     1|       2|   2003| Motorcycles| 118|   S10_2016| Land of Toys Inc.|      2125557818|897 Long Airport ...|        Nill|  NYC|   NY|     10022|    USA|       NA|             Yu|            Kwai|  Medium|2003|  Medium|          1| Land of Toys Inc.|    USA|\n",
      "|      10134|             27|    100.0|              5|3307.77|2003-07-01 00:00:00|  Shipped|     3|       7|   2003| Motorcycles| 118|   S10_2016|   Lyon Souveniers|+33 1 46 62 7555|27 rue du Colonel...|        Nill|Paris| Nill|     75508| France|     EMEA|       Da Cunha|          Daniel|  Medium|2003|  Medium|          3|   Lyon Souveniers| Mexico|\n",
      "|      10329|             20|    100.0|              2| 3176.0|2004-11-15 00:00:00|  Shipped|     4|      11|   2004| Motorcycles| 118|   S10_2016| Land of Toys Inc.|      2125557818|897 Long Airport ...|        Nill|  NYC|   NY|     10022|    USA|       NA|             Yu|            Kwai|  Medium|2004|  Medium|          1| Land of Toys Inc.|    USA|\n",
      "|      10107|             27|    100.0|              4|6065.55|2003-02-24 00:00:00|  Shipped|     1|       2|   2003| Motorcycles| 193|   S10_4698| Land of Toys Inc.|      2125557818|897 Long Airport ...|        Nill|  NYC|   NY|     10022|    USA|       NA|             Yu|            Kwai|  Medium|2003|    High|          1| Land of Toys Inc.|    USA|\n",
      "|      10134|             31|    100.0|              4|7023.98|2003-07-01 00:00:00|  Shipped|     3|       7|   2003| Motorcycles| 193|   S10_4698|   Lyon Souveniers|+33 1 46 62 7555|27 rue du Colonel...|        Nill|Paris| Nill|     75508| France|     EMEA|       Da Cunha|          Daniel|   Large|2003|    High|          3|   Lyon Souveniers| Mexico|\n",
      "|      10329|             26|    100.0|              3| 5868.2|2004-11-15 00:00:00|  Shipped|     4|      11|   2004| Motorcycles| 193|   S10_4698| Land of Toys Inc.|      2125557818|897 Long Airport ...|        Nill|  NYC|   NY|     10022|    USA|       NA|             Yu|            Kwai|  Medium|2004|    High|          1| Land of Toys Inc.|    USA|\n",
      "|      10248|             20|    100.0|              3| 2910.4|2004-05-07 00:00:00|Cancelled|     2|       5|   2004|Classic Cars| 136|   S10_4757| Land of Toys Inc.|      2125557818|897 Long Airport ...|        Nill|  NYC|   NY|     10022|    USA|       NA|             Yu|            Kwai|   Small|2004|  Medium|          1| Land of Toys Inc.|    USA|\n",
      "|      10359|             48|    54.68|              6|2624.64|2004-12-15 00:00:00|  Shipped|     4|      12|   2004|Classic Cars| 136|   S10_4757|Reims Collectables|      26.47.1555|  59 rue de l'Abbaye|        Nill|Reims| Nill|     51100| France|     EMEA|        Henriot|            Paul|   Small|2004|  Medium|          2|Reims Collectables| Canada|\n",
      "|      10395|             32|    100.0|              2|3370.56|2005-03-17 00:00:00|  Shipped|     1|       3|   2005|Classic Cars| 136|   S10_4757|   Lyon Souveniers|+33 1 46 62 7555|27 rue du Colonel...|        Nill|Paris| Nill|     75508| France|     EMEA|       Da Cunha|          Daniel|  Medium|2005|  Medium|          3|   Lyon Souveniers| Mexico|\n",
      "|      10329|             41|    71.47|              5|2930.27|2004-11-15 00:00:00|  Shipped|     4|      11|   2004|Classic Cars| 194|   S12_1099| Land of Toys Inc.|      2125557818|897 Long Airport ...|        Nill|  NYC|   NY|     10022|    USA|       NA|             Yu|            Kwai|   Small|2004|  Medium|          1| Land of Toys Inc.|    USA|\n",
      "|      10359|             42|    100.0|              8|4764.48|2004-12-15 00:00:00|  Shipped|     4|      12|   2004|Classic Cars| 207|   S12_1108|Reims Collectables|      26.47.1555|  59 rue de l'Abbaye|        Nill|Reims| Nill|     51100| France|     EMEA|        Henriot|            Paul|  Medium|2004|    High|          2|Reims Collectables| Canada|\n",
      "|      10395|             33|    69.12|              1|2280.96|2005-03-17 00:00:00|  Shipped|     1|       3|   2005|Classic Cars| 207|   S12_1108|   Lyon Souveniers|+33 1 46 62 7555|27 rue du Colonel...|        Nill|Paris| Nill|     75508| France|     EMEA|       Da Cunha|          Daniel|   Small|2005|     Low|          3|   Lyon Souveniers| Mexico|\n",
      "|      10107|             21|    100.0|              1| 3036.6|2003-02-24 00:00:00|  Shipped|     1|       2|   2003| Motorcycles| 150|   S12_2823| Land of Toys Inc.|      2125557818|897 Long Airport ...|        Nill|  NYC|   NY|     10022|    USA|       NA|             Yu|            Kwai|  Medium|2003|  Medium|          1| Land of Toys Inc.|    USA|\n",
      "|      10121|             50|    100.0|              4| 8284.0|2003-05-07 00:00:00|  Shipped|     2|       5|   2003| Motorcycles| 150|   S12_2823|Reims Collectables|      26.47.1555|  59 rue de l'Abbaye|        Nill|Reims| Nill|     51100| France|     EMEA|        Henriot|            Paul|   Large|2003|    High|          2|Reims Collectables| Canada|\n",
      "|      10134|             20|    100.0|              1| 2711.2|2003-07-01 00:00:00|  Shipped|     3|       7|   2003| Motorcycles| 150|   S12_2823|   Lyon Souveniers|+33 1 46 62 7555|27 rue du Colonel...|        Nill|Paris| Nill|     75508| France|     EMEA|       Da Cunha|          Daniel|   Small|2003|  Medium|          3|   Lyon Souveniers| Mexico|\n",
      "|      10329|             24|    100.0|              6|3542.64|2004-11-15 00:00:00|  Shipped|     4|      11|   2004| Motorcycles| 150|   S12_2823| Land of Toys Inc.|      2125557818|897 Long Airport ...|        Nill|  NYC|   NY|     10022|    USA|       NA|             Yu|            Kwai|  Medium|2004|  Medium|          1| Land of Toys Inc.|    USA|\n",
      "+-----------+---------------+---------+---------------+-------+-------------------+---------+------+--------+-------+------------+----+-----------+------------------+----------------+--------------------+------------+-----+-----+----------+-------+---------+---------------+----------------+--------+----+--------+-----------+------------------+-------+\n",
      "only showing top 20 rows\n",
      "\n"
     ]
    }
   ],
   "source": [
    "\n",
    "# Example data for customer details\n",
    "customer_data = [\n",
    "    (1, \"Land of Toys Inc.\", \"USA\"),\n",
    "    (2, \"Reims Collectables\", \"Canada\"),\n",
    "    (3, \"Lyon Souveniers\", \"Mexico\")\n",
    "]\n",
    "\n",
    "customer_columns = [\"customer_id\", \"name\", \"country\"]\n",
    "\n",
    "customer_details = spark.createDataFrame(customer_data, customer_columns)\n",
    "\n",
    "from pyspark.sql.functions import broadcast\n",
    "\n",
    "\n",
    "broadcast_customer_details = broadcast(customer_details)\n",
    "\n",
    "\n",
    "joined_df = sales_df1.join(broadcast_customer_details, \n",
    "                                   sales_df1[\"CUSTOMERNAME\"] == broadcast_customer_details[\"name\"])\n",
    "\n",
    "\n",
    "joined_df.show()\n",
    "\n"
   ]
  },
  {
   "cell_type": "markdown",
   "id": "91215672",
   "metadata": {},
   "source": [
    "w) Create a UDF that categorizes the sales values (SALES) into custom buckets like “Low”,\n",
    "“Medium”, “High”. Apply this UDF to the DataFrame and calculate the count of orders in each\n",
    "category per COUNTRY."
   ]
  },
  {
   "cell_type": "code",
   "execution_count": 122,
   "id": "59568265",
   "metadata": {},
   "outputs": [
    {
     "name": "stdout",
     "output_type": "stream",
     "text": [
      "+-----------+--------------+-----+\n",
      "|    COUNTRY|SALES_CATEGORY|count|\n",
      "+-----------+--------------+-----+\n",
      "|Philippines|           Low|    7|\n",
      "|     Norway|        Medium|   22|\n",
      "|        USA|           Low|  319|\n",
      "|    Austria|           Low|   17|\n",
      "|    Denmark|           Low|   18|\n",
      "|     Canada|          High|   18|\n",
      "|     Canada|        Medium|   24|\n",
      "|     Canada|           Low|   28|\n",
      "|      Italy|          High|   32|\n",
      "|Switzerland|        Medium|   12|\n",
      "|    Ireland|          High|    8|\n",
      "|    Ireland|           Low|    7|\n",
      "|Philippines|          High|    9|\n",
      "|  Australia|          High|   57|\n",
      "|  Singapore|           Low|   28|\n",
      "|    Finland|        Medium|   34|\n",
      "|     Norway|          High|   33|\n",
      "|        USA|        Medium|  338|\n",
      "|      Italy|           Low|   38|\n",
      "|        USA|          High|  347|\n",
      "+-----------+--------------+-----+\n",
      "only showing top 20 rows\n",
      "\n"
     ]
    }
   ],
   "source": [
    "from pyspark.sql.functions import udf\n",
    "from pyspark.sql.types import StringType\n",
    "\n",
    "def categorize_sales(ntile):\n",
    "    if ntile == 1:\n",
    "        return \"Low\"\n",
    "    elif ntile == 2:\n",
    "        return \"Medium\"\n",
    "    else:\n",
    "        return \"High\"\n",
    "\n",
    "categorize_sales_udf = udf(categorize_sales, StringType())\n",
    "window_spec = Window.orderBy(col(\"SALES\"))\n",
    "sales_df2 =sales_df2.withColumn(\"NTILE\", ntile(3).over(window_spec))\n",
    "df_categorized = sales_df2.withColumn('SALES_CATEGORY', categorize_sales_udf(col('NTILE')))\n",
    "df_categorized.groupBy('COUNTRY', 'SALES_CATEGORY').count().show()"
   ]
  },
  {
   "cell_type": "markdown",
   "id": "0a0f99c8",
   "metadata": {},
   "source": [
    "x) Create a Python UDF to calculate discounts for specific product lines. For example, give a\n",
    "10% discount for Classic Cars and 5% for Motorcycles. Apply this UDF to derive new discounted\n",
    "sales values."
   ]
  },
  {
   "cell_type": "code",
   "execution_count": 124,
   "id": "eab66602",
   "metadata": {},
   "outputs": [
    {
     "name": "stdout",
     "output_type": "stream",
     "text": [
      "+-----------+-------+--------------+\n",
      "|PRODUCTLINE|  SALES|DISCOUNT_SALES|\n",
      "+-----------+-------+--------------+\n",
      "|Motorcycles| 2871.0|       2727.45|\n",
      "|Motorcycles| 2765.9|      2627.605|\n",
      "|Motorcycles|3884.34|      3690.123|\n",
      "|Motorcycles| 3746.7|      3559.365|\n",
      "|Motorcycles|5205.27|     4945.0063|\n",
      "|Motorcycles|3479.76|      3305.772|\n",
      "|Motorcycles|2497.77|     2372.8816|\n",
      "|Motorcycles|5512.32|      5236.704|\n",
      "|Motorcycles|2168.54|      2060.113|\n",
      "|Motorcycles|4708.44|      4473.018|\n",
      "|Motorcycles|3965.66|      3767.377|\n",
      "|Motorcycles|2333.12|      2216.464|\n",
      "|Motorcycles|3188.64|      3029.208|\n",
      "|Motorcycles|3676.76|      3492.922|\n",
      "|Motorcycles|4177.35|     3968.4824|\n",
      "|Motorcycles|4099.68|      3894.696|\n",
      "|Motorcycles|2597.39|     2467.5205|\n",
      "|Motorcycles|4394.38|      4174.661|\n",
      "|Motorcycles|4358.04|      4140.138|\n",
      "|Motorcycles|4396.14|      4176.333|\n",
      "+-----------+-------+--------------+\n",
      "only showing top 20 rows\n",
      "\n"
     ]
    }
   ],
   "source": [
    "from pyspark.sql.functions import udf, col\n",
    "from pyspark.sql.types import FloatType\n",
    "\n",
    "\n",
    "def calculate_discounted_sales(product_line, sales):\n",
    "    if product_line == 'Classic Cars':\n",
    "        discount = 0.10\n",
    "    elif product_line == 'Motorcycles':\n",
    "        discount = 0.05\n",
    "    else:\n",
    "        discount = 0.0\n",
    "    return float(sales * (1 - discount))\n",
    "\n",
    "\n",
    "calculate_discounted_sales_udf = udf(calculate_discounted_sales, FloatType())\n",
    "\n",
    "\n",
    "sales_df2 = sales_df2.withColumn(\n",
    "    'DISCOUNT_SALES',\n",
    "    calculate_discounted_sales_udf(col('PRODUCTLINE'), col('SALES'))\n",
    ")\n",
    "\n",
    "\n",
    "sales_df2.select(col('PRODUCTLINE'), col('SALES'), col('DISCOUNT_SALES')).show()\n"
   ]
  },
  {
   "cell_type": "markdown",
   "id": "83038145",
   "metadata": {},
   "source": [
    "z) How do you implement a cumulative distribution function (CDF) over the SALES value for\n",
    "each CUSTOMERNAME? What insights can you gather from analyzing the CDF distribution for\n",
    "each customer?"
   ]
  },
  {
   "cell_type": "code",
   "execution_count": 142,
   "id": "cc1b4168",
   "metadata": {},
   "outputs": [
    {
     "name": "stdout",
     "output_type": "stream",
     "text": [
      "+-------------------+-------+--------------------+\n",
      "|       CUSTOMERNAME|  SALES|                 CDF|\n",
      "+-------------------+-------+--------------------+\n",
      "|Suominen Souveniers| 891.03| 0.03333333333333333|\n",
      "|Suominen Souveniers| 1086.6| 0.06666666666666667|\n",
      "|Suominen Souveniers|1103.76|                 0.1|\n",
      "|Suominen Souveniers|1629.04| 0.13333333333333333|\n",
      "|Suominen Souveniers| 1988.4| 0.16666666666666666|\n",
      "|Suominen Souveniers|2140.11|                 0.2|\n",
      "|Suominen Souveniers|2447.76| 0.23333333333333334|\n",
      "|Suominen Souveniers|2632.89| 0.26666666666666666|\n",
      "|Suominen Souveniers| 2773.8|                 0.3|\n",
      "|Suominen Souveniers|2775.08|  0.3333333333333333|\n",
      "|Suominen Souveniers|2817.87| 0.36666666666666664|\n",
      "|Suominen Souveniers|2851.84|                 0.4|\n",
      "|Suominen Souveniers|2931.98| 0.43333333333333335|\n",
      "|Suominen Souveniers|3128.65|  0.4666666666666667|\n",
      "|Suominen Souveniers|3288.82|                 0.5|\n",
      "|Suominen Souveniers|3595.62|  0.5333333333333333|\n",
      "|Suominen Souveniers|3686.54|  0.5666666666666667|\n",
      "|Suominen Souveniers| 3784.8|                 0.6|\n",
      "|Suominen Souveniers| 4068.7|  0.6333333333333333|\n",
      "|Suominen Souveniers|4142.64|  0.6666666666666666|\n",
      "|Suominen Souveniers|4157.73|                 0.7|\n",
      "|Suominen Souveniers|4381.25|  0.7333333333333333|\n",
      "|Suominen Souveniers| 4836.5|  0.7666666666666667|\n",
      "|Suominen Souveniers|5154.41|                 0.8|\n",
      "|Suominen Souveniers|5500.44|  0.8333333333333334|\n",
      "|Suominen Souveniers|5938.53|  0.8666666666666667|\n",
      "|Suominen Souveniers|6287.66|                 0.9|\n",
      "|Suominen Souveniers| 6576.5|  0.9333333333333333|\n",
      "|Suominen Souveniers| 6756.0|  0.9666666666666667|\n",
      "|Suominen Souveniers|10606.2|                 1.0|\n",
      "| Amica Models & Co.|  577.6|0.038461538461538464|\n",
      "| Amica Models & Co.|1381.05| 0.07692307692307693|\n",
      "| Amica Models & Co.|1557.36| 0.11538461538461539|\n",
      "| Amica Models & Co.| 1574.0| 0.15384615384615385|\n",
      "| Amica Models & Co.|1656.69| 0.19230769230769232|\n",
      "| Amica Models & Co.|1921.92| 0.23076923076923078|\n",
      "| Amica Models & Co.|2084.81|  0.2692307692307692|\n",
      "| Amica Models & Co.|2137.05|  0.3076923076923077|\n",
      "| Amica Models & Co.|2418.24| 0.34615384615384615|\n",
      "| Amica Models & Co.|2800.08| 0.38461538461538464|\n",
      "| Amica Models & Co.|2819.28|  0.4230769230769231|\n",
      "| Amica Models & Co.|2941.89| 0.46153846153846156|\n",
      "| Amica Models & Co.|2954.53|                 0.5|\n",
      "| Amica Models & Co.|3006.43|  0.5384615384615384|\n",
      "| Amica Models & Co.|3474.46|  0.5769230769230769|\n",
      "| Amica Models & Co.| 3668.6|  0.6153846153846154|\n",
      "| Amica Models & Co.|3704.05|  0.6538461538461539|\n",
      "| Amica Models & Co.|4242.24|  0.6923076923076923|\n",
      "| Amica Models & Co.| 4455.0|  0.7307692307692307|\n",
      "| Amica Models & Co.| 4750.8|  0.7692307692307693|\n",
      "+-------------------+-------+--------------------+\n",
      "only showing top 50 rows\n",
      "\n"
     ]
    }
   ],
   "source": [
    "window_spec = Window.partitionBy('CUSTOMERNAME').orderBy('SALES')\n",
    "df_with_rank = sales_df1.withColumn('rank', row_number().over(window_spec))\n",
    "df_with_count = df_with_rank.withColumn('total_count', count('SALES').over(Window.partitionBy('CUSTOMERNAME')))\n",
    "df_cdf = df_with_count.withColumn('CDF', col('rank') / col('total_count'))\n",
    "df_cdf = df_cdf.select('CUSTOMERNAME', 'SALES', 'CDF').show(50)"
   ]
  },
  {
   "cell_type": "markdown",
   "id": "e1c6490d",
   "metadata": {},
   "source": [
    "Insights\n",
    "\n",
    "    * CDF values show how sales are distributed within each customer group.\n",
    "    * Sales Concentration for a customer like \"Suominen Souveniers,\" we can see that a significant portion of the total sales is concentrated at higher values.\n",
    "    * For example, 0.7 CDF corresponds to a sales value of 4381.25, meaning that 70% of the sales data falls below this amount.\n",
    "\n"
   ]
  },
  {
   "cell_type": "code",
   "execution_count": 95,
   "id": "ff97fe2c",
   "metadata": {},
   "outputs": [
    {
     "name": "stdout",
     "output_type": "stream",
     "text": [
      "root\n",
      " |-- ORDERNUMBER: integer (nullable = true)\n",
      " |-- QUANTITYORDERED: integer (nullable = true)\n",
      " |-- PRICEEACH: double (nullable = true)\n",
      " |-- ORDERLINENUMBER: integer (nullable = true)\n",
      " |-- SALES: double (nullable = true)\n",
      " |-- ORDERDATE: timestamp (nullable = true)\n",
      " |-- STATUS: string (nullable = false)\n",
      " |-- QTR_ID: integer (nullable = true)\n",
      " |-- MONTH_ID: integer (nullable = true)\n",
      " |-- YEAR_ID: integer (nullable = true)\n",
      " |-- PRODUCTLINE: string (nullable = false)\n",
      " |-- MSRP: integer (nullable = true)\n",
      " |-- PRODUCTCODE: string (nullable = false)\n",
      " |-- CUSTOMERNAME: string (nullable = false)\n",
      " |-- PHONE: string (nullable = false)\n",
      " |-- ADDRESSLINE1: string (nullable = false)\n",
      " |-- ADDRESSLINE2: string (nullable = false)\n",
      " |-- CITY: string (nullable = false)\n",
      " |-- STATE: string (nullable = false)\n",
      " |-- POSTALCODE: string (nullable = false)\n",
      " |-- COUNTRY: string (nullable = false)\n",
      " |-- TERRITORY: string (nullable = false)\n",
      " |-- CONTACTLASTNAME: string (nullable = false)\n",
      " |-- CONTACTFIRSTNAME: string (nullable = false)\n",
      " |-- DEALSIZE: string (nullable = false)\n",
      " |-- YEAR: integer (nullable = true)\n",
      " |-- CATEGORY: string (nullable = false)\n",
      "\n"
     ]
    }
   ],
   "source": [
    "sales_df1.printSchema()"
   ]
  },
  {
   "cell_type": "code",
   "execution_count": 96,
   "id": "270fb475",
   "metadata": {},
   "outputs": [
    {
     "name": "stdout",
     "output_type": "stream",
     "text": [
      "+-----------+---------------+---------+---------------+-------+-------------------+-------+------+--------+-------+-----------+----+-----------+--------------------+----------------+--------------------+------------+-------------+-----+----------+-------+---------+---------------+----------------+--------+----+--------+\n",
      "|ORDERNUMBER|QUANTITYORDERED|PRICEEACH|ORDERLINENUMBER|  SALES|          ORDERDATE| STATUS|QTR_ID|MONTH_ID|YEAR_ID|PRODUCTLINE|MSRP|PRODUCTCODE|        CUSTOMERNAME|           PHONE|        ADDRESSLINE1|ADDRESSLINE2|         CITY|STATE|POSTALCODE|COUNTRY|TERRITORY|CONTACTLASTNAME|CONTACTFIRSTNAME|DEALSIZE|YEAR|CATEGORY|\n",
      "+-----------+---------------+---------+---------------+-------+-------------------+-------+------+--------+-------+-----------+----+-----------+--------------------+----------------+--------------------+------------+-------------+-----+----------+-------+---------+---------------+----------------+--------+----+--------+\n",
      "|      10107|             30|     95.7|              2| 2871.0|2003-02-24 00:00:00|Shipped|     1|       2|   2003|Motorcycles|  95|   S10_1678|   Land of Toys Inc.|      2125557818|897 Long Airport ...|        Nill|          NYC|   NY|     10022|    USA|       NA|             Yu|            Kwai|   Small|2003|  Medium|\n",
      "|      10121|             34|    81.35|              5| 2765.9|2003-05-07 00:00:00|Shipped|     2|       5|   2003|Motorcycles|  95|   S10_1678|  Reims Collectables|      26.47.1555|  59 rue de l'Abbaye|        Nill|        Reims| Nill|     51100| France|     EMEA|        Henriot|            Paul|   Small|2003|  Medium|\n",
      "|      10134|             41|    94.74|              2|3884.34|2003-07-01 00:00:00|Shipped|     3|       7|   2003|Motorcycles|  95|   S10_1678|     Lyon Souveniers|+33 1 46 62 7555|27 rue du Colonel...|        Nill|        Paris| Nill|     75508| France|     EMEA|       Da Cunha|          Daniel|  Medium|2003|  Medium|\n",
      "|      10145|             45|    83.26|              6| 3746.7|2003-08-25 00:00:00|Shipped|     3|       8|   2003|Motorcycles|  95|   S10_1678|   Toys4GrownUps.com|      6265557265|  78934 Hillside Dr.|        Nill|     Pasadena|   CA|     90003|    USA|       NA|          Young|           Julie|  Medium|2003|  Medium|\n",
      "|      10159|             49|    100.0|             14|5205.27|2003-10-10 00:00:00|Shipped|     4|      10|   2003|Motorcycles|  95|   S10_1678|Corporate Gift Id...|      6505551386|     7734 Strong St.|        Nill|San Francisco|   CA|      Nill|    USA|       NA|          Brown|           Julie|  Medium|2003|    High|\n",
      "|      10168|             36|    96.66|              1|3479.76|2003-10-28 00:00:00|Shipped|     4|      10|   2003|Motorcycles|  95|   S10_1678|Technics Stores Inc.|      6505556809|   9408 Furth Circle|        Nill|   Burlingame|   CA|     94217|    USA|       NA|         Hirano|            Juri|  Medium|2003|  Medium|\n",
      "|      10180|             29|    86.13|              9|2497.77|2003-11-11 00:00:00|Shipped|     4|      11|   2003|Motorcycles|  95|   S10_1678|Daedalus Designs ...|      20.16.1555|184, chausse de T...|        Nill|        Lille| Nill|     59000| France|     EMEA|          Rance|         Martine|   Small|2003|     Low|\n",
      "|      10188|             48|    100.0|              1|5512.32|2003-11-18 00:00:00|Shipped|     4|      11|   2003|Motorcycles|  95|   S10_1678|        Herkku Gifts|   +47 2267 3215|Drammen 121, PR 7...|        Nill|       Bergen| Nill|    N 5804| Norway|     EMEA|         Oeztan|          Veysel|  Medium|2003|    High|\n",
      "|      10201|             22|    98.57|              2|2168.54|2003-12-01 00:00:00|Shipped|     4|      12|   2003|Motorcycles|  95|   S10_1678|     Mini Wheels Co.|      6505555787|5557 North Pendal...|        Nill|San Francisco|   CA|      Nill|    USA|       NA|         Murphy|           Julie|   Small|2003|     Low|\n",
      "|      10211|             41|    100.0|             14|4708.44|2004-01-15 00:00:00|Shipped|     1|       1|   2004|Motorcycles|  95|   S10_1678|    Auto Canal Petit|  (1) 47.55.6555|   25, rue Lauriston|        Nill|        Paris| Nill|     75016| France|     EMEA|        Perrier|       Dominique|  Medium|2004|    High|\n",
      "+-----------+---------------+---------+---------------+-------+-------------------+-------+------+--------+-------+-----------+----+-----------+--------------------+----------------+--------------------+------------+-------------+-----+----------+-------+---------+---------------+----------------+--------+----+--------+\n",
      "only showing top 10 rows\n",
      "\n"
     ]
    }
   ],
   "source": [
    "sales_df1.show(10)"
   ]
  },
  {
   "cell_type": "code",
   "execution_count": null,
   "id": "4e8cbd89",
   "metadata": {},
   "outputs": [],
   "source": []
  }
 ],
 "metadata": {
  "kernelspec": {
   "display_name": "Python 3",
   "language": "python",
   "name": "python3"
  },
  "language_info": {
   "codemirror_mode": {
    "name": "ipython",
    "version": 3
   },
   "file_extension": ".py",
   "mimetype": "text/x-python",
   "name": "python",
   "nbconvert_exporter": "python",
   "pygments_lexer": "ipython3",
   "version": "3.6.9"
  }
 },
 "nbformat": 4,
 "nbformat_minor": 5
}
